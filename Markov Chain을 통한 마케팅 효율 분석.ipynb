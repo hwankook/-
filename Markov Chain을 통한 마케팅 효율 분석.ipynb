{
 "cells": [
  {
   "cell_type": "code",
   "execution_count": 1,
   "metadata": {},
   "outputs": [],
   "source": [
    "import pandas as pd\n",
    "import numpy as np\n",
    "import seaborn as sns\n",
    "import matplotlib.pyplot as plt\n",
    "from collections import defaultdict"
   ]
  },
  {
   "cell_type": "markdown",
   "metadata": {
    "id": "gUZOPe7Uz13_"
   },
   "source": [
    "## 데이터 살펴보기"
   ]
  },
  {
   "cell_type": "markdown",
   "metadata": {
    "id": "4E64CScj0AdJ"
   },
   "source": [
    "* Cookie: Randomly generated customer id enabling us to tie subsequent visits back to the same customer\n",
    "* Timestamp: Date and time when the visit took place\n",
    "* Interaction: Categorical variable indicating the type of interaction that took place\n",
    "* Conversion: Boolean variable indicating whether a conversion took place\n",
    "* Conversion Value: Value of the potential conversion event\n",
    "* Channel: The marketing channel that brought the customer to our site\n"
   ]
  },
  {
   "cell_type": "code",
   "execution_count": 4,
   "metadata": {},
   "outputs": [
    {
     "data": {
      "text/html": [
       "<div>\n",
       "<style scoped>\n",
       "    .dataframe tbody tr th:only-of-type {\n",
       "        vertical-align: middle;\n",
       "    }\n",
       "\n",
       "    .dataframe tbody tr th {\n",
       "        vertical-align: top;\n",
       "    }\n",
       "\n",
       "    .dataframe thead th {\n",
       "        text-align: right;\n",
       "    }\n",
       "</style>\n",
       "<table border=\"1\" class=\"dataframe\">\n",
       "  <thead>\n",
       "    <tr style=\"text-align: right;\">\n",
       "      <th></th>\n",
       "      <th>cookie</th>\n",
       "      <th>time</th>\n",
       "      <th>interaction</th>\n",
       "      <th>conversion</th>\n",
       "      <th>conversion_value</th>\n",
       "      <th>channel</th>\n",
       "    </tr>\n",
       "  </thead>\n",
       "  <tbody>\n",
       "    <tr>\n",
       "      <th>0</th>\n",
       "      <td>00000FkCnDfDDf0iC97iC703B</td>\n",
       "      <td>2018-07-03T13:02:11Z</td>\n",
       "      <td>impression</td>\n",
       "      <td>0</td>\n",
       "      <td>0.0</td>\n",
       "      <td>Instagram</td>\n",
       "    </tr>\n",
       "    <tr>\n",
       "      <th>1</th>\n",
       "      <td>00000FkCnDfDDf0iC97iC703B</td>\n",
       "      <td>2018-07-17T19:15:07Z</td>\n",
       "      <td>impression</td>\n",
       "      <td>0</td>\n",
       "      <td>0.0</td>\n",
       "      <td>Online Display</td>\n",
       "    </tr>\n",
       "    <tr>\n",
       "      <th>2</th>\n",
       "      <td>00000FkCnDfDDf0iC97iC703B</td>\n",
       "      <td>2018-07-24T15:51:46Z</td>\n",
       "      <td>impression</td>\n",
       "      <td>0</td>\n",
       "      <td>0.0</td>\n",
       "      <td>Online Display</td>\n",
       "    </tr>\n",
       "    <tr>\n",
       "      <th>3</th>\n",
       "      <td>00000FkCnDfDDf0iC97iC703B</td>\n",
       "      <td>2018-07-29T07:44:51Z</td>\n",
       "      <td>impression</td>\n",
       "      <td>0</td>\n",
       "      <td>0.0</td>\n",
       "      <td>Online Display</td>\n",
       "    </tr>\n",
       "    <tr>\n",
       "      <th>4</th>\n",
       "      <td>0000nACkD9nFkBBDECD3ki00E</td>\n",
       "      <td>2018-07-03T09:44:57Z</td>\n",
       "      <td>impression</td>\n",
       "      <td>0</td>\n",
       "      <td>0.0</td>\n",
       "      <td>Paid Search</td>\n",
       "    </tr>\n",
       "    <tr>\n",
       "      <th>...</th>\n",
       "      <td>...</td>\n",
       "      <td>...</td>\n",
       "      <td>...</td>\n",
       "      <td>...</td>\n",
       "      <td>...</td>\n",
       "      <td>...</td>\n",
       "    </tr>\n",
       "    <tr>\n",
       "      <th>586732</th>\n",
       "      <td>ooooEiB0CCoEf9fiiC90Dfhfk</td>\n",
       "      <td>2018-07-12T23:50:45Z</td>\n",
       "      <td>impression</td>\n",
       "      <td>0</td>\n",
       "      <td>0.0</td>\n",
       "      <td>Online Display</td>\n",
       "    </tr>\n",
       "    <tr>\n",
       "      <th>586733</th>\n",
       "      <td>ooooEiB0CCoEf9fiiC90Dfhfk</td>\n",
       "      <td>2018-07-12T23:50:54Z</td>\n",
       "      <td>impression</td>\n",
       "      <td>0</td>\n",
       "      <td>0.0</td>\n",
       "      <td>Online Display</td>\n",
       "    </tr>\n",
       "    <tr>\n",
       "      <th>586734</th>\n",
       "      <td>ooooiBh70D3k3BfAhDFfii9h7</td>\n",
       "      <td>2018-07-03T12:57:25Z</td>\n",
       "      <td>impression</td>\n",
       "      <td>0</td>\n",
       "      <td>0.0</td>\n",
       "      <td>Paid Search</td>\n",
       "    </tr>\n",
       "    <tr>\n",
       "      <th>586735</th>\n",
       "      <td>ooooiBh70D3k3BfAhDFfii9h7</td>\n",
       "      <td>2018-07-19T08:17:59Z</td>\n",
       "      <td>impression</td>\n",
       "      <td>0</td>\n",
       "      <td>0.0</td>\n",
       "      <td>Online Video</td>\n",
       "    </tr>\n",
       "    <tr>\n",
       "      <th>586736</th>\n",
       "      <td>ooooohAFofEnonEikhAi3fF9o</td>\n",
       "      <td>2018-07-14T17:17:12Z</td>\n",
       "      <td>impression</td>\n",
       "      <td>0</td>\n",
       "      <td>0.0</td>\n",
       "      <td>Paid Search</td>\n",
       "    </tr>\n",
       "  </tbody>\n",
       "</table>\n",
       "<p>586737 rows × 6 columns</p>\n",
       "</div>"
      ],
      "text/plain": [
       "                           cookie                  time interaction  \\\n",
       "0       00000FkCnDfDDf0iC97iC703B  2018-07-03T13:02:11Z  impression   \n",
       "1       00000FkCnDfDDf0iC97iC703B  2018-07-17T19:15:07Z  impression   \n",
       "2       00000FkCnDfDDf0iC97iC703B  2018-07-24T15:51:46Z  impression   \n",
       "3       00000FkCnDfDDf0iC97iC703B  2018-07-29T07:44:51Z  impression   \n",
       "4       0000nACkD9nFkBBDECD3ki00E  2018-07-03T09:44:57Z  impression   \n",
       "...                           ...                   ...         ...   \n",
       "586732  ooooEiB0CCoEf9fiiC90Dfhfk  2018-07-12T23:50:45Z  impression   \n",
       "586733  ooooEiB0CCoEf9fiiC90Dfhfk  2018-07-12T23:50:54Z  impression   \n",
       "586734  ooooiBh70D3k3BfAhDFfii9h7  2018-07-03T12:57:25Z  impression   \n",
       "586735  ooooiBh70D3k3BfAhDFfii9h7  2018-07-19T08:17:59Z  impression   \n",
       "586736  ooooohAFofEnonEikhAi3fF9o  2018-07-14T17:17:12Z  impression   \n",
       "\n",
       "        conversion  conversion_value         channel  \n",
       "0                0               0.0       Instagram  \n",
       "1                0               0.0  Online Display  \n",
       "2                0               0.0  Online Display  \n",
       "3                0               0.0  Online Display  \n",
       "4                0               0.0     Paid Search  \n",
       "...            ...               ...             ...  \n",
       "586732           0               0.0  Online Display  \n",
       "586733           0               0.0  Online Display  \n",
       "586734           0               0.0     Paid Search  \n",
       "586735           0               0.0    Online Video  \n",
       "586736           0               0.0     Paid Search  \n",
       "\n",
       "[586737 rows x 6 columns]"
      ]
     },
     "execution_count": 4,
     "metadata": {},
     "output_type": "execute_result"
    }
   ],
   "source": [
    "df = pd.read_csv('attribution_data.csv')\n",
    "df"
   ]
  },
  {
   "cell_type": "markdown",
   "metadata": {},
   "source": [
    "# 각 채널로 움직이는 전이확률(Transition Probability) 구하기"
   ]
  },
  {
   "cell_type": "code",
   "execution_count": 8,
   "metadata": {},
   "outputs": [
    {
     "data": {
      "text/plain": [
       "['Instagram', 'Online Display', 'Paid Search', 'Facebook', 'Online Video']"
      ]
     },
     "execution_count": 8,
     "metadata": {},
     "output_type": "execute_result"
    }
   ],
   "source": [
    "df.channel.unique().tolist()"
   ]
  },
  {
   "cell_type": "code",
   "execution_count": 5,
   "metadata": {},
   "outputs": [
    {
     "data": {
      "text/html": [
       "<div>\n",
       "<style scoped>\n",
       "    .dataframe tbody tr th:only-of-type {\n",
       "        vertical-align: middle;\n",
       "    }\n",
       "\n",
       "    .dataframe tbody tr th {\n",
       "        vertical-align: top;\n",
       "    }\n",
       "\n",
       "    .dataframe thead th {\n",
       "        text-align: right;\n",
       "    }\n",
       "</style>\n",
       "<table border=\"1\" class=\"dataframe\">\n",
       "  <thead>\n",
       "    <tr style=\"text-align: right;\">\n",
       "      <th></th>\n",
       "      <th>cookie</th>\n",
       "      <th>channel</th>\n",
       "    </tr>\n",
       "  </thead>\n",
       "  <tbody>\n",
       "    <tr>\n",
       "      <th>0</th>\n",
       "      <td>00000FkCnDfDDf0iC97iC703B</td>\n",
       "      <td>[Instagram, Online Display]</td>\n",
       "    </tr>\n",
       "    <tr>\n",
       "      <th>1</th>\n",
       "      <td>0000nACkD9nFkBBDECD3ki00E</td>\n",
       "      <td>[Paid Search]</td>\n",
       "    </tr>\n",
       "    <tr>\n",
       "      <th>2</th>\n",
       "      <td>0003EfE37E93D0BC03iBhBBhF</td>\n",
       "      <td>[Paid Search]</td>\n",
       "    </tr>\n",
       "    <tr>\n",
       "      <th>3</th>\n",
       "      <td>00073CFE3FoFCn70fBhB3kfon</td>\n",
       "      <td>[Instagram]</td>\n",
       "    </tr>\n",
       "    <tr>\n",
       "      <th>4</th>\n",
       "      <td>00079hhBkDF3k3kDkiFi9EFAD</td>\n",
       "      <td>[Paid Search]</td>\n",
       "    </tr>\n",
       "    <tr>\n",
       "      <th>...</th>\n",
       "      <td>...</td>\n",
       "      <td>...</td>\n",
       "    </tr>\n",
       "    <tr>\n",
       "      <th>240103</th>\n",
       "      <td>ooooE0hkAFBkED90ChDDiBFAf</td>\n",
       "      <td>[Online Display]</td>\n",
       "    </tr>\n",
       "    <tr>\n",
       "      <th>240104</th>\n",
       "      <td>ooooEBE0o0D97ACAAAnDoi3F0</td>\n",
       "      <td>[Online Display]</td>\n",
       "    </tr>\n",
       "    <tr>\n",
       "      <th>240105</th>\n",
       "      <td>ooooEiB0CCoEf9fiiC90Dfhfk</td>\n",
       "      <td>[Online Display]</td>\n",
       "    </tr>\n",
       "    <tr>\n",
       "      <th>240106</th>\n",
       "      <td>ooooiBh70D3k3BfAhDFfii9h7</td>\n",
       "      <td>[Paid Search, Online Video]</td>\n",
       "    </tr>\n",
       "    <tr>\n",
       "      <th>240107</th>\n",
       "      <td>ooooohAFofEnonEikhAi3fF9o</td>\n",
       "      <td>[Paid Search]</td>\n",
       "    </tr>\n",
       "  </tbody>\n",
       "</table>\n",
       "<p>240108 rows × 2 columns</p>\n",
       "</div>"
      ],
      "text/plain": [
       "                           cookie                      channel\n",
       "0       00000FkCnDfDDf0iC97iC703B  [Instagram, Online Display]\n",
       "1       0000nACkD9nFkBBDECD3ki00E                [Paid Search]\n",
       "2       0003EfE37E93D0BC03iBhBBhF                [Paid Search]\n",
       "3       00073CFE3FoFCn70fBhB3kfon                  [Instagram]\n",
       "4       00079hhBkDF3k3kDkiFi9EFAD                [Paid Search]\n",
       "...                           ...                          ...\n",
       "240103  ooooE0hkAFBkED90ChDDiBFAf             [Online Display]\n",
       "240104  ooooEBE0o0D97ACAAAnDoi3F0             [Online Display]\n",
       "240105  ooooEiB0CCoEf9fiiC90Dfhfk             [Online Display]\n",
       "240106  ooooiBh70D3k3BfAhDFfii9h7  [Paid Search, Online Video]\n",
       "240107  ooooohAFofEnonEikhAi3fF9o                [Paid Search]\n",
       "\n",
       "[240108 rows x 2 columns]"
      ]
     },
     "execution_count": 5,
     "metadata": {},
     "output_type": "execute_result"
    }
   ],
   "source": [
    "df_paths = (\n",
    "    df.groupby('cookie')['channel']\n",
    "    .aggregate(lambda x: x.unique().tolist())\n",
    "    .reset_index()\n",
    ")\n",
    "df_paths"
   ]
  },
  {
   "cell_type": "markdown",
   "metadata": {},
   "source": [
    "### 유저별 전환 여부"
   ]
  },
  {
   "cell_type": "code",
   "execution_count": 9,
   "metadata": {},
   "outputs": [
    {
     "data": {
      "text/html": [
       "<div>\n",
       "<style scoped>\n",
       "    .dataframe tbody tr th:only-of-type {\n",
       "        vertical-align: middle;\n",
       "    }\n",
       "\n",
       "    .dataframe tbody tr th {\n",
       "        vertical-align: top;\n",
       "    }\n",
       "\n",
       "    .dataframe thead th {\n",
       "        text-align: right;\n",
       "    }\n",
       "</style>\n",
       "<table border=\"1\" class=\"dataframe\">\n",
       "  <thead>\n",
       "    <tr style=\"text-align: right;\">\n",
       "      <th></th>\n",
       "      <th>cookie</th>\n",
       "      <th>conversion</th>\n",
       "    </tr>\n",
       "  </thead>\n",
       "  <tbody>\n",
       "    <tr>\n",
       "      <th>3</th>\n",
       "      <td>00000FkCnDfDDf0iC97iC703B</td>\n",
       "      <td>0</td>\n",
       "    </tr>\n",
       "    <tr>\n",
       "      <th>9</th>\n",
       "      <td>0000nACkD9nFkBBDECD3ki00E</td>\n",
       "      <td>0</td>\n",
       "    </tr>\n",
       "    <tr>\n",
       "      <th>14</th>\n",
       "      <td>0003EfE37E93D0BC03iBhBBhF</td>\n",
       "      <td>0</td>\n",
       "    </tr>\n",
       "    <tr>\n",
       "      <th>15</th>\n",
       "      <td>00073CFE3FoFCn70fBhB3kfon</td>\n",
       "      <td>0</td>\n",
       "    </tr>\n",
       "    <tr>\n",
       "      <th>16</th>\n",
       "      <td>00079hhBkDF3k3kDkiFi9EFAD</td>\n",
       "      <td>0</td>\n",
       "    </tr>\n",
       "  </tbody>\n",
       "</table>\n",
       "</div>"
      ],
      "text/plain": [
       "                       cookie  conversion\n",
       "3   00000FkCnDfDDf0iC97iC703B           0\n",
       "9   0000nACkD9nFkBBDECD3ki00E           0\n",
       "14  0003EfE37E93D0BC03iBhBBhF           0\n",
       "15  00073CFE3FoFCn70fBhB3kfon           0\n",
       "16  00079hhBkDF3k3kDkiFi9EFAD           0"
      ]
     },
     "execution_count": 9,
     "metadata": {},
     "output_type": "execute_result"
    }
   ],
   "source": [
    "df_last_interaction = df.drop_duplicates('cookie', keep='last')[['cookie', 'conversion']]\n",
    "df_last_interaction.head()"
   ]
  },
  {
   "cell_type": "code",
   "execution_count": 10,
   "metadata": {},
   "outputs": [
    {
     "data": {
      "text/html": [
       "<div>\n",
       "<style scoped>\n",
       "    .dataframe tbody tr th:only-of-type {\n",
       "        vertical-align: middle;\n",
       "    }\n",
       "\n",
       "    .dataframe tbody tr th {\n",
       "        vertical-align: top;\n",
       "    }\n",
       "\n",
       "    .dataframe thead th {\n",
       "        text-align: right;\n",
       "    }\n",
       "</style>\n",
       "<table border=\"1\" class=\"dataframe\">\n",
       "  <thead>\n",
       "    <tr style=\"text-align: right;\">\n",
       "      <th></th>\n",
       "      <th>cookie</th>\n",
       "      <th>channel</th>\n",
       "      <th>conversion</th>\n",
       "    </tr>\n",
       "  </thead>\n",
       "  <tbody>\n",
       "    <tr>\n",
       "      <th>0</th>\n",
       "      <td>00000FkCnDfDDf0iC97iC703B</td>\n",
       "      <td>[Instagram, Online Display]</td>\n",
       "      <td>0</td>\n",
       "    </tr>\n",
       "    <tr>\n",
       "      <th>1</th>\n",
       "      <td>0000nACkD9nFkBBDECD3ki00E</td>\n",
       "      <td>[Paid Search]</td>\n",
       "      <td>0</td>\n",
       "    </tr>\n",
       "    <tr>\n",
       "      <th>2</th>\n",
       "      <td>0003EfE37E93D0BC03iBhBBhF</td>\n",
       "      <td>[Paid Search]</td>\n",
       "      <td>0</td>\n",
       "    </tr>\n",
       "    <tr>\n",
       "      <th>3</th>\n",
       "      <td>00073CFE3FoFCn70fBhB3kfon</td>\n",
       "      <td>[Instagram]</td>\n",
       "      <td>0</td>\n",
       "    </tr>\n",
       "    <tr>\n",
       "      <th>4</th>\n",
       "      <td>00079hhBkDF3k3kDkiFi9EFAD</td>\n",
       "      <td>[Paid Search]</td>\n",
       "      <td>0</td>\n",
       "    </tr>\n",
       "    <tr>\n",
       "      <th>...</th>\n",
       "      <td>...</td>\n",
       "      <td>...</td>\n",
       "      <td>...</td>\n",
       "    </tr>\n",
       "    <tr>\n",
       "      <th>240103</th>\n",
       "      <td>ooooE0hkAFBkED90ChDDiBFAf</td>\n",
       "      <td>[Online Display]</td>\n",
       "      <td>0</td>\n",
       "    </tr>\n",
       "    <tr>\n",
       "      <th>240104</th>\n",
       "      <td>ooooEBE0o0D97ACAAAnDoi3F0</td>\n",
       "      <td>[Online Display]</td>\n",
       "      <td>0</td>\n",
       "    </tr>\n",
       "    <tr>\n",
       "      <th>240105</th>\n",
       "      <td>ooooEiB0CCoEf9fiiC90Dfhfk</td>\n",
       "      <td>[Online Display]</td>\n",
       "      <td>0</td>\n",
       "    </tr>\n",
       "    <tr>\n",
       "      <th>240106</th>\n",
       "      <td>ooooiBh70D3k3BfAhDFfii9h7</td>\n",
       "      <td>[Paid Search, Online Video]</td>\n",
       "      <td>0</td>\n",
       "    </tr>\n",
       "    <tr>\n",
       "      <th>240107</th>\n",
       "      <td>ooooohAFofEnonEikhAi3fF9o</td>\n",
       "      <td>[Paid Search]</td>\n",
       "      <td>0</td>\n",
       "    </tr>\n",
       "  </tbody>\n",
       "</table>\n",
       "<p>240108 rows × 3 columns</p>\n",
       "</div>"
      ],
      "text/plain": [
       "                           cookie                      channel  conversion\n",
       "0       00000FkCnDfDDf0iC97iC703B  [Instagram, Online Display]           0\n",
       "1       0000nACkD9nFkBBDECD3ki00E                [Paid Search]           0\n",
       "2       0003EfE37E93D0BC03iBhBBhF                [Paid Search]           0\n",
       "3       00073CFE3FoFCn70fBhB3kfon                  [Instagram]           0\n",
       "4       00079hhBkDF3k3kDkiFi9EFAD                [Paid Search]           0\n",
       "...                           ...                          ...         ...\n",
       "240103  ooooE0hkAFBkED90ChDDiBFAf             [Online Display]           0\n",
       "240104  ooooEBE0o0D97ACAAAnDoi3F0             [Online Display]           0\n",
       "240105  ooooEiB0CCoEf9fiiC90Dfhfk             [Online Display]           0\n",
       "240106  ooooiBh70D3k3BfAhDFfii9h7  [Paid Search, Online Video]           0\n",
       "240107  ooooohAFofEnonEikhAi3fF9o                [Paid Search]           0\n",
       "\n",
       "[240108 rows x 3 columns]"
      ]
     },
     "execution_count": 10,
     "metadata": {},
     "output_type": "execute_result"
    }
   ],
   "source": [
    "df_paths = pd.merge(df_paths, df_last_interaction, how='left', on='cookie')\n",
    "df_paths"
   ]
  },
  {
   "cell_type": "markdown",
   "metadata": {},
   "source": [
    "### Markov Chain의 State를 만들자\n",
    "\n",
    "State 종류\n",
    "* Start: 첫 시작 \n",
    "* Instagram: 인스타그램 광고\n",
    "* Paid Search: 유료 검색 광고\n",
    "* Facebook: 페이스북 광고\n",
    "* Online Video: 비디오형 광고\n",
    "* Online Display: 배너 노출 광고\n",
    "* Conversion: 전환 성공 (구매 완료)\n",
    "* Null: 전환 실패 (구매 없이 나감)"
   ]
  },
  {
   "cell_type": "code",
   "execution_count": 11,
   "metadata": {},
   "outputs": [],
   "source": [
    "df_paths['paths'] = (\n",
    "    df_paths.apply(\n",
    "        lambda x: ['Start'] + x.channel + ['Null'] if x.conversion == 0\n",
    "        else ['Start'] + x.channel + ['Conversion'], axis=1\n",
    "    )\n",
    ")"
   ]
  },
  {
   "cell_type": "code",
   "execution_count": 13,
   "metadata": {},
   "outputs": [
    {
     "data": {
      "text/html": [
       "<div>\n",
       "<style scoped>\n",
       "    .dataframe tbody tr th:only-of-type {\n",
       "        vertical-align: middle;\n",
       "    }\n",
       "\n",
       "    .dataframe tbody tr th {\n",
       "        vertical-align: top;\n",
       "    }\n",
       "\n",
       "    .dataframe thead th {\n",
       "        text-align: right;\n",
       "    }\n",
       "</style>\n",
       "<table border=\"1\" class=\"dataframe\">\n",
       "  <thead>\n",
       "    <tr style=\"text-align: right;\">\n",
       "      <th></th>\n",
       "      <th>cookie</th>\n",
       "      <th>channel</th>\n",
       "      <th>conversion</th>\n",
       "      <th>paths</th>\n",
       "    </tr>\n",
       "  </thead>\n",
       "  <tbody>\n",
       "    <tr>\n",
       "      <th>0</th>\n",
       "      <td>00000FkCnDfDDf0iC97iC703B</td>\n",
       "      <td>[Instagram, Online Display]</td>\n",
       "      <td>0</td>\n",
       "      <td>[Start, Instagram, Online Display, Null]</td>\n",
       "    </tr>\n",
       "    <tr>\n",
       "      <th>1</th>\n",
       "      <td>0000nACkD9nFkBBDECD3ki00E</td>\n",
       "      <td>[Paid Search]</td>\n",
       "      <td>0</td>\n",
       "      <td>[Start, Paid Search, Null]</td>\n",
       "    </tr>\n",
       "    <tr>\n",
       "      <th>2</th>\n",
       "      <td>0003EfE37E93D0BC03iBhBBhF</td>\n",
       "      <td>[Paid Search]</td>\n",
       "      <td>0</td>\n",
       "      <td>[Start, Paid Search, Null]</td>\n",
       "    </tr>\n",
       "    <tr>\n",
       "      <th>3</th>\n",
       "      <td>00073CFE3FoFCn70fBhB3kfon</td>\n",
       "      <td>[Instagram]</td>\n",
       "      <td>0</td>\n",
       "      <td>[Start, Instagram, Null]</td>\n",
       "    </tr>\n",
       "    <tr>\n",
       "      <th>4</th>\n",
       "      <td>00079hhBkDF3k3kDkiFi9EFAD</td>\n",
       "      <td>[Paid Search]</td>\n",
       "      <td>0</td>\n",
       "      <td>[Start, Paid Search, Null]</td>\n",
       "    </tr>\n",
       "    <tr>\n",
       "      <th>5</th>\n",
       "      <td>0007iiAiFh3ifoo9Ehn3ABB0F</td>\n",
       "      <td>[Instagram, Facebook]</td>\n",
       "      <td>0</td>\n",
       "      <td>[Start, Instagram, Facebook, Null]</td>\n",
       "    </tr>\n",
       "    <tr>\n",
       "      <th>6</th>\n",
       "      <td>0007o0nfoh9o79DDfD7DAiEnE</td>\n",
       "      <td>[Facebook]</td>\n",
       "      <td>0</td>\n",
       "      <td>[Start, Facebook, Null]</td>\n",
       "    </tr>\n",
       "    <tr>\n",
       "      <th>7</th>\n",
       "      <td>0007oEBhnoF97AoEE3BCkFnhB</td>\n",
       "      <td>[Paid Search]</td>\n",
       "      <td>1</td>\n",
       "      <td>[Start, Paid Search, Conversion]</td>\n",
       "    </tr>\n",
       "    <tr>\n",
       "      <th>8</th>\n",
       "      <td>00090n9EBBEkA000C7Cik999D</td>\n",
       "      <td>[Facebook]</td>\n",
       "      <td>1</td>\n",
       "      <td>[Start, Facebook, Conversion]</td>\n",
       "    </tr>\n",
       "    <tr>\n",
       "      <th>9</th>\n",
       "      <td>000A9AfDohfiBAFB0FDf3kDEE</td>\n",
       "      <td>[Online Video]</td>\n",
       "      <td>0</td>\n",
       "      <td>[Start, Online Video, Null]</td>\n",
       "    </tr>\n",
       "  </tbody>\n",
       "</table>\n",
       "</div>"
      ],
      "text/plain": [
       "                      cookie                      channel  conversion  \\\n",
       "0  00000FkCnDfDDf0iC97iC703B  [Instagram, Online Display]           0   \n",
       "1  0000nACkD9nFkBBDECD3ki00E                [Paid Search]           0   \n",
       "2  0003EfE37E93D0BC03iBhBBhF                [Paid Search]           0   \n",
       "3  00073CFE3FoFCn70fBhB3kfon                  [Instagram]           0   \n",
       "4  00079hhBkDF3k3kDkiFi9EFAD                [Paid Search]           0   \n",
       "5  0007iiAiFh3ifoo9Ehn3ABB0F        [Instagram, Facebook]           0   \n",
       "6  0007o0nfoh9o79DDfD7DAiEnE                   [Facebook]           0   \n",
       "7  0007oEBhnoF97AoEE3BCkFnhB                [Paid Search]           1   \n",
       "8  00090n9EBBEkA000C7Cik999D                   [Facebook]           1   \n",
       "9  000A9AfDohfiBAFB0FDf3kDEE               [Online Video]           0   \n",
       "\n",
       "                                      paths  \n",
       "0  [Start, Instagram, Online Display, Null]  \n",
       "1                [Start, Paid Search, Null]  \n",
       "2                [Start, Paid Search, Null]  \n",
       "3                  [Start, Instagram, Null]  \n",
       "4                [Start, Paid Search, Null]  \n",
       "5        [Start, Instagram, Facebook, Null]  \n",
       "6                   [Start, Facebook, Null]  \n",
       "7          [Start, Paid Search, Conversion]  \n",
       "8             [Start, Facebook, Conversion]  \n",
       "9               [Start, Online Video, Null]  "
      ]
     },
     "execution_count": 13,
     "metadata": {},
     "output_type": "execute_result"
    }
   ],
   "source": [
    "df_paths.head(10)"
   ]
  },
  {
   "cell_type": "markdown",
   "metadata": {},
   "source": [
    "### 총 유저(cookie)수와 그 중 전환된 유저수 계산"
   ]
  },
  {
   "cell_type": "code",
   "execution_count": 15,
   "metadata": {},
   "outputs": [
    {
     "data": {
      "text/plain": [
       "(240108, 17639)"
      ]
     },
     "execution_count": 15,
     "metadata": {},
     "output_type": "execute_result"
    }
   ],
   "source": [
    "cookie_count = len(df_paths)\n",
    "conversion_count = len(df_paths[df_paths.conversion == 1])\n",
    "cookie_count, conversion_count"
   ]
  },
  {
   "cell_type": "code",
   "execution_count": 16,
   "metadata": {},
   "outputs": [
    {
     "data": {
      "text/plain": [
       "0.07346277508454528"
      ]
     },
     "execution_count": 16,
     "metadata": {},
     "output_type": "execute_result"
    }
   ],
   "source": [
    "base_conversion_rate = conversion_count / cookie_count\n",
    "base_conversion_rate"
   ]
  },
  {
   "cell_type": "markdown",
   "metadata": {},
   "source": [
    "전체 전환율을 7% 정도이다."
   ]
  },
  {
   "cell_type": "code",
   "execution_count": 28,
   "metadata": {},
   "outputs": [
    {
     "data": {
      "text/plain": [
       "0         [Start, Instagram, Online Display, Null]\n",
       "1                       [Start, Paid Search, Null]\n",
       "2                       [Start, Paid Search, Null]\n",
       "3                         [Start, Instagram, Null]\n",
       "4                       [Start, Paid Search, Null]\n",
       "                            ...                   \n",
       "240103               [Start, Online Display, Null]\n",
       "240104               [Start, Online Display, Null]\n",
       "240105               [Start, Online Display, Null]\n",
       "240106    [Start, Paid Search, Online Video, Null]\n",
       "240107                  [Start, Paid Search, Null]\n",
       "Name: paths, Length: 240108, dtype: object"
      ]
     },
     "execution_count": 28,
     "metadata": {},
     "output_type": "execute_result"
    }
   ],
   "source": [
    "list_of_paths = df_paths['paths']\n",
    "list_of_paths"
   ]
  },
  {
   "cell_type": "code",
   "execution_count": 24,
   "metadata": {},
   "outputs": [
    {
     "data": {
      "text/plain": [
       "{'Conversion',\n",
       " 'Facebook',\n",
       " 'Instagram',\n",
       " 'Null',\n",
       " 'Online Display',\n",
       " 'Online Video',\n",
       " 'Paid Search',\n",
       " 'Start'}"
      ]
     },
     "execution_count": 24,
     "metadata": {},
     "output_type": "execute_result"
    }
   ],
   "source": [
    "set(['Start'] + df.channel.unique().tolist() + ['Null'] + ['Conversion'])"
   ]
  },
  {
   "cell_type": "code",
   "execution_count": 20,
   "metadata": {},
   "outputs": [
    {
     "data": {
      "text/plain": [
       "{'Conversion',\n",
       " 'Facebook',\n",
       " 'Instagram',\n",
       " 'Null',\n",
       " 'Online Display',\n",
       " 'Online Video',\n",
       " 'Paid Search',\n",
       " 'Start'}"
      ]
     },
     "execution_count": 20,
     "metadata": {},
     "output_type": "execute_result"
    }
   ],
   "source": [
    "list_of_unique_channels = set(x for element in list_of_paths for x in element)\n",
    "list_of_unique_channels"
   ]
  },
  {
   "cell_type": "markdown",
   "metadata": {},
   "source": [
    "Markov Chain은 현재와 그다음 상태 사이의 전이 확률만 필요하다.<br>\n",
    "따라 전이 가능성이 있는 모든 상태를 count 하기 위해 0으로 초기화한다."
   ]
  },
  {
   "cell_type": "code",
   "execution_count": 35,
   "metadata": {},
   "outputs": [
    {
     "data": {
      "text/plain": [
       "{'Facebook > Facebook': 0,\n",
       " 'Facebook > Conversion': 0,\n",
       " 'Facebook > Instagram': 0,\n",
       " 'Facebook > Online Video': 0,\n",
       " 'Facebook > Online Display': 0,\n",
       " 'Facebook > Null': 0,\n",
       " 'Facebook > Start': 0,\n",
       " 'Facebook > Paid Search': 0,\n",
       " 'Conversion > Facebook': 0,\n",
       " 'Conversion > Conversion': 0,\n",
       " 'Conversion > Instagram': 0,\n",
       " 'Conversion > Online Video': 0,\n",
       " 'Conversion > Online Display': 0,\n",
       " 'Conversion > Null': 0,\n",
       " 'Conversion > Start': 0,\n",
       " 'Conversion > Paid Search': 0,\n",
       " 'Instagram > Facebook': 0,\n",
       " 'Instagram > Conversion': 0,\n",
       " 'Instagram > Instagram': 0,\n",
       " 'Instagram > Online Video': 0,\n",
       " 'Instagram > Online Display': 0,\n",
       " 'Instagram > Null': 0,\n",
       " 'Instagram > Start': 0,\n",
       " 'Instagram > Paid Search': 0,\n",
       " 'Online Video > Facebook': 0,\n",
       " 'Online Video > Conversion': 0,\n",
       " 'Online Video > Instagram': 0,\n",
       " 'Online Video > Online Video': 0,\n",
       " 'Online Video > Online Display': 0,\n",
       " 'Online Video > Null': 0,\n",
       " 'Online Video > Start': 0,\n",
       " 'Online Video > Paid Search': 0,\n",
       " 'Online Display > Facebook': 0,\n",
       " 'Online Display > Conversion': 0,\n",
       " 'Online Display > Instagram': 0,\n",
       " 'Online Display > Online Video': 0,\n",
       " 'Online Display > Online Display': 0,\n",
       " 'Online Display > Null': 0,\n",
       " 'Online Display > Start': 0,\n",
       " 'Online Display > Paid Search': 0,\n",
       " 'Null > Facebook': 0,\n",
       " 'Null > Conversion': 0,\n",
       " 'Null > Instagram': 0,\n",
       " 'Null > Online Video': 0,\n",
       " 'Null > Online Display': 0,\n",
       " 'Null > Null': 0,\n",
       " 'Null > Start': 0,\n",
       " 'Null > Paid Search': 0,\n",
       " 'Start > Facebook': 0,\n",
       " 'Start > Conversion': 0,\n",
       " 'Start > Instagram': 0,\n",
       " 'Start > Online Video': 0,\n",
       " 'Start > Online Display': 0,\n",
       " 'Start > Null': 0,\n",
       " 'Start > Start': 0,\n",
       " 'Start > Paid Search': 0,\n",
       " 'Paid Search > Facebook': 0,\n",
       " 'Paid Search > Conversion': 0,\n",
       " 'Paid Search > Instagram': 0,\n",
       " 'Paid Search > Online Video': 0,\n",
       " 'Paid Search > Online Display': 0,\n",
       " 'Paid Search > Null': 0,\n",
       " 'Paid Search > Start': 0,\n",
       " 'Paid Search > Paid Search': 0}"
      ]
     },
     "execution_count": 35,
     "metadata": {},
     "output_type": "execute_result"
    }
   ],
   "source": [
    "transition_states = {x + ' > ' + y: 0 for x in list_of_unique_channels for y in list_of_unique_channels}\n",
    "transition_states"
   ]
  },
  {
   "cell_type": "markdown",
   "metadata": {},
   "source": [
    "### 각 상태에서 다음 상태로 간 것이 몇 번 있었는지 구해보자"
   ]
  },
  {
   "cell_type": "code",
   "execution_count": 33,
   "metadata": {},
   "outputs": [
    {
     "data": {
      "text/plain": [
       "'Online Display'"
      ]
     },
     "execution_count": 33,
     "metadata": {},
     "output_type": "execute_result"
    }
   ],
   "source": [
    "['Start', 'Instagram', 'Online Display', 'Null'][['Start', 'Instagram', 'Online Display', 'Null'].index('Instagram') + 1]"
   ]
  },
  {
   "cell_type": "code",
   "execution_count": 36,
   "metadata": {},
   "outputs": [],
   "source": [
    "for user_path in list_of_paths:\n",
    "    for possible_state in list_of_unique_channels:\n",
    "        if possible_state not in ['Null', 'Conversion']:\n",
    "            if possible_state in user_path:\n",
    "                transition_states[possible_state + ' > ' + user_path[user_path.index(possible_state) + 1]] += 1            "
   ]
  },
  {
   "cell_type": "code",
   "execution_count": 38,
   "metadata": {},
   "outputs": [
    {
     "data": {
      "text/plain": [
       "{'Facebook > Facebook': 0,\n",
       " 'Facebook > Conversion': 4690,\n",
       " 'Facebook > Instagram': 15252,\n",
       " 'Facebook > Online Video': 2254,\n",
       " 'Facebook > Online Display': 2146,\n",
       " 'Facebook > Null': 59319,\n",
       " 'Facebook > Start': 0,\n",
       " 'Facebook > Paid Search': 4464,\n",
       " 'Conversion > Facebook': 0,\n",
       " 'Conversion > Conversion': 0,\n",
       " 'Conversion > Instagram': 0,\n",
       " 'Conversion > Online Video': 0,\n",
       " 'Conversion > Online Display': 0,\n",
       " 'Conversion > Null': 0,\n",
       " 'Conversion > Start': 0,\n",
       " 'Conversion > Paid Search': 0,\n",
       " 'Instagram > Facebook': 10822,\n",
       " 'Instagram > Conversion': 2868,\n",
       " 'Instagram > Instagram': 0,\n",
       " 'Instagram > Online Video': 1193,\n",
       " 'Instagram > Online Display': 1164,\n",
       " 'Instagram > Null': 31153,\n",
       " 'Instagram > Start': 0,\n",
       " 'Instagram > Paid Search': 2266,\n",
       " 'Online Video > Facebook': 2430,\n",
       " 'Online Video > Conversion': 3201,\n",
       " 'Online Video > Instagram': 1307,\n",
       " 'Online Video > Online Video': 0,\n",
       " 'Online Video > Online Display': 775,\n",
       " 'Online Video > Null': 31285,\n",
       " 'Online Video > Start': 0,\n",
       " 'Online Video > Paid Search': 1964,\n",
       " 'Online Display > Facebook': 2300,\n",
       " 'Online Display > Conversion': 2144,\n",
       " 'Online Display > Instagram': 1251,\n",
       " 'Online Display > Online Video': 737,\n",
       " 'Online Display > Online Display': 0,\n",
       " 'Online Display > Null': 32236,\n",
       " 'Online Display > Start': 0,\n",
       " 'Online Display > Paid Search': 3936,\n",
       " 'Null > Facebook': 0,\n",
       " 'Null > Conversion': 0,\n",
       " 'Null > Instagram': 0,\n",
       " 'Null > Online Video': 0,\n",
       " 'Null > Online Display': 0,\n",
       " 'Null > Null': 0,\n",
       " 'Null > Start': 0,\n",
       " 'Null > Paid Search': 0,\n",
       " 'Start > Facebook': 66848,\n",
       " 'Start > Conversion': 0,\n",
       " 'Start > Instagram': 28618,\n",
       " 'Start > Online Video': 34182,\n",
       " 'Start > Online Display': 34250,\n",
       " 'Start > Null': 0,\n",
       " 'Start > Start': 0,\n",
       " 'Start > Paid Search': 76210,\n",
       " 'Paid Search > Facebook': 5725,\n",
       " 'Paid Search > Conversion': 4736,\n",
       " 'Paid Search > Instagram': 3038,\n",
       " 'Paid Search > Online Video': 2596,\n",
       " 'Paid Search > Online Display': 4269,\n",
       " 'Paid Search > Null': 68476,\n",
       " 'Paid Search > Start': 0,\n",
       " 'Paid Search > Paid Search': 0}"
      ]
     },
     "execution_count": 38,
     "metadata": {},
     "output_type": "execute_result"
    }
   ],
   "source": [
    "transition_states"
   ]
  },
  {
   "cell_type": "markdown",
   "metadata": {},
   "source": [
    "### 확률로 정의해 보자\n",
    "\n",
    "* Transition Probability로 정의하려면, 각 채널에서 다음 채널로 가는 수를 다 더해서 나눠준다."
   ]
  },
  {
   "cell_type": "raw",
   "metadata": {},
   "source": [
    "예를들어\n",
    "          Start, Facebook, Conversion, Null\n",
    "Start    [[0,    100,      100,        100],\n",
    "Facebook  [0,      0,      100,        100],\n",
    "          ...\n",
    "         ]\n",
    "\n",
    "transition_states에 빈도수를 계산해 놓은 상태기 때문에\n",
    "{\n",
    "    'Start > Start': 0,\n",
    "    'Start > Facebook': 100,\n",
    "    ...\n",
    "}\n",
    "\n",
    "전이 확률은\n",
    "Start에서 다음상태로 가는 모든 빈도수를 다 더하면? 300\n",
    "Facebook에서 다음상태로 가는 모든 빈도수를 다 더하면? 200\n",
    "          Start, Facebook, Conversion, Null\n",
    "Start    [[0,     100/300, 100/300,  100/300],\n",
    "Facebook  [0,       0/200, 100/200, 100/200],\n",
    "          ...\n",
    "         ]\n",
    "\n",
    "P(X_n+1 = 'Start' | X_n = 'Start') +\n",
    "P(X_n+1 = 'Facebook' | X_n = 'Start') +\n",
    "P(X_n+1 = 'Conversion' | X_n = 'Start') +\n",
    "P(X_n+1 = 'Null' | X_n = 'Start') = 1\n",
    "0 + 100/300 + 100/300 + 100/300 = 1\n",
    "\n",
    "1) Start로 시작하는 모든 상태들의 빈도수를 다 더해준다.\n",
    "transition_states['Start > Start'] +\n",
    "transition_states['Start > Facebook'] +\n",
    "transition_states['Start > Conversion'] +\n",
    "transition_states['Start > Null'] = 300 (빈도수 총합)\n",
    "\n",
    "2) 각 빈도수를 Start로 시작하는 모든 상태들의 빈도수 총합으로 나눠주면 전이 확률을 구할 수 있다."
   ]
  },
  {
   "cell_type": "code",
   "execution_count": 42,
   "metadata": {},
   "outputs": [
    {
     "data": {
      "text/plain": [
       "defaultdict(dict, {})"
      ]
     },
     "execution_count": 42,
     "metadata": {},
     "output_type": "execute_result"
    }
   ],
   "source": [
    "trans_prob = defaultdict(dict)\n",
    "trans_prob"
   ]
  },
  {
   "cell_type": "code",
   "execution_count": 44,
   "metadata": {},
   "outputs": [
    {
     "data": {
      "text/plain": [
       "['Instagram > Facebook',\n",
       " 'Instagram > Conversion',\n",
       " 'Instagram > Instagram',\n",
       " 'Instagram > Online Video',\n",
       " 'Instagram > Online Display',\n",
       " 'Instagram > Null',\n",
       " 'Instagram > Start',\n",
       " 'Instagram > Paid Search']"
      ]
     },
     "execution_count": 44,
     "metadata": {},
     "output_type": "execute_result"
    }
   ],
   "source": [
    "state = 'Instagram'\n",
    "[s for s in transition_states if state + ' > ' in s]"
   ]
  },
  {
   "cell_type": "code",
   "execution_count": 45,
   "metadata": {},
   "outputs": [],
   "source": [
    "for state in list_of_unique_channels:\n",
    "    if state not in ['Null', 'Conversion']:\n",
    "        next_state_from_state = [s for s in transition_states if state + ' > ' in s]\n",
    "        \n",
    "        counter = 0\n",
    "        for next_state in next_state_from_state:\n",
    "            c = transition_states[next_state]\n",
    "            if c > 0:\n",
    "                counter += c\n",
    "\n",
    "        for next_state in next_state_from_state:\n",
    "            c = transition_states[next_state]\n",
    "            if c > 0:\n",
    "                trans_prob[next_state] = float(c) / float(counter)"
   ]
  },
  {
   "cell_type": "code",
   "execution_count": 46,
   "metadata": {},
   "outputs": [
    {
     "data": {
      "text/plain": [
       "defaultdict(dict,\n",
       "            {'Facebook > Conversion': 0.053219858156028366,\n",
       "             'Facebook > Instagram': 0.1730723404255319,\n",
       "             'Facebook > Online Video': 0.025577304964539006,\n",
       "             'Facebook > Online Display': 0.02435177304964539,\n",
       "             'Facebook > Null': 0.6731234042553191,\n",
       "             'Facebook > Paid Search': 0.05065531914893617,\n",
       "             'Instagram > Facebook': 0.2187765333764606,\n",
       "             'Instagram > Conversion': 0.057979218048760765,\n",
       "             'Instagram > Online Video': 0.024117575708567502,\n",
       "             'Instagram > Online Display': 0.023531314438199977,\n",
       "             'Instagram > Null': 0.6297861157158452,\n",
       "             'Instagram > Paid Search': 0.04580924271216593,\n",
       "             'Online Video > Facebook': 0.059323275230701626,\n",
       "             'Online Video > Conversion': 0.0781455983594551,\n",
       "             'Online Video > Instagram': 0.03190762169815927,\n",
       "             'Online Video > Online Display': 0.018919974610614718,\n",
       "             'Online Video > Null': 0.7637566525072018,\n",
       "             'Online Video > Paid Search': 0.04794687759386749,\n",
       "             'Online Display > Facebook': 0.053985541263731104,\n",
       "             'Online Display > Conversion': 0.05032391324758239,\n",
       "             'Online Display > Instagram': 0.02936344005257722,\n",
       "             'Online Display > Online Video': 0.017298845178856444,\n",
       "             'Online Display > Null': 0.7566425687728852,\n",
       "             'Online Display > Paid Search': 0.09238569148436766,\n",
       "             'Start > Facebook': 0.2784080497109634,\n",
       "             'Start > Instagram': 0.11918803205224315,\n",
       "             'Start > Online Video': 0.14236093757808985,\n",
       "             'Start > Online Display': 0.14264414346877238,\n",
       "             'Start > Paid Search': 0.31739883718993117,\n",
       "             'Paid Search > Facebook': 0.06444169293111211,\n",
       "             'Paid Search > Conversion': 0.053309320126069336,\n",
       "             'Paid Search > Instagram': 0.03419630796938316,\n",
       "             'Paid Search > Online Video': 0.029221071589374155,\n",
       "             'Paid Search > Online Display': 0.04805267897343539,\n",
       "             'Paid Search > Null': 0.7707789284106259})"
      ]
     },
     "execution_count": 46,
     "metadata": {},
     "output_type": "execute_result"
    }
   ],
   "source": [
    "trans_prob"
   ]
  },
  {
   "cell_type": "markdown",
   "metadata": {},
   "source": [
    "### 전이확률행렬(Transition Probability Matrix)로 만들기"
   ]
  },
  {
   "cell_type": "code",
   "execution_count": 58,
   "metadata": {},
   "outputs": [
    {
     "data": {
      "text/html": [
       "<div>\n",
       "<style scoped>\n",
       "    .dataframe tbody tr th:only-of-type {\n",
       "        vertical-align: middle;\n",
       "    }\n",
       "\n",
       "    .dataframe tbody tr th {\n",
       "        vertical-align: top;\n",
       "    }\n",
       "\n",
       "    .dataframe thead th {\n",
       "        text-align: right;\n",
       "    }\n",
       "</style>\n",
       "<table border=\"1\" class=\"dataframe\">\n",
       "  <thead>\n",
       "    <tr style=\"text-align: right;\">\n",
       "      <th></th>\n",
       "    </tr>\n",
       "  </thead>\n",
       "  <tbody>\n",
       "  </tbody>\n",
       "</table>\n",
       "</div>"
      ],
      "text/plain": [
       "Empty DataFrame\n",
       "Columns: []\n",
       "Index: []"
      ]
     },
     "execution_count": 58,
     "metadata": {},
     "output_type": "execute_result"
    }
   ],
   "source": [
    "trans_matrix = pd.DataFrame()\n",
    "trans_matrix"
   ]
  },
  {
   "cell_type": "code",
   "execution_count": 59,
   "metadata": {},
   "outputs": [
    {
     "data": {
      "text/html": [
       "<div>\n",
       "<style scoped>\n",
       "    .dataframe tbody tr th:only-of-type {\n",
       "        vertical-align: middle;\n",
       "    }\n",
       "\n",
       "    .dataframe tbody tr th {\n",
       "        vertical-align: top;\n",
       "    }\n",
       "\n",
       "    .dataframe thead th {\n",
       "        text-align: right;\n",
       "    }\n",
       "</style>\n",
       "<table border=\"1\" class=\"dataframe\">\n",
       "  <thead>\n",
       "    <tr style=\"text-align: right;\">\n",
       "      <th></th>\n",
       "      <th>Instagram</th>\n",
       "    </tr>\n",
       "  </thead>\n",
       "  <tbody>\n",
       "  </tbody>\n",
       "</table>\n",
       "</div>"
      ],
      "text/plain": [
       "Empty DataFrame\n",
       "Columns: [Instagram]\n",
       "Index: []"
      ]
     },
     "execution_count": 59,
     "metadata": {},
     "output_type": "execute_result"
    }
   ],
   "source": [
    "channel = 'Instagram'\n",
    "trans_matrix[channel] = 0.00\n",
    "trans_matrix"
   ]
  },
  {
   "cell_type": "code",
   "execution_count": 60,
   "metadata": {},
   "outputs": [
    {
     "data": {
      "text/html": [
       "<div>\n",
       "<style scoped>\n",
       "    .dataframe tbody tr th:only-of-type {\n",
       "        vertical-align: middle;\n",
       "    }\n",
       "\n",
       "    .dataframe tbody tr th {\n",
       "        vertical-align: top;\n",
       "    }\n",
       "\n",
       "    .dataframe thead th {\n",
       "        text-align: right;\n",
       "    }\n",
       "</style>\n",
       "<table border=\"1\" class=\"dataframe\">\n",
       "  <thead>\n",
       "    <tr style=\"text-align: right;\">\n",
       "      <th></th>\n",
       "      <th>Instagram</th>\n",
       "    </tr>\n",
       "  </thead>\n",
       "  <tbody>\n",
       "    <tr>\n",
       "      <th>Instagram</th>\n",
       "      <td>0.0</td>\n",
       "    </tr>\n",
       "  </tbody>\n",
       "</table>\n",
       "</div>"
      ],
      "text/plain": [
       "           Instagram\n",
       "Instagram        0.0"
      ]
     },
     "execution_count": 60,
     "metadata": {},
     "output_type": "execute_result"
    }
   ],
   "source": [
    "trans_matrix.loc[channel] = 0.00\n",
    "trans_matrix"
   ]
  },
  {
   "cell_type": "code",
   "execution_count": 64,
   "metadata": {},
   "outputs": [
    {
     "data": {
      "text/html": [
       "<div>\n",
       "<style scoped>\n",
       "    .dataframe tbody tr th:only-of-type {\n",
       "        vertical-align: middle;\n",
       "    }\n",
       "\n",
       "    .dataframe tbody tr th {\n",
       "        vertical-align: top;\n",
       "    }\n",
       "\n",
       "    .dataframe thead th {\n",
       "        text-align: right;\n",
       "    }\n",
       "</style>\n",
       "<table border=\"1\" class=\"dataframe\">\n",
       "  <thead>\n",
       "    <tr style=\"text-align: right;\">\n",
       "      <th></th>\n",
       "      <th>Instagram</th>\n",
       "      <th>Facebook</th>\n",
       "      <th>Conversion</th>\n",
       "      <th>Online Video</th>\n",
       "      <th>Online Display</th>\n",
       "      <th>Null</th>\n",
       "      <th>Start</th>\n",
       "      <th>Paid Search</th>\n",
       "    </tr>\n",
       "  </thead>\n",
       "  <tbody>\n",
       "    <tr>\n",
       "      <th>Instagram</th>\n",
       "      <td>0.0</td>\n",
       "      <td>0.0</td>\n",
       "      <td>0.0</td>\n",
       "      <td>0.0</td>\n",
       "      <td>0.0</td>\n",
       "      <td>0.0</td>\n",
       "      <td>0.0</td>\n",
       "      <td>0.0</td>\n",
       "    </tr>\n",
       "    <tr>\n",
       "      <th>Facebook</th>\n",
       "      <td>0.0</td>\n",
       "      <td>0.0</td>\n",
       "      <td>0.0</td>\n",
       "      <td>0.0</td>\n",
       "      <td>0.0</td>\n",
       "      <td>0.0</td>\n",
       "      <td>0.0</td>\n",
       "      <td>0.0</td>\n",
       "    </tr>\n",
       "    <tr>\n",
       "      <th>Conversion</th>\n",
       "      <td>0.0</td>\n",
       "      <td>0.0</td>\n",
       "      <td>1.0</td>\n",
       "      <td>0.0</td>\n",
       "      <td>0.0</td>\n",
       "      <td>0.0</td>\n",
       "      <td>0.0</td>\n",
       "      <td>0.0</td>\n",
       "    </tr>\n",
       "    <tr>\n",
       "      <th>Online Video</th>\n",
       "      <td>0.0</td>\n",
       "      <td>0.0</td>\n",
       "      <td>0.0</td>\n",
       "      <td>0.0</td>\n",
       "      <td>0.0</td>\n",
       "      <td>0.0</td>\n",
       "      <td>0.0</td>\n",
       "      <td>0.0</td>\n",
       "    </tr>\n",
       "    <tr>\n",
       "      <th>Online Display</th>\n",
       "      <td>0.0</td>\n",
       "      <td>0.0</td>\n",
       "      <td>0.0</td>\n",
       "      <td>0.0</td>\n",
       "      <td>0.0</td>\n",
       "      <td>0.0</td>\n",
       "      <td>0.0</td>\n",
       "      <td>0.0</td>\n",
       "    </tr>\n",
       "    <tr>\n",
       "      <th>Null</th>\n",
       "      <td>0.0</td>\n",
       "      <td>0.0</td>\n",
       "      <td>0.0</td>\n",
       "      <td>0.0</td>\n",
       "      <td>0.0</td>\n",
       "      <td>1.0</td>\n",
       "      <td>0.0</td>\n",
       "      <td>0.0</td>\n",
       "    </tr>\n",
       "    <tr>\n",
       "      <th>Start</th>\n",
       "      <td>0.0</td>\n",
       "      <td>0.0</td>\n",
       "      <td>0.0</td>\n",
       "      <td>0.0</td>\n",
       "      <td>0.0</td>\n",
       "      <td>0.0</td>\n",
       "      <td>0.0</td>\n",
       "      <td>0.0</td>\n",
       "    </tr>\n",
       "    <tr>\n",
       "      <th>Paid Search</th>\n",
       "      <td>0.0</td>\n",
       "      <td>0.0</td>\n",
       "      <td>0.0</td>\n",
       "      <td>0.0</td>\n",
       "      <td>0.0</td>\n",
       "      <td>0.0</td>\n",
       "      <td>0.0</td>\n",
       "      <td>0.0</td>\n",
       "    </tr>\n",
       "  </tbody>\n",
       "</table>\n",
       "</div>"
      ],
      "text/plain": [
       "                Instagram  Facebook  Conversion  Online Video  Online Display  \\\n",
       "Instagram             0.0       0.0         0.0           0.0             0.0   \n",
       "Facebook              0.0       0.0         0.0           0.0             0.0   \n",
       "Conversion            0.0       0.0         1.0           0.0             0.0   \n",
       "Online Video          0.0       0.0         0.0           0.0             0.0   \n",
       "Online Display        0.0       0.0         0.0           0.0             0.0   \n",
       "Null                  0.0       0.0         0.0           0.0             0.0   \n",
       "Start                 0.0       0.0         0.0           0.0             0.0   \n",
       "Paid Search           0.0       0.0         0.0           0.0             0.0   \n",
       "\n",
       "                Null  Start  Paid Search  \n",
       "Instagram        0.0    0.0          0.0  \n",
       "Facebook         0.0    0.0          0.0  \n",
       "Conversion       0.0    0.0          0.0  \n",
       "Online Video     0.0    0.0          0.0  \n",
       "Online Display   0.0    0.0          0.0  \n",
       "Null             1.0    0.0          0.0  \n",
       "Start            0.0    0.0          0.0  \n",
       "Paid Search      0.0    0.0          0.0  "
      ]
     },
     "execution_count": 64,
     "metadata": {},
     "output_type": "execute_result"
    }
   ],
   "source": [
    "for channel in list_of_unique_channels:\n",
    "    trans_matrix[channel] = 0.00\n",
    "    trans_matrix.loc[channel] = 0.00\n",
    "    \n",
    "    # Null, Conversion은 다른 값으로 갈 수 없으므로 1.00\n",
    "    trans_matrix.loc[channel][channel] = 1.00 if channel in ['Null', 'Conversion'] else 0.00\n",
    "trans_matrix"
   ]
  },
  {
   "cell_type": "code",
   "execution_count": 65,
   "metadata": {},
   "outputs": [
    {
     "data": {
      "text/html": [
       "<div>\n",
       "<style scoped>\n",
       "    .dataframe tbody tr th:only-of-type {\n",
       "        vertical-align: middle;\n",
       "    }\n",
       "\n",
       "    .dataframe tbody tr th {\n",
       "        vertical-align: top;\n",
       "    }\n",
       "\n",
       "    .dataframe thead th {\n",
       "        text-align: right;\n",
       "    }\n",
       "</style>\n",
       "<table border=\"1\" class=\"dataframe\">\n",
       "  <thead>\n",
       "    <tr style=\"text-align: right;\">\n",
       "      <th></th>\n",
       "      <th>Instagram</th>\n",
       "      <th>Facebook</th>\n",
       "      <th>Conversion</th>\n",
       "      <th>Online Video</th>\n",
       "      <th>Online Display</th>\n",
       "      <th>Null</th>\n",
       "      <th>Start</th>\n",
       "      <th>Paid Search</th>\n",
       "    </tr>\n",
       "  </thead>\n",
       "  <tbody>\n",
       "    <tr>\n",
       "      <th>Instagram</th>\n",
       "      <td>0.000000</td>\n",
       "      <td>0.218777</td>\n",
       "      <td>0.057979</td>\n",
       "      <td>0.024118</td>\n",
       "      <td>0.023531</td>\n",
       "      <td>0.629786</td>\n",
       "      <td>0.0</td>\n",
       "      <td>0.045809</td>\n",
       "    </tr>\n",
       "    <tr>\n",
       "      <th>Facebook</th>\n",
       "      <td>0.173072</td>\n",
       "      <td>0.000000</td>\n",
       "      <td>0.053220</td>\n",
       "      <td>0.025577</td>\n",
       "      <td>0.024352</td>\n",
       "      <td>0.673123</td>\n",
       "      <td>0.0</td>\n",
       "      <td>0.050655</td>\n",
       "    </tr>\n",
       "    <tr>\n",
       "      <th>Conversion</th>\n",
       "      <td>0.000000</td>\n",
       "      <td>0.000000</td>\n",
       "      <td>1.000000</td>\n",
       "      <td>0.000000</td>\n",
       "      <td>0.000000</td>\n",
       "      <td>0.000000</td>\n",
       "      <td>0.0</td>\n",
       "      <td>0.000000</td>\n",
       "    </tr>\n",
       "    <tr>\n",
       "      <th>Online Video</th>\n",
       "      <td>0.031908</td>\n",
       "      <td>0.059323</td>\n",
       "      <td>0.078146</td>\n",
       "      <td>0.000000</td>\n",
       "      <td>0.018920</td>\n",
       "      <td>0.763757</td>\n",
       "      <td>0.0</td>\n",
       "      <td>0.047947</td>\n",
       "    </tr>\n",
       "    <tr>\n",
       "      <th>Online Display</th>\n",
       "      <td>0.029363</td>\n",
       "      <td>0.053986</td>\n",
       "      <td>0.050324</td>\n",
       "      <td>0.017299</td>\n",
       "      <td>0.000000</td>\n",
       "      <td>0.756643</td>\n",
       "      <td>0.0</td>\n",
       "      <td>0.092386</td>\n",
       "    </tr>\n",
       "    <tr>\n",
       "      <th>Null</th>\n",
       "      <td>0.000000</td>\n",
       "      <td>0.000000</td>\n",
       "      <td>0.000000</td>\n",
       "      <td>0.000000</td>\n",
       "      <td>0.000000</td>\n",
       "      <td>1.000000</td>\n",
       "      <td>0.0</td>\n",
       "      <td>0.000000</td>\n",
       "    </tr>\n",
       "    <tr>\n",
       "      <th>Start</th>\n",
       "      <td>0.119188</td>\n",
       "      <td>0.278408</td>\n",
       "      <td>0.000000</td>\n",
       "      <td>0.142361</td>\n",
       "      <td>0.142644</td>\n",
       "      <td>0.000000</td>\n",
       "      <td>0.0</td>\n",
       "      <td>0.317399</td>\n",
       "    </tr>\n",
       "    <tr>\n",
       "      <th>Paid Search</th>\n",
       "      <td>0.034196</td>\n",
       "      <td>0.064442</td>\n",
       "      <td>0.053309</td>\n",
       "      <td>0.029221</td>\n",
       "      <td>0.048053</td>\n",
       "      <td>0.770779</td>\n",
       "      <td>0.0</td>\n",
       "      <td>0.000000</td>\n",
       "    </tr>\n",
       "  </tbody>\n",
       "</table>\n",
       "</div>"
      ],
      "text/plain": [
       "                Instagram  Facebook  Conversion  Online Video  Online Display  \\\n",
       "Instagram        0.000000  0.218777    0.057979      0.024118        0.023531   \n",
       "Facebook         0.173072  0.000000    0.053220      0.025577        0.024352   \n",
       "Conversion       0.000000  0.000000    1.000000      0.000000        0.000000   \n",
       "Online Video     0.031908  0.059323    0.078146      0.000000        0.018920   \n",
       "Online Display   0.029363  0.053986    0.050324      0.017299        0.000000   \n",
       "Null             0.000000  0.000000    0.000000      0.000000        0.000000   \n",
       "Start            0.119188  0.278408    0.000000      0.142361        0.142644   \n",
       "Paid Search      0.034196  0.064442    0.053309      0.029221        0.048053   \n",
       "\n",
       "                    Null  Start  Paid Search  \n",
       "Instagram       0.629786    0.0     0.045809  \n",
       "Facebook        0.673123    0.0     0.050655  \n",
       "Conversion      0.000000    0.0     0.000000  \n",
       "Online Video    0.763757    0.0     0.047947  \n",
       "Online Display  0.756643    0.0     0.092386  \n",
       "Null            1.000000    0.0     0.000000  \n",
       "Start           0.000000    0.0     0.317399  \n",
       "Paid Search     0.770779    0.0     0.000000  "
      ]
     },
     "execution_count": 65,
     "metadata": {},
     "output_type": "execute_result"
    }
   ],
   "source": [
    "for key, value in trans_prob.items():\n",
    "    origin, destination = key.split(' > ')\n",
    "    trans_matrix.at[origin, destination] = value\n",
    "trans_matrix"
   ]
  },
  {
   "cell_type": "code",
   "execution_count": 68,
   "metadata": {},
   "outputs": [
    {
     "data": {
      "image/png": "[encoded data removed]",
      "text/plain": [
       "<Figure size 648x504 with 2 Axes>"
      ]
     },
     "metadata": {
      "needs_background": "light"
     },
     "output_type": "display_data"
    }
   ],
   "source": [
    "g = sns.heatmap(trans_matrix, annot=True, fmt='.2%', cmap='Blues')\n",
    "g.figure.set_size_inches(9, 7)"
   ]
  },
  {
   "cell_type": "markdown",
   "metadata": {},
   "source": [
    "Start에서 Paid Search로 가는 경향이 있음<br>\n",
    "Instagram에서 Facebook으로 가는 경향이 있음"
   ]
  },
  {
   "cell_type": "markdown",
   "metadata": {},
   "source": [
    "# 각 채널의 제거 효과(Removal Effect)를 구해보자"
   ]
  },
  {
   "cell_type": "code",
   "execution_count": 72,
   "metadata": {},
   "outputs": [
    {
     "data": {
      "text/plain": [
       "['Instagram', 'Facebook', 'Online Video', 'Online Display', 'Paid Search']"
      ]
     },
     "execution_count": 72,
     "metadata": {},
     "output_type": "execute_result"
    }
   ],
   "source": [
    "channels = [column for column in trans_matrix.columns if column not in ['Start', 'Null', 'Conversion']]\n",
    "channels"
   ]
  },
  {
   "cell_type": "markdown",
   "metadata": {},
   "source": [
    "### Facebook 제거 효과를 구해보자\n",
    "* Facebook으로 인한 전환이 다 없어졌다고 가정했을 때 전체 전환율을 구한다.\n",
    "<br>\n",
    "1) Facebook으로 인한 전환을 제거하는 일<br>\n",
    "2) 제거된 상태에서 전체 전환율을 다시 계산해 보는 일"
   ]
  },
  {
   "cell_type": "code",
   "execution_count": 91,
   "metadata": {},
   "outputs": [
    {
     "data": {
      "text/html": [
       "<div>\n",
       "<style scoped>\n",
       "    .dataframe tbody tr th:only-of-type {\n",
       "        vertical-align: middle;\n",
       "    }\n",
       "\n",
       "    .dataframe tbody tr th {\n",
       "        vertical-align: top;\n",
       "    }\n",
       "\n",
       "    .dataframe thead th {\n",
       "        text-align: right;\n",
       "    }\n",
       "</style>\n",
       "<table border=\"1\" class=\"dataframe\">\n",
       "  <thead>\n",
       "    <tr style=\"text-align: right;\">\n",
       "      <th></th>\n",
       "      <th>Instagram</th>\n",
       "      <th>Conversion</th>\n",
       "      <th>Online Video</th>\n",
       "      <th>Online Display</th>\n",
       "      <th>Null</th>\n",
       "      <th>Start</th>\n",
       "      <th>Paid Search</th>\n",
       "    </tr>\n",
       "  </thead>\n",
       "  <tbody>\n",
       "    <tr>\n",
       "      <th>Instagram</th>\n",
       "      <td>0.000000</td>\n",
       "      <td>0.057979</td>\n",
       "      <td>0.024118</td>\n",
       "      <td>0.023531</td>\n",
       "      <td>0.629786</td>\n",
       "      <td>0.0</td>\n",
       "      <td>0.045809</td>\n",
       "    </tr>\n",
       "    <tr>\n",
       "      <th>Conversion</th>\n",
       "      <td>0.000000</td>\n",
       "      <td>1.000000</td>\n",
       "      <td>0.000000</td>\n",
       "      <td>0.000000</td>\n",
       "      <td>0.000000</td>\n",
       "      <td>0.0</td>\n",
       "      <td>0.000000</td>\n",
       "    </tr>\n",
       "    <tr>\n",
       "      <th>Online Video</th>\n",
       "      <td>0.031908</td>\n",
       "      <td>0.078146</td>\n",
       "      <td>0.000000</td>\n",
       "      <td>0.018920</td>\n",
       "      <td>0.763757</td>\n",
       "      <td>0.0</td>\n",
       "      <td>0.047947</td>\n",
       "    </tr>\n",
       "    <tr>\n",
       "      <th>Online Display</th>\n",
       "      <td>0.029363</td>\n",
       "      <td>0.050324</td>\n",
       "      <td>0.017299</td>\n",
       "      <td>0.000000</td>\n",
       "      <td>0.756643</td>\n",
       "      <td>0.0</td>\n",
       "      <td>0.092386</td>\n",
       "    </tr>\n",
       "    <tr>\n",
       "      <th>Null</th>\n",
       "      <td>0.000000</td>\n",
       "      <td>0.000000</td>\n",
       "      <td>0.000000</td>\n",
       "      <td>0.000000</td>\n",
       "      <td>1.000000</td>\n",
       "      <td>0.0</td>\n",
       "      <td>0.000000</td>\n",
       "    </tr>\n",
       "    <tr>\n",
       "      <th>Start</th>\n",
       "      <td>0.119188</td>\n",
       "      <td>0.000000</td>\n",
       "      <td>0.142361</td>\n",
       "      <td>0.142644</td>\n",
       "      <td>0.000000</td>\n",
       "      <td>0.0</td>\n",
       "      <td>0.317399</td>\n",
       "    </tr>\n",
       "    <tr>\n",
       "      <th>Paid Search</th>\n",
       "      <td>0.034196</td>\n",
       "      <td>0.053309</td>\n",
       "      <td>0.029221</td>\n",
       "      <td>0.048053</td>\n",
       "      <td>0.770779</td>\n",
       "      <td>0.0</td>\n",
       "      <td>0.000000</td>\n",
       "    </tr>\n",
       "  </tbody>\n",
       "</table>\n",
       "</div>"
      ],
      "text/plain": [
       "                Instagram  Conversion  Online Video  Online Display      Null  \\\n",
       "Instagram        0.000000    0.057979      0.024118        0.023531  0.629786   \n",
       "Conversion       0.000000    1.000000      0.000000        0.000000  0.000000   \n",
       "Online Video     0.031908    0.078146      0.000000        0.018920  0.763757   \n",
       "Online Display   0.029363    0.050324      0.017299        0.000000  0.756643   \n",
       "Null             0.000000    0.000000      0.000000        0.000000  1.000000   \n",
       "Start            0.119188    0.000000      0.142361        0.142644  0.000000   \n",
       "Paid Search      0.034196    0.053309      0.029221        0.048053  0.770779   \n",
       "\n",
       "                Start  Paid Search  \n",
       "Instagram         0.0     0.045809  \n",
       "Conversion        0.0     0.000000  \n",
       "Online Video      0.0     0.047947  \n",
       "Online Display    0.0     0.092386  \n",
       "Null              0.0     0.000000  \n",
       "Start             0.0     0.317399  \n",
       "Paid Search       0.0     0.000000  "
      ]
     },
     "execution_count": 91,
     "metadata": {},
     "output_type": "execute_result"
    }
   ],
   "source": [
    "channel = 'Facebook'\n",
    "removal = trans_matrix.drop(channel, axis=0).drop(channel, axis=1)\n",
    "removal"
   ]
  },
  {
   "cell_type": "markdown",
   "metadata": {},
   "source": [
    "전이 확률은 행으로 다 더했을 때 1이 되어야 하므로 Null에 부족한 확률에 더해준다."
   ]
  },
  {
   "cell_type": "code",
   "execution_count": 94,
   "metadata": {},
   "outputs": [
    {
     "data": {
      "text/html": [
       "<div>\n",
       "<style scoped>\n",
       "    .dataframe tbody tr th:only-of-type {\n",
       "        vertical-align: middle;\n",
       "    }\n",
       "\n",
       "    .dataframe tbody tr th {\n",
       "        vertical-align: top;\n",
       "    }\n",
       "\n",
       "    .dataframe thead th {\n",
       "        text-align: right;\n",
       "    }\n",
       "</style>\n",
       "<table border=\"1\" class=\"dataframe\">\n",
       "  <thead>\n",
       "    <tr style=\"text-align: right;\">\n",
       "      <th></th>\n",
       "      <th>Instagram</th>\n",
       "      <th>Conversion</th>\n",
       "      <th>Online Video</th>\n",
       "      <th>Online Display</th>\n",
       "      <th>Null</th>\n",
       "      <th>Start</th>\n",
       "      <th>Paid Search</th>\n",
       "    </tr>\n",
       "  </thead>\n",
       "  <tbody>\n",
       "    <tr>\n",
       "      <th>Instagram</th>\n",
       "      <td>0.000000</td>\n",
       "      <td>0.057979</td>\n",
       "      <td>0.024118</td>\n",
       "      <td>0.023531</td>\n",
       "      <td>0.848563</td>\n",
       "      <td>0.0</td>\n",
       "      <td>0.045809</td>\n",
       "    </tr>\n",
       "    <tr>\n",
       "      <th>Conversion</th>\n",
       "      <td>0.000000</td>\n",
       "      <td>1.000000</td>\n",
       "      <td>0.000000</td>\n",
       "      <td>0.000000</td>\n",
       "      <td>0.000000</td>\n",
       "      <td>0.0</td>\n",
       "      <td>0.000000</td>\n",
       "    </tr>\n",
       "    <tr>\n",
       "      <th>Online Video</th>\n",
       "      <td>0.031908</td>\n",
       "      <td>0.078146</td>\n",
       "      <td>0.000000</td>\n",
       "      <td>0.018920</td>\n",
       "      <td>0.823080</td>\n",
       "      <td>0.0</td>\n",
       "      <td>0.047947</td>\n",
       "    </tr>\n",
       "    <tr>\n",
       "      <th>Online Display</th>\n",
       "      <td>0.029363</td>\n",
       "      <td>0.050324</td>\n",
       "      <td>0.017299</td>\n",
       "      <td>0.000000</td>\n",
       "      <td>0.810628</td>\n",
       "      <td>0.0</td>\n",
       "      <td>0.092386</td>\n",
       "    </tr>\n",
       "    <tr>\n",
       "      <th>Null</th>\n",
       "      <td>0.000000</td>\n",
       "      <td>0.000000</td>\n",
       "      <td>0.000000</td>\n",
       "      <td>0.000000</td>\n",
       "      <td>1.000000</td>\n",
       "      <td>0.0</td>\n",
       "      <td>0.000000</td>\n",
       "    </tr>\n",
       "    <tr>\n",
       "      <th>Start</th>\n",
       "      <td>0.119188</td>\n",
       "      <td>0.000000</td>\n",
       "      <td>0.142361</td>\n",
       "      <td>0.142644</td>\n",
       "      <td>0.278408</td>\n",
       "      <td>0.0</td>\n",
       "      <td>0.317399</td>\n",
       "    </tr>\n",
       "    <tr>\n",
       "      <th>Paid Search</th>\n",
       "      <td>0.034196</td>\n",
       "      <td>0.053309</td>\n",
       "      <td>0.029221</td>\n",
       "      <td>0.048053</td>\n",
       "      <td>0.835221</td>\n",
       "      <td>0.0</td>\n",
       "      <td>0.000000</td>\n",
       "    </tr>\n",
       "  </tbody>\n",
       "</table>\n",
       "</div>"
      ],
      "text/plain": [
       "                Instagram  Conversion  Online Video  Online Display      Null  \\\n",
       "Instagram        0.000000    0.057979      0.024118        0.023531  0.848563   \n",
       "Conversion       0.000000    1.000000      0.000000        0.000000  0.000000   \n",
       "Online Video     0.031908    0.078146      0.000000        0.018920  0.823080   \n",
       "Online Display   0.029363    0.050324      0.017299        0.000000  0.810628   \n",
       "Null             0.000000    0.000000      0.000000        0.000000  1.000000   \n",
       "Start            0.119188    0.000000      0.142361        0.142644  0.278408   \n",
       "Paid Search      0.034196    0.053309      0.029221        0.048053  0.835221   \n",
       "\n",
       "                Start  Paid Search  \n",
       "Instagram         0.0     0.045809  \n",
       "Conversion        0.0     0.000000  \n",
       "Online Video      0.0     0.047947  \n",
       "Online Display    0.0     0.092386  \n",
       "Null              0.0     0.000000  \n",
       "Start             0.0     0.317399  \n",
       "Paid Search       0.0     0.000000  "
      ]
     },
     "execution_count": 94,
     "metadata": {},
     "output_type": "execute_result"
    }
   ],
   "source": [
    "for column in removal.columns:\n",
    "    row_sum = np.sum(list(removal.loc[column]))\n",
    "    null_pct = 1.0 - row_sum\n",
    "    if null_pct != 0:\n",
    "        removal.loc[column]['Null'] += null_pct\n",
    "    removal.loc['Null']['Null'] = 1.0\n",
    "removal"
   ]
  },
  {
   "cell_type": "code",
   "execution_count": 101,
   "metadata": {},
   "outputs": [
    {
     "data": {
      "text/plain": [
       "([0.0,\n",
       "  0.057979218048760765,\n",
       "  0.024117575708567502,\n",
       "  0.023531314438199977,\n",
       "  0.8485626490923058,\n",
       "  0.0,\n",
       "  0.04580924271216593],\n",
       " 1.0)"
      ]
     },
     "execution_count": 101,
     "metadata": {},
     "output_type": "execute_result"
    }
   ],
   "source": [
    "column = 'Instagram'\n",
    "list(removal.loc[column]), np.sum(list(removal.loc[column]))"
   ]
  },
  {
   "cell_type": "markdown",
   "metadata": {},
   "source": [
    "맨 처음 Start에서 시작해서 어떤 state를 다 거치고 오더라도<br>\n",
    "결과적으로 Conversion으로 가는 확률값 = Facebook을 제거했을 때 Start에서 시작한 최종적인 전환율<br>\n",
    "<br>\n",
    "Absorbing States: Null or Conversion<br>\n",
    "Transition States: 변화하는 States 나머지 Start에서 각 Channel"
   ]
  },
  {
   "cell_type": "code",
   "execution_count": 105,
   "metadata": {},
   "outputs": [
    {
     "data": {
      "text/html": [
       "<div>\n",
       "<style scoped>\n",
       "    .dataframe tbody tr th:only-of-type {\n",
       "        vertical-align: middle;\n",
       "    }\n",
       "\n",
       "    .dataframe tbody tr th {\n",
       "        vertical-align: top;\n",
       "    }\n",
       "\n",
       "    .dataframe thead th {\n",
       "        text-align: right;\n",
       "    }\n",
       "</style>\n",
       "<table border=\"1\" class=\"dataframe\">\n",
       "  <thead>\n",
       "    <tr style=\"text-align: right;\">\n",
       "      <th></th>\n",
       "      <th>Null</th>\n",
       "      <th>Conversion</th>\n",
       "    </tr>\n",
       "  </thead>\n",
       "  <tbody>\n",
       "    <tr>\n",
       "      <th>Instagram</th>\n",
       "      <td>0.848563</td>\n",
       "      <td>0.057979</td>\n",
       "    </tr>\n",
       "    <tr>\n",
       "      <th>Online Video</th>\n",
       "      <td>0.823080</td>\n",
       "      <td>0.078146</td>\n",
       "    </tr>\n",
       "    <tr>\n",
       "      <th>Online Display</th>\n",
       "      <td>0.810628</td>\n",
       "      <td>0.050324</td>\n",
       "    </tr>\n",
       "    <tr>\n",
       "      <th>Start</th>\n",
       "      <td>0.278408</td>\n",
       "      <td>0.000000</td>\n",
       "    </tr>\n",
       "    <tr>\n",
       "      <th>Paid Search</th>\n",
       "      <td>0.835221</td>\n",
       "      <td>0.053309</td>\n",
       "    </tr>\n",
       "  </tbody>\n",
       "</table>\n",
       "</div>"
      ],
      "text/plain": [
       "                    Null  Conversion\n",
       "Instagram       0.848563    0.057979\n",
       "Online Video    0.823080    0.078146\n",
       "Online Display  0.810628    0.050324\n",
       "Start           0.278408    0.000000\n",
       "Paid Search     0.835221    0.053309"
      ]
     },
     "execution_count": 105,
     "metadata": {},
     "output_type": "execute_result"
    }
   ],
   "source": [
    "removal_to_conv = removal[['Null', 'Conversion']].drop(['Null', 'Conversion'], axis=0)\n",
    "removal_to_conv # R"
   ]
  },
  {
   "cell_type": "code",
   "execution_count": 106,
   "metadata": {},
   "outputs": [
    {
     "data": {
      "text/html": [
       "<div>\n",
       "<style scoped>\n",
       "    .dataframe tbody tr th:only-of-type {\n",
       "        vertical-align: middle;\n",
       "    }\n",
       "\n",
       "    .dataframe tbody tr th {\n",
       "        vertical-align: top;\n",
       "    }\n",
       "\n",
       "    .dataframe thead th {\n",
       "        text-align: right;\n",
       "    }\n",
       "</style>\n",
       "<table border=\"1\" class=\"dataframe\">\n",
       "  <thead>\n",
       "    <tr style=\"text-align: right;\">\n",
       "      <th></th>\n",
       "      <th>Instagram</th>\n",
       "      <th>Online Video</th>\n",
       "      <th>Online Display</th>\n",
       "      <th>Start</th>\n",
       "      <th>Paid Search</th>\n",
       "    </tr>\n",
       "  </thead>\n",
       "  <tbody>\n",
       "    <tr>\n",
       "      <th>Instagram</th>\n",
       "      <td>0.000000</td>\n",
       "      <td>0.024118</td>\n",
       "      <td>0.023531</td>\n",
       "      <td>0.0</td>\n",
       "      <td>0.045809</td>\n",
       "    </tr>\n",
       "    <tr>\n",
       "      <th>Online Video</th>\n",
       "      <td>0.031908</td>\n",
       "      <td>0.000000</td>\n",
       "      <td>0.018920</td>\n",
       "      <td>0.0</td>\n",
       "      <td>0.047947</td>\n",
       "    </tr>\n",
       "    <tr>\n",
       "      <th>Online Display</th>\n",
       "      <td>0.029363</td>\n",
       "      <td>0.017299</td>\n",
       "      <td>0.000000</td>\n",
       "      <td>0.0</td>\n",
       "      <td>0.092386</td>\n",
       "    </tr>\n",
       "    <tr>\n",
       "      <th>Start</th>\n",
       "      <td>0.119188</td>\n",
       "      <td>0.142361</td>\n",
       "      <td>0.142644</td>\n",
       "      <td>0.0</td>\n",
       "      <td>0.317399</td>\n",
       "    </tr>\n",
       "    <tr>\n",
       "      <th>Paid Search</th>\n",
       "      <td>0.034196</td>\n",
       "      <td>0.029221</td>\n",
       "      <td>0.048053</td>\n",
       "      <td>0.0</td>\n",
       "      <td>0.000000</td>\n",
       "    </tr>\n",
       "  </tbody>\n",
       "</table>\n",
       "</div>"
      ],
      "text/plain": [
       "                Instagram  Online Video  Online Display  Start  Paid Search\n",
       "Instagram        0.000000      0.024118        0.023531    0.0     0.045809\n",
       "Online Video     0.031908      0.000000        0.018920    0.0     0.047947\n",
       "Online Display   0.029363      0.017299        0.000000    0.0     0.092386\n",
       "Start            0.119188      0.142361        0.142644    0.0     0.317399\n",
       "Paid Search      0.034196      0.029221        0.048053    0.0     0.000000"
      ]
     },
     "execution_count": 106,
     "metadata": {},
     "output_type": "execute_result"
    }
   ],
   "source": [
    "removal_to_non_conv = removal.drop(['Null', 'Conversion'], axis=1).drop(['Null', 'Conversion'], axis=0)\n",
    "removal_to_non_conv # Q"
   ]
  },
  {
   "cell_type": "markdown",
   "metadata": {},
   "source": [
    "$\\bar{P} = \\begin{bmatrix}\n",
    "I & 0 \\\\\n",
    "FR & 0 \\\\\n",
    "\\end{bmatrix}$\n",
    "\n",
    "$F = (I - Q)^{-1}$"
   ]
  },
  {
   "cell_type": "code",
   "execution_count": 115,
   "metadata": {},
   "outputs": [
    {
     "data": {
      "text/plain": [
       "array([[0.84856265, 0.05797922],\n",
       "       [0.82307993, 0.0781456 ],\n",
       "       [0.81062811, 0.05032391],\n",
       "       [0.27840805, 0.        ],\n",
       "       [0.83522062, 0.05330932]])"
      ]
     },
     "execution_count": 115,
     "metadata": {},
     "output_type": "execute_result"
    }
   ],
   "source": [
    "R = np.array(removal_to_conv)\n",
    "R"
   ]
  },
  {
   "cell_type": "code",
   "execution_count": 110,
   "metadata": {},
   "outputs": [
    {
     "data": {
      "text/plain": [
       "array([[1., 0., 0., 0., 0.],\n",
       "       [0., 1., 0., 0., 0.],\n",
       "       [0., 0., 1., 0., 0.],\n",
       "       [0., 0., 0., 1., 0.],\n",
       "       [0., 0., 0., 0., 1.]])"
      ]
     },
     "execution_count": 110,
     "metadata": {},
     "output_type": "execute_result"
    }
   ],
   "source": [
    "I = np.identity(len(removal_to_non_conv.columns))\n",
    "I"
   ]
  },
  {
   "cell_type": "code",
   "execution_count": 111,
   "metadata": {},
   "outputs": [
    {
     "data": {
      "text/plain": [
       "array([[0.        , 0.02411758, 0.02353131, 0.        , 0.04580924],\n",
       "       [0.03190762, 0.        , 0.01891997, 0.        , 0.04794688],\n",
       "       [0.02936344, 0.01729885, 0.        , 0.        , 0.09238569],\n",
       "       [0.11918803, 0.14236094, 0.14264414, 0.        , 0.31739884],\n",
       "       [0.03419631, 0.02922107, 0.04805268, 0.        , 0.        ]])"
      ]
     },
     "execution_count": 111,
     "metadata": {},
     "output_type": "execute_result"
    }
   ],
   "source": [
    "Q = np.array(removal_to_non_conv)\n",
    "Q"
   ]
  },
  {
   "cell_type": "code",
   "execution_count": 113,
   "metadata": {},
   "outputs": [
    {
     "data": {
      "text/plain": [
       "array([[1.00330901, 0.02610673, 0.0264894 , 0.        , 0.0496598 ],\n",
       "       [0.03441676, 1.00272629, 0.02226629, 0.        , 0.05171129],\n",
       "       [0.03346716, 0.02099524, 1.0057718 , 0.        , 0.09545869],\n",
       "       [0.14097535, 0.15875911, 0.16562845, 1.        , 0.34677051],\n",
       "       [0.03692335, 0.03120237, 0.04988651, 0.        , 1.00779629]])"
      ]
     },
     "execution_count": 113,
     "metadata": {},
     "output_type": "execute_result"
    }
   ],
   "source": [
    "F = np.linalg.inv(I - Q)\n",
    "F"
   ]
  },
  {
   "cell_type": "code",
   "execution_count": 117,
   "metadata": {},
   "outputs": [
    {
     "data": {
      "text/plain": [
       "array([[0.93580842, 0.06419158],\n",
       "       [0.91576868, 0.08423132],\n",
       "       [0.9407157 , 0.0592843 ],\n",
       "       [0.95259886, 0.04740114],\n",
       "       [0.93918547, 0.06081453]])"
      ]
     },
     "execution_count": 117,
     "metadata": {},
     "output_type": "execute_result"
    }
   ],
   "source": [
    "removal_dot_prod = np.dot(F, R)\n",
    "removal_dot_prod"
   ]
  },
  {
   "cell_type": "code",
   "execution_count": 120,
   "metadata": {},
   "outputs": [
    {
     "data": {
      "text/html": [
       "<div>\n",
       "<style scoped>\n",
       "    .dataframe tbody tr th:only-of-type {\n",
       "        vertical-align: middle;\n",
       "    }\n",
       "\n",
       "    .dataframe tbody tr th {\n",
       "        vertical-align: top;\n",
       "    }\n",
       "\n",
       "    .dataframe thead th {\n",
       "        text-align: right;\n",
       "    }\n",
       "</style>\n",
       "<table border=\"1\" class=\"dataframe\">\n",
       "  <thead>\n",
       "    <tr style=\"text-align: right;\">\n",
       "      <th></th>\n",
       "      <th>Null</th>\n",
       "      <th>Conversion</th>\n",
       "    </tr>\n",
       "  </thead>\n",
       "  <tbody>\n",
       "    <tr>\n",
       "      <th>Instagram</th>\n",
       "      <td>0.935808</td>\n",
       "      <td>0.064192</td>\n",
       "    </tr>\n",
       "    <tr>\n",
       "      <th>Online Video</th>\n",
       "      <td>0.915769</td>\n",
       "      <td>0.084231</td>\n",
       "    </tr>\n",
       "    <tr>\n",
       "      <th>Online Display</th>\n",
       "      <td>0.940716</td>\n",
       "      <td>0.059284</td>\n",
       "    </tr>\n",
       "    <tr>\n",
       "      <th>Start</th>\n",
       "      <td>0.952599</td>\n",
       "      <td>0.047401</td>\n",
       "    </tr>\n",
       "    <tr>\n",
       "      <th>Paid Search</th>\n",
       "      <td>0.939185</td>\n",
       "      <td>0.060815</td>\n",
       "    </tr>\n",
       "  </tbody>\n",
       "</table>\n",
       "</div>"
      ],
      "text/plain": [
       "                    Null  Conversion\n",
       "Instagram       0.935808    0.064192\n",
       "Online Video    0.915769    0.084231\n",
       "Online Display  0.940716    0.059284\n",
       "Start           0.952599    0.047401\n",
       "Paid Search     0.939185    0.060815"
      ]
     },
     "execution_count": 120,
     "metadata": {},
     "output_type": "execute_result"
    }
   ],
   "source": [
    "pd.DataFrame(removal_dot_prod, index=removal_to_conv.index, columns=removal_to_conv.columns)"
   ]
  },
  {
   "cell_type": "markdown",
   "metadata": {},
   "source": [
    "Start > Conversion: 0.047401(4.7%)"
   ]
  },
  {
   "cell_type": "code",
   "execution_count": 128,
   "metadata": {},
   "outputs": [
    {
     "data": {
      "text/plain": [
       "0.04740113808165116"
      ]
     },
     "execution_count": 128,
     "metadata": {},
     "output_type": "execute_result"
    }
   ],
   "source": [
    "removal_cvr = pd.DataFrame(removal_dot_prod, index=removal_to_conv.index, columns=removal_to_conv.columns)[['Conversion']].loc['Start'].values[0]\n",
    "removal_cvr"
   ]
  },
  {
   "cell_type": "code",
   "execution_count": 130,
   "metadata": {},
   "outputs": [
    {
     "data": {
      "text/plain": [
       "0.07346277508454528"
      ]
     },
     "execution_count": 130,
     "metadata": {},
     "output_type": "execute_result"
    }
   ],
   "source": [
    "base_conversion_rate"
   ]
  },
  {
   "cell_type": "markdown",
   "metadata": {},
   "source": [
    "전체 전환율 중 Facebook을 제거한 전환율의 비중은 다음과 같다"
   ]
  },
  {
   "cell_type": "code",
   "execution_count": 134,
   "metadata": {},
   "outputs": [
    {
     "data": {
      "text/plain": [
       "0.6452402325817279"
      ]
     },
     "execution_count": 134,
     "metadata": {},
     "output_type": "execute_result"
    }
   ],
   "source": [
    "removal_cvr / base_conversion_rate"
   ]
  },
  {
   "cell_type": "code",
   "execution_count": 136,
   "metadata": {},
   "outputs": [
    {
     "data": {
      "text/plain": [
       "0.3547597674182721"
      ]
     },
     "execution_count": 136,
     "metadata": {},
     "output_type": "execute_result"
    }
   ],
   "source": [
    "removal_effect = 1.0 - (removal_cvr / base_conversion_rate)\n",
    "removal_effect"
   ]
  },
  {
   "cell_type": "markdown",
   "metadata": {},
   "source": [
    "전환율이 35%가 사라질 수 있겠구나! (하지만 모든 채널의 효과를 구해서 다시 비중을 조정해야 한다.)"
   ]
  },
  {
   "cell_type": "markdown",
   "metadata": {},
   "source": [
    "### 각 채널에 대한 제거효과 구하기"
   ]
  },
  {
   "cell_type": "code",
   "execution_count": 146,
   "metadata": {},
   "outputs": [],
   "source": [
    "def removal_effects(df, conversion_rate):\n",
    "    removal_effects_dict = {}\n",
    "    channels = [column for column in trans_matrix.columns if column not in ['Start', 'Null', 'Conversion']]\n",
    "    for channel in channels:\n",
    "        removal = df.drop(channel, axis=1).drop(channel, axis=0)\n",
    "        for column in removal.columns:\n",
    "            row_sum = np.sum(list(removal.loc[column]))\n",
    "            null_pct = 1.0 - row_sum\n",
    "            if null_pct != 0:\n",
    "                removal.loc[column]['Null'] = null_pct\n",
    "            removal.loc['Null']['Null'] = 1.0\n",
    "\n",
    "        removal_to_conv = removal[['Null', 'Conversion']].drop(['Null', 'Conversion'], axis=0)\n",
    "        removal_to_non_conv = removal.drop(['Null', 'Conversion'], axis=1).drop(['Null', 'Conversion'], axis=0)\n",
    "\n",
    "        R = np.array(removal_to_conv)\n",
    "        Q = np.array(removal_to_non_conv)\n",
    "        I = np.identity(len(removal_to_non_conv.columns))\n",
    "        F = np.linalg.inv(I - Q)\n",
    "\n",
    "        removal_dot_prod = np.dot(F, R)\n",
    "\n",
    "        removal_cvr = pd.DataFrame(removal_dot_prod, index=removal_to_conv.index, columns=removal_to_conv.columns)[['Conversion']].loc['Start'].values[0]\n",
    "        removal_effect = 1.0 - (removal_cvr / base_conversion_rate)\n",
    "        removal_effects_dict[channel] = removal_effect\n",
    "    return removal_effects_dict"
   ]
  },
  {
   "cell_type": "code",
   "execution_count": 148,
   "metadata": {},
   "outputs": [
    {
     "data": {
      "text/plain": [
       "{'Instagram': 0.21731366149038456,\n",
       " 'Facebook': 0.3547597674182721,\n",
       " 'Online Video': 0.2069141165564219,\n",
       " 'Online Display': 0.15435482356041275,\n",
       " 'Paid Search': 0.3311037560086154}"
      ]
     },
     "execution_count": 148,
     "metadata": {},
     "output_type": "execute_result"
    }
   ],
   "source": [
    "removal_effects_dict = removal_effects(trans_matrix, base_conversion_rate)\n",
    "removal_effects_dict"
   ]
  },
  {
   "cell_type": "code",
   "execution_count": 150,
   "metadata": {},
   "outputs": [
    {
     "data": {
      "text/plain": [
       "1.2644461250341066"
      ]
     },
     "execution_count": 150,
     "metadata": {},
     "output_type": "execute_result"
    }
   ],
   "source": [
    "re_sum = np.sum(list(removal_effects_dict.values()))\n",
    "re_sum"
   ]
  },
  {
   "cell_type": "markdown",
   "metadata": {},
   "source": [
    "### 앞에서 구한 확률을 전체 확률로 나누고, 총 전환수에 곱한다.\n",
    "\n",
    "* 각 제거 효과로 구한 확률의 비중만큼 전환에 대한 기여도를 재조정한다."
   ]
  },
  {
   "cell_type": "code",
   "execution_count": 153,
   "metadata": {},
   "outputs": [
    {
     "name": "stdout",
     "output_type": "stream",
     "text": [
      "Instagram 3031.521548555893\n",
      "Facebook 4948.892177847523\n",
      "Online Video 2886.4480895461475\n",
      "Online Display 2153.2469267590823\n",
      "Paid Search 4618.891257291356\n"
     ]
    }
   ],
   "source": [
    "for k, v in removal_effects_dict.items():\n",
    "    print(k, (v / re_sum) * conversion_count)"
   ]
  },
  {
   "cell_type": "code",
   "execution_count": 157,
   "metadata": {},
   "outputs": [],
   "source": [
    "def markov_chain_allocations(removal_effects, total_conversions):\n",
    "    re_sum = np.sum(list(removal_effects_dict.values()))\n",
    "    return {k: (v / re_sum) * total_conversions for k, v in removal_effects.items()}"
   ]
  },
  {
   "cell_type": "code",
   "execution_count": 159,
   "metadata": {},
   "outputs": [
    {
     "data": {
      "text/plain": [
       "{'Instagram': 3031.521548555893,\n",
       " 'Facebook': 4948.892177847523,\n",
       " 'Online Video': 2886.4480895461475,\n",
       " 'Online Display': 2153.2469267590823,\n",
       " 'Paid Search': 4618.891257291356}"
      ]
     },
     "execution_count": 159,
     "metadata": {},
     "output_type": "execute_result"
    }
   ],
   "source": [
    "attributions = markov_chain_allocations(removal_effects_dict, conversion_count)\n",
    "attributions"
   ]
  },
  {
   "cell_type": "code",
   "execution_count": 161,
   "metadata": {},
   "outputs": [
    {
     "data": {
      "text/plain": [
       "17639"
      ]
     },
     "execution_count": 161,
     "metadata": {},
     "output_type": "execute_result"
    }
   ],
   "source": [
    "conversion_count"
   ]
  },
  {
   "cell_type": "code",
   "execution_count": 163,
   "metadata": {},
   "outputs": [
    {
     "data": {
      "text/plain": [
       "17639.0"
      ]
     },
     "execution_count": 163,
     "metadata": {},
     "output_type": "execute_result"
    }
   ],
   "source": [
    "sum(attributions.values())"
   ]
  },
  {
   "cell_type": "code",
   "execution_count": 165,
   "metadata": {},
   "outputs": [
    {
     "data": {
      "text/html": [
       "<div>\n",
       "<style scoped>\n",
       "    .dataframe tbody tr th:only-of-type {\n",
       "        vertical-align: middle;\n",
       "    }\n",
       "\n",
       "    .dataframe tbody tr th {\n",
       "        vertical-align: top;\n",
       "    }\n",
       "\n",
       "    .dataframe thead th {\n",
       "        text-align: right;\n",
       "    }\n",
       "</style>\n",
       "<table border=\"1\" class=\"dataframe\">\n",
       "  <thead>\n",
       "    <tr style=\"text-align: right;\">\n",
       "      <th></th>\n",
       "      <th>channel</th>\n",
       "      <th>attribution</th>\n",
       "    </tr>\n",
       "  </thead>\n",
       "  <tbody>\n",
       "    <tr>\n",
       "      <th>0</th>\n",
       "      <td>Instagram</td>\n",
       "      <td>3031.521549</td>\n",
       "    </tr>\n",
       "    <tr>\n",
       "      <th>1</th>\n",
       "      <td>Facebook</td>\n",
       "      <td>4948.892178</td>\n",
       "    </tr>\n",
       "    <tr>\n",
       "      <th>2</th>\n",
       "      <td>Online Video</td>\n",
       "      <td>2886.448090</td>\n",
       "    </tr>\n",
       "    <tr>\n",
       "      <th>3</th>\n",
       "      <td>Online Display</td>\n",
       "      <td>2153.246927</td>\n",
       "    </tr>\n",
       "    <tr>\n",
       "      <th>4</th>\n",
       "      <td>Paid Search</td>\n",
       "      <td>4618.891257</td>\n",
       "    </tr>\n",
       "  </tbody>\n",
       "</table>\n",
       "</div>"
      ],
      "text/plain": [
       "          channel  attribution\n",
       "0       Instagram  3031.521549\n",
       "1        Facebook  4948.892178\n",
       "2    Online Video  2886.448090\n",
       "3  Online Display  2153.246927\n",
       "4     Paid Search  4618.891257"
      ]
     },
     "execution_count": 165,
     "metadata": {},
     "output_type": "execute_result"
    }
   ],
   "source": [
    "attribution_by_markov = pd.DataFrame({'channel': attributions.keys(), 'attribution': attributions.values()})\n",
    "attribution_by_markov"
   ]
  },
  {
   "cell_type": "code",
   "execution_count": 166,
   "metadata": {},
   "outputs": [
    {
     "data": {
      "image/png": "[encoded data removed]",
      "text/plain": [
       "<Figure size 720x504 with 1 Axes>"
      ]
     },
     "metadata": {},
     "output_type": "display_data"
    }
   ],
   "source": [
    "sns.set_theme(style='whitegrid', palette='Paired')\n",
    "g = sns.barplot(x=attribution_by_markov.channel, y=attribution_by_markov.attribution, data=attribution_by_markov)\n",
    "g.figure.set_size_inches(10, 7)"
   ]
  },
  {
   "cell_type": "markdown",
   "metadata": {},
   "source": [
    "# 간단한 기여도 모델과 Markov Chain 모델로 구한 기여도 비교하기"
   ]
  },
  {
   "cell_type": "code",
   "execution_count": 168,
   "metadata": {},
   "outputs": [
    {
     "data": {
      "text/html": [
       "<div>\n",
       "<style scoped>\n",
       "    .dataframe tbody tr th:only-of-type {\n",
       "        vertical-align: middle;\n",
       "    }\n",
       "\n",
       "    .dataframe tbody tr th {\n",
       "        vertical-align: top;\n",
       "    }\n",
       "\n",
       "    .dataframe thead th {\n",
       "        text-align: right;\n",
       "    }\n",
       "</style>\n",
       "<table border=\"1\" class=\"dataframe\">\n",
       "  <thead>\n",
       "    <tr style=\"text-align: right;\">\n",
       "      <th></th>\n",
       "      <th>channel</th>\n",
       "      <th>attribution</th>\n",
       "      <th>method</th>\n",
       "    </tr>\n",
       "  </thead>\n",
       "  <tbody>\n",
       "    <tr>\n",
       "      <th>0</th>\n",
       "      <td>Facebook</td>\n",
       "      <td>5301.000000</td>\n",
       "      <td>last</td>\n",
       "    </tr>\n",
       "    <tr>\n",
       "      <th>1</th>\n",
       "      <td>Instagram</td>\n",
       "      <td>2244.000000</td>\n",
       "      <td>last</td>\n",
       "    </tr>\n",
       "    <tr>\n",
       "      <th>2</th>\n",
       "      <td>Online Display</td>\n",
       "      <td>2139.000000</td>\n",
       "      <td>last</td>\n",
       "    </tr>\n",
       "    <tr>\n",
       "      <th>3</th>\n",
       "      <td>Online Video</td>\n",
       "      <td>3408.000000</td>\n",
       "      <td>last</td>\n",
       "    </tr>\n",
       "    <tr>\n",
       "      <th>4</th>\n",
       "      <td>Paid Search</td>\n",
       "      <td>4547.000000</td>\n",
       "      <td>last</td>\n",
       "    </tr>\n",
       "    <tr>\n",
       "      <th>5</th>\n",
       "      <td>Facebook</td>\n",
       "      <td>5177.000000</td>\n",
       "      <td>first</td>\n",
       "    </tr>\n",
       "    <tr>\n",
       "      <th>6</th>\n",
       "      <td>Instagram</td>\n",
       "      <td>2329.000000</td>\n",
       "      <td>first</td>\n",
       "    </tr>\n",
       "    <tr>\n",
       "      <th>7</th>\n",
       "      <td>Online Display</td>\n",
       "      <td>2160.000000</td>\n",
       "      <td>first</td>\n",
       "    </tr>\n",
       "    <tr>\n",
       "      <th>8</th>\n",
       "      <td>Online Video</td>\n",
       "      <td>3216.000000</td>\n",
       "      <td>first</td>\n",
       "    </tr>\n",
       "    <tr>\n",
       "      <th>9</th>\n",
       "      <td>Paid Search</td>\n",
       "      <td>4757.000000</td>\n",
       "      <td>first</td>\n",
       "    </tr>\n",
       "    <tr>\n",
       "      <th>10</th>\n",
       "      <td>Facebook</td>\n",
       "      <td>4947.600000</td>\n",
       "      <td>linear</td>\n",
       "    </tr>\n",
       "    <tr>\n",
       "      <th>11</th>\n",
       "      <td>Instagram</td>\n",
       "      <td>2627.100000</td>\n",
       "      <td>linear</td>\n",
       "    </tr>\n",
       "    <tr>\n",
       "      <th>12</th>\n",
       "      <td>Online Display</td>\n",
       "      <td>2143.600000</td>\n",
       "      <td>linear</td>\n",
       "    </tr>\n",
       "    <tr>\n",
       "      <th>13</th>\n",
       "      <td>Online Video</td>\n",
       "      <td>3192.183333</td>\n",
       "      <td>linear</td>\n",
       "    </tr>\n",
       "    <tr>\n",
       "      <th>14</th>\n",
       "      <td>Paid Search</td>\n",
       "      <td>4728.516667</td>\n",
       "      <td>linear</td>\n",
       "    </tr>\n",
       "  </tbody>\n",
       "</table>\n",
       "</div>"
      ],
      "text/plain": [
       "           channel  attribution  method\n",
       "0         Facebook  5301.000000    last\n",
       "1        Instagram  2244.000000    last\n",
       "2   Online Display  2139.000000    last\n",
       "3     Online Video  3408.000000    last\n",
       "4      Paid Search  4547.000000    last\n",
       "5         Facebook  5177.000000   first\n",
       "6        Instagram  2329.000000   first\n",
       "7   Online Display  2160.000000   first\n",
       "8     Online Video  3216.000000   first\n",
       "9      Paid Search  4757.000000   first\n",
       "10        Facebook  4947.600000  linear\n",
       "11       Instagram  2627.100000  linear\n",
       "12  Online Display  2143.600000  linear\n",
       "13    Online Video  3192.183333  linear\n",
       "14     Paid Search  4728.516667  linear"
      ]
     },
     "execution_count": 168,
     "metadata": {},
     "output_type": "execute_result"
    }
   ],
   "source": [
    "df_last_interaction = df.drop_duplicates('cookie', keep='last')[['cookie', 'channel', 'conversion']]\n",
    "df_last_interaction_conv = df_last_interaction[df_last_interaction.conversion == 1]\n",
    "last_interaction_attrib = df_last_interaction_conv.groupby('channel')['cookie'].count().reset_index().rename(columns={'cookie': 'attribution'})\n",
    "last_interaction_attrib['method'] = 'last'\n",
    "\n",
    "df_first_interaction = df.drop_duplicates('cookie', keep='first')[['cookie', 'channel', 'conversion']]\n",
    "df_first_interaction_conv = df_first_interaction.merge(df_last_interaction_conv[['cookie']], on='cookie')\n",
    "first_interaction_attrib = df_first_interaction_conv.groupby('channel')['cookie'].count().reset_index().rename(columns={'cookie': 'attribution'})\n",
    "first_interaction_attrib['method'] = 'first'\n",
    "\n",
    "df_uniq_chl = df.drop_duplicates(['cookie', 'channel'], keep='last')[['cookie', 'channel']]\n",
    "df_uniq_chl_cnt = df_uniq_chl.groupby('cookie').count().rename(columns={'channel': 'channel_cnt'}).reset_index()\n",
    "df_uniq_chl_total = df_uniq_chl.merge(df_uniq_chl_cnt, on='cookie')\n",
    "df_linear_interaction_conv = df_uniq_chl_total.merge(df_last_interaction_conv[['cookie', 'conversion']], on='cookie')\n",
    "df_linear_interaction_conv['linear_attr'] = df_linear_interaction_conv.conversion.divide(df_linear_interaction_conv.channel_cnt)\n",
    "linear_interaction_attrib = df_linear_interaction_conv.groupby('channel')['linear_attr'].sum().reset_index().rename(columns={'linear_attr':'attribution'})\n",
    "linear_interaction_attrib['method'] = 'linear'\n",
    "\n",
    "total_data = (\n",
    "    last_interaction_attrib\n",
    "    .append(first_interaction_attrib, ignore_index=True)\n",
    "    .append(linear_interaction_attrib, ignore_index=True)\n",
    ")\n",
    "total_data"
   ]
  },
  {
   "cell_type": "code",
   "execution_count": 170,
   "metadata": {},
   "outputs": [],
   "source": [
    "attribution_by_markov['method'] = 'markov'"
   ]
  },
  {
   "cell_type": "code",
   "execution_count": 171,
   "metadata": {},
   "outputs": [],
   "source": [
    "total_with_markov = total_data.append(attribution_by_markov, ignore_index=True)"
   ]
  },
  {
   "cell_type": "code",
   "execution_count": 172,
   "metadata": {},
   "outputs": [
    {
     "data": {
      "image/png": "[encoded data removed]",
      "text/plain": [
       "<Figure size 720x504 with 1 Axes>"
      ]
     },
     "metadata": {},
     "output_type": "display_data"
    }
   ],
   "source": [
    "sns.set_theme(style='whitegrid', palette='Paired')\n",
    "g = sns.barplot(x=total_with_markov.channel, y=total_with_markov.attribution, hue=total_with_markov.method)\n",
    "g.figure.set_size_inches(10, 7)"
   ]
  },
  {
   "cell_type": "markdown",
   "metadata": {},
   "source": [
    "Instagrm의 경우 markov의 기여도가 더 높음을 알 수 있다."
   ]
  },
  {
   "cell_type": "code",
   "execution_count": null,
   "metadata": {},
   "outputs": [],
   "source": []
  }
 ],
 "metadata": {
  "kernelspec": {
   "display_name": "Python 3",
   "language": "python",
   "name": "python3"
  },
  "language_info": {
   "codemirror_mode": {
    "name": "ipython",
    "version": 3
   },
   "file_extension": ".py",
   "mimetype": "text/x-python",
   "name": "python",
   "nbconvert_exporter": "python",
   "pygments_lexer": "ipython3",
   "version": "3.8.5"
  }
 },
 "nbformat": 4,
 "nbformat_minor": 4
}
