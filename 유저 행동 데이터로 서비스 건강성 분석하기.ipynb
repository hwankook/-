{
 "cells": [
  {
   "cell_type": "code",
   "execution_count": 293,
   "metadata": {},
   "outputs": [],
   "source": [
    "import pandas as pd"
   ]
  },
  {
   "cell_type": "code",
   "execution_count": 294,
   "metadata": {},
   "outputs": [],
   "source": [
    "df = pd.read_csv('event_log.csv')"
   ]
  },
  {
   "cell_type": "code",
   "execution_count": 295,
   "metadata": {},
   "outputs": [
    {
     "data": {
      "text/html": [
       "<div>\n",
       "<style scoped>\n",
       "    .dataframe tbody tr th:only-of-type {\n",
       "        vertical-align: middle;\n",
       "    }\n",
       "\n",
       "    .dataframe tbody tr th {\n",
       "        vertical-align: top;\n",
       "    }\n",
       "\n",
       "    .dataframe thead th {\n",
       "        text-align: right;\n",
       "    }\n",
       "</style>\n",
       "<table border=\"1\" class=\"dataframe\">\n",
       "  <thead>\n",
       "    <tr style=\"text-align: right;\">\n",
       "      <th></th>\n",
       "      <th>event_time</th>\n",
       "      <th>event_type</th>\n",
       "      <th>product_id</th>\n",
       "      <th>category_id</th>\n",
       "      <th>category_code</th>\n",
       "      <th>brand</th>\n",
       "      <th>price</th>\n",
       "      <th>user_id</th>\n",
       "      <th>user_session</th>\n",
       "    </tr>\n",
       "  </thead>\n",
       "  <tbody>\n",
       "    <tr>\n",
       "      <th>0</th>\n",
       "      <td>2020-09-24 11:57:06 UTC</td>\n",
       "      <td>view</td>\n",
       "      <td>1996170</td>\n",
       "      <td>2144415922528452715</td>\n",
       "      <td>electronics.telephone</td>\n",
       "      <td>NaN</td>\n",
       "      <td>31.90</td>\n",
       "      <td>1515915625519388267</td>\n",
       "      <td>LJuJVLEjPT</td>\n",
       "    </tr>\n",
       "    <tr>\n",
       "      <th>1</th>\n",
       "      <td>2020-09-24 11:57:26 UTC</td>\n",
       "      <td>view</td>\n",
       "      <td>139905</td>\n",
       "      <td>2144415926932472027</td>\n",
       "      <td>computers.components.cooler</td>\n",
       "      <td>zalman</td>\n",
       "      <td>17.16</td>\n",
       "      <td>1515915625519380411</td>\n",
       "      <td>tdicluNnRY</td>\n",
       "    </tr>\n",
       "    <tr>\n",
       "      <th>2</th>\n",
       "      <td>2020-09-24 11:57:27 UTC</td>\n",
       "      <td>view</td>\n",
       "      <td>215454</td>\n",
       "      <td>2144415927158964449</td>\n",
       "      <td>NaN</td>\n",
       "      <td>NaN</td>\n",
       "      <td>9.81</td>\n",
       "      <td>1515915625513238515</td>\n",
       "      <td>4TMArHtXQy</td>\n",
       "    </tr>\n",
       "    <tr>\n",
       "      <th>3</th>\n",
       "      <td>2020-09-24 11:57:33 UTC</td>\n",
       "      <td>view</td>\n",
       "      <td>635807</td>\n",
       "      <td>2144415923107266682</td>\n",
       "      <td>computers.peripherals.printer</td>\n",
       "      <td>pantum</td>\n",
       "      <td>113.81</td>\n",
       "      <td>1515915625519014356</td>\n",
       "      <td>aGFYrNgC08</td>\n",
       "    </tr>\n",
       "    <tr>\n",
       "      <th>4</th>\n",
       "      <td>2020-09-24 11:57:36 UTC</td>\n",
       "      <td>view</td>\n",
       "      <td>3658723</td>\n",
       "      <td>2144415921169498184</td>\n",
       "      <td>NaN</td>\n",
       "      <td>cameronsino</td>\n",
       "      <td>15.87</td>\n",
       "      <td>1515915625510743344</td>\n",
       "      <td>aa4mmk0kwQ</td>\n",
       "    </tr>\n",
       "  </tbody>\n",
       "</table>\n",
       "</div>"
      ],
      "text/plain": [
       "                event_time event_type  product_id          category_id  \\\n",
       "0  2020-09-24 11:57:06 UTC       view     1996170  2144415922528452715   \n",
       "1  2020-09-24 11:57:26 UTC       view      139905  2144415926932472027   \n",
       "2  2020-09-24 11:57:27 UTC       view      215454  2144415927158964449   \n",
       "3  2020-09-24 11:57:33 UTC       view      635807  2144415923107266682   \n",
       "4  2020-09-24 11:57:36 UTC       view     3658723  2144415921169498184   \n",
       "\n",
       "                   category_code        brand   price              user_id  \\\n",
       "0          electronics.telephone          NaN   31.90  1515915625519388267   \n",
       "1    computers.components.cooler       zalman   17.16  1515915625519380411   \n",
       "2                            NaN          NaN    9.81  1515915625513238515   \n",
       "3  computers.peripherals.printer       pantum  113.81  1515915625519014356   \n",
       "4                            NaN  cameronsino   15.87  1515915625510743344   \n",
       "\n",
       "  user_session  \n",
       "0   LJuJVLEjPT  \n",
       "1   tdicluNnRY  \n",
       "2   4TMArHtXQy  \n",
       "3   aGFYrNgC08  \n",
       "4   aa4mmk0kwQ  "
      ]
     },
     "execution_count": 295,
     "metadata": {},
     "output_type": "execute_result"
    }
   ],
   "source": [
    "df.head()"
   ]
  },
  {
   "cell_type": "code",
   "execution_count": 296,
   "metadata": {},
   "outputs": [
    {
     "data": {
      "text/plain": [
       "(885129, 9)"
      ]
     },
     "execution_count": 296,
     "metadata": {},
     "output_type": "execute_result"
    }
   ],
   "source": [
    "df.shape"
   ]
  },
  {
   "cell_type": "markdown",
   "metadata": {},
   "source": [
    "df.info()"
   ]
  },
  {
   "cell_type": "code",
   "execution_count": 297,
   "metadata": {},
   "outputs": [
    {
     "data": {
      "text/html": [
       "<div>\n",
       "<style scoped>\n",
       "    .dataframe tbody tr th:only-of-type {\n",
       "        vertical-align: middle;\n",
       "    }\n",
       "\n",
       "    .dataframe tbody tr th {\n",
       "        vertical-align: top;\n",
       "    }\n",
       "\n",
       "    .dataframe thead th {\n",
       "        text-align: right;\n",
       "    }\n",
       "</style>\n",
       "<table border=\"1\" class=\"dataframe\">\n",
       "  <thead>\n",
       "    <tr style=\"text-align: right;\">\n",
       "      <th></th>\n",
       "      <th>price</th>\n",
       "    </tr>\n",
       "  </thead>\n",
       "  <tbody>\n",
       "    <tr>\n",
       "      <th>count</th>\n",
       "      <td>885129.000000</td>\n",
       "    </tr>\n",
       "    <tr>\n",
       "      <th>mean</th>\n",
       "      <td>146.328713</td>\n",
       "    </tr>\n",
       "    <tr>\n",
       "      <th>std</th>\n",
       "      <td>296.807683</td>\n",
       "    </tr>\n",
       "    <tr>\n",
       "      <th>min</th>\n",
       "      <td>0.220000</td>\n",
       "    </tr>\n",
       "    <tr>\n",
       "      <th>25%</th>\n",
       "      <td>26.460000</td>\n",
       "    </tr>\n",
       "    <tr>\n",
       "      <th>50%</th>\n",
       "      <td>65.710000</td>\n",
       "    </tr>\n",
       "    <tr>\n",
       "      <th>75%</th>\n",
       "      <td>190.490000</td>\n",
       "    </tr>\n",
       "    <tr>\n",
       "      <th>max</th>\n",
       "      <td>64771.060000</td>\n",
       "    </tr>\n",
       "  </tbody>\n",
       "</table>\n",
       "</div>"
      ],
      "text/plain": [
       "               price\n",
       "count  885129.000000\n",
       "mean      146.328713\n",
       "std       296.807683\n",
       "min         0.220000\n",
       "25%        26.460000\n",
       "50%        65.710000\n",
       "75%       190.490000\n",
       "max     64771.060000"
      ]
     },
     "execution_count": 297,
     "metadata": {},
     "output_type": "execute_result"
    }
   ],
   "source": [
    "df[['price']].describe()"
   ]
  },
  {
   "cell_type": "code",
   "execution_count": 298,
   "metadata": {},
   "outputs": [
    {
     "data": {
      "text/plain": [
       "event_time     2020-09-24 11:57:06 UTC\n",
       "event_type                        cart\n",
       "product_id                         102\n",
       "category_id        2144415921001726020\n",
       "price                             0.22\n",
       "user_id            1515915625353226922\n",
       "dtype: object"
      ]
     },
     "execution_count": 298,
     "metadata": {},
     "output_type": "execute_result"
    }
   ],
   "source": [
    "df.min()"
   ]
  },
  {
   "cell_type": "code",
   "execution_count": 299,
   "metadata": {},
   "outputs": [
    {
     "data": {
      "text/plain": [
       "event_time     2021-02-28 23:59:09 UTC\n",
       "event_type                        view\n",
       "product_id                     4183880\n",
       "category_id        2227847332769039290\n",
       "price                          64771.1\n",
       "user_id            1515915625611024030\n",
       "dtype: object"
      ]
     },
     "execution_count": 299,
     "metadata": {},
     "output_type": "execute_result"
    }
   ],
   "source": [
    "df.max()"
   ]
  },
  {
   "cell_type": "markdown",
   "metadata": {},
   "source": [
    "# 1. Active Users\n",
    "\n",
    "Active User의 기준: 아래 중 1가지의 행동을 한 유저(user_id)\n",
    "\n",
    "* view(상품 보기)\n",
    "* cart(장바구니 담기)\n",
    "* remove_from_cart(장바구니에서 제거하기)\n",
    "* purchase(구매하기)\n",
    "\n",
    "## Daily Active User(기간: Daily)"
   ]
  },
  {
   "cell_type": "code",
   "execution_count": 300,
   "metadata": {},
   "outputs": [
    {
     "data": {
      "text/plain": [
       "0         2020-09-24 11:57:06 UTC\n",
       "1         2020-09-24 11:57:26 UTC\n",
       "2         2020-09-24 11:57:27 UTC\n",
       "3         2020-09-24 11:57:33 UTC\n",
       "4         2020-09-24 11:57:36 UTC\n",
       "                   ...           \n",
       "885124    2021-02-28 23:55:01 UTC\n",
       "885125    2021-02-28 23:58:05 UTC\n",
       "885126    2021-02-28 23:58:09 UTC\n",
       "885127    2021-02-28 23:58:14 UTC\n",
       "885128    2021-02-28 23:59:09 UTC\n",
       "Name: event_time, Length: 885129, dtype: object"
      ]
     },
     "execution_count": 300,
     "metadata": {},
     "output_type": "execute_result"
    }
   ],
   "source": [
    "df.event_time"
   ]
  },
  {
   "cell_type": "code",
   "execution_count": 301,
   "metadata": {},
   "outputs": [],
   "source": [
    "df['event_date'] = df['event_time'].str.slice(start=0, stop=10)"
   ]
  },
  {
   "cell_type": "code",
   "execution_count": 302,
   "metadata": {},
   "outputs": [
    {
     "data": {
      "text/html": [
       "<div>\n",
       "<style scoped>\n",
       "    .dataframe tbody tr th:only-of-type {\n",
       "        vertical-align: middle;\n",
       "    }\n",
       "\n",
       "    .dataframe tbody tr th {\n",
       "        vertical-align: top;\n",
       "    }\n",
       "\n",
       "    .dataframe thead th {\n",
       "        text-align: right;\n",
       "    }\n",
       "</style>\n",
       "<table border=\"1\" class=\"dataframe\">\n",
       "  <thead>\n",
       "    <tr style=\"text-align: right;\">\n",
       "      <th></th>\n",
       "      <th>event_time</th>\n",
       "      <th>event_type</th>\n",
       "      <th>product_id</th>\n",
       "      <th>category_id</th>\n",
       "      <th>category_code</th>\n",
       "      <th>brand</th>\n",
       "      <th>price</th>\n",
       "      <th>user_id</th>\n",
       "      <th>user_session</th>\n",
       "      <th>event_date</th>\n",
       "    </tr>\n",
       "  </thead>\n",
       "  <tbody>\n",
       "    <tr>\n",
       "      <th>0</th>\n",
       "      <td>2020-09-24 11:57:06 UTC</td>\n",
       "      <td>view</td>\n",
       "      <td>1996170</td>\n",
       "      <td>2144415922528452715</td>\n",
       "      <td>electronics.telephone</td>\n",
       "      <td>NaN</td>\n",
       "      <td>31.90</td>\n",
       "      <td>1515915625519388267</td>\n",
       "      <td>LJuJVLEjPT</td>\n",
       "      <td>2020-09-24</td>\n",
       "    </tr>\n",
       "    <tr>\n",
       "      <th>1</th>\n",
       "      <td>2020-09-24 11:57:26 UTC</td>\n",
       "      <td>view</td>\n",
       "      <td>139905</td>\n",
       "      <td>2144415926932472027</td>\n",
       "      <td>computers.components.cooler</td>\n",
       "      <td>zalman</td>\n",
       "      <td>17.16</td>\n",
       "      <td>1515915625519380411</td>\n",
       "      <td>tdicluNnRY</td>\n",
       "      <td>2020-09-24</td>\n",
       "    </tr>\n",
       "    <tr>\n",
       "      <th>2</th>\n",
       "      <td>2020-09-24 11:57:27 UTC</td>\n",
       "      <td>view</td>\n",
       "      <td>215454</td>\n",
       "      <td>2144415927158964449</td>\n",
       "      <td>NaN</td>\n",
       "      <td>NaN</td>\n",
       "      <td>9.81</td>\n",
       "      <td>1515915625513238515</td>\n",
       "      <td>4TMArHtXQy</td>\n",
       "      <td>2020-09-24</td>\n",
       "    </tr>\n",
       "    <tr>\n",
       "      <th>3</th>\n",
       "      <td>2020-09-24 11:57:33 UTC</td>\n",
       "      <td>view</td>\n",
       "      <td>635807</td>\n",
       "      <td>2144415923107266682</td>\n",
       "      <td>computers.peripherals.printer</td>\n",
       "      <td>pantum</td>\n",
       "      <td>113.81</td>\n",
       "      <td>1515915625519014356</td>\n",
       "      <td>aGFYrNgC08</td>\n",
       "      <td>2020-09-24</td>\n",
       "    </tr>\n",
       "    <tr>\n",
       "      <th>4</th>\n",
       "      <td>2020-09-24 11:57:36 UTC</td>\n",
       "      <td>view</td>\n",
       "      <td>3658723</td>\n",
       "      <td>2144415921169498184</td>\n",
       "      <td>NaN</td>\n",
       "      <td>cameronsino</td>\n",
       "      <td>15.87</td>\n",
       "      <td>1515915625510743344</td>\n",
       "      <td>aa4mmk0kwQ</td>\n",
       "      <td>2020-09-24</td>\n",
       "    </tr>\n",
       "  </tbody>\n",
       "</table>\n",
       "</div>"
      ],
      "text/plain": [
       "                event_time event_type  product_id          category_id  \\\n",
       "0  2020-09-24 11:57:06 UTC       view     1996170  2144415922528452715   \n",
       "1  2020-09-24 11:57:26 UTC       view      139905  2144415926932472027   \n",
       "2  2020-09-24 11:57:27 UTC       view      215454  2144415927158964449   \n",
       "3  2020-09-24 11:57:33 UTC       view      635807  2144415923107266682   \n",
       "4  2020-09-24 11:57:36 UTC       view     3658723  2144415921169498184   \n",
       "\n",
       "                   category_code        brand   price              user_id  \\\n",
       "0          electronics.telephone          NaN   31.90  1515915625519388267   \n",
       "1    computers.components.cooler       zalman   17.16  1515915625519380411   \n",
       "2                            NaN          NaN    9.81  1515915625513238515   \n",
       "3  computers.peripherals.printer       pantum  113.81  1515915625519014356   \n",
       "4                            NaN  cameronsino   15.87  1515915625510743344   \n",
       "\n",
       "  user_session  event_date  \n",
       "0   LJuJVLEjPT  2020-09-24  \n",
       "1   tdicluNnRY  2020-09-24  \n",
       "2   4TMArHtXQy  2020-09-24  \n",
       "3   aGFYrNgC08  2020-09-24  \n",
       "4   aa4mmk0kwQ  2020-09-24  "
      ]
     },
     "execution_count": 302,
     "metadata": {},
     "output_type": "execute_result"
    }
   ],
   "source": [
    "df.head()"
   ]
  },
  {
   "cell_type": "code",
   "execution_count": 303,
   "metadata": {},
   "outputs": [],
   "source": [
    "df['event_date_dtm_format'] = pd.to_datetime(df['event_date'], format='%Y-%m-%d')"
   ]
  },
  {
   "cell_type": "code",
   "execution_count": 304,
   "metadata": {},
   "outputs": [
    {
     "data": {
      "text/html": [
       "<div>\n",
       "<style scoped>\n",
       "    .dataframe tbody tr th:only-of-type {\n",
       "        vertical-align: middle;\n",
       "    }\n",
       "\n",
       "    .dataframe tbody tr th {\n",
       "        vertical-align: top;\n",
       "    }\n",
       "\n",
       "    .dataframe thead th {\n",
       "        text-align: right;\n",
       "    }\n",
       "</style>\n",
       "<table border=\"1\" class=\"dataframe\">\n",
       "  <thead>\n",
       "    <tr style=\"text-align: right;\">\n",
       "      <th></th>\n",
       "      <th>event_time</th>\n",
       "      <th>event_type</th>\n",
       "      <th>product_id</th>\n",
       "      <th>category_id</th>\n",
       "      <th>category_code</th>\n",
       "      <th>brand</th>\n",
       "      <th>price</th>\n",
       "      <th>user_id</th>\n",
       "      <th>user_session</th>\n",
       "      <th>event_date</th>\n",
       "      <th>event_date_dtm_format</th>\n",
       "    </tr>\n",
       "  </thead>\n",
       "  <tbody>\n",
       "    <tr>\n",
       "      <th>0</th>\n",
       "      <td>2020-09-24 11:57:06 UTC</td>\n",
       "      <td>view</td>\n",
       "      <td>1996170</td>\n",
       "      <td>2144415922528452715</td>\n",
       "      <td>electronics.telephone</td>\n",
       "      <td>NaN</td>\n",
       "      <td>31.90</td>\n",
       "      <td>1515915625519388267</td>\n",
       "      <td>LJuJVLEjPT</td>\n",
       "      <td>2020-09-24</td>\n",
       "      <td>2020-09-24</td>\n",
       "    </tr>\n",
       "    <tr>\n",
       "      <th>1</th>\n",
       "      <td>2020-09-24 11:57:26 UTC</td>\n",
       "      <td>view</td>\n",
       "      <td>139905</td>\n",
       "      <td>2144415926932472027</td>\n",
       "      <td>computers.components.cooler</td>\n",
       "      <td>zalman</td>\n",
       "      <td>17.16</td>\n",
       "      <td>1515915625519380411</td>\n",
       "      <td>tdicluNnRY</td>\n",
       "      <td>2020-09-24</td>\n",
       "      <td>2020-09-24</td>\n",
       "    </tr>\n",
       "    <tr>\n",
       "      <th>2</th>\n",
       "      <td>2020-09-24 11:57:27 UTC</td>\n",
       "      <td>view</td>\n",
       "      <td>215454</td>\n",
       "      <td>2144415927158964449</td>\n",
       "      <td>NaN</td>\n",
       "      <td>NaN</td>\n",
       "      <td>9.81</td>\n",
       "      <td>1515915625513238515</td>\n",
       "      <td>4TMArHtXQy</td>\n",
       "      <td>2020-09-24</td>\n",
       "      <td>2020-09-24</td>\n",
       "    </tr>\n",
       "    <tr>\n",
       "      <th>3</th>\n",
       "      <td>2020-09-24 11:57:33 UTC</td>\n",
       "      <td>view</td>\n",
       "      <td>635807</td>\n",
       "      <td>2144415923107266682</td>\n",
       "      <td>computers.peripherals.printer</td>\n",
       "      <td>pantum</td>\n",
       "      <td>113.81</td>\n",
       "      <td>1515915625519014356</td>\n",
       "      <td>aGFYrNgC08</td>\n",
       "      <td>2020-09-24</td>\n",
       "      <td>2020-09-24</td>\n",
       "    </tr>\n",
       "    <tr>\n",
       "      <th>4</th>\n",
       "      <td>2020-09-24 11:57:36 UTC</td>\n",
       "      <td>view</td>\n",
       "      <td>3658723</td>\n",
       "      <td>2144415921169498184</td>\n",
       "      <td>NaN</td>\n",
       "      <td>cameronsino</td>\n",
       "      <td>15.87</td>\n",
       "      <td>1515915625510743344</td>\n",
       "      <td>aa4mmk0kwQ</td>\n",
       "      <td>2020-09-24</td>\n",
       "      <td>2020-09-24</td>\n",
       "    </tr>\n",
       "  </tbody>\n",
       "</table>\n",
       "</div>"
      ],
      "text/plain": [
       "                event_time event_type  product_id          category_id  \\\n",
       "0  2020-09-24 11:57:06 UTC       view     1996170  2144415922528452715   \n",
       "1  2020-09-24 11:57:26 UTC       view      139905  2144415926932472027   \n",
       "2  2020-09-24 11:57:27 UTC       view      215454  2144415927158964449   \n",
       "3  2020-09-24 11:57:33 UTC       view      635807  2144415923107266682   \n",
       "4  2020-09-24 11:57:36 UTC       view     3658723  2144415921169498184   \n",
       "\n",
       "                   category_code        brand   price              user_id  \\\n",
       "0          electronics.telephone          NaN   31.90  1515915625519388267   \n",
       "1    computers.components.cooler       zalman   17.16  1515915625519380411   \n",
       "2                            NaN          NaN    9.81  1515915625513238515   \n",
       "3  computers.peripherals.printer       pantum  113.81  1515915625519014356   \n",
       "4                            NaN  cameronsino   15.87  1515915625510743344   \n",
       "\n",
       "  user_session  event_date event_date_dtm_format  \n",
       "0   LJuJVLEjPT  2020-09-24            2020-09-24  \n",
       "1   tdicluNnRY  2020-09-24            2020-09-24  \n",
       "2   4TMArHtXQy  2020-09-24            2020-09-24  \n",
       "3   aGFYrNgC08  2020-09-24            2020-09-24  \n",
       "4   aa4mmk0kwQ  2020-09-24            2020-09-24  "
      ]
     },
     "execution_count": 304,
     "metadata": {},
     "output_type": "execute_result"
    }
   ],
   "source": [
    "df.head()"
   ]
  },
  {
   "cell_type": "code",
   "execution_count": 305,
   "metadata": {},
   "outputs": [],
   "source": [
    "df = df.loc[df['event_date'] > '2020-09-30']"
   ]
  },
  {
   "cell_type": "code",
   "execution_count": 306,
   "metadata": {},
   "outputs": [
    {
     "data": {
      "text/html": [
       "<div>\n",
       "<style scoped>\n",
       "    .dataframe tbody tr th:only-of-type {\n",
       "        vertical-align: middle;\n",
       "    }\n",
       "\n",
       "    .dataframe tbody tr th {\n",
       "        vertical-align: top;\n",
       "    }\n",
       "\n",
       "    .dataframe thead th {\n",
       "        text-align: right;\n",
       "    }\n",
       "</style>\n",
       "<table border=\"1\" class=\"dataframe\">\n",
       "  <thead>\n",
       "    <tr style=\"text-align: right;\">\n",
       "      <th></th>\n",
       "      <th>event_time</th>\n",
       "      <th>event_type</th>\n",
       "      <th>product_id</th>\n",
       "      <th>category_id</th>\n",
       "      <th>category_code</th>\n",
       "      <th>brand</th>\n",
       "      <th>price</th>\n",
       "      <th>user_id</th>\n",
       "      <th>user_session</th>\n",
       "      <th>event_date</th>\n",
       "      <th>event_date_dtm_format</th>\n",
       "    </tr>\n",
       "  </thead>\n",
       "  <tbody>\n",
       "    <tr>\n",
       "      <th>28074</th>\n",
       "      <td>2020-10-01 00:01:36 UTC</td>\n",
       "      <td>view</td>\n",
       "      <td>1795171</td>\n",
       "      <td>2144415922360680550</td>\n",
       "      <td>computers.peripherals.camera</td>\n",
       "      <td>canyon</td>\n",
       "      <td>39.75</td>\n",
       "      <td>1515915625520113390</td>\n",
       "      <td>4X2NwIInsI</td>\n",
       "      <td>2020-10-01</td>\n",
       "      <td>2020-10-01</td>\n",
       "    </tr>\n",
       "    <tr>\n",
       "      <th>28075</th>\n",
       "      <td>2020-10-01 00:04:11 UTC</td>\n",
       "      <td>view</td>\n",
       "      <td>1549819</td>\n",
       "      <td>2144415925011480748</td>\n",
       "      <td>stationery.cartrige</td>\n",
       "      <td>xerox</td>\n",
       "      <td>69.35</td>\n",
       "      <td>1515915625521278799</td>\n",
       "      <td>daM8ubpOfo</td>\n",
       "      <td>2020-10-01</td>\n",
       "      <td>2020-10-01</td>\n",
       "    </tr>\n",
       "    <tr>\n",
       "      <th>28076</th>\n",
       "      <td>2020-10-01 00:07:23 UTC</td>\n",
       "      <td>view</td>\n",
       "      <td>4156248</td>\n",
       "      <td>2144415921169498184</td>\n",
       "      <td>NaN</td>\n",
       "      <td>NaN</td>\n",
       "      <td>17.14</td>\n",
       "      <td>1515915625521278938</td>\n",
       "      <td>EdgYsorbdC</td>\n",
       "      <td>2020-10-01</td>\n",
       "      <td>2020-10-01</td>\n",
       "    </tr>\n",
       "    <tr>\n",
       "      <th>28077</th>\n",
       "      <td>2020-10-01 00:07:56 UTC</td>\n",
       "      <td>view</td>\n",
       "      <td>16101</td>\n",
       "      <td>2144415922360680550</td>\n",
       "      <td>computers.peripherals.camera</td>\n",
       "      <td>NaN</td>\n",
       "      <td>30.38</td>\n",
       "      <td>1515915625520113390</td>\n",
       "      <td>4X2NwIInsI</td>\n",
       "      <td>2020-10-01</td>\n",
       "      <td>2020-10-01</td>\n",
       "    </tr>\n",
       "    <tr>\n",
       "      <th>28078</th>\n",
       "      <td>2020-10-01 00:08:11 UTC</td>\n",
       "      <td>view</td>\n",
       "      <td>880508</td>\n",
       "      <td>2144415926806642904</td>\n",
       "      <td>computers.components.power_supply</td>\n",
       "      <td>cougar</td>\n",
       "      <td>57.13</td>\n",
       "      <td>1515915625521279091</td>\n",
       "      <td>Et4GWStGMB</td>\n",
       "      <td>2020-10-01</td>\n",
       "      <td>2020-10-01</td>\n",
       "    </tr>\n",
       "  </tbody>\n",
       "</table>\n",
       "</div>"
      ],
      "text/plain": [
       "                    event_time event_type  product_id          category_id  \\\n",
       "28074  2020-10-01 00:01:36 UTC       view     1795171  2144415922360680550   \n",
       "28075  2020-10-01 00:04:11 UTC       view     1549819  2144415925011480748   \n",
       "28076  2020-10-01 00:07:23 UTC       view     4156248  2144415921169498184   \n",
       "28077  2020-10-01 00:07:56 UTC       view       16101  2144415922360680550   \n",
       "28078  2020-10-01 00:08:11 UTC       view      880508  2144415926806642904   \n",
       "\n",
       "                           category_code   brand  price              user_id  \\\n",
       "28074       computers.peripherals.camera  canyon  39.75  1515915625520113390   \n",
       "28075                stationery.cartrige   xerox  69.35  1515915625521278799   \n",
       "28076                                NaN     NaN  17.14  1515915625521278938   \n",
       "28077       computers.peripherals.camera     NaN  30.38  1515915625520113390   \n",
       "28078  computers.components.power_supply  cougar  57.13  1515915625521279091   \n",
       "\n",
       "      user_session  event_date event_date_dtm_format  \n",
       "28074   4X2NwIInsI  2020-10-01            2020-10-01  \n",
       "28075   daM8ubpOfo  2020-10-01            2020-10-01  \n",
       "28076   EdgYsorbdC  2020-10-01            2020-10-01  \n",
       "28077   4X2NwIInsI  2020-10-01            2020-10-01  \n",
       "28078   Et4GWStGMB  2020-10-01            2020-10-01  "
      ]
     },
     "execution_count": 306,
     "metadata": {},
     "output_type": "execute_result"
    }
   ],
   "source": [
    "df.head()"
   ]
  },
  {
   "cell_type": "code",
   "execution_count": 307,
   "metadata": {},
   "outputs": [],
   "source": [
    "# 날짜 별 unique user 수 계산하기\n",
    "\n",
    "df_2 = df.groupby('event_date')['user_id'].nunique()"
   ]
  },
  {
   "cell_type": "code",
   "execution_count": 308,
   "metadata": {},
   "outputs": [
    {
     "data": {
      "text/plain": [
       "event_date\n",
       "2020-10-01    2699\n",
       "2020-10-02    2559\n",
       "2020-10-03    2162\n",
       "2020-10-04    2398\n",
       "2020-10-05    2832\n",
       "Name: user_id, dtype: int64"
      ]
     },
     "execution_count": 308,
     "metadata": {},
     "output_type": "execute_result"
    }
   ],
   "source": [
    "df_2.head()"
   ]
  },
  {
   "cell_type": "code",
   "execution_count": 309,
   "metadata": {},
   "outputs": [
    {
     "data": {
      "text/plain": [
       "Index(['2020-10-01', '2020-10-02', '2020-10-03', '2020-10-04', '2020-10-05',\n",
       "       '2020-10-06', '2020-10-07', '2020-10-08', '2020-10-09', '2020-10-10',\n",
       "       ...\n",
       "       '2021-02-19', '2021-02-20', '2021-02-21', '2021-02-22', '2021-02-23',\n",
       "       '2021-02-24', '2021-02-25', '2021-02-26', '2021-02-27', '2021-02-28'],\n",
       "      dtype='object', name='event_date', length=151)"
      ]
     },
     "execution_count": 309,
     "metadata": {},
     "output_type": "execute_result"
    }
   ],
   "source": [
    "df_2.index"
   ]
  },
  {
   "cell_type": "code",
   "execution_count": 310,
   "metadata": {},
   "outputs": [],
   "source": [
    "dau_data = pd.DataFrame({'event_date':df_2.index, 'user_count':df_2.values})"
   ]
  },
  {
   "cell_type": "code",
   "execution_count": 311,
   "metadata": {},
   "outputs": [
    {
     "data": {
      "text/html": [
       "<div>\n",
       "<style scoped>\n",
       "    .dataframe tbody tr th:only-of-type {\n",
       "        vertical-align: middle;\n",
       "    }\n",
       "\n",
       "    .dataframe tbody tr th {\n",
       "        vertical-align: top;\n",
       "    }\n",
       "\n",
       "    .dataframe thead th {\n",
       "        text-align: right;\n",
       "    }\n",
       "</style>\n",
       "<table border=\"1\" class=\"dataframe\">\n",
       "  <thead>\n",
       "    <tr style=\"text-align: right;\">\n",
       "      <th></th>\n",
       "      <th>event_date</th>\n",
       "      <th>user_count</th>\n",
       "    </tr>\n",
       "  </thead>\n",
       "  <tbody>\n",
       "    <tr>\n",
       "      <th>0</th>\n",
       "      <td>2020-10-01</td>\n",
       "      <td>2699</td>\n",
       "    </tr>\n",
       "    <tr>\n",
       "      <th>1</th>\n",
       "      <td>2020-10-02</td>\n",
       "      <td>2559</td>\n",
       "    </tr>\n",
       "    <tr>\n",
       "      <th>2</th>\n",
       "      <td>2020-10-03</td>\n",
       "      <td>2162</td>\n",
       "    </tr>\n",
       "    <tr>\n",
       "      <th>3</th>\n",
       "      <td>2020-10-04</td>\n",
       "      <td>2398</td>\n",
       "    </tr>\n",
       "    <tr>\n",
       "      <th>4</th>\n",
       "      <td>2020-10-05</td>\n",
       "      <td>2832</td>\n",
       "    </tr>\n",
       "  </tbody>\n",
       "</table>\n",
       "</div>"
      ],
      "text/plain": [
       "   event_date  user_count\n",
       "0  2020-10-01        2699\n",
       "1  2020-10-02        2559\n",
       "2  2020-10-03        2162\n",
       "3  2020-10-04        2398\n",
       "4  2020-10-05        2832"
      ]
     },
     "execution_count": 311,
     "metadata": {},
     "output_type": "execute_result"
    }
   ],
   "source": [
    "dau_data.head()"
   ]
  },
  {
   "cell_type": "code",
   "execution_count": 312,
   "metadata": {},
   "outputs": [
    {
     "data": {
      "text/html": [
       "<div>\n",
       "<style scoped>\n",
       "    .dataframe tbody tr th:only-of-type {\n",
       "        vertical-align: middle;\n",
       "    }\n",
       "\n",
       "    .dataframe tbody tr th {\n",
       "        vertical-align: top;\n",
       "    }\n",
       "\n",
       "    .dataframe thead th {\n",
       "        text-align: right;\n",
       "    }\n",
       "</style>\n",
       "<table border=\"1\" class=\"dataframe\">\n",
       "  <thead>\n",
       "    <tr style=\"text-align: right;\">\n",
       "      <th></th>\n",
       "      <th>user_count</th>\n",
       "    </tr>\n",
       "  </thead>\n",
       "  <tbody>\n",
       "    <tr>\n",
       "      <th>count</th>\n",
       "      <td>151.000000</td>\n",
       "    </tr>\n",
       "    <tr>\n",
       "      <th>mean</th>\n",
       "      <td>2984.854305</td>\n",
       "    </tr>\n",
       "    <tr>\n",
       "      <th>std</th>\n",
       "      <td>472.763921</td>\n",
       "    </tr>\n",
       "    <tr>\n",
       "      <th>min</th>\n",
       "      <td>1370.000000</td>\n",
       "    </tr>\n",
       "    <tr>\n",
       "      <th>25%</th>\n",
       "      <td>2683.500000</td>\n",
       "    </tr>\n",
       "    <tr>\n",
       "      <th>50%</th>\n",
       "      <td>2943.000000</td>\n",
       "    </tr>\n",
       "    <tr>\n",
       "      <th>75%</th>\n",
       "      <td>3308.500000</td>\n",
       "    </tr>\n",
       "    <tr>\n",
       "      <th>max</th>\n",
       "      <td>4287.000000</td>\n",
       "    </tr>\n",
       "  </tbody>\n",
       "</table>\n",
       "</div>"
      ],
      "text/plain": [
       "        user_count\n",
       "count   151.000000\n",
       "mean   2984.854305\n",
       "std     472.763921\n",
       "min    1370.000000\n",
       "25%    2683.500000\n",
       "50%    2943.000000\n",
       "75%    3308.500000\n",
       "max    4287.000000"
      ]
     },
     "execution_count": 312,
     "metadata": {},
     "output_type": "execute_result"
    }
   ],
   "source": [
    "dau_data.describe()"
   ]
  },
  {
   "cell_type": "code",
   "execution_count": 313,
   "metadata": {},
   "outputs": [],
   "source": [
    "import seaborn as sns\n",
    "import matplotlib.pyplot as plt\n",
    "import matplotlib.ticker as ticker"
   ]
  },
  {
   "cell_type": "code",
   "execution_count": 314,
   "metadata": {},
   "outputs": [
    {
     "data": {
      "text/plain": [
       "Text(0, 0.5, '유저수')"
      ]
     },
     "execution_count": 314,
     "metadata": {},
     "output_type": "execute_result"
    },
    {
     "data": {
      "image/png": "[encoded data removed]",
      "text/plain": [
       "<Figure size 1080x576 with 1 Axes>"
      ]
     },
     "metadata": {},
     "output_type": "display_data"
    }
   ],
   "source": [
    "sns.set_theme(style='whitegrid', palette='pastel')\n",
    "plt.rc('font', family='NanumGothic')\n",
    "plt.xticks(rotation=45)\n",
    "\n",
    "g = sns.lineplot(x='event_date', y='user_count', data=dau_data)\n",
    "g.figure.set_size_inches(15, 8)\n",
    "g.xaxis.set_major_locator(ticker.MultipleLocator(7))\n",
    "g.set_title('일자별 유저수 변화(Daily Active User)', pad=20, size=16)\n",
    "g.set_xlabel('일자', labelpad=20, size=13)\n",
    "g.set_ylabel('유저수', labelpad=20, size=13)"
   ]
  },
  {
   "cell_type": "markdown",
   "metadata": {},
   "source": [
    "## Weekly Active User(기간: Weekly)"
   ]
  },
  {
   "cell_type": "code",
   "execution_count": 315,
   "metadata": {},
   "outputs": [],
   "source": [
    "df['year_week_number'] = df.event_date_dtm_format.dt.strftime('%Y-w%U')"
   ]
  },
  {
   "cell_type": "code",
   "execution_count": 316,
   "metadata": {},
   "outputs": [
    {
     "data": {
      "text/html": [
       "<div>\n",
       "<style scoped>\n",
       "    .dataframe tbody tr th:only-of-type {\n",
       "        vertical-align: middle;\n",
       "    }\n",
       "\n",
       "    .dataframe tbody tr th {\n",
       "        vertical-align: top;\n",
       "    }\n",
       "\n",
       "    .dataframe thead th {\n",
       "        text-align: right;\n",
       "    }\n",
       "</style>\n",
       "<table border=\"1\" class=\"dataframe\">\n",
       "  <thead>\n",
       "    <tr style=\"text-align: right;\">\n",
       "      <th></th>\n",
       "      <th>event_time</th>\n",
       "      <th>event_type</th>\n",
       "      <th>product_id</th>\n",
       "      <th>category_id</th>\n",
       "      <th>category_code</th>\n",
       "      <th>brand</th>\n",
       "      <th>price</th>\n",
       "      <th>user_id</th>\n",
       "      <th>user_session</th>\n",
       "      <th>event_date</th>\n",
       "      <th>event_date_dtm_format</th>\n",
       "      <th>year_week_number</th>\n",
       "    </tr>\n",
       "  </thead>\n",
       "  <tbody>\n",
       "    <tr>\n",
       "      <th>28074</th>\n",
       "      <td>2020-10-01 00:01:36 UTC</td>\n",
       "      <td>view</td>\n",
       "      <td>1795171</td>\n",
       "      <td>2144415922360680550</td>\n",
       "      <td>computers.peripherals.camera</td>\n",
       "      <td>canyon</td>\n",
       "      <td>39.75</td>\n",
       "      <td>1515915625520113390</td>\n",
       "      <td>4X2NwIInsI</td>\n",
       "      <td>2020-10-01</td>\n",
       "      <td>2020-10-01</td>\n",
       "      <td>2020-w39</td>\n",
       "    </tr>\n",
       "    <tr>\n",
       "      <th>28075</th>\n",
       "      <td>2020-10-01 00:04:11 UTC</td>\n",
       "      <td>view</td>\n",
       "      <td>1549819</td>\n",
       "      <td>2144415925011480748</td>\n",
       "      <td>stationery.cartrige</td>\n",
       "      <td>xerox</td>\n",
       "      <td>69.35</td>\n",
       "      <td>1515915625521278799</td>\n",
       "      <td>daM8ubpOfo</td>\n",
       "      <td>2020-10-01</td>\n",
       "      <td>2020-10-01</td>\n",
       "      <td>2020-w39</td>\n",
       "    </tr>\n",
       "    <tr>\n",
       "      <th>28076</th>\n",
       "      <td>2020-10-01 00:07:23 UTC</td>\n",
       "      <td>view</td>\n",
       "      <td>4156248</td>\n",
       "      <td>2144415921169498184</td>\n",
       "      <td>NaN</td>\n",
       "      <td>NaN</td>\n",
       "      <td>17.14</td>\n",
       "      <td>1515915625521278938</td>\n",
       "      <td>EdgYsorbdC</td>\n",
       "      <td>2020-10-01</td>\n",
       "      <td>2020-10-01</td>\n",
       "      <td>2020-w39</td>\n",
       "    </tr>\n",
       "    <tr>\n",
       "      <th>28077</th>\n",
       "      <td>2020-10-01 00:07:56 UTC</td>\n",
       "      <td>view</td>\n",
       "      <td>16101</td>\n",
       "      <td>2144415922360680550</td>\n",
       "      <td>computers.peripherals.camera</td>\n",
       "      <td>NaN</td>\n",
       "      <td>30.38</td>\n",
       "      <td>1515915625520113390</td>\n",
       "      <td>4X2NwIInsI</td>\n",
       "      <td>2020-10-01</td>\n",
       "      <td>2020-10-01</td>\n",
       "      <td>2020-w39</td>\n",
       "    </tr>\n",
       "    <tr>\n",
       "      <th>28078</th>\n",
       "      <td>2020-10-01 00:08:11 UTC</td>\n",
       "      <td>view</td>\n",
       "      <td>880508</td>\n",
       "      <td>2144415926806642904</td>\n",
       "      <td>computers.components.power_supply</td>\n",
       "      <td>cougar</td>\n",
       "      <td>57.13</td>\n",
       "      <td>1515915625521279091</td>\n",
       "      <td>Et4GWStGMB</td>\n",
       "      <td>2020-10-01</td>\n",
       "      <td>2020-10-01</td>\n",
       "      <td>2020-w39</td>\n",
       "    </tr>\n",
       "  </tbody>\n",
       "</table>\n",
       "</div>"
      ],
      "text/plain": [
       "                    event_time event_type  product_id          category_id  \\\n",
       "28074  2020-10-01 00:01:36 UTC       view     1795171  2144415922360680550   \n",
       "28075  2020-10-01 00:04:11 UTC       view     1549819  2144415925011480748   \n",
       "28076  2020-10-01 00:07:23 UTC       view     4156248  2144415921169498184   \n",
       "28077  2020-10-01 00:07:56 UTC       view       16101  2144415922360680550   \n",
       "28078  2020-10-01 00:08:11 UTC       view      880508  2144415926806642904   \n",
       "\n",
       "                           category_code   brand  price              user_id  \\\n",
       "28074       computers.peripherals.camera  canyon  39.75  1515915625520113390   \n",
       "28075                stationery.cartrige   xerox  69.35  1515915625521278799   \n",
       "28076                                NaN     NaN  17.14  1515915625521278938   \n",
       "28077       computers.peripherals.camera     NaN  30.38  1515915625520113390   \n",
       "28078  computers.components.power_supply  cougar  57.13  1515915625521279091   \n",
       "\n",
       "      user_session  event_date event_date_dtm_format year_week_number  \n",
       "28074   4X2NwIInsI  2020-10-01            2020-10-01         2020-w39  \n",
       "28075   daM8ubpOfo  2020-10-01            2020-10-01         2020-w39  \n",
       "28076   EdgYsorbdC  2020-10-01            2020-10-01         2020-w39  \n",
       "28077   4X2NwIInsI  2020-10-01            2020-10-01         2020-w39  \n",
       "28078   Et4GWStGMB  2020-10-01            2020-10-01         2020-w39  "
      ]
     },
     "execution_count": 316,
     "metadata": {},
     "output_type": "execute_result"
    }
   ],
   "source": [
    "df.head()"
   ]
  },
  {
   "cell_type": "code",
   "execution_count": 317,
   "metadata": {},
   "outputs": [],
   "source": [
    "df_3 = df.groupby('year_week_number')['user_id'].nunique()"
   ]
  },
  {
   "cell_type": "code",
   "execution_count": 318,
   "metadata": {},
   "outputs": [
    {
     "data": {
      "text/plain": [
       "year_week_number\n",
       "2020-w39     7141\n",
       "2020-w40    16633\n",
       "2020-w41    19305\n",
       "2020-w42    22179\n",
       "2020-w43    21956\n",
       "Name: user_id, dtype: int64"
      ]
     },
     "execution_count": 318,
     "metadata": {},
     "output_type": "execute_result"
    }
   ],
   "source": [
    "df_3.head()"
   ]
  },
  {
   "cell_type": "code",
   "execution_count": 319,
   "metadata": {},
   "outputs": [],
   "source": [
    "wau_data = pd.DataFrame({'year_week_number':df_3.index, 'user_count':df_3.values})"
   ]
  },
  {
   "cell_type": "code",
   "execution_count": 320,
   "metadata": {},
   "outputs": [
    {
     "data": {
      "text/html": [
       "<div>\n",
       "<style scoped>\n",
       "    .dataframe tbody tr th:only-of-type {\n",
       "        vertical-align: middle;\n",
       "    }\n",
       "\n",
       "    .dataframe tbody tr th {\n",
       "        vertical-align: top;\n",
       "    }\n",
       "\n",
       "    .dataframe thead th {\n",
       "        text-align: right;\n",
       "    }\n",
       "</style>\n",
       "<table border=\"1\" class=\"dataframe\">\n",
       "  <thead>\n",
       "    <tr style=\"text-align: right;\">\n",
       "      <th></th>\n",
       "      <th>year_week_number</th>\n",
       "      <th>user_count</th>\n",
       "    </tr>\n",
       "  </thead>\n",
       "  <tbody>\n",
       "    <tr>\n",
       "      <th>0</th>\n",
       "      <td>2020-w39</td>\n",
       "      <td>7141</td>\n",
       "    </tr>\n",
       "    <tr>\n",
       "      <th>1</th>\n",
       "      <td>2020-w40</td>\n",
       "      <td>16633</td>\n",
       "    </tr>\n",
       "    <tr>\n",
       "      <th>2</th>\n",
       "      <td>2020-w41</td>\n",
       "      <td>19305</td>\n",
       "    </tr>\n",
       "    <tr>\n",
       "      <th>3</th>\n",
       "      <td>2020-w42</td>\n",
       "      <td>22179</td>\n",
       "    </tr>\n",
       "    <tr>\n",
       "      <th>4</th>\n",
       "      <td>2020-w43</td>\n",
       "      <td>21956</td>\n",
       "    </tr>\n",
       "  </tbody>\n",
       "</table>\n",
       "</div>"
      ],
      "text/plain": [
       "  year_week_number  user_count\n",
       "0         2020-w39        7141\n",
       "1         2020-w40       16633\n",
       "2         2020-w41       19305\n",
       "3         2020-w42       22179\n",
       "4         2020-w43       21956"
      ]
     },
     "execution_count": 320,
     "metadata": {},
     "output_type": "execute_result"
    }
   ],
   "source": [
    "wau_data.head()"
   ]
  },
  {
   "cell_type": "code",
   "execution_count": 321,
   "metadata": {},
   "outputs": [
    {
     "data": {
      "text/html": [
       "<div>\n",
       "<style scoped>\n",
       "    .dataframe tbody tr th:only-of-type {\n",
       "        vertical-align: middle;\n",
       "    }\n",
       "\n",
       "    .dataframe tbody tr th {\n",
       "        vertical-align: top;\n",
       "    }\n",
       "\n",
       "    .dataframe thead th {\n",
       "        text-align: right;\n",
       "    }\n",
       "</style>\n",
       "<table border=\"1\" class=\"dataframe\">\n",
       "  <thead>\n",
       "    <tr style=\"text-align: right;\">\n",
       "      <th></th>\n",
       "      <th>user_count</th>\n",
       "    </tr>\n",
       "  </thead>\n",
       "  <tbody>\n",
       "    <tr>\n",
       "      <th>count</th>\n",
       "      <td>24.000000</td>\n",
       "    </tr>\n",
       "    <tr>\n",
       "      <th>mean</th>\n",
       "      <td>17555.083333</td>\n",
       "    </tr>\n",
       "    <tr>\n",
       "      <th>std</th>\n",
       "      <td>5837.987920</td>\n",
       "    </tr>\n",
       "    <tr>\n",
       "      <th>min</th>\n",
       "      <td>2775.000000</td>\n",
       "    </tr>\n",
       "    <tr>\n",
       "      <th>25%</th>\n",
       "      <td>16738.000000</td>\n",
       "    </tr>\n",
       "    <tr>\n",
       "      <th>50%</th>\n",
       "      <td>18778.500000</td>\n",
       "    </tr>\n",
       "    <tr>\n",
       "      <th>75%</th>\n",
       "      <td>20581.750000</td>\n",
       "    </tr>\n",
       "    <tr>\n",
       "      <th>max</th>\n",
       "      <td>25600.000000</td>\n",
       "    </tr>\n",
       "  </tbody>\n",
       "</table>\n",
       "</div>"
      ],
      "text/plain": [
       "         user_count\n",
       "count     24.000000\n",
       "mean   17555.083333\n",
       "std     5837.987920\n",
       "min     2775.000000\n",
       "25%    16738.000000\n",
       "50%    18778.500000\n",
       "75%    20581.750000\n",
       "max    25600.000000"
      ]
     },
     "execution_count": 321,
     "metadata": {},
     "output_type": "execute_result"
    }
   ],
   "source": [
    "wau_data.describe()"
   ]
  },
  {
   "cell_type": "code",
   "execution_count": 322,
   "metadata": {},
   "outputs": [
    {
     "data": {
      "text/plain": [
       "Text(0, 0.5, '유저수')"
      ]
     },
     "execution_count": 322,
     "metadata": {},
     "output_type": "execute_result"
    },
    {
     "data": {
      "image/png": "[encoded data removed]",
      "text/plain": [
       "<Figure size 1080x576 with 1 Axes>"
      ]
     },
     "metadata": {},
     "output_type": "display_data"
    }
   ],
   "source": [
    "sns.set_theme(style='whitegrid', palette='pastel')\n",
    "plt.rc('font', family='NanumGothic')\n",
    "plt.xticks(rotation=45)\n",
    "\n",
    "g = sns.lineplot(x='year_week_number', y='user_count', data=wau_data)\n",
    "g.figure.set_size_inches(15, 8)\n",
    "g.set_title('주별 유저수 변화(Daily Active User)', pad=20, size=16)\n",
    "g.set_xlabel('주차', labelpad=20, size=13)\n",
    "g.set_ylabel('유저수', labelpad=20, size=13)"
   ]
  },
  {
   "cell_type": "code",
   "execution_count": 323,
   "metadata": {},
   "outputs": [
    {
     "data": {
      "text/plain": [
       "year_week_number\n",
       "2020-w39    3\n",
       "2020-w40    7\n",
       "2020-w41    7\n",
       "2020-w42    7\n",
       "2020-w43    7\n",
       "2020-w44    7\n",
       "2020-w45    7\n",
       "2020-w46    7\n",
       "2020-w47    7\n",
       "2020-w48    7\n",
       "2020-w49    7\n",
       "2020-w50    7\n",
       "2020-w51    7\n",
       "2020-w52    5\n",
       "2021-w00    2\n",
       "2021-w01    7\n",
       "2021-w02    7\n",
       "2021-w03    7\n",
       "2021-w04    7\n",
       "2021-w05    7\n",
       "2021-w06    7\n",
       "2021-w07    7\n",
       "2021-w08    7\n",
       "2021-w09    1\n",
       "Name: event_date, dtype: int64"
      ]
     },
     "execution_count": 323,
     "metadata": {},
     "output_type": "execute_result"
    }
   ],
   "source": [
    "df.groupby('year_week_number')['event_date'].nunique()"
   ]
  },
  {
   "cell_type": "code",
   "execution_count": 324,
   "metadata": {},
   "outputs": [],
   "source": [
    "df.loc[df.year_week_number == '2020-w52', ['year_week_number']] = '2021-w00'"
   ]
  },
  {
   "cell_type": "code",
   "execution_count": 325,
   "metadata": {},
   "outputs": [],
   "source": [
    "df_3 = df.groupby('year_week_number')['event_date'].nunique()"
   ]
  },
  {
   "cell_type": "code",
   "execution_count": 326,
   "metadata": {},
   "outputs": [
    {
     "data": {
      "text/plain": [
       "year_week_number\n",
       "2020-w39    3\n",
       "2020-w40    7\n",
       "2020-w41    7\n",
       "2020-w42    7\n",
       "2020-w43    7\n",
       "2020-w44    7\n",
       "2020-w45    7\n",
       "2020-w46    7\n",
       "2020-w47    7\n",
       "2020-w48    7\n",
       "2020-w49    7\n",
       "2020-w50    7\n",
       "2020-w51    7\n",
       "2021-w00    7\n",
       "2021-w01    7\n",
       "2021-w02    7\n",
       "2021-w03    7\n",
       "2021-w04    7\n",
       "2021-w05    7\n",
       "2021-w06    7\n",
       "2021-w07    7\n",
       "2021-w08    7\n",
       "2021-w09    1\n",
       "Name: event_date, dtype: int64"
      ]
     },
     "execution_count": 326,
     "metadata": {},
     "output_type": "execute_result"
    }
   ],
   "source": [
    "df_3"
   ]
  },
  {
   "cell_type": "code",
   "execution_count": 327,
   "metadata": {},
   "outputs": [],
   "source": [
    "df_without_week_number_count_unser_7 = df.loc[df['year_week_number'] != '2020-w39']"
   ]
  },
  {
   "cell_type": "code",
   "execution_count": 328,
   "metadata": {},
   "outputs": [],
   "source": [
    "df_without_week_number_count_unser_7 = df_without_week_number_count_unser_7.loc[df_without_week_number_count_unser_7['year_week_number'] != '2021-w09']"
   ]
  },
  {
   "cell_type": "code",
   "execution_count": 329,
   "metadata": {},
   "outputs": [
    {
     "data": {
      "text/html": [
       "<div>\n",
       "<style scoped>\n",
       "    .dataframe tbody tr th:only-of-type {\n",
       "        vertical-align: middle;\n",
       "    }\n",
       "\n",
       "    .dataframe tbody tr th {\n",
       "        vertical-align: top;\n",
       "    }\n",
       "\n",
       "    .dataframe thead th {\n",
       "        text-align: right;\n",
       "    }\n",
       "</style>\n",
       "<table border=\"1\" class=\"dataframe\">\n",
       "  <thead>\n",
       "    <tr style=\"text-align: right;\">\n",
       "      <th></th>\n",
       "      <th>event_time</th>\n",
       "      <th>event_type</th>\n",
       "      <th>product_id</th>\n",
       "      <th>category_id</th>\n",
       "      <th>category_code</th>\n",
       "      <th>brand</th>\n",
       "      <th>price</th>\n",
       "      <th>user_id</th>\n",
       "      <th>user_session</th>\n",
       "      <th>event_date</th>\n",
       "      <th>event_date_dtm_format</th>\n",
       "      <th>year_week_number</th>\n",
       "    </tr>\n",
       "  </thead>\n",
       "  <tbody>\n",
       "    <tr>\n",
       "      <th>41060</th>\n",
       "      <td>2020-10-04 00:00:45 UTC</td>\n",
       "      <td>view</td>\n",
       "      <td>1027301</td>\n",
       "      <td>2144415926445932750</td>\n",
       "      <td>electronics.audio.acoustic</td>\n",
       "      <td>acv</td>\n",
       "      <td>70.41</td>\n",
       "      <td>1515915625522165241</td>\n",
       "      <td>vkPZ8hp09D</td>\n",
       "      <td>2020-10-04</td>\n",
       "      <td>2020-10-04</td>\n",
       "      <td>2020-w40</td>\n",
       "    </tr>\n",
       "    <tr>\n",
       "      <th>41061</th>\n",
       "      <td>2020-10-04 00:01:17 UTC</td>\n",
       "      <td>view</td>\n",
       "      <td>218568</td>\n",
       "      <td>2144415928148820220</td>\n",
       "      <td>NaN</td>\n",
       "      <td>buro</td>\n",
       "      <td>0.37</td>\n",
       "      <td>1515915625522164973</td>\n",
       "      <td>KKFPnQqjwR</td>\n",
       "      <td>2020-10-04</td>\n",
       "      <td>2020-10-04</td>\n",
       "      <td>2020-w40</td>\n",
       "    </tr>\n",
       "    <tr>\n",
       "      <th>41062</th>\n",
       "      <td>2020-10-04 00:01:28 UTC</td>\n",
       "      <td>view</td>\n",
       "      <td>322460</td>\n",
       "      <td>2144415933660135822</td>\n",
       "      <td>NaN</td>\n",
       "      <td>NaN</td>\n",
       "      <td>182.54</td>\n",
       "      <td>1515915625504813192</td>\n",
       "      <td>pKFjO8s46S</td>\n",
       "      <td>2020-10-04</td>\n",
       "      <td>2020-10-04</td>\n",
       "      <td>2020-w40</td>\n",
       "    </tr>\n",
       "    <tr>\n",
       "      <th>41063</th>\n",
       "      <td>2020-10-04 00:01:36 UTC</td>\n",
       "      <td>view</td>\n",
       "      <td>3791351</td>\n",
       "      <td>2144415926966026460</td>\n",
       "      <td>computers.components.cpu</td>\n",
       "      <td>amd</td>\n",
       "      <td>204.29</td>\n",
       "      <td>1515915625522138986</td>\n",
       "      <td>UymjesoOzQ</td>\n",
       "      <td>2020-10-04</td>\n",
       "      <td>2020-10-04</td>\n",
       "      <td>2020-w40</td>\n",
       "    </tr>\n",
       "    <tr>\n",
       "      <th>41064</th>\n",
       "      <td>2020-10-04 00:01:57 UTC</td>\n",
       "      <td>view</td>\n",
       "      <td>3791351</td>\n",
       "      <td>2144415926966026460</td>\n",
       "      <td>computers.components.cpu</td>\n",
       "      <td>amd</td>\n",
       "      <td>204.29</td>\n",
       "      <td>1515915625522138986</td>\n",
       "      <td>UymjesoOzQ</td>\n",
       "      <td>2020-10-04</td>\n",
       "      <td>2020-10-04</td>\n",
       "      <td>2020-w40</td>\n",
       "    </tr>\n",
       "    <tr>\n",
       "      <th>...</th>\n",
       "      <td>...</td>\n",
       "      <td>...</td>\n",
       "      <td>...</td>\n",
       "      <td>...</td>\n",
       "      <td>...</td>\n",
       "      <td>...</td>\n",
       "      <td>...</td>\n",
       "      <td>...</td>\n",
       "      <td>...</td>\n",
       "      <td>...</td>\n",
       "      <td>...</td>\n",
       "      <td>...</td>\n",
       "    </tr>\n",
       "    <tr>\n",
       "      <th>879856</th>\n",
       "      <td>2021-02-27 23:54:18 UTC</td>\n",
       "      <td>view</td>\n",
       "      <td>3605626</td>\n",
       "      <td>2144415927284793573</td>\n",
       "      <td>computers.components.tv_tuner</td>\n",
       "      <td>NaN</td>\n",
       "      <td>135.60</td>\n",
       "      <td>1515915625610575761</td>\n",
       "      <td>4cdLnsrdN7</td>\n",
       "      <td>2021-02-27</td>\n",
       "      <td>2021-02-27</td>\n",
       "      <td>2021-w08</td>\n",
       "    </tr>\n",
       "    <tr>\n",
       "      <th>879857</th>\n",
       "      <td>2021-02-27 23:54:40 UTC</td>\n",
       "      <td>purchase</td>\n",
       "      <td>1282166</td>\n",
       "      <td>2144415973346640379</td>\n",
       "      <td>computers.components.hdd</td>\n",
       "      <td>samsung</td>\n",
       "      <td>60.54</td>\n",
       "      <td>1515915625596223978</td>\n",
       "      <td>23rgL9Smqy</td>\n",
       "      <td>2021-02-27</td>\n",
       "      <td>2021-02-27</td>\n",
       "      <td>2021-w08</td>\n",
       "    </tr>\n",
       "    <tr>\n",
       "      <th>879858</th>\n",
       "      <td>2021-02-27 23:55:01 UTC</td>\n",
       "      <td>view</td>\n",
       "      <td>3791403</td>\n",
       "      <td>2144415926966026460</td>\n",
       "      <td>computers.components.cpu</td>\n",
       "      <td>amd</td>\n",
       "      <td>236.97</td>\n",
       "      <td>1515915625610075250</td>\n",
       "      <td>jIBEdIH8sd</td>\n",
       "      <td>2021-02-27</td>\n",
       "      <td>2021-02-27</td>\n",
       "      <td>2021-w08</td>\n",
       "    </tr>\n",
       "    <tr>\n",
       "      <th>879859</th>\n",
       "      <td>2021-02-27 23:55:05 UTC</td>\n",
       "      <td>view</td>\n",
       "      <td>3632668</td>\n",
       "      <td>2144415922528452715</td>\n",
       "      <td>electronics.telephone</td>\n",
       "      <td>NaN</td>\n",
       "      <td>34.44</td>\n",
       "      <td>1515915625610460876</td>\n",
       "      <td>ZU12Xy1KMK</td>\n",
       "      <td>2021-02-27</td>\n",
       "      <td>2021-02-27</td>\n",
       "      <td>2021-w08</td>\n",
       "    </tr>\n",
       "    <tr>\n",
       "      <th>879860</th>\n",
       "      <td>2021-02-27 23:57:55 UTC</td>\n",
       "      <td>view</td>\n",
       "      <td>1735131</td>\n",
       "      <td>2144415923107266682</td>\n",
       "      <td>computers.peripherals.printer</td>\n",
       "      <td>epson</td>\n",
       "      <td>210.19</td>\n",
       "      <td>1515915625610584639</td>\n",
       "      <td>AAtnTNcUPW</td>\n",
       "      <td>2021-02-27</td>\n",
       "      <td>2021-02-27</td>\n",
       "      <td>2021-w08</td>\n",
       "    </tr>\n",
       "  </tbody>\n",
       "</table>\n",
       "<p>838801 rows × 12 columns</p>\n",
       "</div>"
      ],
      "text/plain": [
       "                     event_time event_type  product_id          category_id  \\\n",
       "41060   2020-10-04 00:00:45 UTC       view     1027301  2144415926445932750   \n",
       "41061   2020-10-04 00:01:17 UTC       view      218568  2144415928148820220   \n",
       "41062   2020-10-04 00:01:28 UTC       view      322460  2144415933660135822   \n",
       "41063   2020-10-04 00:01:36 UTC       view     3791351  2144415926966026460   \n",
       "41064   2020-10-04 00:01:57 UTC       view     3791351  2144415926966026460   \n",
       "...                         ...        ...         ...                  ...   \n",
       "879856  2021-02-27 23:54:18 UTC       view     3605626  2144415927284793573   \n",
       "879857  2021-02-27 23:54:40 UTC   purchase     1282166  2144415973346640379   \n",
       "879858  2021-02-27 23:55:01 UTC       view     3791403  2144415926966026460   \n",
       "879859  2021-02-27 23:55:05 UTC       view     3632668  2144415922528452715   \n",
       "879860  2021-02-27 23:57:55 UTC       view     1735131  2144415923107266682   \n",
       "\n",
       "                        category_code    brand   price              user_id  \\\n",
       "41060      electronics.audio.acoustic      acv   70.41  1515915625522165241   \n",
       "41061                             NaN     buro    0.37  1515915625522164973   \n",
       "41062                             NaN      NaN  182.54  1515915625504813192   \n",
       "41063        computers.components.cpu      amd  204.29  1515915625522138986   \n",
       "41064        computers.components.cpu      amd  204.29  1515915625522138986   \n",
       "...                               ...      ...     ...                  ...   \n",
       "879856  computers.components.tv_tuner      NaN  135.60  1515915625610575761   \n",
       "879857       computers.components.hdd  samsung   60.54  1515915625596223978   \n",
       "879858       computers.components.cpu      amd  236.97  1515915625610075250   \n",
       "879859          electronics.telephone      NaN   34.44  1515915625610460876   \n",
       "879860  computers.peripherals.printer    epson  210.19  1515915625610584639   \n",
       "\n",
       "       user_session  event_date event_date_dtm_format year_week_number  \n",
       "41060    vkPZ8hp09D  2020-10-04            2020-10-04         2020-w40  \n",
       "41061    KKFPnQqjwR  2020-10-04            2020-10-04         2020-w40  \n",
       "41062    pKFjO8s46S  2020-10-04            2020-10-04         2020-w40  \n",
       "41063    UymjesoOzQ  2020-10-04            2020-10-04         2020-w40  \n",
       "41064    UymjesoOzQ  2020-10-04            2020-10-04         2020-w40  \n",
       "...             ...         ...                   ...              ...  \n",
       "879856   4cdLnsrdN7  2021-02-27            2021-02-27         2021-w08  \n",
       "879857   23rgL9Smqy  2021-02-27            2021-02-27         2021-w08  \n",
       "879858   jIBEdIH8sd  2021-02-27            2021-02-27         2021-w08  \n",
       "879859   ZU12Xy1KMK  2021-02-27            2021-02-27         2021-w08  \n",
       "879860   AAtnTNcUPW  2021-02-27            2021-02-27         2021-w08  \n",
       "\n",
       "[838801 rows x 12 columns]"
      ]
     },
     "execution_count": 329,
     "metadata": {},
     "output_type": "execute_result"
    }
   ],
   "source": [
    "df_without_week_number_count_unser_7"
   ]
  },
  {
   "cell_type": "code",
   "execution_count": 330,
   "metadata": {},
   "outputs": [],
   "source": [
    "df_group_by_week_number = df_without_week_number_count_unser_7.groupby('year_week_number')['user_id'].nunique()"
   ]
  },
  {
   "cell_type": "code",
   "execution_count": 331,
   "metadata": {},
   "outputs": [],
   "source": [
    "wau_data = pd.DataFrame({'year_week_number':df_group_by_week_number.index, 'user_count':df_group_by_week_number.values})"
   ]
  },
  {
   "cell_type": "code",
   "execution_count": 332,
   "metadata": {},
   "outputs": [
    {
     "data": {
      "text/html": [
       "<div>\n",
       "<style scoped>\n",
       "    .dataframe tbody tr th:only-of-type {\n",
       "        vertical-align: middle;\n",
       "    }\n",
       "\n",
       "    .dataframe tbody tr th {\n",
       "        vertical-align: top;\n",
       "    }\n",
       "\n",
       "    .dataframe thead th {\n",
       "        text-align: right;\n",
       "    }\n",
       "</style>\n",
       "<table border=\"1\" class=\"dataframe\">\n",
       "  <thead>\n",
       "    <tr style=\"text-align: right;\">\n",
       "      <th></th>\n",
       "      <th>user_count</th>\n",
       "    </tr>\n",
       "  </thead>\n",
       "  <tbody>\n",
       "    <tr>\n",
       "      <th>count</th>\n",
       "      <td>21.000000</td>\n",
       "    </tr>\n",
       "    <tr>\n",
       "      <th>mean</th>\n",
       "      <td>19580.047619</td>\n",
       "    </tr>\n",
       "    <tr>\n",
       "      <th>std</th>\n",
       "      <td>2721.335122</td>\n",
       "    </tr>\n",
       "    <tr>\n",
       "      <th>min</th>\n",
       "      <td>14484.000000</td>\n",
       "    </tr>\n",
       "    <tr>\n",
       "      <th>25%</th>\n",
       "      <td>17990.000000</td>\n",
       "    </tr>\n",
       "    <tr>\n",
       "      <th>50%</th>\n",
       "      <td>19305.000000</td>\n",
       "    </tr>\n",
       "    <tr>\n",
       "      <th>75%</th>\n",
       "      <td>20821.000000</td>\n",
       "    </tr>\n",
       "    <tr>\n",
       "      <th>max</th>\n",
       "      <td>25600.000000</td>\n",
       "    </tr>\n",
       "  </tbody>\n",
       "</table>\n",
       "</div>"
      ],
      "text/plain": [
       "         user_count\n",
       "count     21.000000\n",
       "mean   19580.047619\n",
       "std     2721.335122\n",
       "min    14484.000000\n",
       "25%    17990.000000\n",
       "50%    19305.000000\n",
       "75%    20821.000000\n",
       "max    25600.000000"
      ]
     },
     "execution_count": 332,
     "metadata": {},
     "output_type": "execute_result"
    }
   ],
   "source": [
    "wau_data.describe()"
   ]
  },
  {
   "cell_type": "code",
   "execution_count": 333,
   "metadata": {},
   "outputs": [
    {
     "data": {
      "text/plain": [
       "(0.0, 28000.0)"
      ]
     },
     "execution_count": 333,
     "metadata": {},
     "output_type": "execute_result"
    },
    {
     "data": {
      "image/png": "[encoded data removed]",
      "text/plain": [
       "<Figure size 1080x576 with 1 Axes>"
      ]
     },
     "metadata": {},
     "output_type": "display_data"
    }
   ],
   "source": [
    "sns.set_theme(style='whitegrid', palette='pastel')\n",
    "plt.rc('font', family='NanumGothic')\n",
    "plt.xticks(rotation=45)\n",
    "\n",
    "g = sns.lineplot(x='year_week_number', y='user_count', data=wau_data)\n",
    "g.figure.set_size_inches(15, 8)\n",
    "g.set_title('주별 유저수 변화(Daily Active User)', pad=20, size=16)\n",
    "g.set_xlabel('주차', labelpad=20, size=13)\n",
    "g.set_ylabel('유저수', labelpad=20, size=13)\n",
    "g.set_ylim(0, 28000)"
   ]
  },
  {
   "cell_type": "markdown",
   "metadata": {},
   "source": [
    "## Monthly Active User"
   ]
  },
  {
   "cell_type": "code",
   "execution_count": 334,
   "metadata": {},
   "outputs": [],
   "source": [
    "df['year_month'] = df.event_date_dtm_format.dt.strftime('%Y-%m')"
   ]
  },
  {
   "cell_type": "code",
   "execution_count": 335,
   "metadata": {},
   "outputs": [
    {
     "data": {
      "text/html": [
       "<div>\n",
       "<style scoped>\n",
       "    .dataframe tbody tr th:only-of-type {\n",
       "        vertical-align: middle;\n",
       "    }\n",
       "\n",
       "    .dataframe tbody tr th {\n",
       "        vertical-align: top;\n",
       "    }\n",
       "\n",
       "    .dataframe thead th {\n",
       "        text-align: right;\n",
       "    }\n",
       "</style>\n",
       "<table border=\"1\" class=\"dataframe\">\n",
       "  <thead>\n",
       "    <tr style=\"text-align: right;\">\n",
       "      <th></th>\n",
       "      <th>event_time</th>\n",
       "      <th>event_type</th>\n",
       "      <th>product_id</th>\n",
       "      <th>category_id</th>\n",
       "      <th>category_code</th>\n",
       "      <th>brand</th>\n",
       "      <th>price</th>\n",
       "      <th>user_id</th>\n",
       "      <th>user_session</th>\n",
       "      <th>event_date</th>\n",
       "      <th>event_date_dtm_format</th>\n",
       "      <th>year_week_number</th>\n",
       "      <th>year_month</th>\n",
       "    </tr>\n",
       "  </thead>\n",
       "  <tbody>\n",
       "    <tr>\n",
       "      <th>28074</th>\n",
       "      <td>2020-10-01 00:01:36 UTC</td>\n",
       "      <td>view</td>\n",
       "      <td>1795171</td>\n",
       "      <td>2144415922360680550</td>\n",
       "      <td>computers.peripherals.camera</td>\n",
       "      <td>canyon</td>\n",
       "      <td>39.75</td>\n",
       "      <td>1515915625520113390</td>\n",
       "      <td>4X2NwIInsI</td>\n",
       "      <td>2020-10-01</td>\n",
       "      <td>2020-10-01</td>\n",
       "      <td>2020-w39</td>\n",
       "      <td>2020-10</td>\n",
       "    </tr>\n",
       "    <tr>\n",
       "      <th>28075</th>\n",
       "      <td>2020-10-01 00:04:11 UTC</td>\n",
       "      <td>view</td>\n",
       "      <td>1549819</td>\n",
       "      <td>2144415925011480748</td>\n",
       "      <td>stationery.cartrige</td>\n",
       "      <td>xerox</td>\n",
       "      <td>69.35</td>\n",
       "      <td>1515915625521278799</td>\n",
       "      <td>daM8ubpOfo</td>\n",
       "      <td>2020-10-01</td>\n",
       "      <td>2020-10-01</td>\n",
       "      <td>2020-w39</td>\n",
       "      <td>2020-10</td>\n",
       "    </tr>\n",
       "    <tr>\n",
       "      <th>28076</th>\n",
       "      <td>2020-10-01 00:07:23 UTC</td>\n",
       "      <td>view</td>\n",
       "      <td>4156248</td>\n",
       "      <td>2144415921169498184</td>\n",
       "      <td>NaN</td>\n",
       "      <td>NaN</td>\n",
       "      <td>17.14</td>\n",
       "      <td>1515915625521278938</td>\n",
       "      <td>EdgYsorbdC</td>\n",
       "      <td>2020-10-01</td>\n",
       "      <td>2020-10-01</td>\n",
       "      <td>2020-w39</td>\n",
       "      <td>2020-10</td>\n",
       "    </tr>\n",
       "    <tr>\n",
       "      <th>28077</th>\n",
       "      <td>2020-10-01 00:07:56 UTC</td>\n",
       "      <td>view</td>\n",
       "      <td>16101</td>\n",
       "      <td>2144415922360680550</td>\n",
       "      <td>computers.peripherals.camera</td>\n",
       "      <td>NaN</td>\n",
       "      <td>30.38</td>\n",
       "      <td>1515915625520113390</td>\n",
       "      <td>4X2NwIInsI</td>\n",
       "      <td>2020-10-01</td>\n",
       "      <td>2020-10-01</td>\n",
       "      <td>2020-w39</td>\n",
       "      <td>2020-10</td>\n",
       "    </tr>\n",
       "    <tr>\n",
       "      <th>28078</th>\n",
       "      <td>2020-10-01 00:08:11 UTC</td>\n",
       "      <td>view</td>\n",
       "      <td>880508</td>\n",
       "      <td>2144415926806642904</td>\n",
       "      <td>computers.components.power_supply</td>\n",
       "      <td>cougar</td>\n",
       "      <td>57.13</td>\n",
       "      <td>1515915625521279091</td>\n",
       "      <td>Et4GWStGMB</td>\n",
       "      <td>2020-10-01</td>\n",
       "      <td>2020-10-01</td>\n",
       "      <td>2020-w39</td>\n",
       "      <td>2020-10</td>\n",
       "    </tr>\n",
       "  </tbody>\n",
       "</table>\n",
       "</div>"
      ],
      "text/plain": [
       "                    event_time event_type  product_id          category_id  \\\n",
       "28074  2020-10-01 00:01:36 UTC       view     1795171  2144415922360680550   \n",
       "28075  2020-10-01 00:04:11 UTC       view     1549819  2144415925011480748   \n",
       "28076  2020-10-01 00:07:23 UTC       view     4156248  2144415921169498184   \n",
       "28077  2020-10-01 00:07:56 UTC       view       16101  2144415922360680550   \n",
       "28078  2020-10-01 00:08:11 UTC       view      880508  2144415926806642904   \n",
       "\n",
       "                           category_code   brand  price              user_id  \\\n",
       "28074       computers.peripherals.camera  canyon  39.75  1515915625520113390   \n",
       "28075                stationery.cartrige   xerox  69.35  1515915625521278799   \n",
       "28076                                NaN     NaN  17.14  1515915625521278938   \n",
       "28077       computers.peripherals.camera     NaN  30.38  1515915625520113390   \n",
       "28078  computers.components.power_supply  cougar  57.13  1515915625521279091   \n",
       "\n",
       "      user_session  event_date event_date_dtm_format year_week_number  \\\n",
       "28074   4X2NwIInsI  2020-10-01            2020-10-01         2020-w39   \n",
       "28075   daM8ubpOfo  2020-10-01            2020-10-01         2020-w39   \n",
       "28076   EdgYsorbdC  2020-10-01            2020-10-01         2020-w39   \n",
       "28077   4X2NwIInsI  2020-10-01            2020-10-01         2020-w39   \n",
       "28078   Et4GWStGMB  2020-10-01            2020-10-01         2020-w39   \n",
       "\n",
       "      year_month  \n",
       "28074    2020-10  \n",
       "28075    2020-10  \n",
       "28076    2020-10  \n",
       "28077    2020-10  \n",
       "28078    2020-10  "
      ]
     },
     "execution_count": 335,
     "metadata": {},
     "output_type": "execute_result"
    }
   ],
   "source": [
    "df.head()"
   ]
  },
  {
   "cell_type": "code",
   "execution_count": 336,
   "metadata": {},
   "outputs": [],
   "source": [
    "df_4 = df.groupby('year_month')['user_id'].nunique()"
   ]
  },
  {
   "cell_type": "code",
   "execution_count": 337,
   "metadata": {},
   "outputs": [
    {
     "data": {
      "text/plain": [
       "year_month\n",
       "2020-10    84216\n",
       "2020-11    92600\n",
       "2020-12    72137\n",
       "2021-01    81256\n",
       "2021-02    74606\n",
       "Name: user_id, dtype: int64"
      ]
     },
     "execution_count": 337,
     "metadata": {},
     "output_type": "execute_result"
    }
   ],
   "source": [
    "df_4"
   ]
  },
  {
   "cell_type": "code",
   "execution_count": 338,
   "metadata": {},
   "outputs": [],
   "source": [
    "mau_data = pd.DataFrame({'year_month': df_4.index, 'user_count': df_4.values})"
   ]
  },
  {
   "cell_type": "code",
   "execution_count": 339,
   "metadata": {},
   "outputs": [
    {
     "data": {
      "text/html": [
       "<div>\n",
       "<style scoped>\n",
       "    .dataframe tbody tr th:only-of-type {\n",
       "        vertical-align: middle;\n",
       "    }\n",
       "\n",
       "    .dataframe tbody tr th {\n",
       "        vertical-align: top;\n",
       "    }\n",
       "\n",
       "    .dataframe thead th {\n",
       "        text-align: right;\n",
       "    }\n",
       "</style>\n",
       "<table border=\"1\" class=\"dataframe\">\n",
       "  <thead>\n",
       "    <tr style=\"text-align: right;\">\n",
       "      <th></th>\n",
       "      <th>year_month</th>\n",
       "      <th>user_count</th>\n",
       "    </tr>\n",
       "  </thead>\n",
       "  <tbody>\n",
       "    <tr>\n",
       "      <th>0</th>\n",
       "      <td>2020-10</td>\n",
       "      <td>84216</td>\n",
       "    </tr>\n",
       "    <tr>\n",
       "      <th>1</th>\n",
       "      <td>2020-11</td>\n",
       "      <td>92600</td>\n",
       "    </tr>\n",
       "    <tr>\n",
       "      <th>2</th>\n",
       "      <td>2020-12</td>\n",
       "      <td>72137</td>\n",
       "    </tr>\n",
       "    <tr>\n",
       "      <th>3</th>\n",
       "      <td>2021-01</td>\n",
       "      <td>81256</td>\n",
       "    </tr>\n",
       "    <tr>\n",
       "      <th>4</th>\n",
       "      <td>2021-02</td>\n",
       "      <td>74606</td>\n",
       "    </tr>\n",
       "  </tbody>\n",
       "</table>\n",
       "</div>"
      ],
      "text/plain": [
       "  year_month  user_count\n",
       "0    2020-10       84216\n",
       "1    2020-11       92600\n",
       "2    2020-12       72137\n",
       "3    2021-01       81256\n",
       "4    2021-02       74606"
      ]
     },
     "execution_count": 339,
     "metadata": {},
     "output_type": "execute_result"
    }
   ],
   "source": [
    "mau_data"
   ]
  },
  {
   "cell_type": "code",
   "execution_count": 340,
   "metadata": {},
   "outputs": [
    {
     "data": {
      "text/html": [
       "<div>\n",
       "<style scoped>\n",
       "    .dataframe tbody tr th:only-of-type {\n",
       "        vertical-align: middle;\n",
       "    }\n",
       "\n",
       "    .dataframe tbody tr th {\n",
       "        vertical-align: top;\n",
       "    }\n",
       "\n",
       "    .dataframe thead th {\n",
       "        text-align: right;\n",
       "    }\n",
       "</style>\n",
       "<table border=\"1\" class=\"dataframe\">\n",
       "  <thead>\n",
       "    <tr style=\"text-align: right;\">\n",
       "      <th></th>\n",
       "      <th>user_count</th>\n",
       "    </tr>\n",
       "  </thead>\n",
       "  <tbody>\n",
       "    <tr>\n",
       "      <th>count</th>\n",
       "      <td>5.000000</td>\n",
       "    </tr>\n",
       "    <tr>\n",
       "      <th>mean</th>\n",
       "      <td>80963.000000</td>\n",
       "    </tr>\n",
       "    <tr>\n",
       "      <th>std</th>\n",
       "      <td>8130.149937</td>\n",
       "    </tr>\n",
       "    <tr>\n",
       "      <th>min</th>\n",
       "      <td>72137.000000</td>\n",
       "    </tr>\n",
       "    <tr>\n",
       "      <th>25%</th>\n",
       "      <td>74606.000000</td>\n",
       "    </tr>\n",
       "    <tr>\n",
       "      <th>50%</th>\n",
       "      <td>81256.000000</td>\n",
       "    </tr>\n",
       "    <tr>\n",
       "      <th>75%</th>\n",
       "      <td>84216.000000</td>\n",
       "    </tr>\n",
       "    <tr>\n",
       "      <th>max</th>\n",
       "      <td>92600.000000</td>\n",
       "    </tr>\n",
       "  </tbody>\n",
       "</table>\n",
       "</div>"
      ],
      "text/plain": [
       "         user_count\n",
       "count      5.000000\n",
       "mean   80963.000000\n",
       "std     8130.149937\n",
       "min    72137.000000\n",
       "25%    74606.000000\n",
       "50%    81256.000000\n",
       "75%    84216.000000\n",
       "max    92600.000000"
      ]
     },
     "execution_count": 340,
     "metadata": {},
     "output_type": "execute_result"
    }
   ],
   "source": [
    "mau_data.describe()"
   ]
  },
  {
   "cell_type": "code",
   "execution_count": 341,
   "metadata": {},
   "outputs": [
    {
     "data": {
      "text/plain": [
       "Text(0, 0.5, '유저수')"
      ]
     },
     "execution_count": 341,
     "metadata": {},
     "output_type": "execute_result"
    },
    {
     "data": {
      "image/png": "[encoded data removed]",
      "text/plain": [
       "<Figure size 1080x576 with 1 Axes>"
      ]
     },
     "metadata": {},
     "output_type": "display_data"
    }
   ],
   "source": [
    "sns.set_theme(style='whitegrid', palette='pastel')\n",
    "plt.rc('font', family='NanumGothic')\n",
    "plt.xticks(rotation=45)\n",
    "\n",
    "g = sns.lineplot(x='year_month', y='user_count', data=mau_data)\n",
    "g.figure.set_size_inches(15, 8)\n",
    "g.set_title('월별 유저수 변화(Daily Active User)', pad=20, size=16)\n",
    "g.set_xlabel('월', labelpad=20, size=13)\n",
    "g.set_ylabel('유저수', labelpad=20, size=13)"
   ]
  },
  {
   "cell_type": "markdown",
   "metadata": {},
   "source": [
    "## DAU / MAU"
   ]
  },
  {
   "cell_type": "code",
   "execution_count": 342,
   "metadata": {},
   "outputs": [
    {
     "data": {
      "text/plain": [
       "2984.8543046357618"
      ]
     },
     "execution_count": 342,
     "metadata": {},
     "output_type": "execute_result"
    }
   ],
   "source": [
    "dau_data.user_count.mean()"
   ]
  },
  {
   "cell_type": "code",
   "execution_count": 343,
   "metadata": {},
   "outputs": [
    {
     "data": {
      "text/plain": [
       "80963.0"
      ]
     },
     "execution_count": 343,
     "metadata": {},
     "output_type": "execute_result"
    }
   ],
   "source": [
    "mau_data.user_count.mean()"
   ]
  },
  {
   "cell_type": "code",
   "execution_count": 345,
   "metadata": {},
   "outputs": [
    {
     "name": "stdout",
     "output_type": "stream",
     "text": [
      "3.686689357651966 %\n"
     ]
    }
   ],
   "source": [
    "avg_daily_user = dau_data.user_count.mean()\n",
    "avg_monthly_user = mau_data.user_count.mean()\n",
    "\n",
    "dau_mau_ratio = avg_daily_user / avg_monthly_user\n",
    "print(dau_mau_ratio * 100, '%')"
   ]
  },
  {
   "cell_type": "markdown",
   "metadata": {},
   "source": [
    "거의 매일 새로운 유저가 유입되는 서비스이다"
   ]
  },
  {
   "cell_type": "code",
   "execution_count": null,
   "metadata": {},
   "outputs": [],
   "source": []
  }
 ],
 "metadata": {
  "kernelspec": {
   "display_name": "Python 3",
   "language": "python",
   "name": "python3"
  },
  "language_info": {
   "codemirror_mode": {
    "name": "ipython",
    "version": 3
   },
   "file_extension": ".py",
   "mimetype": "text/x-python",
   "name": "python",
   "nbconvert_exporter": "python",
   "pygments_lexer": "ipython3",
   "version": "3.8.5"
  }
 },
 "nbformat": 4,
 "nbformat_minor": 4
}
