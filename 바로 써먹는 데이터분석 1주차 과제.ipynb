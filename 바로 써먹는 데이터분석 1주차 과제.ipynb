{
 "cells": [
  {
   "cell_type": "markdown",
   "metadata": {},
   "source": [
    "날짜 별 날씨 데이터를 구했으나 날짜와 날씨가 문자열로 붙어있는 형태여서 읽기나 처리하기가 어려운 상황이라고 가정해봅시다. 이 데이터를 딕셔너리 형태로 가공하려고 합니다.\n",
    "\n",
    "아래 assert문이 통과되도록 process_data 함수를 구현하세요."
   ]
  },
  {
   "cell_type": "code",
   "execution_count": 141,
   "metadata": {},
   "outputs": [
    {
     "name": "stdout",
     "output_type": "stream",
     "text": [
      "[{'weather': 'Sunny', 'date': '20210101'}]\n"
     ]
    }
   ],
   "source": [
    "data = ['Sunny20210101']\n",
    "result = []\n",
    "for s in data:\n",
    "    end = 0\n",
    "    for i, c in enumerate(s):\n",
    "        if '0' <= c <= '9':\n",
    "            result.append({\n",
    "                'weather': s[:i],\n",
    "                'date': s[i:]\n",
    "            })\n",
    "            break\n",
    "print(result)"
   ]
  },
  {
   "cell_type": "code",
   "execution_count": 144,
   "metadata": {},
   "outputs": [],
   "source": [
    "def process_data(data):\n",
    "    result = []\n",
    "    for s in data:\n",
    "        for i, c in enumerate(s):\n",
    "            if '0' <= c <= '9':\n",
    "                result.append({\n",
    "                    'weather': s[:i],\n",
    "                    'date': s[i:]\n",
    "                })\n",
    "                break\n",
    "    return result\n",
    "\n",
    "# 데이터와 테스트 코드는 수정하지 마세요.\n",
    "raw_data = ['Sunny20210101', 'Rainy20210102', 'Cloudy20210103']\n",
    "processed_data = [{'weather': 'Sunny', 'date': '20210101'}, {'weather': 'Rainy', 'date': '20210102'}, {'weather': 'Cloudy', 'date': '20210103'}]\n",
    "\n",
    "assert process_data(raw_data) == processed_data"
   ]
  },
  {
   "cell_type": "markdown",
   "metadata": {},
   "source": [
    "주어진 리스트에서 각 아이템이 몇개씩 등장했는지 세는 함수를 구현하려고 합니다.<br>\n",
    "이 함수는 리스트 변수를 입력으로 받고 딕셔너리를 출력하는데,<br>\n",
    "딕셔너리의 각 쌍의 키는 아이템이고 값은 해당 아이템이 출현한 횟수입니다.\n",
    "\n",
    "파이썬의 기본 기능 외의 라이브러리를 쓰지 않고 구현해 주세요."
   ]
  },
  {
   "cell_type": "code",
   "execution_count": 160,
   "metadata": {},
   "outputs": [
    {
     "data": {
      "text/plain": [
       "{'A': 2, 'B': 1, 'C': 3}"
      ]
     },
     "execution_count": 160,
     "metadata": {},
     "output_type": "execute_result"
    }
   ],
   "source": [
    "result = {}\n",
    "for key in [\"A\", \"A\", \"B\", \"C\", \"C\", \"C\"]:\n",
    "    if key not in result:\n",
    "        result[key] = 1\n",
    "    else:\n",
    "        result[key] += 1\n",
    "result"
   ]
  },
  {
   "cell_type": "code",
   "execution_count": 163,
   "metadata": {},
   "outputs": [],
   "source": [
    "def count(data):\n",
    "    result = {}\n",
    "    for key in data:\n",
    "        if key not in result:\n",
    "            result[key] = 1\n",
    "        else:\n",
    "            result[key] += 1\n",
    "    return result\n",
    "\n",
    "# 데이터와 테스트 코드는 수정하지 마세요.\n",
    "assert count([\"A\", \"B\", \"C\"]) == {\"A\": 1, \"B\": 1, \"C\": 1}\n",
    "assert count([\"A\", \"A\", \"B\", \"C\", \"C\", \"C\"]) == {\"A\": 2, \"B\": 1, \"C\": 3}\n",
    "assert count([\"D\", \"A\", \"D\", \"B\", \"C\", \"A\", \"C\"]) == {\"A\": 2, \"B\": 1, \"C\": 2, \"D\": 2}"
   ]
  },
  {
   "cell_type": "markdown",
   "metadata": {},
   "source": [
    "날짜 별, 지역 별 매출 데이터가 있습니다. 그런데 매출의 데이터 형식이 문자열로 들어가 있고,중간에 빠진 값이 있습니다.<br>\n",
    "매출의 데이터 형식을 숫자형으로 바꾸고 결측치를 제외한 지역 별 평균 매출을 구해보세요.\n",
    "\n",
    "Hint: 판다스의 groupby를 사용해 보세요."
   ]
  },
  {
   "cell_type": "code",
   "execution_count": 164,
   "metadata": {},
   "outputs": [],
   "source": [
    "import pandas as pd\n",
    "\n",
    "raw_data = pd.DataFrame(\n",
    "    [{\"날짜\": \"20210101\", \"지역\": \"서울\", \"매출\": \"10\"},\n",
    "     {\"날짜\": \"20210101\", \"지역\": \"부산\", \"매출\": \"20\"},\n",
    "     {\"날짜\": \"20210101\", \"지역\": \"제주\", \"매출\": \"8\"},\n",
    "     {\"날짜\": \"20210102\", \"지역\": \"서울\", \"매출\": \"15\"},\n",
    "     {\"날짜\": \"20210102\", \"지역\": \"부산\", \"매출\": None},\n",
    "     {\"날짜\": \"20210102\", \"지역\": \"제주\", \"매출\": \"10\"}]\n",
    ")"
   ]
  },
  {
   "cell_type": "code",
   "execution_count": 201,
   "metadata": {},
   "outputs": [
    {
     "data": {
      "text/html": [
       "<div>\n",
       "<style scoped>\n",
       "    .dataframe tbody tr th:only-of-type {\n",
       "        vertical-align: middle;\n",
       "    }\n",
       "\n",
       "    .dataframe tbody tr th {\n",
       "        vertical-align: top;\n",
       "    }\n",
       "\n",
       "    .dataframe thead th {\n",
       "        text-align: right;\n",
       "    }\n",
       "</style>\n",
       "<table border=\"1\" class=\"dataframe\">\n",
       "  <thead>\n",
       "    <tr style=\"text-align: right;\">\n",
       "      <th></th>\n",
       "      <th>날짜</th>\n",
       "      <th>지역</th>\n",
       "      <th>매출</th>\n",
       "    </tr>\n",
       "  </thead>\n",
       "  <tbody>\n",
       "    <tr>\n",
       "      <th>0</th>\n",
       "      <td>20210101</td>\n",
       "      <td>서울</td>\n",
       "      <td>10</td>\n",
       "    </tr>\n",
       "    <tr>\n",
       "      <th>1</th>\n",
       "      <td>20210101</td>\n",
       "      <td>부산</td>\n",
       "      <td>20</td>\n",
       "    </tr>\n",
       "    <tr>\n",
       "      <th>2</th>\n",
       "      <td>20210101</td>\n",
       "      <td>제주</td>\n",
       "      <td>8</td>\n",
       "    </tr>\n",
       "    <tr>\n",
       "      <th>3</th>\n",
       "      <td>20210102</td>\n",
       "      <td>서울</td>\n",
       "      <td>15</td>\n",
       "    </tr>\n",
       "    <tr>\n",
       "      <th>4</th>\n",
       "      <td>20210102</td>\n",
       "      <td>부산</td>\n",
       "      <td>None</td>\n",
       "    </tr>\n",
       "    <tr>\n",
       "      <th>5</th>\n",
       "      <td>20210102</td>\n",
       "      <td>제주</td>\n",
       "      <td>10</td>\n",
       "    </tr>\n",
       "  </tbody>\n",
       "</table>\n",
       "</div>"
      ],
      "text/plain": [
       "         날짜  지역    매출\n",
       "0  20210101  서울    10\n",
       "1  20210101  부산    20\n",
       "2  20210101  제주     8\n",
       "3  20210102  서울    15\n",
       "4  20210102  부산  None\n",
       "5  20210102  제주    10"
      ]
     },
     "execution_count": 201,
     "metadata": {},
     "output_type": "execute_result"
    }
   ],
   "source": [
    "raw_data"
   ]
  },
  {
   "cell_type": "code",
   "execution_count": 246,
   "metadata": {},
   "outputs": [
    {
     "data": {
      "text/html": [
       "<div>\n",
       "<style scoped>\n",
       "    .dataframe tbody tr th:only-of-type {\n",
       "        vertical-align: middle;\n",
       "    }\n",
       "\n",
       "    .dataframe tbody tr th {\n",
       "        vertical-align: top;\n",
       "    }\n",
       "\n",
       "    .dataframe thead th {\n",
       "        text-align: right;\n",
       "    }\n",
       "</style>\n",
       "<table border=\"1\" class=\"dataframe\">\n",
       "  <thead>\n",
       "    <tr style=\"text-align: right;\">\n",
       "      <th></th>\n",
       "      <th>매출</th>\n",
       "    </tr>\n",
       "    <tr>\n",
       "      <th>지역</th>\n",
       "      <th></th>\n",
       "    </tr>\n",
       "  </thead>\n",
       "  <tbody>\n",
       "    <tr>\n",
       "      <th>부산</th>\n",
       "      <td>20.0</td>\n",
       "    </tr>\n",
       "    <tr>\n",
       "      <th>서울</th>\n",
       "      <td>12.5</td>\n",
       "    </tr>\n",
       "    <tr>\n",
       "      <th>제주</th>\n",
       "      <td>9.0</td>\n",
       "    </tr>\n",
       "  </tbody>\n",
       "</table>\n",
       "</div>"
      ],
      "text/plain": [
       "      매출\n",
       "지역      \n",
       "부산  20.0\n",
       "서울  12.5\n",
       "제주   9.0"
      ]
     },
     "execution_count": 246,
     "metadata": {},
     "output_type": "execute_result"
    }
   ],
   "source": [
    "df = raw_data.dropna()\n",
    "df = df.assign(매출=lambda x: pd.to_numeric(x.매출))\n",
    "df = df.groupby(by=['지역']).mean()\n",
    "df"
   ]
  },
  {
   "cell_type": "code",
   "execution_count": 250,
   "metadata": {},
   "outputs": [],
   "source": [
    "import pandas as pd\n",
    "\n",
    "def average_by_region(data):\n",
    "    df = raw_data.dropna()\n",
    "    df = df.assign(매출=lambda x: pd.to_numeric(x.매출))\n",
    "    df = df.groupby(by=['지역']).mean()\n",
    "    return df['매출']\n",
    "\n",
    "# 데이터와 테스트 코드는 수정하지 마세요.\n",
    "\n",
    "raw_data = pd.DataFrame(\n",
    "    [{\"날짜\": \"20210101\", \"지역\": \"서울\", \"매출\": \"10\"},\n",
    "     {\"날짜\": \"20210101\", \"지역\": \"부산\", \"매출\": \"20\"},\n",
    "     {\"날짜\": \"20210101\", \"지역\": \"제주\", \"매출\": \"8\"},\n",
    "     {\"날짜\": \"20210102\", \"지역\": \"서울\", \"매출\": \"15\"},\n",
    "     {\"날짜\": \"20210102\", \"지역\": \"부산\", \"매출\": None},\n",
    "     {\"날짜\": \"20210102\", \"지역\": \"제주\", \"매출\": \"10\"}]\n",
    "  )\n",
    "\n",
    "result = pd.Series([20.0, 12.5, 9.0], index=['부산', '서울', '제주'])\n",
    "\n",
    "assert average_by_region(raw_data).equals(result) # 판다스 시리즈(Series)의 equals는 두 시리즈의 내용이 같은지 검사한다."
   ]
  },
  {
   "cell_type": "code",
   "execution_count": null,
   "metadata": {},
   "outputs": [],
   "source": []
  }
 ],
 "metadata": {
  "kernelspec": {
   "display_name": "Python 3",
   "language": "python",
   "name": "python3"
  },
  "language_info": {
   "codemirror_mode": {
    "name": "ipython",
    "version": 3
   },
   "file_extension": ".py",
   "mimetype": "text/x-python",
   "name": "python",
   "nbconvert_exporter": "python",
   "pygments_lexer": "ipython3",
   "version": "3.8.5"
  }
 },
 "nbformat": 4,
 "nbformat_minor": 4
}
