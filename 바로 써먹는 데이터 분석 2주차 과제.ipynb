{
 "cells": [
  {
   "cell_type": "markdown",
   "metadata": {},
   "source": [
    "# 1. 평균 Daily Active User 를 구해서 avg_active_user라는 변수에 저장하시오. (20점)\n",
    "\n",
    "제약사항\n",
    "\n",
    "위의 user_data 의 기간 전체를 사용합니다\n",
    "단, 유저가 방문하지 않은 날짜는 제외(무시)하고, DAU 를 구하시오\n",
    "avg_active_user 은 DataFrame이 아닌 숫자(float)로 저장되어야 합니다."
   ]
  },
  {
   "cell_type": "code",
   "execution_count": 1,
   "metadata": {},
   "outputs": [],
   "source": [
    "# 아래 과제가 돌아가기 위해 필요한 모든 패키지를 불러옵니다\n",
    "\n",
    "import seaborn as sns\n",
    "import matplotlib.pyplot as plt\n",
    "import pandas as pd\n",
    "\n",
    "# 수정 금지) 아래는 예제 데이터를 불러오는 코드입니다.\n",
    "\n",
    "# user_data 에 대한 설명은 다음과 같습니다.\n",
    "# user_id: 유저별 unique ID\n",
    "# session_id: 유저의 세션 ID\n",
    "# date: event 발생 날짜\n",
    "  \n",
    "  # 수정 금지: 데이터셋 준비 #\n",
    "a = (1051,1051,1051,1051,1051,2073,2073,2073,2073,3063,3063,3063,3053,3024,3024)\n",
    "b = ('aBxD','aBxD','aBxD','aBxD','aBxD','bDbD','bDbD','bDbC','bDbC','aaaa','aaab','aaac', '5DaD','aDDD','aDDE')\n",
    "c = ('2021-10-31','2021-10-31','2021-10-31','2021-11-01','2021-11-01','2021-10-31','2021-10-31','2021-10-30', '2021-10-29','2021-11-07','2021-11-08','2021-11-09','2021-11-09','2021-11-09','2021-11-10')\n",
    "user_data = pd.DataFrame({\"user_id\":a, \"session_id\":b, \"date\": c})"
   ]
  },
  {
   "cell_type": "code",
   "execution_count": 2,
   "metadata": {},
   "outputs": [
    {
     "data": {
      "text/html": [
       "<div>\n",
       "<style scoped>\n",
       "    .dataframe tbody tr th:only-of-type {\n",
       "        vertical-align: middle;\n",
       "    }\n",
       "\n",
       "    .dataframe tbody tr th {\n",
       "        vertical-align: top;\n",
       "    }\n",
       "\n",
       "    .dataframe thead th {\n",
       "        text-align: right;\n",
       "    }\n",
       "</style>\n",
       "<table border=\"1\" class=\"dataframe\">\n",
       "  <thead>\n",
       "    <tr style=\"text-align: right;\">\n",
       "      <th></th>\n",
       "      <th>user_id</th>\n",
       "      <th>session_id</th>\n",
       "      <th>date</th>\n",
       "    </tr>\n",
       "  </thead>\n",
       "  <tbody>\n",
       "    <tr>\n",
       "      <th>0</th>\n",
       "      <td>1051</td>\n",
       "      <td>aBxD</td>\n",
       "      <td>2021-10-31</td>\n",
       "    </tr>\n",
       "    <tr>\n",
       "      <th>1</th>\n",
       "      <td>1051</td>\n",
       "      <td>aBxD</td>\n",
       "      <td>2021-10-31</td>\n",
       "    </tr>\n",
       "    <tr>\n",
       "      <th>2</th>\n",
       "      <td>1051</td>\n",
       "      <td>aBxD</td>\n",
       "      <td>2021-10-31</td>\n",
       "    </tr>\n",
       "    <tr>\n",
       "      <th>3</th>\n",
       "      <td>1051</td>\n",
       "      <td>aBxD</td>\n",
       "      <td>2021-11-01</td>\n",
       "    </tr>\n",
       "    <tr>\n",
       "      <th>4</th>\n",
       "      <td>1051</td>\n",
       "      <td>aBxD</td>\n",
       "      <td>2021-11-01</td>\n",
       "    </tr>\n",
       "  </tbody>\n",
       "</table>\n",
       "</div>"
      ],
      "text/plain": [
       "   user_id session_id        date\n",
       "0     1051       aBxD  2021-10-31\n",
       "1     1051       aBxD  2021-10-31\n",
       "2     1051       aBxD  2021-10-31\n",
       "3     1051       aBxD  2021-11-01\n",
       "4     1051       aBxD  2021-11-01"
      ]
     },
     "execution_count": 2,
     "metadata": {},
     "output_type": "execute_result"
    }
   ],
   "source": [
    "user_data.head()"
   ]
  },
  {
   "cell_type": "code",
   "execution_count": 3,
   "metadata": {},
   "outputs": [],
   "source": [
    "# 날짜 별 unique user 수 계산하기\n",
    "df_dau = user_data.groupby('date')['user_id'].nunique()"
   ]
  },
  {
   "cell_type": "code",
   "execution_count": 4,
   "metadata": {},
   "outputs": [
    {
     "data": {
      "text/plain": [
       "date\n",
       "2021-10-29    1\n",
       "2021-10-30    1\n",
       "2021-10-31    2\n",
       "2021-11-01    1\n",
       "2021-11-07    1\n",
       "Name: user_id, dtype: int64"
      ]
     },
     "execution_count": 4,
     "metadata": {},
     "output_type": "execute_result"
    }
   ],
   "source": [
    "df_dau.head()"
   ]
  },
  {
   "cell_type": "code",
   "execution_count": 5,
   "metadata": {},
   "outputs": [
    {
     "data": {
      "text/plain": [
       "array([1., 1., 2., 1., 1., 1., 3., 1.])"
      ]
     },
     "execution_count": 5,
     "metadata": {},
     "output_type": "execute_result"
    }
   ],
   "source": [
    "avg_active_user = df_dau.values.astype('float')\n",
    "avg_active_user"
   ]
  },
  {
   "cell_type": "code",
   "execution_count": 6,
   "metadata": {},
   "outputs": [
    {
     "data": {
      "text/plain": [
       "dtype('float64')"
      ]
     },
     "execution_count": 6,
     "metadata": {},
     "output_type": "execute_result"
    }
   ],
   "source": [
    "avg_active_user.dtype"
   ]
  },
  {
   "cell_type": "markdown",
   "metadata": {},
   "source": [
    "# 2. 11월 데이터만 필터링하여 november_data 변수에 dataframe 형태로 저장합니다\n",
    "\n",
    "11월 한 달 동안의 DAU/MAU 지표를 구하시오 (총 30점, 4문제)\n",
    "\n",
    "user_data 를 사용합니다\n",
    "단, 유저가 방문하지 않은 날짜는 제외(무시)하고, DAU 를 구하시오"
   ]
  },
  {
   "cell_type": "code",
   "execution_count": 7,
   "metadata": {},
   "outputs": [],
   "source": [
    "user_data['date_dtm_format'] = pd.to_datetime(user_data['date'], format='%Y-%m-%d')"
   ]
  },
  {
   "cell_type": "code",
   "execution_count": 8,
   "metadata": {},
   "outputs": [
    {
     "data": {
      "text/html": [
       "<div>\n",
       "<style scoped>\n",
       "    .dataframe tbody tr th:only-of-type {\n",
       "        vertical-align: middle;\n",
       "    }\n",
       "\n",
       "    .dataframe tbody tr th {\n",
       "        vertical-align: top;\n",
       "    }\n",
       "\n",
       "    .dataframe thead th {\n",
       "        text-align: right;\n",
       "    }\n",
       "</style>\n",
       "<table border=\"1\" class=\"dataframe\">\n",
       "  <thead>\n",
       "    <tr style=\"text-align: right;\">\n",
       "      <th></th>\n",
       "      <th>user_id</th>\n",
       "      <th>session_id</th>\n",
       "      <th>date</th>\n",
       "      <th>date_dtm_format</th>\n",
       "    </tr>\n",
       "  </thead>\n",
       "  <tbody>\n",
       "    <tr>\n",
       "      <th>0</th>\n",
       "      <td>1051</td>\n",
       "      <td>aBxD</td>\n",
       "      <td>2021-10-31</td>\n",
       "      <td>2021-10-31</td>\n",
       "    </tr>\n",
       "    <tr>\n",
       "      <th>1</th>\n",
       "      <td>1051</td>\n",
       "      <td>aBxD</td>\n",
       "      <td>2021-10-31</td>\n",
       "      <td>2021-10-31</td>\n",
       "    </tr>\n",
       "    <tr>\n",
       "      <th>2</th>\n",
       "      <td>1051</td>\n",
       "      <td>aBxD</td>\n",
       "      <td>2021-10-31</td>\n",
       "      <td>2021-10-31</td>\n",
       "    </tr>\n",
       "    <tr>\n",
       "      <th>3</th>\n",
       "      <td>1051</td>\n",
       "      <td>aBxD</td>\n",
       "      <td>2021-11-01</td>\n",
       "      <td>2021-11-01</td>\n",
       "    </tr>\n",
       "    <tr>\n",
       "      <th>4</th>\n",
       "      <td>1051</td>\n",
       "      <td>aBxD</td>\n",
       "      <td>2021-11-01</td>\n",
       "      <td>2021-11-01</td>\n",
       "    </tr>\n",
       "  </tbody>\n",
       "</table>\n",
       "</div>"
      ],
      "text/plain": [
       "   user_id session_id        date date_dtm_format\n",
       "0     1051       aBxD  2021-10-31      2021-10-31\n",
       "1     1051       aBxD  2021-10-31      2021-10-31\n",
       "2     1051       aBxD  2021-10-31      2021-10-31\n",
       "3     1051       aBxD  2021-11-01      2021-11-01\n",
       "4     1051       aBxD  2021-11-01      2021-11-01"
      ]
     },
     "execution_count": 8,
     "metadata": {},
     "output_type": "execute_result"
    }
   ],
   "source": [
    "user_data.head()"
   ]
  },
  {
   "cell_type": "code",
   "execution_count": 9,
   "metadata": {},
   "outputs": [],
   "source": [
    "user_data['year_month'] = user_data['date_dtm_format'].dt.strftime('%Y-%m')"
   ]
  },
  {
   "cell_type": "code",
   "execution_count": 10,
   "metadata": {},
   "outputs": [
    {
     "data": {
      "text/html": [
       "<div>\n",
       "<style scoped>\n",
       "    .dataframe tbody tr th:only-of-type {\n",
       "        vertical-align: middle;\n",
       "    }\n",
       "\n",
       "    .dataframe tbody tr th {\n",
       "        vertical-align: top;\n",
       "    }\n",
       "\n",
       "    .dataframe thead th {\n",
       "        text-align: right;\n",
       "    }\n",
       "</style>\n",
       "<table border=\"1\" class=\"dataframe\">\n",
       "  <thead>\n",
       "    <tr style=\"text-align: right;\">\n",
       "      <th></th>\n",
       "      <th>user_id</th>\n",
       "      <th>session_id</th>\n",
       "      <th>date</th>\n",
       "      <th>date_dtm_format</th>\n",
       "      <th>year_month</th>\n",
       "    </tr>\n",
       "  </thead>\n",
       "  <tbody>\n",
       "    <tr>\n",
       "      <th>0</th>\n",
       "      <td>1051</td>\n",
       "      <td>aBxD</td>\n",
       "      <td>2021-10-31</td>\n",
       "      <td>2021-10-31</td>\n",
       "      <td>2021-10</td>\n",
       "    </tr>\n",
       "    <tr>\n",
       "      <th>1</th>\n",
       "      <td>1051</td>\n",
       "      <td>aBxD</td>\n",
       "      <td>2021-10-31</td>\n",
       "      <td>2021-10-31</td>\n",
       "      <td>2021-10</td>\n",
       "    </tr>\n",
       "    <tr>\n",
       "      <th>2</th>\n",
       "      <td>1051</td>\n",
       "      <td>aBxD</td>\n",
       "      <td>2021-10-31</td>\n",
       "      <td>2021-10-31</td>\n",
       "      <td>2021-10</td>\n",
       "    </tr>\n",
       "    <tr>\n",
       "      <th>3</th>\n",
       "      <td>1051</td>\n",
       "      <td>aBxD</td>\n",
       "      <td>2021-11-01</td>\n",
       "      <td>2021-11-01</td>\n",
       "      <td>2021-11</td>\n",
       "    </tr>\n",
       "    <tr>\n",
       "      <th>4</th>\n",
       "      <td>1051</td>\n",
       "      <td>aBxD</td>\n",
       "      <td>2021-11-01</td>\n",
       "      <td>2021-11-01</td>\n",
       "      <td>2021-11</td>\n",
       "    </tr>\n",
       "  </tbody>\n",
       "</table>\n",
       "</div>"
      ],
      "text/plain": [
       "   user_id session_id        date date_dtm_format year_month\n",
       "0     1051       aBxD  2021-10-31      2021-10-31    2021-10\n",
       "1     1051       aBxD  2021-10-31      2021-10-31    2021-10\n",
       "2     1051       aBxD  2021-10-31      2021-10-31    2021-10\n",
       "3     1051       aBxD  2021-11-01      2021-11-01    2021-11\n",
       "4     1051       aBxD  2021-11-01      2021-11-01    2021-11"
      ]
     },
     "execution_count": 10,
     "metadata": {},
     "output_type": "execute_result"
    }
   ],
   "source": [
    "user_data.head()"
   ]
  },
  {
   "cell_type": "code",
   "execution_count": 11,
   "metadata": {},
   "outputs": [],
   "source": [
    "november_data = user_data[user_data['year_month'] == '2021-11']"
   ]
  },
  {
   "cell_type": "code",
   "execution_count": 12,
   "metadata": {},
   "outputs": [
    {
     "data": {
      "text/html": [
       "<div>\n",
       "<style scoped>\n",
       "    .dataframe tbody tr th:only-of-type {\n",
       "        vertical-align: middle;\n",
       "    }\n",
       "\n",
       "    .dataframe tbody tr th {\n",
       "        vertical-align: top;\n",
       "    }\n",
       "\n",
       "    .dataframe thead th {\n",
       "        text-align: right;\n",
       "    }\n",
       "</style>\n",
       "<table border=\"1\" class=\"dataframe\">\n",
       "  <thead>\n",
       "    <tr style=\"text-align: right;\">\n",
       "      <th></th>\n",
       "      <th>user_id</th>\n",
       "      <th>session_id</th>\n",
       "      <th>date</th>\n",
       "      <th>date_dtm_format</th>\n",
       "      <th>year_month</th>\n",
       "    </tr>\n",
       "  </thead>\n",
       "  <tbody>\n",
       "    <tr>\n",
       "      <th>3</th>\n",
       "      <td>1051</td>\n",
       "      <td>aBxD</td>\n",
       "      <td>2021-11-01</td>\n",
       "      <td>2021-11-01</td>\n",
       "      <td>2021-11</td>\n",
       "    </tr>\n",
       "    <tr>\n",
       "      <th>4</th>\n",
       "      <td>1051</td>\n",
       "      <td>aBxD</td>\n",
       "      <td>2021-11-01</td>\n",
       "      <td>2021-11-01</td>\n",
       "      <td>2021-11</td>\n",
       "    </tr>\n",
       "    <tr>\n",
       "      <th>9</th>\n",
       "      <td>3063</td>\n",
       "      <td>aaaa</td>\n",
       "      <td>2021-11-07</td>\n",
       "      <td>2021-11-07</td>\n",
       "      <td>2021-11</td>\n",
       "    </tr>\n",
       "    <tr>\n",
       "      <th>10</th>\n",
       "      <td>3063</td>\n",
       "      <td>aaab</td>\n",
       "      <td>2021-11-08</td>\n",
       "      <td>2021-11-08</td>\n",
       "      <td>2021-11</td>\n",
       "    </tr>\n",
       "    <tr>\n",
       "      <th>11</th>\n",
       "      <td>3063</td>\n",
       "      <td>aaac</td>\n",
       "      <td>2021-11-09</td>\n",
       "      <td>2021-11-09</td>\n",
       "      <td>2021-11</td>\n",
       "    </tr>\n",
       "    <tr>\n",
       "      <th>12</th>\n",
       "      <td>3053</td>\n",
       "      <td>5DaD</td>\n",
       "      <td>2021-11-09</td>\n",
       "      <td>2021-11-09</td>\n",
       "      <td>2021-11</td>\n",
       "    </tr>\n",
       "    <tr>\n",
       "      <th>13</th>\n",
       "      <td>3024</td>\n",
       "      <td>aDDD</td>\n",
       "      <td>2021-11-09</td>\n",
       "      <td>2021-11-09</td>\n",
       "      <td>2021-11</td>\n",
       "    </tr>\n",
       "    <tr>\n",
       "      <th>14</th>\n",
       "      <td>3024</td>\n",
       "      <td>aDDE</td>\n",
       "      <td>2021-11-10</td>\n",
       "      <td>2021-11-10</td>\n",
       "      <td>2021-11</td>\n",
       "    </tr>\n",
       "  </tbody>\n",
       "</table>\n",
       "</div>"
      ],
      "text/plain": [
       "    user_id session_id        date date_dtm_format year_month\n",
       "3      1051       aBxD  2021-11-01      2021-11-01    2021-11\n",
       "4      1051       aBxD  2021-11-01      2021-11-01    2021-11\n",
       "9      3063       aaaa  2021-11-07      2021-11-07    2021-11\n",
       "10     3063       aaab  2021-11-08      2021-11-08    2021-11\n",
       "11     3063       aaac  2021-11-09      2021-11-09    2021-11\n",
       "12     3053       5DaD  2021-11-09      2021-11-09    2021-11\n",
       "13     3024       aDDD  2021-11-09      2021-11-09    2021-11\n",
       "14     3024       aDDE  2021-11-10      2021-11-10    2021-11"
      ]
     },
     "execution_count": 12,
     "metadata": {},
     "output_type": "execute_result"
    }
   ],
   "source": [
    "november_data"
   ]
  },
  {
   "cell_type": "markdown",
   "metadata": {},
   "source": [
    "# 3. november_data를 이용하여, 11월 DAU를 구한 후 dau_11 변수에 저장합니다."
   ]
  },
  {
   "cell_type": "code",
   "execution_count": 13,
   "metadata": {},
   "outputs": [],
   "source": [
    "dau = november_data.groupby('date')['user_id'].nunique()\n",
    "dau_11 = dau.values.astype('float')"
   ]
  },
  {
   "cell_type": "code",
   "execution_count": 14,
   "metadata": {},
   "outputs": [
    {
     "data": {
      "text/plain": [
       "array([1., 1., 1., 3., 1.])"
      ]
     },
     "execution_count": 14,
     "metadata": {},
     "output_type": "execute_result"
    }
   ],
   "source": [
    "dau_11"
   ]
  },
  {
   "cell_type": "markdown",
   "metadata": {},
   "source": [
    "# 4. november_data를 이용하여, 11월 MAU를 구한 후 mau_11 변수에 저장합니다."
   ]
  },
  {
   "cell_type": "code",
   "execution_count": 15,
   "metadata": {},
   "outputs": [],
   "source": [
    "mau = november_data.groupby('year_month')['user_id'].nunique()\n",
    "mau_11  = mau.values.astype('float')"
   ]
  },
  {
   "cell_type": "code",
   "execution_count": 16,
   "metadata": {},
   "outputs": [
    {
     "data": {
      "text/plain": [
       "array([4.])"
      ]
     },
     "execution_count": 16,
     "metadata": {},
     "output_type": "execute_result"
    }
   ],
   "source": [
    "mau_11"
   ]
  },
  {
   "cell_type": "markdown",
   "metadata": {},
   "source": [
    "# 5. 앞에서 구한 지표를 바탕으로 11월 1달 DAU/MAU 를 구하여 dau_mau_11 변수에 저장합니다."
   ]
  },
  {
   "cell_type": "code",
   "execution_count": 17,
   "metadata": {},
   "outputs": [],
   "source": [
    "avg_daily_user = dau_11.mean()\n",
    "avg_monthly_user = mau_11.mean()\n",
    "dau_mau_11 = avg_daily_user / avg_monthly_user"
   ]
  },
  {
   "cell_type": "code",
   "execution_count": 18,
   "metadata": {},
   "outputs": [
    {
     "data": {
      "text/plain": [
       "0.35"
      ]
     },
     "execution_count": 18,
     "metadata": {},
     "output_type": "execute_result"
    }
   ],
   "source": [
    "dau_mau_11"
   ]
  },
  {
   "cell_type": "code",
   "execution_count": 19,
   "metadata": {},
   "outputs": [
    {
     "name": "stdout",
     "output_type": "stream",
     "text": [
      "11월 한 달 동안의 DAU/MAU 지표 35.00%\n"
     ]
    }
   ],
   "source": [
    "print('11월 한 달 동안의 DAU/MAU 지표 %2.2f' % (dau_mau_11 * 100) + '%')"
   ]
  },
  {
   "cell_type": "markdown",
   "metadata": {},
   "source": [
    "# 6. 다음 데이터를 가지고 코호트 분석을 위한 히트맵 그래프를 만들어 주세요 (50점)\n",
    "\n",
    "아래 제약 사항을 잘 읽어 주세요.<br>\n",
    "\n",
    "기간: 2021-01 ~ 2021-05월<br>\n",
    "분석 목적: 해당 기간 동안 기간 별 재방문율 변화를 파악합니다.<br>\n",
    "그래프 크기: 그래프 크기는 (9, 7) 입니다.<br>\n",
    "그래프 내 값은 백분율로 %를 포함하여 소숫점 2자리까지 그려주세요.<br>\n",
    "첫 방문월도 포함하여 그래프를 그려주세요.<br>\n",
    "그래프는 다음과 같습니다.<br>\n",
    "cohort_data 에 대한 컬럼 설명 안내<br>\n",
    "\n",
    "first_visit_month : 유저의 첫 방문월<br>\n",
    "revisit_month: 재방문월<br>\n",
    "user_cnt: 각 첫 방문월/재방문월 별 유저수<br>"
   ]
  },
  {
   "cell_type": "code",
   "execution_count": 20,
   "metadata": {},
   "outputs": [],
   "source": [
    "import pandas as pd\n",
    "import matplotlib.pyplot as plt\n",
    "import seaborn as sns"
   ]
  },
  {
   "cell_type": "code",
   "execution_count": 21,
   "metadata": {},
   "outputs": [],
   "source": [
    "## 수정 금지) 데이터셋 준비 ## \n",
    "a = ('2021-01','2021-01','2021-01','2021-01','2021-01','2021-02', '2021-02','2021-02','2021-02','2021-03','2021-03','2021-03','2021-04','2021-04','2021-05')\n",
    "b = ('2021-01','2021-02','2021-03','2021-04','2021-05','2021-02', '2021-03','2021-04','2021-05','2021-03','2021-04','2021-05','2021-04','2021-05','2021-05')\n",
    "c = (100,80,60,40,10,96, 55,33,11,90,20,10,120,5,1)\n",
    "cohort_data = pd.DataFrame({\"first_visit_month\":a, \"revisit_month\":b, \"user_cnt\": c})"
   ]
  },
  {
   "cell_type": "code",
   "execution_count": 22,
   "metadata": {},
   "outputs": [
    {
     "data": {
      "text/html": [
       "<div>\n",
       "<style scoped>\n",
       "    .dataframe tbody tr th:only-of-type {\n",
       "        vertical-align: middle;\n",
       "    }\n",
       "\n",
       "    .dataframe tbody tr th {\n",
       "        vertical-align: top;\n",
       "    }\n",
       "\n",
       "    .dataframe thead th {\n",
       "        text-align: right;\n",
       "    }\n",
       "</style>\n",
       "<table border=\"1\" class=\"dataframe\">\n",
       "  <thead>\n",
       "    <tr style=\"text-align: right;\">\n",
       "      <th></th>\n",
       "      <th>first_visit_month</th>\n",
       "      <th>revisit_month</th>\n",
       "      <th>user_cnt</th>\n",
       "    </tr>\n",
       "  </thead>\n",
       "  <tbody>\n",
       "    <tr>\n",
       "      <th>0</th>\n",
       "      <td>2021-01</td>\n",
       "      <td>2021-01</td>\n",
       "      <td>100</td>\n",
       "    </tr>\n",
       "    <tr>\n",
       "      <th>1</th>\n",
       "      <td>2021-01</td>\n",
       "      <td>2021-02</td>\n",
       "      <td>80</td>\n",
       "    </tr>\n",
       "    <tr>\n",
       "      <th>2</th>\n",
       "      <td>2021-01</td>\n",
       "      <td>2021-03</td>\n",
       "      <td>60</td>\n",
       "    </tr>\n",
       "    <tr>\n",
       "      <th>3</th>\n",
       "      <td>2021-01</td>\n",
       "      <td>2021-04</td>\n",
       "      <td>40</td>\n",
       "    </tr>\n",
       "    <tr>\n",
       "      <th>4</th>\n",
       "      <td>2021-01</td>\n",
       "      <td>2021-05</td>\n",
       "      <td>10</td>\n",
       "    </tr>\n",
       "    <tr>\n",
       "      <th>5</th>\n",
       "      <td>2021-02</td>\n",
       "      <td>2021-02</td>\n",
       "      <td>96</td>\n",
       "    </tr>\n",
       "    <tr>\n",
       "      <th>6</th>\n",
       "      <td>2021-02</td>\n",
       "      <td>2021-03</td>\n",
       "      <td>55</td>\n",
       "    </tr>\n",
       "    <tr>\n",
       "      <th>7</th>\n",
       "      <td>2021-02</td>\n",
       "      <td>2021-04</td>\n",
       "      <td>33</td>\n",
       "    </tr>\n",
       "    <tr>\n",
       "      <th>8</th>\n",
       "      <td>2021-02</td>\n",
       "      <td>2021-05</td>\n",
       "      <td>11</td>\n",
       "    </tr>\n",
       "    <tr>\n",
       "      <th>9</th>\n",
       "      <td>2021-03</td>\n",
       "      <td>2021-03</td>\n",
       "      <td>90</td>\n",
       "    </tr>\n",
       "    <tr>\n",
       "      <th>10</th>\n",
       "      <td>2021-03</td>\n",
       "      <td>2021-04</td>\n",
       "      <td>20</td>\n",
       "    </tr>\n",
       "    <tr>\n",
       "      <th>11</th>\n",
       "      <td>2021-03</td>\n",
       "      <td>2021-05</td>\n",
       "      <td>10</td>\n",
       "    </tr>\n",
       "    <tr>\n",
       "      <th>12</th>\n",
       "      <td>2021-04</td>\n",
       "      <td>2021-04</td>\n",
       "      <td>120</td>\n",
       "    </tr>\n",
       "    <tr>\n",
       "      <th>13</th>\n",
       "      <td>2021-04</td>\n",
       "      <td>2021-05</td>\n",
       "      <td>5</td>\n",
       "    </tr>\n",
       "    <tr>\n",
       "      <th>14</th>\n",
       "      <td>2021-05</td>\n",
       "      <td>2021-05</td>\n",
       "      <td>1</td>\n",
       "    </tr>\n",
       "  </tbody>\n",
       "</table>\n",
       "</div>"
      ],
      "text/plain": [
       "   first_visit_month revisit_month  user_cnt\n",
       "0            2021-01       2021-01       100\n",
       "1            2021-01       2021-02        80\n",
       "2            2021-01       2021-03        60\n",
       "3            2021-01       2021-04        40\n",
       "4            2021-01       2021-05        10\n",
       "5            2021-02       2021-02        96\n",
       "6            2021-02       2021-03        55\n",
       "7            2021-02       2021-04        33\n",
       "8            2021-02       2021-05        11\n",
       "9            2021-03       2021-03        90\n",
       "10           2021-03       2021-04        20\n",
       "11           2021-03       2021-05        10\n",
       "12           2021-04       2021-04       120\n",
       "13           2021-04       2021-05         5\n",
       "14           2021-05       2021-05         1"
      ]
     },
     "execution_count": 22,
     "metadata": {},
     "output_type": "execute_result"
    }
   ],
   "source": [
    "cohort_data"
   ]
  },
  {
   "cell_type": "code",
   "execution_count": 23,
   "metadata": {},
   "outputs": [],
   "source": [
    "cohort = cohort_data.copy(True)"
   ]
  },
  {
   "cell_type": "code",
   "execution_count": 24,
   "metadata": {},
   "outputs": [
    {
     "data": {
      "text/plain": [
       "2021-01    5\n",
       "2021-02    4\n",
       "2021-03    3\n",
       "2021-04    2\n",
       "2021-05    1\n",
       "Name: first_visit_month, dtype: int64"
      ]
     },
     "execution_count": 24,
     "metadata": {},
     "output_type": "execute_result"
    }
   ],
   "source": [
    "cohort.first_visit_month.value_counts().sort_index()"
   ]
  },
  {
   "cell_type": "code",
   "execution_count": 25,
   "metadata": {},
   "outputs": [],
   "source": [
    "cohort['first_visit_month_dt'] = pd.to_datetime(cohort_data.first_visit_month, format='%Y-%m')\n",
    "cohort['revisit_month_dt'] = pd.to_datetime(cohort_data.revisit_month, format='%Y-%m')\n",
    "cohort['month_diff'] = cohort.revisit_month_dt.dt.to_period('M').astype(int) - cohort.first_visit_month_dt.dt.to_period('M').astype(int)"
   ]
  },
  {
   "cell_type": "code",
   "execution_count": 26,
   "metadata": {},
   "outputs": [
    {
     "data": {
      "text/html": [
       "<div>\n",
       "<style scoped>\n",
       "    .dataframe tbody tr th:only-of-type {\n",
       "        vertical-align: middle;\n",
       "    }\n",
       "\n",
       "    .dataframe tbody tr th {\n",
       "        vertical-align: top;\n",
       "    }\n",
       "\n",
       "    .dataframe thead th {\n",
       "        text-align: right;\n",
       "    }\n",
       "</style>\n",
       "<table border=\"1\" class=\"dataframe\">\n",
       "  <thead>\n",
       "    <tr style=\"text-align: right;\">\n",
       "      <th></th>\n",
       "      <th>first_visit_month</th>\n",
       "      <th>revisit_month</th>\n",
       "      <th>user_cnt</th>\n",
       "      <th>first_visit_month_dt</th>\n",
       "      <th>revisit_month_dt</th>\n",
       "      <th>month_diff</th>\n",
       "    </tr>\n",
       "  </thead>\n",
       "  <tbody>\n",
       "    <tr>\n",
       "      <th>0</th>\n",
       "      <td>2021-01</td>\n",
       "      <td>2021-01</td>\n",
       "      <td>100</td>\n",
       "      <td>2021-01-01</td>\n",
       "      <td>2021-01-01</td>\n",
       "      <td>0</td>\n",
       "    </tr>\n",
       "    <tr>\n",
       "      <th>1</th>\n",
       "      <td>2021-01</td>\n",
       "      <td>2021-02</td>\n",
       "      <td>80</td>\n",
       "      <td>2021-01-01</td>\n",
       "      <td>2021-02-01</td>\n",
       "      <td>1</td>\n",
       "    </tr>\n",
       "    <tr>\n",
       "      <th>2</th>\n",
       "      <td>2021-01</td>\n",
       "      <td>2021-03</td>\n",
       "      <td>60</td>\n",
       "      <td>2021-01-01</td>\n",
       "      <td>2021-03-01</td>\n",
       "      <td>2</td>\n",
       "    </tr>\n",
       "    <tr>\n",
       "      <th>3</th>\n",
       "      <td>2021-01</td>\n",
       "      <td>2021-04</td>\n",
       "      <td>40</td>\n",
       "      <td>2021-01-01</td>\n",
       "      <td>2021-04-01</td>\n",
       "      <td>3</td>\n",
       "    </tr>\n",
       "    <tr>\n",
       "      <th>4</th>\n",
       "      <td>2021-01</td>\n",
       "      <td>2021-05</td>\n",
       "      <td>10</td>\n",
       "      <td>2021-01-01</td>\n",
       "      <td>2021-05-01</td>\n",
       "      <td>4</td>\n",
       "    </tr>\n",
       "    <tr>\n",
       "      <th>5</th>\n",
       "      <td>2021-02</td>\n",
       "      <td>2021-02</td>\n",
       "      <td>96</td>\n",
       "      <td>2021-02-01</td>\n",
       "      <td>2021-02-01</td>\n",
       "      <td>0</td>\n",
       "    </tr>\n",
       "    <tr>\n",
       "      <th>6</th>\n",
       "      <td>2021-02</td>\n",
       "      <td>2021-03</td>\n",
       "      <td>55</td>\n",
       "      <td>2021-02-01</td>\n",
       "      <td>2021-03-01</td>\n",
       "      <td>1</td>\n",
       "    </tr>\n",
       "    <tr>\n",
       "      <th>7</th>\n",
       "      <td>2021-02</td>\n",
       "      <td>2021-04</td>\n",
       "      <td>33</td>\n",
       "      <td>2021-02-01</td>\n",
       "      <td>2021-04-01</td>\n",
       "      <td>2</td>\n",
       "    </tr>\n",
       "    <tr>\n",
       "      <th>8</th>\n",
       "      <td>2021-02</td>\n",
       "      <td>2021-05</td>\n",
       "      <td>11</td>\n",
       "      <td>2021-02-01</td>\n",
       "      <td>2021-05-01</td>\n",
       "      <td>3</td>\n",
       "    </tr>\n",
       "    <tr>\n",
       "      <th>9</th>\n",
       "      <td>2021-03</td>\n",
       "      <td>2021-03</td>\n",
       "      <td>90</td>\n",
       "      <td>2021-03-01</td>\n",
       "      <td>2021-03-01</td>\n",
       "      <td>0</td>\n",
       "    </tr>\n",
       "    <tr>\n",
       "      <th>10</th>\n",
       "      <td>2021-03</td>\n",
       "      <td>2021-04</td>\n",
       "      <td>20</td>\n",
       "      <td>2021-03-01</td>\n",
       "      <td>2021-04-01</td>\n",
       "      <td>1</td>\n",
       "    </tr>\n",
       "    <tr>\n",
       "      <th>11</th>\n",
       "      <td>2021-03</td>\n",
       "      <td>2021-05</td>\n",
       "      <td>10</td>\n",
       "      <td>2021-03-01</td>\n",
       "      <td>2021-05-01</td>\n",
       "      <td>2</td>\n",
       "    </tr>\n",
       "    <tr>\n",
       "      <th>12</th>\n",
       "      <td>2021-04</td>\n",
       "      <td>2021-04</td>\n",
       "      <td>120</td>\n",
       "      <td>2021-04-01</td>\n",
       "      <td>2021-04-01</td>\n",
       "      <td>0</td>\n",
       "    </tr>\n",
       "    <tr>\n",
       "      <th>13</th>\n",
       "      <td>2021-04</td>\n",
       "      <td>2021-05</td>\n",
       "      <td>5</td>\n",
       "      <td>2021-04-01</td>\n",
       "      <td>2021-05-01</td>\n",
       "      <td>1</td>\n",
       "    </tr>\n",
       "    <tr>\n",
       "      <th>14</th>\n",
       "      <td>2021-05</td>\n",
       "      <td>2021-05</td>\n",
       "      <td>1</td>\n",
       "      <td>2021-05-01</td>\n",
       "      <td>2021-05-01</td>\n",
       "      <td>0</td>\n",
       "    </tr>\n",
       "  </tbody>\n",
       "</table>\n",
       "</div>"
      ],
      "text/plain": [
       "   first_visit_month revisit_month  user_cnt first_visit_month_dt  \\\n",
       "0            2021-01       2021-01       100           2021-01-01   \n",
       "1            2021-01       2021-02        80           2021-01-01   \n",
       "2            2021-01       2021-03        60           2021-01-01   \n",
       "3            2021-01       2021-04        40           2021-01-01   \n",
       "4            2021-01       2021-05        10           2021-01-01   \n",
       "5            2021-02       2021-02        96           2021-02-01   \n",
       "6            2021-02       2021-03        55           2021-02-01   \n",
       "7            2021-02       2021-04        33           2021-02-01   \n",
       "8            2021-02       2021-05        11           2021-02-01   \n",
       "9            2021-03       2021-03        90           2021-03-01   \n",
       "10           2021-03       2021-04        20           2021-03-01   \n",
       "11           2021-03       2021-05        10           2021-03-01   \n",
       "12           2021-04       2021-04       120           2021-04-01   \n",
       "13           2021-04       2021-05         5           2021-04-01   \n",
       "14           2021-05       2021-05         1           2021-05-01   \n",
       "\n",
       "   revisit_month_dt  month_diff  \n",
       "0        2021-01-01           0  \n",
       "1        2021-02-01           1  \n",
       "2        2021-03-01           2  \n",
       "3        2021-04-01           3  \n",
       "4        2021-05-01           4  \n",
       "5        2021-02-01           0  \n",
       "6        2021-03-01           1  \n",
       "7        2021-04-01           2  \n",
       "8        2021-05-01           3  \n",
       "9        2021-03-01           0  \n",
       "10       2021-04-01           1  \n",
       "11       2021-05-01           2  \n",
       "12       2021-04-01           0  \n",
       "13       2021-05-01           1  \n",
       "14       2021-05-01           0  "
      ]
     },
     "execution_count": 26,
     "metadata": {},
     "output_type": "execute_result"
    }
   ],
   "source": [
    "cohort"
   ]
  },
  {
   "cell_type": "code",
   "execution_count": 27,
   "metadata": {},
   "outputs": [
    {
     "data": {
      "text/html": [
       "<div>\n",
       "<style scoped>\n",
       "    .dataframe tbody tr th:only-of-type {\n",
       "        vertical-align: middle;\n",
       "    }\n",
       "\n",
       "    .dataframe tbody tr th {\n",
       "        vertical-align: top;\n",
       "    }\n",
       "\n",
       "    .dataframe thead th {\n",
       "        text-align: right;\n",
       "    }\n",
       "</style>\n",
       "<table border=\"1\" class=\"dataframe\">\n",
       "  <thead>\n",
       "    <tr style=\"text-align: right;\">\n",
       "      <th></th>\n",
       "      <th></th>\n",
       "      <th>user_cnt</th>\n",
       "    </tr>\n",
       "    <tr>\n",
       "      <th>first_visit_month</th>\n",
       "      <th>month_diff</th>\n",
       "      <th></th>\n",
       "    </tr>\n",
       "  </thead>\n",
       "  <tbody>\n",
       "    <tr>\n",
       "      <th rowspan=\"5\" valign=\"top\">2021-01</th>\n",
       "      <th>0</th>\n",
       "      <td>100</td>\n",
       "    </tr>\n",
       "    <tr>\n",
       "      <th>1</th>\n",
       "      <td>80</td>\n",
       "    </tr>\n",
       "    <tr>\n",
       "      <th>2</th>\n",
       "      <td>60</td>\n",
       "    </tr>\n",
       "    <tr>\n",
       "      <th>3</th>\n",
       "      <td>40</td>\n",
       "    </tr>\n",
       "    <tr>\n",
       "      <th>4</th>\n",
       "      <td>10</td>\n",
       "    </tr>\n",
       "    <tr>\n",
       "      <th rowspan=\"4\" valign=\"top\">2021-02</th>\n",
       "      <th>0</th>\n",
       "      <td>96</td>\n",
       "    </tr>\n",
       "    <tr>\n",
       "      <th>1</th>\n",
       "      <td>55</td>\n",
       "    </tr>\n",
       "    <tr>\n",
       "      <th>2</th>\n",
       "      <td>33</td>\n",
       "    </tr>\n",
       "    <tr>\n",
       "      <th>3</th>\n",
       "      <td>11</td>\n",
       "    </tr>\n",
       "    <tr>\n",
       "      <th rowspan=\"3\" valign=\"top\">2021-03</th>\n",
       "      <th>0</th>\n",
       "      <td>90</td>\n",
       "    </tr>\n",
       "    <tr>\n",
       "      <th>1</th>\n",
       "      <td>20</td>\n",
       "    </tr>\n",
       "    <tr>\n",
       "      <th>2</th>\n",
       "      <td>10</td>\n",
       "    </tr>\n",
       "    <tr>\n",
       "      <th rowspan=\"2\" valign=\"top\">2021-04</th>\n",
       "      <th>0</th>\n",
       "      <td>120</td>\n",
       "    </tr>\n",
       "    <tr>\n",
       "      <th>1</th>\n",
       "      <td>5</td>\n",
       "    </tr>\n",
       "    <tr>\n",
       "      <th>2021-05</th>\n",
       "      <th>0</th>\n",
       "      <td>1</td>\n",
       "    </tr>\n",
       "  </tbody>\n",
       "</table>\n",
       "</div>"
      ],
      "text/plain": [
       "                              user_cnt\n",
       "first_visit_month month_diff          \n",
       "2021-01           0                100\n",
       "                  1                 80\n",
       "                  2                 60\n",
       "                  3                 40\n",
       "                  4                 10\n",
       "2021-02           0                 96\n",
       "                  1                 55\n",
       "                  2                 33\n",
       "                  3                 11\n",
       "2021-03           0                 90\n",
       "                  1                 20\n",
       "                  2                 10\n",
       "2021-04           0                120\n",
       "                  1                  5\n",
       "2021-05           0                  1"
      ]
     },
     "execution_count": 27,
     "metadata": {},
     "output_type": "execute_result"
    }
   ],
   "source": [
    "cohort = cohort[['first_visit_month', 'month_diff', 'user_cnt']]\n",
    "cohort.set_index(['first_visit_month', 'month_diff'], inplace=True)\n",
    "cohort"
   ]
  },
  {
   "cell_type": "code",
   "execution_count": 28,
   "metadata": {},
   "outputs": [
    {
     "data": {
      "text/html": [
       "<div>\n",
       "<style scoped>\n",
       "    .dataframe tbody tr th:only-of-type {\n",
       "        vertical-align: middle;\n",
       "    }\n",
       "\n",
       "    .dataframe tbody tr th {\n",
       "        vertical-align: top;\n",
       "    }\n",
       "\n",
       "    .dataframe thead th {\n",
       "        text-align: right;\n",
       "    }\n",
       "</style>\n",
       "<table border=\"1\" class=\"dataframe\">\n",
       "  <thead>\n",
       "    <tr style=\"text-align: right;\">\n",
       "      <th>month_diff</th>\n",
       "      <th>0</th>\n",
       "      <th>1</th>\n",
       "      <th>2</th>\n",
       "      <th>3</th>\n",
       "      <th>4</th>\n",
       "    </tr>\n",
       "    <tr>\n",
       "      <th>first_visit_month</th>\n",
       "      <th></th>\n",
       "      <th></th>\n",
       "      <th></th>\n",
       "      <th></th>\n",
       "      <th></th>\n",
       "    </tr>\n",
       "  </thead>\n",
       "  <tbody>\n",
       "    <tr>\n",
       "      <th>2021-01</th>\n",
       "      <td>100.0</td>\n",
       "      <td>80.0</td>\n",
       "      <td>60.0</td>\n",
       "      <td>40.0</td>\n",
       "      <td>10.0</td>\n",
       "    </tr>\n",
       "    <tr>\n",
       "      <th>2021-02</th>\n",
       "      <td>96.0</td>\n",
       "      <td>55.0</td>\n",
       "      <td>33.0</td>\n",
       "      <td>11.0</td>\n",
       "      <td>NaN</td>\n",
       "    </tr>\n",
       "    <tr>\n",
       "      <th>2021-03</th>\n",
       "      <td>90.0</td>\n",
       "      <td>20.0</td>\n",
       "      <td>10.0</td>\n",
       "      <td>NaN</td>\n",
       "      <td>NaN</td>\n",
       "    </tr>\n",
       "    <tr>\n",
       "      <th>2021-04</th>\n",
       "      <td>120.0</td>\n",
       "      <td>5.0</td>\n",
       "      <td>NaN</td>\n",
       "      <td>NaN</td>\n",
       "      <td>NaN</td>\n",
       "    </tr>\n",
       "    <tr>\n",
       "      <th>2021-05</th>\n",
       "      <td>1.0</td>\n",
       "      <td>NaN</td>\n",
       "      <td>NaN</td>\n",
       "      <td>NaN</td>\n",
       "      <td>NaN</td>\n",
       "    </tr>\n",
       "  </tbody>\n",
       "</table>\n",
       "</div>"
      ],
      "text/plain": [
       "month_diff             0     1     2     3     4\n",
       "first_visit_month                               \n",
       "2021-01            100.0  80.0  60.0  40.0  10.0\n",
       "2021-02             96.0  55.0  33.0  11.0   NaN\n",
       "2021-03             90.0  20.0  10.0   NaN   NaN\n",
       "2021-04            120.0   5.0   NaN   NaN   NaN\n",
       "2021-05              1.0   NaN   NaN   NaN   NaN"
      ]
     },
     "execution_count": 28,
     "metadata": {},
     "output_type": "execute_result"
    }
   ],
   "source": [
    "cohort = cohort['user_cnt'].unstack(1)\n",
    "cohort"
   ]
  },
  {
   "cell_type": "code",
   "execution_count": 29,
   "metadata": {},
   "outputs": [
    {
     "data": {
      "text/html": [
       "<div>\n",
       "<style scoped>\n",
       "    .dataframe tbody tr th:only-of-type {\n",
       "        vertical-align: middle;\n",
       "    }\n",
       "\n",
       "    .dataframe tbody tr th {\n",
       "        vertical-align: top;\n",
       "    }\n",
       "\n",
       "    .dataframe thead th {\n",
       "        text-align: right;\n",
       "    }\n",
       "</style>\n",
       "<table border=\"1\" class=\"dataframe\">\n",
       "  <thead>\n",
       "    <tr style=\"text-align: right;\">\n",
       "      <th>month_diff</th>\n",
       "      <th>0</th>\n",
       "      <th>1</th>\n",
       "      <th>2</th>\n",
       "      <th>3</th>\n",
       "      <th>4</th>\n",
       "    </tr>\n",
       "    <tr>\n",
       "      <th>first_visit_month</th>\n",
       "      <th></th>\n",
       "      <th></th>\n",
       "      <th></th>\n",
       "      <th></th>\n",
       "      <th></th>\n",
       "    </tr>\n",
       "  </thead>\n",
       "  <tbody>\n",
       "    <tr>\n",
       "      <th>2021-01</th>\n",
       "      <td>1.0</td>\n",
       "      <td>0.800000</td>\n",
       "      <td>0.600000</td>\n",
       "      <td>0.400000</td>\n",
       "      <td>0.1</td>\n",
       "    </tr>\n",
       "    <tr>\n",
       "      <th>2021-02</th>\n",
       "      <td>1.0</td>\n",
       "      <td>0.572917</td>\n",
       "      <td>0.343750</td>\n",
       "      <td>0.114583</td>\n",
       "      <td>NaN</td>\n",
       "    </tr>\n",
       "    <tr>\n",
       "      <th>2021-03</th>\n",
       "      <td>1.0</td>\n",
       "      <td>0.222222</td>\n",
       "      <td>0.111111</td>\n",
       "      <td>NaN</td>\n",
       "      <td>NaN</td>\n",
       "    </tr>\n",
       "    <tr>\n",
       "      <th>2021-04</th>\n",
       "      <td>1.0</td>\n",
       "      <td>0.041667</td>\n",
       "      <td>NaN</td>\n",
       "      <td>NaN</td>\n",
       "      <td>NaN</td>\n",
       "    </tr>\n",
       "    <tr>\n",
       "      <th>2021-05</th>\n",
       "      <td>1.0</td>\n",
       "      <td>NaN</td>\n",
       "      <td>NaN</td>\n",
       "      <td>NaN</td>\n",
       "      <td>NaN</td>\n",
       "    </tr>\n",
       "  </tbody>\n",
       "</table>\n",
       "</div>"
      ],
      "text/plain": [
       "month_diff           0         1         2         3    4\n",
       "first_visit_month                                        \n",
       "2021-01            1.0  0.800000  0.600000  0.400000  0.1\n",
       "2021-02            1.0  0.572917  0.343750  0.114583  NaN\n",
       "2021-03            1.0  0.222222  0.111111       NaN  NaN\n",
       "2021-04            1.0  0.041667       NaN       NaN  NaN\n",
       "2021-05            1.0       NaN       NaN       NaN  NaN"
      ]
     },
     "execution_count": 29,
     "metadata": {},
     "output_type": "execute_result"
    }
   ],
   "source": [
    "revisit_rate = cohort.divide(cohort[0], axis=0)\n",
    "revisit_rate"
   ]
  },
  {
   "cell_type": "code",
   "execution_count": 30,
   "metadata": {},
   "outputs": [
    {
     "data": {
      "text/plain": [
       "Text(29.5, 0.5, '첫 방문월')"
      ]
     },
     "execution_count": 30,
     "metadata": {},
     "output_type": "execute_result"
    },
    {
     "data": {
      "image/png": "[encoded data removed]",
      "text/plain": [
       "<Figure size 648x504 with 2 Axes>"
      ]
     },
     "metadata": {},
     "output_type": "display_data"
    }
   ],
   "source": [
    "sns.set_theme(style='whitegrid', palette='pastel')\n",
    "plt.rc('font', family='NanumGothic')\n",
    "\n",
    "g = sns.heatmap(revisit_rate, annot=True, fmt='.2%', cmap='Blues')\n",
    "g.figure.set_size_inches(9, 7)\n",
    "g.set_title('유저의 첫 방문일 이후 재방문율 변화', pad=20, size=16)\n",
    "g.set_xlabel('첫 방문 이후 개월 수', labelpad=20, size=12)\n",
    "g.set_ylabel('첫 방문월', labelpad=20, size=12)"
   ]
  },
  {
   "cell_type": "code",
   "execution_count": null,
   "metadata": {},
   "outputs": [],
   "source": []
  }
 ],
 "metadata": {
  "kernelspec": {
   "display_name": "Python 3",
   "language": "python",
   "name": "python3"
  },
  "language_info": {
   "codemirror_mode": {
    "name": "ipython",
    "version": 3
   },
   "file_extension": ".py",
   "mimetype": "text/x-python",
   "name": "python",
   "nbconvert_exporter": "python",
   "pygments_lexer": "ipython3",
   "version": "3.8.5"
  }
 },
 "nbformat": 4,
 "nbformat_minor": 4
}
