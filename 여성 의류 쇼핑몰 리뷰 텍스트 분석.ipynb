{
  "cells": [
    {
      "cell_type": "markdown",
      "metadata": {
        "id": "qHe46xiSz6Wu"
      },
      "source": [
        "# 데이터 살펴보기"
      ]
    },
    {
      "cell_type": "code",
      "execution_count": 2,
      "metadata": {
        "id": "SvytGg6Gz6Wr"
      },
      "outputs": [],
      "source": [
        "import pandas as pd\n",
        "import numpy as np\n",
        "import matplotlib.pyplot as plt\n",
        "import seaborn as sns"
      ]
    },
    {
      "cell_type": "code",
      "source": [
        "from google.colab import drive\n",
        "from pathlib import Path\n",
        "drive.mount('/content/drive')\n",
        "\n",
        "DRIVE_PATH = \"/content/drive/MyDrive/\" # 내 드라이브의 경로\n",
        "DATA_DIR_PATH = 'Colab Notebooks'\n",
        "DATA_FILENAME = \"Womens Clothing E-Commerce Reviews.csv\" # 디렉토리 내 데이터 파일의 이름\n",
        "data_path = Path(DRIVE_PATH, DATA_DIR_PATH, DATA_FILENAME)"
      ],
      "metadata": {
        "colab": {
          "base_uri": "https://localhost:8080/"
        },
        "id": "kMEolG640Nfm",
        "outputId": "8c8e2cab-5bee-45be-ba07-2f400932b16e"
      },
      "execution_count": 3,
      "outputs": [
        {
          "output_type": "stream",
          "name": "stdout",
          "text": [
            "Mounted at /content/drive\n"
          ]
        }
      ]
    },
    {
      "cell_type": "code",
      "execution_count": 4,
      "metadata": {
        "id": "W0kaq7b0z6Ww"
      },
      "outputs": [],
      "source": [
        "df = pd.read_csv(data_path, index_col=0)"
      ]
    },
    {
      "cell_type": "code",
      "execution_count": 5,
      "metadata": {
        "colab": {
          "base_uri": "https://localhost:8080/",
          "height": 659
        },
        "id": "j_r7gFxyz6Wx",
        "outputId": "6c3b05b3-721b-4009-8aec-d088e86e4006"
      },
      "outputs": [
        {
          "output_type": "execute_result",
          "data": {
            "text/html": [
              "\n",
              "  <div id=\"df-b3bbf20b-9413-4554-aaad-bc383893eedc\">\n",
              "    <div class=\"colab-df-container\">\n",
              "      <div>\n",
              "<style scoped>\n",
              "    .dataframe tbody tr th:only-of-type {\n",
              "        vertical-align: middle;\n",
              "    }\n",
              "\n",
              "    .dataframe tbody tr th {\n",
              "        vertical-align: top;\n",
              "    }\n",
              "\n",
              "    .dataframe thead th {\n",
              "        text-align: right;\n",
              "    }\n",
              "</style>\n",
              "<table border=\"1\" class=\"dataframe\">\n",
              "  <thead>\n",
              "    <tr style=\"text-align: right;\">\n",
              "      <th></th>\n",
              "      <th>Clothing ID</th>\n",
              "      <th>Age</th>\n",
              "      <th>Title</th>\n",
              "      <th>Review Text</th>\n",
              "      <th>Rating</th>\n",
              "      <th>Recommended IND</th>\n",
              "      <th>Positive Feedback Count</th>\n",
              "      <th>Division Name</th>\n",
              "      <th>Department Name</th>\n",
              "      <th>Class Name</th>\n",
              "    </tr>\n",
              "  </thead>\n",
              "  <tbody>\n",
              "    <tr>\n",
              "      <th>0</th>\n",
              "      <td>767</td>\n",
              "      <td>33</td>\n",
              "      <td>NaN</td>\n",
              "      <td>Absolutely wonderful - silky and sexy and comf...</td>\n",
              "      <td>4</td>\n",
              "      <td>1</td>\n",
              "      <td>0</td>\n",
              "      <td>Initmates</td>\n",
              "      <td>Intimate</td>\n",
              "      <td>Intimates</td>\n",
              "    </tr>\n",
              "    <tr>\n",
              "      <th>1</th>\n",
              "      <td>1080</td>\n",
              "      <td>34</td>\n",
              "      <td>NaN</td>\n",
              "      <td>Love this dress!  it's sooo pretty.  i happene...</td>\n",
              "      <td>5</td>\n",
              "      <td>1</td>\n",
              "      <td>4</td>\n",
              "      <td>General</td>\n",
              "      <td>Dresses</td>\n",
              "      <td>Dresses</td>\n",
              "    </tr>\n",
              "    <tr>\n",
              "      <th>2</th>\n",
              "      <td>1077</td>\n",
              "      <td>60</td>\n",
              "      <td>Some major design flaws</td>\n",
              "      <td>I had such high hopes for this dress and reall...</td>\n",
              "      <td>3</td>\n",
              "      <td>0</td>\n",
              "      <td>0</td>\n",
              "      <td>General</td>\n",
              "      <td>Dresses</td>\n",
              "      <td>Dresses</td>\n",
              "    </tr>\n",
              "    <tr>\n",
              "      <th>3</th>\n",
              "      <td>1049</td>\n",
              "      <td>50</td>\n",
              "      <td>My favorite buy!</td>\n",
              "      <td>I love, love, love this jumpsuit. it's fun, fl...</td>\n",
              "      <td>5</td>\n",
              "      <td>1</td>\n",
              "      <td>0</td>\n",
              "      <td>General Petite</td>\n",
              "      <td>Bottoms</td>\n",
              "      <td>Pants</td>\n",
              "    </tr>\n",
              "    <tr>\n",
              "      <th>4</th>\n",
              "      <td>847</td>\n",
              "      <td>47</td>\n",
              "      <td>Flattering shirt</td>\n",
              "      <td>This shirt is very flattering to all due to th...</td>\n",
              "      <td>5</td>\n",
              "      <td>1</td>\n",
              "      <td>6</td>\n",
              "      <td>General</td>\n",
              "      <td>Tops</td>\n",
              "      <td>Blouses</td>\n",
              "    </tr>\n",
              "    <tr>\n",
              "      <th>...</th>\n",
              "      <td>...</td>\n",
              "      <td>...</td>\n",
              "      <td>...</td>\n",
              "      <td>...</td>\n",
              "      <td>...</td>\n",
              "      <td>...</td>\n",
              "      <td>...</td>\n",
              "      <td>...</td>\n",
              "      <td>...</td>\n",
              "      <td>...</td>\n",
              "    </tr>\n",
              "    <tr>\n",
              "      <th>23481</th>\n",
              "      <td>1104</td>\n",
              "      <td>34</td>\n",
              "      <td>Great dress for many occasions</td>\n",
              "      <td>I was very happy to snag this dress at such a ...</td>\n",
              "      <td>5</td>\n",
              "      <td>1</td>\n",
              "      <td>0</td>\n",
              "      <td>General Petite</td>\n",
              "      <td>Dresses</td>\n",
              "      <td>Dresses</td>\n",
              "    </tr>\n",
              "    <tr>\n",
              "      <th>23482</th>\n",
              "      <td>862</td>\n",
              "      <td>48</td>\n",
              "      <td>Wish it was made of cotton</td>\n",
              "      <td>It reminds me of maternity clothes. soft, stre...</td>\n",
              "      <td>3</td>\n",
              "      <td>1</td>\n",
              "      <td>0</td>\n",
              "      <td>General Petite</td>\n",
              "      <td>Tops</td>\n",
              "      <td>Knits</td>\n",
              "    </tr>\n",
              "    <tr>\n",
              "      <th>23483</th>\n",
              "      <td>1104</td>\n",
              "      <td>31</td>\n",
              "      <td>Cute, but see through</td>\n",
              "      <td>This fit well, but the top was very see throug...</td>\n",
              "      <td>3</td>\n",
              "      <td>0</td>\n",
              "      <td>1</td>\n",
              "      <td>General Petite</td>\n",
              "      <td>Dresses</td>\n",
              "      <td>Dresses</td>\n",
              "    </tr>\n",
              "    <tr>\n",
              "      <th>23484</th>\n",
              "      <td>1084</td>\n",
              "      <td>28</td>\n",
              "      <td>Very cute dress, perfect for summer parties an...</td>\n",
              "      <td>I bought this dress for a wedding i have this ...</td>\n",
              "      <td>3</td>\n",
              "      <td>1</td>\n",
              "      <td>2</td>\n",
              "      <td>General</td>\n",
              "      <td>Dresses</td>\n",
              "      <td>Dresses</td>\n",
              "    </tr>\n",
              "    <tr>\n",
              "      <th>23485</th>\n",
              "      <td>1104</td>\n",
              "      <td>52</td>\n",
              "      <td>Please make more like this one!</td>\n",
              "      <td>This dress in a lovely platinum is feminine an...</td>\n",
              "      <td>5</td>\n",
              "      <td>1</td>\n",
              "      <td>22</td>\n",
              "      <td>General Petite</td>\n",
              "      <td>Dresses</td>\n",
              "      <td>Dresses</td>\n",
              "    </tr>\n",
              "  </tbody>\n",
              "</table>\n",
              "<p>23486 rows × 10 columns</p>\n",
              "</div>\n",
              "      <button class=\"colab-df-convert\" onclick=\"convertToInteractive('df-b3bbf20b-9413-4554-aaad-bc383893eedc')\"\n",
              "              title=\"Convert this dataframe to an interactive table.\"\n",
              "              style=\"display:none;\">\n",
              "        \n",
              "  <svg xmlns=\"http://www.w3.org/2000/svg\" height=\"24px\"viewBox=\"0 0 24 24\"\n",
              "       width=\"24px\">\n",
              "    <path d=\"M0 0h24v24H0V0z\" fill=\"none\"/>\n",
              "    <path d=\"M18.56 5.44l.94 2.06.94-2.06 2.06-.94-2.06-.94-.94-2.06-.94 2.06-2.06.94zm-11 1L8.5 8.5l.94-2.06 2.06-.94-2.06-.94L8.5 2.5l-.94 2.06-2.06.94zm10 10l.94 2.06.94-2.06 2.06-.94-2.06-.94-.94-2.06-.94 2.06-2.06.94z\"/><path d=\"M17.41 7.96l-1.37-1.37c-.4-.4-.92-.59-1.43-.59-.52 0-1.04.2-1.43.59L10.3 9.45l-7.72 7.72c-.78.78-.78 2.05 0 2.83L4 21.41c.39.39.9.59 1.41.59.51 0 1.02-.2 1.41-.59l7.78-7.78 2.81-2.81c.8-.78.8-2.07 0-2.86zM5.41 20L4 18.59l7.72-7.72 1.47 1.35L5.41 20z\"/>\n",
              "  </svg>\n",
              "      </button>\n",
              "      \n",
              "  <style>\n",
              "    .colab-df-container {\n",
              "      display:flex;\n",
              "      flex-wrap:wrap;\n",
              "      gap: 12px;\n",
              "    }\n",
              "\n",
              "    .colab-df-convert {\n",
              "      background-color: #E8F0FE;\n",
              "      border: none;\n",
              "      border-radius: 50%;\n",
              "      cursor: pointer;\n",
              "      display: none;\n",
              "      fill: #1967D2;\n",
              "      height: 32px;\n",
              "      padding: 0 0 0 0;\n",
              "      width: 32px;\n",
              "    }\n",
              "\n",
              "    .colab-df-convert:hover {\n",
              "      background-color: #E2EBFA;\n",
              "      box-shadow: 0px 1px 2px rgba(60, 64, 67, 0.3), 0px 1px 3px 1px rgba(60, 64, 67, 0.15);\n",
              "      fill: #174EA6;\n",
              "    }\n",
              "\n",
              "    [theme=dark] .colab-df-convert {\n",
              "      background-color: #3B4455;\n",
              "      fill: #D2E3FC;\n",
              "    }\n",
              "\n",
              "    [theme=dark] .colab-df-convert:hover {\n",
              "      background-color: #434B5C;\n",
              "      box-shadow: 0px 1px 3px 1px rgba(0, 0, 0, 0.15);\n",
              "      filter: drop-shadow(0px 1px 2px rgba(0, 0, 0, 0.3));\n",
              "      fill: #FFFFFF;\n",
              "    }\n",
              "  </style>\n",
              "\n",
              "      <script>\n",
              "        const buttonEl =\n",
              "          document.querySelector('#df-b3bbf20b-9413-4554-aaad-bc383893eedc button.colab-df-convert');\n",
              "        buttonEl.style.display =\n",
              "          google.colab.kernel.accessAllowed ? 'block' : 'none';\n",
              "\n",
              "        async function convertToInteractive(key) {\n",
              "          const element = document.querySelector('#df-b3bbf20b-9413-4554-aaad-bc383893eedc');\n",
              "          const dataTable =\n",
              "            await google.colab.kernel.invokeFunction('convertToInteractive',\n",
              "                                                     [key], {});\n",
              "          if (!dataTable) return;\n",
              "\n",
              "          const docLinkHtml = 'Like what you see? Visit the ' +\n",
              "            '<a target=\"_blank\" href=https://colab.research.google.com/notebooks/data_table.ipynb>data table notebook</a>'\n",
              "            + ' to learn more about interactive tables.';\n",
              "          element.innerHTML = '';\n",
              "          dataTable['output_type'] = 'display_data';\n",
              "          await google.colab.output.renderOutput(dataTable, element);\n",
              "          const docLink = document.createElement('div');\n",
              "          docLink.innerHTML = docLinkHtml;\n",
              "          element.appendChild(docLink);\n",
              "        }\n",
              "      </script>\n",
              "    </div>\n",
              "  </div>\n",
              "  "
            ],
            "text/plain": [
              "       Clothing ID  Age  ... Department Name Class Name\n",
              "0              767   33  ...        Intimate  Intimates\n",
              "1             1080   34  ...         Dresses    Dresses\n",
              "2             1077   60  ...         Dresses    Dresses\n",
              "3             1049   50  ...         Bottoms      Pants\n",
              "4              847   47  ...            Tops    Blouses\n",
              "...            ...  ...  ...             ...        ...\n",
              "23481         1104   34  ...         Dresses    Dresses\n",
              "23482          862   48  ...            Tops      Knits\n",
              "23483         1104   31  ...         Dresses    Dresses\n",
              "23484         1084   28  ...         Dresses    Dresses\n",
              "23485         1104   52  ...         Dresses    Dresses\n",
              "\n",
              "[23486 rows x 10 columns]"
            ]
          },
          "metadata": {},
          "execution_count": 5
        }
      ],
      "source": [
        "df"
      ]
    },
    {
      "cell_type": "markdown",
      "metadata": {
        "id": "JdtHoVbnz6Wz"
      },
      "source": [
        "그래프 테마 설정"
      ]
    },
    {
      "cell_type": "code",
      "execution_count": 6,
      "metadata": {
        "id": "fNfjNt62z6W0"
      },
      "outputs": [],
      "source": [
        "sns.set_theme(style='whitegrid', palette='pastel')"
      ]
    },
    {
      "cell_type": "markdown",
      "metadata": {
        "id": "2cZFavopz6W0"
      },
      "source": [
        "점수 분포"
      ]
    },
    {
      "cell_type": "code",
      "execution_count": 7,
      "metadata": {
        "colab": {
          "base_uri": "https://localhost:8080/",
          "height": 285
        },
        "id": "fPT49OFQz6W1",
        "outputId": "a8fa819a-d711-4690-d61b-ccf72a95b86d"
      },
      "outputs": [
        {
          "output_type": "display_data",
          "data": {
            "image/png": "[encoded data removed]",
            "text/plain": [
              "<Figure size 432x288 with 1 Axes>"
            ]
          },
          "metadata": {}
        }
      ],
      "source": [
        "sns.countplot(data=df, x='Rating')\n",
        "plt.show()"
      ]
    },
    {
      "cell_type": "markdown",
      "metadata": {
        "id": "30SLbz5Zz6W1"
      },
      "source": [
        "리뷰 길이 분포(글자수)"
      ]
    },
    {
      "cell_type": "code",
      "execution_count": 8,
      "metadata": {
        "colab": {
          "base_uri": "https://localhost:8080/"
        },
        "id": "Dbq5c2XLz6W2",
        "outputId": "89ed6067-fce1-4037-f787-8caf6119ea40"
      },
      "outputs": [
        {
          "output_type": "execute_result",
          "data": {
            "text/plain": [
              "0         53\n",
              "1        303\n",
              "2        500\n",
              "3        124\n",
              "4        192\n",
              "        ... \n",
              "23481    131\n",
              "23482    223\n",
              "23483    208\n",
              "23484    427\n",
              "23485    110\n",
              "Name: Review Text, Length: 22641, dtype: int64"
            ]
          },
          "metadata": {},
          "execution_count": 8
        }
      ],
      "source": [
        "text_len = df['Review Text'].dropna().map(len)\n",
        "text_len"
      ]
    },
    {
      "cell_type": "code",
      "execution_count": 9,
      "metadata": {
        "colab": {
          "base_uri": "https://localhost:8080/",
          "height": 285
        },
        "id": "tsvyJPevz6W2",
        "outputId": "1698a83a-6535-4d5d-c218-a067ab698f48"
      },
      "outputs": [
        {
          "output_type": "display_data",
          "data": {
            "image/png": "[encoded data removed]",
            "text/plain": [
              "<Figure size 432x288 with 1 Axes>"
            ]
          },
          "metadata": {}
        }
      ],
      "source": [
        "sns.histplot(text_len)\n",
        "plt.show()"
      ]
    },
    {
      "cell_type": "markdown",
      "metadata": {
        "id": "gP_FNXJHz6W3"
      },
      "source": [
        "가장 긴 리뷰의 글자수"
      ]
    },
    {
      "cell_type": "code",
      "execution_count": 10,
      "metadata": {
        "colab": {
          "base_uri": "https://localhost:8080/"
        },
        "id": "6wBOQHb8z6W3",
        "outputId": "1d79ff3d-b06b-440a-93dd-a768e9387bc5"
      },
      "outputs": [
        {
          "output_type": "execute_result",
          "data": {
            "text/plain": [
              "508"
            ]
          },
          "metadata": {},
          "execution_count": 10
        }
      ],
      "source": [
        "max(text_len)"
      ]
    },
    {
      "cell_type": "markdown",
      "metadata": {
        "id": "M9kflAiJz6W3"
      },
      "source": [
        "리뷰 단어수"
      ]
    },
    {
      "cell_type": "code",
      "execution_count": 11,
      "metadata": {
        "colab": {
          "base_uri": "https://localhost:8080/"
        },
        "id": "-aqcDfa_z6W4",
        "outputId": "69b0fb5b-b344-4188-ed34-d15fb0a7eaf9"
      },
      "outputs": [
        {
          "output_type": "execute_result",
          "data": {
            "text/plain": [
              "0         8\n",
              "1        62\n",
              "2        98\n",
              "3        22\n",
              "4        36\n",
              "         ..\n",
              "23481    28\n",
              "23482    38\n",
              "23483    42\n",
              "23484    86\n",
              "23485    19\n",
              "Name: Review Text, Length: 22641, dtype: int64"
            ]
          },
          "metadata": {},
          "execution_count": 11
        }
      ],
      "source": [
        "word_len = df['Review Text'].dropna().map(lambda x: len(x.split()))\n",
        "word_len"
      ]
    },
    {
      "cell_type": "code",
      "execution_count": 12,
      "metadata": {
        "colab": {
          "base_uri": "https://localhost:8080/",
          "height": 285
        },
        "id": "1ErswjN5z6W4",
        "outputId": "5b8c35f5-eab1-4d16-d17a-116d2b56c5b6"
      },
      "outputs": [
        {
          "output_type": "display_data",
          "data": {
            "image/png": "[encoded data removed]",
            "text/plain": [
              "<Figure size 432x288 with 1 Axes>"
            ]
          },
          "metadata": {}
        }
      ],
      "source": [
        "sns.histplot(word_len)\n",
        "plt.show()"
      ]
    },
    {
      "cell_type": "markdown",
      "metadata": {
        "id": "_TTTT6F8z6W4"
      },
      "source": [
        "리뷰 길이와 리뷰 투표수"
      ]
    },
    {
      "cell_type": "code",
      "execution_count": 13,
      "metadata": {
        "id": "6n4Ue0EXz6W4"
      },
      "outputs": [],
      "source": [
        "df['Review Words'] = word_len"
      ]
    },
    {
      "cell_type": "code",
      "execution_count": 14,
      "metadata": {
        "colab": {
          "base_uri": "https://localhost:8080/",
          "height": 502
        },
        "id": "vOIcpQ-tz6W5",
        "outputId": "3f74bcad-49d5-4ce0-8f37-153ce976eb9c"
      },
      "outputs": [
        {
          "output_type": "display_data",
          "data": {
            "image/png": "[encoded data removed]",
            "text/plain": [
              "<Figure size 1080x576 with 1 Axes>"
            ]
          },
          "metadata": {}
        }
      ],
      "source": [
        "g = sns.regplot(x='Review Words', y='Positive Feedback Count', data=df)\n",
        "g.figure.set_size_inches(15, 8)\n",
        "plt.show()"
      ]
    },
    {
      "cell_type": "markdown",
      "metadata": {
        "id": "0ITZC_7Az6W5"
      },
      "source": [
        "# 텍스트 전처리"
      ]
    },
    {
      "cell_type": "code",
      "execution_count": 15,
      "metadata": {
        "id": "lTn3WEsVz6W5"
      },
      "outputs": [],
      "source": [
        "df_clean = df.dropna(subset=['Review Text']).copy()"
      ]
    },
    {
      "cell_type": "code",
      "execution_count": 16,
      "metadata": {
        "id": "oanrgfaqz6W6"
      },
      "outputs": [],
      "source": [
        "df_clean['Label'] = df_clean['Rating'] == 5"
      ]
    },
    {
      "cell_type": "code",
      "execution_count": 17,
      "metadata": {
        "colab": {
          "base_uri": "https://localhost:8080/",
          "height": 0
        },
        "id": "Ju1xtJNxz6W6",
        "outputId": "11b8a6fb-3b6e-4d56-9367-dc822160bba5"
      },
      "outputs": [
        {
          "output_type": "execute_result",
          "data": {
            "text/html": [
              "\n",
              "  <div id=\"df-8f142071-bad8-4e97-94c4-e5000520688b\">\n",
              "    <div class=\"colab-df-container\">\n",
              "      <div>\n",
              "<style scoped>\n",
              "    .dataframe tbody tr th:only-of-type {\n",
              "        vertical-align: middle;\n",
              "    }\n",
              "\n",
              "    .dataframe tbody tr th {\n",
              "        vertical-align: top;\n",
              "    }\n",
              "\n",
              "    .dataframe thead th {\n",
              "        text-align: right;\n",
              "    }\n",
              "</style>\n",
              "<table border=\"1\" class=\"dataframe\">\n",
              "  <thead>\n",
              "    <tr style=\"text-align: right;\">\n",
              "      <th></th>\n",
              "      <th>Clothing ID</th>\n",
              "      <th>Age</th>\n",
              "      <th>Title</th>\n",
              "      <th>Review Text</th>\n",
              "      <th>Rating</th>\n",
              "      <th>Recommended IND</th>\n",
              "      <th>Positive Feedback Count</th>\n",
              "      <th>Division Name</th>\n",
              "      <th>Department Name</th>\n",
              "      <th>Class Name</th>\n",
              "      <th>Review Words</th>\n",
              "      <th>Label</th>\n",
              "    </tr>\n",
              "  </thead>\n",
              "  <tbody>\n",
              "    <tr>\n",
              "      <th>0</th>\n",
              "      <td>767</td>\n",
              "      <td>33</td>\n",
              "      <td>NaN</td>\n",
              "      <td>Absolutely wonderful - silky and sexy and comf...</td>\n",
              "      <td>4</td>\n",
              "      <td>1</td>\n",
              "      <td>0</td>\n",
              "      <td>Initmates</td>\n",
              "      <td>Intimate</td>\n",
              "      <td>Intimates</td>\n",
              "      <td>8.0</td>\n",
              "      <td>False</td>\n",
              "    </tr>\n",
              "    <tr>\n",
              "      <th>1</th>\n",
              "      <td>1080</td>\n",
              "      <td>34</td>\n",
              "      <td>NaN</td>\n",
              "      <td>Love this dress!  it's sooo pretty.  i happene...</td>\n",
              "      <td>5</td>\n",
              "      <td>1</td>\n",
              "      <td>4</td>\n",
              "      <td>General</td>\n",
              "      <td>Dresses</td>\n",
              "      <td>Dresses</td>\n",
              "      <td>62.0</td>\n",
              "      <td>True</td>\n",
              "    </tr>\n",
              "    <tr>\n",
              "      <th>2</th>\n",
              "      <td>1077</td>\n",
              "      <td>60</td>\n",
              "      <td>Some major design flaws</td>\n",
              "      <td>I had such high hopes for this dress and reall...</td>\n",
              "      <td>3</td>\n",
              "      <td>0</td>\n",
              "      <td>0</td>\n",
              "      <td>General</td>\n",
              "      <td>Dresses</td>\n",
              "      <td>Dresses</td>\n",
              "      <td>98.0</td>\n",
              "      <td>False</td>\n",
              "    </tr>\n",
              "    <tr>\n",
              "      <th>3</th>\n",
              "      <td>1049</td>\n",
              "      <td>50</td>\n",
              "      <td>My favorite buy!</td>\n",
              "      <td>I love, love, love this jumpsuit. it's fun, fl...</td>\n",
              "      <td>5</td>\n",
              "      <td>1</td>\n",
              "      <td>0</td>\n",
              "      <td>General Petite</td>\n",
              "      <td>Bottoms</td>\n",
              "      <td>Pants</td>\n",
              "      <td>22.0</td>\n",
              "      <td>True</td>\n",
              "    </tr>\n",
              "    <tr>\n",
              "      <th>4</th>\n",
              "      <td>847</td>\n",
              "      <td>47</td>\n",
              "      <td>Flattering shirt</td>\n",
              "      <td>This shirt is very flattering to all due to th...</td>\n",
              "      <td>5</td>\n",
              "      <td>1</td>\n",
              "      <td>6</td>\n",
              "      <td>General</td>\n",
              "      <td>Tops</td>\n",
              "      <td>Blouses</td>\n",
              "      <td>36.0</td>\n",
              "      <td>True</td>\n",
              "    </tr>\n",
              "  </tbody>\n",
              "</table>\n",
              "</div>\n",
              "      <button class=\"colab-df-convert\" onclick=\"convertToInteractive('df-8f142071-bad8-4e97-94c4-e5000520688b')\"\n",
              "              title=\"Convert this dataframe to an interactive table.\"\n",
              "              style=\"display:none;\">\n",
              "        \n",
              "  <svg xmlns=\"http://www.w3.org/2000/svg\" height=\"24px\"viewBox=\"0 0 24 24\"\n",
              "       width=\"24px\">\n",
              "    <path d=\"M0 0h24v24H0V0z\" fill=\"none\"/>\n",
              "    <path d=\"M18.56 5.44l.94 2.06.94-2.06 2.06-.94-2.06-.94-.94-2.06-.94 2.06-2.06.94zm-11 1L8.5 8.5l.94-2.06 2.06-.94-2.06-.94L8.5 2.5l-.94 2.06-2.06.94zm10 10l.94 2.06.94-2.06 2.06-.94-2.06-.94-.94-2.06-.94 2.06-2.06.94z\"/><path d=\"M17.41 7.96l-1.37-1.37c-.4-.4-.92-.59-1.43-.59-.52 0-1.04.2-1.43.59L10.3 9.45l-7.72 7.72c-.78.78-.78 2.05 0 2.83L4 21.41c.39.39.9.59 1.41.59.51 0 1.02-.2 1.41-.59l7.78-7.78 2.81-2.81c.8-.78.8-2.07 0-2.86zM5.41 20L4 18.59l7.72-7.72 1.47 1.35L5.41 20z\"/>\n",
              "  </svg>\n",
              "      </button>\n",
              "      \n",
              "  <style>\n",
              "    .colab-df-container {\n",
              "      display:flex;\n",
              "      flex-wrap:wrap;\n",
              "      gap: 12px;\n",
              "    }\n",
              "\n",
              "    .colab-df-convert {\n",
              "      background-color: #E8F0FE;\n",
              "      border: none;\n",
              "      border-radius: 50%;\n",
              "      cursor: pointer;\n",
              "      display: none;\n",
              "      fill: #1967D2;\n",
              "      height: 32px;\n",
              "      padding: 0 0 0 0;\n",
              "      width: 32px;\n",
              "    }\n",
              "\n",
              "    .colab-df-convert:hover {\n",
              "      background-color: #E2EBFA;\n",
              "      box-shadow: 0px 1px 2px rgba(60, 64, 67, 0.3), 0px 1px 3px 1px rgba(60, 64, 67, 0.15);\n",
              "      fill: #174EA6;\n",
              "    }\n",
              "\n",
              "    [theme=dark] .colab-df-convert {\n",
              "      background-color: #3B4455;\n",
              "      fill: #D2E3FC;\n",
              "    }\n",
              "\n",
              "    [theme=dark] .colab-df-convert:hover {\n",
              "      background-color: #434B5C;\n",
              "      box-shadow: 0px 1px 3px 1px rgba(0, 0, 0, 0.15);\n",
              "      filter: drop-shadow(0px 1px 2px rgba(0, 0, 0, 0.3));\n",
              "      fill: #FFFFFF;\n",
              "    }\n",
              "  </style>\n",
              "\n",
              "      <script>\n",
              "        const buttonEl =\n",
              "          document.querySelector('#df-8f142071-bad8-4e97-94c4-e5000520688b button.colab-df-convert');\n",
              "        buttonEl.style.display =\n",
              "          google.colab.kernel.accessAllowed ? 'block' : 'none';\n",
              "\n",
              "        async function convertToInteractive(key) {\n",
              "          const element = document.querySelector('#df-8f142071-bad8-4e97-94c4-e5000520688b');\n",
              "          const dataTable =\n",
              "            await google.colab.kernel.invokeFunction('convertToInteractive',\n",
              "                                                     [key], {});\n",
              "          if (!dataTable) return;\n",
              "\n",
              "          const docLinkHtml = 'Like what you see? Visit the ' +\n",
              "            '<a target=\"_blank\" href=https://colab.research.google.com/notebooks/data_table.ipynb>data table notebook</a>'\n",
              "            + ' to learn more about interactive tables.';\n",
              "          element.innerHTML = '';\n",
              "          dataTable['output_type'] = 'display_data';\n",
              "          await google.colab.output.renderOutput(dataTable, element);\n",
              "          const docLink = document.createElement('div');\n",
              "          docLink.innerHTML = docLinkHtml;\n",
              "          element.appendChild(docLink);\n",
              "        }\n",
              "      </script>\n",
              "    </div>\n",
              "  </div>\n",
              "  "
            ],
            "text/plain": [
              "   Clothing ID  Age                    Title  ... Class Name  Review Words  Label\n",
              "0          767   33                      NaN  ...  Intimates           8.0  False\n",
              "1         1080   34                      NaN  ...    Dresses          62.0   True\n",
              "2         1077   60  Some major design flaws  ...    Dresses          98.0  False\n",
              "3         1049   50         My favorite buy!  ...      Pants          22.0   True\n",
              "4          847   47         Flattering shirt  ...    Blouses          36.0   True\n",
              "\n",
              "[5 rows x 12 columns]"
            ]
          },
          "metadata": {},
          "execution_count": 17
        }
      ],
      "source": [
        "df_clean.head()"
      ]
    },
    {
      "cell_type": "code",
      "execution_count": 18,
      "metadata": {
        "id": "5-wqBYdQz6W6"
      },
      "outputs": [],
      "source": [
        "import spacy\n",
        "import math\n",
        "from collections import Counter\n",
        "from tqdm import tqdm"
      ]
    },
    {
      "cell_type": "code",
      "execution_count": 19,
      "metadata": {
        "id": "r-IA2lrXz6W7"
      },
      "outputs": [],
      "source": [
        "nlp = spacy.load('en_core_web_sm')"
      ]
    },
    {
      "cell_type": "code",
      "execution_count": 20,
      "metadata": {
        "colab": {
          "base_uri": "https://localhost:8080/"
        },
        "id": "hRON6fvHz6W7",
        "outputId": "a187323e-0983-4946-99c8-b860db99cf2b"
      },
      "outputs": [
        {
          "output_type": "stream",
          "name": "stderr",
          "text": [
            "22641it [02:36, 145.08it/s]"
          ]
        },
        {
          "output_type": "stream",
          "name": "stdout",
          "text": [
            "CPU times: user 2min 31s, sys: 4.05 s, total: 2min 35s\n",
            "Wall time: 2min 36s\n"
          ]
        },
        {
          "output_type": "stream",
          "name": "stderr",
          "text": [
            "\n"
          ]
        }
      ],
      "source": [
        "%%time\n",
        "tokens_normalized = []\n",
        "for doc in tqdm(nlp.pipe(df_clean['Review Text'].str.lower())):\n",
        "    lemmas = [token.lemma_ for token in doc if not token.is_punct and not token.is_space]\n",
        "    tokens_normalized.append(lemmas)"
      ]
    },
    {
      "cell_type": "code",
      "execution_count": 21,
      "metadata": {
        "id": "A_bZukvTz6W7"
      },
      "outputs": [],
      "source": [
        "from gensim.models.phrases import Phrases, Phraser"
      ]
    },
    {
      "cell_type": "code",
      "execution_count": 22,
      "metadata": {
        "colab": {
          "base_uri": "https://localhost:8080/"
        },
        "id": "7rOxA48wz6W7",
        "outputId": "6f28d37e-a40f-4c1d-d93f-dc235eec7544"
      },
      "outputs": [
        {
          "output_type": "stream",
          "name": "stdout",
          "text": [
            "CPU times: user 4.62 s, sys: 35 ms, total: 4.66 s\n",
            "Wall time: 4.66 s\n"
          ]
        }
      ],
      "source": [
        "%%time\n",
        "bigram_model = Phrases(tokens_normalized)\n",
        "bigram_phraser = Phraser(bigram_model)"
      ]
    },
    {
      "cell_type": "code",
      "execution_count": 23,
      "metadata": {
        "id": "38MNUUgtz6W8"
      },
      "outputs": [],
      "source": [
        "tokens_bigram = []\n",
        "for s in tokens_normalized:\n",
        "    bigram_phrases = bigram_phraser[s]\n",
        "    tokens_bigram.append(bigram_phrases)"
      ]
    },
    {
      "cell_type": "code",
      "execution_count": 24,
      "metadata": {
        "colab": {
          "base_uri": "https://localhost:8080/"
        },
        "id": "jelauwbAz6W8",
        "outputId": "c9560e51-8273-4a9a-a7cb-7b7d02156d11"
      },
      "outputs": [
        {
          "output_type": "stream",
          "name": "stdout",
          "text": [
            "CPU times: user 4.96 s, sys: 38.2 ms, total: 5 s\n",
            "Wall time: 5 s\n"
          ]
        }
      ],
      "source": [
        "%%time\n",
        "trigram_model = Phrases(tokens_bigram)\n",
        "trigram_phraser = Phraser(trigram_model)"
      ]
    },
    {
      "cell_type": "code",
      "execution_count": 25,
      "metadata": {
        "colab": {
          "base_uri": "https://localhost:8080/"
        },
        "id": "NoxbCFMBz6W8",
        "outputId": "f5e5f2da-513b-4c5e-a5fb-9acd83d9ffd2"
      },
      "outputs": [
        {
          "output_type": "stream",
          "name": "stdout",
          "text": [
            "CPU times: user 4.33 s, sys: 50.1 ms, total: 4.38 s\n",
            "Wall time: 4.38 s\n"
          ]
        }
      ],
      "source": [
        "%%time\n",
        "tokens_trigram = []\n",
        "for s in tokens_bigram:\n",
        "    trigram_phrases = trigram_phraser[s]\n",
        "    trigram_phrases = [token for token in trigram_phrases if token not in nlp.Defaults.stop_words and token != '-PRON-']\n",
        "    tokens_trigram.append(trigram_phrases)"
      ]
    },
    {
      "cell_type": "code",
      "execution_count": 26,
      "metadata": {
        "id": "Pm4zIDZwz6W8"
      },
      "outputs": [],
      "source": [
        "preprocessed_sentences = []\n",
        "for s in tokens_trigram:\n",
        "    preprocessed_sentences.append(' '.join(s))"
      ]
    },
    {
      "cell_type": "code",
      "execution_count": 27,
      "metadata": {
        "id": "mGiFSOj-z6W8"
      },
      "outputs": [],
      "source": [
        "df_clean['Reviews Preprocessed'] = preprocessed_sentences"
      ]
    },
    {
      "cell_type": "markdown",
      "metadata": {
        "id": "pGEjowm5z6W8"
      },
      "source": [
        "# 학습용 데이터와 테스트용 데이터 나누기"
      ]
    },
    {
      "cell_type": "code",
      "execution_count": 28,
      "metadata": {
        "id": "RRJcIiGpz6W9"
      },
      "outputs": [],
      "source": [
        "from sklearn.model_selection import train_test_split"
      ]
    },
    {
      "cell_type": "code",
      "execution_count": 29,
      "metadata": {
        "id": "fv_astfKz6W9"
      },
      "outputs": [],
      "source": [
        "df_train, df_test = train_test_split(df_clean, random_state=0)"
      ]
    },
    {
      "cell_type": "markdown",
      "metadata": {
        "id": "JBrDEDwiz6W9"
      },
      "source": [
        "# 사전으로 하는 감성분석"
      ]
    },
    {
      "cell_type": "markdown",
      "metadata": {
        "id": "jDLEyuDMz6W9"
      },
      "source": [
        "Sampled and modified from https://github.com/cjhutto/vaderSentiment/blob/master/vaderSentiment/vader_lexicon.txt\n",
        "\n",
        "긍정 단어는 1, 부정 단어는 -1로 표기한다."
      ]
    },
    {
      "cell_type": "code",
      "execution_count": 30,
      "metadata": {
        "id": "aTQX4jcC8div"
      },
      "outputs": [],
      "source": [
        "sentiment_vocab = {\n",
        "    'adorable': 1,\n",
        "    'adore': 1,\n",
        "    'allow': 1,\n",
        "    'amazing': 1,\n",
        "    'appreciate': 1,\n",
        "    'attractive': 1,\n",
        "    'avoid': -1,\n",
        "    'awesome': 1,\n",
        "    'awful': -1,\n",
        "    'awkward': -1,\n",
        "    'bad': -1,\n",
        "    'beautiful': 1,\n",
        "    'beautifully': 1,\n",
        "    'beauty': 1,\n",
        "    'best': 1,\n",
        "    'better': 1,\n",
        "    'bother': -1,\n",
        "    'bright': 1,\n",
        "    'bummer': -1,\n",
        "    'care': 1,\n",
        "    'careful': 1,\n",
        "    'casual': 1,\n",
        "    'certainly': 1,\n",
        "    'chance': 1,\n",
        "    'chic': 1,\n",
        "    'classy': 1,\n",
        "    'comfort': 1,\n",
        "    'comfortable': 1,\n",
        "    'comfortably': 1,\n",
        "    'compliment': 1,\n",
        "    'cool': 1,\n",
        "    'crazy': -1,\n",
        "    'create': 1,\n",
        "    'cut': -1,\n",
        "    'cute': 1,\n",
        "    'definitely': 1,\n",
        "    'difficult': -1,\n",
        "    'disappoint': -1,\n",
        "    'disappointed': -1,\n",
        "    'disappointing': -1,\n",
        "    'disappointment': -1,\n",
        "    'dream': 1,\n",
        "    'easily': 1,\n",
        "    'easy': 1,\n",
        "    'elegant': 1,\n",
        "    'enjoy': 1,\n",
        "    'excellent': 1,\n",
        "    'excited': 1,\n",
        "    'expose': -1,\n",
        "    'fabulous': 1,\n",
        "    'fantastic': 1,\n",
        "    'favorite': 1,\n",
        "    'feeling': 1,\n",
        "    'fine': 1,\n",
        "    'fit': 1,\n",
        "    'flattering': 1,\n",
        "    'flirty': 1,\n",
        "    'forgiving': 1,\n",
        "    'friend': 1,\n",
        "    'fun': 1,\n",
        "    'generous': 1,\n",
        "    'glad': 1,\n",
        "    'good': 1,\n",
        "    'gorgeous': 1,\n",
        "    'great': 1,\n",
        "    'hand': 1,\n",
        "    'happy': 1,\n",
        "    'hate': -1,\n",
        "    'help': 1,\n",
        "    'hesitant': -1,\n",
        "    'hesitate': -1,\n",
        "    'hide': -1,\n",
        "    'holiday': 1,\n",
        "    'honestly': 1,\n",
        "    'hope': 1,\n",
        "    'hopefully': 1,\n",
        "    'hug': 1,\n",
        "    'huge': 1,\n",
        "    'interesting': 1,\n",
        "    'itchy': -1,\n",
        "    'justice': 1,\n",
        "    'lack': -1,\n",
        "    'like': 1,\n",
        "    'loose': -1,\n",
        "    'lose': -1,\n",
        "    'love': 1,\n",
        "    'lovely': 1,\n",
        "    'low': -1,\n",
        "    'miss': -1,\n",
        "    'nice': 1,\n",
        "    'nicely': 1,\n",
        "    'odd': -1,\n",
        "    'ok': 1,\n",
        "    'okay': 1,\n",
        "    'party': 1,\n",
        "    'perfect': 1,\n",
        "    'perfection': 1,\n",
        "    'perfectly': 1,\n",
        "    'pleased': 1,\n",
        "    'pretty': 1,\n",
        "    'problem': -1,\n",
        "    'recommend': 1,\n",
        "    'regret': -1,\n",
        "    'relaxed': 1,\n",
        "    'rich': 1,\n",
        "    'ridiculous': -1,\n",
        "    'romantic': 1,\n",
        "    'ruin': -1,\n",
        "    'sad': -1,\n",
        "    'sadly': -1,\n",
        "    'seriously': -1,\n",
        "    'sexy': 1,\n",
        "    'solid': 1,\n",
        "    'special': 1,\n",
        "    'stop': -1,\n",
        "    'straight': 1,\n",
        "    'strange': -1,\n",
        "    'stunning': 1,\n",
        "    'substantial': 1,\n",
        "    'super': 1,\n",
        "    'support': 1,\n",
        "    'sure': 1,\n",
        "    'surprise': 1,\n",
        "    'surprised': 1,\n",
        "    'surprisingly': 1,\n",
        "    'sweet': 1,\n",
        "    'terrible': -1,\n",
        "    'thank': 1,\n",
        "    'thrill': 1,\n",
        "    'trouble': -1,\n",
        "    'true': 1,\n",
        "    'truly': 1,\n",
        "    'uncomfortable': -1,\n",
        "    'unfortunately': -1,\n",
        "    'vibrant': 1,\n",
        "    'warm': 1,\n",
        "    'waste': -1,\n",
        "    'weird': -1,\n",
        "    'winner': 1,\n",
        "    'wish': 1,\n",
        "    'wonderful': 1,\n",
        "    'wonderfully': 1,\n",
        "    'worried': -1,\n",
        "    'worry': -1,\n",
        "    'worth': 1,\n",
        "    'wow': 1,\n",
        "    'wrong': -1,\n",
        "    'yes': 1\n",
        "}"
      ]
    },
    {
      "cell_type": "code",
      "execution_count": 31,
      "metadata": {
        "id": "wr9BftQvz6W-"
      },
      "outputs": [],
      "source": [
        "def predict_with_dictionary(nermalized_text, sentiment_vocab):\n",
        "    tokens = nermalized_text.split()\n",
        "    review_score = 0\n",
        "    for token in tokens:\n",
        "        token_score = sentiment_vocab.get(token, 0)\n",
        "        review_score = review_score + token_score\n",
        "    review_score = review_score / len(tokens)\n",
        "    pred = review_score > 0\n",
        "    return pred"
      ]
    },
    {
      "cell_type": "code",
      "execution_count": 32,
      "metadata": {
        "colab": {
          "base_uri": "https://localhost:8080/"
        },
        "id": "HQ6w1aqhz6W-",
        "outputId": "0a806322-1361-458f-a4fc-2a5abf9a2edd"
      },
      "outputs": [
        {
          "output_type": "stream",
          "name": "stdout",
          "text": [
            "beautiful versatile dress extremely forgiving post_baby_body stylish classy\n"
          ]
        },
        {
          "output_type": "execute_result",
          "data": {
            "text/plain": [
              "True"
            ]
          },
          "metadata": {},
          "execution_count": 32
        }
      ],
      "source": [
        "index = 0\n",
        "print(df_test['Reviews Preprocessed'].iloc[index])\n",
        "predict_with_dictionary(df_test['Reviews Preprocessed'].iloc[index], sentiment_vocab)"
      ]
    },
    {
      "cell_type": "code",
      "execution_count": 33,
      "metadata": {
        "id": "ObzOOhaNz6W-"
      },
      "outputs": [],
      "source": [
        "predictictions_with_dict = df_test['Reviews Preprocessed'].map(lambda x: predict_with_dictionary(x, sentiment_vocab))"
      ]
    },
    {
      "cell_type": "code",
      "execution_count": 34,
      "metadata": {
        "colab": {
          "base_uri": "https://localhost:8080/"
        },
        "id": "HYPL4brcz6W-",
        "outputId": "0bc7b05b-f35d-4fd9-9df6-a98b35f5f5c6"
      },
      "outputs": [
        {
          "output_type": "execute_result",
          "data": {
            "text/plain": [
              "0.5797562268150503"
            ]
          },
          "metadata": {},
          "execution_count": 34
        }
      ],
      "source": [
        "corrects_with_dict = df_test['Label'] == predictictions_with_dict\n",
        "corrects_with_dict.sum() / len(corrects_with_dict)"
      ]
    },
    {
      "cell_type": "markdown",
      "metadata": {
        "id": "FRYRB6OOz6W_"
      },
      "source": [
        "# 토픽으로 하는 감성분석"
      ]
    },
    {
      "cell_type": "code",
      "execution_count": 35,
      "metadata": {
        "id": "czuXRlSlz6W_"
      },
      "outputs": [],
      "source": [
        "from gensim.corpora import Dictionary, MmCorpus\n",
        "from gensim.models import LdaMulticore"
      ]
    },
    {
      "cell_type": "code",
      "execution_count": 36,
      "metadata": {
        "id": "QIJC7Ml_z6W_"
      },
      "outputs": [],
      "source": [
        "dictionary = Dictionary(tokens_trigram)\n",
        "dictionary.filter_extremes(no_below=10, no_above=0.4)\n",
        "dictionary.compactify()"
      ]
    },
    {
      "cell_type": "code",
      "execution_count": 37,
      "metadata": {
        "id": "9Aq2aC-wz6W_"
      },
      "outputs": [],
      "source": [
        "def make_bow_corpus(tokens):\n",
        "    for review in tokens:\n",
        "        yield dictionary.doc2bow(review)"
      ]
    },
    {
      "cell_type": "code",
      "execution_count": 38,
      "metadata": {
        "id": "oFu3Gvu8z6W_"
      },
      "outputs": [],
      "source": [
        "corpus_filepath = 'corpus.mm'\n",
        "MmCorpus.serialize(corpus_filepath, make_bow_corpus(tokens_trigram))\n",
        "review_corpus = MmCorpus(corpus_filepath)"
      ]
    },
    {
      "cell_type": "code",
      "execution_count": 39,
      "metadata": {
        "id": "QXXeB1hcz6W_"
      },
      "outputs": [],
      "source": [
        "import warnings\n",
        "warnings.filterwarnings('ignore', category=DeprecationWarning)"
      ]
    },
    {
      "cell_type": "code",
      "execution_count": 40,
      "metadata": {
        "colab": {
          "base_uri": "https://localhost:8080/"
        },
        "id": "A_qaKxRoz6W_",
        "outputId": "bbd48fc5-a533-4d53-fddb-c99973d0d775"
      },
      "outputs": [
        {
          "output_type": "stream",
          "name": "stdout",
          "text": [
            "CPU times: user 9.64 s, sys: 910 ms, total: 10.5 s\n",
            "Wall time: 22.5 s\n"
          ]
        }
      ],
      "source": [
        "%%time\n",
        "lda = LdaMulticore(review_corpus,\n",
        "                   num_topics=10,\n",
        "                   id2word=dictionary,\n",
        "                   workers=4,\n",
        "                   random_state=13\n",
        "                  )"
      ]
    },
    {
      "cell_type": "code",
      "source": [
        "!pip install pyLDAvis"
      ],
      "metadata": {
        "id": "HGq3WQSz2aWc",
        "colab": {
          "base_uri": "https://localhost:8080/",
          "height": 0
        },
        "outputId": "13b1f364-adcf-4495-e433-07abec8cac97"
      },
      "execution_count": 41,
      "outputs": [
        {
          "output_type": "stream",
          "name": "stdout",
          "text": [
            "Collecting pyLDAvis\n",
            "  Downloading pyLDAvis-3.3.1.tar.gz (1.7 MB)\n",
            "\u001b[?25l\r\u001b[K     |▏                               | 10 kB 20.5 MB/s eta 0:00:01\r\u001b[K     |▍                               | 20 kB 11.1 MB/s eta 0:00:01\r\u001b[K     |▋                               | 30 kB 9.3 MB/s eta 0:00:01\r\u001b[K     |▉                               | 40 kB 8.5 MB/s eta 0:00:01\r\u001b[K     |█                               | 51 kB 5.2 MB/s eta 0:00:01\r\u001b[K     |█▏                              | 61 kB 5.7 MB/s eta 0:00:01\r\u001b[K     |█▍                              | 71 kB 5.6 MB/s eta 0:00:01\r\u001b[K     |█▋                              | 81 kB 6.2 MB/s eta 0:00:01\r\u001b[K     |█▉                              | 92 kB 4.9 MB/s eta 0:00:01\r\u001b[K     |██                              | 102 kB 5.4 MB/s eta 0:00:01\r\u001b[K     |██▏                             | 112 kB 5.4 MB/s eta 0:00:01\r\u001b[K     |██▍                             | 122 kB 5.4 MB/s eta 0:00:01\r\u001b[K     |██▋                             | 133 kB 5.4 MB/s eta 0:00:01\r\u001b[K     |██▊                             | 143 kB 5.4 MB/s eta 0:00:01\r\u001b[K     |███                             | 153 kB 5.4 MB/s eta 0:00:01\r\u001b[K     |███▏                            | 163 kB 5.4 MB/s eta 0:00:01\r\u001b[K     |███▍                            | 174 kB 5.4 MB/s eta 0:00:01\r\u001b[K     |███▋                            | 184 kB 5.4 MB/s eta 0:00:01\r\u001b[K     |███▊                            | 194 kB 5.4 MB/s eta 0:00:01\r\u001b[K     |████                            | 204 kB 5.4 MB/s eta 0:00:01\r\u001b[K     |████▏                           | 215 kB 5.4 MB/s eta 0:00:01\r\u001b[K     |████▍                           | 225 kB 5.4 MB/s eta 0:00:01\r\u001b[K     |████▋                           | 235 kB 5.4 MB/s eta 0:00:01\r\u001b[K     |████▊                           | 245 kB 5.4 MB/s eta 0:00:01\r\u001b[K     |█████                           | 256 kB 5.4 MB/s eta 0:00:01\r\u001b[K     |█████▏                          | 266 kB 5.4 MB/s eta 0:00:01\r\u001b[K     |█████▍                          | 276 kB 5.4 MB/s eta 0:00:01\r\u001b[K     |█████▌                          | 286 kB 5.4 MB/s eta 0:00:01\r\u001b[K     |█████▊                          | 296 kB 5.4 MB/s eta 0:00:01\r\u001b[K     |██████                          | 307 kB 5.4 MB/s eta 0:00:01\r\u001b[K     |██████▏                         | 317 kB 5.4 MB/s eta 0:00:01\r\u001b[K     |██████▍                         | 327 kB 5.4 MB/s eta 0:00:01\r\u001b[K     |██████▌                         | 337 kB 5.4 MB/s eta 0:00:01\r\u001b[K     |██████▊                         | 348 kB 5.4 MB/s eta 0:00:01\r\u001b[K     |███████                         | 358 kB 5.4 MB/s eta 0:00:01\r\u001b[K     |███████▏                        | 368 kB 5.4 MB/s eta 0:00:01\r\u001b[K     |███████▎                        | 378 kB 5.4 MB/s eta 0:00:01\r\u001b[K     |███████▌                        | 389 kB 5.4 MB/s eta 0:00:01\r\u001b[K     |███████▊                        | 399 kB 5.4 MB/s eta 0:00:01\r\u001b[K     |████████                        | 409 kB 5.4 MB/s eta 0:00:01\r\u001b[K     |████████▏                       | 419 kB 5.4 MB/s eta 0:00:01\r\u001b[K     |████████▎                       | 430 kB 5.4 MB/s eta 0:00:01\r\u001b[K     |████████▌                       | 440 kB 5.4 MB/s eta 0:00:01\r\u001b[K     |████████▊                       | 450 kB 5.4 MB/s eta 0:00:01\r\u001b[K     |█████████                       | 460 kB 5.4 MB/s eta 0:00:01\r\u001b[K     |█████████▏                      | 471 kB 5.4 MB/s eta 0:00:01\r\u001b[K     |█████████▎                      | 481 kB 5.4 MB/s eta 0:00:01\r\u001b[K     |█████████▌                      | 491 kB 5.4 MB/s eta 0:00:01\r\u001b[K     |█████████▊                      | 501 kB 5.4 MB/s eta 0:00:01\r\u001b[K     |██████████                      | 512 kB 5.4 MB/s eta 0:00:01\r\u001b[K     |██████████                      | 522 kB 5.4 MB/s eta 0:00:01\r\u001b[K     |██████████▎                     | 532 kB 5.4 MB/s eta 0:00:01\r\u001b[K     |██████████▌                     | 542 kB 5.4 MB/s eta 0:00:01\r\u001b[K     |██████████▊                     | 552 kB 5.4 MB/s eta 0:00:01\r\u001b[K     |███████████                     | 563 kB 5.4 MB/s eta 0:00:01\r\u001b[K     |███████████                     | 573 kB 5.4 MB/s eta 0:00:01\r\u001b[K     |███████████▎                    | 583 kB 5.4 MB/s eta 0:00:01\r\u001b[K     |███████████▌                    | 593 kB 5.4 MB/s eta 0:00:01\r\u001b[K     |███████████▊                    | 604 kB 5.4 MB/s eta 0:00:01\r\u001b[K     |███████████▉                    | 614 kB 5.4 MB/s eta 0:00:01\r\u001b[K     |████████████                    | 624 kB 5.4 MB/s eta 0:00:01\r\u001b[K     |████████████▎                   | 634 kB 5.4 MB/s eta 0:00:01\r\u001b[K     |████████████▌                   | 645 kB 5.4 MB/s eta 0:00:01\r\u001b[K     |████████████▊                   | 655 kB 5.4 MB/s eta 0:00:01\r\u001b[K     |████████████▉                   | 665 kB 5.4 MB/s eta 0:00:01\r\u001b[K     |█████████████                   | 675 kB 5.4 MB/s eta 0:00:01\r\u001b[K     |█████████████▎                  | 686 kB 5.4 MB/s eta 0:00:01\r\u001b[K     |█████████████▌                  | 696 kB 5.4 MB/s eta 0:00:01\r\u001b[K     |█████████████▊                  | 706 kB 5.4 MB/s eta 0:00:01\r\u001b[K     |█████████████▉                  | 716 kB 5.4 MB/s eta 0:00:01\r\u001b[K     |██████████████                  | 727 kB 5.4 MB/s eta 0:00:01\r\u001b[K     |██████████████▎                 | 737 kB 5.4 MB/s eta 0:00:01\r\u001b[K     |██████████████▌                 | 747 kB 5.4 MB/s eta 0:00:01\r\u001b[K     |██████████████▋                 | 757 kB 5.4 MB/s eta 0:00:01\r\u001b[K     |██████████████▉                 | 768 kB 5.4 MB/s eta 0:00:01\r\u001b[K     |███████████████                 | 778 kB 5.4 MB/s eta 0:00:01\r\u001b[K     |███████████████▎                | 788 kB 5.4 MB/s eta 0:00:01\r\u001b[K     |███████████████▌                | 798 kB 5.4 MB/s eta 0:00:01\r\u001b[K     |███████████████▋                | 808 kB 5.4 MB/s eta 0:00:01\r\u001b[K     |███████████████▉                | 819 kB 5.4 MB/s eta 0:00:01\r\u001b[K     |████████████████                | 829 kB 5.4 MB/s eta 0:00:01\r\u001b[K     |████████████████▎               | 839 kB 5.4 MB/s eta 0:00:01\r\u001b[K     |████████████████▍               | 849 kB 5.4 MB/s eta 0:00:01\r\u001b[K     |████████████████▋               | 860 kB 5.4 MB/s eta 0:00:01\r\u001b[K     |████████████████▉               | 870 kB 5.4 MB/s eta 0:00:01\r\u001b[K     |█████████████████               | 880 kB 5.4 MB/s eta 0:00:01\r\u001b[K     |█████████████████▎              | 890 kB 5.4 MB/s eta 0:00:01\r\u001b[K     |█████████████████▍              | 901 kB 5.4 MB/s eta 0:00:01\r\u001b[K     |█████████████████▋              | 911 kB 5.4 MB/s eta 0:00:01\r\u001b[K     |█████████████████▉              | 921 kB 5.4 MB/s eta 0:00:01\r\u001b[K     |██████████████████              | 931 kB 5.4 MB/s eta 0:00:01\r\u001b[K     |██████████████████▎             | 942 kB 5.4 MB/s eta 0:00:01\r\u001b[K     |██████████████████▍             | 952 kB 5.4 MB/s eta 0:00:01\r\u001b[K     |██████████████████▋             | 962 kB 5.4 MB/s eta 0:00:01\r\u001b[K     |██████████████████▉             | 972 kB 5.4 MB/s eta 0:00:01\r\u001b[K     |███████████████████             | 983 kB 5.4 MB/s eta 0:00:01\r\u001b[K     |███████████████████▏            | 993 kB 5.4 MB/s eta 0:00:01\r\u001b[K     |███████████████████▍            | 1.0 MB 5.4 MB/s eta 0:00:01\r\u001b[K     |███████████████████▋            | 1.0 MB 5.4 MB/s eta 0:00:01\r\u001b[K     |███████████████████▉            | 1.0 MB 5.4 MB/s eta 0:00:01\r\u001b[K     |████████████████████            | 1.0 MB 5.4 MB/s eta 0:00:01\r\u001b[K     |████████████████████▏           | 1.0 MB 5.4 MB/s eta 0:00:01\r\u001b[K     |████████████████████▍           | 1.1 MB 5.4 MB/s eta 0:00:01\r\u001b[K     |████████████████████▋           | 1.1 MB 5.4 MB/s eta 0:00:01\r\u001b[K     |████████████████████▉           | 1.1 MB 5.4 MB/s eta 0:00:01\r\u001b[K     |█████████████████████           | 1.1 MB 5.4 MB/s eta 0:00:01\r\u001b[K     |█████████████████████▏          | 1.1 MB 5.4 MB/s eta 0:00:01\r\u001b[K     |█████████████████████▍          | 1.1 MB 5.4 MB/s eta 0:00:01\r\u001b[K     |█████████████████████▋          | 1.1 MB 5.4 MB/s eta 0:00:01\r\u001b[K     |█████████████████████▉          | 1.1 MB 5.4 MB/s eta 0:00:01\r\u001b[K     |██████████████████████          | 1.1 MB 5.4 MB/s eta 0:00:01\r\u001b[K     |██████████████████████▏         | 1.1 MB 5.4 MB/s eta 0:00:01\r\u001b[K     |██████████████████████▍         | 1.2 MB 5.4 MB/s eta 0:00:01\r\u001b[K     |██████████████████████▋         | 1.2 MB 5.4 MB/s eta 0:00:01\r\u001b[K     |██████████████████████▉         | 1.2 MB 5.4 MB/s eta 0:00:01\r\u001b[K     |███████████████████████         | 1.2 MB 5.4 MB/s eta 0:00:01\r\u001b[K     |███████████████████████▏        | 1.2 MB 5.4 MB/s eta 0:00:01\r\u001b[K     |███████████████████████▍        | 1.2 MB 5.4 MB/s eta 0:00:01\r\u001b[K     |███████████████████████▋        | 1.2 MB 5.4 MB/s eta 0:00:01\r\u001b[K     |███████████████████████▊        | 1.2 MB 5.4 MB/s eta 0:00:01\r\u001b[K     |████████████████████████        | 1.2 MB 5.4 MB/s eta 0:00:01\r\u001b[K     |████████████████████████▏       | 1.2 MB 5.4 MB/s eta 0:00:01\r\u001b[K     |████████████████████████▍       | 1.3 MB 5.4 MB/s eta 0:00:01\r\u001b[K     |████████████████████████▋       | 1.3 MB 5.4 MB/s eta 0:00:01\r\u001b[K     |████████████████████████▊       | 1.3 MB 5.4 MB/s eta 0:00:01\r\u001b[K     |█████████████████████████       | 1.3 MB 5.4 MB/s eta 0:00:01\r\u001b[K     |█████████████████████████▏      | 1.3 MB 5.4 MB/s eta 0:00:01\r\u001b[K     |█████████████████████████▍      | 1.3 MB 5.4 MB/s eta 0:00:01\r\u001b[K     |█████████████████████████▌      | 1.3 MB 5.4 MB/s eta 0:00:01\r\u001b[K     |█████████████████████████▊      | 1.3 MB 5.4 MB/s eta 0:00:01\r\u001b[K     |██████████████████████████      | 1.3 MB 5.4 MB/s eta 0:00:01\r\u001b[K     |██████████████████████████▏     | 1.4 MB 5.4 MB/s eta 0:00:01\r\u001b[K     |██████████████████████████▍     | 1.4 MB 5.4 MB/s eta 0:00:01\r\u001b[K     |██████████████████████████▌     | 1.4 MB 5.4 MB/s eta 0:00:01\r\u001b[K     |██████████████████████████▊     | 1.4 MB 5.4 MB/s eta 0:00:01\r\u001b[K     |███████████████████████████     | 1.4 MB 5.4 MB/s eta 0:00:01\r\u001b[K     |███████████████████████████▏    | 1.4 MB 5.4 MB/s eta 0:00:01\r\u001b[K     |███████████████████████████▍    | 1.4 MB 5.4 MB/s eta 0:00:01\r\u001b[K     |███████████████████████████▌    | 1.4 MB 5.4 MB/s eta 0:00:01\r\u001b[K     |███████████████████████████▊    | 1.4 MB 5.4 MB/s eta 0:00:01\r\u001b[K     |████████████████████████████    | 1.4 MB 5.4 MB/s eta 0:00:01\r\u001b[K     |████████████████████████████▏   | 1.5 MB 5.4 MB/s eta 0:00:01\r\u001b[K     |████████████████████████████▎   | 1.5 MB 5.4 MB/s eta 0:00:01\r\u001b[K     |████████████████████████████▌   | 1.5 MB 5.4 MB/s eta 0:00:01\r\u001b[K     |████████████████████████████▊   | 1.5 MB 5.4 MB/s eta 0:00:01\r\u001b[K     |█████████████████████████████   | 1.5 MB 5.4 MB/s eta 0:00:01\r\u001b[K     |█████████████████████████████▏  | 1.5 MB 5.4 MB/s eta 0:00:01\r\u001b[K     |█████████████████████████████▎  | 1.5 MB 5.4 MB/s eta 0:00:01\r\u001b[K     |█████████████████████████████▌  | 1.5 MB 5.4 MB/s eta 0:00:01\r\u001b[K     |█████████████████████████████▊  | 1.5 MB 5.4 MB/s eta 0:00:01\r\u001b[K     |██████████████████████████████  | 1.5 MB 5.4 MB/s eta 0:00:01\r\u001b[K     |██████████████████████████████▏ | 1.6 MB 5.4 MB/s eta 0:00:01\r\u001b[K     |██████████████████████████████▎ | 1.6 MB 5.4 MB/s eta 0:00:01\r\u001b[K     |██████████████████████████████▌ | 1.6 MB 5.4 MB/s eta 0:00:01\r\u001b[K     |██████████████████████████████▊ | 1.6 MB 5.4 MB/s eta 0:00:01\r\u001b[K     |███████████████████████████████ | 1.6 MB 5.4 MB/s eta 0:00:01\r\u001b[K     |███████████████████████████████ | 1.6 MB 5.4 MB/s eta 0:00:01\r\u001b[K     |███████████████████████████████▎| 1.6 MB 5.4 MB/s eta 0:00:01\r\u001b[K     |███████████████████████████████▌| 1.6 MB 5.4 MB/s eta 0:00:01\r\u001b[K     |███████████████████████████████▊| 1.6 MB 5.4 MB/s eta 0:00:01\r\u001b[K     |████████████████████████████████| 1.6 MB 5.4 MB/s eta 0:00:01\r\u001b[K     |████████████████████████████████| 1.7 MB 5.4 MB/s \n",
            "\u001b[?25h  Installing build dependencies ... \u001b[?25l\u001b[?25hdone\n",
            "  Getting requirements to build wheel ... \u001b[?25l\u001b[?25hdone\n",
            "  Installing backend dependencies ... \u001b[?25l\u001b[?25hdone\n",
            "    Preparing wheel metadata ... \u001b[?25l\u001b[?25hdone\n",
            "Collecting numpy>=1.20.0\n",
            "  Downloading numpy-1.21.5-cp37-cp37m-manylinux_2_12_x86_64.manylinux2010_x86_64.whl (15.7 MB)\n",
            "\u001b[K     |████████████████████████████████| 15.7 MB 41.9 MB/s \n",
            "\u001b[?25hRequirement already satisfied: scikit-learn in /usr/local/lib/python3.7/dist-packages (from pyLDAvis) (1.0.2)\n",
            "Requirement already satisfied: scipy in /usr/local/lib/python3.7/dist-packages (from pyLDAvis) (1.4.1)\n",
            "Requirement already satisfied: joblib in /usr/local/lib/python3.7/dist-packages (from pyLDAvis) (1.1.0)\n",
            "Requirement already satisfied: pandas>=1.2.0 in /usr/local/lib/python3.7/dist-packages (from pyLDAvis) (1.3.5)\n",
            "Requirement already satisfied: setuptools in /usr/local/lib/python3.7/dist-packages (from pyLDAvis) (57.4.0)\n",
            "Requirement already satisfied: jinja2 in /usr/local/lib/python3.7/dist-packages (from pyLDAvis) (2.11.3)\n",
            "Requirement already satisfied: sklearn in /usr/local/lib/python3.7/dist-packages (from pyLDAvis) (0.0)\n",
            "Collecting funcy\n",
            "  Downloading funcy-1.17-py2.py3-none-any.whl (33 kB)\n",
            "Requirement already satisfied: future in /usr/local/lib/python3.7/dist-packages (from pyLDAvis) (0.16.0)\n",
            "Requirement already satisfied: numexpr in /usr/local/lib/python3.7/dist-packages (from pyLDAvis) (2.8.1)\n",
            "Requirement already satisfied: gensim in /usr/local/lib/python3.7/dist-packages (from pyLDAvis) (3.6.0)\n",
            "Requirement already satisfied: pytz>=2017.3 in /usr/local/lib/python3.7/dist-packages (from pandas>=1.2.0->pyLDAvis) (2018.9)\n",
            "Requirement already satisfied: python-dateutil>=2.7.3 in /usr/local/lib/python3.7/dist-packages (from pandas>=1.2.0->pyLDAvis) (2.8.2)\n",
            "Requirement already satisfied: six>=1.5 in /usr/local/lib/python3.7/dist-packages (from python-dateutil>=2.7.3->pandas>=1.2.0->pyLDAvis) (1.15.0)\n",
            "Requirement already satisfied: smart-open>=1.2.1 in /usr/local/lib/python3.7/dist-packages (from gensim->pyLDAvis) (5.2.1)\n",
            "Requirement already satisfied: MarkupSafe>=0.23 in /usr/local/lib/python3.7/dist-packages (from jinja2->pyLDAvis) (2.0.1)\n",
            "Requirement already satisfied: packaging in /usr/local/lib/python3.7/dist-packages (from numexpr->pyLDAvis) (21.3)\n",
            "Requirement already satisfied: pyparsing!=3.0.5,>=2.0.2 in /usr/local/lib/python3.7/dist-packages (from packaging->numexpr->pyLDAvis) (3.0.7)\n",
            "Requirement already satisfied: threadpoolctl>=2.0.0 in /usr/local/lib/python3.7/dist-packages (from scikit-learn->pyLDAvis) (3.1.0)\n",
            "Building wheels for collected packages: pyLDAvis\n",
            "  Building wheel for pyLDAvis (PEP 517) ... \u001b[?25l\u001b[?25hdone\n",
            "  Created wheel for pyLDAvis: filename=pyLDAvis-3.3.1-py2.py3-none-any.whl size=136898 sha256=96974f7fd9da771f4e1fd1e048eeaa91c0c80d88c7ed10ce0261a0db3b7d60e3\n",
            "  Stored in directory: /root/.cache/pip/wheels/c9/21/f6/17bcf2667e8a68532ba2fbf6d5c72fdf4c7f7d9abfa4852d2f\n",
            "Successfully built pyLDAvis\n",
            "Installing collected packages: numpy, funcy, pyLDAvis\n",
            "  Attempting uninstall: numpy\n",
            "    Found existing installation: numpy 1.19.5\n",
            "    Uninstalling numpy-1.19.5:\n",
            "      Successfully uninstalled numpy-1.19.5\n",
            "\u001b[31mERROR: pip's dependency resolver does not currently take into account all the packages that are installed. This behaviour is the source of the following dependency conflicts.\n",
            "yellowbrick 1.3.post1 requires numpy<1.20,>=1.16.0, but you have numpy 1.21.5 which is incompatible.\n",
            "datascience 0.10.6 requires folium==0.2.1, but you have folium 0.8.3 which is incompatible.\n",
            "albumentations 0.1.12 requires imgaug<0.2.7,>=0.2.5, but you have imgaug 0.2.9 which is incompatible.\u001b[0m\n",
            "Successfully installed funcy-1.17 numpy-1.21.5 pyLDAvis-3.3.1\n"
          ]
        },
        {
          "output_type": "display_data",
          "data": {
            "application/vnd.colab-display-data+json": {
              "pip_warning": {
                "packages": [
                  "numpy"
                ]
              }
            }
          },
          "metadata": {}
        }
      ]
    },
    {
      "cell_type": "code",
      "execution_count": 42,
      "metadata": {
        "colab": {
          "base_uri": "https://localhost:8080/"
        },
        "id": "hoXzoOhcz6XA",
        "outputId": "1659cd1f-4bfb-42aa-abd2-3a255861a69b"
      },
      "outputs": [
        {
          "output_type": "stream",
          "name": "stderr",
          "text": [
            "/usr/local/lib/python3.7/dist-packages/past/types/oldstr.py:5: DeprecationWarning: Using or importing the ABCs from 'collections' instead of from 'collections.abc' is deprecated since Python 3.3,and in 3.9 it will stop working\n",
            "  from collections import Iterable\n"
          ]
        }
      ],
      "source": [
        "import pyLDAvis\n",
        "import pyLDAvis.gensim_models\n",
        "pyLDAvis.enable_notebook()"
      ]
    },
    {
      "cell_type": "code",
      "execution_count": 43,
      "metadata": {
        "colab": {
          "base_uri": "https://localhost:8080/"
        },
        "id": "HxWKBIaez6XA",
        "outputId": "762b54df-e064-4f6c-9c89-88f07ac6615b"
      },
      "outputs": [
        {
          "output_type": "stream",
          "name": "stderr",
          "text": [
            "/usr/local/lib/python3.7/dist-packages/smart_open/smart_open_lib.py:494: DeprecationWarning: This function is deprecated.  See https://github.com/RaRe-Technologies/smart_open/blob/develop/MIGRATING_FROM_OLDER_VERSIONS.rst for more information\n",
            "  warnings.warn(message, category=DeprecationWarning)\n",
            "/usr/local/lib/python3.7/dist-packages/smart_open/smart_open_lib.py:494: DeprecationWarning: This function is deprecated.  See https://github.com/RaRe-Technologies/smart_open/blob/develop/MIGRATING_FROM_OLDER_VERSIONS.rst for more information\n",
            "  warnings.warn(message, category=DeprecationWarning)\n",
            "/usr/local/lib/python3.7/dist-packages/pyLDAvis/_prepare.py:247: FutureWarning: In a future version of pandas all arguments of DataFrame.drop except for the argument 'labels' will be keyword-only\n",
            "  by='saliency', ascending=False).head(R).drop('saliency', 1)\n"
          ]
        }
      ],
      "source": [
        "ldavis = pyLDAvis.gensim_models.prepare(topic_model=lda,\n",
        "                                       corpus=review_corpus,\n",
        "                                       dictionary=dictionary)"
      ]
    },
    {
      "cell_type": "code",
      "execution_count": 44,
      "metadata": {
        "colab": {
          "base_uri": "https://localhost:8080/",
          "height": 0
        },
        "id": "JmbIlZnmz6XA",
        "outputId": "fb647f84-075b-47e4-b5d7-d8803b380dd0"
      },
      "outputs": [
        {
          "output_type": "execute_result",
          "data": {
            "text/html": [
              "\n",
              "<link rel=\"stylesheet\" type=\"text/css\" href=\"https://cdn.jsdelivr.net/gh/bmabey/pyLDAvis@3.3.1/pyLDAvis/js/ldavis.v1.0.0.css\">\n",
              "\n",
              "\n",
              "<div id=\"ldavis_el811396894636656163132537097\"></div>\n",
              "<script type=\"text/javascript\">\n",
              "\n",
              "var ldavis_el811396894636656163132537097_data = {\"mdsDat\": {\"x\": [0.002123425797439959, -0.026411662198897533, -0.0391194050569484, -0.004634248770112003, -0.000734394690371718, -0.00848881935227408, 0.02124143223814617, 0.0024073613197462475, 0.023393065329533703, 0.030223245383737638], \"y\": [0.010384322146267047, 0.0008514855532481753, -0.0036821517583391725, -0.0012634215379131596, 0.016204984454973696, -0.0071995410604723505, 0.005593246667500724, -0.0005853621510956721, -0.04356629228607008, 0.023262729971900757], \"topics\": [1, 2, 3, 4, 5, 6, 7, 8, 9, 10], \"cluster\": [1, 1, 1, 1, 1, 1, 1, 1, 1, 1], \"Freq\": [14.093260816468462, 11.13477858036575, 11.07721376587235, 10.374808276055226, 10.117920821501922, 9.807992703107283, 9.587973041678953, 8.54091656765759, 8.335971279413965, 6.9291641478785]}, \"tinfo\": {\"Term\": [\"dress\", \"sweater\", \"great\", \"color\", \"nice\", \"look\", \"love\", \"fit\", \"skirt\", \"size\", \"black\", \"shirt\", \"fabric\", \"wear\", \"flattering\", \"perfect\", \"jacket\", \"small\", \"legging\", \"material\", \"long\", \"purchase\", \"order\", \"short\", \"soft\", \"run\", \"waist\", \"return\", \"think\", \"sleeve\", \"cartonni\", \"skip\", \"overpower\", \"bug\", \"transfer\", \"5'4_120\", \"5'1.5\", \"lady_who\", \"makeup\", \"flouncy\", \"advise\", \"already_sell_out\", \"substance\", \"115_lb_30_dd\", \"regualr\", \"soo\", \"pile\", \"jsut\", \"covet\", \"wo\", \"undecided\", \"endless\", \"satisfied\", \"aka\", \"table\", \"barely_cover\", \"emerald_green\", \"mistake\", \"worth_full_price\", \"several_inch\", \"suggest\", \"tall\", \"raspberry\", \"tank_underneath\", \"8/10\", \"size\", \"sale\", \"short\", \"shirt\", \"try\", \"like\", \"store\", \"person\", \"layer\", \"look\", \"think\", \"color\", \"small\", \"usually\", \"wear\", \"different\", \"huge\", \"xs\", \"maybe\", \"wide\", \"xxs\", \"large\", \"pretty\", \"wash\", \"cute\", \"little\", \"model\", \"cut\", \"fabric\", \"beautiful\", \"order\", \"love\", \"petite\", \"fit\", \"work\", \"purchase\", \"dress\", \"great\", \"run\", \"length\", \"buy\", \"flattering\", \"few_month_ago\", \"company\", \"eye_catching\", \"summer_staple\", \"117\", \"borderline\", \"manufacturer\", \"few_pound\", \"ddd\", \"reviewer_mention\", \"august\", \"many_occasion\", \"ps\", \"115lb\", \"transition_from\", \"handy\", \"pxs\", \"casual_friday\", \"nervous\", \"upset\", \"an_outdoor\", \"bubble\", \"princess\", \"4/6\", \"hassle\", \"25p\", \"3/4_length_sleeve\", \"catch\", \"receive_many_compliment\", \"pxxs\", \"eye\", \"hd\", \"large_cheste\", \"love\", \"order\", \"dress\", \"originally\", \"able\", \"run\", \"tie\", \"big\", \"xs\", \"jumpsuit\", \"size\", \"comfortable\", \"style\", \"large\", \"wear\", \"versatile\", \"online\", \"absolutely\", \"soft\", \"thing\", \"loose\", \"small\", \"buy\", \"pocket\", \"fit\", \"perfect\", \"fall\", \"need\", \"like\", \"design\", \"short\", \"work\", \"purchase\", \"little\", \"flattering\", \"pretty\", \"beautiful\", \"think\", \"color\", \"great\", \"length\", \"long\", \"fabric\", \"try\", \"look\", \"nude_slip\", \"goddess\", \"waiste\", \"engagement\", \"ago\", \"grant\", \"mother_'s_day\", \"exceed\", \"an_excellent\", \"dry_cleaner\", \"rehearsal_dinner\", \"special_occasion\", \"pearl\", \"occasion\", \"smile\", \"exact_same\", \"precious\", \"earring\", \"will_most_likely\", \"heeled\", \"cheap_looking\", \"triangle\", \"adjustable_strap\", \"lunch\", \"nyc\", \"dress-\", \"oatmeal\", \"closet_staple\", \"turtle_neck\", \"118_lbs\", \"tall_woman\", \"dress\", \"party\", \"formal\", \"wedding\", \"slip\", \"price_tag\", \"black\", \"machine_washable\", \"portion\", \"feminine\", \"comfortable\", \"tight\", \"wrinkle\", \"flattering\", \"little\", \"bit\", \"stunning\", \"perfect\", \"lovely\", \"small\", \"wear\", \"easy\", \"amazing\", \"look\", \"tie\", \"medium\", \"6\", \"work\", \"buy\", \"order\", \"fit\", \"run\", \"beautiful\", \"quality\", \"feel\", \"love\", \"color\", \"large\", \"find\", \"think\", \"like\", \"size\", \"material\", \"fabric\", \"shirt\", \"great\", \"cute\", \"citizen\", \"34aa\", \"overlap\", \"sausage\", \"teach\", \"107_lb\", \"bias\", \"xspetite\", \"side_boob\", \"strappy\", \"safe\", \"sash\", \"straight_across\", \"drawback\", \"friday\", \"get_several_compliment\", \"xsmall\", \"baby_shower\", \"tuck_into\", \"practically\", \"an_xsmall\", \"floor\", \"muscular_thigh\", \"store_yesterday\", \"errand\", \"5'6_130\", \"tapered\", \"padding\", \"1.5\", \"platform\", \"32b\", \"00\", \"glove\", \"waist\", \"armhole\", \"jean\", \"26\", \"fit\", \"27\", \"chance\", \"an_xs\", \"small\", \"want\", \"material\", \"run\", \"like\", \"long\", \"great\", \"buy\", \"petite\", \"sexy\", \"work\", \"blue\", \"gorgeous\", \"tank\", \"look\", \"way\", \"shirt\", \"sadly\", \"nice\", \"sleeve\", \"size\", \"order\", \"dress\", \"pretty\", \"true\", \"fabric\", \"try\", \"wear\", \"love\", \"bit\", \"perfect\", \"large\", \"color\", \"prefect\", \"periwinkle\", \"carbon\", \"dusty\", \"slide_down\", \"orangey\", \"102\", \"decide_whether\", \"mood\", \"detachable\", \"saturated\", \"repair\", \"antho\", \"tint\", \"next_time\", \"worthy\", \"burn_orange\", \"bit_longer_than\", \"capris\", \"dolan\", \"smidge\", \"statement\", \"tea\", \"ton_of\", \"public\", \"kelly_green\", \"arm_opening\", \"elastic_waistband\", \"negative_review\", \"dislike\", \"ankle_boot\", \"color\", \"background\", \"navy\", \"skin_tone\", \"tee\", \"red\", \"pilcro\", \"sleeve\", \"these_pant\", \"print\", \"cut\", \"blue\", \"beautiful\", \"nice\", \"short\", \"love\", \"skirt\", \"good\", \"wish\", \"find\", \"little\", \"lot_of\", \"soft\", \"like\", \"work\", \"buy\", \"fit\", \"tts\", \"fabric\", \"try\", \"long\", \"feel\", \"wear\", \"dress\", \"think\", \"look\", \"great\", \"store\", \"size\", \"flattering\", \"petite\", \"sweater\", \"order\", \"tummy_area\", \"feel_compel\", \"few_week\", \"surely\", \"promise\", \"mid_hip\", \"118\", \"restrictive\", \"paige\", \"dowdy\", \"150lbs\", \"cal\", \"145_pound\", \"shy\", \"vs\", \"i&#39;m\", \"after_read_review\", \"25/26\", \"dreamy\", \"subtly\", \"macrame\", \"graze\", \"abt\", \"instantly_fall\", \"problematic\", \"statement_piece\", \"me-\", \"5'4_140\", \"associate\", \"it&#39;s\", \"inch_above\", \"basic\", \"interest\", \"bill\", \"someone_tall\", \"comfy\", \"jacket\", \"medium\", \"fit\", \"ivory\", \"leather\", \"order\", \"waist\", \"hit\", \"look\", \"perfect\", \"small\", \"wide\", \"length\", \"issue\", \"try\", \"large\", \"love\", \"chest\", \"size\", \"like\", \"black\", \"long\", \"tight\", \"way\", \"want\", \"dress\", \"great\", \"true\", \"wear\", \"little\", \"bit\", \"material\", \"color\", \"feel\", \"flattering\", \"beautiful\", \"big\", \"cute\", \"buy\", \"fabric\", \"skimpy\", \"birthday_gift\", \"cocoon\", \"dolman\", \"tops\", \"g\", \"sticky\", \"market\", \"ensure\", \"frequently\", \"suggestion\", \"amount_of_stretch\", \"lifestyle\", \"puff\", \"web\", \"excessive\", \"high_waiste_jean\", \"notch\", \"process\", \"plane\", \"sharp\", \"frilly\", \"maker\", \"sh\", \"modal\", \"north\", \"happily\", \"acrylic\", \"hear\", \"content\", \"sweater\", \"dark_gray\", \"moss\", \"bad\", \"thick\", \"shed\", \"look\", \"button\", \"fact\", \"soft\", \"picture\", \"design\", \"oversized\", \"fabric\", \"warm\", \"super_soft\", \"mail\", \"wear\", \"summer\", \"great\", \"buy\", \"feel\", \"expect\", \"arm\", \"knit\", \"photo\", \"love\", \"cute\", \"sleeve\", \"bit\", \"cool\", \"winter\", \"usually\", \"tunic\", \"return\", \"beautiful\", \"small\", \"color\", \"quality\", \"like\", \"fit\", \"think\", \"size\", \"big\", \"dress\", \"order\", \"medium\", \"material\", \"perfect\", \"little\", \"try\", \"unzipped\", \"127\", \"nicer\", \"wearer\", \"linen_blend\", \"bikini_bottom\", \"cocktail_party\", \"great_layering_piece\", \"satin\", \"heavenly\", \"impression\", \"shirtdress\", \"week_pregnant\", \"dip\", \"5'3_135\", \"elevense\", \"distract\", \"forearm\", \"maintain\", \"felt\", \"quickly_become\", \"cranberry\", \"switch\", \"birthday\", \"half_tuck\", \"3rd\", \"hemming\", \"slight_sheen\", \"3_season\", \"purse\", \"dog\", \"thick_enough\", \"label\", \"skirt\", \"bummer\", \"believe_how\", \"wait\", \"blouse\", \"material\", \"length\", \"jacket\", \"5'11\", \"these_pant\", \"brand\", \"perfect\", \"nice\", \"need\", \"wear\", \"love\", \"flattering\", \"size\", \"color\", \"great\", \"quality\", \"large\", \"fit\", \"white\", \"fabric\", \"thin\", \"petite\", \"definitely\", \"tight\", \"purchase\", \"shape\", \"think\", \"like\", \"bit\", \"cute\", \"dress\", \"look\", \"run\", \"buy\", \"beautiful\", \"feel\", \"try\", \"order\", \"trench\", \"covered\", \"rinse\", \"answer\", \"2_3_inch\", \"loungewear\", \"somewhat_sheer\", \"coh\", \"these_sock\", \"pilcro_pant\", \"overprice\", \"pooch\", \"useful\", \"snuggly\", \"ultra\", \"li\", \"gape_open\", \"moth\", \"balance_out\", \"few_week_ago\", \"5'4_130\", \"degree\", \"hei_hei\", \"san\", \"sunday\", \"5'7_128\", \"tack\", \"smell\", \"ready\", \"rip\", \"high_rise\", \"legging\", \"right_above\", \"these_jean\", \"great\", \"bootie\", \"hide\", \"black\", \"wear\", \"fabric\", \"fit\", \"jacket\", \"happy\", \"look\", \"return\", \"expect\", \"feel\", \"regular\", \"flattering\", \"versatile\", \"probably\", \"jean\", \"love\", \"comfortable\", \"pant\", \"size\", \"petite\", \"pair\", \"day\", \"perfect\", \"like\", \"buy\", \"soft\", \"quality\", \"design\", \"thin\", \"shirt\", \"little\", \"length\", \"order\", \"dress\", \"color\", \"skirt\", \"pretty\", \"cottony\", \"stripe_version\", \"defeat\", \"warm_climate\", \"purpose\", \"plenty_roomy\", \"serve\", \"an_interesting\", \"fab\", \"bordeaux\", \"thi\", \"teacher\", \"lengthen\", \"criss_cross\", \"robe\", \"an_average\", \"flowey\", \"army_green\", \"vanity\", \"hand_washing\", \"curl\", \"better_suited\", \"115_lbs\", \"claim\", \"rave\", \"immediately_catch\", \"slinky\", \"nursing\", \"t.\", \"church\", \"layer_underneath\", \"gently\", \"cold_water\", \"gray\", \"nice\", \"alternative\", \"purchase\", \"quick\", \"great\", \"shape\", \"shirt\", \"long\", \"flat\", \"cut\", \"think\", \"pant\", \"coat\", \"sheer\", \"return\", \"size\", \"fabric\", \"piece\", \"black\", \"wear\", \"arm\", \"white\", \"color\", \"flattering\", \"look\", \"day\", \"run\", \"short\", \"good\", \"retailer\", \"material\", \"like\", \"bit\", \"small\", \"dress\", \"fit\", \"little\", \"soft\", \"love\", \"buy\", \"order\"], \"Freq\": [12241.0, 2816.0, 6124.0, 6859.0, 3052.0, 9127.0, 10021.0, 9638.0, 2107.0, 9037.0, 1823.0, 2760.0, 4904.0, 10048.0, 3516.0, 3710.0, 1172.0, 5027.0, 817.0, 2783.0, 2658.0, 2288.0, 4889.0, 2796.0, 3036.0, 2966.0, 1989.0, 1726.0, 3389.0, 1854.0, 7.2747929327452, 10.3286503884649, 6.5295152755692065, 6.3725126512819, 6.9771880973908225, 7.352584794974762, 11.464635382865692, 6.724444214593862, 9.519304911211917, 5.97606493433984, 9.839305481740961, 8.075455223678508, 5.9127117884031115, 9.946557800196931, 6.543477542435197, 7.819500531476535, 8.99034260773891, 15.711497649535184, 6.783046971672832, 5.519779975674482, 8.021819138420799, 7.235694824077581, 5.711594753478297, 5.196236334955915, 5.635394712963196, 5.9396337931327805, 5.468347991438534, 19.379649396590803, 11.806586062076974, 5.077552887214054, 55.088085782916835, 185.55697400900357, 12.172179499250065, 35.147105822339554, 13.700950028046684, 2135.690808173917, 311.84310435808095, 742.7951550518601, 706.004833667675, 865.3070536517788, 1548.6196543229573, 433.73033596560026, 309.9736839823898, 160.59582197178966, 1647.4440254324684, 708.4238593541334, 1195.4694545791801, 917.1004832893202, 421.0419360505095, 1562.7856827271614, 187.21759251307162, 130.8128763535049, 308.02204682490174, 142.7695418953467, 183.69592911271053, 66.45999324092861, 575.878103000156, 432.63015572768853, 215.55225725518432, 478.7282593744723, 609.7352345374632, 283.75328446879394, 341.3139254492129, 708.3295056500949, 474.9434119977331, 688.2507565763034, 1089.9903053559178, 386.15363421332586, 976.2262857132014, 423.2626250352115, 373.85465229644075, 888.0386731342276, 592.9577951834992, 420.96102323556505, 392.5558774133272, 369.35279032611345, 352.74974817989744, 7.371400888819289, 13.982765110310966, 10.09290585391674, 12.83193225761666, 8.843134039649623, 6.036560735929558, 6.622050854397601, 5.19467562968576, 6.620205015211966, 7.105397796266428, 5.574899102454052, 8.348766959047056, 14.13544308767381, 4.2280147663270995, 5.921849177576626, 4.574000233628379, 15.504223649864892, 6.907968124765616, 12.379783382573924, 5.472710935588458, 4.773674878145888, 9.155183225196927, 7.278763041067568, 11.118192749156204, 5.91077125317965, 7.509549073916313, 6.787637323417773, 60.450097428531095, 35.315470339625044, 4.564758242303341, 94.91453684244112, 8.433025060120162, 7.458450862936141, 2180.917523148277, 1000.8173613221694, 2154.9824193338923, 36.80207752017219, 107.42238563738695, 543.5502020582804, 124.37724076488753, 391.0169199961784, 283.879817225128, 66.36188777315738, 1307.6264504702199, 486.5782137937782, 333.8151627265003, 520.1343154142331, 1279.8972570081553, 115.91658755366502, 265.37944986299703, 142.20663402590733, 442.6201116322695, 135.14794685776255, 213.92516692800683, 636.3560641023878, 538.8814902970996, 140.7986714820047, 941.6380795954368, 464.6249450249406, 257.36955124131435, 239.87889423614294, 739.7353156626674, 259.9735911612057, 361.42173170914145, 357.38082980965396, 298.832950561849, 404.4488705135099, 388.834484275253, 295.3114460157492, 325.6087003927559, 348.74158918069276, 479.5878788101462, 454.00453448908416, 295.3934686371646, 297.0506690016965, 352.48990410601067, 318.80304178474864, 390.4249306416153, 8.244604311443313, 9.280951434655977, 10.787332981874371, 6.447439953217809, 8.619664592128409, 6.348035210718514, 7.58084142507447, 11.842699242506619, 10.902379915764952, 8.034621011352066, 10.288351429073554, 15.332067516098062, 6.885064072017618, 51.34157961439264, 6.668318256831525, 6.340081484482119, 9.569215497251419, 8.457044766815848, 6.532579316100243, 6.021692632438725, 5.176254238080381, 9.53897573396009, 5.417624986792369, 12.645068024515494, 5.5684780604771476, 6.368128121711053, 7.7848830411884, 4.93778863201798, 5.763683526106773, 5.740770470984571, 9.10968639756329, 4298.653724339399, 40.4258479504448, 20.60674059597079, 92.12586673397908, 154.63399837909444, 18.91171078778302, 458.9770018621705, 18.815388986769676, 44.11935310419182, 124.07648680427813, 558.5449809393232, 346.6307641328852, 67.14086141036677, 604.9899986675864, 621.4464742372639, 437.76386786395017, 67.4022462308644, 541.8807903392359, 199.43189425722107, 632.8219206015327, 1040.3775214373052, 136.72531775843896, 109.01753472566901, 912.5979833653129, 111.42962683028945, 321.6570262459237, 159.88241636059055, 365.87228724529274, 477.81873135645753, 535.5676094491367, 852.1802404411184, 375.23954133175357, 362.2078409092172, 245.68677809821008, 357.79996713193947, 809.0557724284927, 589.5767760428997, 357.1171670408328, 259.62620686909975, 353.5114559138876, 553.4013008441756, 598.706145962449, 302.90793281972805, 371.836315567828, 285.90962166085654, 369.446068493449, 279.6435603367398, 11.973225722328156, 6.825493529762216, 6.031437212914557, 5.218757443787531, 4.982504385526612, 6.82175384055283, 6.759888212726956, 7.20152227951676, 5.190115593327938, 6.285079210665647, 5.8216881058624095, 5.971811398946712, 4.702389203240624, 7.841247576044421, 5.075755866538217, 6.690739344028256, 16.269924794699143, 4.537780190929587, 10.354680233170352, 8.07674954287939, 5.787009064821888, 26.021877425842188, 7.398221317261819, 9.003914797575598, 11.49845748610973, 4.959894726063444, 4.158479789991967, 9.689902403273926, 5.5997930851316475, 9.314918951264254, 17.685276401257084, 26.14580251153934, 43.74500452763278, 466.4092385935941, 63.59973601876951, 349.02160344122655, 51.99111922602071, 1496.8076432263622, 55.07499216844371, 40.16121928476781, 130.82601372708672, 773.8689791519404, 360.00816116158614, 449.8442644731105, 469.8017443483169, 999.0623257720299, 426.8419176446186, 823.1577814182541, 588.7296576481742, 364.58419932689463, 56.29568456773443, 410.57282047344665, 199.07909840927536, 180.83265172155944, 122.35480388930169, 1016.3863752703331, 308.42399273089706, 387.8667197943529, 77.01597489496889, 407.2048296044667, 280.13516831733693, 888.9947222811076, 555.0643692817991, 1024.5099586133504, 309.1171043599309, 247.6359861174653, 515.4857754235162, 402.6465130433096, 790.7493485996413, 736.7536390440285, 307.8575905715459, 360.22593998593595, 334.01563821928715, 394.2393101938521, 6.656534579376497, 9.039776370143848, 8.585455385635289, 10.340772516700525, 5.758319302570506, 4.679894028390858, 5.173351114534758, 9.171762540980163, 5.661716749356137, 6.816827344261672, 6.011750183405509, 5.1802811142464495, 5.28716671135839, 4.991066655484132, 8.125669014115916, 5.747703954741311, 10.666637403289718, 7.3408668938190775, 16.273891188521027, 10.50454659658943, 4.7278785660925635, 13.08603581213395, 5.98926565925569, 19.048442987363337, 7.576500386207948, 4.46366806076691, 4.7922071313656485, 8.617225291766076, 6.110149278191506, 8.526791364695464, 10.670478776729516, 1658.4879180648772, 16.545249228863497, 132.9143234718359, 18.358433001457016, 171.25180949500398, 175.2359160998331, 52.47246207417641, 392.90332666429913, 137.42846009845252, 207.31955914888806, 356.03283872914983, 224.88191344990364, 489.8667994544943, 502.3421041473701, 459.6753715045062, 1257.5389416232695, 344.61706599414276, 336.4313774890996, 179.75482950170155, 315.54659597121656, 503.3546844851756, 150.98899291958443, 427.74078064603543, 854.5430089687209, 390.0847412189692, 529.0874848174408, 974.1942678973562, 115.60038548781135, 553.2722259057806, 411.28841449172955, 334.389510102055, 358.07996296936096, 841.7925236151063, 928.5140861835625, 388.7472921562476, 665.9257731333347, 426.24980266617456, 240.49699971697754, 446.5520096344999, 304.56013291148093, 261.23235698389243, 255.21796487171227, 265.13961511651684, 11.737567839945802, 7.727705810983126, 10.223914428101411, 5.723799342836766, 6.556073451809177, 6.298494940895012, 10.724402767732794, 10.086268191357464, 16.358103113213716, 11.020017470439956, 7.036148669182348, 5.047975786077204, 6.796611335782111, 5.559803941247248, 9.115185869031244, 5.646900559740691, 5.933390328482182, 4.994311808740321, 10.36169664083162, 4.431321779809445, 4.9417407293037, 4.2198038617384155, 6.904026547773264, 4.800722724387084, 4.596101770111129, 10.955780087668789, 9.22781543288054, 4.890655932839893, 3.8673050231106583, 7.326176722143853, 10.077904577485988, 64.17456913695895, 15.166146343387565, 24.659659580565066, 11.748004542249515, 174.31793351058553, 263.025386071679, 468.42757547023405, 1576.9976345319467, 67.52287090840531, 25.683542759930358, 728.9433014821753, 346.07978606858387, 156.5637336792318, 1156.0497205660786, 554.5372846182656, 701.1144532255628, 147.7493019689018, 380.0619970786601, 71.21101084529884, 459.24680263858943, 425.4706352406347, 961.7375871780521, 160.06963961734132, 863.0950280936639, 754.3369027193173, 261.1088430839884, 333.15204441666384, 237.2516686913844, 252.808880516968, 260.4603001639375, 888.0293068120844, 521.8650735312643, 216.01672793225538, 697.477568236902, 361.6733667440541, 288.53184010597386, 279.1702933813228, 447.21427452581685, 286.9177193460352, 300.567742168352, 266.5457883587836, 228.95917535073224, 238.90108794478306, 248.92427782140197, 245.6855654234383, 7.051098092314868, 6.811572416085561, 6.884385833262042, 7.886280085698398, 5.979907621954127, 10.095857445114133, 7.876176312422469, 6.371481082585746, 11.786288944428874, 7.300425438003988, 5.623724024007328, 5.385702113949769, 5.5046396755220455, 7.6408815112837996, 8.007479871729, 5.698645414987789, 9.580200350964894, 12.788910378521432, 4.8039635418958735, 6.131294332123527, 8.357611797114618, 6.41609861747976, 5.178860161045393, 4.565152607753871, 5.238132574351056, 8.581465749028856, 5.86500296861887, 9.33390470592456, 8.095640162764163, 4.4204413256718675, 1127.0781011373222, 11.067249163777912, 30.284657922057512, 95.0703564036271, 182.59438979041462, 19.43913803182591, 1439.4613514585387, 236.8454794126488, 30.264328112314193, 505.31288319897044, 294.4255739586868, 301.6829122841876, 55.540886678931344, 673.2881778862137, 145.5300132786428, 78.362664790658, 44.232764100488, 1066.5224503373506, 218.14819604166692, 717.4791677818417, 526.9927515357299, 404.34077449686714, 153.3077264936518, 189.09743815116755, 100.221958625885, 166.99211665475596, 842.7628401136425, 317.17678630562887, 244.4546627698807, 314.577345748597, 89.30585733255363, 88.47663993474899, 247.60600505983814, 97.76956372489306, 225.03046501571862, 321.265130948321, 464.60713352585617, 546.1545667943517, 215.91060903808594, 557.353238226465, 634.2138627467056, 326.14271576853923, 504.9851496059279, 237.29786459438327, 546.783238438196, 334.9636581463543, 243.06593488797947, 254.24263306558984, 242.07202044128363, 241.7652592505721, 238.18566596420908, 6.6346668875234505, 6.857476848616239, 6.16423225911959, 5.626228861779369, 5.117852218933885, 5.427114732070405, 5.47765469459863, 7.354354155620615, 6.158491614383185, 5.114797000441369, 6.631720580446626, 8.423376055960963, 4.760076318768684, 14.700576681006847, 4.426597162391327, 4.642167680370138, 4.711014575426113, 4.678777429587251, 7.874820282210838, 4.214632118836638, 5.72706436935642, 5.115020522125899, 4.625666334481023, 14.512767809529052, 4.588125455980335, 3.9200539672443053, 5.955036858194179, 4.2342779652509, 4.36806740775148, 3.6436393270421976, 6.61385974147908, 19.495428351485327, 19.050246607786136, 574.22361601423, 21.661753660715192, 7.634319814538999, 154.69823075685107, 217.46799292558194, 453.546565938685, 402.8413012096753, 201.57669280246415, 14.369782317667473, 109.66460651752288, 84.6645887918501, 503.5627405421419, 413.01348559716445, 222.41107176640512, 1020.5706004170809, 1003.527412636429, 436.1601704261284, 891.6557137470886, 690.2942906897983, 603.3823730900917, 227.49511743866412, 363.6055533892863, 810.4819181914606, 201.57442339249997, 470.7442356976131, 161.55217305010456, 258.42383192328725, 157.77268351194337, 210.27550329588598, 249.99805981618107, 146.77945901955545, 320.59482445678094, 544.9582371952296, 255.0366159762116, 242.92163429608186, 562.1322807754234, 444.1655545999588, 251.04585855419734, 283.92829186691364, 242.43458244510822, 243.0704427494475, 250.1236473425918, 235.15145825496774, 18.509452438332875, 8.00385264635134, 8.671844790371694, 7.220590816876502, 6.660234677977291, 8.153836666164965, 7.462905164420116, 8.153677837161915, 10.151851139500657, 14.351499486093317, 11.112526201405268, 11.832995571635548, 8.525654744292394, 10.279408751288353, 13.908823896231844, 8.597087006893503, 7.539350119798406, 13.865016755951036, 6.432740868652092, 5.385112180677147, 6.016413588969673, 6.9638675268966965, 12.896937296048225, 5.563643396245118, 7.5371234236972855, 6.153756797777941, 10.236307380351834, 23.668670841937335, 19.79540126433116, 40.20670555781094, 22.400617162290423, 284.17618974781897, 13.036793340367776, 82.15563549662215, 891.1123340916163, 66.51825887388601, 72.51034690492169, 298.4388117374665, 1081.8681174348503, 599.1647611188472, 992.2900033901718, 199.9432538227668, 138.92268846418258, 878.2122844887223, 255.33489953689923, 150.95632523742933, 371.2897127453939, 183.42232814238122, 414.96804950285815, 105.5466559369016, 131.4581455687972, 237.1316768325862, 804.4412679077662, 331.74111794277155, 199.9249804532642, 719.9726569347026, 280.10996950601, 190.90594535041302, 150.50048970674706, 370.49296219288186, 554.8119313524479, 372.18150855096826, 307.3148636568719, 213.64873580632394, 213.76862018503047, 165.0859906652088, 262.77364415250526, 301.2768400533122, 248.6938151870056, 338.3202824659199, 513.5954367261123, 365.35774983517024, 225.3097560303462, 215.31823751632479, 7.974174019081098, 5.501218436683897, 7.051983573416026, 7.199516044186984, 19.581504399630827, 5.467877890123782, 7.113265533328032, 15.91505629442366, 7.320386762959207, 8.710939942160595, 7.768279024556301, 12.819756343276177, 5.001999990776637, 5.356250425758366, 21.00490085032615, 9.07511481619557, 5.255051353793225, 4.810437614378326, 4.568320138250777, 4.616776202938266, 4.596576971944234, 3.9697738233004456, 8.835352204637621, 5.100140923827549, 4.032798557656685, 4.129402715541812, 4.675921112979082, 4.567154521385938, 6.244506985295723, 11.746898744553128, 10.824814123953793, 7.004503051446179, 19.688665121537113, 85.37504372095174, 548.601809411548, 17.048127328123122, 352.9872124737347, 9.530727684166248, 725.3178825400062, 173.84882619397348, 364.6736203777993, 336.1488376178967, 65.79933401424086, 236.92137087651358, 375.29607334522444, 186.62504733811895, 86.93037217835833, 98.38611842651834, 212.82000188960555, 680.3824307977163, 414.5584467440738, 139.35677551759343, 201.17758433519714, 666.7535760715018, 145.33354508657507, 169.97205333918401, 493.01543262201074, 309.1628622760118, 576.5867076186075, 120.9556500657577, 263.4513326535769, 252.53062971835953, 205.917100661831, 174.58763721213404, 245.43784339010722, 429.8175417451028, 226.25356313528374, 318.5022305007747, 435.88896618453293, 383.5569218165335, 236.6319814462642, 212.42828064821651, 334.76491699900464, 205.1015037979141, 207.15691836402422], \"Total\": [12241.0, 2816.0, 6124.0, 6859.0, 3052.0, 9127.0, 10021.0, 9638.0, 2107.0, 9037.0, 1823.0, 2760.0, 4904.0, 10048.0, 3516.0, 3710.0, 1172.0, 5027.0, 817.0, 2783.0, 2658.0, 2288.0, 4889.0, 2796.0, 3036.0, 2966.0, 1989.0, 1726.0, 3389.0, 1854.0, 11.567184950466414, 16.691921154466485, 10.661074770215007, 11.238999378606497, 12.605891863654719, 13.379060577771696, 21.56991237413572, 12.777060517674105, 18.1684711358251, 11.424834698607903, 19.020559486174943, 15.726012849446613, 11.570993456820474, 19.575165060422282, 12.94031567884113, 15.672992434502056, 18.184907507922308, 31.82521300013522, 13.787684018702791, 11.361337064696915, 16.59460101878152, 15.394421187160964, 12.234211759199479, 11.212694402428568, 12.175894141266316, 12.87120076440321, 11.850126610444217, 42.87094049699967, 26.56316860531718, 11.427589301242547, 129.77444745813202, 523.1184432749694, 28.081076372722226, 89.9816593023982, 32.149841770667635, 9037.661115701292, 1046.7524742310814, 2796.4948796138397, 2760.717760969581, 3497.2658918015086, 7536.639456809114, 1780.278822435547, 1248.7361571937654, 571.0393347066502, 9127.25470657497, 3389.04671164785, 6859.3976521581035, 5027.277468328623, 1965.6471379237614, 10048.794645885055, 745.090463333745, 477.19175646903994, 1405.738336083978, 542.3760974532656, 754.4785197953398, 209.5892247026804, 3242.1619857763103, 2278.5882799942324, 935.4568447316447, 2619.6229373392025, 3711.254151763102, 1373.640322823535, 1852.750613656963, 4904.854913523416, 2917.813099801355, 4889.375330459367, 10021.49020643488, 2267.372473311786, 9638.586857550292, 2767.3592461208655, 2288.354434011383, 12241.128090540782, 6124.9728132852815, 2966.6379117571455, 2569.5355851673107, 4140.998488018214, 3516.532044926445, 10.920641715785177, 23.288569307731414, 17.04740644574557, 21.928381008381578, 15.574467283027424, 10.673573673802187, 12.729260138886483, 11.238062403883536, 14.330343364708057, 15.794107698591443, 12.630889024599352, 19.201458160349915, 33.24972331226207, 10.277020539516394, 14.859376316824408, 11.67280026171571, 39.57770951361894, 17.64342695000252, 31.82923385817339, 14.080189134820268, 12.330442197314902, 23.780190400091293, 18.949820809583265, 29.031821788998275, 15.47531936029582, 19.755760449489358, 17.8677434562429, 159.21860321389235, 93.30167133488717, 12.077200454908203, 263.2178904803969, 22.462359751677408, 19.908739145039355, 10021.49020643488, 4889.375330459367, 12241.128090540782, 121.67680324923708, 415.49504564952497, 2966.6379117571455, 524.9813764500682, 2032.036959103758, 1405.738336083978, 254.95061158723072, 9037.661115701292, 2810.180839273458, 1792.1648450167, 3242.1619857763103, 10048.794645885055, 524.3395829931183, 1515.6913100972129, 689.7064899023583, 3036.134267178282, 653.5819905024135, 1187.9722967014943, 5027.277468328623, 4140.998488018214, 706.4608593311876, 9638.586857550292, 3710.272021390938, 1633.8282524360056, 1481.266936465922, 7536.639456809114, 1705.0760804614702, 2796.4948796138397, 2767.3592461208655, 2288.354434011383, 3711.254151763102, 3516.532044926445, 2278.5882799942324, 2917.813099801355, 3389.04671164785, 6859.3976521581035, 6124.9728132852815, 2569.5355851673107, 2658.9723687380597, 4904.854913523416, 3497.2658918015086, 9127.25470657497, 11.776289782131798, 14.116647123533651, 17.413500578960466, 11.077516126277342, 15.468508668917837, 11.668334869873105, 14.126722254346339, 23.263749826189056, 21.45548127854984, 15.852731711996123, 20.762724526405076, 31.195290099303044, 14.16596150625895, 106.8044116484024, 13.9035422106928, 13.318411907993816, 20.4773789297275, 18.64701148574088, 14.541307559129333, 13.60126058524203, 11.794903304873435, 21.93613744869773, 12.55441772808431, 29.307017168023695, 12.92609276880893, 14.967539403889889, 18.524327290108513, 11.905778279344082, 14.054552049005574, 14.122709401740392, 22.455793966151024, 12241.128090540782, 103.14924750104724, 51.95843577539648, 252.96975958342807, 469.32130805738734, 50.499498243128244, 1823.5157211111928, 50.981772758692514, 137.7244947204958, 465.70645404792066, 2810.180839273458, 1715.246254078108, 234.61485300628675, 3516.532044926445, 3711.254151763102, 2648.194180563682, 255.2044622413072, 3710.272021390938, 1079.7261428666243, 5027.277468328623, 10048.794645885055, 674.4826327557955, 501.80640053725676, 9127.25470657497, 524.9813764500682, 2302.143074116611, 876.3589783703392, 2767.3592461208655, 4140.998488018214, 4889.375330459367, 9638.586857550292, 2966.6379117571455, 2917.813099801355, 1695.4001257032971, 2948.4055019595517, 10021.49020643488, 6859.3976521581035, 3242.1619857763103, 1973.3286485817994, 3389.04671164785, 7536.639456809114, 9037.661115701292, 2783.645175245186, 4904.854913523416, 2760.717760969581, 6124.9728132852815, 2619.6229373392025, 22.406096246051092, 13.418129690226312, 12.395856656302689, 10.778123750918493, 10.730755646288603, 14.787035878310334, 14.694167603416886, 16.11083788541907, 11.671092314159834, 14.264621706932516, 13.322329621103746, 13.761640626231701, 10.84881239352392, 18.097381023423797, 11.752775758025388, 15.562437163960578, 38.05101077370511, 10.691174175238723, 25.209079816020115, 19.823918962541406, 14.284261348796013, 65.49852222271859, 18.780440255903212, 23.06609843523813, 29.815408887201098, 13.034777387379696, 10.942021517793675, 25.67267309501816, 14.942936465255237, 25.02221552962463, 48.09061376676211, 73.46325135220178, 137.26127468395467, 1989.2557056640685, 227.60881140689906, 1700.3319907014354, 184.22776036753996, 9638.586857550292, 199.1362241346464, 137.25745931733786, 572.0131068808214, 5027.277468328623, 2052.885286641952, 2783.645175245186, 2966.6379117571455, 7536.639456809114, 2658.9723687380597, 6124.9728132852815, 4140.998488018214, 2267.372473311786, 218.32242943371298, 2767.3592461208655, 1098.9919666294713, 972.8332377651539, 592.4064843352554, 9127.25470657497, 1960.6240870107017, 2760.717760969581, 331.32576118929484, 3052.042704000591, 1854.485132444811, 9037.661115701292, 4889.375330459367, 12241.128090540782, 2278.5882799942324, 1666.8813908343357, 4904.854913523416, 3497.2658918015086, 10048.794645885055, 10021.49020643488, 2648.194180563682, 3710.272021390938, 3242.1619857763103, 6859.3976521581035, 11.060471169295992, 15.668767625561184, 15.69914814259077, 19.242171051356777, 11.960638964658685, 9.928298626604017, 11.247717526828474, 20.305911133477476, 12.975543193731006, 15.683770155626714, 13.922913495932411, 12.031918553518679, 12.542799688683544, 11.85868852087892, 19.416917921794795, 13.78737246250611, 26.437546549555176, 18.594190048001064, 41.34787014640337, 26.76976439206903, 12.049997227790998, 33.38436636224371, 15.279529794866308, 49.39988277067298, 19.747410980733576, 11.744195385616091, 12.632522679829634, 22.826888523223825, 16.452038481222555, 23.092920821834646, 29.126741237578, 6859.3976521581035, 48.14262570018142, 479.2771865802376, 54.09043175588882, 697.2091887748501, 720.1351685354772, 181.79285787725436, 1854.485132444811, 569.4565743557314, 958.0623564356656, 1852.750613656963, 1098.9919666294713, 2917.813099801355, 3052.042704000591, 2796.4948796138397, 10021.49020643488, 2107.403385628061, 2055.7850733214027, 940.5706349495583, 1973.3286485817994, 3711.254151763102, 793.8869210557215, 3036.134267178282, 7536.639456809114, 2767.3592461208655, 4140.998488018214, 9638.586857550292, 568.0050951769318, 4904.854913523416, 3497.2658918015086, 2658.9723687380597, 2948.4055019595517, 10048.794645885055, 12241.128090540782, 3389.04671164785, 9127.25470657497, 6124.9728132852815, 1780.278822435547, 9037.661115701292, 3516.532044926445, 2267.372473311786, 2816.7868334654345, 4889.375330459367, 16.410865172715805, 11.540077675746996, 18.125386622402967, 10.626837750513351, 12.636502716957493, 12.168158977902902, 22.128745029907492, 20.860477050153133, 34.3097020601376, 23.830991258822337, 15.52419838278142, 11.286747082993463, 15.214255494725368, 12.772729978041664, 21.079836993829055, 13.181546006871535, 13.896615310495978, 12.017980660678445, 25.28260161616239, 10.968738674591153, 12.275618430760124, 10.53495742813421, 17.300355791835223, 12.106545625199995, 11.730452136789713, 28.00477429135306, 23.69020611462634, 12.805791394039568, 10.19159266292286, 19.309008583760544, 26.672154465409964, 187.00625372179317, 43.253631170223656, 75.12503906495925, 33.13894988828763, 713.3549272591608, 1172.9067511871656, 2302.143074116611, 9638.586857550292, 254.08857659800861, 82.93884990103066, 4889.375330459367, 1989.2557056640685, 756.2070190206306, 9127.25470657497, 3710.272021390938, 5027.277468328623, 754.4785197953398, 2569.5355851673107, 310.36813060002055, 3497.2658918015086, 3242.1619857763103, 10021.49020643488, 923.7008378762768, 9037.661115701292, 7536.639456809114, 1823.5157211111928, 2658.9723687380597, 1715.246254078108, 1960.6240870107017, 2052.885286641952, 12241.128090540782, 6124.9728132852815, 1666.8813908343357, 10048.794645885055, 3711.254151763102, 2648.194180563682, 2783.645175245186, 6859.3976521581035, 2948.4055019595517, 3516.532044926445, 2917.813099801355, 2032.036959103758, 2619.6229373392025, 4140.998488018214, 4904.854913523416, 11.339378547779429, 13.115143216191608, 13.486421479144276, 15.677365812417914, 12.152277123287462, 20.629263415162644, 16.17071504436562, 13.481137587951114, 25.027041239304793, 15.810342668778217, 12.228028587762715, 11.836523975200484, 12.114808281823521, 16.971191239461927, 18.03935550614834, 12.841417553213855, 21.711606836561494, 29.817325572909944, 11.210383477855538, 14.337170717447167, 19.65299955828809, 15.107801346635707, 12.195036187703092, 10.84881813903815, 12.636756214181926, 20.878303109094006, 14.534249058831225, 23.259044915100485, 20.183577194947055, 11.033313604164722, 2816.7868334654345, 27.66771144478212, 84.84126384248685, 306.19084421133164, 681.176176774362, 54.31081596924787, 9127.25470657497, 1124.1581838708835, 96.62873510531765, 3036.134267178282, 1648.211687949632, 1705.0760804614702, 215.05460813262897, 4904.854913523416, 724.2415056341392, 334.36449898442146, 162.86300819793684, 10048.794645885055, 1299.911120421164, 6124.9728132852815, 4140.998488018214, 2948.4055019595517, 842.922401212969, 1166.9192061281346, 495.676908898702, 1011.1731307483578, 10021.49020643488, 2619.6229373392025, 1854.485132444811, 2648.194180563682, 450.9431582008024, 445.3338613159389, 1965.6471379237614, 513.6933825334643, 1726.4898503262696, 2917.813099801355, 5027.277468328623, 6859.3976521581035, 1695.4001257032971, 7536.639456809114, 9638.586857550292, 3389.04671164785, 9037.661115701292, 2032.036959103758, 12241.128090540782, 4889.375330459367, 2302.143074116611, 2783.645175245186, 3710.272021390938, 3711.254151763102, 3497.2658918015086, 11.986629928309592, 12.84069555323932, 12.231756074393754, 11.763620382331808, 10.824189835730406, 11.4922463545806, 11.792573015606083, 16.026787187249006, 13.68187200110325, 11.668166822185906, 15.597346389394632, 21.276706626817468, 12.658988896277203, 39.41212004050314, 11.889332249921171, 12.570153511343488, 12.850889823204547, 12.783633483705838, 21.5230420419973, 11.526535933763977, 15.671810327589546, 14.240392947365418, 12.901874149300536, 41.30228929748255, 13.253847450210733, 11.463222093863783, 17.450649580132005, 12.480869506366188, 12.883193822089625, 10.793135807077705, 19.798926300111038, 59.96033708422399, 59.33087878358582, 2107.403385628061, 68.30074895782307, 23.07808233882331, 656.8578352173973, 1011.0125050919828, 2783.645175245186, 2569.5355851673107, 1172.9067511871656, 48.96550582930681, 569.4565743557314, 417.5769693432463, 3710.272021390938, 3052.042704000591, 1481.266936465922, 10048.794645885055, 10021.49020643488, 3516.532044926445, 9037.661115701292, 6859.3976521581035, 6124.9728132852815, 1695.4001257032971, 3242.1619857763103, 9638.586857550292, 1474.247708841557, 4904.854913523416, 1123.0034109128094, 2267.372473311786, 1131.6434783689658, 1715.246254078108, 2288.354434011383, 1077.4345820540293, 3389.04671164785, 7536.639456809114, 2648.194180563682, 2619.6229373392025, 12241.128090540782, 9127.25470657497, 2966.6379117571455, 4140.998488018214, 2917.813099801355, 2948.4055019595517, 3497.2658918015086, 4889.375330459367, 29.129062885564473, 13.024522237664112, 14.29582411992411, 12.212400353495152, 11.939410875299279, 14.794841659207421, 13.627297847062769, 15.445038380740028, 19.59863452788098, 28.535833891890963, 22.48417831185971, 23.97567065684726, 17.725395374059293, 21.76846542935942, 29.889145987202177, 18.958539861066765, 16.645321388812434, 30.955821191656206, 14.833213238065332, 12.54174239258018, 14.062781905160044, 16.453915561213208, 30.84273648945072, 13.329681784597497, 18.180776983224785, 15.20288617933722, 25.358417640689737, 58.65028766940144, 49.8960791232757, 101.6034642111955, 57.627515409283085, 817.344030424476, 33.75066911657603, 333.4603784159589, 6124.9728132852815, 260.029750392721, 289.9215333448617, 1823.5157211111928, 10048.794645885055, 4904.854913523416, 9638.586857550292, 1172.9067511871656, 749.7657687200509, 9127.25470657497, 1726.4898503262696, 842.922401212969, 2948.4055019595517, 1114.7675015954205, 3516.532044926445, 524.3395829931183, 727.9794929290248, 1700.3319907014354, 10021.49020643488, 2810.180839273458, 1382.409483591622, 9037.661115701292, 2267.372473311786, 1310.7604619785266, 935.2367384758376, 3710.272021390938, 7536.639456809114, 4140.998488018214, 3036.134267178282, 1695.4001257032971, 1705.0760804614702, 1123.0034109128094, 2760.717760969581, 3711.254151763102, 2569.5355851673107, 4889.375330459367, 12241.128090540782, 6859.3976521581035, 2107.403385628061, 2278.5882799942324, 12.42978398571, 11.516984065480953, 14.983073205537444, 15.920104974462813, 44.38884301620142, 12.586129269155695, 16.42408659816031, 37.16078440805498, 17.302585998804204, 21.01501617904244, 18.823421411799334, 31.156537754087957, 12.158065247216468, 13.230105325138956, 52.73589206335093, 22.986584630845307, 13.608766350402504, 12.52336177148513, 11.913175077618341, 12.41833125116041, 12.474810578731077, 10.97043794275315, 24.437246431185628, 14.111876742136733, 11.27827410003125, 11.767223585839218, 13.382946929718248, 13.124837050821835, 17.96110953283958, 33.797841323111285, 32.60786871488156, 20.668540226373004, 65.43261662802911, 349.3575119762672, 3052.042704000591, 58.394956816516896, 2288.354434011383, 29.935504738900683, 6124.9728132852815, 1077.4345820540293, 2760.717760969581, 2658.9723687380597, 340.74193750143473, 1852.750613656963, 3389.04671164785, 1382.409483591622, 513.4871077714247, 605.7015771149322, 1726.4898503262696, 9037.661115701292, 4904.854913523416, 1065.0495033467591, 1823.5157211111928, 10048.794645885055, 1166.9192061281346, 1474.247708841557, 6859.3976521581035, 3516.532044926445, 9127.25470657497, 935.2367384758376, 2966.6379117571455, 2796.4948796138397, 2055.7850733214027, 1610.8050539513922, 2783.645175245186, 7536.639456809114, 2648.194180563682, 5027.277468328623, 12241.128090540782, 9638.586857550292, 3711.254151763102, 3036.134267178282, 10021.49020643488, 4140.998488018214, 4889.375330459367], \"Category\": [\"Default\", \"Default\", \"Default\", \"Default\", \"Default\", \"Default\", \"Default\", \"Default\", \"Default\", \"Default\", \"Default\", \"Default\", \"Default\", \"Default\", \"Default\", \"Default\", \"Default\", \"Default\", \"Default\", \"Default\", \"Default\", \"Default\", \"Default\", \"Default\", \"Default\", \"Default\", \"Default\", \"Default\", \"Default\", \"Default\", \"Topic1\", \"Topic1\", \"Topic1\", \"Topic1\", \"Topic1\", \"Topic1\", \"Topic1\", \"Topic1\", \"Topic1\", \"Topic1\", \"Topic1\", \"Topic1\", \"Topic1\", \"Topic1\", \"Topic1\", \"Topic1\", \"Topic1\", \"Topic1\", \"Topic1\", \"Topic1\", \"Topic1\", \"Topic1\", \"Topic1\", \"Topic1\", \"Topic1\", \"Topic1\", \"Topic1\", \"Topic1\", \"Topic1\", \"Topic1\", \"Topic1\", \"Topic1\", \"Topic1\", \"Topic1\", \"Topic1\", \"Topic1\", \"Topic1\", \"Topic1\", \"Topic1\", \"Topic1\", \"Topic1\", \"Topic1\", \"Topic1\", \"Topic1\", \"Topic1\", \"Topic1\", \"Topic1\", \"Topic1\", \"Topic1\", \"Topic1\", \"Topic1\", \"Topic1\", \"Topic1\", \"Topic1\", \"Topic1\", \"Topic1\", \"Topic1\", \"Topic1\", \"Topic1\", \"Topic1\", \"Topic1\", \"Topic1\", \"Topic1\", \"Topic1\", \"Topic1\", \"Topic1\", \"Topic1\", \"Topic1\", \"Topic1\", \"Topic1\", \"Topic1\", \"Topic1\", \"Topic1\", \"Topic1\", \"Topic1\", \"Topic1\", \"Topic1\", \"Topic2\", \"Topic2\", \"Topic2\", \"Topic2\", \"Topic2\", \"Topic2\", \"Topic2\", \"Topic2\", \"Topic2\", \"Topic2\", \"Topic2\", \"Topic2\", \"Topic2\", \"Topic2\", \"Topic2\", \"Topic2\", \"Topic2\", \"Topic2\", \"Topic2\", \"Topic2\", \"Topic2\", \"Topic2\", \"Topic2\", \"Topic2\", \"Topic2\", \"Topic2\", \"Topic2\", \"Topic2\", \"Topic2\", \"Topic2\", \"Topic2\", \"Topic2\", \"Topic2\", \"Topic2\", \"Topic2\", \"Topic2\", \"Topic2\", \"Topic2\", \"Topic2\", \"Topic2\", \"Topic2\", \"Topic2\", \"Topic2\", \"Topic2\", \"Topic2\", \"Topic2\", \"Topic2\", \"Topic2\", \"Topic2\", \"Topic2\", \"Topic2\", \"Topic2\", \"Topic2\", \"Topic2\", \"Topic2\", \"Topic2\", \"Topic2\", \"Topic2\", \"Topic2\", \"Topic2\", \"Topic2\", \"Topic2\", \"Topic2\", \"Topic2\", \"Topic2\", \"Topic2\", \"Topic2\", \"Topic2\", \"Topic2\", \"Topic2\", \"Topic2\", \"Topic2\", \"Topic2\", \"Topic2\", \"Topic2\", \"Topic2\", \"Topic2\", \"Topic2\", \"Topic3\", \"Topic3\", \"Topic3\", \"Topic3\", \"Topic3\", \"Topic3\", \"Topic3\", \"Topic3\", \"Topic3\", \"Topic3\", \"Topic3\", \"Topic3\", \"Topic3\", \"Topic3\", \"Topic3\", \"Topic3\", \"Topic3\", \"Topic3\", \"Topic3\", \"Topic3\", \"Topic3\", \"Topic3\", \"Topic3\", \"Topic3\", \"Topic3\", \"Topic3\", \"Topic3\", \"Topic3\", \"Topic3\", \"Topic3\", \"Topic3\", \"Topic3\", \"Topic3\", \"Topic3\", \"Topic3\", \"Topic3\", \"Topic3\", \"Topic3\", \"Topic3\", \"Topic3\", \"Topic3\", \"Topic3\", \"Topic3\", \"Topic3\", \"Topic3\", \"Topic3\", \"Topic3\", \"Topic3\", \"Topic3\", \"Topic3\", \"Topic3\", \"Topic3\", \"Topic3\", \"Topic3\", \"Topic3\", \"Topic3\", \"Topic3\", \"Topic3\", \"Topic3\", \"Topic3\", \"Topic3\", \"Topic3\", \"Topic3\", \"Topic3\", \"Topic3\", \"Topic3\", \"Topic3\", \"Topic3\", \"Topic3\", \"Topic3\", \"Topic3\", \"Topic3\", \"Topic3\", \"Topic3\", \"Topic3\", \"Topic3\", \"Topic3\", \"Topic3\", \"Topic4\", \"Topic4\", \"Topic4\", \"Topic4\", \"Topic4\", \"Topic4\", \"Topic4\", \"Topic4\", \"Topic4\", \"Topic4\", \"Topic4\", \"Topic4\", \"Topic4\", \"Topic4\", \"Topic4\", \"Topic4\", \"Topic4\", \"Topic4\", \"Topic4\", \"Topic4\", \"Topic4\", \"Topic4\", \"Topic4\", \"Topic4\", \"Topic4\", \"Topic4\", \"Topic4\", \"Topic4\", \"Topic4\", \"Topic4\", \"Topic4\", \"Topic4\", \"Topic4\", \"Topic4\", \"Topic4\", \"Topic4\", \"Topic4\", \"Topic4\", \"Topic4\", \"Topic4\", \"Topic4\", \"Topic4\", \"Topic4\", \"Topic4\", \"Topic4\", \"Topic4\", \"Topic4\", \"Topic4\", \"Topic4\", \"Topic4\", \"Topic4\", \"Topic4\", \"Topic4\", \"Topic4\", \"Topic4\", \"Topic4\", \"Topic4\", \"Topic4\", \"Topic4\", \"Topic4\", \"Topic4\", \"Topic4\", \"Topic4\", \"Topic4\", \"Topic4\", \"Topic4\", \"Topic4\", \"Topic4\", \"Topic4\", \"Topic4\", \"Topic4\", \"Topic4\", \"Topic4\", \"Topic4\", \"Topic5\", \"Topic5\", \"Topic5\", \"Topic5\", \"Topic5\", \"Topic5\", \"Topic5\", \"Topic5\", \"Topic5\", \"Topic5\", \"Topic5\", \"Topic5\", \"Topic5\", \"Topic5\", \"Topic5\", \"Topic5\", \"Topic5\", \"Topic5\", \"Topic5\", \"Topic5\", \"Topic5\", \"Topic5\", \"Topic5\", \"Topic5\", \"Topic5\", \"Topic5\", \"Topic5\", \"Topic5\", \"Topic5\", \"Topic5\", \"Topic5\", \"Topic5\", \"Topic5\", \"Topic5\", \"Topic5\", \"Topic5\", \"Topic5\", \"Topic5\", \"Topic5\", \"Topic5\", \"Topic5\", \"Topic5\", \"Topic5\", \"Topic5\", \"Topic5\", \"Topic5\", \"Topic5\", \"Topic5\", \"Topic5\", \"Topic5\", \"Topic5\", \"Topic5\", \"Topic5\", \"Topic5\", \"Topic5\", \"Topic5\", \"Topic5\", \"Topic5\", \"Topic5\", \"Topic5\", \"Topic5\", \"Topic5\", \"Topic5\", \"Topic5\", \"Topic5\", \"Topic5\", \"Topic5\", \"Topic5\", \"Topic5\", \"Topic5\", \"Topic5\", \"Topic5\", \"Topic5\", \"Topic5\", \"Topic6\", \"Topic6\", \"Topic6\", \"Topic6\", \"Topic6\", \"Topic6\", \"Topic6\", \"Topic6\", \"Topic6\", \"Topic6\", \"Topic6\", \"Topic6\", \"Topic6\", \"Topic6\", \"Topic6\", \"Topic6\", \"Topic6\", \"Topic6\", \"Topic6\", \"Topic6\", \"Topic6\", \"Topic6\", \"Topic6\", \"Topic6\", \"Topic6\", \"Topic6\", \"Topic6\", \"Topic6\", \"Topic6\", \"Topic6\", \"Topic6\", \"Topic6\", \"Topic6\", \"Topic6\", \"Topic6\", \"Topic6\", \"Topic6\", \"Topic6\", \"Topic6\", \"Topic6\", \"Topic6\", \"Topic6\", \"Topic6\", \"Topic6\", \"Topic6\", \"Topic6\", \"Topic6\", \"Topic6\", \"Topic6\", \"Topic6\", \"Topic6\", \"Topic6\", \"Topic6\", \"Topic6\", \"Topic6\", \"Topic6\", \"Topic6\", \"Topic6\", \"Topic6\", \"Topic6\", \"Topic6\", \"Topic6\", \"Topic6\", \"Topic6\", \"Topic6\", \"Topic6\", \"Topic6\", \"Topic6\", \"Topic6\", \"Topic6\", \"Topic6\", \"Topic6\", \"Topic6\", \"Topic6\", \"Topic6\", \"Topic6\", \"Topic7\", \"Topic7\", \"Topic7\", \"Topic7\", \"Topic7\", \"Topic7\", \"Topic7\", \"Topic7\", \"Topic7\", \"Topic7\", \"Topic7\", \"Topic7\", \"Topic7\", \"Topic7\", \"Topic7\", \"Topic7\", \"Topic7\", \"Topic7\", \"Topic7\", \"Topic7\", \"Topic7\", \"Topic7\", \"Topic7\", \"Topic7\", \"Topic7\", \"Topic7\", \"Topic7\", \"Topic7\", \"Topic7\", \"Topic7\", \"Topic7\", \"Topic7\", \"Topic7\", \"Topic7\", \"Topic7\", \"Topic7\", \"Topic7\", \"Topic7\", \"Topic7\", \"Topic7\", \"Topic7\", \"Topic7\", \"Topic7\", \"Topic7\", \"Topic7\", \"Topic7\", \"Topic7\", \"Topic7\", \"Topic7\", \"Topic7\", \"Topic7\", \"Topic7\", \"Topic7\", \"Topic7\", \"Topic7\", \"Topic7\", \"Topic7\", \"Topic7\", \"Topic7\", \"Topic7\", \"Topic7\", \"Topic7\", \"Topic7\", \"Topic7\", \"Topic7\", \"Topic7\", \"Topic7\", \"Topic7\", \"Topic7\", \"Topic7\", \"Topic7\", \"Topic7\", \"Topic7\", \"Topic7\", \"Topic7\", \"Topic7\", \"Topic7\", \"Topic7\", \"Topic7\", \"Topic7\", \"Topic7\", \"Topic8\", \"Topic8\", \"Topic8\", \"Topic8\", \"Topic8\", \"Topic8\", \"Topic8\", \"Topic8\", \"Topic8\", \"Topic8\", \"Topic8\", \"Topic8\", \"Topic8\", \"Topic8\", \"Topic8\", \"Topic8\", \"Topic8\", \"Topic8\", \"Topic8\", \"Topic8\", \"Topic8\", \"Topic8\", \"Topic8\", \"Topic8\", \"Topic8\", \"Topic8\", \"Topic8\", \"Topic8\", \"Topic8\", \"Topic8\", \"Topic8\", \"Topic8\", \"Topic8\", \"Topic8\", \"Topic8\", \"Topic8\", \"Topic8\", \"Topic8\", \"Topic8\", \"Topic8\", \"Topic8\", \"Topic8\", \"Topic8\", \"Topic8\", \"Topic8\", \"Topic8\", \"Topic8\", \"Topic8\", \"Topic8\", \"Topic8\", \"Topic8\", \"Topic8\", \"Topic8\", \"Topic8\", \"Topic8\", \"Topic8\", \"Topic8\", \"Topic8\", \"Topic8\", \"Topic8\", \"Topic8\", \"Topic8\", \"Topic8\", \"Topic8\", \"Topic8\", \"Topic8\", \"Topic8\", \"Topic8\", \"Topic8\", \"Topic8\", \"Topic8\", \"Topic8\", \"Topic8\", \"Topic8\", \"Topic8\", \"Topic8\", \"Topic9\", \"Topic9\", \"Topic9\", \"Topic9\", \"Topic9\", \"Topic9\", \"Topic9\", \"Topic9\", \"Topic9\", \"Topic9\", \"Topic9\", \"Topic9\", \"Topic9\", \"Topic9\", \"Topic9\", \"Topic9\", \"Topic9\", \"Topic9\", \"Topic9\", \"Topic9\", \"Topic9\", \"Topic9\", \"Topic9\", \"Topic9\", \"Topic9\", \"Topic9\", \"Topic9\", \"Topic9\", \"Topic9\", \"Topic9\", \"Topic9\", \"Topic9\", \"Topic9\", \"Topic9\", \"Topic9\", \"Topic9\", \"Topic9\", \"Topic9\", \"Topic9\", \"Topic9\", \"Topic9\", \"Topic9\", \"Topic9\", \"Topic9\", \"Topic9\", \"Topic9\", \"Topic9\", \"Topic9\", \"Topic9\", \"Topic9\", \"Topic9\", \"Topic9\", \"Topic9\", \"Topic9\", \"Topic9\", \"Topic9\", \"Topic9\", \"Topic9\", \"Topic9\", \"Topic9\", \"Topic9\", \"Topic9\", \"Topic9\", \"Topic9\", \"Topic9\", \"Topic9\", \"Topic9\", \"Topic9\", \"Topic9\", \"Topic9\", \"Topic9\", \"Topic9\", \"Topic9\", \"Topic9\", \"Topic10\", \"Topic10\", \"Topic10\", \"Topic10\", \"Topic10\", \"Topic10\", \"Topic10\", \"Topic10\", \"Topic10\", \"Topic10\", \"Topic10\", \"Topic10\", \"Topic10\", \"Topic10\", \"Topic10\", \"Topic10\", \"Topic10\", \"Topic10\", \"Topic10\", \"Topic10\", \"Topic10\", \"Topic10\", \"Topic10\", \"Topic10\", \"Topic10\", \"Topic10\", \"Topic10\", \"Topic10\", \"Topic10\", \"Topic10\", \"Topic10\", \"Topic10\", \"Topic10\", \"Topic10\", \"Topic10\", \"Topic10\", \"Topic10\", \"Topic10\", \"Topic10\", \"Topic10\", \"Topic10\", \"Topic10\", \"Topic10\", \"Topic10\", \"Topic10\", \"Topic10\", \"Topic10\", \"Topic10\", \"Topic10\", \"Topic10\", \"Topic10\", \"Topic10\", \"Topic10\", \"Topic10\", \"Topic10\", \"Topic10\", \"Topic10\", \"Topic10\", \"Topic10\", \"Topic10\", \"Topic10\", \"Topic10\", \"Topic10\", \"Topic10\", \"Topic10\", \"Topic10\", \"Topic10\", \"Topic10\", \"Topic10\", \"Topic10\", \"Topic10\", \"Topic10\", \"Topic10\", \"Topic10\", \"Topic10\"], \"logprob\": [30.0, 29.0, 28.0, 27.0, 26.0, 25.0, 24.0, 23.0, 22.0, 21.0, 20.0, 19.0, 18.0, 17.0, 16.0, 15.0, 14.0, 13.0, 12.0, 11.0, 10.0, 9.0, 8.0, 7.0, 6.0, 5.0, 4.0, 3.0, 2.0, 1.0, -9.1972, -8.8467, -9.3053, -9.3297, -9.239, -9.1866, -8.7424, -9.2759, -8.9283, -9.3939, -8.8953, -9.0928, -9.4046, -8.8844, -9.3032, -9.125, -8.9855, -8.4273, -9.2672, -9.4733, -9.0995, -9.2026, -9.4392, -9.5337, -9.4526, -9.4, -9.4827, -8.2174, -8.713, -9.5568, -7.1727, -5.9583, -8.6825, -7.6221, -8.5642, -3.5151, -5.4392, -4.5712, -4.622, -4.4186, -3.8365, -5.1092, -5.4452, -6.1028, -3.7747, -4.6186, -4.0954, -4.3604, -5.1389, -3.8274, -5.9494, -6.3079, -5.4515, -6.2204, -5.9684, -6.9851, -4.8258, -5.1118, -5.8085, -5.0105, -4.7686, -5.5336, -5.3489, -4.6187, -5.0185, -4.6475, -4.1877, -5.2254, -4.298, -5.1337, -5.2578, -4.3926, -4.7965, -5.1391, -5.209, -5.2699, -5.3159, -8.9484, -8.3082, -8.6342, -8.3941, -8.7664, -9.1482, -9.0556, -9.2984, -9.0559, -8.9852, -9.2278, -8.8239, -8.2973, -9.5043, -9.1674, -9.4256, -8.2049, -9.0134, -8.43, -9.2463, -9.3829, -8.7317, -8.9611, -8.5375, -9.1693, -8.9299, -9.0309, -6.8442, -7.3817, -9.4277, -6.3931, -8.8139, -8.9367, -3.2585, -4.0375, -3.2705, -7.3405, -6.2693, -4.6479, -6.1227, -4.9773, -5.2975, -6.7509, -3.7701, -4.7586, -5.1354, -4.6919, -3.7915, -6.1932, -5.3649, -5.9888, -4.8533, -6.0397, -5.5804, -4.4903, -4.6565, -5.9987, -4.0984, -4.8048, -5.3955, -5.4659, -4.3397, -5.3855, -5.056, -5.0672, -5.2461, -4.9435, -4.9829, -5.258, -5.1603, -5.0917, -4.7731, -4.8279, -5.2577, -5.2521, -5.081, -5.1815, -4.9788, -8.8313, -8.7129, -8.5625, -9.0772, -8.7868, -9.0927, -8.9152, -8.4691, -8.5519, -8.8571, -8.6098, -8.2109, -9.0115, -7.0023, -9.0435, -9.094, -8.6823, -8.8059, -9.064, -9.1455, -9.2968, -8.6855, -9.2512, -8.4036, -9.2237, -9.0895, -8.8887, -9.3439, -9.1893, -9.1933, -8.7315, -2.5748, -7.2414, -7.9152, -6.4177, -5.8998, -8.0011, -4.8119, -8.0062, -7.154, -6.12, -4.6155, -5.0926, -6.7341, -4.5356, -4.5088, -4.8592, -6.7302, -4.6458, -5.6454, -4.4907, -3.9935, -6.0229, -6.2493, -4.1246, -6.2275, -5.1674, -5.8664, -5.0386, -4.7716, -4.6575, -4.1931, -5.0133, -5.0486, -5.4368, -5.0609, -4.245, -4.5614, -5.0628, -5.3816, -5.0729, -4.6248, -4.5461, -5.2274, -5.0224, -5.2852, -5.0288, -5.3073, -8.3927, -8.9547, -9.0784, -9.2231, -9.2694, -8.9552, -8.9643, -8.901, -9.2286, -9.0372, -9.1138, -9.0883, -9.3273, -8.8159, -9.2509, -8.9746, -8.086, -9.3629, -8.5379, -8.7864, -9.1197, -7.6164, -8.8741, -8.6777, -8.4331, -9.274, -9.4502, -8.6043, -9.1526, -8.6437, -8.0026, -7.6117, -7.097, -4.7303, -6.7227, -5.0202, -6.9243, -3.5643, -6.8666, -7.1824, -6.0015, -4.2239, -4.9892, -4.7664, -4.723, -3.9685, -4.8189, -4.1622, -4.4974, -4.9766, -6.8447, -4.8578, -5.5816, -5.6778, -6.0684, -3.9513, -5.1439, -4.9147, -6.5313, -4.866, -5.2401, -4.0852, -4.5563, -3.9434, -5.1416, -5.3634, -4.6302, -4.8773, -4.2024, -4.2731, -5.1457, -4.9886, -5.0642, -4.8984, -8.9547, -8.6486, -8.7002, -8.5142, -9.0996, -9.307, -9.2067, -8.6341, -9.1165, -8.9309, -9.0566, -9.2054, -9.185, -9.2426, -8.7552, -9.1015, -8.4831, -8.8568, -8.0607, -8.4985, -9.2968, -8.2787, -9.0603, -7.9033, -8.8252, -9.3543, -9.2833, -8.6965, -9.0403, -8.7071, -8.4828, -3.4366, -8.0442, -5.9606, -7.9402, -5.7071, -5.6841, -6.89, -4.8767, -5.9272, -5.516, -4.9752, -5.4347, -4.6561, -4.631, -4.7197, -3.7134, -5.0078, -5.0319, -5.6587, -5.096, -4.629, -5.8331, -4.7918, -4.0997, -4.8839, -4.5791, -3.9687, -6.1001, -4.5344, -4.831, -5.038, -4.9695, -4.1147, -4.0167, -4.8873, -4.3491, -4.7952, -5.3676, -4.7487, -5.1314, -5.2849, -5.3082, -5.27, -8.3564, -8.7743, -8.4944, -9.0745, -8.9388, -8.9788, -8.4466, -8.508, -8.0244, -8.4194, -8.8681, -9.2002, -8.9027, -9.1036, -8.6092, -9.0881, -9.0386, -9.2109, -8.481, -9.3305, -9.2214, -9.3794, -8.8871, -9.2504, -9.2939, -8.4253, -8.5969, -9.2318, -9.4666, -8.8277, -8.5088, -6.6576, -8.1001, -7.614, -8.3555, -5.6583, -5.2469, -4.6698, -3.4559, -6.6067, -7.5733, -4.2276, -4.9725, -5.7657, -3.7664, -4.501, -4.2665, -5.8236, -4.8788, -6.5535, -4.6896, -4.766, -3.9504, -5.7435, -4.0586, -4.1933, -5.2542, -5.0106, -5.35, -5.2865, -5.2567, -4.0302, -4.5617, -5.4438, -4.2717, -4.9284, -5.1544, -5.1873, -4.7161, -5.16, -5.1135, -5.2336, -5.3856, -5.3431, -5.302, -5.3151, -8.8433, -8.8778, -8.8672, -8.7313, -9.0081, -8.4843, -8.7326, -8.9446, -8.3295, -8.8085, -9.0695, -9.1127, -9.0909, -8.763, -8.7161, -9.0562, -8.5368, -8.2479, -9.227, -8.9831, -8.6733, -8.9377, -9.1519, -9.278, -9.1405, -8.6469, -9.0275, -8.5628, -8.7051, -9.3102, -3.7691, -8.3925, -7.3858, -6.2419, -5.5892, -7.8292, -3.5244, -5.3291, -7.3865, -4.5713, -5.1114, -5.0871, -6.7794, -4.2843, -5.8161, -6.4351, -7.007, -3.8243, -5.4113, -4.2207, -4.5293, -4.7942, -5.764, -5.5542, -6.1891, -5.6785, -4.0598, -5.037, -5.2974, -5.0452, -6.3044, -6.3137, -5.2846, -6.2139, -5.3802, -5.0242, -4.6553, -4.4936, -5.4216, -4.4733, -4.3441, -5.0091, -4.5719, -5.3272, -4.4924, -4.9824, -5.3031, -5.2582, -5.3072, -5.3085, -5.3234, -8.7885, -8.7555, -8.8621, -8.9534, -9.0481, -8.9894, -8.9802, -8.6855, -8.863, -9.0487, -8.789, -8.5498, -9.1206, -7.9929, -9.1932, -9.1456, -9.1309, -9.1378, -8.6172, -9.2423, -8.9356, -9.0486, -9.1492, -8.0058, -9.1574, -9.3147, -8.8966, -9.2376, -9.2065, -9.3878, -8.7917, -7.7106, -7.7337, -4.3278, -7.6053, -8.6482, -5.6394, -5.2988, -4.5637, -4.6823, -5.3747, -8.0157, -5.9834, -6.2421, -4.4591, -4.6573, -5.2763, -3.7527, -3.7696, -4.6028, -3.8877, -4.1437, -4.2783, -5.2537, -4.7848, -3.9832, -5.3747, -4.5265, -5.596, -5.1262, -5.6197, -5.3324, -5.1594, -5.6919, -4.9107, -4.3801, -5.1394, -5.1881, -4.3491, -4.5846, -5.1552, -5.0321, -5.1901, -5.1875, -5.1589, -5.2206, -7.7383, -8.5766, -8.4965, -8.6796, -8.7604, -8.5581, -8.6466, -8.5581, -8.3389, -7.9927, -8.2485, -8.1856, -8.5135, -8.3264, -8.024, -8.5051, -8.6364, -8.0272, -8.7951, -8.9729, -8.862, -8.7158, -8.0996, -8.9403, -8.6367, -8.8395, -8.3306, -7.4924, -7.6711, -6.9625, -7.5475, -5.0069, -8.0888, -6.2479, -3.8641, -6.4591, -6.3728, -4.958, -3.6701, -4.261, -3.7565, -5.3585, -5.7226, -3.8787, -5.114, -5.6395, -4.7396, -5.4447, -4.6283, -5.9974, -5.7779, -5.1879, -3.9664, -4.8522, -5.3586, -4.0773, -5.0214, -5.4048, -5.6426, -4.7417, -4.3379, -4.7372, -4.9287, -5.2922, -5.2916, -5.5501, -5.0852, -4.9485, -5.1403, -4.8325, -4.4151, -4.7557, -5.2391, -5.2844, -8.3955, -8.7667, -8.5184, -8.4977, -7.4971, -8.7728, -8.5097, -7.7044, -8.481, -8.3071, -8.4217, -7.9207, -8.8619, -8.7934, -7.4269, -8.2662, -8.8125, -8.9009, -8.9526, -8.942, -8.9464, -9.093, -8.2929, -8.8424, -9.0772, -9.0536, -8.9293, -8.9528, -8.64, -8.0081, -8.0899, -8.5251, -7.4917, -6.0246, -4.1643, -7.6357, -4.6053, -8.2172, -3.8851, -5.3135, -4.5727, -4.6541, -6.2851, -5.004, -4.544, -5.2426, -6.0066, -5.8828, -5.1113, -3.949, -4.4445, -5.5347, -5.1675, -3.9693, -5.4927, -5.3361, -4.2712, -4.7378, -4.1146, -5.6763, -4.8978, -4.9402, -5.1442, -5.3093, -4.9687, -4.4083, -5.05, -4.7081, -4.3943, -4.5222, -5.0052, -5.1131, -4.6583, -5.1482, -5.1382], \"loglift\": [30.0, 29.0, 28.0, 27.0, 26.0, 25.0, 24.0, 23.0, 22.0, 21.0, 20.0, 19.0, 18.0, 17.0, 16.0, 15.0, 14.0, 13.0, 12.0, 11.0, 10.0, 9.0, 8.0, 7.0, 6.0, 5.0, 4.0, 3.0, 2.0, 1.0, 1.4957, 1.4795, 1.4692, 1.3921, 1.368, 1.3608, 1.3274, 1.3176, 1.3131, 1.3114, 1.3003, 1.293, 1.2881, 1.2824, 1.2776, 1.2642, 1.255, 1.2536, 1.2501, 1.2376, 1.2326, 1.2045, 1.1977, 1.1904, 1.1891, 1.1861, 1.1861, 1.1655, 1.1486, 1.1483, 1.1026, 0.923, 1.1235, 1.0194, 1.1065, 0.5169, 0.7485, 0.6338, 0.5958, 0.5628, 0.3771, 0.5474, 0.5661, 0.6909, 0.2474, 0.3942, 0.2124, 0.2581, 0.4186, 0.0985, 0.5782, 0.6653, 0.4413, 0.6247, 0.5467, 0.8109, 0.2314, 0.298, 0.4916, 0.2598, 0.1534, 0.3824, 0.2678, 0.0244, 0.1441, -0.0012, -0.2591, 0.1893, -0.3304, 0.0818, 0.1478, -0.6641, -0.3755, 0.0068, 0.0807, -0.4575, -0.34, 1.802, 1.685, 1.6709, 1.6593, 1.6291, 1.6252, 1.5416, 1.4234, 1.4228, 1.3963, 1.3772, 1.3622, 1.3397, 1.3069, 1.2751, 1.2582, 1.2579, 1.2574, 1.2508, 1.2501, 1.2461, 1.2406, 1.2383, 1.2353, 1.2326, 1.2278, 1.2272, 1.2266, 1.2236, 1.2221, 1.1751, 1.2154, 1.2133, 0.6701, 0.6088, 0.4581, 0.9993, 0.8424, 0.498, 0.7551, 0.5471, 0.5953, 0.8491, 0.2619, 0.4415, 0.5145, 0.3652, 0.1344, 0.6858, 0.4526, 0.6161, 0.2695, 0.619, 0.4807, 0.1282, 0.1559, 0.5822, -0.1308, 0.1175, 0.3469, 0.3746, -0.1261, 0.3143, 0.149, 0.1482, 0.1594, -0.0215, -0.007, 0.1518, 0.0022, -0.0789, -0.4654, -0.4069, 0.0319, 0.0033, -0.4379, -0.2001, -0.9567, 1.8438, 1.7809, 1.7214, 1.659, 1.6155, 1.5915, 1.5778, 1.5251, 1.5233, 1.5207, 1.4981, 1.49, 1.4788, 1.4678, 1.4655, 1.458, 1.4395, 1.4096, 1.4001, 1.3855, 1.3767, 1.3675, 1.3599, 1.3597, 1.3582, 1.3457, 1.3334, 1.3202, 1.3089, 1.3001, 1.2981, 1.1538, 1.2636, 1.2755, 1.1902, 1.0901, 1.2181, 0.8208, 1.2035, 1.0619, 0.8776, 0.5846, 0.6012, 0.9491, 0.4403, 0.4132, 0.4003, 0.8689, 0.2765, 0.5113, 0.1278, -0.0676, 0.6043, 0.6736, -0.1024, 0.6503, 0.2322, 0.4989, 0.1769, 0.0408, -0.0112, -0.2255, 0.1327, 0.1139, 0.2687, 0.0912, -0.3163, -0.2537, -0.0057, 0.172, -0.0601, -0.4112, -0.5141, -0.0178, -0.3792, -0.0673, -0.6078, -0.037, 1.6391, 1.5898, 1.5454, 1.5405, 1.4986, 1.4922, 1.4893, 1.4606, 1.4554, 1.4462, 1.4379, 1.431, 1.4298, 1.4294, 1.4262, 1.4217, 1.4162, 1.4088, 1.376, 1.3679, 1.3622, 1.3427, 1.3342, 1.3251, 1.313, 1.2996, 1.2983, 1.2914, 1.2843, 1.2776, 1.2654, 1.2327, 1.1223, 0.8153, 0.9908, 0.6823, 1.0007, 0.4033, 0.9805, 1.0368, 0.7905, 0.3946, 0.5249, 0.4432, 0.4229, 0.2451, 0.4365, 0.2588, 0.3151, 0.4382, 0.9104, 0.3577, 0.5573, 0.5831, 0.6885, 0.0708, 0.4162, 0.3032, 0.8067, 0.2515, 0.3757, -0.0533, 0.0901, -0.2148, 0.2682, 0.359, 0.0129, 0.1041, -0.2764, -0.3444, 0.1138, -0.0663, -0.007, -0.5906, 1.7831, 1.7408, 1.6873, 1.6699, 1.5599, 1.5387, 1.5142, 1.4961, 1.4615, 1.4576, 1.451, 1.4482, 1.427, 1.4255, 1.4197, 1.4159, 1.3832, 1.3615, 1.3584, 1.3554, 1.3553, 1.3543, 1.3543, 1.3379, 1.3329, 1.3235, 1.3216, 1.3167, 1.3004, 1.2945, 1.2867, 0.8711, 1.2228, 1.0083, 1.2103, 0.8869, 0.8776, 1.0483, 0.7391, 0.8693, 0.7602, 0.6415, 0.7043, 0.5064, 0.4866, 0.4853, 0.2153, 0.4801, 0.4808, 0.636, 0.4577, 0.293, 0.6311, 0.331, 0.1139, 0.3316, 0.2333, -0.0011, 0.6989, 0.1087, 0.1504, 0.2175, 0.1826, -0.1888, -0.2881, 0.1255, -0.327, -0.3742, 0.289, -0.7167, -0.1555, 0.1299, -0.1104, -0.6237, 1.9868, 1.921, 1.7494, 1.7032, 1.6658, 1.6635, 1.5976, 1.5953, 1.5813, 1.5507, 1.5306, 1.5173, 1.5162, 1.4902, 1.4836, 1.4743, 1.4709, 1.4439, 1.43, 1.4156, 1.4121, 1.4071, 1.4034, 1.397, 1.385, 1.3835, 1.3791, 1.3594, 1.353, 1.3529, 1.3487, 1.2524, 1.274, 1.208, 1.2849, 0.9129, 0.827, 0.7298, 0.5117, 0.9968, 1.1497, 0.4187, 0.5731, 0.7471, 0.2557, 0.4212, 0.352, 0.6915, 0.4108, 0.8499, 0.2918, 0.2912, -0.0218, 0.5692, -0.0267, 0.0203, 0.3784, 0.2449, 0.3438, 0.2736, 0.2574, -0.3016, -0.1407, 0.2786, -0.3458, -0.0064, 0.1051, 0.0223, -0.4084, -0.0079, -0.1376, -0.0711, 0.1387, -0.0728, -0.4896, -0.672, 1.8696, 1.6895, 1.6722, 1.6576, 1.6355, 1.6301, 1.6253, 1.5952, 1.5916, 1.5719, 1.5679, 1.5572, 1.5558, 1.5467, 1.5325, 1.5322, 1.5265, 1.4981, 1.4973, 1.4952, 1.4896, 1.4883, 1.4882, 1.4791, 1.464, 1.4556, 1.4372, 1.4316, 1.4311, 1.43, 1.4287, 1.4284, 1.3145, 1.1751, 1.0281, 1.3172, 0.4977, 0.7873, 1.1838, 0.5515, 0.6222, 0.6127, 0.9909, 0.3589, 0.7399, 0.8938, 1.0412, 0.1016, 0.5598, 0.2003, 0.2832, 0.3579, 0.6402, 0.5248, 0.7461, 0.5437, -0.1311, 0.2333, 0.3183, 0.2143, 0.7254, 0.7286, 0.2729, 0.6856, 0.3071, 0.1383, -0.0368, -0.1858, 0.2839, -0.2597, -0.3765, 0.0037, -0.54, 0.1972, -0.7638, -0.3361, 0.0964, -0.0486, -0.385, -0.3865, -0.342, 1.8688, 1.833, 1.775, 1.7227, 1.7113, 1.71, 1.6935, 1.6813, 1.6621, 1.6356, 1.6051, 1.5337, 1.4822, 1.4741, 1.4723, 1.4642, 1.4568, 1.4552, 1.4548, 1.4542, 1.4536, 1.4364, 1.4345, 1.4144, 1.3995, 1.3873, 1.3852, 1.3793, 1.3787, 1.3744, 1.3638, 1.3368, 1.3243, 1.1601, 1.3119, 1.3541, 1.0143, 0.9236, 0.6459, 0.6074, 0.6992, 1.2343, 0.813, 0.8645, 0.4631, 0.4602, 0.5642, 0.1732, 0.1591, 0.3731, 0.1442, 0.164, 0.1427, 0.4518, 0.2724, -0.0156, 0.4706, 0.1166, 0.5214, 0.2885, 0.49, 0.3614, 0.2462, 0.4669, 0.1022, -0.1665, 0.1201, 0.0823, -0.6205, -0.5625, -0.0092, -0.2197, -0.0276, -0.0354, -0.1775, -0.5743, 2.0311, 1.9977, 1.9847, 1.9591, 1.9009, 1.8888, 1.8825, 1.8458, 1.8268, 1.7973, 1.7799, 1.7784, 1.7527, 1.7343, 1.7196, 1.6938, 1.6926, 1.6814, 1.6491, 1.6392, 1.6355, 1.6248, 1.6127, 1.6109, 1.6041, 1.5802, 1.5774, 1.5771, 1.5601, 1.5575, 1.5397, 1.4281, 1.5334, 1.0837, 0.5569, 1.1213, 1.0987, 0.6746, 0.2558, 0.3821, 0.2111, 0.7154, 0.7987, 0.1435, 0.5733, 0.7647, 0.4126, 0.68, 0.3476, 0.8816, 0.773, 0.5146, -0.0377, 0.3479, 0.5509, -0.0454, 0.3934, 0.558, 0.6578, 0.1806, -0.1243, 0.0753, 0.1941, 0.4132, 0.4081, 0.5673, 0.1326, -0.0265, 0.1493, -0.1862, -0.6865, -0.4479, 0.2489, 0.1254, 2.2255, 1.9306, 1.9158, 1.8759, 1.851, 1.8357, 1.8326, 1.8214, 1.8092, 1.7888, 1.7844, 1.7814, 1.7813, 1.7652, 1.7489, 1.7401, 1.7179, 1.7126, 1.7109, 1.68, 1.671, 1.6529, 1.6521, 1.6517, 1.641, 1.6222, 1.6179, 1.6138, 1.6129, 1.6126, 1.5667, 1.5874, 1.4685, 1.2604, 0.9532, 1.4382, 0.8003, 1.5249, 0.5359, 0.8453, 0.6452, 0.6013, 1.0249, 0.6127, 0.4688, 0.6669, 0.8933, 0.8519, 0.576, 0.0829, 0.1987, 0.6357, 0.4651, -0.0434, 0.5863, 0.5092, 0.0366, 0.2381, -0.0925, 0.6241, 0.2481, 0.2648, 0.3685, 0.4474, 0.241, -0.1947, 0.2095, -0.0896, -0.6657, -0.5546, -0.0832, 0.0097, -0.7296, -0.3358, -0.4919]}, \"token.table\": {\"Topic\": [1, 2, 3, 4, 5, 6, 7, 8, 9, 10, 1, 4, 6, 7, 9, 10, 1, 2, 5, 6, 10, 2, 3, 4, 6, 8, 1, 4, 5, 6, 7, 9, 10, 1, 2, 3, 4, 5, 6, 7, 8, 10, 1, 2, 4, 5, 6, 1, 2, 3, 5, 8, 10, 1, 3, 4, 5, 6, 7, 8, 9, 1, 3, 4, 5, 6, 7, 10, 1, 2, 4, 6, 7, 8, 10, 2, 3, 5, 6, 8, 9, 10, 1, 2, 4, 5, 6, 7, 9, 1, 4, 6, 8, 10, 1, 2, 4, 5, 6, 8, 10, 1, 2, 3, 4, 5, 6, 7, 8, 9, 10, 1, 2, 3, 4, 5, 6, 7, 8, 9, 10, 1, 2, 9, 10, 1, 2, 3, 5, 6, 8, 9, 1, 2, 3, 4, 5, 6, 7, 8, 10, 1, 2, 4, 9, 1, 2, 3, 4, 8, 10, 1, 2, 5, 6, 8, 1, 2, 3, 4, 5, 7, 8, 9, 10, 1, 2, 4, 5, 6, 8, 9, 1, 2, 3, 4, 5, 6, 7, 8, 9, 10, 1, 3, 5, 7, 8, 1, 2, 3, 4, 1, 2, 5, 7, 8, 9, 10, 1, 2, 3, 6, 8, 10, 3, 4, 6, 7, 9, 1, 2, 3, 4, 7, 8, 9, 1, 2, 3, 4, 5, 6, 7, 8, 9, 10, 1, 3, 4, 5, 6, 8, 9, 1, 2, 3, 4, 5, 6, 7, 8, 9, 10, 1, 2, 3, 4, 5, 6, 7, 8, 9, 10, 1, 2, 4, 5, 6, 7, 8, 9, 10, 1, 2, 3, 5, 6, 7, 1, 2, 3, 5, 6, 10, 1, 3, 4, 5, 6, 1, 2, 5, 6, 9, 2, 3, 4, 5, 7, 9, 1, 3, 4, 8, 10, 1, 2, 5, 8, 9, 10, 1, 2, 3, 4, 5, 6, 7, 8, 9, 10, 1, 2, 3, 4, 5, 6, 7, 8, 9, 10, 1, 2, 4, 6, 7, 1, 2, 4, 5, 6, 7, 9, 10, 1, 2, 3, 4, 5, 10, 1, 2, 3, 4, 5, 6, 7, 8, 9, 10, 2, 3, 4, 6, 8, 9, 1, 2, 3, 4, 5, 6, 7, 8, 9, 10, 2, 4, 7, 9, 10, 1, 2, 3, 4, 5, 6, 8, 9, 2, 7, 8, 9, 1, 4, 5, 7, 8, 9, 1, 2, 3, 4, 5, 6, 7, 8, 9, 10, 1, 3, 4, 5, 8, 10, 1, 2, 3, 4, 5, 6, 7, 8, 9, 10, 1, 3, 10, 1, 2, 4, 5, 6, 7, 1, 2, 4, 5, 6, 7, 8, 3, 4, 6, 8, 1, 2, 3, 4, 5, 6, 7, 8, 10, 1, 2, 3, 4, 5, 6, 7, 8, 9, 10, 1, 3, 4, 6, 7, 9, 10, 1, 3, 5, 7, 10, 1, 2, 3, 4, 5, 6, 7, 8, 9, 10, 1, 2, 3, 4, 5, 6, 7, 8, 9, 10, 1, 2, 3, 6, 8, 9, 1, 2, 3, 4, 9, 10, 1, 4, 6, 7, 8, 9, 1, 2, 3, 4, 5, 6, 7, 8, 9, 10, 2, 4, 6, 8, 1, 2, 3, 4, 5, 6, 7, 8, 9, 10, 1, 2, 3, 5, 6, 7, 8, 9, 10, 1, 2, 3, 4, 6, 7, 1, 2, 3, 4, 5, 6, 7, 8, 9, 10, 1, 4, 5, 6, 7, 8, 9, 10, 1, 2, 3, 4, 5, 6, 7, 8, 9, 10, 1, 2, 3, 4, 5, 6, 7, 8, 9, 10, 1, 2, 3, 4, 5, 6, 7, 8, 9, 10, 1, 2, 3, 4, 5, 6, 7, 8, 9, 10, 1, 4, 5, 6, 7, 9, 10, 1, 2, 4, 5, 8, 1, 2, 3, 4, 5, 6, 7, 8, 9, 10, 1, 2, 3, 4, 5, 7, 8, 9, 10, 1, 2, 5, 1, 2, 3, 4, 5, 6, 7, 8, 9, 10, 1, 2, 3, 4, 5, 6, 7, 8, 9, 10, 1, 2, 3, 4, 5, 6, 7, 8, 9, 10, 1, 2, 3, 4, 5, 6, 7, 8, 9, 10, 1, 5, 6, 8, 10, 1, 2, 4, 5, 6, 7, 8, 9, 10, 1, 2, 5, 6, 8, 1, 4, 7, 8, 10, 1, 2, 3, 4, 5, 7, 8, 1, 2, 3, 4, 5, 6, 7, 8, 9, 10, 1, 2, 3, 4, 5, 6, 7, 8, 9, 10, 1, 3, 5, 7, 1, 2, 3, 4, 5, 6, 7, 8, 9, 10, 1, 2, 3, 5, 6, 7, 8, 9, 10, 2, 3, 4, 5, 6, 7, 8, 9, 1, 2, 5, 6, 9, 10, 3, 6, 8, 9, 1, 2, 3, 4, 5, 6, 7, 8, 9, 10, 1, 2, 3, 5, 8, 1, 2, 4, 5, 6, 7, 8, 1, 3, 4, 6, 7, 8, 9, 1, 2, 3, 4, 5, 7, 8, 9, 10, 1, 2, 3, 4, 5, 6, 7, 8, 9, 10, 1, 2, 3, 4, 5, 6, 7, 8, 9, 10, 1, 2, 3, 4, 5, 6, 7, 8, 9, 10, 2, 3, 5, 6, 8, 1, 2, 5, 7, 8, 10, 1, 2, 3, 4, 5, 6, 7, 8, 9, 10, 1, 4, 5, 7, 9, 10, 4, 5, 6, 8, 9, 1, 2, 4, 6, 7, 8, 1, 2, 4, 5, 6, 8, 9, 10, 1, 2, 4, 5, 6, 7, 9, 10, 1, 2, 7, 8, 10, 1, 2, 3, 4, 5, 6, 7, 8, 9, 10, 1, 2, 3, 4, 5, 6, 7, 8, 9, 10, 2, 3, 4, 5, 7, 8, 9, 1, 2, 3, 4, 5, 6, 7, 8, 9, 10, 1, 2, 5, 6, 8, 9, 1, 3, 5, 7, 8, 9, 10, 1, 5, 6, 10, 1, 2, 3, 4, 5, 6, 7, 8, 9, 10, 4, 5, 7, 8, 9, 10, 1, 2, 3, 4, 5, 6, 7, 8, 9, 10, 2, 3, 4, 5, 6, 7, 8, 1, 2, 3, 4, 5, 6, 7, 8, 9, 10, 1, 3, 4, 5, 6, 7, 8, 9, 10, 1, 3, 4, 5, 6, 7, 8, 9, 10, 1, 2, 4, 5, 7, 8, 9, 1, 2, 6, 7, 8, 9, 1, 3, 4, 5, 7, 8, 9, 10, 1, 4, 6, 7, 10, 1, 2, 4, 6, 7, 9, 10, 2, 3, 4, 6, 7, 8, 9, 10, 1, 2, 3, 4, 5, 6, 8, 9, 10, 1, 2, 3, 4, 5, 6, 7, 8, 9, 10, 1, 3, 4, 6, 7, 8, 9, 1, 2, 3, 8, 9, 10, 2, 3, 4, 5, 6, 7, 8, 10, 1, 2, 3, 4, 5, 6, 8, 1, 2, 3, 4, 5, 6, 7, 8, 9, 10, 1, 2, 3, 4, 5, 6, 7, 9, 10, 1, 2, 3, 5, 6, 8, 9, 1, 3, 5, 7, 10, 1, 2, 3, 4, 5, 7, 2, 3, 6, 8, 1, 2, 3, 4, 5, 6, 7, 8, 9, 1, 2, 3, 4, 5, 6, 7, 8, 9, 1, 2, 3, 4, 6, 1, 2, 3, 4, 5, 6, 7, 9, 10, 1, 3, 4, 6, 7, 8, 9, 1, 2, 3, 4, 5, 6, 7, 8, 9, 10, 1, 2, 3, 4, 5, 6, 7, 8, 9, 10, 1, 2, 3, 4, 6, 7, 9, 4, 5, 6, 9, 10, 1, 2, 3, 4, 5, 6, 7, 8, 9, 10, 1, 2, 3, 4, 5, 6, 7, 8, 9, 10, 1, 2, 3, 4, 5, 6, 7, 8, 9, 10, 1, 2, 3, 4, 5, 6, 7, 8, 9, 10, 3, 6, 7, 8, 10, 1, 3, 5, 6, 7, 8, 1, 2, 3, 4, 5, 6, 7, 8, 9, 10, 1, 2, 9, 10, 1, 2, 3, 10, 1, 2, 3, 4, 5, 6, 9, 1, 3, 4, 8, 9, 10, 1, 2, 3, 4, 5, 6, 7, 8, 9, 10, 1, 2, 3, 4, 5, 6, 7, 8, 9, 10, 1, 2, 3, 4, 5, 6, 7, 8, 9, 10, 1, 2, 3, 4, 5, 6, 7, 8, 9, 10, 1, 2, 3, 4, 5, 6, 8, 9, 10, 1, 2, 6, 7, 8, 1, 3, 5, 6, 7, 8, 10, 1, 2, 5, 7, 8, 1, 2, 3, 4, 6, 7, 8, 9, 10, 2, 3, 4, 7, 8, 2, 3, 4, 5, 9, 10, 2, 3, 6, 7, 8, 9, 1, 2, 3, 6, 7, 8, 2, 3, 4, 5, 7, 9, 10, 1, 4, 6, 8, 9, 10, 1, 3, 4, 5, 6, 7, 8, 9, 1, 2, 3, 4, 5, 6, 7, 8, 9, 10, 1, 2, 3, 9, 1, 2, 3, 4, 5, 6, 7, 8, 9, 10, 1, 2, 3, 4, 5, 6, 7, 8, 9, 10, 1, 3, 6, 7, 9, 1, 2, 3, 4, 5, 6, 7, 8, 9, 10, 1, 2, 3, 4, 5, 6, 8, 10, 1, 2, 3, 4, 5, 6, 7, 8, 9, 10, 2, 5, 7, 8, 9, 10, 1, 4, 5, 7, 8, 10, 1, 2, 5, 9, 10, 1, 2, 3, 5, 8, 9, 1, 2, 3, 6, 7, 9, 1, 2, 3, 4, 5, 6, 7, 8, 9, 10, 1, 2, 3, 4, 6, 8, 9, 1, 2, 3, 4, 5, 6, 8, 9, 10, 1, 2, 3, 4, 5, 7, 8, 9, 10, 1, 2, 6, 7, 8, 1, 2, 3, 4, 6, 1, 2, 3, 4, 5, 6, 7, 8, 9, 1, 2, 4, 5, 6, 8, 1, 2, 3, 4, 5, 6, 7, 8, 9, 10, 1, 2, 3, 4, 5, 7, 8, 9, 1, 2, 4, 5, 7, 8, 9, 10, 1, 2, 3, 4, 5, 6, 7, 8, 9, 10, 1, 2, 3, 4, 5, 6, 7, 8, 9, 10, 1, 2, 4, 6, 7, 1, 3, 5, 7, 10, 1, 2, 5, 6, 7, 8, 9, 1, 2, 3, 4, 5, 6, 7, 8, 9, 1, 2, 6, 7, 9, 1, 2, 3, 4, 5, 6, 7, 8, 9, 10, 1, 2, 3, 4, 5, 6, 7, 8, 9, 10, 1, 2, 3, 6, 9, 10, 1, 2, 3, 4, 5, 6, 7, 8, 9, 10, 1, 2, 3, 4, 5, 6, 7, 8, 9, 10, 1, 2, 3, 4, 5, 6, 7, 8, 9, 10, 1, 2, 3, 4, 5, 6, 8, 10, 1, 2, 3, 4, 5, 6, 7, 8, 9, 10, 1, 2, 5, 6, 7, 8, 1, 2, 3, 4, 5, 6, 7, 8, 9, 10, 1, 2, 3, 4, 5, 6, 7, 8, 9, 10, 1, 2, 3, 4, 5, 1, 2, 3, 4, 5, 6, 7, 8, 9, 10, 1, 2, 3, 4, 5, 6, 7, 8, 9, 10, 1, 2, 3, 4, 5, 6, 7, 8, 9, 10, 1, 3, 4, 5, 6, 7, 8, 9, 10, 1, 2, 3, 4, 5, 6, 7, 8, 9, 10, 1, 2, 3, 4, 5, 6, 7, 8, 9, 10, 1, 2, 3, 4, 5, 6, 7, 8, 9, 10, 3, 5, 6, 7, 9, 10, 1, 2, 3, 7, 8, 9, 1, 3, 6, 7, 9, 1, 2, 3, 4, 5, 6, 7, 8, 9, 10, 2, 5, 8, 1, 2, 3, 4, 5, 6, 7, 8, 9, 10, 1, 2, 3, 4, 5, 6, 7, 8, 9, 10, 1, 2, 3, 4, 5, 6, 7, 8, 9, 10, 1, 2, 3, 4, 5, 6, 7, 8, 9, 10, 1, 2, 3, 4, 5, 6, 7, 8, 9, 10, 1, 4, 6, 7, 8, 9, 10, 1, 2, 3, 4, 5, 6, 7, 8, 9, 10, 1, 2, 3, 4, 5, 6, 7, 8, 9, 10, 1, 2, 3, 4, 5, 6, 7, 8, 1, 2, 3, 4, 5, 6, 7, 8, 10, 1, 2, 5, 6, 8, 10, 1, 2, 3, 4, 5, 6, 7, 8, 9, 10, 1, 2, 4, 5, 6, 7, 8, 9, 10, 1, 2, 7, 9, 10, 1, 2, 5, 8, 2, 7, 8, 1, 2, 3, 5, 9, 10, 1, 4, 5, 6, 7, 10, 1, 2, 3, 4, 5, 6, 7, 8, 9, 10, 1, 2, 3, 4, 5, 6, 7, 8, 9, 10, 1, 2, 3, 4, 5, 6, 7, 8, 1, 2, 3, 4, 5, 6, 7, 8, 9, 10, 2, 5, 6, 7, 10, 1, 2, 3, 4, 5, 6, 7, 8, 9, 10, 1, 4, 5, 6, 7, 1, 2, 3, 4, 5, 6, 7, 8, 9, 10, 1, 3, 5, 6, 9, 10, 1, 2, 3, 4, 5, 6, 7, 8, 9, 10, 2, 3, 4, 5, 7, 9, 10, 1, 2, 3, 7, 10, 1, 2, 4, 8, 1, 2, 3, 4, 5, 6, 7, 8, 9, 10, 1, 2, 3, 4, 5, 6, 7, 8, 9, 10, 1, 2, 4, 5, 6, 7, 8, 10, 1, 2, 3, 4, 5, 6, 7, 8, 9, 10, 1, 3, 5, 6, 1, 2, 3, 4, 5, 6, 7, 8, 9, 10, 1, 5, 6, 7, 8, 1, 2, 4, 5, 7, 8, 10, 1, 2, 3, 4, 6, 7, 8, 9, 10, 1, 2, 3, 5, 2, 4, 5, 7, 8, 9, 10, 1, 2, 3, 5, 7, 8, 10, 1, 3, 4, 5, 6, 7, 8, 10, 1, 2, 3, 4, 5, 6, 7, 8, 9, 10, 1, 2, 3, 4, 5, 6, 7, 8, 9, 10, 1, 4, 5, 8, 1, 2, 3, 4, 5, 6, 7, 8, 9, 10, 1, 2, 3, 4, 5, 6, 7, 8, 9, 10, 1, 2, 3, 4, 5, 9, 1, 2, 10, 1, 3, 4, 6, 7, 8, 9, 1, 2, 3, 4, 5, 6, 7, 8, 9, 10, 1, 4, 5, 8, 9, 10, 1, 2, 4, 6, 7, 8, 9, 10, 1, 2, 3, 4, 5, 6, 7, 8, 9, 10, 1, 2, 3, 4, 5, 6, 7, 8, 9, 10, 1, 2, 3, 4, 5, 6, 7, 8, 9, 10, 1, 3, 4, 7, 9, 1, 2, 3, 4, 5, 6, 7, 8, 9, 10, 1, 5, 7, 1, 2, 3, 4, 5, 6, 7, 8, 9, 10, 1, 2, 3, 4, 5, 6, 7, 8, 9, 10, 1, 2, 3, 4, 5, 6, 7, 8, 9, 10, 1, 2, 3, 4, 5, 6, 7, 8, 9, 10, 1, 2, 3, 4, 5, 6, 7, 8, 9, 10, 1, 2, 3, 4, 5, 6, 7, 8, 9, 10, 1, 2, 3, 5, 6, 7, 8, 9, 1, 3, 4, 5, 6, 8, 9, 10, 1, 3, 5, 7, 10, 1, 4, 5, 6, 8, 9, 10, 1, 2, 3, 5, 6, 10, 1, 2, 3, 4, 5, 6, 7, 8, 9, 10, 2, 3, 4, 6, 7, 8, 9, 1, 2, 3, 4, 5, 6, 7, 8, 9, 10, 1, 2, 3, 4, 5, 7, 8, 10, 1, 2, 3, 4, 7, 8, 1, 2, 5, 6, 8, 1, 2, 3, 4, 5, 6, 7, 8, 9, 10, 1, 2, 3, 4, 5, 6, 7, 8, 9, 10, 2, 3, 4, 5, 6, 7, 10, 1, 2, 3, 4, 5, 6, 7, 8, 9, 10, 1, 2, 3, 4, 5, 6, 7, 8, 9, 10, 1, 3, 4, 6, 1, 2, 5, 7, 8, 2, 4, 6, 8, 1, 2, 3, 4, 5, 6, 7, 8, 9, 10, 1, 2, 3, 4, 5, 7, 8, 1, 2, 3, 4, 7, 1, 2, 3, 4, 5, 6, 7, 8, 9, 10, 1, 2, 3, 4, 6, 7, 8, 10, 2, 3, 5, 6, 7, 8, 1, 2, 3, 4, 5, 6, 7, 8, 9, 1, 2, 3, 4, 5, 6, 7, 1, 2, 3, 4, 5, 6, 7, 8, 9, 10, 1, 2, 3, 4, 5, 6, 8, 9, 10, 1, 2, 3, 4, 7, 8, 9, 10, 1, 2, 3, 4, 5, 6, 7, 8, 10, 3, 4, 5, 6, 7, 10, 1, 2, 4, 5, 6, 7, 8, 9, 10, 1, 2, 3, 4, 5, 6, 7, 8, 9, 10, 1, 2, 3, 4, 5, 6, 7, 8, 9, 10, 1, 2, 4, 5, 8, 1, 2, 3, 4, 5, 6, 7, 8, 9, 10, 1, 2, 3, 4, 5, 7, 8, 9, 1, 5, 7, 1, 2, 3, 4, 5, 6, 7, 1, 2, 3, 4, 5, 6, 7, 8, 9, 10, 1, 2, 3, 4, 5, 6, 7, 8, 9, 10, 1, 2, 3, 4, 7, 9, 1, 2, 3, 4, 5, 6, 7, 8, 9, 1, 3, 4, 6, 7, 9, 1, 2, 3, 4, 5, 6, 7, 8, 9, 10, 1, 2, 3, 4, 5, 6, 7, 8, 9, 10, 1, 2, 3, 4, 5, 6, 7, 8, 9, 10, 1, 2, 3, 4, 5, 6, 7, 8, 9, 10, 1, 2, 3, 4, 6, 10, 1, 2, 3, 4, 5, 6, 7, 8, 9, 10, 2, 3, 4, 5, 6, 7, 9, 1, 2, 3, 4, 5, 7, 9, 1, 4, 5, 6, 7, 8, 9, 1, 5, 6, 7, 9, 1, 3, 4, 5, 7, 8, 10, 1, 4, 6, 7, 10, 1, 6, 7, 8, 10, 1, 3, 4, 8, 10, 1, 2, 3, 4, 5, 6, 7, 8, 9, 1, 3, 4, 7, 9, 1, 2, 3, 4, 5, 6, 7, 8, 9, 10, 2, 6, 7, 8, 9, 10, 1, 2, 3, 4, 5, 6, 7, 8, 9, 1, 2, 3, 4, 5, 6, 7, 8, 9, 10, 1, 2, 3, 4, 5, 6, 7, 8, 9, 10, 1, 2, 3, 6, 7, 8, 9, 1, 2, 3, 4, 5, 6, 7, 8, 9, 10, 1, 3, 5, 6, 7, 8, 9, 10, 1, 4, 5, 6, 9, 1, 2, 3, 4, 5, 6, 7, 8, 9, 10, 1, 2, 7, 8, 9, 1, 2, 3, 4, 5, 6, 7, 8, 9, 10, 1, 2, 3, 10, 1, 2, 3, 4, 5, 6, 7, 8, 9, 10, 1, 2, 3, 4, 5, 6, 7, 8, 9, 10, 1, 2, 4, 5, 9, 10, 3, 4, 6, 8, 9, 1, 3, 4, 5, 9, 10, 1, 2, 3, 4, 5, 6, 7, 8, 9, 10, 1, 2, 3, 4, 5, 6, 7, 8, 9, 10, 1, 2, 3, 4, 5, 6, 7, 8, 9, 10, 1, 2, 5, 9, 1, 3, 4, 5, 6, 7, 8, 1, 3, 5, 6, 8, 9, 1, 2, 3, 4, 5, 6, 7, 8, 9, 10, 1, 2, 3, 4, 5, 6, 7, 8, 9, 2, 3, 4, 7, 9, 1, 2, 3, 5, 7, 9, 1, 2, 3, 4, 5, 6, 9, 1, 2, 3, 4, 5, 6, 7, 8, 10, 1, 2, 4, 5, 6, 7, 8, 9, 10, 1, 2, 4, 7, 9, 10, 1, 2, 3, 4, 5, 6, 7, 8, 9, 10, 1, 2, 3, 4, 5, 6, 7, 8, 9, 1, 3, 4, 6, 1, 2, 3, 4, 5, 6, 1, 2, 5, 6, 10, 1, 2, 3, 4, 5, 6, 7, 8, 9, 10, 1, 2, 3, 4, 5, 6, 7, 8, 9, 10, 1, 2, 4, 8, 10, 1, 2, 3, 4, 5, 6, 7, 8, 1, 2, 3, 4, 5, 6, 7, 8, 9, 10, 2, 4, 5, 6, 7, 1, 2, 3, 4, 5, 6, 7, 8, 9, 10, 1, 2, 4, 6, 7, 8, 9, 1, 2, 3, 6, 7, 8, 9, 1, 2, 3, 4, 5, 6, 7, 8, 9, 10, 1, 6, 1, 2, 3, 4, 5, 6, 7, 8, 9, 10, 1, 3, 6, 8, 9, 1, 2, 3, 4, 6, 7, 8, 10, 1, 6, 7, 9, 10, 1, 4, 5, 6, 7, 9, 10, 1, 2, 3, 4, 5, 6, 7, 8, 9, 10, 1, 2, 3, 5, 6, 8, 9, 1, 2, 3, 4, 5, 6, 7, 8, 9, 10, 1, 2, 3, 4, 5, 6, 7, 8, 9, 10, 4, 5, 8, 10, 2, 3, 4, 5, 2, 3, 4, 6, 1, 2, 3, 4, 7, 8, 10, 1, 2, 3, 4, 5, 6, 7, 8, 9, 10, 1, 2, 3, 4, 5, 6, 7, 8, 9, 10, 1, 2, 3, 4, 5, 6, 7, 8, 9, 10, 2, 6, 8, 9, 1, 2, 5, 6, 7, 8, 10, 1, 2, 3, 4, 5, 6, 7, 8, 9, 10, 1, 2, 3, 4, 5, 6, 7, 8, 9, 10, 1, 2, 3, 4, 5, 6, 7, 8, 9, 10, 1, 2, 3, 4, 5, 6, 7, 8, 9, 10, 1, 2, 3, 4, 5, 6, 7, 8, 9, 10, 1, 2, 3, 4, 5, 6, 7, 8, 9, 10, 1, 2, 3, 4, 5, 6, 7, 8, 9, 10, 1, 4, 5, 6, 7, 8, 9, 10, 1, 2, 4, 5, 6, 7, 8, 9, 10, 1, 3, 5, 7, 10, 1, 5, 7, 10, 1, 2, 7, 8, 9, 10, 2, 5, 8, 9, 1, 2, 3, 4, 5, 6, 8, 9, 1, 2, 3, 4, 5, 6, 7, 8, 9, 10, 1, 2, 3, 4, 5, 6, 7, 8, 9, 10, 1, 2, 3, 4, 5, 6, 7, 8, 9, 10, 1, 3, 4, 6, 7, 8, 10, 1, 2, 4, 6, 9, 1, 2, 3, 4, 5, 6, 7, 8, 9, 10, 2, 3, 7, 8, 9, 1, 3, 4, 5, 7, 8, 9, 10, 1, 2, 4, 5, 10, 1, 4, 8, 9, 10, 1, 2, 3, 5, 8, 10, 1, 2, 3, 4, 6, 9, 10, 1, 2, 3, 4, 5, 6, 7, 8, 9, 10, 1, 2, 4, 5, 6, 8, 10, 1, 2, 3, 4, 5, 6, 7, 8, 9, 10, 1, 2, 6, 7, 8, 1, 2, 3, 4, 5, 6, 7, 8, 9, 10, 1, 2, 3, 4, 7, 1, 2, 3, 4, 5, 6, 7, 8, 9, 10, 1, 2, 3, 4, 5, 6, 7, 8, 9, 10, 1, 2, 3, 4, 5, 6, 7, 8, 9, 10, 1, 5, 6, 7, 8, 9, 10, 1, 2, 3, 4, 5, 6, 7, 8, 9, 10, 1, 2, 3, 4, 5, 6, 7, 8, 9, 10, 1, 2, 3, 4, 5, 6, 7, 8, 9, 10, 1, 3, 7, 8, 9, 10, 1, 2, 3, 5, 6, 7, 1, 2, 3, 4, 5, 6, 7, 8, 9, 10, 1, 2, 3, 4, 7, 8, 9, 10, 1, 2, 3, 4, 5, 6, 7, 8, 9, 10, 1, 2, 3, 4, 5, 6, 7, 8, 9, 10, 1, 2, 3, 5, 8, 10, 1, 2, 3, 4, 5, 6, 7, 8, 9, 10, 1, 2, 3, 4, 5, 6, 7, 8, 9, 10, 1, 4, 8, 10, 1, 2, 3, 4, 5, 6, 7, 8, 9, 10, 1, 2, 3, 4, 5, 7, 8, 10, 1, 4, 5, 6, 8, 9, 1, 2, 3, 4, 5, 6, 7, 8, 9, 10, 1, 2, 3, 4, 5, 6, 7, 8, 9, 10, 1, 2, 3, 4, 5, 6, 7, 8, 9, 10, 1, 2, 4, 6, 7, 9, 1, 2, 3, 4, 5, 6, 7, 8, 9, 10], \"Freq\": [0.1497347285551406, 0.04083674415140198, 0.12251023245420596, 0.35391844931215055, 0.027224496100934657, 0.0952857363532713, 0.027224496100934657, 0.054448992201869315, 0.0952857363532713, 0.027224496100934657, 0.06692125087496444, 0.40152750524978664, 0.20076375262489332, 0.06692125087496444, 0.06692125087496444, 0.26768500349985774, 0.08890692690448199, 0.08890692690448199, 0.44453463452240993, 0.17781385380896397, 0.08890692690448199, 0.06762680554977234, 0.06762680554977234, 0.4733876388484064, 0.27050722219908935, 0.06762680554977234, 0.5108513756657067, 0.051085137566570675, 0.15325541269971202, 0.051085137566570675, 0.051085137566570675, 0.051085137566570675, 0.051085137566570675, 0.08184228143837421, 0.04092114071918711, 0.04092114071918711, 0.20460570359593552, 0.08184228143837421, 0.12276342215756132, 0.04092114071918711, 0.08184228143837421, 0.368290266472684, 0.0973044664214573, 0.3892178656858292, 0.1946089328429146, 0.0973044664214573, 0.0973044664214573, 0.19262296073967858, 0.5778688822190358, 0.06420765357989286, 0.06420765357989286, 0.06420765357989286, 0.06420765357989286, 0.09038018185382657, 0.045190090926913284, 0.045190090926913284, 0.045190090926913284, 0.49709100019604613, 0.09038018185382657, 0.045190090926913284, 0.13557027278073985, 0.07080794283544249, 0.424847657012655, 0.07080794283544249, 0.28323177134176997, 0.07080794283544249, 0.07080794283544249, 0.07080794283544249, 0.07787740125555194, 0.07787740125555194, 0.07787740125555194, 0.07787740125555194, 0.07787740125555194, 0.5451418087888635, 0.07787740125555194, 0.06572783008321965, 0.06572783008321965, 0.06572783008321965, 0.4600948105825376, 0.06572783008321965, 0.06572783008321965, 0.19718349024965898, 0.0644155643559119, 0.1288311287118238, 0.1288311287118238, 0.1288311287118238, 0.4509089504913833, 0.0644155643559119, 0.0644155643559119, 0.08320865445156636, 0.33283461780626544, 0.41604327225783183, 0.08320865445156636, 0.08320865445156636, 0.20247259072750048, 0.40494518145500097, 0.05061814768187512, 0.10123629536375024, 0.05061814768187512, 0.05061814768187512, 0.15185444304562537, 0.1194173991808256, 0.04885257239215592, 0.04342450879302749, 0.2822593071546787, 0.12484546277995404, 0.0597086995904128, 0.14112965357733934, 0.05428063599128436, 0.07056482678866967, 0.06513676318954123, 0.12052051355444174, 0.0954120732305997, 0.08034700903629449, 0.2761928435622623, 0.15065064194305217, 0.030130128388610435, 0.14562895387828378, 0.06026025677722087, 0.010043376129536812, 0.030130128388610435, 0.0837562263703345, 0.167512452740669, 0.5862935845923415, 0.0837562263703345, 0.1679003287318755, 0.3917674337077095, 0.0559667762439585, 0.0559667762439585, 0.111933552487917, 0.0559667762439585, 0.223867104975834, 0.12476447127707294, 0.10397039273089412, 0.0831763141847153, 0.37429341383121884, 0.0831763141847153, 0.0831763141847153, 0.06238223563853647, 0.06238223563853647, 0.020794078546178825, 0.29810413912704814, 0.07452603478176203, 0.5216822434723343, 0.07452603478176203, 0.07762050418626724, 0.23286151255880172, 0.23286151255880172, 0.07762050418626724, 0.310482016745069, 0.07762050418626724, 0.08723550776664234, 0.261706523299927, 0.08723550776664234, 0.17447101553328467, 0.34894203106656935, 0.17222481029057465, 0.3788945826392643, 0.06888992411622986, 0.06888992411622986, 0.03444496205811493, 0.06888992411622986, 0.06888992411622986, 0.03444496205811493, 0.03444496205811493, 0.5099696192178322, 0.04636087447434838, 0.13908262342304514, 0.09272174894869677, 0.09272174894869677, 0.04636087447434838, 0.04636087447434838, 0.14295777979710697, 0.18380285973913754, 0.08169015988406113, 0.040845079942030564, 0.1021126998550764, 0.040845079942030564, 0.020422539971015282, 0.28591555959421394, 0.020422539971015282, 0.06126761991304584, 0.08410901293524119, 0.25232703880572355, 0.08410901293524119, 0.16821802587048237, 0.33643605174096475, 0.5232056435733593, 0.07474366336762275, 0.07474366336762275, 0.22423099010286826, 0.0711096856044586, 0.21332905681337577, 0.0711096856044586, 0.0711096856044586, 0.0711096856044586, 0.42665811362675155, 0.0711096856044586, 0.07808966812199113, 0.15617933624398225, 0.07808966812199113, 0.39044834060995565, 0.15617933624398225, 0.07808966812199113, 0.07671784260529087, 0.3835892130264543, 0.2301535278158726, 0.15343568521058173, 0.07671784260529087, 0.06577698393605914, 0.06577698393605914, 0.1315539678721183, 0.19733095180817745, 0.06577698393605914, 0.06577698393605914, 0.3946619036163549, 0.14149452799649304, 0.16431622606044355, 0.18257358451160394, 0.11524957522294998, 0.051348820643888606, 0.09813330167498711, 0.03879688670871584, 0.13693018838370294, 0.013693018838370295, 0.0559131602566787, 0.4354609300992921, 0.12441740859979775, 0.031104352149949437, 0.031104352149949437, 0.21773046504964605, 0.031104352149949437, 0.12441740859979775, 0.19013463777047643, 0.2575241296384934, 0.06738949186801696, 0.04332181620086805, 0.04332181620086805, 0.03369474593400848, 0.15162635670303817, 0.10108423780202544, 0.06257595673458718, 0.04813535133429783, 0.10004255579756591, 0.20588468004716462, 0.11019180058862331, 0.0956928794585413, 0.12759050594472174, 0.06959482142439367, 0.1043922321365905, 0.08264385044146748, 0.08119395832845928, 0.021748381695123022, 0.05780227944629571, 0.05780227944629571, 0.05780227944629571, 0.05780227944629571, 0.40461595612407, 0.05780227944629571, 0.05780227944629571, 0.05780227944629571, 0.11560455889259141, 0.12898208034553937, 0.12898208034553937, 0.04299402678184646, 0.12898208034553937, 0.17197610712738584, 0.3869462410366181, 0.07965323614833955, 0.07965323614833955, 0.39826618074169773, 0.1593064722966791, 0.07965323614833955, 0.1593064722966791, 0.5257468902146901, 0.10514937804293802, 0.05257468902146901, 0.10514937804293802, 0.10514937804293802, 0.0719599685000066, 0.2158799055000198, 0.0719599685000066, 0.4317598110000396, 0.2158799055000198, 0.0646474732247061, 0.5818272590223549, 0.0646474732247061, 0.0646474732247061, 0.1292949464494122, 0.0646474732247061, 0.44592314929380805, 0.0891846298587616, 0.1783692597175232, 0.0891846298587616, 0.0891846298587616, 0.5087112719917124, 0.06358890899896405, 0.1271778179979281, 0.1271778179979281, 0.06358890899896405, 0.06358890899896405, 0.06849906598216043, 0.08562383247770054, 0.051374299486620326, 0.08562383247770054, 0.08562383247770054, 0.08562383247770054, 0.11987336546878076, 0.01712476649554011, 0.08562383247770054, 0.29112103042418186, 0.08569041756733721, 0.09366161920150812, 0.21721524453115712, 0.1315248269638199, 0.09764722001859356, 0.07174081470753813, 0.14148882900653353, 0.055798411439196324, 0.03587040735376906, 0.06974801429899541, 0.08448426261756989, 0.16896852523513978, 0.08448426261756989, 0.16896852523513978, 0.42242131308784947, 0.043503635536099476, 0.043503635536099476, 0.1740145421443979, 0.043503635536099476, 0.13051090660829842, 0.08700727107219895, 0.043503635536099476, 0.3915327198248953, 0.18643254598063982, 0.09321627299031991, 0.5126895014467595, 0.09321627299031991, 0.09321627299031991, 0.046608136495159956, 0.08073026573006675, 0.053820177153377835, 0.08073026573006675, 0.08073026573006675, 0.053820177153377835, 0.053820177153377835, 0.10764035430675567, 0.026910088576688918, 0.053820177153377835, 0.4305614172270227, 0.4055004613775172, 0.3244003691020138, 0.08110009227550345, 0.08110009227550345, 0.08110009227550345, 0.08110009227550345, 0.16608011050312033, 0.12062660657595056, 0.052446350685195896, 0.2290157313253554, 0.0699284675802612, 0.06293562082223507, 0.11887839488644403, 0.04370529223766324, 0.036712445479637125, 0.0996480663018722, 0.070007120115055, 0.42004272069033, 0.14001424023011, 0.210021360345165, 0.14001424023011, 0.034332711367993526, 0.034332711367993526, 0.20599626820796116, 0.034332711367993526, 0.3776598250479288, 0.17166355683996762, 0.034332711367993526, 0.10299813410398058, 0.08188398439736731, 0.24565195319210192, 0.08188398439736731, 0.5731878907815712, 0.2391810500415375, 0.0797270166805125, 0.39863508340256254, 0.0797270166805125, 0.0797270166805125, 0.0797270166805125, 0.1276866463569363, 0.03856308111451097, 0.11826011541783363, 0.101977925613929, 0.15253840974184338, 0.10112096825582875, 0.16196494068094605, 0.035992209040210235, 0.03684916639831048, 0.12425881692453535, 0.07916075239640784, 0.07916075239640784, 0.07916075239640784, 0.39580376198203915, 0.15832150479281568, 0.2374822571892235, 0.23724916301005386, 0.15377260565466452, 0.039541527168342305, 0.28118419319710086, 0.04832853320575171, 0.08347655735538932, 0.017574012074818804, 0.030754521130932907, 0.05272203622445641, 0.061509042261865814, 0.39925381788336345, 0.07985076357667269, 0.39925381788336345, 0.09812009104700704, 0.1962401820940141, 0.09812009104700704, 0.09812009104700704, 0.3924803641880282, 0.09812009104700704, 0.07917099089798389, 0.4750259453879034, 0.07917099089798389, 0.15834198179596778, 0.07917099089798389, 0.15834198179596778, 0.07917099089798389, 0.18707019146990392, 0.4676754786747598, 0.18707019146990392, 0.09353509573495196, 0.10385806605436475, 0.02077161321087295, 0.10385806605436475, 0.14540129247611067, 0.35311742458484013, 0.14540129247611067, 0.0415432264217459, 0.0830864528434918, 0.02077161321087295, 0.19595621859479329, 0.12083966813345587, 0.05225499162527821, 0.05225499162527821, 0.09144623534423686, 0.0555209286018581, 0.31026401277508936, 0.03592530674237877, 0.03592530674237877, 0.04572311767211843, 0.06741627616016313, 0.06741627616016313, 0.13483255232032626, 0.06741627616016313, 0.06741627616016313, 0.4044976569609788, 0.06741627616016313, 0.4661569739937312, 0.0776928289989552, 0.0776928289989552, 0.2330784869968656, 0.0776928289989552, 0.0802112212905741, 0.04812673277434446, 0.032084488516229644, 0.04812673277434446, 0.058821562279754346, 0.3422345441731162, 0.08555863604327905, 0.13368536881762352, 0.058821562279754346, 0.10694829505409881, 0.16279315492563182, 0.11172751264369679, 0.12406552017490258, 0.07471349005007945, 0.16793399139696757, 0.0915068891897762, 0.11001390048658488, 0.08293882840421664, 0.04215485906495308, 0.03221590855370398, 0.17332462642578253, 0.08666231321289126, 0.08666231321289126, 0.08666231321289126, 0.34664925285156506, 0.21665578303222816, 0.09115406378654006, 0.18230812757308013, 0.09115406378654006, 0.09115406378654006, 0.09115406378654006, 0.36461625514616025, 0.2722168487495587, 0.47637948531172775, 0.06805421218738968, 0.06805421218738968, 0.06805421218738968, 0.06805421218738968, 0.15698533364309322, 0.19241776004529607, 0.04871958630302893, 0.1136790347070675, 0.07480178907131714, 0.11269480064033964, 0.11663173690725108, 0.05511710773676, 0.05708557587021571, 0.0723412039044975, 0.08701518999385341, 0.17403037998770682, 0.17403037998770682, 0.435075949969267, 0.07986684698841766, 0.03993342349420883, 0.15973369397683532, 0.15973369397683532, 0.06655570582368138, 0.33277852911840694, 0.06655570582368138, 0.03993342349420883, 0.03993342349420883, 0.03993342349420883, 0.04842346596322697, 0.04842346596322697, 0.21790559683452138, 0.04842346596322697, 0.04842346596322697, 0.1452703978896809, 0.3631759947242023, 0.04842346596322697, 0.04842346596322697, 0.0762477377117336, 0.1524954754234672, 0.0762477377117336, 0.0762477377117336, 0.0762477377117336, 0.5337341639821352, 0.10271150129259153, 0.10082342222471301, 0.16539572634615843, 0.11630567058131688, 0.0630618408671426, 0.1091309701233785, 0.11894898127634682, 0.09629203246180457, 0.04267058693405457, 0.08534117386810915, 0.05378023981784048, 0.05378023981784048, 0.37646167872488334, 0.21512095927136193, 0.05378023981784048, 0.10756047963568097, 0.05378023981784048, 0.05378023981784048, 0.08171029088205728, 0.03619382012225356, 0.2517115672138543, 0.04771003561569787, 0.044419688331856645, 0.14313010684709362, 0.04551647075980372, 0.0762263787423219, 0.16342058176411456, 0.1102266340086813, 0.11671467900316847, 0.11770378645234786, 0.06824841399337818, 0.07319395123927515, 0.05539001715404605, 0.12363843114742422, 0.12957307584250058, 0.21463631647192846, 0.053411802255687264, 0.046488050111431506, 0.06824435689918604, 0.09008255110692558, 0.0919024006242372, 0.18107502697250696, 0.20473307069755814, 0.11283067007332093, 0.057325259795316275, 0.08371307779633488, 0.031847366552953484, 0.07734360448574418, 0.08075998984071575, 0.026919996613571917, 0.17305712108724805, 0.07306856223683807, 0.04999427942520499, 0.13075426926592074, 0.053839993227143834, 0.053839993227143834, 0.25766282472990265, 0.09998855885040998, 0.047585021656907686, 0.09517004331381537, 0.14275506497072307, 0.047585021656907686, 0.19034008662763074, 0.047585021656907686, 0.4282651949121692, 0.0936893331663092, 0.5621359989978553, 0.0936893331663092, 0.0936893331663092, 0.0936893331663092, 0.12931747669161384, 0.09579072347526951, 0.10297502773591473, 0.0694482745195704, 0.09339595538838778, 0.10058025964903299, 0.06226397025892519, 0.20355528738494771, 0.11015933199655994, 0.03352675321634433, 0.084103615923627, 0.3784662716563215, 0.084103615923627, 0.0420518079618135, 0.0420518079618135, 0.084103615923627, 0.0420518079618135, 0.0420518079618135, 0.21025903980906752, 0.5338553547232182, 0.08897589245386969, 0.17795178490773939, 0.20497579036278576, 0.043923383649168375, 0.0585645115322245, 0.043923383649168375, 0.07320563941528063, 0.07320563941528063, 0.13177015094750513, 0.32210481342723474, 0.0585645115322245, 0.014641127883056125, 0.11347497750506945, 0.037824992501689816, 0.037824992501689816, 0.11347497750506945, 0.416074917518588, 0.07564998500337963, 0.11347497750506945, 0.037824992501689816, 0.037824992501689816, 0.037824992501689816, 0.04803594438467588, 0.13432273337196404, 0.12186897001297399, 0.07027480752572952, 0.10407787950013107, 0.11920030643604755, 0.21082442257718859, 0.07294347110265596, 0.07294347110265596, 0.04536728080774944, 0.08910894342697404, 0.13016184419278862, 0.1154310974474081, 0.1422362267709694, 0.12774696767715246, 0.0601304252393402, 0.12726399237402525, 0.06858249304406673, 0.08983340638166487, 0.049504968570541125, 0.1771989737427129, 0.1771989737427129, 0.44299743435678224, 0.08859948687135645, 0.08859948687135645, 0.04837008515598159, 0.12092521288995396, 0.07255512773397238, 0.3869606812478527, 0.04837008515598159, 0.12092521288995396, 0.04837008515598159, 0.09674017031196318, 0.07255512773397238, 0.1273954473092798, 0.0636977236546399, 0.573279512891759, 0.0636977236546399, 0.1273954473092798, 0.6051602036256665, 0.0864514576608095, 0.0864514576608095, 0.0864514576608095, 0.0864514576608095, 0.11335666283356104, 0.3967483199174636, 0.22671332566712207, 0.11335666283356104, 0.05667833141678052, 0.05667833141678052, 0.05667833141678052, 0.1318941353341032, 0.3768403866688663, 0.06908740422262549, 0.05024538488918218, 0.10049076977836437, 0.03768403866688663, 0.10049076977836437, 0.056526058000329955, 0.03140336555573886, 0.03768403866688663, 0.14571157079164784, 0.16028272787081263, 0.08014136393540632, 0.2914231415832957, 0.05099904977707675, 0.0947125210145711, 0.03642789269791196, 0.043713471237494354, 0.08014136393540632, 0.014571157079164785, 0.08478238219950635, 0.4239119109975317, 0.1695647643990127, 0.1695647643990127, 0.1288295897550536, 0.12341658178215217, 0.07686471321520004, 0.1223339801875719, 0.0725343068368789, 0.17321625513284516, 0.12125137859299161, 0.07794731480978033, 0.04330406378321129, 0.05954308770191553, 0.05917537693841947, 0.0887630654076292, 0.0887630654076292, 0.05917537693841947, 0.05917537693841947, 0.14793844234604867, 0.11835075387683894, 0.05917537693841947, 0.3550522616305168, 0.044630710723481896, 0.044630710723481896, 0.5355685286817828, 0.044630710723481896, 0.1338921321704457, 0.044630710723481896, 0.1338921321704457, 0.044630710723481896, 0.0708622969341912, 0.0708622969341912, 0.1417245938683824, 0.0708622969341912, 0.2834491877367648, 0.354311484670956, 0.41996414536584686, 0.2519784872195081, 0.08399282907316936, 0.16798565814633873, 0.1363227994249079, 0.11490064522956524, 0.02142215419534267, 0.14800761080418573, 0.02142215419534267, 0.10516330241350039, 0.10905823953992633, 0.14606014224097277, 0.029212028448194552, 0.16942976499952841, 0.08479913575066422, 0.08479913575066422, 0.16959827150132845, 0.16959827150132845, 0.4239956787533211, 0.0741486540033191, 0.0741486540033191, 0.0741486540033191, 0.1482973080066382, 0.0741486540033191, 0.5190405780232338, 0.0741486540033191, 0.06474571155789426, 0.19423713467368275, 0.06474571155789426, 0.06474571155789426, 0.06474571155789426, 0.06474571155789426, 0.517965692463154, 0.2598092644932952, 0.06113159164548122, 0.07641448955685153, 0.045848693734110914, 0.10698028537959214, 0.03056579582274061, 0.10698028537959214, 0.015282897911370306, 0.3056579582274061, 0.17421354769015748, 0.06997698986717622, 0.08601338337840411, 0.05743944584930715, 0.2417121858328712, 0.06516607181380786, 0.07959882597391296, 0.10059192293406582, 0.05321166937816525, 0.07187220000941225, 0.08682715239887678, 0.17329845581251227, 0.19891958274988575, 0.07081394806301837, 0.08789469935460067, 0.08042187066453342, 0.06156187444674461, 0.06689960922536409, 0.11814186310011104, 0.05551244169764254, 0.123360751622074, 0.05326941547316832, 0.08971691027059926, 0.06868950942592757, 0.1443881524667457, 0.24391784979819175, 0.12055709817611776, 0.06448402925699323, 0.0728949895948619, 0.018223747398715476, 0.6011532874779145, 0.2576371232048205, 0.04293952053413675, 0.04293952053413675, 0.04293952053413675, 0.09063460315516927, 0.09063460315516927, 0.18126920631033855, 0.3625384126206771, 0.09063460315516927, 0.09063460315516927, 0.07317995494524232, 0.09313812447576296, 0.10200842204488324, 0.12861931475224408, 0.08648540129892275, 0.057656934199281834, 0.19736412091292627, 0.04656906223788148, 0.0975732732603231, 0.11753144279084374, 0.0804519210590995, 0.0804519210590995, 0.0804519210590995, 0.0804519210590995, 0.0804519210590995, 0.643615368472796, 0.07677824811939861, 0.15355649623879722, 0.07677824811939861, 0.07677824811939861, 0.6142259849551889, 0.5076994795140796, 0.07252849707343995, 0.07252849707343995, 0.07252849707343995, 0.07252849707343995, 0.1450569941468799, 0.07022278133027275, 0.07022278133027275, 0.07022278133027275, 0.07022278133027275, 0.1404455626605455, 0.3511139066513637, 0.21066834399081824, 0.07022278133027275, 0.07558518813148579, 0.07558518813148579, 0.15117037626297158, 0.07558518813148579, 0.07558518813148579, 0.07558518813148579, 0.07558518813148579, 0.37792594065742896, 0.08016153781965632, 0.16032307563931264, 0.3206461512786253, 0.08016153781965632, 0.4008076890982816, 0.18405067443315185, 0.0653083038311184, 0.07448385065036645, 0.08257992137323236, 0.19214674515601776, 0.07880175503589493, 0.09823232477077314, 0.05613275701187036, 0.040480353614329584, 0.1279179174212815, 0.1828507428197009, 0.11222989225259304, 0.10688561166913624, 0.09352491021049421, 0.0813094117340215, 0.09123450424615558, 0.12100978178255781, 0.09276144155571465, 0.07558339682317491, 0.04237251034026472, 0.03614321343475595, 0.0722864268695119, 0.1445728537390238, 0.0722864268695119, 0.3975753477823154, 0.1445728537390238, 0.10842964030426784, 0.07163961513016523, 0.13044825441612176, 0.1272405104550696, 0.057739391298939145, 0.1026478067536696, 0.07057036714314785, 0.07912435103928697, 0.06950111915613046, 0.16145644603962614, 0.12937900642910438, 0.13956399711436676, 0.4884739899002836, 0.13956399711436676, 0.06978199855718338, 0.06978199855718338, 0.06978199855718338, 0.049246743641625776, 0.049246743641625776, 0.443220692774632, 0.049246743641625776, 0.14774023092487734, 0.14774023092487734, 0.09849348728325155, 0.26696792741569736, 0.13348396370784868, 0.06674198185392434, 0.46719387297747034, 0.19705852970708512, 0.073344654554655, 0.1440382974989008, 0.0512528911345782, 0.09808742958514102, 0.0989711001219441, 0.0989711001219441, 0.13961994481488543, 0.05036922059777512, 0.04860187952416898, 0.06077580721012685, 0.06077580721012685, 0.2431032288405074, 0.18232742163038054, 0.4254306504708879, 0.06077580721012685, 0.08328074132713681, 0.1524858644017998, 0.08152128904557758, 0.07800238448245912, 0.11729681877061522, 0.06158082985457299, 0.177118196343629, 0.06509973441769144, 0.12550759608455828, 0.058061925291454534, 0.06376017947707807, 0.12752035895415614, 0.06376017947707807, 0.4463212563395465, 0.06376017947707807, 0.19128053843123421, 0.06376017947707807, 0.2509762360442908, 0.046974161826471544, 0.0966325614715986, 0.1744754582126086, 0.08052713455966551, 0.05636899419176585, 0.13018553420479256, 0.029526616005210685, 0.04294780509848827, 0.09126408583428758, 0.15223743340459497, 0.050745811134864996, 0.10149162226972999, 0.025372905567432498, 0.12686452783716248, 0.050745811134864996, 0.3805935835114875, 0.050745811134864996, 0.025372905567432498, 0.0866066278679211, 0.0866066278679211, 0.0866066278679211, 0.389729825405645, 0.12990994180188165, 0.04330331393396055, 0.04330331393396055, 0.0866066278679211, 0.04330331393396055, 0.15563124635841538, 0.07781562317920769, 0.07781562317920769, 0.07781562317920769, 0.07781562317920769, 0.38907811589603847, 0.07781562317920769, 0.1010155788088763, 0.15152336821331444, 0.05050778940443815, 0.05050778940443815, 0.353554525831067, 0.3030467364266289, 0.07471115437207704, 0.07471115437207704, 0.03735557718603852, 0.4109113490464237, 0.03735557718603852, 0.07471115437207704, 0.07471115437207704, 0.18677788593019257, 0.0637862260768265, 0.255144904307306, 0.0637862260768265, 0.510289808614612, 0.0637862260768265, 0.1678486621289487, 0.041962165532237174, 0.041962165532237174, 0.4615838208546089, 0.12588649659671153, 0.08392433106447435, 0.041962165532237174, 0.05525661413138621, 0.05525661413138621, 0.4420529130510897, 0.05525661413138621, 0.05525661413138621, 0.11051322826277242, 0.11051322826277242, 0.16576984239415862, 0.11865867467065543, 0.03955289155688514, 0.03955289155688514, 0.07910578311377028, 0.11865867467065543, 0.39552891556885145, 0.03955289155688514, 0.03955289155688514, 0.07910578311377028, 0.07254233379733963, 0.17604586636629155, 0.35119312274185027, 0.08373411277283008, 0.07589169830825282, 0.07254233379733963, 0.04468542408462249, 0.04591080134471269, 0.04198959411242406, 0.03561763235995504, 0.06681124886433315, 0.4008674931859989, 0.06681124886433315, 0.1336224977286663, 0.06681124886433315, 0.06681124886433315, 0.20043374659299945, 0.06308061084786272, 0.06308061084786272, 0.5046448867829018, 0.06308061084786272, 0.12616122169572544, 0.18924183254358817, 0.051969187745552724, 0.051969187745552724, 0.051969187745552724, 0.5196918774555273, 0.2078767509822109, 0.051969187745552724, 0.051969187745552724, 0.051969187745552724, 0.053627896393193444, 0.053627896393193444, 0.42902317114554755, 0.053627896393193444, 0.10725579278638689, 0.053627896393193444, 0.21451158557277378, 0.06523518599763668, 0.09785277899645503, 0.20311864731082332, 0.06375256813405404, 0.11712681122302951, 0.10378325045078564, 0.1512270220854305, 0.02372188581732243, 0.1200920469501948, 0.05633947881614078, 0.21903992718556692, 0.04380798543711339, 0.13142395631134016, 0.04380798543711339, 0.39427186893402044, 0.04380798543711339, 0.04380798543711339, 0.08761597087422678, 0.04380798543711339, 0.079553523280172, 0.159107046560344, 0.079553523280172, 0.079553523280172, 0.238660569840516, 0.39776761640086, 0.079553523280172, 0.42193642012172294, 0.08438728402434459, 0.25316185207303377, 0.08438728402434459, 0.08438728402434459, 0.4547101781155657, 0.19487579062095672, 0.06495859687365224, 0.12991719374730448, 0.06495859687365224, 0.06495859687365224, 0.09027294463854284, 0.541637667831257, 0.09027294463854284, 0.18054588927708567, 0.11987034229553756, 0.03995678076517919, 0.07991356153035838, 0.03995678076517919, 0.07991356153035838, 0.07991356153035838, 0.47948136918215023, 0.07991356153035838, 0.03995678076517919, 0.06707940875694456, 0.23477793064930597, 0.10061911313541684, 0.3689367481631951, 0.03353970437847228, 0.06707940875694456, 0.06707940875694456, 0.03353970437847228, 0.03353970437847228, 0.07508402705278938, 0.15016805410557876, 0.4505041623167363, 0.07508402705278938, 0.15016805410557876, 0.0429853315768662, 0.0429853315768662, 0.5158239789223944, 0.1289559947305986, 0.0429853315768662, 0.0429853315768662, 0.0429853315768662, 0.0429853315768662, 0.0859706631537324, 0.07787302265159406, 0.07787302265159406, 0.1557460453031881, 0.07787302265159406, 0.4672381359095643, 0.07787302265159406, 0.07787302265159406, 0.13643011484154946, 0.04508125533894678, 0.0735536271319658, 0.08660346420376619, 0.05931744123545629, 0.1103304406979487, 0.18151137018049626, 0.06762188300842017, 0.17913867253107799, 0.05931744123545629, 0.1595636220750274, 0.36091771659827626, 0.05698700788393836, 0.05698700788393836, 0.10257661419108904, 0.04179047244822146, 0.03799133858929224, 0.0645852756017968, 0.045589606307150685, 0.07598267717858448, 0.05865994942882145, 0.5865994942882146, 0.05865994942882145, 0.05865994942882145, 0.1173198988576429, 0.05865994942882145, 0.05865994942882145, 0.057794829054403245, 0.17338448716320973, 0.057794829054403245, 0.17338448716320973, 0.4045638033808227, 0.14434677732218715, 0.07176562940312128, 0.07584322198284409, 0.10499800892786211, 0.11274543482933544, 0.05015438873059044, 0.13721099030767223, 0.09602730525247195, 0.12212389776269787, 0.08461004602924811, 0.12418666131685314, 0.16558221508913754, 0.05174444221535548, 0.06209333065842657, 0.041395553772284384, 0.11383777287378205, 0.31046665329213285, 0.041395553772284384, 0.06209333065842657, 0.020697776886142192, 0.11017069862246755, 0.15729927525541199, 0.05263711156406783, 0.09792950988663782, 0.08813655889797403, 0.09303303439230592, 0.10894657974888457, 0.09486921270268038, 0.10588628256492714, 0.09180891551872296, 0.11362073492854165, 0.08479159323025497, 0.1214215615057251, 0.08173909587396579, 0.1214215615057251, 0.0973407490283327, 0.137023214660092, 0.08241742861980782, 0.12583072435369835, 0.034255803665023, 0.08665452937995666, 0.6932362350396533, 0.08665452937995666, 0.08665452937995666, 0.08665452937995666, 0.17351266776877192, 0.08675633388438596, 0.08675633388438596, 0.08675633388438596, 0.08675633388438596, 0.34702533553754383, 0.12883652240264223, 0.1524565515097933, 0.2662621462987939, 0.057976435081189, 0.08159646418834007, 0.05582915970781163, 0.08159646418834007, 0.04509278284092478, 0.11810014553575537, 0.012883652240264222, 0.09156971046440943, 0.640987973250866, 0.09156971046440943, 0.09156971046440943, 0.26694993248687515, 0.444916554144792, 0.0889833108289584, 0.1779666216579168, 0.05517123694145098, 0.05517123694145098, 0.05517123694145098, 0.05517123694145098, 0.11034247388290196, 0.5517123694145099, 0.05517123694145098, 0.1594674756821046, 0.2392012135231569, 0.0797337378410523, 0.0797337378410523, 0.3986686892052615, 0.0797337378410523, 0.15506793570342042, 0.0978042862443142, 0.13175706955192587, 0.10135159196301989, 0.16013551530157144, 0.10337862380228029, 0.059290681298366635, 0.0891894009274575, 0.06435826089651762, 0.03750008902631736, 0.10125965708712373, 0.09773216903285917, 0.08839470065392357, 0.1553132240362953, 0.10105215778981405, 0.16361319592868248, 0.06577727724716849, 0.08403721541042031, 0.10291965146560117, 0.03983986508345851, 0.10565180283935087, 0.1320647535491886, 0.12326043664590935, 0.052825901419675435, 0.07043453522623391, 0.058695446021861594, 0.06163021832295468, 0.06163021832295468, 0.14380384275356092, 0.19369497187214327, 0.10038298968704085, 0.11062034840866541, 0.1720445007384128, 0.061139781254146694, 0.0867331780582081, 0.08559569375580538, 0.054030504364129636, 0.12398578896189748, 0.11801399637428316, 0.08787066236061084, 0.10687264021312536, 0.12214016024357184, 0.06107008012178592, 0.3969555207916085, 0.01526752003044648, 0.06107008012178592, 0.0763376001522324, 0.10687264021312536, 0.04580256009133944, 0.5251717121763775, 0.08752861869606292, 0.08752861869606292, 0.17505723739212584, 0.08752861869606292, 0.1469640927401804, 0.1469640927401804, 0.0734820463700902, 0.0734820463700902, 0.0734820463700902, 0.1469640927401804, 0.367410231850451, 0.07822502117841623, 0.07822502117841623, 0.2346750635352487, 0.15645004235683246, 0.39112510589208116, 0.03849230582393795, 0.0769846116478759, 0.4041692111513485, 0.11547691747181385, 0.1732153762077208, 0.057738458735906925, 0.057738458735906925, 0.019246152911968975, 0.057738458735906925, 0.18974920802471337, 0.12649947201647557, 0.06324973600823779, 0.44274815205766455, 0.18974920802471337, 0.08508628264409364, 0.08508628264409364, 0.4254314132204682, 0.17017256528818728, 0.08508628264409364, 0.08508628264409364, 0.06619096829881774, 0.13238193659763547, 0.06619096829881774, 0.3971458097929064, 0.1985729048964532, 0.06619096829881774, 0.04847482820278466, 0.04847482820278466, 0.290848969216708, 0.04847482820278466, 0.48474828202784664, 0.09694965640556932, 0.060076941540588985, 0.060076941540588985, 0.060076941540588985, 0.060076941540588985, 0.060076941540588985, 0.4806155323247119, 0.3003847077029449, 0.38706168468501806, 0.04838271058562726, 0.04838271058562726, 0.09676542117125451, 0.09676542117125451, 0.33867897409939085, 0.06425728756134647, 0.12851457512269293, 0.44980101292942526, 0.06425728756134647, 0.06425728756134647, 0.06425728756134647, 0.06425728756134647, 0.06425728756134647, 0.05828300821495409, 0.11656601642990819, 0.08013913629556188, 0.3205565451822475, 0.07285376026869261, 0.18213440067173153, 0.007285376026869262, 0.07285376026869261, 0.06556838424182335, 0.021856128080607783, 0.07083835072514598, 0.07083835072514598, 0.6375451565263138, 0.14167670145029196, 0.13230955099822117, 0.09777286673030315, 0.0899899519657019, 0.07004623288141121, 0.16344121005662615, 0.10020502759424105, 0.09534070586636527, 0.07880201199158761, 0.07199196157256152, 0.10020502759424105, 0.11101594374808117, 0.1202672723937546, 0.11512764536838048, 0.18605449831854345, 0.08531780862121054, 0.07812233078568676, 0.15007710914092456, 0.09559706267195879, 0.01953058269642169, 0.03906116539284338, 0.08570203127971036, 0.5142121876782622, 0.08570203127971036, 0.08570203127971036, 0.08570203127971036, 0.18891822198597397, 0.05724794605635575, 0.037211164936631236, 0.08300952178171583, 0.08300952178171583, 0.12022068671834707, 0.09445911099298698, 0.06583513796480911, 0.025761575725360086, 0.24330377073951193, 0.09492207318554914, 0.09492207318554914, 0.09492207318554914, 0.09492207318554914, 0.09492207318554914, 0.37968829274219656, 0.09492207318554914, 0.09492207318554914, 0.09681675626604613, 0.07412277798446028, 0.060245165366224325, 0.1343679433506846, 0.06955132912198256, 0.08522486807904904, 0.11706174408559035, 0.0984494165740739, 0.14547003344527337, 0.11836787233201256, 0.062395537440941694, 0.062395537440941694, 0.18718661232282507, 0.4367687620865919, 0.12479107488188339, 0.12479107488188339, 0.3772489474307705, 0.07544978948615409, 0.07544978948615409, 0.07544978948615409, 0.3772489474307705, 0.07544978948615409, 0.16105223476085914, 0.08052611738042957, 0.08052611738042957, 0.24157835214128873, 0.40263058690214787, 0.08566924624588894, 0.4283462312294447, 0.08566924624588894, 0.17133849249177788, 0.08566924624588894, 0.08566924624588894, 0.06880300426614647, 0.13760600853229293, 0.2064090127984394, 0.13760600853229293, 0.4128180255968788, 0.06880300426614647, 0.10403249021778667, 0.14271123658080992, 0.1080337398415477, 0.10003124059402564, 0.0626862441055894, 0.07468999297687248, 0.032009996990088205, 0.11070123959072171, 0.18539123256759418, 0.08002499247522052, 0.06461902185783934, 0.38771413114703607, 0.12923804371567868, 0.06461902185783934, 0.25847608743135736, 0.06461902185783934, 0.06461902185783934, 0.044518920142632104, 0.35615136114105683, 0.044518920142632104, 0.044518920142632104, 0.044518920142632104, 0.1335567604278963, 0.1335567604278963, 0.1335567604278963, 0.044518920142632104, 0.09909046254202643, 0.19818092508405286, 0.09909046254202643, 0.049545231271013214, 0.049545231271013214, 0.3963618501681057, 0.049545231271013214, 0.049545231271013214, 0.049545231271013214, 0.08570326558055336, 0.1714065311611067, 0.1714065311611067, 0.08570326558055336, 0.4285163279027668, 0.22056779084544065, 0.22056779084544065, 0.4411355816908813, 0.07352259694848022, 0.07352259694848022, 0.0648450892379173, 0.03242254461895865, 0.09726763385687595, 0.03242254461895865, 0.03242254461895865, 0.1945352677137519, 0.03242254461895865, 0.09726763385687595, 0.42149308004646246, 0.0573044570867164, 0.1146089141734328, 0.3438267425202984, 0.0573044570867164, 0.0573044570867164, 0.3438267425202984, 0.04483971869911608, 0.07588260087542721, 0.13106994696664698, 0.1345191560973482, 0.05173813696051855, 0.08278101913682968, 0.06208576435262226, 0.08967943739823216, 0.25179226654119025, 0.07588260087542721, 0.12146975191077536, 0.08676410850769668, 0.017352821701539334, 0.20823386041847203, 0.12146975191077536, 0.017352821701539334, 0.017352821701539334, 0.38176207743386537, 0.0921166275280961, 0.04605831376404805, 0.04605831376404805, 0.13817494129214417, 0.46058313764048053, 0.04605831376404805, 0.13817494129214417, 0.04605831376404805, 0.11372547177805788, 0.1216598070183875, 0.11108069336461467, 0.0846329092301826, 0.13885086670576835, 0.20761510545529172, 0.03173734096131848, 0.047606011441977715, 0.09521202288395543, 0.04892840064869932, 0.27452276411757176, 0.09430171286481473, 0.029338310669053472, 0.19489020658728376, 0.03143390428827158, 0.10477968096090526, 0.07334577667263367, 0.12154442991465009, 0.023051529811399154, 0.05238984048045263, 0.15172727075848316, 0.07586363537924158, 0.22759090613772476, 0.4551818122754495, 0.07586363537924158, 0.3399272539372529, 0.08498181348431323, 0.08498181348431323, 0.08498181348431323, 0.3399272539372529, 0.25645388004717184, 0.12822694002358592, 0.06411347001179296, 0.06411347001179296, 0.06411347001179296, 0.44879429008255073, 0.06411347001179296, 0.11247685311250646, 0.07498456874167098, 0.11247685311250646, 0.03749228437083549, 0.07498456874167098, 0.3749228437083549, 0.03749228437083549, 0.07498456874167098, 0.11247685311250646, 0.0825999447702474, 0.24779983431074223, 0.41299972385123707, 0.1651998895404948, 0.0825999447702474, 0.04623889245573503, 0.023119446227867515, 0.13871667736720508, 0.06935833868360254, 0.11559723113933756, 0.3467916934180127, 0.11559723113933756, 0.06935833868360254, 0.04623889245573503, 0.023119446227867515, 0.14176713283975648, 0.08377148758712882, 0.09021544817075412, 0.11921327079706795, 0.057995645252627646, 0.22876060071869794, 0.061217625544440296, 0.07088356641987824, 0.07732752700350354, 0.07088356641987824, 0.15536789405765192, 0.20715719207686925, 0.05178929801921731, 0.36252508613452117, 0.15536789405765192, 0.05178929801921731, 0.1101977915532132, 0.039356354126147575, 0.06297016660183612, 0.04329198953876233, 0.2203955831064264, 0.2676232080578035, 0.09839088531536894, 0.09445524990275418, 0.0550988957766066, 0.011806906237844273, 0.08270052150507343, 0.030692977053429316, 0.04518688288421538, 0.09463667924807372, 0.04092396940457242, 0.22422924902921973, 0.06138595410685863, 0.1722217045775756, 0.1705165391857184, 0.07929019072135907, 0.10821416112043787, 0.04822587615149949, 0.08645370480817591, 0.2052540338643088, 0.08233686172207229, 0.07880813907684063, 0.12291717214223649, 0.07469129599073701, 0.13938454448665094, 0.054107080560218936, 0.5027460460337537, 0.06284325575421922, 0.09426488363132883, 0.06284325575421922, 0.03142162787710961, 0.03142162787710961, 0.09426488363132883, 0.12568651150843843, 0.25887366807676104, 0.25887366807676104, 0.03530095473774014, 0.10590286421322044, 0.0470679396503202, 0.08236889438806033, 0.04314561134612684, 0.027456298129353445, 0.1333591623425739, 0.003922328304193349, 0.08514844714051398, 0.08514844714051398, 0.3405937885620559, 0.08514844714051398, 0.08514844714051398, 0.17029689428102796, 0.18963965904494073, 0.04640119317057061, 0.10692448861044532, 0.08473261361582458, 0.10087215906645784, 0.06657562498386217, 0.20174431813291568, 0.04841863635189977, 0.09885471588512869, 0.054470965895887236, 0.1348370387227981, 0.06741851936139905, 0.01685462984034976, 0.05056388952104928, 0.0842731492017488, 0.05056388952104928, 0.1685462984034976, 0.32023796696664547, 0.01685462984034976, 0.0842731492017488, 0.5478568400233466, 0.15653052572095616, 0.07826526286047808, 0.07826526286047808, 0.07826526286047808, 0.17765922940524556, 0.16038680432418, 0.11011170989179282, 0.10301767816206947, 0.047190732810768354, 0.131085368918801, 0.07248249810804289, 0.11227076302692601, 0.037320775621588045, 0.048116041297254004, 0.05022919797757103, 0.3516043858429972, 0.05022919797757103, 0.05022919797757103, 0.05022919797757103, 0.05022919797757103, 0.10045839595514205, 0.10045839595514205, 0.05022919797757103, 0.15068759393271308, 0.2819420488480144, 0.07705248539945735, 0.04728220694966701, 0.02977027844979034, 0.07004771399950668, 0.05954055689958068, 0.11908111379916136, 0.11908111379916136, 0.06829652114951902, 0.1278370780490997, 0.030667444374971386, 0.06133488874994277, 0.1840046662498283, 0.06133488874994277, 0.15333722187485693, 0.06133488874994277, 0.12266977749988554, 0.030667444374971386, 0.33734188812468524, 0.09645660639792143, 0.0602853789987009, 0.09645660639792143, 0.024114151599480358, 0.09645660639792143, 0.31348397079324464, 0.024114151599480358, 0.012057075799740179, 0.2531985917945438, 0.012057075799740179, 0.14559352680192578, 0.06606765081768061, 0.044045100545120404, 0.047715525590547106, 0.10521885130223209, 0.026916450333129137, 0.11745360145365442, 0.0697380758631073, 0.34746690430039434, 0.02813992534827137, 0.15294592620884467, 0.11480673850282233, 0.07900260310533197, 0.07550002464253401, 0.08639693541568325, 0.14788664620702538, 0.04670104617063959, 0.15683768005639798, 0.09690467080407715, 0.04358764309259695, 0.0822499287235644, 0.0822499287235644, 0.1644998574471288, 0.0822499287235644, 0.0822499287235644, 0.411249643617822, 0.21098671254817442, 0.10549335627408721, 0.10549335627408721, 0.052746678137043604, 0.052746678137043604, 0.4747201032333924, 0.08254360917129429, 0.08254360917129429, 0.16508721834258858, 0.49526165502776576, 0.16508721834258858, 0.20552926922894366, 0.0981869975657962, 0.0733748779106558, 0.13255244671382485, 0.11344578772804831, 0.10004458941163558, 0.07390561843803849, 0.07231339685589044, 0.07364024817434715, 0.05705460669363833, 0.36954266884677966, 0.09238566721169492, 0.4619283360584746, 0.1643649222218338, 0.10885807963544401, 0.16732887983567013, 0.056584645355057535, 0.13553369815997113, 0.09754115056443251, 0.06520706750439964, 0.05954860296889388, 0.08110465834224913, 0.06385981404356493, 0.10492775452661532, 0.11169728707671954, 0.06355838894264512, 0.16058835549413886, 0.12561243731860042, 0.12523635217692797, 0.04024111015895283, 0.07220834720111162, 0.06957575120940443, 0.12636460760194534, 0.18044856344521165, 0.04272916802892079, 0.10003007797539662, 0.1113149608138039, 0.07296827155708012, 0.12665363651649342, 0.1576596738297872, 0.04864551437138675, 0.09619540904972425, 0.06321725628894179, 0.18098065131397906, 0.18013888084275123, 0.12626557068417144, 0.07575934241050286, 0.09596183371997029, 0.10858839078838743, 0.10943016125961523, 0.024411343665606475, 0.06565809675576914, 0.03367081884911238, 0.11084702073561864, 0.12092402262067488, 0.1007700188505624, 0.04660613371838511, 0.19020341058043655, 0.06801976272412963, 0.047865758954017144, 0.0881737664942421, 0.1171451469137788, 0.11084702073561864, 0.06759112554460223, 0.06759112554460223, 0.06759112554460223, 0.13518225108920445, 0.06759112554460223, 0.5407290043568178, 0.06759112554460223, 0.10876625906395658, 0.21763230368668746, 0.08072651704838613, 0.07354195681663854, 0.1255302329380343, 0.09599370754084975, 0.08411922604671138, 0.10018470100936919, 0.08022758925451477, 0.033428162189381154, 0.16022581387229617, 0.1176224182761943, 0.184305993991832, 0.027784823214849045, 0.10836081053791127, 0.11484393595470939, 0.0620527718464962, 0.08242830887071884, 0.06668357571563771, 0.07501902268009242, 0.06824304188084213, 0.13648608376168425, 0.4435797722254738, 0.06824304188084213, 0.03412152094042106, 0.03412152094042106, 0.10236456282126317, 0.10236456282126317, 0.09807426712417504, 0.05884456027450503, 0.37268221507186516, 0.03922970684967002, 0.03922970684967002, 0.07845941369934004, 0.05884456027450503, 0.15691882739868007, 0.09807426712417504, 0.16292458186777944, 0.08146229093388972, 0.08146229093388972, 0.40731145466944857, 0.08146229093388972, 0.08146229093388972, 0.055261167649941594, 0.26402557877194316, 0.0982420758221184, 0.0982420758221184, 0.0368407784332944, 0.0491210379110592, 0.27016570851082555, 0.06754142712770639, 0.0245605189555296, 0.0368407784332944, 0.04646183369659031, 0.04646183369659031, 0.04646183369659031, 0.09292366739318061, 0.09292366739318061, 0.1393855010897709, 0.37169466957272246, 0.04646183369659031, 0.1393855010897709, 0.24600173003381987, 0.08200057667793996, 0.4100028833896998, 0.08200057667793996, 0.08200057667793996, 0.5504040447454998, 0.05504040447454998, 0.05504040447454998, 0.2752020223727499, 0.5499141288357973, 0.23567748378677025, 0.15711832252451352, 0.05207937812061335, 0.4166350249649068, 0.15623813436184003, 0.05207937812061335, 0.2083175124824534, 0.05207937812061335, 0.14835543268896814, 0.07417771634448407, 0.07417771634448407, 0.14835543268896814, 0.44506629806690445, 0.07417771634448407, 0.07041127286732446, 0.0740036847483104, 0.10885007999387404, 0.16165853464436739, 0.08801409108415557, 0.10022829147950778, 0.09124726177704293, 0.16309549939676177, 0.054245419402887726, 0.08801409108415557, 0.26365468661222063, 0.17699895045295932, 0.05899965015098644, 0.07190582362151472, 0.0626871282854231, 0.06453086735264142, 0.08112451895760636, 0.06453086735264142, 0.11615556123475455, 0.04056225947880318, 0.08442307299155154, 0.1266346094873273, 0.08442307299155154, 0.04221153649577577, 0.08442307299155154, 0.37990382846198195, 0.04221153649577577, 0.1266346094873273, 0.10772571122460046, 0.07688488260788016, 0.13986967344484413, 0.0955631309250488, 0.04474092038763648, 0.20328884214964926, 0.1055538218853948, 0.09382561945368427, 0.0716723481937866, 0.06081290149775832, 0.16436340153280002, 0.08218170076640001, 0.49309020459840003, 0.08218170076640001, 0.08218170076640001, 0.443190650350433, 0.13995494221592622, 0.11662911851327185, 0.023325823702654368, 0.06997747110796311, 0.09330329481061747, 0.023325823702654368, 0.023325823702654368, 0.023325823702654368, 0.06997747110796311, 0.07913423215981046, 0.1582684643196209, 0.1582684643196209, 0.1582684643196209, 0.3956711607990523, 0.2067499004515494, 0.07134327550792902, 0.09536703154631328, 0.13613461755084413, 0.05168747511288735, 0.10410294283299845, 0.08371914983073303, 0.07935119418739044, 0.06624732725736265, 0.10555892804744599, 0.0770680645171864, 0.2312041935515592, 0.4624083871031184, 0.0770680645171864, 0.1541361290343728, 0.0770680645171864, 0.10608045651829358, 0.047146869563686036, 0.05893358695460754, 0.1296538913001366, 0.05893358695460754, 0.11786717390921508, 0.35360152172764525, 0.05893358695460754, 0.047146869563686036, 0.011786717390921509, 0.06460820365957785, 0.1292164073191557, 0.03230410182978893, 0.09691230548936677, 0.1615205091489446, 0.45225742561704496, 0.06460820365957785, 0.07078782905159278, 0.21236348715477835, 0.5663026324127423, 0.07078782905159278, 0.07078782905159278, 0.37272821641120507, 0.10649377611748716, 0.37272821641120507, 0.05324688805874358, 0.11475614016272866, 0.08345901102743902, 0.04172950551371951, 0.0938913874058689, 0.27750121166623476, 0.10641023905998476, 0.0688536840976372, 0.07511310992469512, 0.03547007968666158, 0.10432376378429878, 0.10328995823334501, 0.16202346389544314, 0.09856427386972791, 0.09923937163595893, 0.0877627096100317, 0.11004093589565514, 0.057383310129636114, 0.1498717041032849, 0.0621089944932532, 0.06953506992179435, 0.18234822410754958, 0.12156548273836638, 0.06078274136918319, 0.36469644821509917, 0.12156548273836638, 0.06078274136918319, 0.06078274136918319, 0.06078274136918319, 0.03141765851028209, 0.3770119021233851, 0.09425297553084627, 0.06283531702056418, 0.06283531702056418, 0.15708829255141044, 0.03141765851028209, 0.03141765851028209, 0.09425297553084627, 0.03141765851028209, 0.10300295896884189, 0.2575073974221047, 0.41201183587536755, 0.20600591793768377, 0.07306581906855154, 0.060287491966876605, 0.07568701437145922, 0.13335331103542816, 0.16448000525745685, 0.05144095781956319, 0.0766699626100496, 0.1353192075126089, 0.049802710755245894, 0.17987952766203943, 0.16350881981589274, 0.08175440990794637, 0.08175440990794637, 0.16350881981589274, 0.49052645944767825, 0.14368983840900768, 0.0957932256060051, 0.04789661280300255, 0.0957932256060051, 0.43106951522702297, 0.0957932256060051, 0.04789661280300255, 0.03353754841475568, 0.10061264524426705, 0.06707509682951136, 0.06707509682951136, 0.13415019365902273, 0.4359881293918239, 0.03353754841475568, 0.10061264524426705, 0.03353754841475568, 0.0849163886504647, 0.0849163886504647, 0.6793311092037176, 0.0849163886504647, 0.07619142212035182, 0.2285742663610555, 0.07619142212035182, 0.07619142212035182, 0.07619142212035182, 0.07619142212035182, 0.38095711060175913, 0.07736289827758559, 0.07736289827758559, 0.4641773896655136, 0.07736289827758559, 0.07736289827758559, 0.07736289827758559, 0.2320886948327568, 0.05398306693350062, 0.43186453546800496, 0.05398306693350062, 0.10796613386700124, 0.10796613386700124, 0.05398306693350062, 0.10796613386700124, 0.05398306693350062, 0.02808872736339702, 0.07490327296905873, 0.47750836517774936, 0.05617745472679404, 0.04681454560566171, 0.05617745472679404, 0.037451636484529365, 0.11235490945358809, 0.08426618209019107, 0.02808872736339702, 0.1378908743539575, 0.17483771150142935, 0.11347957123866358, 0.06993508460057174, 0.09170732791961766, 0.12403581042365554, 0.08379014853087369, 0.08774873822524568, 0.06003861036464178, 0.05608002067026979, 0.2014443838988455, 0.10072219194942275, 0.5036109597471138, 0.10072219194942275, 0.14071327183944393, 0.2047296295222142, 0.10962545596793888, 0.11351143295187702, 0.05419915267071605, 0.14909880112057358, 0.0685159099799618, 0.04806339953818216, 0.06912948529321519, 0.04233669661448386, 0.07396644027181434, 0.3040842544507923, 0.06574794690827941, 0.08218493363534927, 0.05752945354474449, 0.02465548009060478, 0.16436986727069855, 0.016436986727069853, 0.1479328805436287, 0.06574794690827941, 0.08067211712161489, 0.08067211712161489, 0.08067211712161489, 0.4840327027296893, 0.16134423424322977, 0.16134423424322977, 0.6565942131422484, 0.28139751991810646, 0.09379917330603549, 0.17790287661480264, 0.08895143830740132, 0.04447571915370066, 0.08895143830740132, 0.04447571915370066, 0.04447571915370066, 0.4892329106907073, 0.09764961645020334, 0.03719985388579175, 0.09764961645020334, 0.11624954339309922, 0.11624954339309922, 0.1022995981859273, 0.2603989772005422, 0.03254987215006778, 0.0743997077715835, 0.0743997077715835, 0.1947596178042816, 0.3895192356085632, 0.11685577068256897, 0.03895192356085632, 0.07790384712171264, 0.15580769424342528, 0.05829254933471663, 0.029146274667358314, 0.11658509866943326, 0.46634039467773303, 0.05829254933471663, 0.05829254933471663, 0.14573137333679156, 0.05829254933471663, 0.1296957033197306, 0.05569286083729608, 0.10451947855766525, 0.12893278741784983, 0.13503611463289597, 0.07018826297303067, 0.07781742199183836, 0.11138572167459217, 0.14571693725922674, 0.04119745870156148, 0.1519086800926752, 0.07161409204368974, 0.03616873335539886, 0.062933596038394, 0.11212307340173645, 0.07450759071212164, 0.11501657207016835, 0.09620883072536095, 0.14467493342159543, 0.1352710627491917, 0.0872522118972184, 0.06786283147561431, 0.3877876084320818, 0.05816814126481227, 0.05816814126481227, 0.0872522118972184, 0.06786283147561431, 0.0872522118972184, 0.04847345105401023, 0.05816814126481227, 0.07059174907105104, 0.49414224349735725, 0.14118349814210207, 0.07059174907105104, 0.2117752472131531, 0.07896995107387239, 0.12532773805239134, 0.14608093338579808, 0.09702792623410943, 0.053904403463394125, 0.1495847196109187, 0.06522432819070689, 0.1358390967277532, 0.09972314640727914, 0.04851396311705471, 0.12764245713474667, 0.5743910571063601, 0.19146368570212002, 0.24825100019258717, 0.06726801295541071, 0.10330444846723788, 0.07207287102365434, 0.11371497428176573, 0.07367449037973554, 0.12012145170609057, 0.11211335492568453, 0.027227529053380526, 0.06246315488716709, 0.1702411070714808, 0.09173614059810364, 0.08467951439824951, 0.16097928518417226, 0.11511121488512044, 0.09041302318563099, 0.019405722049598846, 0.11378809747264779, 0.1234909584974472, 0.029990661349380037, 0.19284531409144812, 0.06823757267851241, 0.14141989700039528, 0.11175138714017249, 0.0840607779372979, 0.0692265230071865, 0.1651547048885735, 0.06823757267851241, 0.0712044236645347, 0.028679559531548694, 0.14743251839349042, 0.13590487292239445, 0.11042270924944549, 0.11284958198020253, 0.09282788195145693, 0.0527844818939657, 0.17837514571064272, 0.08251367284573949, 0.046110581884383835, 0.040650118240180486, 0.10797620170577016, 0.10609835471958286, 0.1398996004709544, 0.0403737102030271, 0.08168634389914786, 0.0891977318438971, 0.12299897759526862, 0.07323603246130499, 0.10891512519886382, 0.13051036554001785, 0.13201838774218885, 0.04400612924739629, 0.022003064623698144, 0.14852068620996248, 0.28603984010807587, 0.06600919387109443, 0.03300459693554721, 0.05500766155924536, 0.1815252831455097, 0.03300459693554721, 0.10513097361603689, 0.07008731574402459, 0.035043657872012295, 0.10513097361603689, 0.035043657872012295, 0.035043657872012295, 0.07008731574402459, 0.4906112102081721, 0.4949159073852382, 0.05499065637613758, 0.10998131275227516, 0.10998131275227516, 0.05499065637613758, 0.10998131275227516, 0.05499065637613758, 0.05499065637613758, 0.13949753681639315, 0.13949753681639315, 0.13949753681639315, 0.41849261044917946, 0.13949753681639315, 0.11989346013138606, 0.3596803803941582, 0.03996448671046202, 0.1998224335523101, 0.03996448671046202, 0.1598579468418481, 0.03996448671046202, 0.1589050896609903, 0.07945254483049514, 0.07945254483049514, 0.07945254483049514, 0.1589050896609903, 0.39726272415247577, 0.10050096769298202, 0.19958642879873892, 0.10474748745465731, 0.07926836888460553, 0.09908546110575692, 0.12881109943748398, 0.08917691499518123, 0.07785286229738043, 0.07077532936125494, 0.04812722396565336, 0.08341789594231083, 0.12512684391346626, 0.041708947971155416, 0.12512684391346626, 0.08341789594231083, 0.041708947971155416, 0.500507375653865, 0.14521745053840193, 0.058086980215360774, 0.3194783911844843, 0.17426094064608233, 0.05082610768844068, 0.09439134284996126, 0.03630436263460048, 0.04356523516152058, 0.029043490107680387, 0.05082610768844068, 0.05044411258387232, 0.15133233775161695, 0.15133233775161695, 0.40355290067097854, 0.10088822516774464, 0.05044411258387232, 0.05044411258387232, 0.05044411258387232, 0.04883437491837767, 0.04883437491837767, 0.4883437491837767, 0.24417187459188835, 0.09766874983675534, 0.09766874983675534, 0.1808241230764224, 0.0904120615382112, 0.6328844307674784, 0.0904120615382112, 0.0904120615382112, 0.1900299425752756, 0.12946612715867506, 0.09304006426318344, 0.13561028234586642, 0.10401176995459659, 0.08294609502708335, 0.07460759870160937, 0.033792853529552476, 0.09435666894615302, 0.061880420099570115, 0.09901088474043163, 0.03960435389617265, 0.37624136201364017, 0.059406530844258974, 0.09901088474043163, 0.03960435389617265, 0.11881306168851795, 0.059406530844258974, 0.019802176948086326, 0.09901088474043163, 0.36939663284098045, 0.05277094754871149, 0.10554189509742298, 0.10554189509742298, 0.21108379019484597, 0.05277094754871149, 0.05277094754871149, 0.11690262042721314, 0.1043773396671546, 0.10646488646049768, 0.09602715249378223, 0.21606109311101002, 0.12316526080724241, 0.0657577239903074, 0.09602715249378223, 0.036532068883504104, 0.036532068883504104, 0.09340922465604362, 0.08104623903980256, 0.10989320547769839, 0.07692524383438887, 0.0645622582181478, 0.1291245164362956, 0.1428611671210079, 0.07555157876591764, 0.17995012396973112, 0.04670461232802181, 0.25574461794113024, 0.08524820598037675, 0.25574461794113024, 0.42624102990188373, 0.2676090435198812, 0.08920301450662707, 0.08920301450662707, 0.4460150725331353, 0.08920301450662707, 0.23740745894622922, 0.07913581964874307, 0.5539507375412015, 0.15827163929748614, 0.0601508764815022, 0.4210561353705154, 0.0300754382407511, 0.1503771912037555, 0.0601508764815022, 0.0300754382407511, 0.0902263147222533, 0.0300754382407511, 0.0300754382407511, 0.0601508764815022, 0.15191864912959624, 0.05063954970986541, 0.05063954970986541, 0.05063954970986541, 0.40511639767892327, 0.10127909941973082, 0.15191864912959624, 0.11784676583866073, 0.11784676583866073, 0.1767701487579911, 0.11784676583866073, 0.4713870633546429, 0.16343622056151272, 0.13066157740078155, 0.08477707697575793, 0.07385219592218088, 0.08434008173361485, 0.06205332438431766, 0.06467529583717616, 0.10924881053577053, 0.07254121019575163, 0.15425932047650798, 0.2478100182963797, 0.09011273392595626, 0.022528183481489064, 0.04505636696297813, 0.09011273392595626, 0.04505636696297813, 0.022528183481489064, 0.4505636696297813, 0.09265147941011176, 0.18530295882022352, 0.18530295882022352, 0.18530295882022352, 0.09265147941011176, 0.37060591764044704, 0.05053349535833516, 0.40426796286668126, 0.1263337383958379, 0.30320097215001096, 0.02526674767916758, 0.02526674767916758, 0.05053349535833516, 0.02526674767916758, 0.02526674767916758, 0.08280064603826275, 0.41400323019131374, 0.1656012920765255, 0.08280064603826275, 0.08280064603826275, 0.08280064603826275, 0.08280064603826275, 0.09791198990924858, 0.08434587082543703, 0.14509849107033224, 0.07726789565127448, 0.051905151277192016, 0.1097086151995195, 0.12740355313492585, 0.13389169704457488, 0.12622389060589878, 0.0465966698965701, 0.03340514912716728, 0.06681029825433456, 0.10021544738150183, 0.03340514912716728, 0.03340514912716728, 0.1670257456358364, 0.1670257456358364, 0.10021544738150183, 0.3340514912716728, 0.06380883759418292, 0.12761767518836584, 0.06380883759418292, 0.06380883759418292, 0.19142651278254877, 0.38285302556509754, 0.06380883759418292, 0.06380883759418292, 0.42733404662709873, 0.03561117055225823, 0.03561117055225823, 0.14244468220903292, 0.07122234110451646, 0.07122234110451646, 0.17805585276129113, 0.03561117055225823, 0.03561117055225823, 0.08866604864632871, 0.17733209729265742, 0.08866604864632871, 0.08866604864632871, 0.17733209729265742, 0.35466419458531484, 0.08016661970808175, 0.08016661970808175, 0.12024992956212263, 0.02004165492702044, 0.04008330985404088, 0.14029158448914306, 0.02004165492702044, 0.40083309854040877, 0.08016661970808175, 0.06430752969541385, 0.3751272565565808, 0.13933298100673, 0.08574337292721847, 0.07502545131131616, 0.021435843231804617, 0.08574337292721847, 0.04287168646360923, 0.05358960807951154, 0.04287168646360923, 0.09998123011604168, 0.09442671733181714, 0.04999061505802084, 0.09859260191998555, 0.2430099343098235, 0.15413772976223092, 0.06526552521463831, 0.0847063199594242, 0.03332707670534722, 0.07776317897914353, 0.5409450722632514, 0.15455573493235752, 0.07727786746617876, 0.07727786746617876, 0.15455573493235752, 0.20542400067481545, 0.1282778694170245, 0.07445498714414708, 0.10585166846999224, 0.09867528416694192, 0.10764576454575482, 0.04216125778042064, 0.03947011366677677, 0.1641597909322761, 0.034087825439489024, 0.09632647186820266, 0.04816323593410133, 0.4816323593410133, 0.04816323593410133, 0.04816323593410133, 0.04816323593410133, 0.144489707802304, 0.04816323593410133, 0.16622452945503935, 0.41556132363759835, 0.3324490589100787, 0.09587508450509373, 0.047937542252546865, 0.1438126267576406, 0.047937542252546865, 0.09587508450509373, 0.47937542252546866, 0.047937542252546865, 0.10181244440331193, 0.1371984769093411, 0.08629225470768512, 0.09063790782246063, 0.11422859615981339, 0.11733263409893875, 0.11795344168676383, 0.05587268290425655, 0.06953044983640815, 0.10864132786938774, 0.08340622446913724, 0.10715383004715548, 0.0938320025277794, 0.13437669497805443, 0.04459916169530255, 0.0724012365183483, 0.13032222573302693, 0.061975458459706145, 0.14769852249743054, 0.1233717070272655, 0.12662950248074886, 0.44320325868262106, 0.1899442537211233, 0.06331475124037443, 0.12662950248074886, 0.06331475124037443, 0.059258084427657655, 0.059258084427657655, 0.059258084427657655, 0.08888712664148649, 0.059258084427657655, 0.14814521106914413, 0.14814521106914413, 0.029629042213828827, 0.3851775487797747, 0.06995049684518002, 0.06995049684518002, 0.06995049684518002, 0.06995049684518002, 0.06995049684518002, 0.6295544716066203, 0.098421841003509, 0.0393687364014036, 0.1279483933045617, 0.098421841003509, 0.0393687364014036, 0.059053104602105395, 0.0885796569031581, 0.029526552301052698, 0.393687364014036, 0.029526552301052698, 0.208586591970149, 0.018962417451831727, 0.09481208725915864, 0.07584966980732691, 0.018962417451831727, 0.05688725235549518, 0.018962417451831727, 0.05688725235549518, 0.07584966980732691, 0.39821076648846626, 0.1419114878602225, 0.1833725638858932, 0.1264057195904595, 0.1584285018867092, 0.05932641772778898, 0.07685467751099936, 0.05561851661980217, 0.08460756164588087, 0.024606980080276113, 0.08865254467277559, 0.11770892749181162, 0.10261803935183578, 0.054327197303913055, 0.23239967735562808, 0.0905453288398551, 0.07847261832787442, 0.06639990781589374, 0.01810906576797102, 0.09959986172384061, 0.1388361708877778, 0.07506194700481751, 0.07506194700481751, 0.07506194700481751, 0.4503716820289051, 0.22518584101445255, 0.15012389400963502, 0.2980647361060097, 0.12992565420005553, 0.0697395055632651, 0.0869355480309195, 0.05540947017355309, 0.11177427603975365, 0.0754715197191499, 0.03630275632060375, 0.02006204954559681, 0.11655095450299098, 0.07502054558838038, 0.15004109117676076, 0.15004109117676076, 0.07502054558838038, 0.07502054558838038, 0.07502054558838038, 0.45012327353028225, 0.07266575455355619, 0.14533150910711237, 0.14533150910711237, 0.4359945273213371, 0.07266575455355619, 0.07266575455355619, 0.14533150910711237, 0.14617882697913914, 0.07308941348956957, 0.07308941348956957, 0.07308941348956957, 0.14617882697913914, 0.4385364809374174, 0.07308941348956957, 0.49042799962067996, 0.16347599987355999, 0.08173799993677999, 0.08173799993677999, 0.08173799993677999, 0.07182404748059024, 0.14364809496118047, 0.14364809496118047, 0.43094428488354136, 0.07182404748059024, 0.07182404748059024, 0.07182404748059024, 0.09278052684399563, 0.4639026342199781, 0.09278052684399563, 0.18556105368799125, 0.09278052684399563, 0.18265855955338392, 0.12177237303558928, 0.06088618651779464, 0.18265855955338392, 0.4262033056245625, 0.43753760029303285, 0.08750752005860657, 0.17501504011721314, 0.08750752005860657, 0.17501504011721314, 0.04580381422988973, 0.09618800988276845, 0.21527792688048175, 0.2565013596873825, 0.10992915415173536, 0.08244686561380152, 0.05496457707586768, 0.08702724703679049, 0.05038419565287871, 0.18435187818323212, 0.09217593909161606, 0.09217593909161606, 0.46087969545808033, 0.09217593909161606, 0.09281305952641622, 0.09095679833588789, 0.15128528702805843, 0.09002866774062374, 0.03898148500109481, 0.10395062666958617, 0.06960979464481216, 0.13643519750383185, 0.06496914166849135, 0.16149472357596423, 0.0508828180163612, 0.15264845404908362, 0.4070625441308896, 0.0508828180163612, 0.15264845404908362, 0.1017656360327224, 0.14730030947297493, 0.0552376160523656, 0.018412538684121866, 0.03682507736824373, 0.18412538684121865, 0.07365015473648746, 0.34983823499831546, 0.07365015473648746, 0.03682507736824373, 0.15849389142631198, 0.11721944053404323, 0.046227384999340995, 0.06934107749901149, 0.11721944053404323, 0.08089792374884675, 0.10731357231989874, 0.08915281392730048, 0.052831297142103995, 0.1617958474976935, 0.2557305965793651, 0.03368689161739512, 0.10359624733951618, 0.14054316072633663, 0.0872961384923895, 0.04853810190033275, 0.03803358730996223, 0.06556266002955394, 0.09526508059542921, 0.13221199398224967, 0.1409992651879101, 0.04699975506263669, 0.1409992651879101, 0.09399951012527338, 0.04699975506263669, 0.37599804050109353, 0.09399951012527338, 0.2656897409025826, 0.12909017020973396, 0.06508147085366088, 0.04362604090190455, 0.1644916296301319, 0.0625783373592893, 0.07330605233516747, 0.07294846183597153, 0.03254073542683044, 0.09047039629657254, 0.07829179836410521, 0.07829179836410521, 0.07829179836410521, 0.4697507901846313, 0.07829179836410521, 0.07829179836410521, 0.07829179836410521, 0.07829179836410521, 0.08568178308269914, 0.4284089154134957, 0.08568178308269914, 0.2570453492480974, 0.08568178308269914, 0.23634433429785154, 0.14472771032845963, 0.06627820985225331, 0.09836615786085674, 0.04945969917188185, 0.09548930734974058, 0.05587728877360254, 0.09869810215060092, 0.07966662953860164, 0.07524070567534599, 0.08818825439034561, 0.08818825439034561, 0.6173177807324193, 0.08818825439034561, 0.08818825439034561, 0.18487558104786805, 0.11092534862872083, 0.055462674314360416, 0.07395023241914722, 0.3327760458861625, 0.09243779052393403, 0.055462674314360416, 0.03697511620957361, 0.018487558104786805, 0.018487558104786805, 0.5990922139794653, 0.059909221397946535, 0.23963688559178614, 0.059909221397946535, 0.06216180580015467, 0.08826027388418907, 0.04697724255126193, 0.11815488278044665, 0.1637085725271249, 0.05599307698029199, 0.06216180580015467, 0.2723731032770136, 0.1067664603437771, 0.023725880076394913, 0.10622894546492821, 0.08735578256506787, 0.06578645353665605, 0.15098530319888273, 0.21191865770414614, 0.05661948869958103, 0.1315729070733121, 0.03451092644545891, 0.06848261966520754, 0.08627731611364728, 0.08360757338757584, 0.08360757338757584, 0.08360757338757584, 0.501645440325455, 0.16721514677515167, 0.08360757338757584, 0.32049049130428753, 0.08012262282607188, 0.08012262282607188, 0.32049049130428753, 0.16024524565214376, 0.07472195811965707, 0.2241658743589712, 0.2241658743589712, 0.07472195811965707, 0.07472195811965707, 0.3736097905982853, 0.08522945647954452, 0.09588313853948759, 0.330264143858235, 0.132105657543294, 0.07244503800761284, 0.07670651083159007, 0.02130736411988613, 0.12358271189533955, 0.034091782591817804, 0.029830309767840582, 0.18240489127107345, 0.12650982644318726, 0.1259130819788326, 0.1539600718035015, 0.04555149411240548, 0.13943928983753817, 0.09249539197497182, 0.04276668661208374, 0.027649160181765768, 0.06345382804304518, 0.017050214751490673, 0.11935150326043471, 0.06820085900596269, 0.13640171801192538, 0.11935150326043471, 0.017050214751490673, 0.017050214751490673, 0.051150644254472015, 0.4092051540357761, 0.034100429502981346, 0.33195028383697633, 0.08298757095924408, 0.4149378547962205, 0.08298757095924408, 0.07192411723905365, 0.5034688206733755, 0.07192411723905365, 0.1438482344781073, 0.07192411723905365, 0.07192411723905365, 0.07192411723905365, 0.18375204320122385, 0.04593801080030596, 0.13781403240091789, 0.04593801080030596, 0.04593801080030596, 0.4593801080030596, 0.10704401432880241, 0.14590922568510606, 0.06620260578489011, 0.06850816917043354, 0.1409687327160844, 0.06192084521173801, 0.1663299299570622, 0.07213119734771609, 0.10111542276597643, 0.06982563396217265, 0.15087985638818208, 0.030175971277636417, 0.030175971277636417, 0.09052791383290926, 0.06035194255527283, 0.36211165533163703, 0.12070388511054567, 0.030175971277636417, 0.12070388511054567, 0.14676423913571982, 0.07338211956785991, 0.07338211956785991, 0.07338211956785991, 0.5136748369750194, 0.5104321994304699, 0.06380402492880874, 0.12760804985761748, 0.12760804985761748, 0.06380402492880874, 0.06380402492880874, 0.0320561211906262, 0.09616836357187859, 0.480841817859393, 0.09616836357187859, 0.09616836357187859, 0.09616836357187859, 0.09616836357187859, 0.059908280968960205, 0.11981656193792041, 0.029954140484480102, 0.059908280968960205, 0.38940382629824133, 0.059908280968960205, 0.1497707024224005, 0.029954140484480102, 0.059908280968960205, 0.035708197095120554, 0.14283278838048222, 0.035708197095120554, 0.035708197095120554, 0.39279016804632605, 0.14283278838048222, 0.07141639419024111, 0.035708197095120554, 0.10712459128536166, 0.12368036877236684, 0.12368036877236684, 0.06184018438618342, 0.49472147508946734, 0.06184018438618342, 0.12368036877236684, 0.24378203825750025, 0.10166946756822015, 0.08594159413225239, 0.1202058898320393, 0.13481034373686648, 0.09717578944365793, 0.0735839792897063, 0.05560926679145743, 0.04606020077676272, 0.04044310312105995, 0.13006100743144725, 0.0867073382876315, 0.04335366914381575, 0.39018302229434176, 0.0867073382876315, 0.04335366914381575, 0.04335366914381575, 0.0867073382876315, 0.04335366914381575, 0.1843519758157011, 0.1843519758157011, 0.46087993953925277, 0.09217598790785055, 0.07010350646130394, 0.07010350646130394, 0.2103105193839118, 0.4206210387678236, 0.07010350646130394, 0.07010350646130394, 0.17365657437995938, 0.17365657437995938, 0.08682828718997969, 0.08682828718997969, 0.5209697231398781, 0.1253896570575736, 0.10579752314232772, 0.2625345944642947, 0.11363437670842608, 0.09796066957622937, 0.05485797496268845, 0.08228696244403268, 0.06661325531183597, 0.019592133915245873, 0.06661325531183597, 0.15009779973532145, 0.18636678480147717, 0.09597331432890441, 0.09485734555763808, 0.1155027678260652, 0.07142200136104514, 0.0881615329300401, 0.05970432926274868, 0.07253797013231147, 0.06584215750471349, 0.5185380168427391, 0.1728460056142464, 0.1728460056142464, 0.0864230028071232, 0.0864230028071232, 0.09116818530069264, 0.09116818530069264, 0.09116818530069264, 0.09116818530069264, 0.09116818530069264, 0.36467274120277055, 0.09116818530069264, 0.09116818530069264, 0.42381224560978514, 0.12329083508648295, 0.0462340631574311, 0.16181922105100888, 0.030822708771620737, 0.030822708771620737, 0.0462340631574311, 0.06935109473614666, 0.05393974035033629, 0.007705677192905184, 0.08177933121621558, 0.16355866243243117, 0.16355866243243117, 0.16355866243243117, 0.4906759872972935, 0.1523181061300938, 0.1023146874510226, 0.13770172220851915, 0.06077338577917884, 0.07385120297216669, 0.060004102414885435, 0.16770377341596185, 0.05538840222912502, 0.1038532541796094, 0.08615973680086114, 0.045603001864012435, 0.5928390242321616, 0.09120600372802487, 0.045603001864012435, 0.045603001864012435, 0.13680900559203732, 0.045603001864012435, 0.16500944941836473, 0.11000629961224316, 0.11000629961224316, 0.05500314980612158, 0.05500314980612158, 0.05500314980612158, 0.44002519844897264, 0.10467618454203986, 0.0837409476336319, 0.11364842893135756, 0.09570394015272216, 0.04486122194658851, 0.17346339152680892, 0.23327835412226025, 0.06280571072522391, 0.029907481297725674, 0.06280571072522391, 0.3764054833533872, 0.5646082250300808, 0.09975905761185752, 0.09798398541235828, 0.034791415110185187, 0.03905158838898337, 0.09052868217446146, 0.07668311901836734, 0.4001012737671296, 0.043311761667781556, 0.06390259918197279, 0.053962194864777026, 0.07750811924128202, 0.3875405962064101, 0.07750811924128202, 0.3875405962064101, 0.07750811924128202, 0.05567584776272471, 0.11135169552544942, 0.05567584776272471, 0.05567584776272471, 0.05567584776272471, 0.05567584776272471, 0.16702754328817415, 0.3340550865763483, 0.49277695176939085, 0.08212949196156515, 0.08212949196156515, 0.08212949196156515, 0.1642589839231303, 0.11830391164416525, 0.157738548858887, 0.03943463721472175, 0.157738548858887, 0.03943463721472175, 0.3943463721472175, 0.0788692744294435, 0.3555600120606565, 0.10513871324374252, 0.07646451872272184, 0.07455290575465379, 0.07837613169078989, 0.1127851651160147, 0.07264129278658574, 0.06881806685044965, 0.04396709826556505, 0.011469677808408275, 0.22265968451335108, 0.08906387380534043, 0.40078743212403195, 0.04453193690267022, 0.04453193690267022, 0.08906387380534043, 0.04453193690267022, 0.07933741652530883, 0.09790574805250878, 0.021944391804872655, 0.2059396769380357, 0.1046578686078542, 0.04557681374858167, 0.10803392888552692, 0.1569868029117813, 0.09621771791367241, 0.07933741652530883, 0.3889681549700782, 0.07779363099401564, 0.06668025513772768, 0.022226751712575897, 0.07779363099401564, 0.08890700685030359, 0.07779363099401564, 0.05556687928143974, 0.13336051027545537, 0.022226751712575897, 0.3655631633967533, 0.18278158169837666, 0.09139079084918833, 0.274172372547565, 0.19634112045829805, 0.19634112045829805, 0.13089408030553204, 0.3926822409165961, 0.09319008213050359, 0.18638016426100718, 0.4659504106525179, 0.09319008213050359, 0.12838396973281063, 0.06419198486640532, 0.12838396973281063, 0.09628797729960797, 0.09628797729960797, 0.06419198486640532, 0.41724790163163455, 0.11044031151583923, 0.07745164703708206, 0.07745164703708206, 0.13625752719486658, 0.24526354895075983, 0.024382925919081387, 0.07888593679702802, 0.04302869279837892, 0.08605738559675784, 0.12048033983546097, 0.152941708524011, 0.08396799683671193, 0.04498285544823853, 0.10795885307577248, 0.10196113901600734, 0.06897371168729909, 0.03898514138847339, 0.0479817124781211, 0.24590627645037064, 0.09896228198612476, 0.09833936865749064, 0.059706045256333606, 0.03160908278276485, 0.08780300772990236, 0.24058024117993246, 0.05092574448334337, 0.10711966943048087, 0.1931666170057852, 0.08780300772990236, 0.04565756401954923, 0.051023962846870885, 0.2551198142343544, 0.15307188854061266, 0.5102396284687089, 0.0531253048063386, 0.1062506096126772, 0.0531253048063386, 0.1593759144190158, 0.1062506096126772, 0.0531253048063386, 0.4250024384507088, 0.10276342947206055, 0.07927464559273242, 0.06312610667569434, 0.11744391939664063, 0.06019000869077832, 0.04404146977374023, 0.26865296561981544, 0.12772026234384667, 0.0939551355173125, 0.04404146977374023, 0.016677691431176218, 0.05003307429352866, 0.05003307429352866, 0.05003307429352866, 0.033355382862352435, 0.05003307429352866, 0.05003307429352866, 0.31687613719234814, 0.20013229717411463, 0.16677691431176217, 0.150489302488077, 0.05877097020244427, 0.11130865568644749, 0.10240396323153168, 0.03383783132868003, 0.06678519341186849, 0.1193228788958717, 0.14425601776963592, 0.14692742550611068, 0.06678519341186849, 0.16218317141590297, 0.2065540390674236, 0.06885134635580786, 0.07650149595089763, 0.08415164554598739, 0.0933318250600951, 0.07650149595089763, 0.08874173530304125, 0.07497146603187968, 0.06885134635580786, 0.2089083037913486, 0.10297881076720432, 0.1044541518956743, 0.06934103303808888, 0.11478153979496412, 0.05606296288185909, 0.09619224157624243, 0.09471690044777245, 0.04219475627424131, 0.1106505846352482, 0.07047869059697802, 0.23619885497365609, 0.21143607179093407, 0.13905255171836203, 0.06285937269460203, 0.07619317902376002, 0.07809800849935403, 0.020953124231534007, 0.06476420217019602, 0.040001418987474016, 0.09094903989972285, 0.13001048652332176, 0.20230331311028096, 0.08278694657538875, 0.09036603323369899, 0.13817257984765588, 0.0787058999132217, 0.12243139986501153, 0.025652293305050033, 0.03847843995757505, 0.08432635685129572, 0.08432635685129572, 0.4216317842564786, 0.08432635685129572, 0.08432635685129572, 0.08432635685129572, 0.08432635685129572, 0.08432635685129572, 0.14170074112312794, 0.06072888905276912, 0.06072888905276912, 0.3846162973342044, 0.08097185207035881, 0.06072888905276912, 0.08097185207035881, 0.06072888905276912, 0.08097185207035881, 0.08228910432627443, 0.08228910432627443, 0.16457820865254885, 0.49373462595764656, 0.08228910432627443, 0.5552958946270502, 0.1586559698934429, 0.07932798494672146, 0.07932798494672146, 0.06729757552931466, 0.40378545317588793, 0.13459515105862932, 0.06729757552931466, 0.13459515105862932, 0.13459515105862932, 0.06865994995641081, 0.034329974978205405, 0.24030982484743782, 0.6522695245859026, 0.22793438506179822, 0.045586877012359646, 0.45586877012359645, 0.09117375402471929, 0.045586877012359646, 0.045586877012359646, 0.045586877012359646, 0.045586877012359646, 0.13978199125696333, 0.12118438726998539, 0.0629918844720221, 0.14878083189582364, 0.07259064782013976, 0.12958330519958833, 0.07679010678494123, 0.0617920390535074, 0.10138693786449272, 0.08578894742380154, 0.24733606959304485, 0.09121411121408243, 0.06976878726092826, 0.11523287404161511, 0.11752037526328489, 0.13124538259330357, 0.06805316134467593, 0.0714844131771806, 0.0537562787092398, 0.034312518325046684, 0.0880273793748719, 0.12147778353732322, 0.12147778353732322, 0.11091449801233859, 0.2042235201497028, 0.11443559318733347, 0.03521095174994876, 0.12675942629981554, 0.028168761399959007, 0.049295332449928266, 0.11900474043060986, 0.11900474043060986, 0.3966824681020329, 0.11900474043060986, 0.11900474043060986, 0.07933649362040658, 0.03966824681020329, 0.060935239518180244, 0.060935239518180244, 0.060935239518180244, 0.7312228742181629, 0.060935239518180244, 0.1362680586905164, 0.06229396968709321, 0.11874787971602144, 0.07981414866158817, 0.10317438729424813, 0.07786746210886651, 0.19077528216672296, 0.08760089487247483, 0.08565420831975316, 0.05450722347620656, 0.21345397487871298, 0.42690794975742596, 0.071151324959571, 0.142302649919142, 0.071151324959571, 0.03345696128046537, 0.06691392256093073, 0.06691392256093073, 0.1003708838413961, 0.16728480640232682, 0.03345696128046537, 0.4683974579265151, 0.06691392256093073, 0.4820845039266518, 0.18078168897249441, 0.060260562990831476, 0.060260562990831476, 0.18078168897249441, 0.08342628461718302, 0.08342628461718302, 0.5839839923202811, 0.08342628461718302, 0.08342628461718302, 0.07102177324642628, 0.3551088662321314, 0.07102177324642628, 0.14204354649285256, 0.14204354649285256, 0.14204354649285256, 0.11283246200121178, 0.05641623100060589, 0.05641623100060589, 0.11283246200121178, 0.11283246200121178, 0.507746079005453, 0.05641623100060589, 0.2141788278666772, 0.10581756816215881, 0.10988747462993415, 0.129219530351867, 0.03713789651844997, 0.07274957811148418, 0.1261671005010355, 0.08241560597245061, 0.07020588656912459, 0.052400045772607484, 0.08394067857516269, 0.08394067857516269, 0.08394067857516269, 0.08394067857516269, 0.08394067857516269, 0.08394067857516269, 0.41970339287581343, 0.0820079227178322, 0.22123067523880313, 0.09345088867845994, 0.04767902483594895, 0.034328897881883244, 0.04577186384251099, 0.061029151790014655, 0.09917237165877381, 0.20215906530442354, 0.11252249861283951, 0.1897547880076571, 0.047438697001914276, 0.4269482730172285, 0.1897547880076571, 0.09487739400382855, 0.09601581106750624, 0.11109682851266428, 0.05479436338407424, 0.234258470981455, 0.055799764547084775, 0.17393440120082282, 0.08143749420385346, 0.07088078199224282, 0.08043209304084292, 0.04071874710192673, 0.11485341450624019, 0.11485341450624019, 0.6316937797843211, 0.057426707253120095, 0.057426707253120095, 0.1583295416816937, 0.07459757252310568, 0.11874715626127028, 0.05480637981289397, 0.1141799579435291, 0.04110478485967048, 0.10809036018654089, 0.2359719130832935, 0.05785117869138808, 0.03653758654192931, 0.16074936195767864, 0.12226693894356769, 0.1256767738941851, 0.1753629403174676, 0.0784262038642008, 0.12665101245150437, 0.06576110261905035, 0.04237937724338801, 0.05455735920987881, 0.04773768930864396, 0.09112982269941987, 0.07594151891618323, 0.08008378358433867, 0.04832642112848023, 0.03728038201339903, 0.09665284225696046, 0.20159021385023182, 0.1035566167038862, 0.1449792633854407, 0.12150643026589315, 0.06281365616646901, 0.06281365616646901, 0.12562731233293803, 0.06281365616646901, 0.18844096849940703, 0.06281365616646901, 0.43969559316528306, 0.23090322254466386, 0.04596684522879882, 0.07376075164621207, 0.0801747300502305, 0.09514067965960686, 0.059863798437505444, 0.11865860047434114, 0.10476164726563453, 0.09727867246094635, 0.09407168325893712, 0.14077150323130427, 0.10455854406672963, 0.09333762714249523, 0.15709283693928158, 0.07089579329402643, 0.1290405446286956, 0.11220916924234399, 0.06477529315353495, 0.05202425119417767, 0.07548616839939505, 0.15554104298867755, 0.12737846130870586, 0.10349499981332351, 0.07871590851186432, 0.08379114407963308, 0.06936155275950623, 0.10618188923155403, 0.10160422577827241, 0.10767460557501542, 0.06637612007258344, 0.08500784346134926, 0.08500784346134926, 0.08500784346134926, 0.5100470607680956, 0.08500784346134926, 0.17001568692269853, 0.05543435294343918, 0.11086870588687836, 0.11086870588687836, 0.16630305883031754, 0.11086870588687836, 0.44347482354751344, 0.07115474999715804, 0.1383564583278073, 0.36367983331880777, 0.07115474999715804, 0.05534258333112292, 0.1383564583278073, 0.0197652083325439, 0.02371824999905268, 0.08696691666319317, 0.031624333332070244, 0.1579905011677644, 0.0789952505838822, 0.0789952505838822, 0.0789952505838822, 0.0789952505838822, 0.394976252919411, 0.0789952505838822, 0.0789952505838822, 0.09360706424867939, 0.12887929135687742, 0.08071913511299164, 0.07800588687389949, 0.10513836926482105, 0.05223002860252401, 0.10446005720504802, 0.1370190360741539, 0.10513836926482105, 0.11531305016141663, 0.24387705570453075, 0.0675963578311471, 0.050365913678109615, 0.09808098979421345, 0.08085054564117596, 0.1961619795884269, 0.0675963578311471, 0.038437144649083654, 0.09012847710819614, 0.0675963578311471, 0.06876960657999283, 0.06876960657999283, 0.4813872460599498, 0.13753921315998566, 0.06876960657999283, 0.13753921315998566, 0.1279938602278477, 0.09655677175083248, 0.10553879702997969, 0.05613765799467005, 0.04715563271552284, 0.10329329071019289, 0.19760455614123856, 0.07859272119253806, 0.10553879702997969, 0.07859272119253806, 0.16373039331411707, 0.0744229060518714, 0.1477826277315732, 0.10525525284478954, 0.19137318699052644, 0.055285587352818744, 0.05209603423630997, 0.06485424670234506, 0.09568659349526322, 0.0489064811198012, 0.5281068562470346, 0.08801780937450578, 0.08801780937450578, 0.2640534281235173, 0.15285330250958148, 0.1290038510541858, 0.13225604897992158, 0.14851703860860044, 0.14092857678188364, 0.07227106501635058, 0.05926227331340748, 0.06106904993881624, 0.050589745511445405, 0.05348058811209943, 0.45175333478845386, 0.11293833369711347, 0.03764611123237116, 0.07529222246474232, 0.07529222246474232, 0.07529222246474232, 0.03764611123237116, 0.07529222246474232, 0.07253013601536021, 0.29012054406144083, 0.4351808160921613, 0.07253013601536021, 0.07253013601536021, 0.07253013601536021, 0.09803300901577484, 0.06393457109724447, 0.285574417567692, 0.06819687583706076, 0.08098379005650966, 0.008524609479632595, 0.1832791038121008, 0.11508222797504004, 0.04688535213797928, 0.05114765687779557, 0.2191019424411573, 0.2020290638093788, 0.10172590184768017, 0.14369672848413564, 0.049795896009353934, 0.07896206367197552, 0.022763838175704654, 0.05833233532524318, 0.06900288447010473, 0.054775485610289325, 0.052561021621588204, 0.026280510810794102, 0.1839635756755587, 0.42048817297270563, 0.026280510810794102, 0.026280510810794102, 0.052561021621588204, 0.026280510810794102, 0.052561021621588204, 0.13140255405397053, 0.2482800726100133, 0.06207001815250333, 0.4344901270675233, 0.06207001815250333, 0.12414003630500665, 0.06207001815250333, 0.31490168492023596, 0.0906535153558255, 0.07633980240490569, 0.13359465420858496, 0.14790836715950476, 0.023856188251533027, 0.009542475300613211, 0.07156856475459908, 0.09542475300613211, 0.03339866355214624], \"Term\": [\"00\", \"00\", \"00\", \"00\", \"00\", \"00\", \"00\", \"00\", \"00\", \"00\", \"1.5\", \"1.5\", \"1.5\", \"1.5\", \"1.5\", \"1.5\", \"102\", \"102\", \"102\", \"102\", \"102\", \"107_lb\", \"107_lb\", \"107_lb\", \"107_lb\", \"107_lb\", \"115_lb_30_dd\", \"115_lb_30_dd\", \"115_lb_30_dd\", \"115_lb_30_dd\", \"115_lb_30_dd\", \"115_lb_30_dd\", \"115_lb_30_dd\", \"115_lbs\", \"115_lbs\", \"115_lbs\", \"115_lbs\", \"115_lbs\", \"115_lbs\", \"115_lbs\", \"115_lbs\", \"115_lbs\", \"115lb\", \"115lb\", \"115lb\", \"115lb\", \"115lb\", \"117\", \"117\", \"117\", \"117\", \"117\", \"117\", \"118\", \"118\", \"118\", \"118\", \"118\", \"118\", \"118\", \"118\", \"118_lbs\", \"118_lbs\", \"118_lbs\", \"118_lbs\", \"118_lbs\", \"118_lbs\", \"118_lbs\", \"127\", \"127\", \"127\", \"127\", \"127\", \"127\", \"127\", \"145_pound\", \"145_pound\", \"145_pound\", \"145_pound\", \"145_pound\", \"145_pound\", \"145_pound\", \"150lbs\", \"150lbs\", \"150lbs\", \"150lbs\", \"150lbs\", \"150lbs\", \"150lbs\", \"25/26\", \"25/26\", \"25/26\", \"25/26\", \"25/26\", \"25p\", \"25p\", \"25p\", \"25p\", \"25p\", \"25p\", \"25p\", \"26\", \"26\", \"26\", \"26\", \"26\", \"26\", \"26\", \"26\", \"26\", \"26\", \"27\", \"27\", \"27\", \"27\", \"27\", \"27\", \"27\", \"27\", \"27\", \"27\", \"2_3_inch\", \"2_3_inch\", \"2_3_inch\", \"2_3_inch\", \"3/4_length_sleeve\", \"3/4_length_sleeve\", \"3/4_length_sleeve\", \"3/4_length_sleeve\", \"3/4_length_sleeve\", \"3/4_length_sleeve\", \"3/4_length_sleeve\", \"32b\", \"32b\", \"32b\", \"32b\", \"32b\", \"32b\", \"32b\", \"32b\", \"32b\", \"34aa\", \"34aa\", \"34aa\", \"34aa\", \"3_season\", \"3_season\", \"3_season\", \"3_season\", \"3_season\", \"3_season\", \"3rd\", \"3rd\", \"3rd\", \"3rd\", \"3rd\", \"4/6\", \"4/6\", \"4/6\", \"4/6\", \"4/6\", \"4/6\", \"4/6\", \"4/6\", \"4/6\", \"5'1.5\", \"5'1.5\", \"5'1.5\", \"5'1.5\", \"5'1.5\", \"5'1.5\", \"5'1.5\", \"5'11\", \"5'11\", \"5'11\", \"5'11\", \"5'11\", \"5'11\", \"5'11\", \"5'11\", \"5'11\", \"5'11\", \"5'3_135\", \"5'3_135\", \"5'3_135\", \"5'3_135\", \"5'3_135\", \"5'4_120\", \"5'4_120\", \"5'4_120\", \"5'4_120\", \"5'4_130\", \"5'4_130\", \"5'4_130\", \"5'4_130\", \"5'4_130\", \"5'4_130\", \"5'4_130\", \"5'4_140\", \"5'4_140\", \"5'4_140\", \"5'4_140\", \"5'4_140\", \"5'4_140\", \"5'6_130\", \"5'6_130\", \"5'6_130\", \"5'6_130\", \"5'6_130\", \"5'7_128\", \"5'7_128\", \"5'7_128\", \"5'7_128\", \"5'7_128\", \"5'7_128\", \"5'7_128\", \"6\", \"6\", \"6\", \"6\", \"6\", \"6\", \"6\", \"6\", \"6\", \"6\", \"8/10\", \"8/10\", \"8/10\", \"8/10\", \"8/10\", \"8/10\", \"8/10\", \"able\", \"able\", \"able\", \"able\", \"able\", \"able\", \"able\", \"able\", \"able\", \"able\", \"absolutely\", \"absolutely\", \"absolutely\", \"absolutely\", \"absolutely\", \"absolutely\", \"absolutely\", \"absolutely\", \"absolutely\", \"absolutely\", \"abt\", \"abt\", \"abt\", \"abt\", \"abt\", \"abt\", \"abt\", \"abt\", \"abt\", \"acrylic\", \"acrylic\", \"acrylic\", \"acrylic\", \"acrylic\", \"acrylic\", \"adjustable_strap\", \"adjustable_strap\", \"adjustable_strap\", \"adjustable_strap\", \"adjustable_strap\", \"adjustable_strap\", \"advise\", \"advise\", \"advise\", \"advise\", \"advise\", \"after_read_review\", \"after_read_review\", \"after_read_review\", \"after_read_review\", \"after_read_review\", \"ago\", \"ago\", \"ago\", \"ago\", \"ago\", \"ago\", \"aka\", \"aka\", \"aka\", \"aka\", \"aka\", \"already_sell_out\", \"already_sell_out\", \"already_sell_out\", \"already_sell_out\", \"already_sell_out\", \"already_sell_out\", \"alternative\", \"alternative\", \"alternative\", \"alternative\", \"alternative\", \"alternative\", \"alternative\", \"alternative\", \"alternative\", \"alternative\", \"amazing\", \"amazing\", \"amazing\", \"amazing\", \"amazing\", \"amazing\", \"amazing\", \"amazing\", \"amazing\", \"amazing\", \"amount_of_stretch\", \"amount_of_stretch\", \"amount_of_stretch\", \"amount_of_stretch\", \"amount_of_stretch\", \"an_average\", \"an_average\", \"an_average\", \"an_average\", \"an_average\", \"an_average\", \"an_average\", \"an_average\", \"an_excellent\", \"an_excellent\", \"an_excellent\", \"an_excellent\", \"an_excellent\", \"an_excellent\", \"an_interesting\", \"an_interesting\", \"an_interesting\", \"an_interesting\", \"an_interesting\", \"an_interesting\", \"an_interesting\", \"an_interesting\", \"an_interesting\", \"an_interesting\", \"an_outdoor\", \"an_outdoor\", \"an_outdoor\", \"an_outdoor\", \"an_outdoor\", \"an_outdoor\", \"an_xs\", \"an_xs\", \"an_xs\", \"an_xs\", \"an_xs\", \"an_xs\", \"an_xs\", \"an_xs\", \"an_xs\", \"an_xs\", \"an_xsmall\", \"an_xsmall\", \"an_xsmall\", \"an_xsmall\", \"an_xsmall\", \"ankle_boot\", \"ankle_boot\", \"ankle_boot\", \"ankle_boot\", \"ankle_boot\", \"ankle_boot\", \"ankle_boot\", \"ankle_boot\", \"answer\", \"answer\", \"answer\", \"answer\", \"antho\", \"antho\", \"antho\", \"antho\", \"antho\", \"antho\", \"arm\", \"arm\", \"arm\", \"arm\", \"arm\", \"arm\", \"arm\", \"arm\", \"arm\", \"arm\", \"arm_opening\", \"arm_opening\", \"arm_opening\", \"arm_opening\", \"arm_opening\", \"arm_opening\", \"armhole\", \"armhole\", \"armhole\", \"armhole\", \"armhole\", \"armhole\", \"armhole\", \"armhole\", \"armhole\", \"armhole\", \"army_green\", \"army_green\", \"army_green\", \"associate\", \"associate\", \"associate\", \"associate\", \"associate\", \"associate\", \"august\", \"august\", \"august\", \"august\", \"august\", \"august\", \"august\", \"baby_shower\", \"baby_shower\", \"baby_shower\", \"baby_shower\", \"background\", \"background\", \"background\", \"background\", \"background\", \"background\", \"background\", \"background\", \"background\", \"bad\", \"bad\", \"bad\", \"bad\", \"bad\", \"bad\", \"bad\", \"bad\", \"bad\", \"bad\", \"balance_out\", \"balance_out\", \"balance_out\", \"balance_out\", \"balance_out\", \"balance_out\", \"balance_out\", \"barely_cover\", \"barely_cover\", \"barely_cover\", \"barely_cover\", \"barely_cover\", \"basic\", \"basic\", \"basic\", \"basic\", \"basic\", \"basic\", \"basic\", \"basic\", \"basic\", \"basic\", \"beautiful\", \"beautiful\", \"beautiful\", \"beautiful\", \"beautiful\", \"beautiful\", \"beautiful\", \"beautiful\", \"beautiful\", \"beautiful\", \"believe_how\", \"believe_how\", \"believe_how\", \"believe_how\", \"believe_how\", \"believe_how\", \"better_suited\", \"better_suited\", \"better_suited\", \"better_suited\", \"better_suited\", \"better_suited\", \"bias\", \"bias\", \"bias\", \"bias\", \"bias\", \"bias\", \"big\", \"big\", \"big\", \"big\", \"big\", \"big\", \"big\", \"big\", \"big\", \"big\", \"bikini_bottom\", \"bikini_bottom\", \"bikini_bottom\", \"bikini_bottom\", \"bill\", \"bill\", \"bill\", \"bill\", \"bill\", \"bill\", \"bill\", \"bill\", \"bill\", \"bill\", \"birthday\", \"birthday\", \"birthday\", \"birthday\", \"birthday\", \"birthday\", \"birthday\", \"birthday\", \"birthday\", \"birthday_gift\", \"birthday_gift\", \"birthday_gift\", \"birthday_gift\", \"birthday_gift\", \"birthday_gift\", \"bit\", \"bit\", \"bit\", \"bit\", \"bit\", \"bit\", \"bit\", \"bit\", \"bit\", \"bit\", \"bit_longer_than\", \"bit_longer_than\", \"bit_longer_than\", \"bit_longer_than\", \"bit_longer_than\", \"bit_longer_than\", \"bit_longer_than\", \"bit_longer_than\", \"black\", \"black\", \"black\", \"black\", \"black\", \"black\", \"black\", \"black\", \"black\", \"black\", \"blouse\", \"blouse\", \"blouse\", \"blouse\", \"blouse\", \"blouse\", \"blouse\", \"blouse\", \"blouse\", \"blouse\", \"blue\", \"blue\", \"blue\", \"blue\", \"blue\", \"blue\", \"blue\", \"blue\", \"blue\", \"blue\", \"bootie\", \"bootie\", \"bootie\", \"bootie\", \"bootie\", \"bootie\", \"bootie\", \"bootie\", \"bootie\", \"bootie\", \"bordeaux\", \"bordeaux\", \"bordeaux\", \"bordeaux\", \"bordeaux\", \"bordeaux\", \"bordeaux\", \"borderline\", \"borderline\", \"borderline\", \"borderline\", \"borderline\", \"brand\", \"brand\", \"brand\", \"brand\", \"brand\", \"brand\", \"brand\", \"brand\", \"brand\", \"brand\", \"bubble\", \"bubble\", \"bubble\", \"bubble\", \"bubble\", \"bubble\", \"bubble\", \"bubble\", \"bubble\", \"bug\", \"bug\", \"bug\", \"bummer\", \"bummer\", \"bummer\", \"bummer\", \"bummer\", \"bummer\", \"bummer\", \"bummer\", \"bummer\", \"bummer\", \"burn_orange\", \"burn_orange\", \"burn_orange\", \"burn_orange\", \"burn_orange\", \"burn_orange\", \"burn_orange\", \"burn_orange\", \"burn_orange\", \"burn_orange\", \"button\", \"button\", \"button\", \"button\", \"button\", \"button\", \"button\", \"button\", \"button\", \"button\", \"buy\", \"buy\", \"buy\", \"buy\", \"buy\", \"buy\", \"buy\", \"buy\", \"buy\", \"buy\", \"cal\", \"cal\", \"cal\", \"cal\", \"cal\", \"capris\", \"capris\", \"capris\", \"capris\", \"capris\", \"capris\", \"capris\", \"capris\", \"capris\", \"carbon\", \"carbon\", \"carbon\", \"carbon\", \"carbon\", \"cartonni\", \"cartonni\", \"cartonni\", \"cartonni\", \"cartonni\", \"casual_friday\", \"casual_friday\", \"casual_friday\", \"casual_friday\", \"casual_friday\", \"casual_friday\", \"casual_friday\", \"catch\", \"catch\", \"catch\", \"catch\", \"catch\", \"catch\", \"catch\", \"catch\", \"catch\", \"catch\", \"chance\", \"chance\", \"chance\", \"chance\", \"chance\", \"chance\", \"chance\", \"chance\", \"chance\", \"chance\", \"cheap_looking\", \"cheap_looking\", \"cheap_looking\", \"cheap_looking\", \"chest\", \"chest\", \"chest\", \"chest\", \"chest\", \"chest\", \"chest\", \"chest\", \"chest\", \"chest\", \"church\", \"church\", \"church\", \"church\", \"church\", \"church\", \"church\", \"church\", \"church\", \"citizen\", \"citizen\", \"citizen\", \"citizen\", \"citizen\", \"citizen\", \"citizen\", \"citizen\", \"claim\", \"claim\", \"claim\", \"claim\", \"claim\", \"claim\", \"closet_staple\", \"closet_staple\", \"closet_staple\", \"closet_staple\", \"coat\", \"coat\", \"coat\", \"coat\", \"coat\", \"coat\", \"coat\", \"coat\", \"coat\", \"coat\", \"cocktail_party\", \"cocktail_party\", \"cocktail_party\", \"cocktail_party\", \"cocktail_party\", \"cocoon\", \"cocoon\", \"cocoon\", \"cocoon\", \"cocoon\", \"cocoon\", \"cocoon\", \"coh\", \"coh\", \"coh\", \"coh\", \"coh\", \"coh\", \"coh\", \"cold_water\", \"cold_water\", \"cold_water\", \"cold_water\", \"cold_water\", \"cold_water\", \"cold_water\", \"cold_water\", \"cold_water\", \"color\", \"color\", \"color\", \"color\", \"color\", \"color\", \"color\", \"color\", \"color\", \"color\", \"comfortable\", \"comfortable\", \"comfortable\", \"comfortable\", \"comfortable\", \"comfortable\", \"comfortable\", \"comfortable\", \"comfortable\", \"comfortable\", \"comfy\", \"comfy\", \"comfy\", \"comfy\", \"comfy\", \"comfy\", \"comfy\", \"comfy\", \"comfy\", \"comfy\", \"company\", \"company\", \"company\", \"company\", \"company\", \"content\", \"content\", \"content\", \"content\", \"content\", \"content\", \"cool\", \"cool\", \"cool\", \"cool\", \"cool\", \"cool\", \"cool\", \"cool\", \"cool\", \"cool\", \"cottony\", \"cottony\", \"cottony\", \"cottony\", \"cottony\", \"cottony\", \"covered\", \"covered\", \"covered\", \"covered\", \"covered\", \"covet\", \"covet\", \"covet\", \"covet\", \"covet\", \"covet\", \"cranberry\", \"cranberry\", \"cranberry\", \"cranberry\", \"cranberry\", \"cranberry\", \"cranberry\", \"cranberry\", \"criss_cross\", \"criss_cross\", \"criss_cross\", \"criss_cross\", \"criss_cross\", \"criss_cross\", \"criss_cross\", \"criss_cross\", \"curl\", \"curl\", \"curl\", \"curl\", \"curl\", \"cut\", \"cut\", \"cut\", \"cut\", \"cut\", \"cut\", \"cut\", \"cut\", \"cut\", \"cut\", \"cute\", \"cute\", \"cute\", \"cute\", \"cute\", \"cute\", \"cute\", \"cute\", \"cute\", \"cute\", \"dark_gray\", \"dark_gray\", \"dark_gray\", \"dark_gray\", \"dark_gray\", \"dark_gray\", \"dark_gray\", \"day\", \"day\", \"day\", \"day\", \"day\", \"day\", \"day\", \"day\", \"day\", \"day\", \"ddd\", \"ddd\", \"ddd\", \"ddd\", \"ddd\", \"ddd\", \"decide_whether\", \"decide_whether\", \"decide_whether\", \"decide_whether\", \"decide_whether\", \"decide_whether\", \"decide_whether\", \"defeat\", \"defeat\", \"defeat\", \"defeat\", \"definitely\", \"definitely\", \"definitely\", \"definitely\", \"definitely\", \"definitely\", \"definitely\", \"definitely\", \"definitely\", \"definitely\", \"degree\", \"degree\", \"degree\", \"degree\", \"degree\", \"degree\", \"design\", \"design\", \"design\", \"design\", \"design\", \"design\", \"design\", \"design\", \"design\", \"design\", \"detachable\", \"detachable\", \"detachable\", \"detachable\", \"detachable\", \"detachable\", \"detachable\", \"different\", \"different\", \"different\", \"different\", \"different\", \"different\", \"different\", \"different\", \"different\", \"different\", \"dip\", \"dip\", \"dip\", \"dip\", \"dip\", \"dip\", \"dip\", \"dip\", \"dip\", \"dislike\", \"dislike\", \"dislike\", \"dislike\", \"dislike\", \"dislike\", \"dislike\", \"dislike\", \"dislike\", \"distract\", \"distract\", \"distract\", \"distract\", \"distract\", \"distract\", \"distract\", \"dog\", \"dog\", \"dog\", \"dog\", \"dog\", \"dog\", \"dolan\", \"dolan\", \"dolan\", \"dolan\", \"dolan\", \"dolan\", \"dolan\", \"dolan\", \"dolman\", \"dolman\", \"dolman\", \"dolman\", \"dolman\", \"dowdy\", \"dowdy\", \"dowdy\", \"dowdy\", \"dowdy\", \"dowdy\", \"dowdy\", \"drawback\", \"drawback\", \"drawback\", \"drawback\", \"drawback\", \"drawback\", \"drawback\", \"drawback\", \"dreamy\", \"dreamy\", \"dreamy\", \"dreamy\", \"dreamy\", \"dreamy\", \"dreamy\", \"dreamy\", \"dreamy\", \"dress\", \"dress\", \"dress\", \"dress\", \"dress\", \"dress\", \"dress\", \"dress\", \"dress\", \"dress\", \"dress-\", \"dress-\", \"dress-\", \"dress-\", \"dress-\", \"dress-\", \"dress-\", \"dry_cleaner\", \"dry_cleaner\", \"dry_cleaner\", \"dry_cleaner\", \"dry_cleaner\", \"dry_cleaner\", \"dusty\", \"dusty\", \"dusty\", \"dusty\", \"dusty\", \"dusty\", \"dusty\", \"dusty\", \"earring\", \"earring\", \"earring\", \"earring\", \"earring\", \"earring\", \"earring\", \"easy\", \"easy\", \"easy\", \"easy\", \"easy\", \"easy\", \"easy\", \"easy\", \"easy\", \"easy\", \"elastic_waistband\", \"elastic_waistband\", \"elastic_waistband\", \"elastic_waistband\", \"elastic_waistband\", \"elastic_waistband\", \"elastic_waistband\", \"elastic_waistband\", \"elastic_waistband\", \"elevense\", \"elevense\", \"elevense\", \"elevense\", \"elevense\", \"elevense\", \"elevense\", \"emerald_green\", \"emerald_green\", \"emerald_green\", \"emerald_green\", \"emerald_green\", \"endless\", \"endless\", \"endless\", \"endless\", \"endless\", \"endless\", \"engagement\", \"engagement\", \"engagement\", \"engagement\", \"ensure\", \"ensure\", \"ensure\", \"ensure\", \"ensure\", \"ensure\", \"ensure\", \"ensure\", \"ensure\", \"errand\", \"errand\", \"errand\", \"errand\", \"errand\", \"errand\", \"errand\", \"errand\", \"errand\", \"exact_same\", \"exact_same\", \"exact_same\", \"exact_same\", \"exact_same\", \"exceed\", \"exceed\", \"exceed\", \"exceed\", \"exceed\", \"exceed\", \"exceed\", \"exceed\", \"exceed\", \"excessive\", \"excessive\", \"excessive\", \"excessive\", \"excessive\", \"excessive\", \"excessive\", \"expect\", \"expect\", \"expect\", \"expect\", \"expect\", \"expect\", \"expect\", \"expect\", \"expect\", \"expect\", \"eye\", \"eye\", \"eye\", \"eye\", \"eye\", \"eye\", \"eye\", \"eye\", \"eye\", \"eye\", \"eye_catching\", \"eye_catching\", \"eye_catching\", \"eye_catching\", \"eye_catching\", \"eye_catching\", \"eye_catching\", \"fab\", \"fab\", \"fab\", \"fab\", \"fab\", \"fabric\", \"fabric\", \"fabric\", \"fabric\", \"fabric\", \"fabric\", \"fabric\", \"fabric\", \"fabric\", \"fabric\", \"fact\", \"fact\", \"fact\", \"fact\", \"fact\", \"fact\", \"fact\", \"fact\", \"fact\", \"fact\", \"fall\", \"fall\", \"fall\", \"fall\", \"fall\", \"fall\", \"fall\", \"fall\", \"fall\", \"fall\", \"feel\", \"feel\", \"feel\", \"feel\", \"feel\", \"feel\", \"feel\", \"feel\", \"feel\", \"feel\", \"feel_compel\", \"feel_compel\", \"feel_compel\", \"feel_compel\", \"feel_compel\", \"felt\", \"felt\", \"felt\", \"felt\", \"felt\", \"felt\", \"feminine\", \"feminine\", \"feminine\", \"feminine\", \"feminine\", \"feminine\", \"feminine\", \"feminine\", \"feminine\", \"feminine\", \"few_month_ago\", \"few_month_ago\", \"few_month_ago\", \"few_month_ago\", \"few_pound\", \"few_pound\", \"few_pound\", \"few_pound\", \"few_week\", \"few_week\", \"few_week\", \"few_week\", \"few_week\", \"few_week\", \"few_week\", \"few_week_ago\", \"few_week_ago\", \"few_week_ago\", \"few_week_ago\", \"few_week_ago\", \"few_week_ago\", \"find\", \"find\", \"find\", \"find\", \"find\", \"find\", \"find\", \"find\", \"find\", \"find\", \"fit\", \"fit\", \"fit\", \"fit\", \"fit\", \"fit\", \"fit\", \"fit\", \"fit\", \"fit\", \"flat\", \"flat\", \"flat\", \"flat\", \"flat\", \"flat\", \"flat\", \"flat\", \"flat\", \"flat\", \"flattering\", \"flattering\", \"flattering\", \"flattering\", \"flattering\", \"flattering\", \"flattering\", \"flattering\", \"flattering\", \"flattering\", \"floor\", \"floor\", \"floor\", \"floor\", \"floor\", \"floor\", \"floor\", \"floor\", \"floor\", \"flouncy\", \"flouncy\", \"flouncy\", \"flouncy\", \"flouncy\", \"flowey\", \"flowey\", \"flowey\", \"flowey\", \"flowey\", \"flowey\", \"flowey\", \"forearm\", \"forearm\", \"forearm\", \"forearm\", \"forearm\", \"formal\", \"formal\", \"formal\", \"formal\", \"formal\", \"formal\", \"formal\", \"formal\", \"formal\", \"frequently\", \"frequently\", \"frequently\", \"frequently\", \"frequently\", \"friday\", \"friday\", \"friday\", \"friday\", \"friday\", \"friday\", \"frilly\", \"frilly\", \"frilly\", \"frilly\", \"frilly\", \"frilly\", \"g\", \"g\", \"g\", \"g\", \"g\", \"g\", \"gape_open\", \"gape_open\", \"gape_open\", \"gape_open\", \"gape_open\", \"gape_open\", \"gape_open\", \"gently\", \"gently\", \"gently\", \"gently\", \"gently\", \"gently\", \"get_several_compliment\", \"get_several_compliment\", \"get_several_compliment\", \"get_several_compliment\", \"get_several_compliment\", \"get_several_compliment\", \"get_several_compliment\", \"get_several_compliment\", \"glove\", \"glove\", \"glove\", \"glove\", \"glove\", \"glove\", \"glove\", \"glove\", \"glove\", \"glove\", \"goddess\", \"goddess\", \"goddess\", \"goddess\", \"good\", \"good\", \"good\", \"good\", \"good\", \"good\", \"good\", \"good\", \"good\", \"good\", \"gorgeous\", \"gorgeous\", \"gorgeous\", \"gorgeous\", \"gorgeous\", \"gorgeous\", \"gorgeous\", \"gorgeous\", \"gorgeous\", \"gorgeous\", \"grant\", \"grant\", \"grant\", \"grant\", \"grant\", \"gray\", \"gray\", \"gray\", \"gray\", \"gray\", \"gray\", \"gray\", \"gray\", \"gray\", \"gray\", \"graze\", \"graze\", \"graze\", \"graze\", \"graze\", \"graze\", \"graze\", \"graze\", \"great\", \"great\", \"great\", \"great\", \"great\", \"great\", \"great\", \"great\", \"great\", \"great\", \"great_layering_piece\", \"great_layering_piece\", \"great_layering_piece\", \"great_layering_piece\", \"great_layering_piece\", \"great_layering_piece\", \"half_tuck\", \"half_tuck\", \"half_tuck\", \"half_tuck\", \"half_tuck\", \"half_tuck\", \"hand_washing\", \"hand_washing\", \"hand_washing\", \"hand_washing\", \"hand_washing\", \"handy\", \"handy\", \"handy\", \"handy\", \"handy\", \"handy\", \"happily\", \"happily\", \"happily\", \"happily\", \"happily\", \"happily\", \"happy\", \"happy\", \"happy\", \"happy\", \"happy\", \"happy\", \"happy\", \"happy\", \"happy\", \"happy\", \"hassle\", \"hassle\", \"hassle\", \"hassle\", \"hassle\", \"hassle\", \"hassle\", \"hd\", \"hd\", \"hd\", \"hd\", \"hd\", \"hd\", \"hd\", \"hd\", \"hd\", \"hear\", \"hear\", \"hear\", \"hear\", \"hear\", \"hear\", \"hear\", \"hear\", \"hear\", \"heavenly\", \"heavenly\", \"heavenly\", \"heavenly\", \"heavenly\", \"heeled\", \"heeled\", \"heeled\", \"heeled\", \"heeled\", \"hei_hei\", \"hei_hei\", \"hei_hei\", \"hei_hei\", \"hei_hei\", \"hei_hei\", \"hei_hei\", \"hei_hei\", \"hei_hei\", \"hemming\", \"hemming\", \"hemming\", \"hemming\", \"hemming\", \"hemming\", \"hide\", \"hide\", \"hide\", \"hide\", \"hide\", \"hide\", \"hide\", \"hide\", \"hide\", \"hide\", \"high_rise\", \"high_rise\", \"high_rise\", \"high_rise\", \"high_rise\", \"high_rise\", \"high_rise\", \"high_rise\", \"high_waiste_jean\", \"high_waiste_jean\", \"high_waiste_jean\", \"high_waiste_jean\", \"high_waiste_jean\", \"high_waiste_jean\", \"high_waiste_jean\", \"high_waiste_jean\", \"hit\", \"hit\", \"hit\", \"hit\", \"hit\", \"hit\", \"hit\", \"hit\", \"hit\", \"hit\", \"huge\", \"huge\", \"huge\", \"huge\", \"huge\", \"huge\", \"huge\", \"huge\", \"huge\", \"huge\", \"i&#39;m\", \"i&#39;m\", \"i&#39;m\", \"i&#39;m\", \"i&#39;m\", \"immediately_catch\", \"immediately_catch\", \"immediately_catch\", \"immediately_catch\", \"immediately_catch\", \"impression\", \"impression\", \"impression\", \"impression\", \"impression\", \"impression\", \"impression\", \"inch_above\", \"inch_above\", \"inch_above\", \"inch_above\", \"inch_above\", \"inch_above\", \"inch_above\", \"inch_above\", \"inch_above\", \"instantly_fall\", \"instantly_fall\", \"instantly_fall\", \"instantly_fall\", \"instantly_fall\", \"interest\", \"interest\", \"interest\", \"interest\", \"interest\", \"interest\", \"interest\", \"interest\", \"interest\", \"interest\", \"issue\", \"issue\", \"issue\", \"issue\", \"issue\", \"issue\", \"issue\", \"issue\", \"issue\", \"issue\", \"it&#39;s\", \"it&#39;s\", \"it&#39;s\", \"it&#39;s\", \"it&#39;s\", \"it&#39;s\", \"ivory\", \"ivory\", \"ivory\", \"ivory\", \"ivory\", \"ivory\", \"ivory\", \"ivory\", \"ivory\", \"ivory\", \"jacket\", \"jacket\", \"jacket\", \"jacket\", \"jacket\", \"jacket\", \"jacket\", \"jacket\", \"jacket\", \"jacket\", \"jean\", \"jean\", \"jean\", \"jean\", \"jean\", \"jean\", \"jean\", \"jean\", \"jean\", \"jean\", \"jsut\", \"jsut\", \"jsut\", \"jsut\", \"jsut\", \"jsut\", \"jsut\", \"jsut\", \"jumpsuit\", \"jumpsuit\", \"jumpsuit\", \"jumpsuit\", \"jumpsuit\", \"jumpsuit\", \"jumpsuit\", \"jumpsuit\", \"jumpsuit\", \"jumpsuit\", \"kelly_green\", \"kelly_green\", \"kelly_green\", \"kelly_green\", \"kelly_green\", \"kelly_green\", \"knit\", \"knit\", \"knit\", \"knit\", \"knit\", \"knit\", \"knit\", \"knit\", \"knit\", \"knit\", \"label\", \"label\", \"label\", \"label\", \"label\", \"label\", \"label\", \"label\", \"label\", \"label\", \"lady_who\", \"lady_who\", \"lady_who\", \"lady_who\", \"lady_who\", \"large\", \"large\", \"large\", \"large\", \"large\", \"large\", \"large\", \"large\", \"large\", \"large\", \"large_cheste\", \"large_cheste\", \"large_cheste\", \"large_cheste\", \"large_cheste\", \"large_cheste\", \"large_cheste\", \"large_cheste\", \"large_cheste\", \"large_cheste\", \"layer\", \"layer\", \"layer\", \"layer\", \"layer\", \"layer\", \"layer\", \"layer\", \"layer\", \"layer\", \"layer_underneath\", \"layer_underneath\", \"layer_underneath\", \"layer_underneath\", \"layer_underneath\", \"layer_underneath\", \"layer_underneath\", \"layer_underneath\", \"layer_underneath\", \"leather\", \"leather\", \"leather\", \"leather\", \"leather\", \"leather\", \"leather\", \"leather\", \"leather\", \"leather\", \"legging\", \"legging\", \"legging\", \"legging\", \"legging\", \"legging\", \"legging\", \"legging\", \"legging\", \"legging\", \"length\", \"length\", \"length\", \"length\", \"length\", \"length\", \"length\", \"length\", \"length\", \"length\", \"lengthen\", \"lengthen\", \"lengthen\", \"lengthen\", \"lengthen\", \"lengthen\", \"li\", \"li\", \"li\", \"li\", \"li\", \"li\", \"lifestyle\", \"lifestyle\", \"lifestyle\", \"lifestyle\", \"lifestyle\", \"like\", \"like\", \"like\", \"like\", \"like\", \"like\", \"like\", \"like\", \"like\", \"like\", \"linen_blend\", \"linen_blend\", \"linen_blend\", \"little\", \"little\", \"little\", \"little\", \"little\", \"little\", \"little\", \"little\", \"little\", \"little\", \"long\", \"long\", \"long\", \"long\", \"long\", \"long\", \"long\", \"long\", \"long\", \"long\", \"look\", \"look\", \"look\", \"look\", \"look\", \"look\", \"look\", \"look\", \"look\", \"look\", \"loose\", \"loose\", \"loose\", \"loose\", \"loose\", \"loose\", \"loose\", \"loose\", \"loose\", \"loose\", \"lot_of\", \"lot_of\", \"lot_of\", \"lot_of\", \"lot_of\", \"lot_of\", \"lot_of\", \"lot_of\", \"lot_of\", \"lot_of\", \"loungewear\", \"loungewear\", \"loungewear\", \"loungewear\", \"loungewear\", \"loungewear\", \"loungewear\", \"love\", \"love\", \"love\", \"love\", \"love\", \"love\", \"love\", \"love\", \"love\", \"love\", \"lovely\", \"lovely\", \"lovely\", \"lovely\", \"lovely\", \"lovely\", \"lovely\", \"lovely\", \"lovely\", \"lovely\", \"lunch\", \"lunch\", \"lunch\", \"lunch\", \"lunch\", \"lunch\", \"lunch\", \"lunch\", \"machine_washable\", \"machine_washable\", \"machine_washable\", \"machine_washable\", \"machine_washable\", \"machine_washable\", \"machine_washable\", \"machine_washable\", \"machine_washable\", \"macrame\", \"macrame\", \"macrame\", \"macrame\", \"macrame\", \"macrame\", \"mail\", \"mail\", \"mail\", \"mail\", \"mail\", \"mail\", \"mail\", \"mail\", \"mail\", \"mail\", \"maintain\", \"maintain\", \"maintain\", \"maintain\", \"maintain\", \"maintain\", \"maintain\", \"maintain\", \"maintain\", \"maker\", \"maker\", \"maker\", \"maker\", \"maker\", \"makeup\", \"makeup\", \"makeup\", \"makeup\", \"manufacturer\", \"manufacturer\", \"manufacturer\", \"many_occasion\", \"many_occasion\", \"many_occasion\", \"many_occasion\", \"many_occasion\", \"many_occasion\", \"market\", \"market\", \"market\", \"market\", \"market\", \"market\", \"material\", \"material\", \"material\", \"material\", \"material\", \"material\", \"material\", \"material\", \"material\", \"material\", \"maybe\", \"maybe\", \"maybe\", \"maybe\", \"maybe\", \"maybe\", \"maybe\", \"maybe\", \"maybe\", \"maybe\", \"me-\", \"me-\", \"me-\", \"me-\", \"me-\", \"me-\", \"me-\", \"me-\", \"medium\", \"medium\", \"medium\", \"medium\", \"medium\", \"medium\", \"medium\", \"medium\", \"medium\", \"medium\", \"mid_hip\", \"mid_hip\", \"mid_hip\", \"mid_hip\", \"mid_hip\", \"mistake\", \"mistake\", \"mistake\", \"mistake\", \"mistake\", \"mistake\", \"mistake\", \"mistake\", \"mistake\", \"mistake\", \"modal\", \"modal\", \"modal\", \"modal\", \"modal\", \"model\", \"model\", \"model\", \"model\", \"model\", \"model\", \"model\", \"model\", \"model\", \"model\", \"mood\", \"mood\", \"mood\", \"mood\", \"mood\", \"mood\", \"moss\", \"moss\", \"moss\", \"moss\", \"moss\", \"moss\", \"moss\", \"moss\", \"moss\", \"moss\", \"moth\", \"moth\", \"moth\", \"moth\", \"moth\", \"moth\", \"moth\", \"mother_'s_day\", \"mother_'s_day\", \"mother_'s_day\", \"mother_'s_day\", \"mother_'s_day\", \"muscular_thigh\", \"muscular_thigh\", \"muscular_thigh\", \"muscular_thigh\", \"navy\", \"navy\", \"navy\", \"navy\", \"navy\", \"navy\", \"navy\", \"navy\", \"navy\", \"navy\", \"need\", \"need\", \"need\", \"need\", \"need\", \"need\", \"need\", \"need\", \"need\", \"need\", \"negative_review\", \"negative_review\", \"negative_review\", \"negative_review\", \"negative_review\", \"negative_review\", \"negative_review\", \"negative_review\", \"nervous\", \"nervous\", \"nervous\", \"nervous\", \"nervous\", \"nervous\", \"nervous\", \"nervous\", \"nervous\", \"nervous\", \"next_time\", \"next_time\", \"next_time\", \"next_time\", \"nice\", \"nice\", \"nice\", \"nice\", \"nice\", \"nice\", \"nice\", \"nice\", \"nice\", \"nice\", \"nicer\", \"nicer\", \"nicer\", \"nicer\", \"nicer\", \"north\", \"north\", \"north\", \"north\", \"north\", \"north\", \"north\", \"notch\", \"notch\", \"notch\", \"notch\", \"notch\", \"notch\", \"notch\", \"notch\", \"notch\", \"nude_slip\", \"nude_slip\", \"nude_slip\", \"nude_slip\", \"nursing\", \"nursing\", \"nursing\", \"nursing\", \"nursing\", \"nursing\", \"nursing\", \"nyc\", \"nyc\", \"nyc\", \"nyc\", \"nyc\", \"nyc\", \"nyc\", \"oatmeal\", \"oatmeal\", \"oatmeal\", \"oatmeal\", \"oatmeal\", \"oatmeal\", \"oatmeal\", \"oatmeal\", \"occasion\", \"occasion\", \"occasion\", \"occasion\", \"occasion\", \"occasion\", \"occasion\", \"occasion\", \"occasion\", \"occasion\", \"online\", \"online\", \"online\", \"online\", \"online\", \"online\", \"online\", \"online\", \"online\", \"online\", \"orangey\", \"orangey\", \"orangey\", \"orangey\", \"order\", \"order\", \"order\", \"order\", \"order\", \"order\", \"order\", \"order\", \"order\", \"order\", \"originally\", \"originally\", \"originally\", \"originally\", \"originally\", \"originally\", \"originally\", \"originally\", \"originally\", \"originally\", \"overlap\", \"overlap\", \"overlap\", \"overlap\", \"overlap\", \"overlap\", \"overpower\", \"overpower\", \"overpower\", \"overprice\", \"overprice\", \"overprice\", \"overprice\", \"overprice\", \"overprice\", \"overprice\", \"oversized\", \"oversized\", \"oversized\", \"oversized\", \"oversized\", \"oversized\", \"oversized\", \"oversized\", \"oversized\", \"oversized\", \"padding\", \"padding\", \"padding\", \"padding\", \"padding\", \"padding\", \"paige\", \"paige\", \"paige\", \"paige\", \"paige\", \"paige\", \"paige\", \"paige\", \"pair\", \"pair\", \"pair\", \"pair\", \"pair\", \"pair\", \"pair\", \"pair\", \"pair\", \"pair\", \"pant\", \"pant\", \"pant\", \"pant\", \"pant\", \"pant\", \"pant\", \"pant\", \"pant\", \"pant\", \"party\", \"party\", \"party\", \"party\", \"party\", \"party\", \"party\", \"party\", \"party\", \"party\", \"pearl\", \"pearl\", \"pearl\", \"pearl\", \"pearl\", \"perfect\", \"perfect\", \"perfect\", \"perfect\", \"perfect\", \"perfect\", \"perfect\", \"perfect\", \"perfect\", \"perfect\", \"periwinkle\", \"periwinkle\", \"periwinkle\", \"person\", \"person\", \"person\", \"person\", \"person\", \"person\", \"person\", \"person\", \"person\", \"person\", \"petite\", \"petite\", \"petite\", \"petite\", \"petite\", \"petite\", \"petite\", \"petite\", \"petite\", \"petite\", \"photo\", \"photo\", \"photo\", \"photo\", \"photo\", \"photo\", \"photo\", \"photo\", \"photo\", \"photo\", \"picture\", \"picture\", \"picture\", \"picture\", \"picture\", \"picture\", \"picture\", \"picture\", \"picture\", \"picture\", \"piece\", \"piece\", \"piece\", \"piece\", \"piece\", \"piece\", \"piece\", \"piece\", \"piece\", \"piece\", \"pilcro\", \"pilcro\", \"pilcro\", \"pilcro\", \"pilcro\", \"pilcro\", \"pilcro\", \"pilcro\", \"pilcro\", \"pilcro\", \"pilcro_pant\", \"pilcro_pant\", \"pilcro_pant\", \"pilcro_pant\", \"pilcro_pant\", \"pilcro_pant\", \"pilcro_pant\", \"pilcro_pant\", \"pile\", \"pile\", \"pile\", \"pile\", \"pile\", \"pile\", \"pile\", \"pile\", \"plane\", \"plane\", \"plane\", \"plane\", \"plane\", \"platform\", \"platform\", \"platform\", \"platform\", \"platform\", \"platform\", \"platform\", \"plenty_roomy\", \"plenty_roomy\", \"plenty_roomy\", \"plenty_roomy\", \"plenty_roomy\", \"plenty_roomy\", \"pocket\", \"pocket\", \"pocket\", \"pocket\", \"pocket\", \"pocket\", \"pocket\", \"pocket\", \"pocket\", \"pocket\", \"pooch\", \"pooch\", \"pooch\", \"pooch\", \"pooch\", \"pooch\", \"pooch\", \"portion\", \"portion\", \"portion\", \"portion\", \"portion\", \"portion\", \"portion\", \"portion\", \"portion\", \"portion\", \"practically\", \"practically\", \"practically\", \"practically\", \"practically\", \"practically\", \"practically\", \"practically\", \"precious\", \"precious\", \"precious\", \"precious\", \"precious\", \"precious\", \"prefect\", \"prefect\", \"prefect\", \"prefect\", \"prefect\", \"pretty\", \"pretty\", \"pretty\", \"pretty\", \"pretty\", \"pretty\", \"pretty\", \"pretty\", \"pretty\", \"pretty\", \"price_tag\", \"price_tag\", \"price_tag\", \"price_tag\", \"price_tag\", \"price_tag\", \"price_tag\", \"price_tag\", \"price_tag\", \"price_tag\", \"princess\", \"princess\", \"princess\", \"princess\", \"princess\", \"princess\", \"princess\", \"print\", \"print\", \"print\", \"print\", \"print\", \"print\", \"print\", \"print\", \"print\", \"print\", \"probably\", \"probably\", \"probably\", \"probably\", \"probably\", \"probably\", \"probably\", \"probably\", \"probably\", \"probably\", \"problematic\", \"problematic\", \"problematic\", \"problematic\", \"process\", \"process\", \"process\", \"process\", \"process\", \"promise\", \"promise\", \"promise\", \"promise\", \"ps\", \"ps\", \"ps\", \"ps\", \"ps\", \"ps\", \"ps\", \"ps\", \"ps\", \"ps\", \"public\", \"public\", \"public\", \"public\", \"public\", \"public\", \"public\", \"puff\", \"puff\", \"puff\", \"puff\", \"puff\", \"purchase\", \"purchase\", \"purchase\", \"purchase\", \"purchase\", \"purchase\", \"purchase\", \"purchase\", \"purchase\", \"purchase\", \"purpose\", \"purpose\", \"purpose\", \"purpose\", \"purpose\", \"purpose\", \"purpose\", \"purpose\", \"purse\", \"purse\", \"purse\", \"purse\", \"purse\", \"purse\", \"pxs\", \"pxs\", \"pxs\", \"pxs\", \"pxs\", \"pxs\", \"pxs\", \"pxs\", \"pxs\", \"pxxs\", \"pxxs\", \"pxxs\", \"pxxs\", \"pxxs\", \"pxxs\", \"pxxs\", \"quality\", \"quality\", \"quality\", \"quality\", \"quality\", \"quality\", \"quality\", \"quality\", \"quality\", \"quality\", \"quick\", \"quick\", \"quick\", \"quick\", \"quick\", \"quick\", \"quick\", \"quick\", \"quick\", \"quickly_become\", \"quickly_become\", \"quickly_become\", \"quickly_become\", \"quickly_become\", \"quickly_become\", \"quickly_become\", \"quickly_become\", \"raspberry\", \"raspberry\", \"raspberry\", \"raspberry\", \"raspberry\", \"raspberry\", \"raspberry\", \"raspberry\", \"raspberry\", \"rave\", \"rave\", \"rave\", \"rave\", \"rave\", \"rave\", \"ready\", \"ready\", \"ready\", \"ready\", \"ready\", \"ready\", \"ready\", \"ready\", \"ready\", \"receive_many_compliment\", \"receive_many_compliment\", \"receive_many_compliment\", \"receive_many_compliment\", \"receive_many_compliment\", \"receive_many_compliment\", \"receive_many_compliment\", \"receive_many_compliment\", \"receive_many_compliment\", \"receive_many_compliment\", \"red\", \"red\", \"red\", \"red\", \"red\", \"red\", \"red\", \"red\", \"red\", \"red\", \"regualr\", \"regualr\", \"regualr\", \"regualr\", \"regualr\", \"regular\", \"regular\", \"regular\", \"regular\", \"regular\", \"regular\", \"regular\", \"regular\", \"regular\", \"regular\", \"rehearsal_dinner\", \"rehearsal_dinner\", \"rehearsal_dinner\", \"rehearsal_dinner\", \"rehearsal_dinner\", \"rehearsal_dinner\", \"rehearsal_dinner\", \"rehearsal_dinner\", \"repair\", \"repair\", \"repair\", \"restrictive\", \"restrictive\", \"restrictive\", \"restrictive\", \"restrictive\", \"restrictive\", \"restrictive\", \"retailer\", \"retailer\", \"retailer\", \"retailer\", \"retailer\", \"retailer\", \"retailer\", \"retailer\", \"retailer\", \"retailer\", \"return\", \"return\", \"return\", \"return\", \"return\", \"return\", \"return\", \"return\", \"return\", \"return\", \"reviewer_mention\", \"reviewer_mention\", \"reviewer_mention\", \"reviewer_mention\", \"reviewer_mention\", \"reviewer_mention\", \"right_above\", \"right_above\", \"right_above\", \"right_above\", \"right_above\", \"right_above\", \"right_above\", \"right_above\", \"right_above\", \"rinse\", \"rinse\", \"rinse\", \"rinse\", \"rinse\", \"rinse\", \"rip\", \"rip\", \"rip\", \"rip\", \"rip\", \"rip\", \"rip\", \"rip\", \"rip\", \"rip\", \"robe\", \"robe\", \"robe\", \"robe\", \"robe\", \"robe\", \"robe\", \"robe\", \"robe\", \"robe\", \"run\", \"run\", \"run\", \"run\", \"run\", \"run\", \"run\", \"run\", \"run\", \"run\", \"sadly\", \"sadly\", \"sadly\", \"sadly\", \"sadly\", \"sadly\", \"sadly\", \"sadly\", \"sadly\", \"sadly\", \"safe\", \"safe\", \"safe\", \"safe\", \"safe\", \"safe\", \"sale\", \"sale\", \"sale\", \"sale\", \"sale\", \"sale\", \"sale\", \"sale\", \"sale\", \"sale\", \"san\", \"san\", \"san\", \"san\", \"san\", \"san\", \"san\", \"sash\", \"sash\", \"sash\", \"sash\", \"sash\", \"sash\", \"sash\", \"satin\", \"satin\", \"satin\", \"satin\", \"satin\", \"satin\", \"satin\", \"satisfied\", \"satisfied\", \"satisfied\", \"satisfied\", \"satisfied\", \"saturated\", \"saturated\", \"saturated\", \"saturated\", \"saturated\", \"saturated\", \"saturated\", \"sausage\", \"sausage\", \"sausage\", \"sausage\", \"sausage\", \"serve\", \"serve\", \"serve\", \"serve\", \"serve\", \"several_inch\", \"several_inch\", \"several_inch\", \"several_inch\", \"several_inch\", \"sexy\", \"sexy\", \"sexy\", \"sexy\", \"sexy\", \"sexy\", \"sexy\", \"sexy\", \"sexy\", \"sh\", \"sh\", \"sh\", \"sh\", \"sh\", \"shape\", \"shape\", \"shape\", \"shape\", \"shape\", \"shape\", \"shape\", \"shape\", \"shape\", \"shape\", \"sharp\", \"sharp\", \"sharp\", \"sharp\", \"sharp\", \"sharp\", \"shed\", \"shed\", \"shed\", \"shed\", \"shed\", \"shed\", \"shed\", \"shed\", \"shed\", \"sheer\", \"sheer\", \"sheer\", \"sheer\", \"sheer\", \"sheer\", \"sheer\", \"sheer\", \"sheer\", \"sheer\", \"shirt\", \"shirt\", \"shirt\", \"shirt\", \"shirt\", \"shirt\", \"shirt\", \"shirt\", \"shirt\", \"shirt\", \"shirtdress\", \"shirtdress\", \"shirtdress\", \"shirtdress\", \"shirtdress\", \"shirtdress\", \"shirtdress\", \"short\", \"short\", \"short\", \"short\", \"short\", \"short\", \"short\", \"short\", \"short\", \"short\", \"shy\", \"shy\", \"shy\", \"shy\", \"shy\", \"shy\", \"shy\", \"shy\", \"side_boob\", \"side_boob\", \"side_boob\", \"side_boob\", \"side_boob\", \"size\", \"size\", \"size\", \"size\", \"size\", \"size\", \"size\", \"size\", \"size\", \"size\", \"skimpy\", \"skimpy\", \"skimpy\", \"skimpy\", \"skimpy\", \"skin_tone\", \"skin_tone\", \"skin_tone\", \"skin_tone\", \"skin_tone\", \"skin_tone\", \"skin_tone\", \"skin_tone\", \"skin_tone\", \"skin_tone\", \"skip\", \"skip\", \"skip\", \"skip\", \"skirt\", \"skirt\", \"skirt\", \"skirt\", \"skirt\", \"skirt\", \"skirt\", \"skirt\", \"skirt\", \"skirt\", \"sleeve\", \"sleeve\", \"sleeve\", \"sleeve\", \"sleeve\", \"sleeve\", \"sleeve\", \"sleeve\", \"sleeve\", \"sleeve\", \"slide_down\", \"slide_down\", \"slide_down\", \"slide_down\", \"slide_down\", \"slide_down\", \"slight_sheen\", \"slight_sheen\", \"slight_sheen\", \"slight_sheen\", \"slight_sheen\", \"slinky\", \"slinky\", \"slinky\", \"slinky\", \"slinky\", \"slinky\", \"slip\", \"slip\", \"slip\", \"slip\", \"slip\", \"slip\", \"slip\", \"slip\", \"slip\", \"slip\", \"small\", \"small\", \"small\", \"small\", \"small\", \"small\", \"small\", \"small\", \"small\", \"small\", \"smell\", \"smell\", \"smell\", \"smell\", \"smell\", \"smell\", \"smell\", \"smell\", \"smell\", \"smell\", \"smidge\", \"smidge\", \"smidge\", \"smidge\", \"smile\", \"smile\", \"smile\", \"smile\", \"smile\", \"smile\", \"smile\", \"snuggly\", \"snuggly\", \"snuggly\", \"snuggly\", \"snuggly\", \"snuggly\", \"soft\", \"soft\", \"soft\", \"soft\", \"soft\", \"soft\", \"soft\", \"soft\", \"soft\", \"soft\", \"someone_tall\", \"someone_tall\", \"someone_tall\", \"someone_tall\", \"someone_tall\", \"someone_tall\", \"someone_tall\", \"someone_tall\", \"someone_tall\", \"somewhat_sheer\", \"somewhat_sheer\", \"somewhat_sheer\", \"somewhat_sheer\", \"somewhat_sheer\", \"soo\", \"soo\", \"soo\", \"soo\", \"soo\", \"soo\", \"special_occasion\", \"special_occasion\", \"special_occasion\", \"special_occasion\", \"special_occasion\", \"special_occasion\", \"special_occasion\", \"statement\", \"statement\", \"statement\", \"statement\", \"statement\", \"statement\", \"statement\", \"statement\", \"statement\", \"statement_piece\", \"statement_piece\", \"statement_piece\", \"statement_piece\", \"statement_piece\", \"statement_piece\", \"statement_piece\", \"statement_piece\", \"statement_piece\", \"sticky\", \"sticky\", \"sticky\", \"sticky\", \"sticky\", \"sticky\", \"store\", \"store\", \"store\", \"store\", \"store\", \"store\", \"store\", \"store\", \"store\", \"store\", \"store_yesterday\", \"store_yesterday\", \"store_yesterday\", \"store_yesterday\", \"store_yesterday\", \"store_yesterday\", \"store_yesterday\", \"store_yesterday\", \"store_yesterday\", \"straight_across\", \"straight_across\", \"straight_across\", \"straight_across\", \"strappy\", \"strappy\", \"strappy\", \"strappy\", \"strappy\", \"strappy\", \"stripe_version\", \"stripe_version\", \"stripe_version\", \"stripe_version\", \"stripe_version\", \"stunning\", \"stunning\", \"stunning\", \"stunning\", \"stunning\", \"stunning\", \"stunning\", \"stunning\", \"stunning\", \"stunning\", \"style\", \"style\", \"style\", \"style\", \"style\", \"style\", \"style\", \"style\", \"style\", \"style\", \"substance\", \"substance\", \"substance\", \"substance\", \"substance\", \"subtly\", \"subtly\", \"subtly\", \"subtly\", \"subtly\", \"subtly\", \"subtly\", \"subtly\", \"suggest\", \"suggest\", \"suggest\", \"suggest\", \"suggest\", \"suggest\", \"suggest\", \"suggest\", \"suggest\", \"suggest\", \"suggestion\", \"suggestion\", \"suggestion\", \"suggestion\", \"suggestion\", \"summer\", \"summer\", \"summer\", \"summer\", \"summer\", \"summer\", \"summer\", \"summer\", \"summer\", \"summer\", \"summer_staple\", \"summer_staple\", \"summer_staple\", \"summer_staple\", \"summer_staple\", \"summer_staple\", \"summer_staple\", \"sunday\", \"sunday\", \"sunday\", \"sunday\", \"sunday\", \"sunday\", \"sunday\", \"super_soft\", \"super_soft\", \"super_soft\", \"super_soft\", \"super_soft\", \"super_soft\", \"super_soft\", \"super_soft\", \"super_soft\", \"super_soft\", \"surely\", \"surely\", \"sweater\", \"sweater\", \"sweater\", \"sweater\", \"sweater\", \"sweater\", \"sweater\", \"sweater\", \"sweater\", \"sweater\", \"switch\", \"switch\", \"switch\", \"switch\", \"switch\", \"t.\", \"t.\", \"t.\", \"t.\", \"t.\", \"t.\", \"t.\", \"t.\", \"table\", \"table\", \"table\", \"table\", \"table\", \"tack\", \"tack\", \"tack\", \"tack\", \"tack\", \"tack\", \"tack\", \"tall\", \"tall\", \"tall\", \"tall\", \"tall\", \"tall\", \"tall\", \"tall\", \"tall\", \"tall\", \"tall_woman\", \"tall_woman\", \"tall_woman\", \"tall_woman\", \"tall_woman\", \"tall_woman\", \"tall_woman\", \"tank\", \"tank\", \"tank\", \"tank\", \"tank\", \"tank\", \"tank\", \"tank\", \"tank\", \"tank\", \"tank_underneath\", \"tank_underneath\", \"tank_underneath\", \"tank_underneath\", \"tank_underneath\", \"tank_underneath\", \"tank_underneath\", \"tank_underneath\", \"tank_underneath\", \"tank_underneath\", \"tapered\", \"tapered\", \"tapered\", \"tapered\", \"tea\", \"tea\", \"tea\", \"tea\", \"teach\", \"teach\", \"teach\", \"teach\", \"teacher\", \"teacher\", \"teacher\", \"teacher\", \"teacher\", \"teacher\", \"teacher\", \"tee\", \"tee\", \"tee\", \"tee\", \"tee\", \"tee\", \"tee\", \"tee\", \"tee\", \"tee\", \"these_jean\", \"these_jean\", \"these_jean\", \"these_jean\", \"these_jean\", \"these_jean\", \"these_jean\", \"these_jean\", \"these_jean\", \"these_jean\", \"these_pant\", \"these_pant\", \"these_pant\", \"these_pant\", \"these_pant\", \"these_pant\", \"these_pant\", \"these_pant\", \"these_pant\", \"these_pant\", \"these_sock\", \"these_sock\", \"these_sock\", \"these_sock\", \"thi\", \"thi\", \"thi\", \"thi\", \"thi\", \"thi\", \"thi\", \"thick\", \"thick\", \"thick\", \"thick\", \"thick\", \"thick\", \"thick\", \"thick\", \"thick\", \"thick\", \"thick_enough\", \"thick_enough\", \"thick_enough\", \"thick_enough\", \"thick_enough\", \"thick_enough\", \"thick_enough\", \"thick_enough\", \"thick_enough\", \"thick_enough\", \"thin\", \"thin\", \"thin\", \"thin\", \"thin\", \"thin\", \"thin\", \"thin\", \"thin\", \"thin\", \"thing\", \"thing\", \"thing\", \"thing\", \"thing\", \"thing\", \"thing\", \"thing\", \"thing\", \"thing\", \"think\", \"think\", \"think\", \"think\", \"think\", \"think\", \"think\", \"think\", \"think\", \"think\", \"tie\", \"tie\", \"tie\", \"tie\", \"tie\", \"tie\", \"tie\", \"tie\", \"tie\", \"tie\", \"tight\", \"tight\", \"tight\", \"tight\", \"tight\", \"tight\", \"tight\", \"tight\", \"tight\", \"tight\", \"tint\", \"tint\", \"tint\", \"tint\", \"tint\", \"tint\", \"tint\", \"tint\", \"ton_of\", \"ton_of\", \"ton_of\", \"ton_of\", \"ton_of\", \"ton_of\", \"ton_of\", \"ton_of\", \"ton_of\", \"tops\", \"tops\", \"tops\", \"tops\", \"tops\", \"transfer\", \"transfer\", \"transfer\", \"transfer\", \"transition_from\", \"transition_from\", \"transition_from\", \"transition_from\", \"transition_from\", \"transition_from\", \"trench\", \"trench\", \"trench\", \"trench\", \"triangle\", \"triangle\", \"triangle\", \"triangle\", \"triangle\", \"triangle\", \"triangle\", \"triangle\", \"true\", \"true\", \"true\", \"true\", \"true\", \"true\", \"true\", \"true\", \"true\", \"true\", \"try\", \"try\", \"try\", \"try\", \"try\", \"try\", \"try\", \"try\", \"try\", \"try\", \"tts\", \"tts\", \"tts\", \"tts\", \"tts\", \"tts\", \"tts\", \"tts\", \"tts\", \"tts\", \"tuck_into\", \"tuck_into\", \"tuck_into\", \"tuck_into\", \"tuck_into\", \"tuck_into\", \"tuck_into\", \"tummy_area\", \"tummy_area\", \"tummy_area\", \"tummy_area\", \"tummy_area\", \"tunic\", \"tunic\", \"tunic\", \"tunic\", \"tunic\", \"tunic\", \"tunic\", \"tunic\", \"tunic\", \"tunic\", \"turtle_neck\", \"turtle_neck\", \"turtle_neck\", \"turtle_neck\", \"turtle_neck\", \"ultra\", \"ultra\", \"ultra\", \"ultra\", \"ultra\", \"ultra\", \"ultra\", \"ultra\", \"undecided\", \"undecided\", \"undecided\", \"undecided\", \"undecided\", \"unzipped\", \"unzipped\", \"unzipped\", \"unzipped\", \"unzipped\", \"upset\", \"upset\", \"upset\", \"upset\", \"upset\", \"upset\", \"useful\", \"useful\", \"useful\", \"useful\", \"useful\", \"useful\", \"useful\", \"usually\", \"usually\", \"usually\", \"usually\", \"usually\", \"usually\", \"usually\", \"usually\", \"usually\", \"usually\", \"vanity\", \"vanity\", \"vanity\", \"vanity\", \"vanity\", \"vanity\", \"vanity\", \"versatile\", \"versatile\", \"versatile\", \"versatile\", \"versatile\", \"versatile\", \"versatile\", \"versatile\", \"versatile\", \"versatile\", \"vs\", \"vs\", \"vs\", \"vs\", \"vs\", \"waist\", \"waist\", \"waist\", \"waist\", \"waist\", \"waist\", \"waist\", \"waist\", \"waist\", \"waist\", \"waiste\", \"waiste\", \"waiste\", \"waiste\", \"waiste\", \"wait\", \"wait\", \"wait\", \"wait\", \"wait\", \"wait\", \"wait\", \"wait\", \"wait\", \"wait\", \"want\", \"want\", \"want\", \"want\", \"want\", \"want\", \"want\", \"want\", \"want\", \"want\", \"warm\", \"warm\", \"warm\", \"warm\", \"warm\", \"warm\", \"warm\", \"warm\", \"warm\", \"warm\", \"warm_climate\", \"warm_climate\", \"warm_climate\", \"warm_climate\", \"warm_climate\", \"warm_climate\", \"warm_climate\", \"wash\", \"wash\", \"wash\", \"wash\", \"wash\", \"wash\", \"wash\", \"wash\", \"wash\", \"wash\", \"way\", \"way\", \"way\", \"way\", \"way\", \"way\", \"way\", \"way\", \"way\", \"way\", \"wear\", \"wear\", \"wear\", \"wear\", \"wear\", \"wear\", \"wear\", \"wear\", \"wear\", \"wear\", \"wearer\", \"wearer\", \"wearer\", \"wearer\", \"wearer\", \"wearer\", \"web\", \"web\", \"web\", \"web\", \"web\", \"web\", \"wedding\", \"wedding\", \"wedding\", \"wedding\", \"wedding\", \"wedding\", \"wedding\", \"wedding\", \"wedding\", \"wedding\", \"week_pregnant\", \"week_pregnant\", \"week_pregnant\", \"week_pregnant\", \"week_pregnant\", \"week_pregnant\", \"week_pregnant\", \"week_pregnant\", \"white\", \"white\", \"white\", \"white\", \"white\", \"white\", \"white\", \"white\", \"white\", \"white\", \"wide\", \"wide\", \"wide\", \"wide\", \"wide\", \"wide\", \"wide\", \"wide\", \"wide\", \"wide\", \"will_most_likely\", \"will_most_likely\", \"will_most_likely\", \"will_most_likely\", \"will_most_likely\", \"will_most_likely\", \"winter\", \"winter\", \"winter\", \"winter\", \"winter\", \"winter\", \"winter\", \"winter\", \"winter\", \"winter\", \"wish\", \"wish\", \"wish\", \"wish\", \"wish\", \"wish\", \"wish\", \"wish\", \"wish\", \"wish\", \"wo\", \"wo\", \"wo\", \"wo\", \"work\", \"work\", \"work\", \"work\", \"work\", \"work\", \"work\", \"work\", \"work\", \"work\", \"worth_full_price\", \"worth_full_price\", \"worth_full_price\", \"worth_full_price\", \"worth_full_price\", \"worth_full_price\", \"worth_full_price\", \"worth_full_price\", \"worthy\", \"worthy\", \"worthy\", \"worthy\", \"worthy\", \"worthy\", \"wrinkle\", \"wrinkle\", \"wrinkle\", \"wrinkle\", \"wrinkle\", \"wrinkle\", \"wrinkle\", \"wrinkle\", \"wrinkle\", \"wrinkle\", \"xs\", \"xs\", \"xs\", \"xs\", \"xs\", \"xs\", \"xs\", \"xs\", \"xs\", \"xs\", \"xsmall\", \"xsmall\", \"xsmall\", \"xsmall\", \"xsmall\", \"xsmall\", \"xsmall\", \"xsmall\", \"xsmall\", \"xsmall\", \"xspetite\", \"xspetite\", \"xspetite\", \"xspetite\", \"xspetite\", \"xspetite\", \"xxs\", \"xxs\", \"xxs\", \"xxs\", \"xxs\", \"xxs\", \"xxs\", \"xxs\", \"xxs\", \"xxs\"]}, \"R\": 30, \"lambda.step\": 0.01, \"plot.opts\": {\"xlab\": \"PC1\", \"ylab\": \"PC2\"}, \"topic.order\": [9, 10, 8, 3, 5, 1, 7, 4, 2, 6]};\n",
              "\n",
              "function LDAvis_load_lib(url, callback){\n",
              "  var s = document.createElement('script');\n",
              "  s.src = url;\n",
              "  s.async = true;\n",
              "  s.onreadystatechange = s.onload = callback;\n",
              "  s.onerror = function(){console.warn(\"failed to load library \" + url);};\n",
              "  document.getElementsByTagName(\"head\")[0].appendChild(s);\n",
              "}\n",
              "\n",
              "if(typeof(LDAvis) !== \"undefined\"){\n",
              "   // already loaded: just create the visualization\n",
              "   !function(LDAvis){\n",
              "       new LDAvis(\"#\" + \"ldavis_el811396894636656163132537097\", ldavis_el811396894636656163132537097_data);\n",
              "   }(LDAvis);\n",
              "}else if(typeof define === \"function\" && define.amd){\n",
              "   // require.js is available: use it to load d3/LDAvis\n",
              "   require.config({paths: {d3: \"https://d3js.org/d3.v5\"}});\n",
              "   require([\"d3\"], function(d3){\n",
              "      window.d3 = d3;\n",
              "      LDAvis_load_lib(\"https://cdn.jsdelivr.net/gh/bmabey/pyLDAvis@3.3.1/pyLDAvis/js/ldavis.v3.0.0.js\", function(){\n",
              "        new LDAvis(\"#\" + \"ldavis_el811396894636656163132537097\", ldavis_el811396894636656163132537097_data);\n",
              "      });\n",
              "    });\n",
              "}else{\n",
              "    // require.js not available: dynamically load d3 & LDAvis\n",
              "    LDAvis_load_lib(\"https://d3js.org/d3.v5.js\", function(){\n",
              "         LDAvis_load_lib(\"https://cdn.jsdelivr.net/gh/bmabey/pyLDAvis@3.3.1/pyLDAvis/js/ldavis.v3.0.0.js\", function(){\n",
              "                 new LDAvis(\"#\" + \"ldavis_el811396894636656163132537097\", ldavis_el811396894636656163132537097_data);\n",
              "            })\n",
              "         });\n",
              "}\n",
              "</script>"
            ],
            "text/plain": [
              "<IPython.core.display.HTML object>"
            ]
          },
          "metadata": {},
          "execution_count": 44
        }
      ],
      "source": [
        "pyLDAvis.display(ldavis)"
      ]
    },
    {
      "cell_type": "markdown",
      "metadata": {
        "id": "UlnCpC7Rz6XA"
      },
      "source": [
        "gensim과 pyLDAvis는 동일한 토픽 인덱스를 공유하지 않는다"
      ]
    },
    {
      "cell_type": "code",
      "execution_count": 45,
      "metadata": {
        "colab": {
          "base_uri": "https://localhost:8080/"
        },
        "id": "1yn6ZMrKz6XA",
        "outputId": "90124288-4b48-4cea-e19c-f612cc5c2799"
      },
      "outputs": [
        {
          "output_type": "execute_result",
          "data": {
            "text/plain": [
              "[('fit', 0.028318198),\n",
              " ('dress', 0.01938277),\n",
              " ('look', 0.019229079),\n",
              " ('like', 0.018901324),\n",
              " ('size', 0.016818948),\n",
              " ('great', 0.015573374),\n",
              " ('wear', 0.014960237),\n",
              " ('small', 0.014640876),\n",
              " ('love', 0.013938689),\n",
              " ('buy', 0.011138214)]"
            ]
          },
          "metadata": {},
          "execution_count": 45
        }
      ],
      "source": [
        "lda.show_topic(2)"
      ]
    },
    {
      "cell_type": "markdown",
      "metadata": {
        "id": "nAmXlo49z6XA"
      },
      "source": [
        "토픽마다 이름을 정해주고 긍부정을 표기해보자"
      ]
    },
    {
      "cell_type": "code",
      "execution_count": 46,
      "metadata": {
        "id": "YZi_QXzXz6XA"
      },
      "outputs": [],
      "source": [
        "topic_sentiments = {\n",
        "    0: ('size', -1),\n",
        "    1: ('dress', 0),\n",
        "    2: ('size', -1),\n",
        "    3: ('like', 1),\n",
        "    4: ('love', 1),\n",
        "    5: ('fit', 1),\n",
        "    6: ('size problem', -1),\n",
        "    7: ('fit', 1),\n",
        "    8: ('love', 1),\n",
        "    9: ('great', 1)\n",
        "}"
      ]
    },
    {
      "cell_type": "code",
      "execution_count": 47,
      "metadata": {
        "id": "QRQbxxDp_v1s"
      },
      "outputs": [],
      "source": [
        "def preprocess_text(text):\n",
        "    text = text.lower()\n",
        "    doc = nlp(text)\n",
        "    lemmas = [token.lemma_ for token in doc if not token.is_punct and not token.is_space]\n",
        "    bigrams = bigram_phraser[lemmas]\n",
        "    trigrams = trigram_phraser[bigrams]\n",
        "    tokens_normalized = [lemma for lemma in trigrams if lemma not in nlp.Defaults.stop_words and lemma != '-PRON-']\n",
        "    return tokens_normalized"
      ]
    },
    {
      "cell_type": "code",
      "execution_count": 48,
      "metadata": {
        "id": "mmvu1aWMz6XB"
      },
      "outputs": [],
      "source": [
        "def get_lda(normalized_text):\n",
        "    tokens = normalized_text.split()\n",
        "    bow = dictionary.doc2bow(tokens)\n",
        "    lda_result = lda[bow]\n",
        "    return lda_result"
      ]
    },
    {
      "cell_type": "code",
      "execution_count": 49,
      "metadata": {
        "id": "gUpkLVfrz6XB"
      },
      "outputs": [],
      "source": [
        "def get_sentiment(normalized_text):\n",
        "    review_lda = get_lda(normalized_text)\n",
        "    sentiments = [(topic_sentiments[topic][1] * frequency, frequency) for topic, frequency in review_lda]\n",
        "    \n",
        "    if not sentiments:\n",
        "        return 0\n",
        "    else:\n",
        "        return sum(senti for senti, freq in sentiments / sum(freq for senti, freq in sentiments))"
      ]
    },
    {
      "cell_type": "code",
      "execution_count": 50,
      "metadata": {
        "id": "a0b2F6QMz6XB"
      },
      "outputs": [],
      "source": [
        "def describe_review_from_raw(text, min_frequency=0.1):\n",
        "    tokens = preprocess_text(text)\n",
        "    normalized_text = ' '.join(tokens)\n",
        "    review_lda = get_lda(normalized_text)\n",
        "    sentiment = get_sentiment(normalized_text)\n",
        "    \n",
        "    print()\n",
        "    for topic, frequency in sorted(review_lda, key=lambda x: x[1], reverse=True):\n",
        "        if frequency < min_frequency:\n",
        "            continue\n",
        "        print('{:12}: {}'.format(topic_sentiments[topic][0], round(frequency, 3)))\n",
        "    \n",
        "    print('positiveness: {}'.format(sentiment))"
      ]
    },
    {
      "cell_type": "code",
      "execution_count": 51,
      "metadata": {
        "id": "vItW7YwAz6XB"
      },
      "outputs": [],
      "source": [
        "def predict_with_lda(normalized_text):\n",
        "    sentiment = get_sentiment(normalized_text)\n",
        "    return sentiment >= 0"
      ]
    },
    {
      "cell_type": "code",
      "execution_count": 52,
      "metadata": {
        "colab": {
          "base_uri": "https://localhost:8080/"
        },
        "id": "bCHSnVnaz6XB",
        "outputId": "3d1bf5d5-23bb-4926-eb1c-8f7b0684deae"
      },
      "outputs": [
        {
          "output_type": "stream",
          "name": "stdout",
          "text": [
            "I love this shirt, i had my eye on it for awhile but wasn't sure what size i'd be, so i went to the store to try. they only had a small which i figured i would be but it was a little large and not as fitted as i would like it across the chest. i got an xs and it was perfect; i am 5'1 about 120 lbs and a small c cup and it fits great. i love it!!\n",
            "\n",
            "size        : 0.5170000195503235\n",
            "great       : 0.45100000500679016\n",
            "positiveness: -0.06875164830103464\n"
          ]
        },
        {
          "output_type": "stream",
          "name": "stderr",
          "text": [
            "/usr/local/lib/python3.7/dist-packages/catalogue.py:138: DeprecationWarning: SelectableGroups dict interface is deprecated. Use select.\n",
            "  for entry_point in AVAILABLE_ENTRY_POINTS.get(self.entry_point_namespace, []):\n",
            "/usr/local/lib/python3.7/dist-packages/catalogue.py:138: DeprecationWarning: SelectableGroups dict interface is deprecated. Use select.\n",
            "  for entry_point in AVAILABLE_ENTRY_POINTS.get(self.entry_point_namespace, []):\n"
          ]
        }
      ],
      "source": [
        "text = df_train['Review Text'].iloc[0]\n",
        "print(text)\n",
        "describe_review_from_raw(text)"
      ]
    },
    {
      "cell_type": "markdown",
      "metadata": {
        "id": "I4xgCYn9z6XC"
      },
      "source": [
        "정확도 구하기"
      ]
    },
    {
      "cell_type": "code",
      "execution_count": 53,
      "metadata": {
        "colab": {
          "base_uri": "https://localhost:8080/"
        },
        "id": "mAkde39Oz6XC",
        "outputId": "2537b2b4-fdbe-4f2d-ee99-aaa34b876cdb"
      },
      "outputs": [
        {
          "output_type": "execute_result",
          "data": {
            "text/plain": [
              "0.5490196078431373"
            ]
          },
          "metadata": {},
          "execution_count": 53
        }
      ],
      "source": [
        "predictions_with_lda = df_test['Reviews Preprocessed'].map(predict_with_lda)\n",
        "\n",
        "corrects_with_lda = df_test['Label'] == predictions_with_lda\n",
        "corrects_with_lda.sum() / len(corrects_with_lda)"
      ]
    },
    {
      "cell_type": "markdown",
      "metadata": {
        "id": "m8tysQBqz6XC"
      },
      "source": [
        "# 통계로 하는 감성분석"
      ]
    },
    {
      "cell_type": "markdown",
      "metadata": {
        "id": "fOTgFqalz6XC"
      },
      "source": [
        "vectorizer를 초기화 하기"
      ]
    },
    {
      "cell_type": "code",
      "execution_count": 54,
      "metadata": {
        "id": "WeSX7Pdyz6XC"
      },
      "outputs": [],
      "source": [
        "from sklearn.feature_extraction.text import CountVectorizer"
      ]
    },
    {
      "cell_type": "code",
      "execution_count": 55,
      "metadata": {
        "id": "rIvR4k94z6XC"
      },
      "outputs": [],
      "source": [
        "vect = CountVectorizer()"
      ]
    },
    {
      "cell_type": "markdown",
      "metadata": {
        "id": "jLZCwebrz6XC"
      },
      "source": [
        "사전(vocabulary) 학습하기. document-term matrix를 만드는데 사용됨"
      ]
    },
    {
      "cell_type": "code",
      "execution_count": 56,
      "metadata": {
        "colab": {
          "base_uri": "https://localhost:8080/"
        },
        "id": "8q_0gqQkz6XC",
        "outputId": "3ffa431b-0e0a-4a49-f3ed-5868d8fd903d"
      },
      "outputs": [
        {
          "output_type": "execute_result",
          "data": {
            "text/plain": [
              "CountVectorizer()"
            ]
          },
          "metadata": {},
          "execution_count": 56
        }
      ],
      "source": [
        "vect.fit(df_train['Reviews Preprocessed'])"
      ]
    },
    {
      "cell_type": "code",
      "execution_count": 57,
      "metadata": {
        "colab": {
          "base_uri": "https://localhost:8080/"
        },
        "id": "Mo7JaSY8z6XD",
        "outputId": "60be2704-a021-4d2b-b4b5-bf4c33403fbd"
      },
      "outputs": [
        {
          "output_type": "execute_result",
          "data": {
            "text/plain": [
              "<16980x11563 sparse matrix of type '<class 'numpy.int64'>'\n",
              "\twith 357673 stored elements in Compressed Sparse Row format>"
            ]
          },
          "metadata": {},
          "execution_count": 57
        }
      ],
      "source": [
        "X_train_dtm = vect.transform(df_train['Reviews Preprocessed'])\n",
        "X_train_dtm"
      ]
    },
    {
      "cell_type": "markdown",
      "metadata": {
        "id": "AJj-hu8pz6XD"
      },
      "source": [
        "테스트 데이터를 document-term matrix로 바꾸기(학습된 사전 활용)"
      ]
    },
    {
      "cell_type": "code",
      "execution_count": 58,
      "metadata": {
        "colab": {
          "base_uri": "https://localhost:8080/"
        },
        "id": "0e_2pJmZz6XD",
        "outputId": "e5d260ea-446d-403a-bd01-bb2a8570e192"
      },
      "outputs": [
        {
          "output_type": "execute_result",
          "data": {
            "text/plain": [
              "<5661x11563 sparse matrix of type '<class 'numpy.int64'>'\n",
              "\twith 116412 stored elements in Compressed Sparse Row format>"
            ]
          },
          "metadata": {},
          "execution_count": 58
        }
      ],
      "source": [
        "X_test_dtm = vect.transform(df_test['Reviews Preprocessed'])\n",
        "X_test_dtm"
      ]
    },
    {
      "cell_type": "markdown",
      "metadata": {
        "id": "gwocM-usz6XD"
      },
      "source": [
        "Logistic Regression model을 불러오고 초기화"
      ]
    },
    {
      "cell_type": "code",
      "execution_count": 59,
      "metadata": {
        "id": "7d-tSbgdz6XD"
      },
      "outputs": [],
      "source": [
        "from sklearn.linear_model import LogisticRegression"
      ]
    },
    {
      "cell_type": "code",
      "execution_count": 60,
      "metadata": {
        "id": "IGYTP-snz6XD"
      },
      "outputs": [],
      "source": [
        "logreg = LogisticRegression(max_iter=1000)"
      ]
    },
    {
      "cell_type": "markdown",
      "metadata": {
        "id": "c322iHG1z6XD"
      },
      "source": [
        "X_train_dtm을 이용해 모델 학습"
      ]
    },
    {
      "cell_type": "code",
      "execution_count": 61,
      "metadata": {
        "colab": {
          "base_uri": "https://localhost:8080/"
        },
        "id": "TdoQHOWtz6XD",
        "outputId": "00313cbd-76bf-436c-bca7-1da395b71096"
      },
      "outputs": [
        {
          "output_type": "stream",
          "name": "stderr",
          "text": [
            "/usr/local/lib/python3.7/dist-packages/scipy/optimize/lbfgsb.py:339: DeprecationWarning: tostring() is deprecated. Use tobytes() instead.\n",
            "  task_str = task.tostring()\n",
            "/usr/local/lib/python3.7/dist-packages/scipy/optimize/lbfgsb.py:339: DeprecationWarning: tostring() is deprecated. Use tobytes() instead.\n",
            "  task_str = task.tostring()\n",
            "/usr/local/lib/python3.7/dist-packages/scipy/optimize/lbfgsb.py:339: DeprecationWarning: tostring() is deprecated. Use tobytes() instead.\n",
            "  task_str = task.tostring()\n",
            "/usr/local/lib/python3.7/dist-packages/scipy/optimize/lbfgsb.py:339: DeprecationWarning: tostring() is deprecated. Use tobytes() instead.\n",
            "  task_str = task.tostring()\n",
            "/usr/local/lib/python3.7/dist-packages/scipy/optimize/lbfgsb.py:339: DeprecationWarning: tostring() is deprecated. Use tobytes() instead.\n",
            "  task_str = task.tostring()\n",
            "/usr/local/lib/python3.7/dist-packages/scipy/optimize/lbfgsb.py:339: DeprecationWarning: tostring() is deprecated. Use tobytes() instead.\n",
            "  task_str = task.tostring()\n",
            "/usr/local/lib/python3.7/dist-packages/scipy/optimize/lbfgsb.py:339: DeprecationWarning: tostring() is deprecated. Use tobytes() instead.\n",
            "  task_str = task.tostring()\n",
            "/usr/local/lib/python3.7/dist-packages/scipy/optimize/lbfgsb.py:339: DeprecationWarning: tostring() is deprecated. Use tobytes() instead.\n",
            "  task_str = task.tostring()\n",
            "/usr/local/lib/python3.7/dist-packages/scipy/optimize/lbfgsb.py:339: DeprecationWarning: tostring() is deprecated. Use tobytes() instead.\n",
            "  task_str = task.tostring()\n",
            "/usr/local/lib/python3.7/dist-packages/scipy/optimize/lbfgsb.py:339: DeprecationWarning: tostring() is deprecated. Use tobytes() instead.\n",
            "  task_str = task.tostring()\n",
            "/usr/local/lib/python3.7/dist-packages/scipy/optimize/lbfgsb.py:339: DeprecationWarning: tostring() is deprecated. Use tobytes() instead.\n",
            "  task_str = task.tostring()\n",
            "/usr/local/lib/python3.7/dist-packages/scipy/optimize/lbfgsb.py:339: DeprecationWarning: tostring() is deprecated. Use tobytes() instead.\n",
            "  task_str = task.tostring()\n",
            "/usr/local/lib/python3.7/dist-packages/scipy/optimize/lbfgsb.py:339: DeprecationWarning: tostring() is deprecated. Use tobytes() instead.\n",
            "  task_str = task.tostring()\n",
            "/usr/local/lib/python3.7/dist-packages/scipy/optimize/lbfgsb.py:339: DeprecationWarning: tostring() is deprecated. Use tobytes() instead.\n",
            "  task_str = task.tostring()\n",
            "/usr/local/lib/python3.7/dist-packages/scipy/optimize/lbfgsb.py:339: DeprecationWarning: tostring() is deprecated. Use tobytes() instead.\n",
            "  task_str = task.tostring()\n",
            "/usr/local/lib/python3.7/dist-packages/scipy/optimize/lbfgsb.py:339: DeprecationWarning: tostring() is deprecated. Use tobytes() instead.\n",
            "  task_str = task.tostring()\n",
            "/usr/local/lib/python3.7/dist-packages/scipy/optimize/lbfgsb.py:339: DeprecationWarning: tostring() is deprecated. Use tobytes() instead.\n",
            "  task_str = task.tostring()\n",
            "/usr/local/lib/python3.7/dist-packages/scipy/optimize/lbfgsb.py:339: DeprecationWarning: tostring() is deprecated. Use tobytes() instead.\n",
            "  task_str = task.tostring()\n",
            "/usr/local/lib/python3.7/dist-packages/scipy/optimize/lbfgsb.py:339: DeprecationWarning: tostring() is deprecated. Use tobytes() instead.\n",
            "  task_str = task.tostring()\n",
            "/usr/local/lib/python3.7/dist-packages/scipy/optimize/lbfgsb.py:339: DeprecationWarning: tostring() is deprecated. Use tobytes() instead.\n",
            "  task_str = task.tostring()\n",
            "/usr/local/lib/python3.7/dist-packages/scipy/optimize/lbfgsb.py:339: DeprecationWarning: tostring() is deprecated. Use tobytes() instead.\n",
            "  task_str = task.tostring()\n",
            "/usr/local/lib/python3.7/dist-packages/scipy/optimize/lbfgsb.py:339: DeprecationWarning: tostring() is deprecated. Use tobytes() instead.\n",
            "  task_str = task.tostring()\n",
            "/usr/local/lib/python3.7/dist-packages/scipy/optimize/lbfgsb.py:339: DeprecationWarning: tostring() is deprecated. Use tobytes() instead.\n",
            "  task_str = task.tostring()\n",
            "/usr/local/lib/python3.7/dist-packages/scipy/optimize/lbfgsb.py:339: DeprecationWarning: tostring() is deprecated. Use tobytes() instead.\n",
            "  task_str = task.tostring()\n",
            "/usr/local/lib/python3.7/dist-packages/scipy/optimize/lbfgsb.py:339: DeprecationWarning: tostring() is deprecated. Use tobytes() instead.\n",
            "  task_str = task.tostring()\n",
            "/usr/local/lib/python3.7/dist-packages/scipy/optimize/lbfgsb.py:339: DeprecationWarning: tostring() is deprecated. Use tobytes() instead.\n",
            "  task_str = task.tostring()\n",
            "/usr/local/lib/python3.7/dist-packages/scipy/optimize/lbfgsb.py:339: DeprecationWarning: tostring() is deprecated. Use tobytes() instead.\n",
            "  task_str = task.tostring()\n",
            "/usr/local/lib/python3.7/dist-packages/scipy/optimize/lbfgsb.py:339: DeprecationWarning: tostring() is deprecated. Use tobytes() instead.\n",
            "  task_str = task.tostring()\n",
            "/usr/local/lib/python3.7/dist-packages/scipy/optimize/lbfgsb.py:339: DeprecationWarning: tostring() is deprecated. Use tobytes() instead.\n",
            "  task_str = task.tostring()\n",
            "/usr/local/lib/python3.7/dist-packages/scipy/optimize/lbfgsb.py:339: DeprecationWarning: tostring() is deprecated. Use tobytes() instead.\n",
            "  task_str = task.tostring()\n",
            "/usr/local/lib/python3.7/dist-packages/scipy/optimize/lbfgsb.py:339: DeprecationWarning: tostring() is deprecated. Use tobytes() instead.\n",
            "  task_str = task.tostring()\n",
            "/usr/local/lib/python3.7/dist-packages/scipy/optimize/lbfgsb.py:339: DeprecationWarning: tostring() is deprecated. Use tobytes() instead.\n",
            "  task_str = task.tostring()\n",
            "/usr/local/lib/python3.7/dist-packages/scipy/optimize/lbfgsb.py:339: DeprecationWarning: tostring() is deprecated. Use tobytes() instead.\n",
            "  task_str = task.tostring()\n",
            "/usr/local/lib/python3.7/dist-packages/scipy/optimize/lbfgsb.py:339: DeprecationWarning: tostring() is deprecated. Use tobytes() instead.\n",
            "  task_str = task.tostring()\n",
            "/usr/local/lib/python3.7/dist-packages/scipy/optimize/lbfgsb.py:339: DeprecationWarning: tostring() is deprecated. Use tobytes() instead.\n",
            "  task_str = task.tostring()\n",
            "/usr/local/lib/python3.7/dist-packages/scipy/optimize/lbfgsb.py:339: DeprecationWarning: tostring() is deprecated. Use tobytes() instead.\n",
            "  task_str = task.tostring()\n",
            "/usr/local/lib/python3.7/dist-packages/scipy/optimize/lbfgsb.py:339: DeprecationWarning: tostring() is deprecated. Use tobytes() instead.\n",
            "  task_str = task.tostring()\n",
            "/usr/local/lib/python3.7/dist-packages/scipy/optimize/lbfgsb.py:339: DeprecationWarning: tostring() is deprecated. Use tobytes() instead.\n",
            "  task_str = task.tostring()\n",
            "/usr/local/lib/python3.7/dist-packages/scipy/optimize/lbfgsb.py:339: DeprecationWarning: tostring() is deprecated. Use tobytes() instead.\n",
            "  task_str = task.tostring()\n",
            "/usr/local/lib/python3.7/dist-packages/scipy/optimize/lbfgsb.py:339: DeprecationWarning: tostring() is deprecated. Use tobytes() instead.\n",
            "  task_str = task.tostring()\n",
            "/usr/local/lib/python3.7/dist-packages/scipy/optimize/lbfgsb.py:339: DeprecationWarning: tostring() is deprecated. Use tobytes() instead.\n",
            "  task_str = task.tostring()\n",
            "/usr/local/lib/python3.7/dist-packages/scipy/optimize/lbfgsb.py:339: DeprecationWarning: tostring() is deprecated. Use tobytes() instead.\n",
            "  task_str = task.tostring()\n",
            "/usr/local/lib/python3.7/dist-packages/scipy/optimize/lbfgsb.py:339: DeprecationWarning: tostring() is deprecated. Use tobytes() instead.\n",
            "  task_str = task.tostring()\n",
            "/usr/local/lib/python3.7/dist-packages/scipy/optimize/lbfgsb.py:339: DeprecationWarning: tostring() is deprecated. Use tobytes() instead.\n",
            "  task_str = task.tostring()\n",
            "/usr/local/lib/python3.7/dist-packages/scipy/optimize/lbfgsb.py:339: DeprecationWarning: tostring() is deprecated. Use tobytes() instead.\n",
            "  task_str = task.tostring()\n",
            "/usr/local/lib/python3.7/dist-packages/scipy/optimize/lbfgsb.py:339: DeprecationWarning: tostring() is deprecated. Use tobytes() instead.\n",
            "  task_str = task.tostring()\n",
            "/usr/local/lib/python3.7/dist-packages/scipy/optimize/lbfgsb.py:339: DeprecationWarning: tostring() is deprecated. Use tobytes() instead.\n",
            "  task_str = task.tostring()\n",
            "/usr/local/lib/python3.7/dist-packages/scipy/optimize/lbfgsb.py:339: DeprecationWarning: tostring() is deprecated. Use tobytes() instead.\n",
            "  task_str = task.tostring()\n",
            "/usr/local/lib/python3.7/dist-packages/scipy/optimize/lbfgsb.py:339: DeprecationWarning: tostring() is deprecated. Use tobytes() instead.\n",
            "  task_str = task.tostring()\n",
            "/usr/local/lib/python3.7/dist-packages/scipy/optimize/lbfgsb.py:339: DeprecationWarning: tostring() is deprecated. Use tobytes() instead.\n",
            "  task_str = task.tostring()\n",
            "/usr/local/lib/python3.7/dist-packages/scipy/optimize/lbfgsb.py:339: DeprecationWarning: tostring() is deprecated. Use tobytes() instead.\n",
            "  task_str = task.tostring()\n",
            "/usr/local/lib/python3.7/dist-packages/scipy/optimize/lbfgsb.py:339: DeprecationWarning: tostring() is deprecated. Use tobytes() instead.\n",
            "  task_str = task.tostring()\n",
            "/usr/local/lib/python3.7/dist-packages/scipy/optimize/lbfgsb.py:339: DeprecationWarning: tostring() is deprecated. Use tobytes() instead.\n",
            "  task_str = task.tostring()\n",
            "/usr/local/lib/python3.7/dist-packages/scipy/optimize/lbfgsb.py:339: DeprecationWarning: tostring() is deprecated. Use tobytes() instead.\n",
            "  task_str = task.tostring()\n",
            "/usr/local/lib/python3.7/dist-packages/scipy/optimize/lbfgsb.py:339: DeprecationWarning: tostring() is deprecated. Use tobytes() instead.\n",
            "  task_str = task.tostring()\n",
            "/usr/local/lib/python3.7/dist-packages/scipy/optimize/lbfgsb.py:339: DeprecationWarning: tostring() is deprecated. Use tobytes() instead.\n",
            "  task_str = task.tostring()\n",
            "/usr/local/lib/python3.7/dist-packages/scipy/optimize/lbfgsb.py:339: DeprecationWarning: tostring() is deprecated. Use tobytes() instead.\n",
            "  task_str = task.tostring()\n",
            "/usr/local/lib/python3.7/dist-packages/scipy/optimize/lbfgsb.py:339: DeprecationWarning: tostring() is deprecated. Use tobytes() instead.\n",
            "  task_str = task.tostring()\n",
            "/usr/local/lib/python3.7/dist-packages/scipy/optimize/lbfgsb.py:339: DeprecationWarning: tostring() is deprecated. Use tobytes() instead.\n",
            "  task_str = task.tostring()\n",
            "/usr/local/lib/python3.7/dist-packages/scipy/optimize/lbfgsb.py:339: DeprecationWarning: tostring() is deprecated. Use tobytes() instead.\n",
            "  task_str = task.tostring()\n",
            "/usr/local/lib/python3.7/dist-packages/scipy/optimize/lbfgsb.py:339: DeprecationWarning: tostring() is deprecated. Use tobytes() instead.\n",
            "  task_str = task.tostring()\n",
            "/usr/local/lib/python3.7/dist-packages/scipy/optimize/lbfgsb.py:339: DeprecationWarning: tostring() is deprecated. Use tobytes() instead.\n",
            "  task_str = task.tostring()\n",
            "/usr/local/lib/python3.7/dist-packages/scipy/optimize/lbfgsb.py:339: DeprecationWarning: tostring() is deprecated. Use tobytes() instead.\n",
            "  task_str = task.tostring()\n",
            "/usr/local/lib/python3.7/dist-packages/scipy/optimize/lbfgsb.py:339: DeprecationWarning: tostring() is deprecated. Use tobytes() instead.\n",
            "  task_str = task.tostring()\n",
            "/usr/local/lib/python3.7/dist-packages/scipy/optimize/lbfgsb.py:339: DeprecationWarning: tostring() is deprecated. Use tobytes() instead.\n",
            "  task_str = task.tostring()\n",
            "/usr/local/lib/python3.7/dist-packages/scipy/optimize/lbfgsb.py:339: DeprecationWarning: tostring() is deprecated. Use tobytes() instead.\n",
            "  task_str = task.tostring()\n",
            "/usr/local/lib/python3.7/dist-packages/scipy/optimize/lbfgsb.py:339: DeprecationWarning: tostring() is deprecated. Use tobytes() instead.\n",
            "  task_str = task.tostring()\n",
            "/usr/local/lib/python3.7/dist-packages/scipy/optimize/lbfgsb.py:339: DeprecationWarning: tostring() is deprecated. Use tobytes() instead.\n",
            "  task_str = task.tostring()\n",
            "/usr/local/lib/python3.7/dist-packages/scipy/optimize/lbfgsb.py:339: DeprecationWarning: tostring() is deprecated. Use tobytes() instead.\n",
            "  task_str = task.tostring()\n",
            "/usr/local/lib/python3.7/dist-packages/scipy/optimize/lbfgsb.py:339: DeprecationWarning: tostring() is deprecated. Use tobytes() instead.\n",
            "  task_str = task.tostring()\n",
            "/usr/local/lib/python3.7/dist-packages/scipy/optimize/lbfgsb.py:339: DeprecationWarning: tostring() is deprecated. Use tobytes() instead.\n",
            "  task_str = task.tostring()\n",
            "/usr/local/lib/python3.7/dist-packages/scipy/optimize/lbfgsb.py:339: DeprecationWarning: tostring() is deprecated. Use tobytes() instead.\n",
            "  task_str = task.tostring()\n",
            "/usr/local/lib/python3.7/dist-packages/scipy/optimize/lbfgsb.py:339: DeprecationWarning: tostring() is deprecated. Use tobytes() instead.\n",
            "  task_str = task.tostring()\n",
            "/usr/local/lib/python3.7/dist-packages/scipy/optimize/lbfgsb.py:339: DeprecationWarning: tostring() is deprecated. Use tobytes() instead.\n",
            "  task_str = task.tostring()\n",
            "/usr/local/lib/python3.7/dist-packages/scipy/optimize/lbfgsb.py:339: DeprecationWarning: tostring() is deprecated. Use tobytes() instead.\n",
            "  task_str = task.tostring()\n",
            "/usr/local/lib/python3.7/dist-packages/scipy/optimize/lbfgsb.py:339: DeprecationWarning: tostring() is deprecated. Use tobytes() instead.\n",
            "  task_str = task.tostring()\n",
            "/usr/local/lib/python3.7/dist-packages/scipy/optimize/lbfgsb.py:339: DeprecationWarning: tostring() is deprecated. Use tobytes() instead.\n",
            "  task_str = task.tostring()\n",
            "/usr/local/lib/python3.7/dist-packages/scipy/optimize/lbfgsb.py:339: DeprecationWarning: tostring() is deprecated. Use tobytes() instead.\n",
            "  task_str = task.tostring()\n",
            "/usr/local/lib/python3.7/dist-packages/scipy/optimize/lbfgsb.py:339: DeprecationWarning: tostring() is deprecated. Use tobytes() instead.\n",
            "  task_str = task.tostring()\n",
            "/usr/local/lib/python3.7/dist-packages/scipy/optimize/lbfgsb.py:339: DeprecationWarning: tostring() is deprecated. Use tobytes() instead.\n",
            "  task_str = task.tostring()\n",
            "/usr/local/lib/python3.7/dist-packages/scipy/optimize/lbfgsb.py:339: DeprecationWarning: tostring() is deprecated. Use tobytes() instead.\n",
            "  task_str = task.tostring()\n",
            "/usr/local/lib/python3.7/dist-packages/scipy/optimize/lbfgsb.py:339: DeprecationWarning: tostring() is deprecated. Use tobytes() instead.\n",
            "  task_str = task.tostring()\n",
            "/usr/local/lib/python3.7/dist-packages/scipy/optimize/lbfgsb.py:339: DeprecationWarning: tostring() is deprecated. Use tobytes() instead.\n",
            "  task_str = task.tostring()\n",
            "/usr/local/lib/python3.7/dist-packages/scipy/optimize/lbfgsb.py:339: DeprecationWarning: tostring() is deprecated. Use tobytes() instead.\n",
            "  task_str = task.tostring()\n",
            "/usr/local/lib/python3.7/dist-packages/scipy/optimize/lbfgsb.py:339: DeprecationWarning: tostring() is deprecated. Use tobytes() instead.\n",
            "  task_str = task.tostring()\n",
            "/usr/local/lib/python3.7/dist-packages/scipy/optimize/lbfgsb.py:339: DeprecationWarning: tostring() is deprecated. Use tobytes() instead.\n",
            "  task_str = task.tostring()\n",
            "/usr/local/lib/python3.7/dist-packages/scipy/optimize/lbfgsb.py:339: DeprecationWarning: tostring() is deprecated. Use tobytes() instead.\n",
            "  task_str = task.tostring()\n",
            "/usr/local/lib/python3.7/dist-packages/scipy/optimize/lbfgsb.py:339: DeprecationWarning: tostring() is deprecated. Use tobytes() instead.\n",
            "  task_str = task.tostring()\n",
            "/usr/local/lib/python3.7/dist-packages/scipy/optimize/lbfgsb.py:339: DeprecationWarning: tostring() is deprecated. Use tobytes() instead.\n",
            "  task_str = task.tostring()\n",
            "/usr/local/lib/python3.7/dist-packages/scipy/optimize/lbfgsb.py:339: DeprecationWarning: tostring() is deprecated. Use tobytes() instead.\n",
            "  task_str = task.tostring()\n",
            "/usr/local/lib/python3.7/dist-packages/scipy/optimize/lbfgsb.py:339: DeprecationWarning: tostring() is deprecated. Use tobytes() instead.\n",
            "  task_str = task.tostring()\n",
            "/usr/local/lib/python3.7/dist-packages/scipy/optimize/lbfgsb.py:339: DeprecationWarning: tostring() is deprecated. Use tobytes() instead.\n",
            "  task_str = task.tostring()\n",
            "/usr/local/lib/python3.7/dist-packages/scipy/optimize/lbfgsb.py:339: DeprecationWarning: tostring() is deprecated. Use tobytes() instead.\n",
            "  task_str = task.tostring()\n",
            "/usr/local/lib/python3.7/dist-packages/scipy/optimize/lbfgsb.py:339: DeprecationWarning: tostring() is deprecated. Use tobytes() instead.\n",
            "  task_str = task.tostring()\n",
            "/usr/local/lib/python3.7/dist-packages/scipy/optimize/lbfgsb.py:339: DeprecationWarning: tostring() is deprecated. Use tobytes() instead.\n",
            "  task_str = task.tostring()\n",
            "/usr/local/lib/python3.7/dist-packages/scipy/optimize/lbfgsb.py:339: DeprecationWarning: tostring() is deprecated. Use tobytes() instead.\n",
            "  task_str = task.tostring()\n",
            "/usr/local/lib/python3.7/dist-packages/scipy/optimize/lbfgsb.py:339: DeprecationWarning: tostring() is deprecated. Use tobytes() instead.\n",
            "  task_str = task.tostring()\n",
            "/usr/local/lib/python3.7/dist-packages/scipy/optimize/lbfgsb.py:339: DeprecationWarning: tostring() is deprecated. Use tobytes() instead.\n",
            "  task_str = task.tostring()\n",
            "/usr/local/lib/python3.7/dist-packages/scipy/optimize/lbfgsb.py:339: DeprecationWarning: tostring() is deprecated. Use tobytes() instead.\n",
            "  task_str = task.tostring()\n",
            "/usr/local/lib/python3.7/dist-packages/scipy/optimize/lbfgsb.py:339: DeprecationWarning: tostring() is deprecated. Use tobytes() instead.\n",
            "  task_str = task.tostring()\n",
            "/usr/local/lib/python3.7/dist-packages/scipy/optimize/lbfgsb.py:339: DeprecationWarning: tostring() is deprecated. Use tobytes() instead.\n",
            "  task_str = task.tostring()\n",
            "/usr/local/lib/python3.7/dist-packages/scipy/optimize/lbfgsb.py:339: DeprecationWarning: tostring() is deprecated. Use tobytes() instead.\n",
            "  task_str = task.tostring()\n",
            "/usr/local/lib/python3.7/dist-packages/scipy/optimize/lbfgsb.py:339: DeprecationWarning: tostring() is deprecated. Use tobytes() instead.\n",
            "  task_str = task.tostring()\n",
            "/usr/local/lib/python3.7/dist-packages/scipy/optimize/lbfgsb.py:339: DeprecationWarning: tostring() is deprecated. Use tobytes() instead.\n",
            "  task_str = task.tostring()\n",
            "/usr/local/lib/python3.7/dist-packages/scipy/optimize/lbfgsb.py:339: DeprecationWarning: tostring() is deprecated. Use tobytes() instead.\n",
            "  task_str = task.tostring()\n",
            "/usr/local/lib/python3.7/dist-packages/scipy/optimize/lbfgsb.py:339: DeprecationWarning: tostring() is deprecated. Use tobytes() instead.\n",
            "  task_str = task.tostring()\n",
            "/usr/local/lib/python3.7/dist-packages/scipy/optimize/lbfgsb.py:339: DeprecationWarning: tostring() is deprecated. Use tobytes() instead.\n",
            "  task_str = task.tostring()\n",
            "/usr/local/lib/python3.7/dist-packages/scipy/optimize/lbfgsb.py:339: DeprecationWarning: tostring() is deprecated. Use tobytes() instead.\n",
            "  task_str = task.tostring()\n",
            "/usr/local/lib/python3.7/dist-packages/scipy/optimize/lbfgsb.py:339: DeprecationWarning: tostring() is deprecated. Use tobytes() instead.\n",
            "  task_str = task.tostring()\n",
            "/usr/local/lib/python3.7/dist-packages/scipy/optimize/lbfgsb.py:339: DeprecationWarning: tostring() is deprecated. Use tobytes() instead.\n",
            "  task_str = task.tostring()\n",
            "/usr/local/lib/python3.7/dist-packages/scipy/optimize/lbfgsb.py:339: DeprecationWarning: tostring() is deprecated. Use tobytes() instead.\n",
            "  task_str = task.tostring()\n",
            "/usr/local/lib/python3.7/dist-packages/scipy/optimize/lbfgsb.py:339: DeprecationWarning: tostring() is deprecated. Use tobytes() instead.\n",
            "  task_str = task.tostring()\n",
            "/usr/local/lib/python3.7/dist-packages/scipy/optimize/lbfgsb.py:339: DeprecationWarning: tostring() is deprecated. Use tobytes() instead.\n",
            "  task_str = task.tostring()\n",
            "/usr/local/lib/python3.7/dist-packages/scipy/optimize/lbfgsb.py:339: DeprecationWarning: tostring() is deprecated. Use tobytes() instead.\n",
            "  task_str = task.tostring()\n",
            "/usr/local/lib/python3.7/dist-packages/scipy/optimize/lbfgsb.py:339: DeprecationWarning: tostring() is deprecated. Use tobytes() instead.\n",
            "  task_str = task.tostring()\n",
            "/usr/local/lib/python3.7/dist-packages/scipy/optimize/lbfgsb.py:339: DeprecationWarning: tostring() is deprecated. Use tobytes() instead.\n",
            "  task_str = task.tostring()\n",
            "/usr/local/lib/python3.7/dist-packages/scipy/optimize/lbfgsb.py:339: DeprecationWarning: tostring() is deprecated. Use tobytes() instead.\n",
            "  task_str = task.tostring()\n",
            "/usr/local/lib/python3.7/dist-packages/scipy/optimize/lbfgsb.py:339: DeprecationWarning: tostring() is deprecated. Use tobytes() instead.\n",
            "  task_str = task.tostring()\n",
            "/usr/local/lib/python3.7/dist-packages/scipy/optimize/lbfgsb.py:339: DeprecationWarning: tostring() is deprecated. Use tobytes() instead.\n",
            "  task_str = task.tostring()\n",
            "/usr/local/lib/python3.7/dist-packages/scipy/optimize/lbfgsb.py:339: DeprecationWarning: tostring() is deprecated. Use tobytes() instead.\n",
            "  task_str = task.tostring()\n",
            "/usr/local/lib/python3.7/dist-packages/scipy/optimize/lbfgsb.py:339: DeprecationWarning: tostring() is deprecated. Use tobytes() instead.\n",
            "  task_str = task.tostring()\n",
            "/usr/local/lib/python3.7/dist-packages/scipy/optimize/lbfgsb.py:339: DeprecationWarning: tostring() is deprecated. Use tobytes() instead.\n",
            "  task_str = task.tostring()\n",
            "/usr/local/lib/python3.7/dist-packages/scipy/optimize/lbfgsb.py:339: DeprecationWarning: tostring() is deprecated. Use tobytes() instead.\n",
            "  task_str = task.tostring()\n",
            "/usr/local/lib/python3.7/dist-packages/scipy/optimize/lbfgsb.py:339: DeprecationWarning: tostring() is deprecated. Use tobytes() instead.\n",
            "  task_str = task.tostring()\n",
            "/usr/local/lib/python3.7/dist-packages/scipy/optimize/lbfgsb.py:339: DeprecationWarning: tostring() is deprecated. Use tobytes() instead.\n",
            "  task_str = task.tostring()\n",
            "/usr/local/lib/python3.7/dist-packages/scipy/optimize/lbfgsb.py:339: DeprecationWarning: tostring() is deprecated. Use tobytes() instead.\n",
            "  task_str = task.tostring()\n",
            "/usr/local/lib/python3.7/dist-packages/scipy/optimize/lbfgsb.py:339: DeprecationWarning: tostring() is deprecated. Use tobytes() instead.\n",
            "  task_str = task.tostring()\n",
            "/usr/local/lib/python3.7/dist-packages/scipy/optimize/lbfgsb.py:339: DeprecationWarning: tostring() is deprecated. Use tobytes() instead.\n",
            "  task_str = task.tostring()\n",
            "/usr/local/lib/python3.7/dist-packages/scipy/optimize/lbfgsb.py:339: DeprecationWarning: tostring() is deprecated. Use tobytes() instead.\n",
            "  task_str = task.tostring()\n",
            "/usr/local/lib/python3.7/dist-packages/scipy/optimize/lbfgsb.py:339: DeprecationWarning: tostring() is deprecated. Use tobytes() instead.\n",
            "  task_str = task.tostring()\n",
            "/usr/local/lib/python3.7/dist-packages/scipy/optimize/lbfgsb.py:339: DeprecationWarning: tostring() is deprecated. Use tobytes() instead.\n",
            "  task_str = task.tostring()\n",
            "/usr/local/lib/python3.7/dist-packages/scipy/optimize/lbfgsb.py:339: DeprecationWarning: tostring() is deprecated. Use tobytes() instead.\n",
            "  task_str = task.tostring()\n",
            "/usr/local/lib/python3.7/dist-packages/scipy/optimize/lbfgsb.py:339: DeprecationWarning: tostring() is deprecated. Use tobytes() instead.\n",
            "  task_str = task.tostring()\n",
            "/usr/local/lib/python3.7/dist-packages/scipy/optimize/lbfgsb.py:339: DeprecationWarning: tostring() is deprecated. Use tobytes() instead.\n",
            "  task_str = task.tostring()\n",
            "/usr/local/lib/python3.7/dist-packages/scipy/optimize/lbfgsb.py:339: DeprecationWarning: tostring() is deprecated. Use tobytes() instead.\n",
            "  task_str = task.tostring()\n",
            "/usr/local/lib/python3.7/dist-packages/scipy/optimize/lbfgsb.py:339: DeprecationWarning: tostring() is deprecated. Use tobytes() instead.\n",
            "  task_str = task.tostring()\n",
            "/usr/local/lib/python3.7/dist-packages/scipy/optimize/lbfgsb.py:339: DeprecationWarning: tostring() is deprecated. Use tobytes() instead.\n",
            "  task_str = task.tostring()\n",
            "/usr/local/lib/python3.7/dist-packages/scipy/optimize/lbfgsb.py:339: DeprecationWarning: tostring() is deprecated. Use tobytes() instead.\n",
            "  task_str = task.tostring()\n",
            "/usr/local/lib/python3.7/dist-packages/scipy/optimize/lbfgsb.py:339: DeprecationWarning: tostring() is deprecated. Use tobytes() instead.\n",
            "  task_str = task.tostring()\n",
            "/usr/local/lib/python3.7/dist-packages/scipy/optimize/lbfgsb.py:339: DeprecationWarning: tostring() is deprecated. Use tobytes() instead.\n",
            "  task_str = task.tostring()\n",
            "/usr/local/lib/python3.7/dist-packages/scipy/optimize/lbfgsb.py:339: DeprecationWarning: tostring() is deprecated. Use tobytes() instead.\n",
            "  task_str = task.tostring()\n",
            "/usr/local/lib/python3.7/dist-packages/scipy/optimize/lbfgsb.py:339: DeprecationWarning: tostring() is deprecated. Use tobytes() instead.\n",
            "  task_str = task.tostring()\n",
            "/usr/local/lib/python3.7/dist-packages/scipy/optimize/lbfgsb.py:339: DeprecationWarning: tostring() is deprecated. Use tobytes() instead.\n",
            "  task_str = task.tostring()\n",
            "/usr/local/lib/python3.7/dist-packages/scipy/optimize/lbfgsb.py:339: DeprecationWarning: tostring() is deprecated. Use tobytes() instead.\n",
            "  task_str = task.tostring()\n",
            "/usr/local/lib/python3.7/dist-packages/scipy/optimize/lbfgsb.py:339: DeprecationWarning: tostring() is deprecated. Use tobytes() instead.\n",
            "  task_str = task.tostring()\n",
            "/usr/local/lib/python3.7/dist-packages/scipy/optimize/lbfgsb.py:339: DeprecationWarning: tostring() is deprecated. Use tobytes() instead.\n",
            "  task_str = task.tostring()\n",
            "/usr/local/lib/python3.7/dist-packages/scipy/optimize/lbfgsb.py:339: DeprecationWarning: tostring() is deprecated. Use tobytes() instead.\n",
            "  task_str = task.tostring()\n",
            "/usr/local/lib/python3.7/dist-packages/scipy/optimize/lbfgsb.py:339: DeprecationWarning: tostring() is deprecated. Use tobytes() instead.\n",
            "  task_str = task.tostring()\n",
            "/usr/local/lib/python3.7/dist-packages/scipy/optimize/lbfgsb.py:339: DeprecationWarning: tostring() is deprecated. Use tobytes() instead.\n",
            "  task_str = task.tostring()\n",
            "/usr/local/lib/python3.7/dist-packages/scipy/optimize/lbfgsb.py:339: DeprecationWarning: tostring() is deprecated. Use tobytes() instead.\n",
            "  task_str = task.tostring()\n",
            "/usr/local/lib/python3.7/dist-packages/scipy/optimize/lbfgsb.py:339: DeprecationWarning: tostring() is deprecated. Use tobytes() instead.\n",
            "  task_str = task.tostring()\n",
            "/usr/local/lib/python3.7/dist-packages/scipy/optimize/lbfgsb.py:339: DeprecationWarning: tostring() is deprecated. Use tobytes() instead.\n",
            "  task_str = task.tostring()\n",
            "/usr/local/lib/python3.7/dist-packages/scipy/optimize/lbfgsb.py:339: DeprecationWarning: tostring() is deprecated. Use tobytes() instead.\n",
            "  task_str = task.tostring()\n",
            "/usr/local/lib/python3.7/dist-packages/scipy/optimize/lbfgsb.py:339: DeprecationWarning: tostring() is deprecated. Use tobytes() instead.\n",
            "  task_str = task.tostring()\n",
            "/usr/local/lib/python3.7/dist-packages/scipy/optimize/lbfgsb.py:339: DeprecationWarning: tostring() is deprecated. Use tobytes() instead.\n",
            "  task_str = task.tostring()\n",
            "/usr/local/lib/python3.7/dist-packages/scipy/optimize/lbfgsb.py:339: DeprecationWarning: tostring() is deprecated. Use tobytes() instead.\n",
            "  task_str = task.tostring()\n",
            "/usr/local/lib/python3.7/dist-packages/scipy/optimize/lbfgsb.py:339: DeprecationWarning: tostring() is deprecated. Use tobytes() instead.\n",
            "  task_str = task.tostring()\n",
            "/usr/local/lib/python3.7/dist-packages/scipy/optimize/lbfgsb.py:339: DeprecationWarning: tostring() is deprecated. Use tobytes() instead.\n",
            "  task_str = task.tostring()\n",
            "/usr/local/lib/python3.7/dist-packages/scipy/optimize/lbfgsb.py:339: DeprecationWarning: tostring() is deprecated. Use tobytes() instead.\n",
            "  task_str = task.tostring()\n",
            "/usr/local/lib/python3.7/dist-packages/scipy/optimize/lbfgsb.py:339: DeprecationWarning: tostring() is deprecated. Use tobytes() instead.\n",
            "  task_str = task.tostring()\n",
            "/usr/local/lib/python3.7/dist-packages/scipy/optimize/lbfgsb.py:339: DeprecationWarning: tostring() is deprecated. Use tobytes() instead.\n",
            "  task_str = task.tostring()\n",
            "/usr/local/lib/python3.7/dist-packages/scipy/optimize/lbfgsb.py:339: DeprecationWarning: tostring() is deprecated. Use tobytes() instead.\n",
            "  task_str = task.tostring()\n",
            "/usr/local/lib/python3.7/dist-packages/scipy/optimize/lbfgsb.py:339: DeprecationWarning: tostring() is deprecated. Use tobytes() instead.\n",
            "  task_str = task.tostring()\n",
            "/usr/local/lib/python3.7/dist-packages/scipy/optimize/lbfgsb.py:339: DeprecationWarning: tostring() is deprecated. Use tobytes() instead.\n",
            "  task_str = task.tostring()\n",
            "/usr/local/lib/python3.7/dist-packages/scipy/optimize/lbfgsb.py:339: DeprecationWarning: tostring() is deprecated. Use tobytes() instead.\n",
            "  task_str = task.tostring()\n",
            "/usr/local/lib/python3.7/dist-packages/scipy/optimize/lbfgsb.py:339: DeprecationWarning: tostring() is deprecated. Use tobytes() instead.\n",
            "  task_str = task.tostring()\n",
            "/usr/local/lib/python3.7/dist-packages/scipy/optimize/lbfgsb.py:339: DeprecationWarning: tostring() is deprecated. Use tobytes() instead.\n",
            "  task_str = task.tostring()\n",
            "/usr/local/lib/python3.7/dist-packages/scipy/optimize/lbfgsb.py:339: DeprecationWarning: tostring() is deprecated. Use tobytes() instead.\n",
            "  task_str = task.tostring()\n",
            "/usr/local/lib/python3.7/dist-packages/scipy/optimize/lbfgsb.py:339: DeprecationWarning: tostring() is deprecated. Use tobytes() instead.\n",
            "  task_str = task.tostring()\n",
            "/usr/local/lib/python3.7/dist-packages/scipy/optimize/lbfgsb.py:339: DeprecationWarning: tostring() is deprecated. Use tobytes() instead.\n",
            "  task_str = task.tostring()\n",
            "/usr/local/lib/python3.7/dist-packages/scipy/optimize/lbfgsb.py:339: DeprecationWarning: tostring() is deprecated. Use tobytes() instead.\n",
            "  task_str = task.tostring()\n",
            "/usr/local/lib/python3.7/dist-packages/scipy/optimize/lbfgsb.py:339: DeprecationWarning: tostring() is deprecated. Use tobytes() instead.\n",
            "  task_str = task.tostring()\n",
            "/usr/local/lib/python3.7/dist-packages/scipy/optimize/lbfgsb.py:339: DeprecationWarning: tostring() is deprecated. Use tobytes() instead.\n",
            "  task_str = task.tostring()\n",
            "/usr/local/lib/python3.7/dist-packages/scipy/optimize/lbfgsb.py:339: DeprecationWarning: tostring() is deprecated. Use tobytes() instead.\n",
            "  task_str = task.tostring()\n",
            "/usr/local/lib/python3.7/dist-packages/scipy/optimize/lbfgsb.py:339: DeprecationWarning: tostring() is deprecated. Use tobytes() instead.\n",
            "  task_str = task.tostring()\n",
            "/usr/local/lib/python3.7/dist-packages/scipy/optimize/lbfgsb.py:339: DeprecationWarning: tostring() is deprecated. Use tobytes() instead.\n",
            "  task_str = task.tostring()\n",
            "/usr/local/lib/python3.7/dist-packages/scipy/optimize/lbfgsb.py:339: DeprecationWarning: tostring() is deprecated. Use tobytes() instead.\n",
            "  task_str = task.tostring()\n",
            "/usr/local/lib/python3.7/dist-packages/scipy/optimize/lbfgsb.py:339: DeprecationWarning: tostring() is deprecated. Use tobytes() instead.\n",
            "  task_str = task.tostring()\n",
            "/usr/local/lib/python3.7/dist-packages/scipy/optimize/lbfgsb.py:339: DeprecationWarning: tostring() is deprecated. Use tobytes() instead.\n",
            "  task_str = task.tostring()\n",
            "/usr/local/lib/python3.7/dist-packages/scipy/optimize/lbfgsb.py:339: DeprecationWarning: tostring() is deprecated. Use tobytes() instead.\n",
            "  task_str = task.tostring()\n",
            "/usr/local/lib/python3.7/dist-packages/scipy/optimize/lbfgsb.py:339: DeprecationWarning: tostring() is deprecated. Use tobytes() instead.\n",
            "  task_str = task.tostring()\n",
            "/usr/local/lib/python3.7/dist-packages/scipy/optimize/lbfgsb.py:339: DeprecationWarning: tostring() is deprecated. Use tobytes() instead.\n",
            "  task_str = task.tostring()\n",
            "/usr/local/lib/python3.7/dist-packages/scipy/optimize/lbfgsb.py:339: DeprecationWarning: tostring() is deprecated. Use tobytes() instead.\n",
            "  task_str = task.tostring()\n",
            "/usr/local/lib/python3.7/dist-packages/scipy/optimize/lbfgsb.py:339: DeprecationWarning: tostring() is deprecated. Use tobytes() instead.\n",
            "  task_str = task.tostring()\n",
            "/usr/local/lib/python3.7/dist-packages/scipy/optimize/lbfgsb.py:339: DeprecationWarning: tostring() is deprecated. Use tobytes() instead.\n",
            "  task_str = task.tostring()\n",
            "/usr/local/lib/python3.7/dist-packages/scipy/optimize/lbfgsb.py:339: DeprecationWarning: tostring() is deprecated. Use tobytes() instead.\n",
            "  task_str = task.tostring()\n",
            "/usr/local/lib/python3.7/dist-packages/scipy/optimize/lbfgsb.py:339: DeprecationWarning: tostring() is deprecated. Use tobytes() instead.\n",
            "  task_str = task.tostring()\n",
            "/usr/local/lib/python3.7/dist-packages/scipy/optimize/lbfgsb.py:339: DeprecationWarning: tostring() is deprecated. Use tobytes() instead.\n",
            "  task_str = task.tostring()\n",
            "/usr/local/lib/python3.7/dist-packages/scipy/optimize/lbfgsb.py:339: DeprecationWarning: tostring() is deprecated. Use tobytes() instead.\n",
            "  task_str = task.tostring()\n",
            "/usr/local/lib/python3.7/dist-packages/scipy/optimize/lbfgsb.py:339: DeprecationWarning: tostring() is deprecated. Use tobytes() instead.\n",
            "  task_str = task.tostring()\n",
            "/usr/local/lib/python3.7/dist-packages/scipy/optimize/lbfgsb.py:339: DeprecationWarning: tostring() is deprecated. Use tobytes() instead.\n",
            "  task_str = task.tostring()\n",
            "/usr/local/lib/python3.7/dist-packages/scipy/optimize/lbfgsb.py:339: DeprecationWarning: tostring() is deprecated. Use tobytes() instead.\n",
            "  task_str = task.tostring()\n",
            "/usr/local/lib/python3.7/dist-packages/scipy/optimize/lbfgsb.py:339: DeprecationWarning: tostring() is deprecated. Use tobytes() instead.\n",
            "  task_str = task.tostring()\n",
            "/usr/local/lib/python3.7/dist-packages/scipy/optimize/lbfgsb.py:339: DeprecationWarning: tostring() is deprecated. Use tobytes() instead.\n",
            "  task_str = task.tostring()\n",
            "/usr/local/lib/python3.7/dist-packages/scipy/optimize/lbfgsb.py:339: DeprecationWarning: tostring() is deprecated. Use tobytes() instead.\n",
            "  task_str = task.tostring()\n",
            "/usr/local/lib/python3.7/dist-packages/scipy/optimize/lbfgsb.py:339: DeprecationWarning: tostring() is deprecated. Use tobytes() instead.\n",
            "  task_str = task.tostring()\n",
            "/usr/local/lib/python3.7/dist-packages/scipy/optimize/lbfgsb.py:339: DeprecationWarning: tostring() is deprecated. Use tobytes() instead.\n",
            "  task_str = task.tostring()\n",
            "/usr/local/lib/python3.7/dist-packages/scipy/optimize/lbfgsb.py:339: DeprecationWarning: tostring() is deprecated. Use tobytes() instead.\n",
            "  task_str = task.tostring()\n",
            "/usr/local/lib/python3.7/dist-packages/scipy/optimize/lbfgsb.py:339: DeprecationWarning: tostring() is deprecated. Use tobytes() instead.\n",
            "  task_str = task.tostring()\n",
            "/usr/local/lib/python3.7/dist-packages/scipy/optimize/lbfgsb.py:339: DeprecationWarning: tostring() is deprecated. Use tobytes() instead.\n",
            "  task_str = task.tostring()\n",
            "/usr/local/lib/python3.7/dist-packages/scipy/optimize/lbfgsb.py:339: DeprecationWarning: tostring() is deprecated. Use tobytes() instead.\n",
            "  task_str = task.tostring()\n",
            "/usr/local/lib/python3.7/dist-packages/scipy/optimize/lbfgsb.py:339: DeprecationWarning: tostring() is deprecated. Use tobytes() instead.\n",
            "  task_str = task.tostring()\n",
            "/usr/local/lib/python3.7/dist-packages/scipy/optimize/lbfgsb.py:339: DeprecationWarning: tostring() is deprecated. Use tobytes() instead.\n",
            "  task_str = task.tostring()\n",
            "/usr/local/lib/python3.7/dist-packages/scipy/optimize/lbfgsb.py:339: DeprecationWarning: tostring() is deprecated. Use tobytes() instead.\n",
            "  task_str = task.tostring()\n",
            "/usr/local/lib/python3.7/dist-packages/scipy/optimize/lbfgsb.py:339: DeprecationWarning: tostring() is deprecated. Use tobytes() instead.\n",
            "  task_str = task.tostring()\n",
            "/usr/local/lib/python3.7/dist-packages/scipy/optimize/lbfgsb.py:339: DeprecationWarning: tostring() is deprecated. Use tobytes() instead.\n",
            "  task_str = task.tostring()\n",
            "/usr/local/lib/python3.7/dist-packages/scipy/optimize/lbfgsb.py:339: DeprecationWarning: tostring() is deprecated. Use tobytes() instead.\n",
            "  task_str = task.tostring()\n",
            "/usr/local/lib/python3.7/dist-packages/scipy/optimize/lbfgsb.py:339: DeprecationWarning: tostring() is deprecated. Use tobytes() instead.\n",
            "  task_str = task.tostring()\n",
            "/usr/local/lib/python3.7/dist-packages/scipy/optimize/lbfgsb.py:339: DeprecationWarning: tostring() is deprecated. Use tobytes() instead.\n",
            "  task_str = task.tostring()\n",
            "/usr/local/lib/python3.7/dist-packages/scipy/optimize/lbfgsb.py:339: DeprecationWarning: tostring() is deprecated. Use tobytes() instead.\n",
            "  task_str = task.tostring()\n",
            "/usr/local/lib/python3.7/dist-packages/scipy/optimize/lbfgsb.py:339: DeprecationWarning: tostring() is deprecated. Use tobytes() instead.\n",
            "  task_str = task.tostring()\n",
            "/usr/local/lib/python3.7/dist-packages/scipy/optimize/lbfgsb.py:339: DeprecationWarning: tostring() is deprecated. Use tobytes() instead.\n",
            "  task_str = task.tostring()\n",
            "/usr/local/lib/python3.7/dist-packages/scipy/optimize/lbfgsb.py:339: DeprecationWarning: tostring() is deprecated. Use tobytes() instead.\n",
            "  task_str = task.tostring()\n",
            "/usr/local/lib/python3.7/dist-packages/scipy/optimize/lbfgsb.py:339: DeprecationWarning: tostring() is deprecated. Use tobytes() instead.\n",
            "  task_str = task.tostring()\n",
            "/usr/local/lib/python3.7/dist-packages/scipy/optimize/lbfgsb.py:339: DeprecationWarning: tostring() is deprecated. Use tobytes() instead.\n",
            "  task_str = task.tostring()\n",
            "/usr/local/lib/python3.7/dist-packages/scipy/optimize/lbfgsb.py:339: DeprecationWarning: tostring() is deprecated. Use tobytes() instead.\n",
            "  task_str = task.tostring()\n",
            "/usr/local/lib/python3.7/dist-packages/scipy/optimize/lbfgsb.py:339: DeprecationWarning: tostring() is deprecated. Use tobytes() instead.\n",
            "  task_str = task.tostring()\n",
            "/usr/local/lib/python3.7/dist-packages/scipy/optimize/lbfgsb.py:339: DeprecationWarning: tostring() is deprecated. Use tobytes() instead.\n",
            "  task_str = task.tostring()\n",
            "/usr/local/lib/python3.7/dist-packages/scipy/optimize/lbfgsb.py:339: DeprecationWarning: tostring() is deprecated. Use tobytes() instead.\n",
            "  task_str = task.tostring()\n",
            "/usr/local/lib/python3.7/dist-packages/scipy/optimize/lbfgsb.py:339: DeprecationWarning: tostring() is deprecated. Use tobytes() instead.\n",
            "  task_str = task.tostring()\n",
            "/usr/local/lib/python3.7/dist-packages/scipy/optimize/lbfgsb.py:339: DeprecationWarning: tostring() is deprecated. Use tobytes() instead.\n",
            "  task_str = task.tostring()\n",
            "/usr/local/lib/python3.7/dist-packages/scipy/optimize/lbfgsb.py:339: DeprecationWarning: tostring() is deprecated. Use tobytes() instead.\n",
            "  task_str = task.tostring()\n",
            "/usr/local/lib/python3.7/dist-packages/scipy/optimize/lbfgsb.py:339: DeprecationWarning: tostring() is deprecated. Use tobytes() instead.\n",
            "  task_str = task.tostring()\n",
            "/usr/local/lib/python3.7/dist-packages/scipy/optimize/lbfgsb.py:339: DeprecationWarning: tostring() is deprecated. Use tobytes() instead.\n",
            "  task_str = task.tostring()\n",
            "/usr/local/lib/python3.7/dist-packages/scipy/optimize/lbfgsb.py:339: DeprecationWarning: tostring() is deprecated. Use tobytes() instead.\n",
            "  task_str = task.tostring()\n",
            "/usr/local/lib/python3.7/dist-packages/scipy/optimize/lbfgsb.py:339: DeprecationWarning: tostring() is deprecated. Use tobytes() instead.\n",
            "  task_str = task.tostring()\n",
            "/usr/local/lib/python3.7/dist-packages/scipy/optimize/lbfgsb.py:339: DeprecationWarning: tostring() is deprecated. Use tobytes() instead.\n",
            "  task_str = task.tostring()\n",
            "/usr/local/lib/python3.7/dist-packages/scipy/optimize/lbfgsb.py:339: DeprecationWarning: tostring() is deprecated. Use tobytes() instead.\n",
            "  task_str = task.tostring()\n",
            "/usr/local/lib/python3.7/dist-packages/scipy/optimize/lbfgsb.py:339: DeprecationWarning: tostring() is deprecated. Use tobytes() instead.\n",
            "  task_str = task.tostring()\n",
            "/usr/local/lib/python3.7/dist-packages/scipy/optimize/lbfgsb.py:339: DeprecationWarning: tostring() is deprecated. Use tobytes() instead.\n",
            "  task_str = task.tostring()\n",
            "/usr/local/lib/python3.7/dist-packages/scipy/optimize/lbfgsb.py:339: DeprecationWarning: tostring() is deprecated. Use tobytes() instead.\n",
            "  task_str = task.tostring()\n",
            "/usr/local/lib/python3.7/dist-packages/scipy/optimize/lbfgsb.py:339: DeprecationWarning: tostring() is deprecated. Use tobytes() instead.\n",
            "  task_str = task.tostring()\n",
            "/usr/local/lib/python3.7/dist-packages/scipy/optimize/lbfgsb.py:339: DeprecationWarning: tostring() is deprecated. Use tobytes() instead.\n",
            "  task_str = task.tostring()\n",
            "/usr/local/lib/python3.7/dist-packages/scipy/optimize/lbfgsb.py:339: DeprecationWarning: tostring() is deprecated. Use tobytes() instead.\n",
            "  task_str = task.tostring()\n",
            "/usr/local/lib/python3.7/dist-packages/scipy/optimize/lbfgsb.py:339: DeprecationWarning: tostring() is deprecated. Use tobytes() instead.\n",
            "  task_str = task.tostring()\n",
            "/usr/local/lib/python3.7/dist-packages/scipy/optimize/lbfgsb.py:339: DeprecationWarning: tostring() is deprecated. Use tobytes() instead.\n",
            "  task_str = task.tostring()\n",
            "/usr/local/lib/python3.7/dist-packages/scipy/optimize/lbfgsb.py:339: DeprecationWarning: tostring() is deprecated. Use tobytes() instead.\n",
            "  task_str = task.tostring()\n",
            "/usr/local/lib/python3.7/dist-packages/scipy/optimize/lbfgsb.py:339: DeprecationWarning: tostring() is deprecated. Use tobytes() instead.\n",
            "  task_str = task.tostring()\n",
            "/usr/local/lib/python3.7/dist-packages/scipy/optimize/lbfgsb.py:339: DeprecationWarning: tostring() is deprecated. Use tobytes() instead.\n",
            "  task_str = task.tostring()\n",
            "/usr/local/lib/python3.7/dist-packages/scipy/optimize/lbfgsb.py:339: DeprecationWarning: tostring() is deprecated. Use tobytes() instead.\n",
            "  task_str = task.tostring()\n",
            "/usr/local/lib/python3.7/dist-packages/scipy/optimize/lbfgsb.py:339: DeprecationWarning: tostring() is deprecated. Use tobytes() instead.\n",
            "  task_str = task.tostring()\n",
            "/usr/local/lib/python3.7/dist-packages/scipy/optimize/lbfgsb.py:339: DeprecationWarning: tostring() is deprecated. Use tobytes() instead.\n",
            "  task_str = task.tostring()\n",
            "/usr/local/lib/python3.7/dist-packages/scipy/optimize/lbfgsb.py:339: DeprecationWarning: tostring() is deprecated. Use tobytes() instead.\n",
            "  task_str = task.tostring()\n",
            "/usr/local/lib/python3.7/dist-packages/scipy/optimize/lbfgsb.py:339: DeprecationWarning: tostring() is deprecated. Use tobytes() instead.\n",
            "  task_str = task.tostring()\n",
            "/usr/local/lib/python3.7/dist-packages/scipy/optimize/lbfgsb.py:339: DeprecationWarning: tostring() is deprecated. Use tobytes() instead.\n",
            "  task_str = task.tostring()\n",
            "/usr/local/lib/python3.7/dist-packages/scipy/optimize/lbfgsb.py:339: DeprecationWarning: tostring() is deprecated. Use tobytes() instead.\n",
            "  task_str = task.tostring()\n",
            "/usr/local/lib/python3.7/dist-packages/scipy/optimize/lbfgsb.py:339: DeprecationWarning: tostring() is deprecated. Use tobytes() instead.\n",
            "  task_str = task.tostring()\n",
            "/usr/local/lib/python3.7/dist-packages/scipy/optimize/lbfgsb.py:339: DeprecationWarning: tostring() is deprecated. Use tobytes() instead.\n",
            "  task_str = task.tostring()\n",
            "/usr/local/lib/python3.7/dist-packages/scipy/optimize/lbfgsb.py:339: DeprecationWarning: tostring() is deprecated. Use tobytes() instead.\n",
            "  task_str = task.tostring()\n",
            "/usr/local/lib/python3.7/dist-packages/scipy/optimize/lbfgsb.py:339: DeprecationWarning: tostring() is deprecated. Use tobytes() instead.\n",
            "  task_str = task.tostring()\n",
            "/usr/local/lib/python3.7/dist-packages/scipy/optimize/lbfgsb.py:339: DeprecationWarning: tostring() is deprecated. Use tobytes() instead.\n",
            "  task_str = task.tostring()\n",
            "/usr/local/lib/python3.7/dist-packages/scipy/optimize/lbfgsb.py:339: DeprecationWarning: tostring() is deprecated. Use tobytes() instead.\n",
            "  task_str = task.tostring()\n",
            "/usr/local/lib/python3.7/dist-packages/scipy/optimize/lbfgsb.py:339: DeprecationWarning: tostring() is deprecated. Use tobytes() instead.\n",
            "  task_str = task.tostring()\n",
            "/usr/local/lib/python3.7/dist-packages/scipy/optimize/lbfgsb.py:339: DeprecationWarning: tostring() is deprecated. Use tobytes() instead.\n",
            "  task_str = task.tostring()\n",
            "/usr/local/lib/python3.7/dist-packages/scipy/optimize/lbfgsb.py:339: DeprecationWarning: tostring() is deprecated. Use tobytes() instead.\n",
            "  task_str = task.tostring()\n",
            "/usr/local/lib/python3.7/dist-packages/scipy/optimize/lbfgsb.py:339: DeprecationWarning: tostring() is deprecated. Use tobytes() instead.\n",
            "  task_str = task.tostring()\n",
            "/usr/local/lib/python3.7/dist-packages/scipy/optimize/lbfgsb.py:339: DeprecationWarning: tostring() is deprecated. Use tobytes() instead.\n",
            "  task_str = task.tostring()\n",
            "/usr/local/lib/python3.7/dist-packages/scipy/optimize/lbfgsb.py:339: DeprecationWarning: tostring() is deprecated. Use tobytes() instead.\n",
            "  task_str = task.tostring()\n",
            "/usr/local/lib/python3.7/dist-packages/scipy/optimize/lbfgsb.py:339: DeprecationWarning: tostring() is deprecated. Use tobytes() instead.\n",
            "  task_str = task.tostring()\n",
            "/usr/local/lib/python3.7/dist-packages/scipy/optimize/lbfgsb.py:339: DeprecationWarning: tostring() is deprecated. Use tobytes() instead.\n",
            "  task_str = task.tostring()\n",
            "/usr/local/lib/python3.7/dist-packages/scipy/optimize/lbfgsb.py:339: DeprecationWarning: tostring() is deprecated. Use tobytes() instead.\n",
            "  task_str = task.tostring()\n",
            "/usr/local/lib/python3.7/dist-packages/scipy/optimize/lbfgsb.py:339: DeprecationWarning: tostring() is deprecated. Use tobytes() instead.\n",
            "  task_str = task.tostring()\n",
            "/usr/local/lib/python3.7/dist-packages/scipy/optimize/lbfgsb.py:339: DeprecationWarning: tostring() is deprecated. Use tobytes() instead.\n",
            "  task_str = task.tostring()\n",
            "/usr/local/lib/python3.7/dist-packages/scipy/optimize/lbfgsb.py:339: DeprecationWarning: tostring() is deprecated. Use tobytes() instead.\n",
            "  task_str = task.tostring()\n",
            "/usr/local/lib/python3.7/dist-packages/scipy/optimize/lbfgsb.py:339: DeprecationWarning: tostring() is deprecated. Use tobytes() instead.\n",
            "  task_str = task.tostring()\n",
            "/usr/local/lib/python3.7/dist-packages/scipy/optimize/lbfgsb.py:339: DeprecationWarning: tostring() is deprecated. Use tobytes() instead.\n",
            "  task_str = task.tostring()\n",
            "/usr/local/lib/python3.7/dist-packages/scipy/optimize/lbfgsb.py:339: DeprecationWarning: tostring() is deprecated. Use tobytes() instead.\n",
            "  task_str = task.tostring()\n",
            "/usr/local/lib/python3.7/dist-packages/scipy/optimize/lbfgsb.py:339: DeprecationWarning: tostring() is deprecated. Use tobytes() instead.\n",
            "  task_str = task.tostring()\n",
            "/usr/local/lib/python3.7/dist-packages/scipy/optimize/lbfgsb.py:339: DeprecationWarning: tostring() is deprecated. Use tobytes() instead.\n",
            "  task_str = task.tostring()\n",
            "/usr/local/lib/python3.7/dist-packages/scipy/optimize/lbfgsb.py:339: DeprecationWarning: tostring() is deprecated. Use tobytes() instead.\n",
            "  task_str = task.tostring()\n",
            "/usr/local/lib/python3.7/dist-packages/scipy/optimize/lbfgsb.py:339: DeprecationWarning: tostring() is deprecated. Use tobytes() instead.\n",
            "  task_str = task.tostring()\n",
            "/usr/local/lib/python3.7/dist-packages/scipy/optimize/lbfgsb.py:339: DeprecationWarning: tostring() is deprecated. Use tobytes() instead.\n",
            "  task_str = task.tostring()\n",
            "/usr/local/lib/python3.7/dist-packages/scipy/optimize/lbfgsb.py:339: DeprecationWarning: tostring() is deprecated. Use tobytes() instead.\n",
            "  task_str = task.tostring()\n",
            "/usr/local/lib/python3.7/dist-packages/scipy/optimize/lbfgsb.py:339: DeprecationWarning: tostring() is deprecated. Use tobytes() instead.\n",
            "  task_str = task.tostring()\n",
            "/usr/local/lib/python3.7/dist-packages/scipy/optimize/lbfgsb.py:339: DeprecationWarning: tostring() is deprecated. Use tobytes() instead.\n",
            "  task_str = task.tostring()\n",
            "/usr/local/lib/python3.7/dist-packages/scipy/optimize/lbfgsb.py:339: DeprecationWarning: tostring() is deprecated. Use tobytes() instead.\n",
            "  task_str = task.tostring()\n",
            "/usr/local/lib/python3.7/dist-packages/scipy/optimize/lbfgsb.py:339: DeprecationWarning: tostring() is deprecated. Use tobytes() instead.\n",
            "  task_str = task.tostring()\n",
            "/usr/local/lib/python3.7/dist-packages/scipy/optimize/lbfgsb.py:339: DeprecationWarning: tostring() is deprecated. Use tobytes() instead.\n",
            "  task_str = task.tostring()\n",
            "/usr/local/lib/python3.7/dist-packages/scipy/optimize/lbfgsb.py:339: DeprecationWarning: tostring() is deprecated. Use tobytes() instead.\n",
            "  task_str = task.tostring()\n",
            "/usr/local/lib/python3.7/dist-packages/scipy/optimize/lbfgsb.py:339: DeprecationWarning: tostring() is deprecated. Use tobytes() instead.\n",
            "  task_str = task.tostring()\n",
            "/usr/local/lib/python3.7/dist-packages/scipy/optimize/lbfgsb.py:339: DeprecationWarning: tostring() is deprecated. Use tobytes() instead.\n",
            "  task_str = task.tostring()\n",
            "/usr/local/lib/python3.7/dist-packages/scipy/optimize/lbfgsb.py:339: DeprecationWarning: tostring() is deprecated. Use tobytes() instead.\n",
            "  task_str = task.tostring()\n",
            "/usr/local/lib/python3.7/dist-packages/scipy/optimize/lbfgsb.py:339: DeprecationWarning: tostring() is deprecated. Use tobytes() instead.\n",
            "  task_str = task.tostring()\n",
            "/usr/local/lib/python3.7/dist-packages/scipy/optimize/lbfgsb.py:339: DeprecationWarning: tostring() is deprecated. Use tobytes() instead.\n",
            "  task_str = task.tostring()\n",
            "/usr/local/lib/python3.7/dist-packages/scipy/optimize/lbfgsb.py:339: DeprecationWarning: tostring() is deprecated. Use tobytes() instead.\n",
            "  task_str = task.tostring()\n",
            "/usr/local/lib/python3.7/dist-packages/scipy/optimize/lbfgsb.py:339: DeprecationWarning: tostring() is deprecated. Use tobytes() instead.\n",
            "  task_str = task.tostring()\n",
            "/usr/local/lib/python3.7/dist-packages/scipy/optimize/lbfgsb.py:339: DeprecationWarning: tostring() is deprecated. Use tobytes() instead.\n",
            "  task_str = task.tostring()\n",
            "/usr/local/lib/python3.7/dist-packages/scipy/optimize/lbfgsb.py:339: DeprecationWarning: tostring() is deprecated. Use tobytes() instead.\n",
            "  task_str = task.tostring()\n",
            "/usr/local/lib/python3.7/dist-packages/scipy/optimize/lbfgsb.py:339: DeprecationWarning: tostring() is deprecated. Use tobytes() instead.\n",
            "  task_str = task.tostring()\n",
            "/usr/local/lib/python3.7/dist-packages/scipy/optimize/lbfgsb.py:339: DeprecationWarning: tostring() is deprecated. Use tobytes() instead.\n",
            "  task_str = task.tostring()\n",
            "/usr/local/lib/python3.7/dist-packages/scipy/optimize/lbfgsb.py:339: DeprecationWarning: tostring() is deprecated. Use tobytes() instead.\n",
            "  task_str = task.tostring()\n",
            "/usr/local/lib/python3.7/dist-packages/scipy/optimize/lbfgsb.py:339: DeprecationWarning: tostring() is deprecated. Use tobytes() instead.\n",
            "  task_str = task.tostring()\n",
            "/usr/local/lib/python3.7/dist-packages/scipy/optimize/lbfgsb.py:339: DeprecationWarning: tostring() is deprecated. Use tobytes() instead.\n",
            "  task_str = task.tostring()\n",
            "/usr/local/lib/python3.7/dist-packages/scipy/optimize/lbfgsb.py:339: DeprecationWarning: tostring() is deprecated. Use tobytes() instead.\n",
            "  task_str = task.tostring()\n",
            "/usr/local/lib/python3.7/dist-packages/scipy/optimize/lbfgsb.py:339: DeprecationWarning: tostring() is deprecated. Use tobytes() instead.\n",
            "  task_str = task.tostring()\n",
            "/usr/local/lib/python3.7/dist-packages/scipy/optimize/lbfgsb.py:339: DeprecationWarning: tostring() is deprecated. Use tobytes() instead.\n",
            "  task_str = task.tostring()\n",
            "/usr/local/lib/python3.7/dist-packages/scipy/optimize/lbfgsb.py:339: DeprecationWarning: tostring() is deprecated. Use tobytes() instead.\n",
            "  task_str = task.tostring()\n",
            "/usr/local/lib/python3.7/dist-packages/scipy/optimize/lbfgsb.py:339: DeprecationWarning: tostring() is deprecated. Use tobytes() instead.\n",
            "  task_str = task.tostring()\n",
            "/usr/local/lib/python3.7/dist-packages/scipy/optimize/lbfgsb.py:339: DeprecationWarning: tostring() is deprecated. Use tobytes() instead.\n",
            "  task_str = task.tostring()\n",
            "/usr/local/lib/python3.7/dist-packages/scipy/optimize/lbfgsb.py:339: DeprecationWarning: tostring() is deprecated. Use tobytes() instead.\n",
            "  task_str = task.tostring()\n",
            "/usr/local/lib/python3.7/dist-packages/scipy/optimize/lbfgsb.py:339: DeprecationWarning: tostring() is deprecated. Use tobytes() instead.\n",
            "  task_str = task.tostring()\n",
            "/usr/local/lib/python3.7/dist-packages/scipy/optimize/lbfgsb.py:339: DeprecationWarning: tostring() is deprecated. Use tobytes() instead.\n",
            "  task_str = task.tostring()\n",
            "/usr/local/lib/python3.7/dist-packages/scipy/optimize/lbfgsb.py:339: DeprecationWarning: tostring() is deprecated. Use tobytes() instead.\n",
            "  task_str = task.tostring()\n",
            "/usr/local/lib/python3.7/dist-packages/scipy/optimize/lbfgsb.py:339: DeprecationWarning: tostring() is deprecated. Use tobytes() instead.\n",
            "  task_str = task.tostring()\n",
            "/usr/local/lib/python3.7/dist-packages/scipy/optimize/lbfgsb.py:339: DeprecationWarning: tostring() is deprecated. Use tobytes() instead.\n",
            "  task_str = task.tostring()\n",
            "/usr/local/lib/python3.7/dist-packages/scipy/optimize/lbfgsb.py:339: DeprecationWarning: tostring() is deprecated. Use tobytes() instead.\n",
            "  task_str = task.tostring()\n",
            "/usr/local/lib/python3.7/dist-packages/scipy/optimize/lbfgsb.py:339: DeprecationWarning: tostring() is deprecated. Use tobytes() instead.\n",
            "  task_str = task.tostring()\n",
            "/usr/local/lib/python3.7/dist-packages/scipy/optimize/lbfgsb.py:339: DeprecationWarning: tostring() is deprecated. Use tobytes() instead.\n",
            "  task_str = task.tostring()\n",
            "/usr/local/lib/python3.7/dist-packages/scipy/optimize/lbfgsb.py:339: DeprecationWarning: tostring() is deprecated. Use tobytes() instead.\n",
            "  task_str = task.tostring()\n",
            "/usr/local/lib/python3.7/dist-packages/scipy/optimize/lbfgsb.py:339: DeprecationWarning: tostring() is deprecated. Use tobytes() instead.\n",
            "  task_str = task.tostring()\n",
            "/usr/local/lib/python3.7/dist-packages/scipy/optimize/lbfgsb.py:339: DeprecationWarning: tostring() is deprecated. Use tobytes() instead.\n",
            "  task_str = task.tostring()\n",
            "/usr/local/lib/python3.7/dist-packages/scipy/optimize/lbfgsb.py:339: DeprecationWarning: tostring() is deprecated. Use tobytes() instead.\n",
            "  task_str = task.tostring()\n",
            "/usr/local/lib/python3.7/dist-packages/scipy/optimize/lbfgsb.py:339: DeprecationWarning: tostring() is deprecated. Use tobytes() instead.\n",
            "  task_str = task.tostring()\n",
            "/usr/local/lib/python3.7/dist-packages/scipy/optimize/lbfgsb.py:339: DeprecationWarning: tostring() is deprecated. Use tobytes() instead.\n",
            "  task_str = task.tostring()\n",
            "/usr/local/lib/python3.7/dist-packages/scipy/optimize/lbfgsb.py:339: DeprecationWarning: tostring() is deprecated. Use tobytes() instead.\n",
            "  task_str = task.tostring()\n",
            "/usr/local/lib/python3.7/dist-packages/scipy/optimize/lbfgsb.py:339: DeprecationWarning: tostring() is deprecated. Use tobytes() instead.\n",
            "  task_str = task.tostring()\n",
            "/usr/local/lib/python3.7/dist-packages/scipy/optimize/lbfgsb.py:339: DeprecationWarning: tostring() is deprecated. Use tobytes() instead.\n",
            "  task_str = task.tostring()\n",
            "/usr/local/lib/python3.7/dist-packages/scipy/optimize/lbfgsb.py:339: DeprecationWarning: tostring() is deprecated. Use tobytes() instead.\n",
            "  task_str = task.tostring()\n",
            "/usr/local/lib/python3.7/dist-packages/scipy/optimize/lbfgsb.py:339: DeprecationWarning: tostring() is deprecated. Use tobytes() instead.\n",
            "  task_str = task.tostring()\n",
            "/usr/local/lib/python3.7/dist-packages/scipy/optimize/lbfgsb.py:339: DeprecationWarning: tostring() is deprecated. Use tobytes() instead.\n",
            "  task_str = task.tostring()\n",
            "/usr/local/lib/python3.7/dist-packages/scipy/optimize/lbfgsb.py:339: DeprecationWarning: tostring() is deprecated. Use tobytes() instead.\n",
            "  task_str = task.tostring()\n",
            "/usr/local/lib/python3.7/dist-packages/scipy/optimize/lbfgsb.py:339: DeprecationWarning: tostring() is deprecated. Use tobytes() instead.\n",
            "  task_str = task.tostring()\n",
            "/usr/local/lib/python3.7/dist-packages/scipy/optimize/lbfgsb.py:339: DeprecationWarning: tostring() is deprecated. Use tobytes() instead.\n",
            "  task_str = task.tostring()\n",
            "/usr/local/lib/python3.7/dist-packages/scipy/optimize/lbfgsb.py:339: DeprecationWarning: tostring() is deprecated. Use tobytes() instead.\n",
            "  task_str = task.tostring()\n",
            "/usr/local/lib/python3.7/dist-packages/scipy/optimize/lbfgsb.py:339: DeprecationWarning: tostring() is deprecated. Use tobytes() instead.\n",
            "  task_str = task.tostring()\n",
            "/usr/local/lib/python3.7/dist-packages/scipy/optimize/lbfgsb.py:339: DeprecationWarning: tostring() is deprecated. Use tobytes() instead.\n",
            "  task_str = task.tostring()\n",
            "/usr/local/lib/python3.7/dist-packages/scipy/optimize/lbfgsb.py:339: DeprecationWarning: tostring() is deprecated. Use tobytes() instead.\n",
            "  task_str = task.tostring()\n",
            "/usr/local/lib/python3.7/dist-packages/scipy/optimize/lbfgsb.py:339: DeprecationWarning: tostring() is deprecated. Use tobytes() instead.\n",
            "  task_str = task.tostring()\n",
            "/usr/local/lib/python3.7/dist-packages/scipy/optimize/lbfgsb.py:339: DeprecationWarning: tostring() is deprecated. Use tobytes() instead.\n",
            "  task_str = task.tostring()\n",
            "/usr/local/lib/python3.7/dist-packages/scipy/optimize/lbfgsb.py:339: DeprecationWarning: tostring() is deprecated. Use tobytes() instead.\n",
            "  task_str = task.tostring()\n",
            "/usr/local/lib/python3.7/dist-packages/scipy/optimize/lbfgsb.py:339: DeprecationWarning: tostring() is deprecated. Use tobytes() instead.\n",
            "  task_str = task.tostring()\n",
            "/usr/local/lib/python3.7/dist-packages/scipy/optimize/lbfgsb.py:339: DeprecationWarning: tostring() is deprecated. Use tobytes() instead.\n",
            "  task_str = task.tostring()\n",
            "/usr/local/lib/python3.7/dist-packages/scipy/optimize/lbfgsb.py:339: DeprecationWarning: tostring() is deprecated. Use tobytes() instead.\n",
            "  task_str = task.tostring()\n",
            "/usr/local/lib/python3.7/dist-packages/scipy/optimize/lbfgsb.py:339: DeprecationWarning: tostring() is deprecated. Use tobytes() instead.\n",
            "  task_str = task.tostring()\n",
            "/usr/local/lib/python3.7/dist-packages/scipy/optimize/lbfgsb.py:339: DeprecationWarning: tostring() is deprecated. Use tobytes() instead.\n",
            "  task_str = task.tostring()\n",
            "/usr/local/lib/python3.7/dist-packages/scipy/optimize/lbfgsb.py:339: DeprecationWarning: tostring() is deprecated. Use tobytes() instead.\n",
            "  task_str = task.tostring()\n",
            "/usr/local/lib/python3.7/dist-packages/scipy/optimize/lbfgsb.py:339: DeprecationWarning: tostring() is deprecated. Use tobytes() instead.\n",
            "  task_str = task.tostring()\n",
            "/usr/local/lib/python3.7/dist-packages/scipy/optimize/lbfgsb.py:339: DeprecationWarning: tostring() is deprecated. Use tobytes() instead.\n",
            "  task_str = task.tostring()\n",
            "/usr/local/lib/python3.7/dist-packages/scipy/optimize/lbfgsb.py:339: DeprecationWarning: tostring() is deprecated. Use tobytes() instead.\n",
            "  task_str = task.tostring()\n",
            "/usr/local/lib/python3.7/dist-packages/scipy/optimize/lbfgsb.py:339: DeprecationWarning: tostring() is deprecated. Use tobytes() instead.\n",
            "  task_str = task.tostring()\n",
            "/usr/local/lib/python3.7/dist-packages/scipy/optimize/lbfgsb.py:339: DeprecationWarning: tostring() is deprecated. Use tobytes() instead.\n",
            "  task_str = task.tostring()\n",
            "/usr/local/lib/python3.7/dist-packages/scipy/optimize/lbfgsb.py:339: DeprecationWarning: tostring() is deprecated. Use tobytes() instead.\n",
            "  task_str = task.tostring()\n",
            "/usr/local/lib/python3.7/dist-packages/scipy/optimize/lbfgsb.py:339: DeprecationWarning: tostring() is deprecated. Use tobytes() instead.\n",
            "  task_str = task.tostring()\n",
            "/usr/local/lib/python3.7/dist-packages/scipy/optimize/lbfgsb.py:339: DeprecationWarning: tostring() is deprecated. Use tobytes() instead.\n",
            "  task_str = task.tostring()\n",
            "/usr/local/lib/python3.7/dist-packages/scipy/optimize/lbfgsb.py:339: DeprecationWarning: tostring() is deprecated. Use tobytes() instead.\n",
            "  task_str = task.tostring()\n",
            "/usr/local/lib/python3.7/dist-packages/scipy/optimize/lbfgsb.py:339: DeprecationWarning: tostring() is deprecated. Use tobytes() instead.\n",
            "  task_str = task.tostring()\n",
            "/usr/local/lib/python3.7/dist-packages/scipy/optimize/lbfgsb.py:339: DeprecationWarning: tostring() is deprecated. Use tobytes() instead.\n",
            "  task_str = task.tostring()\n",
            "/usr/local/lib/python3.7/dist-packages/scipy/optimize/lbfgsb.py:339: DeprecationWarning: tostring() is deprecated. Use tobytes() instead.\n",
            "  task_str = task.tostring()\n",
            "/usr/local/lib/python3.7/dist-packages/scipy/optimize/lbfgsb.py:339: DeprecationWarning: tostring() is deprecated. Use tobytes() instead.\n",
            "  task_str = task.tostring()\n",
            "/usr/local/lib/python3.7/dist-packages/scipy/optimize/lbfgsb.py:339: DeprecationWarning: tostring() is deprecated. Use tobytes() instead.\n",
            "  task_str = task.tostring()\n",
            "/usr/local/lib/python3.7/dist-packages/scipy/optimize/lbfgsb.py:339: DeprecationWarning: tostring() is deprecated. Use tobytes() instead.\n",
            "  task_str = task.tostring()\n",
            "/usr/local/lib/python3.7/dist-packages/scipy/optimize/lbfgsb.py:339: DeprecationWarning: tostring() is deprecated. Use tobytes() instead.\n",
            "  task_str = task.tostring()\n",
            "/usr/local/lib/python3.7/dist-packages/scipy/optimize/lbfgsb.py:339: DeprecationWarning: tostring() is deprecated. Use tobytes() instead.\n",
            "  task_str = task.tostring()\n",
            "/usr/local/lib/python3.7/dist-packages/scipy/optimize/lbfgsb.py:339: DeprecationWarning: tostring() is deprecated. Use tobytes() instead.\n",
            "  task_str = task.tostring()\n",
            "/usr/local/lib/python3.7/dist-packages/scipy/optimize/lbfgsb.py:339: DeprecationWarning: tostring() is deprecated. Use tobytes() instead.\n",
            "  task_str = task.tostring()\n",
            "/usr/local/lib/python3.7/dist-packages/scipy/optimize/lbfgsb.py:339: DeprecationWarning: tostring() is deprecated. Use tobytes() instead.\n",
            "  task_str = task.tostring()\n",
            "/usr/local/lib/python3.7/dist-packages/scipy/optimize/lbfgsb.py:339: DeprecationWarning: tostring() is deprecated. Use tobytes() instead.\n",
            "  task_str = task.tostring()\n",
            "/usr/local/lib/python3.7/dist-packages/scipy/optimize/lbfgsb.py:339: DeprecationWarning: tostring() is deprecated. Use tobytes() instead.\n",
            "  task_str = task.tostring()\n",
            "/usr/local/lib/python3.7/dist-packages/scipy/optimize/lbfgsb.py:339: DeprecationWarning: tostring() is deprecated. Use tobytes() instead.\n",
            "  task_str = task.tostring()\n",
            "/usr/local/lib/python3.7/dist-packages/scipy/optimize/lbfgsb.py:339: DeprecationWarning: tostring() is deprecated. Use tobytes() instead.\n",
            "  task_str = task.tostring()\n",
            "/usr/local/lib/python3.7/dist-packages/scipy/optimize/lbfgsb.py:339: DeprecationWarning: tostring() is deprecated. Use tobytes() instead.\n",
            "  task_str = task.tostring()\n",
            "/usr/local/lib/python3.7/dist-packages/scipy/optimize/lbfgsb.py:339: DeprecationWarning: tostring() is deprecated. Use tobytes() instead.\n",
            "  task_str = task.tostring()\n",
            "/usr/local/lib/python3.7/dist-packages/scipy/optimize/lbfgsb.py:339: DeprecationWarning: tostring() is deprecated. Use tobytes() instead.\n",
            "  task_str = task.tostring()\n",
            "/usr/local/lib/python3.7/dist-packages/scipy/optimize/lbfgsb.py:339: DeprecationWarning: tostring() is deprecated. Use tobytes() instead.\n",
            "  task_str = task.tostring()\n",
            "/usr/local/lib/python3.7/dist-packages/scipy/optimize/lbfgsb.py:339: DeprecationWarning: tostring() is deprecated. Use tobytes() instead.\n",
            "  task_str = task.tostring()\n",
            "/usr/local/lib/python3.7/dist-packages/scipy/optimize/lbfgsb.py:339: DeprecationWarning: tostring() is deprecated. Use tobytes() instead.\n",
            "  task_str = task.tostring()\n",
            "/usr/local/lib/python3.7/dist-packages/scipy/optimize/lbfgsb.py:339: DeprecationWarning: tostring() is deprecated. Use tobytes() instead.\n",
            "  task_str = task.tostring()\n",
            "/usr/local/lib/python3.7/dist-packages/scipy/optimize/lbfgsb.py:339: DeprecationWarning: tostring() is deprecated. Use tobytes() instead.\n",
            "  task_str = task.tostring()\n",
            "/usr/local/lib/python3.7/dist-packages/scipy/optimize/lbfgsb.py:339: DeprecationWarning: tostring() is deprecated. Use tobytes() instead.\n",
            "  task_str = task.tostring()\n",
            "/usr/local/lib/python3.7/dist-packages/scipy/optimize/lbfgsb.py:339: DeprecationWarning: tostring() is deprecated. Use tobytes() instead.\n",
            "  task_str = task.tostring()\n",
            "/usr/local/lib/python3.7/dist-packages/scipy/optimize/lbfgsb.py:339: DeprecationWarning: tostring() is deprecated. Use tobytes() instead.\n",
            "  task_str = task.tostring()\n",
            "/usr/local/lib/python3.7/dist-packages/scipy/optimize/lbfgsb.py:339: DeprecationWarning: tostring() is deprecated. Use tobytes() instead.\n",
            "  task_str = task.tostring()\n",
            "/usr/local/lib/python3.7/dist-packages/scipy/optimize/lbfgsb.py:339: DeprecationWarning: tostring() is deprecated. Use tobytes() instead.\n",
            "  task_str = task.tostring()\n",
            "/usr/local/lib/python3.7/dist-packages/scipy/optimize/lbfgsb.py:339: DeprecationWarning: tostring() is deprecated. Use tobytes() instead.\n",
            "  task_str = task.tostring()\n",
            "/usr/local/lib/python3.7/dist-packages/scipy/optimize/lbfgsb.py:339: DeprecationWarning: tostring() is deprecated. Use tobytes() instead.\n",
            "  task_str = task.tostring()\n",
            "/usr/local/lib/python3.7/dist-packages/scipy/optimize/lbfgsb.py:339: DeprecationWarning: tostring() is deprecated. Use tobytes() instead.\n",
            "  task_str = task.tostring()\n",
            "/usr/local/lib/python3.7/dist-packages/scipy/optimize/lbfgsb.py:339: DeprecationWarning: tostring() is deprecated. Use tobytes() instead.\n",
            "  task_str = task.tostring()\n",
            "/usr/local/lib/python3.7/dist-packages/scipy/optimize/lbfgsb.py:339: DeprecationWarning: tostring() is deprecated. Use tobytes() instead.\n",
            "  task_str = task.tostring()\n",
            "/usr/local/lib/python3.7/dist-packages/scipy/optimize/lbfgsb.py:339: DeprecationWarning: tostring() is deprecated. Use tobytes() instead.\n",
            "  task_str = task.tostring()\n",
            "/usr/local/lib/python3.7/dist-packages/scipy/optimize/lbfgsb.py:339: DeprecationWarning: tostring() is deprecated. Use tobytes() instead.\n",
            "  task_str = task.tostring()\n",
            "/usr/local/lib/python3.7/dist-packages/scipy/optimize/lbfgsb.py:339: DeprecationWarning: tostring() is deprecated. Use tobytes() instead.\n",
            "  task_str = task.tostring()\n",
            "/usr/local/lib/python3.7/dist-packages/scipy/optimize/lbfgsb.py:339: DeprecationWarning: tostring() is deprecated. Use tobytes() instead.\n",
            "  task_str = task.tostring()\n",
            "/usr/local/lib/python3.7/dist-packages/scipy/optimize/lbfgsb.py:339: DeprecationWarning: tostring() is deprecated. Use tobytes() instead.\n",
            "  task_str = task.tostring()\n",
            "/usr/local/lib/python3.7/dist-packages/scipy/optimize/lbfgsb.py:339: DeprecationWarning: tostring() is deprecated. Use tobytes() instead.\n",
            "  task_str = task.tostring()\n",
            "/usr/local/lib/python3.7/dist-packages/scipy/optimize/lbfgsb.py:339: DeprecationWarning: tostring() is deprecated. Use tobytes() instead.\n",
            "  task_str = task.tostring()\n",
            "/usr/local/lib/python3.7/dist-packages/scipy/optimize/lbfgsb.py:339: DeprecationWarning: tostring() is deprecated. Use tobytes() instead.\n",
            "  task_str = task.tostring()\n",
            "/usr/local/lib/python3.7/dist-packages/scipy/optimize/lbfgsb.py:339: DeprecationWarning: tostring() is deprecated. Use tobytes() instead.\n",
            "  task_str = task.tostring()\n",
            "/usr/local/lib/python3.7/dist-packages/scipy/optimize/lbfgsb.py:339: DeprecationWarning: tostring() is deprecated. Use tobytes() instead.\n",
            "  task_str = task.tostring()\n",
            "/usr/local/lib/python3.7/dist-packages/scipy/optimize/lbfgsb.py:339: DeprecationWarning: tostring() is deprecated. Use tobytes() instead.\n",
            "  task_str = task.tostring()\n",
            "/usr/local/lib/python3.7/dist-packages/scipy/optimize/lbfgsb.py:339: DeprecationWarning: tostring() is deprecated. Use tobytes() instead.\n",
            "  task_str = task.tostring()\n",
            "/usr/local/lib/python3.7/dist-packages/scipy/optimize/lbfgsb.py:339: DeprecationWarning: tostring() is deprecated. Use tobytes() instead.\n",
            "  task_str = task.tostring()\n",
            "/usr/local/lib/python3.7/dist-packages/scipy/optimize/lbfgsb.py:339: DeprecationWarning: tostring() is deprecated. Use tobytes() instead.\n",
            "  task_str = task.tostring()\n",
            "/usr/local/lib/python3.7/dist-packages/scipy/optimize/lbfgsb.py:339: DeprecationWarning: tostring() is deprecated. Use tobytes() instead.\n",
            "  task_str = task.tostring()\n",
            "/usr/local/lib/python3.7/dist-packages/scipy/optimize/lbfgsb.py:339: DeprecationWarning: tostring() is deprecated. Use tobytes() instead.\n",
            "  task_str = task.tostring()\n",
            "/usr/local/lib/python3.7/dist-packages/scipy/optimize/lbfgsb.py:339: DeprecationWarning: tostring() is deprecated. Use tobytes() instead.\n",
            "  task_str = task.tostring()\n",
            "/usr/local/lib/python3.7/dist-packages/scipy/optimize/lbfgsb.py:339: DeprecationWarning: tostring() is deprecated. Use tobytes() instead.\n",
            "  task_str = task.tostring()\n",
            "/usr/local/lib/python3.7/dist-packages/scipy/optimize/lbfgsb.py:339: DeprecationWarning: tostring() is deprecated. Use tobytes() instead.\n",
            "  task_str = task.tostring()\n",
            "/usr/local/lib/python3.7/dist-packages/scipy/optimize/lbfgsb.py:339: DeprecationWarning: tostring() is deprecated. Use tobytes() instead.\n",
            "  task_str = task.tostring()\n",
            "/usr/local/lib/python3.7/dist-packages/scipy/optimize/lbfgsb.py:339: DeprecationWarning: tostring() is deprecated. Use tobytes() instead.\n",
            "  task_str = task.tostring()\n",
            "/usr/local/lib/python3.7/dist-packages/scipy/optimize/lbfgsb.py:339: DeprecationWarning: tostring() is deprecated. Use tobytes() instead.\n",
            "  task_str = task.tostring()\n",
            "/usr/local/lib/python3.7/dist-packages/scipy/optimize/lbfgsb.py:339: DeprecationWarning: tostring() is deprecated. Use tobytes() instead.\n",
            "  task_str = task.tostring()\n",
            "/usr/local/lib/python3.7/dist-packages/scipy/optimize/lbfgsb.py:339: DeprecationWarning: tostring() is deprecated. Use tobytes() instead.\n",
            "  task_str = task.tostring()\n",
            "/usr/local/lib/python3.7/dist-packages/scipy/optimize/lbfgsb.py:339: DeprecationWarning: tostring() is deprecated. Use tobytes() instead.\n",
            "  task_str = task.tostring()\n",
            "/usr/local/lib/python3.7/dist-packages/scipy/optimize/lbfgsb.py:339: DeprecationWarning: tostring() is deprecated. Use tobytes() instead.\n",
            "  task_str = task.tostring()\n",
            "/usr/local/lib/python3.7/dist-packages/scipy/optimize/lbfgsb.py:339: DeprecationWarning: tostring() is deprecated. Use tobytes() instead.\n",
            "  task_str = task.tostring()\n",
            "/usr/local/lib/python3.7/dist-packages/scipy/optimize/lbfgsb.py:339: DeprecationWarning: tostring() is deprecated. Use tobytes() instead.\n",
            "  task_str = task.tostring()\n",
            "/usr/local/lib/python3.7/dist-packages/scipy/optimize/lbfgsb.py:339: DeprecationWarning: tostring() is deprecated. Use tobytes() instead.\n",
            "  task_str = task.tostring()\n",
            "/usr/local/lib/python3.7/dist-packages/scipy/optimize/lbfgsb.py:339: DeprecationWarning: tostring() is deprecated. Use tobytes() instead.\n",
            "  task_str = task.tostring()\n",
            "/usr/local/lib/python3.7/dist-packages/scipy/optimize/lbfgsb.py:339: DeprecationWarning: tostring() is deprecated. Use tobytes() instead.\n",
            "  task_str = task.tostring()\n",
            "/usr/local/lib/python3.7/dist-packages/scipy/optimize/lbfgsb.py:339: DeprecationWarning: tostring() is deprecated. Use tobytes() instead.\n",
            "  task_str = task.tostring()\n",
            "/usr/local/lib/python3.7/dist-packages/scipy/optimize/lbfgsb.py:339: DeprecationWarning: tostring() is deprecated. Use tobytes() instead.\n",
            "  task_str = task.tostring()\n",
            "/usr/local/lib/python3.7/dist-packages/scipy/optimize/lbfgsb.py:339: DeprecationWarning: tostring() is deprecated. Use tobytes() instead.\n",
            "  task_str = task.tostring()\n",
            "/usr/local/lib/python3.7/dist-packages/scipy/optimize/lbfgsb.py:339: DeprecationWarning: tostring() is deprecated. Use tobytes() instead.\n",
            "  task_str = task.tostring()\n",
            "/usr/local/lib/python3.7/dist-packages/scipy/optimize/lbfgsb.py:339: DeprecationWarning: tostring() is deprecated. Use tobytes() instead.\n",
            "  task_str = task.tostring()\n",
            "/usr/local/lib/python3.7/dist-packages/scipy/optimize/lbfgsb.py:339: DeprecationWarning: tostring() is deprecated. Use tobytes() instead.\n",
            "  task_str = task.tostring()\n",
            "/usr/local/lib/python3.7/dist-packages/scipy/optimize/lbfgsb.py:339: DeprecationWarning: tostring() is deprecated. Use tobytes() instead.\n",
            "  task_str = task.tostring()\n",
            "/usr/local/lib/python3.7/dist-packages/scipy/optimize/lbfgsb.py:339: DeprecationWarning: tostring() is deprecated. Use tobytes() instead.\n",
            "  task_str = task.tostring()\n",
            "/usr/local/lib/python3.7/dist-packages/scipy/optimize/lbfgsb.py:339: DeprecationWarning: tostring() is deprecated. Use tobytes() instead.\n",
            "  task_str = task.tostring()\n",
            "/usr/local/lib/python3.7/dist-packages/scipy/optimize/lbfgsb.py:339: DeprecationWarning: tostring() is deprecated. Use tobytes() instead.\n",
            "  task_str = task.tostring()\n",
            "/usr/local/lib/python3.7/dist-packages/scipy/optimize/lbfgsb.py:339: DeprecationWarning: tostring() is deprecated. Use tobytes() instead.\n",
            "  task_str = task.tostring()\n",
            "/usr/local/lib/python3.7/dist-packages/scipy/optimize/lbfgsb.py:339: DeprecationWarning: tostring() is deprecated. Use tobytes() instead.\n",
            "  task_str = task.tostring()\n",
            "/usr/local/lib/python3.7/dist-packages/scipy/optimize/lbfgsb.py:339: DeprecationWarning: tostring() is deprecated. Use tobytes() instead.\n",
            "  task_str = task.tostring()\n",
            "/usr/local/lib/python3.7/dist-packages/scipy/optimize/lbfgsb.py:339: DeprecationWarning: tostring() is deprecated. Use tobytes() instead.\n",
            "  task_str = task.tostring()\n",
            "/usr/local/lib/python3.7/dist-packages/scipy/optimize/lbfgsb.py:339: DeprecationWarning: tostring() is deprecated. Use tobytes() instead.\n",
            "  task_str = task.tostring()\n",
            "/usr/local/lib/python3.7/dist-packages/scipy/optimize/lbfgsb.py:339: DeprecationWarning: tostring() is deprecated. Use tobytes() instead.\n",
            "  task_str = task.tostring()\n",
            "/usr/local/lib/python3.7/dist-packages/scipy/optimize/lbfgsb.py:339: DeprecationWarning: tostring() is deprecated. Use tobytes() instead.\n",
            "  task_str = task.tostring()\n",
            "/usr/local/lib/python3.7/dist-packages/scipy/optimize/lbfgsb.py:339: DeprecationWarning: tostring() is deprecated. Use tobytes() instead.\n",
            "  task_str = task.tostring()\n",
            "/usr/local/lib/python3.7/dist-packages/scipy/optimize/lbfgsb.py:339: DeprecationWarning: tostring() is deprecated. Use tobytes() instead.\n",
            "  task_str = task.tostring()\n",
            "/usr/local/lib/python3.7/dist-packages/scipy/optimize/lbfgsb.py:339: DeprecationWarning: tostring() is deprecated. Use tobytes() instead.\n",
            "  task_str = task.tostring()\n",
            "/usr/local/lib/python3.7/dist-packages/scipy/optimize/lbfgsb.py:339: DeprecationWarning: tostring() is deprecated. Use tobytes() instead.\n",
            "  task_str = task.tostring()\n",
            "/usr/local/lib/python3.7/dist-packages/scipy/optimize/lbfgsb.py:339: DeprecationWarning: tostring() is deprecated. Use tobytes() instead.\n",
            "  task_str = task.tostring()\n",
            "/usr/local/lib/python3.7/dist-packages/scipy/optimize/lbfgsb.py:339: DeprecationWarning: tostring() is deprecated. Use tobytes() instead.\n",
            "  task_str = task.tostring()\n",
            "/usr/local/lib/python3.7/dist-packages/scipy/optimize/lbfgsb.py:339: DeprecationWarning: tostring() is deprecated. Use tobytes() instead.\n",
            "  task_str = task.tostring()\n",
            "/usr/local/lib/python3.7/dist-packages/scipy/optimize/lbfgsb.py:339: DeprecationWarning: tostring() is deprecated. Use tobytes() instead.\n",
            "  task_str = task.tostring()\n",
            "/usr/local/lib/python3.7/dist-packages/scipy/optimize/lbfgsb.py:339: DeprecationWarning: tostring() is deprecated. Use tobytes() instead.\n",
            "  task_str = task.tostring()\n",
            "/usr/local/lib/python3.7/dist-packages/scipy/optimize/lbfgsb.py:339: DeprecationWarning: tostring() is deprecated. Use tobytes() instead.\n",
            "  task_str = task.tostring()\n",
            "/usr/local/lib/python3.7/dist-packages/scipy/optimize/lbfgsb.py:339: DeprecationWarning: tostring() is deprecated. Use tobytes() instead.\n",
            "  task_str = task.tostring()\n",
            "/usr/local/lib/python3.7/dist-packages/scipy/optimize/lbfgsb.py:339: DeprecationWarning: tostring() is deprecated. Use tobytes() instead.\n",
            "  task_str = task.tostring()\n",
            "/usr/local/lib/python3.7/dist-packages/scipy/optimize/lbfgsb.py:339: DeprecationWarning: tostring() is deprecated. Use tobytes() instead.\n",
            "  task_str = task.tostring()\n",
            "/usr/local/lib/python3.7/dist-packages/scipy/optimize/lbfgsb.py:339: DeprecationWarning: tostring() is deprecated. Use tobytes() instead.\n",
            "  task_str = task.tostring()\n",
            "/usr/local/lib/python3.7/dist-packages/scipy/optimize/lbfgsb.py:339: DeprecationWarning: tostring() is deprecated. Use tobytes() instead.\n",
            "  task_str = task.tostring()\n"
          ]
        },
        {
          "output_type": "stream",
          "name": "stdout",
          "text": [
            "CPU times: user 2.2 s, sys: 2.84 s, total: 5.05 s\n",
            "Wall time: 4.08 s\n"
          ]
        },
        {
          "output_type": "stream",
          "name": "stderr",
          "text": [
            "/usr/local/lib/python3.7/dist-packages/scipy/optimize/lbfgsb.py:339: DeprecationWarning: tostring() is deprecated. Use tobytes() instead.\n",
            "  task_str = task.tostring()\n",
            "/usr/local/lib/python3.7/dist-packages/scipy/optimize/lbfgsb.py:339: DeprecationWarning: tostring() is deprecated. Use tobytes() instead.\n",
            "  task_str = task.tostring()\n",
            "/usr/local/lib/python3.7/dist-packages/scipy/optimize/lbfgsb.py:339: DeprecationWarning: tostring() is deprecated. Use tobytes() instead.\n",
            "  task_str = task.tostring()\n",
            "/usr/local/lib/python3.7/dist-packages/scipy/optimize/lbfgsb.py:339: DeprecationWarning: tostring() is deprecated. Use tobytes() instead.\n",
            "  task_str = task.tostring()\n",
            "/usr/local/lib/python3.7/dist-packages/scipy/optimize/lbfgsb.py:360: DeprecationWarning: tostring() is deprecated. Use tobytes() instead.\n",
            "  task_str = task.tostring().strip(b'\\x00').strip()\n"
          ]
        },
        {
          "output_type": "execute_result",
          "data": {
            "text/plain": [
              "LogisticRegression(max_iter=1000)"
            ]
          },
          "metadata": {},
          "execution_count": 61
        }
      ],
      "source": [
        "%time logreg.fit(X_train_dtm, df_train['Label'])"
      ]
    },
    {
      "cell_type": "markdown",
      "metadata": {
        "id": "mRSqk417z6XE"
      },
      "source": [
        "X_test_dtm에 대해 클래스 예측"
      ]
    },
    {
      "cell_type": "code",
      "execution_count": 62,
      "metadata": {
        "id": "L00i2DfGz6XE"
      },
      "outputs": [],
      "source": [
        "y_pred_class = logreg.predict(X_test_dtm)"
      ]
    },
    {
      "cell_type": "markdown",
      "metadata": {
        "id": "g16tB7qOz6XE"
      },
      "source": [
        "X_test_dtm에 대해 확률 예측"
      ]
    },
    {
      "cell_type": "code",
      "execution_count": 63,
      "metadata": {
        "id": "-5XYUDv4z6XE"
      },
      "outputs": [],
      "source": [
        "y_pred_prob = logreg.predict_proba(X_test_dtm)[:, 1]"
      ]
    },
    {
      "cell_type": "code",
      "execution_count": 64,
      "metadata": {
        "colab": {
          "base_uri": "https://localhost:8080/"
        },
        "id": "W9MtI9Siz6XE",
        "outputId": "8cb891c4-72b2-4b8c-cacb-27c538abe8ae"
      },
      "outputs": [
        {
          "output_type": "stream",
          "name": "stdout",
          "text": [
            "Beautiful and very versatile dress. extremely forgiving for post baby bodies, while stylish and classy.\n",
            "0.862920658341584\n"
          ]
        }
      ],
      "source": [
        "print(df_test['Review Text'].iloc[0])\n",
        "print(y_pred_prob[0])"
      ]
    },
    {
      "cell_type": "markdown",
      "metadata": {
        "id": "z3EadiFTz6XE"
      },
      "source": [
        "클래스 예측 정확도 구하기"
      ]
    },
    {
      "cell_type": "code",
      "execution_count": 65,
      "metadata": {
        "id": "VNhVcYFNz6XE"
      },
      "outputs": [],
      "source": [
        "from sklearn.metrics import accuracy_score, roc_auc_score"
      ]
    },
    {
      "cell_type": "code",
      "execution_count": 66,
      "metadata": {
        "colab": {
          "base_uri": "https://localhost:8080/"
        },
        "id": "gMXbZfOLz6XE",
        "outputId": "7a63981d-3138-479c-b643-a965d145238a"
      },
      "outputs": [
        {
          "output_type": "execute_result",
          "data": {
            "text/plain": [
              "0.773891538597421"
            ]
          },
          "metadata": {},
          "execution_count": 66
        }
      ],
      "source": [
        "accuracy_score(df_test['Label'], y_pred_class)"
      ]
    },
    {
      "cell_type": "markdown",
      "metadata": {
        "id": "cp-PxbXsz6XE"
      },
      "source": [
        "# 딥러닝으로 하는 감성분석\n",
        "\n",
        "미리 학습된 딥러닝 모델을 불러와 파인튜닝(fine-tuning)을 통해 텍스트 분류를 해보자\n",
        "\n",
        "허깅페이스의 transformers 라이브러리를 활용한다.\n",
        "\n",
        "https://huggingface.co/docs/transformers/index"
      ]
    },
    {
      "cell_type": "code",
      "execution_count": 67,
      "metadata": {
        "colab": {
          "base_uri": "https://localhost:8080/"
        },
        "id": "zGEuFIJVz6XF",
        "outputId": "f5b0cedb-e2bc-48af-b2a6-a0e07bae30cb"
      },
      "outputs": [
        {
          "output_type": "stream",
          "name": "stdout",
          "text": [
            "Collecting transformers\n",
            "  Downloading transformers-4.16.2-py3-none-any.whl (3.5 MB)\n",
            "\u001b[K     |████████████████████████████████| 3.5 MB 4.9 MB/s \n",
            "\u001b[?25hCollecting datasets\n",
            "  Downloading datasets-1.18.3-py3-none-any.whl (311 kB)\n",
            "\u001b[K     |████████████████████████████████| 311 kB 36.2 MB/s \n",
            "\u001b[?25hRequirement already satisfied: numpy>=1.17 in /usr/local/lib/python3.7/dist-packages (from transformers) (1.21.5)\n",
            "Collecting sacremoses\n",
            "  Downloading sacremoses-0.0.47-py2.py3-none-any.whl (895 kB)\n",
            "\u001b[K     |████████████████████████████████| 895 kB 34.3 MB/s \n",
            "\u001b[?25hRequirement already satisfied: tqdm>=4.27 in /usr/local/lib/python3.7/dist-packages (from transformers) (4.62.3)\n",
            "Requirement already satisfied: filelock in /usr/local/lib/python3.7/dist-packages (from transformers) (3.4.2)\n",
            "Requirement already satisfied: importlib-metadata in /usr/local/lib/python3.7/dist-packages (from transformers) (4.10.1)\n",
            "Requirement already satisfied: requests in /usr/local/lib/python3.7/dist-packages (from transformers) (2.23.0)\n",
            "Collecting huggingface-hub<1.0,>=0.1.0\n",
            "  Downloading huggingface_hub-0.4.0-py3-none-any.whl (67 kB)\n",
            "\u001b[K     |████████████████████████████████| 67 kB 4.4 MB/s \n",
            "\u001b[?25hRequirement already satisfied: packaging>=20.0 in /usr/local/lib/python3.7/dist-packages (from transformers) (21.3)\n",
            "Collecting pyyaml>=5.1\n",
            "  Downloading PyYAML-6.0-cp37-cp37m-manylinux_2_5_x86_64.manylinux1_x86_64.manylinux_2_12_x86_64.manylinux2010_x86_64.whl (596 kB)\n",
            "\u001b[K     |████████████████████████████████| 596 kB 40.8 MB/s \n",
            "\u001b[?25hCollecting tokenizers!=0.11.3,>=0.10.1\n",
            "  Downloading tokenizers-0.11.4-cp37-cp37m-manylinux_2_12_x86_64.manylinux2010_x86_64.whl (6.8 MB)\n",
            "\u001b[K     |████████████████████████████████| 6.8 MB 35.2 MB/s \n",
            "\u001b[?25hRequirement already satisfied: regex!=2019.12.17 in /usr/local/lib/python3.7/dist-packages (from transformers) (2019.12.20)\n",
            "Requirement already satisfied: typing-extensions>=3.7.4.3 in /usr/local/lib/python3.7/dist-packages (from huggingface-hub<1.0,>=0.1.0->transformers) (3.10.0.2)\n",
            "Requirement already satisfied: pyparsing!=3.0.5,>=2.0.2 in /usr/local/lib/python3.7/dist-packages (from packaging>=20.0->transformers) (3.0.7)\n",
            "Collecting fsspec[http]>=2021.05.0\n",
            "  Downloading fsspec-2022.1.0-py3-none-any.whl (133 kB)\n",
            "\u001b[K     |████████████████████████████████| 133 kB 8.5 MB/s \n",
            "\u001b[?25hCollecting xxhash\n",
            "  Downloading xxhash-2.0.2-cp37-cp37m-manylinux2010_x86_64.whl (243 kB)\n",
            "\u001b[K     |████████████████████████████████| 243 kB 20.8 MB/s \n",
            "\u001b[?25hRequirement already satisfied: pandas in /usr/local/lib/python3.7/dist-packages (from datasets) (1.3.5)\n",
            "Requirement already satisfied: dill in /usr/local/lib/python3.7/dist-packages (from datasets) (0.3.4)\n",
            "Collecting aiohttp\n",
            "  Downloading aiohttp-3.8.1-cp37-cp37m-manylinux_2_5_x86_64.manylinux1_x86_64.manylinux_2_12_x86_64.manylinux2010_x86_64.whl (1.1 MB)\n",
            "\u001b[K     |████████████████████████████████| 1.1 MB 33.0 MB/s \n",
            "\u001b[?25hRequirement already satisfied: multiprocess in /usr/local/lib/python3.7/dist-packages (from datasets) (0.70.12.2)\n",
            "Requirement already satisfied: pyarrow!=4.0.0,>=3.0.0 in /usr/local/lib/python3.7/dist-packages (from datasets) (6.0.1)\n",
            "Requirement already satisfied: certifi>=2017.4.17 in /usr/local/lib/python3.7/dist-packages (from requests->transformers) (2021.10.8)\n",
            "Requirement already satisfied: chardet<4,>=3.0.2 in /usr/local/lib/python3.7/dist-packages (from requests->transformers) (3.0.4)\n",
            "Requirement already satisfied: idna<3,>=2.5 in /usr/local/lib/python3.7/dist-packages (from requests->transformers) (2.10)\n",
            "Requirement already satisfied: urllib3!=1.25.0,!=1.25.1,<1.26,>=1.21.1 in /usr/local/lib/python3.7/dist-packages (from requests->transformers) (1.24.3)\n",
            "Requirement already satisfied: attrs>=17.3.0 in /usr/local/lib/python3.7/dist-packages (from aiohttp->datasets) (21.4.0)\n",
            "Collecting multidict<7.0,>=4.5\n",
            "  Downloading multidict-6.0.2-cp37-cp37m-manylinux_2_17_x86_64.manylinux2014_x86_64.whl (94 kB)\n",
            "\u001b[K     |████████████████████████████████| 94 kB 1.9 MB/s \n",
            "\u001b[?25hCollecting yarl<2.0,>=1.0\n",
            "  Downloading yarl-1.7.2-cp37-cp37m-manylinux_2_5_x86_64.manylinux1_x86_64.manylinux_2_12_x86_64.manylinux2010_x86_64.whl (271 kB)\n",
            "\u001b[K     |████████████████████████████████| 271 kB 8.3 MB/s \n",
            "\u001b[?25hRequirement already satisfied: charset-normalizer<3.0,>=2.0 in /usr/local/lib/python3.7/dist-packages (from aiohttp->datasets) (2.0.11)\n",
            "Collecting async-timeout<5.0,>=4.0.0a3\n",
            "  Downloading async_timeout-4.0.2-py3-none-any.whl (5.8 kB)\n",
            "Collecting aiosignal>=1.1.2\n",
            "  Downloading aiosignal-1.2.0-py3-none-any.whl (8.2 kB)\n",
            "Collecting asynctest==0.13.0\n",
            "  Downloading asynctest-0.13.0-py3-none-any.whl (26 kB)\n",
            "Collecting frozenlist>=1.1.1\n",
            "  Downloading frozenlist-1.3.0-cp37-cp37m-manylinux_2_5_x86_64.manylinux1_x86_64.manylinux_2_17_x86_64.manylinux2014_x86_64.whl (144 kB)\n",
            "\u001b[K     |████████████████████████████████| 144 kB 39.4 MB/s \n",
            "\u001b[?25hRequirement already satisfied: zipp>=0.5 in /usr/local/lib/python3.7/dist-packages (from importlib-metadata->transformers) (3.7.0)\n",
            "Requirement already satisfied: python-dateutil>=2.7.3 in /usr/local/lib/python3.7/dist-packages (from pandas->datasets) (2.8.2)\n",
            "Requirement already satisfied: pytz>=2017.3 in /usr/local/lib/python3.7/dist-packages (from pandas->datasets) (2018.9)\n",
            "Requirement already satisfied: six>=1.5 in /usr/local/lib/python3.7/dist-packages (from python-dateutil>=2.7.3->pandas->datasets) (1.15.0)\n",
            "Requirement already satisfied: click in /usr/local/lib/python3.7/dist-packages (from sacremoses->transformers) (7.1.2)\n",
            "Requirement already satisfied: joblib in /usr/local/lib/python3.7/dist-packages (from sacremoses->transformers) (1.1.0)\n",
            "Installing collected packages: multidict, frozenlist, yarl, asynctest, async-timeout, aiosignal, pyyaml, fsspec, aiohttp, xxhash, tokenizers, sacremoses, huggingface-hub, transformers, datasets\n",
            "  Attempting uninstall: pyyaml\n",
            "    Found existing installation: PyYAML 3.13\n",
            "    Uninstalling PyYAML-3.13:\n",
            "      Successfully uninstalled PyYAML-3.13\n",
            "Successfully installed aiohttp-3.8.1 aiosignal-1.2.0 async-timeout-4.0.2 asynctest-0.13.0 datasets-1.18.3 frozenlist-1.3.0 fsspec-2022.1.0 huggingface-hub-0.4.0 multidict-6.0.2 pyyaml-6.0 sacremoses-0.0.47 tokenizers-0.11.4 transformers-4.16.2 xxhash-2.0.2 yarl-1.7.2\n"
          ]
        }
      ],
      "source": [
        "!pip install transformers datasets"
      ]
    },
    {
      "cell_type": "code",
      "execution_count": 68,
      "metadata": {
        "id": "T8BeWo24z6XF"
      },
      "outputs": [],
      "source": [
        "from transformers import AutoTokenizer"
      ]
    },
    {
      "cell_type": "code",
      "execution_count": 69,
      "metadata": {
        "colab": {
          "base_uri": "https://localhost:8080/",
          "height": 145,
          "referenced_widgets": [
            "2f58dd9371e84fc99d3301c5a82d3ff6",
            "9d65c0012a87446ca7776d41009a3782",
            "1bd0676ac1364441b8ef5256db32a444",
            "d2e1a4847f154734b1e037f8e8a676f3",
            "75bff6616e954d12924d8bbd63ba479f",
            "e451a593047040fdae4ccb5abb0b0ca3",
            "2fdd1dca41ff4d30b0c22f27dde514ac",
            "c446f8d0bf114aab8ff8d0dd2c238834",
            "9591175b89404e74a3acb4cfeaf1b02a",
            "10b13e75dee042049154e3104c0b1c0e",
            "40fd93a72a25400d978dd781de209321",
            "b7efc104e9c94559a27c2c60a611fbcb",
            "8501605043184c559607deacb5b4d5f7",
            "6e8e31ed74b045d391642cfb24f499e7",
            "a473173f96b74a4facee8c021988b6a6",
            "8907bcd0d3e04faf99c3a9cfdb6bc4b9",
            "f26555a0436d4cd0b36e8ec1a500ed0d",
            "571a880214864962a397f3f1ade515b7",
            "c62d153fc1f74391b4370e2c754677db",
            "460cc3a6c67e446ab3b931cae9414779",
            "3f553169f5ab4196b5fe2be28b8ef13a",
            "cd8fd3c927e54dc992095fb8bd7d2ca9",
            "28bae64a0ea64f5e90931fd5c47503c2",
            "22dc7589a10246d6a3a4658e2629c492",
            "542a237f8d744aabb6fb70abc18a9045",
            "048c2725ff41443da0683d89f7005379",
            "b57204d3649c47c99240c0f0aa6e63e9",
            "1d6f6057284c441097b6438a0dc029fd",
            "09b01d7e77284a8f913ad131c0b89a93",
            "592941880dda44ceb93747b0516d1e0b",
            "18a462d5d8f94cb19ba3d2598acf7306",
            "e8a7436321a04d8e823006c10c4d9375",
            "7e090ef3d62448e792d20a965990989f",
            "e2f6bd6174064a48811d375858448148",
            "595d235607ed4b108ac5b375ba697074",
            "7c5f7f8ed691456597091620544b9c40",
            "54ae80773fd04ec28d7f80589d4cd520",
            "5139b853affc4958a6f8dcea6aec38d6",
            "6ddc126960ea48518c0ad81e63ac49ff",
            "21b94030e9c7493aa9d98d4d8e0e9bf2",
            "07f67bdf769241c5b92180847310d072",
            "f3493702f6fc43e3a58f722ed3351d0d",
            "e99165c1b6304e96b73972e84b14eb34",
            "71d4172f749e4af19a6007cb62187703"
          ]
        },
        "id": "HZqnVKZ-z6XG",
        "outputId": "dfb940b3-851e-4d82-f5fd-54b896420d74"
      },
      "outputs": [
        {
          "output_type": "display_data",
          "data": {
            "application/vnd.jupyter.widget-view+json": {
              "model_id": "2f58dd9371e84fc99d3301c5a82d3ff6",
              "version_minor": 0,
              "version_major": 2
            },
            "text/plain": [
              "Downloading:   0%|          | 0.00/29.0 [00:00<?, ?B/s]"
            ]
          },
          "metadata": {}
        },
        {
          "output_type": "display_data",
          "data": {
            "application/vnd.jupyter.widget-view+json": {
              "model_id": "b7efc104e9c94559a27c2c60a611fbcb",
              "version_minor": 0,
              "version_major": 2
            },
            "text/plain": [
              "Downloading:   0%|          | 0.00/625 [00:00<?, ?B/s]"
            ]
          },
          "metadata": {}
        },
        {
          "output_type": "display_data",
          "data": {
            "application/vnd.jupyter.widget-view+json": {
              "model_id": "28bae64a0ea64f5e90931fd5c47503c2",
              "version_minor": 0,
              "version_major": 2
            },
            "text/plain": [
              "Downloading:   0%|          | 0.00/972k [00:00<?, ?B/s]"
            ]
          },
          "metadata": {}
        },
        {
          "output_type": "display_data",
          "data": {
            "application/vnd.jupyter.widget-view+json": {
              "model_id": "e2f6bd6174064a48811d375858448148",
              "version_minor": 0,
              "version_major": 2
            },
            "text/plain": [
              "Downloading:   0%|          | 0.00/1.87M [00:00<?, ?B/s]"
            ]
          },
          "metadata": {}
        }
      ],
      "source": [
        "tokenizer = AutoTokenizer.from_pretrained('bert-base-multilingual-cased')"
      ]
    },
    {
      "cell_type": "code",
      "execution_count": 70,
      "metadata": {
        "colab": {
          "base_uri": "https://localhost:8080/"
        },
        "id": "8Cc-_dJzz6XG",
        "outputId": "6da94bf4-5a84-439f-b185-f0e172532be7"
      },
      "outputs": [
        {
          "output_type": "stream",
          "name": "stdout",
          "text": [
            "Absolutely wonderful - silky and sexy and comfortable\n"
          ]
        }
      ],
      "source": [
        "print(df_train['Review Text'].loc[0])"
      ]
    },
    {
      "cell_type": "code",
      "execution_count": 71,
      "metadata": {
        "colab": {
          "base_uri": "https://localhost:8080/"
        },
        "id": "TzBGIVT1z6XG",
        "outputId": "2c1bd880-f2ff-4b5e-dc2b-5a246f93e35e"
      },
      "outputs": [
        {
          "output_type": "execute_result",
          "data": {
            "text/plain": [
              "{'input_ids': [101, 108394, 10454, 11367, 11304, 14446, 118, 33694, 11445, 10111, 18549, 10157, 10111, 10212, 81587, 102, 0, 0, 0, 0, 0, 0, 0, 0, 0, 0, 0, 0, 0, 0, 0, 0, 0, 0, 0, 0, 0, 0, 0, 0, 0, 0, 0, 0, 0, 0, 0, 0, 0, 0, 0, 0, 0, 0, 0, 0, 0, 0, 0, 0, 0, 0, 0, 0, 0, 0, 0, 0, 0, 0, 0, 0, 0, 0, 0, 0, 0, 0, 0, 0, 0, 0, 0, 0, 0, 0, 0, 0, 0, 0, 0, 0, 0, 0, 0, 0, 0, 0, 0, 0, 0, 0, 0, 0, 0, 0, 0, 0, 0, 0, 0, 0, 0, 0, 0, 0, 0, 0, 0, 0, 0, 0, 0, 0, 0, 0, 0, 0, 0, 0, 0, 0, 0, 0, 0, 0, 0, 0, 0, 0, 0, 0, 0, 0, 0, 0, 0, 0, 0, 0, 0, 0, 0, 0, 0, 0, 0, 0, 0, 0, 0, 0, 0, 0, 0, 0, 0, 0, 0, 0, 0, 0, 0, 0, 0, 0, 0, 0, 0, 0, 0, 0, 0, 0, 0, 0, 0, 0, 0, 0, 0, 0, 0, 0, 0, 0, 0, 0, 0, 0, 0, 0, 0, 0, 0, 0, 0, 0, 0, 0, 0, 0, 0, 0, 0, 0, 0, 0, 0, 0, 0, 0, 0, 0, 0, 0, 0, 0, 0, 0, 0, 0, 0, 0, 0, 0, 0, 0, 0, 0, 0, 0, 0, 0, 0, 0, 0, 0, 0, 0, 0, 0, 0, 0, 0, 0, 0, 0, 0, 0, 0, 0, 0, 0, 0, 0, 0, 0, 0, 0, 0, 0, 0, 0, 0, 0, 0, 0, 0, 0, 0, 0, 0, 0, 0, 0, 0, 0, 0, 0, 0, 0, 0, 0, 0, 0, 0, 0, 0, 0, 0, 0, 0, 0, 0, 0, 0, 0, 0, 0, 0, 0, 0, 0, 0, 0, 0, 0, 0, 0, 0, 0, 0, 0, 0, 0, 0, 0, 0, 0, 0, 0, 0, 0, 0, 0, 0, 0, 0, 0, 0, 0, 0, 0, 0, 0, 0, 0, 0, 0, 0, 0, 0, 0, 0, 0, 0, 0, 0, 0, 0, 0, 0, 0, 0, 0, 0, 0, 0, 0, 0, 0, 0, 0, 0, 0, 0, 0, 0, 0, 0, 0, 0, 0, 0, 0, 0, 0, 0, 0, 0, 0, 0, 0, 0, 0, 0, 0, 0, 0, 0, 0, 0, 0, 0, 0, 0, 0, 0, 0, 0, 0, 0, 0, 0, 0, 0, 0, 0, 0, 0, 0, 0, 0, 0, 0, 0, 0, 0, 0, 0, 0, 0, 0, 0, 0, 0, 0, 0, 0, 0, 0, 0, 0, 0, 0, 0, 0, 0, 0, 0, 0, 0, 0, 0, 0, 0, 0, 0, 0, 0, 0, 0, 0, 0, 0, 0, 0, 0, 0, 0, 0, 0, 0, 0, 0, 0, 0, 0, 0, 0, 0, 0, 0, 0, 0, 0, 0, 0, 0, 0, 0, 0, 0, 0, 0, 0, 0, 0, 0, 0, 0, 0, 0, 0, 0, 0, 0, 0, 0, 0, 0], 'token_type_ids': [0, 0, 0, 0, 0, 0, 0, 0, 0, 0, 0, 0, 0, 0, 0, 0, 0, 0, 0, 0, 0, 0, 0, 0, 0, 0, 0, 0, 0, 0, 0, 0, 0, 0, 0, 0, 0, 0, 0, 0, 0, 0, 0, 0, 0, 0, 0, 0, 0, 0, 0, 0, 0, 0, 0, 0, 0, 0, 0, 0, 0, 0, 0, 0, 0, 0, 0, 0, 0, 0, 0, 0, 0, 0, 0, 0, 0, 0, 0, 0, 0, 0, 0, 0, 0, 0, 0, 0, 0, 0, 0, 0, 0, 0, 0, 0, 0, 0, 0, 0, 0, 0, 0, 0, 0, 0, 0, 0, 0, 0, 0, 0, 0, 0, 0, 0, 0, 0, 0, 0, 0, 0, 0, 0, 0, 0, 0, 0, 0, 0, 0, 0, 0, 0, 0, 0, 0, 0, 0, 0, 0, 0, 0, 0, 0, 0, 0, 0, 0, 0, 0, 0, 0, 0, 0, 0, 0, 0, 0, 0, 0, 0, 0, 0, 0, 0, 0, 0, 0, 0, 0, 0, 0, 0, 0, 0, 0, 0, 0, 0, 0, 0, 0, 0, 0, 0, 0, 0, 0, 0, 0, 0, 0, 0, 0, 0, 0, 0, 0, 0, 0, 0, 0, 0, 0, 0, 0, 0, 0, 0, 0, 0, 0, 0, 0, 0, 0, 0, 0, 0, 0, 0, 0, 0, 0, 0, 0, 0, 0, 0, 0, 0, 0, 0, 0, 0, 0, 0, 0, 0, 0, 0, 0, 0, 0, 0, 0, 0, 0, 0, 0, 0, 0, 0, 0, 0, 0, 0, 0, 0, 0, 0, 0, 0, 0, 0, 0, 0, 0, 0, 0, 0, 0, 0, 0, 0, 0, 0, 0, 0, 0, 0, 0, 0, 0, 0, 0, 0, 0, 0, 0, 0, 0, 0, 0, 0, 0, 0, 0, 0, 0, 0, 0, 0, 0, 0, 0, 0, 0, 0, 0, 0, 0, 0, 0, 0, 0, 0, 0, 0, 0, 0, 0, 0, 0, 0, 0, 0, 0, 0, 0, 0, 0, 0, 0, 0, 0, 0, 0, 0, 0, 0, 0, 0, 0, 0, 0, 0, 0, 0, 0, 0, 0, 0, 0, 0, 0, 0, 0, 0, 0, 0, 0, 0, 0, 0, 0, 0, 0, 0, 0, 0, 0, 0, 0, 0, 0, 0, 0, 0, 0, 0, 0, 0, 0, 0, 0, 0, 0, 0, 0, 0, 0, 0, 0, 0, 0, 0, 0, 0, 0, 0, 0, 0, 0, 0, 0, 0, 0, 0, 0, 0, 0, 0, 0, 0, 0, 0, 0, 0, 0, 0, 0, 0, 0, 0, 0, 0, 0, 0, 0, 0, 0, 0, 0, 0, 0, 0, 0, 0, 0, 0, 0, 0, 0, 0, 0, 0, 0, 0, 0, 0, 0, 0, 0, 0, 0, 0, 0, 0, 0, 0, 0, 0, 0, 0, 0, 0, 0, 0, 0, 0, 0, 0, 0, 0, 0, 0, 0, 0, 0, 0, 0, 0, 0, 0, 0, 0, 0, 0, 0, 0, 0, 0, 0, 0, 0, 0, 0, 0, 0, 0, 0, 0, 0, 0, 0, 0, 0, 0, 0, 0], 'attention_mask': [1, 1, 1, 1, 1, 1, 1, 1, 1, 1, 1, 1, 1, 1, 1, 1, 0, 0, 0, 0, 0, 0, 0, 0, 0, 0, 0, 0, 0, 0, 0, 0, 0, 0, 0, 0, 0, 0, 0, 0, 0, 0, 0, 0, 0, 0, 0, 0, 0, 0, 0, 0, 0, 0, 0, 0, 0, 0, 0, 0, 0, 0, 0, 0, 0, 0, 0, 0, 0, 0, 0, 0, 0, 0, 0, 0, 0, 0, 0, 0, 0, 0, 0, 0, 0, 0, 0, 0, 0, 0, 0, 0, 0, 0, 0, 0, 0, 0, 0, 0, 0, 0, 0, 0, 0, 0, 0, 0, 0, 0, 0, 0, 0, 0, 0, 0, 0, 0, 0, 0, 0, 0, 0, 0, 0, 0, 0, 0, 0, 0, 0, 0, 0, 0, 0, 0, 0, 0, 0, 0, 0, 0, 0, 0, 0, 0, 0, 0, 0, 0, 0, 0, 0, 0, 0, 0, 0, 0, 0, 0, 0, 0, 0, 0, 0, 0, 0, 0, 0, 0, 0, 0, 0, 0, 0, 0, 0, 0, 0, 0, 0, 0, 0, 0, 0, 0, 0, 0, 0, 0, 0, 0, 0, 0, 0, 0, 0, 0, 0, 0, 0, 0, 0, 0, 0, 0, 0, 0, 0, 0, 0, 0, 0, 0, 0, 0, 0, 0, 0, 0, 0, 0, 0, 0, 0, 0, 0, 0, 0, 0, 0, 0, 0, 0, 0, 0, 0, 0, 0, 0, 0, 0, 0, 0, 0, 0, 0, 0, 0, 0, 0, 0, 0, 0, 0, 0, 0, 0, 0, 0, 0, 0, 0, 0, 0, 0, 0, 0, 0, 0, 0, 0, 0, 0, 0, 0, 0, 0, 0, 0, 0, 0, 0, 0, 0, 0, 0, 0, 0, 0, 0, 0, 0, 0, 0, 0, 0, 0, 0, 0, 0, 0, 0, 0, 0, 0, 0, 0, 0, 0, 0, 0, 0, 0, 0, 0, 0, 0, 0, 0, 0, 0, 0, 0, 0, 0, 0, 0, 0, 0, 0, 0, 0, 0, 0, 0, 0, 0, 0, 0, 0, 0, 0, 0, 0, 0, 0, 0, 0, 0, 0, 0, 0, 0, 0, 0, 0, 0, 0, 0, 0, 0, 0, 0, 0, 0, 0, 0, 0, 0, 0, 0, 0, 0, 0, 0, 0, 0, 0, 0, 0, 0, 0, 0, 0, 0, 0, 0, 0, 0, 0, 0, 0, 0, 0, 0, 0, 0, 0, 0, 0, 0, 0, 0, 0, 0, 0, 0, 0, 0, 0, 0, 0, 0, 0, 0, 0, 0, 0, 0, 0, 0, 0, 0, 0, 0, 0, 0, 0, 0, 0, 0, 0, 0, 0, 0, 0, 0, 0, 0, 0, 0, 0, 0, 0, 0, 0, 0, 0, 0, 0, 0, 0, 0, 0, 0, 0, 0, 0, 0, 0, 0, 0, 0, 0, 0, 0, 0, 0, 0, 0, 0, 0, 0, 0, 0, 0, 0, 0, 0, 0, 0, 0, 0, 0, 0, 0, 0, 0, 0, 0, 0, 0, 0, 0, 0, 0, 0, 0, 0, 0, 0, 0, 0, 0, 0, 0, 0, 0, 0, 0, 0]}"
            ]
          },
          "metadata": {},
          "execution_count": 71
        }
      ],
      "source": [
        "tokenizer(df_train['Review Text'].loc[0], padding='max_length', truncation=True)"
      ]
    },
    {
      "cell_type": "code",
      "execution_count": 72,
      "metadata": {
        "id": "L_twwMq4z6XG"
      },
      "outputs": [],
      "source": [
        "def tokenize_function(examples):\n",
        "    return tokenizer(examples['text'], padding='max_length', truncation=True)"
      ]
    },
    {
      "cell_type": "markdown",
      "metadata": {
        "id": "iShVz9f8z6XG"
      },
      "source": [
        "dataset 라이브러리를 불러온다.<br>\n",
        "허깅페이스에서 개발한 자연어 등 여러 데이터셋을 다루기 위한 라이브러리이다."
      ]
    },
    {
      "cell_type": "code",
      "execution_count": 73,
      "metadata": {
        "id": "aAevnVZ2z6XG"
      },
      "outputs": [],
      "source": [
        "from datasets import Dataset"
      ]
    },
    {
      "cell_type": "markdown",
      "metadata": {
        "id": "jcJm6kPAz6XG"
      },
      "source": [
        "리뷰 텍스트와 레이블 데이터셋을 만든다"
      ]
    },
    {
      "cell_type": "code",
      "execution_count": 74,
      "metadata": {
        "id": "3m8Vq9z2z6XH"
      },
      "outputs": [],
      "source": [
        "dataset_train = Dataset.from_dict({'text': df_train['Review Text'], 'label': df_train['Label']})\n",
        "dataset_test = Dataset.from_dict({'text': df_test['Review Text'], 'label': df_test['Label']})"
      ]
    },
    {
      "cell_type": "markdown",
      "metadata": {
        "id": "JG5To5qCz6XH"
      },
      "source": [
        "dataset의 map 함수를 이용해 토크나이징 함수를 적용한다"
      ]
    },
    {
      "cell_type": "code",
      "execution_count": 75,
      "metadata": {
        "colab": {
          "base_uri": "https://localhost:8080/",
          "height": 81,
          "referenced_widgets": [
            "5c208296a9a749158ede8d89c9ce99c7",
            "16571d31ba224dd28f038ebfb55c6cd0",
            "7b72828afe87435ab5111ef3fb44ce5b",
            "da5a831607d44effabf11189d4c3671d",
            "e8e50261fd004250b93a63cd94ef986b",
            "d6dc095b0ca34f968150db84d3f73a3e",
            "92c7535673d8425d902cc3cc0bac9ef5",
            "09d35031d5d74eb9bd3ce966e26b8fa0",
            "c3872efb42104ad4b411b79e6bce51f6",
            "9c123fba3eeb47f1aa7e35881fb8e3fd",
            "8ee6368d9cd44b9e963eb9b8ee7b62d0",
            "30a635bff02847b7b7c15121e88e2818",
            "579e6c6a38c94e7686bc7880774b66f7",
            "5f51e686cc1349888bed5853ff1b72b5",
            "dee76eafe9b84332923ab9d5d5fa9013",
            "eeae2fedd8d24313b2c1a7e6e8641e2b",
            "1336253e22594cbfb1c3c1e20121e304",
            "d812e1b897c04239b9bbfb3c0ba808b5",
            "1858318a1e8a4b8db85fdb472a7c65ce",
            "329c9e5841e944e398eb6d6d434aca2c",
            "e4bd2ec80fa446afad210064df12c195",
            "55a75c86490b4c5da47a3f4460afd1cb"
          ]
        },
        "id": "CtXfrwu3z6XH",
        "outputId": "fad8ec0a-d457-4a1a-c513-c525a3cda68b"
      },
      "outputs": [
        {
          "output_type": "display_data",
          "data": {
            "application/vnd.jupyter.widget-view+json": {
              "model_id": "5c208296a9a749158ede8d89c9ce99c7",
              "version_minor": 0,
              "version_major": 2
            },
            "text/plain": [
              "  0%|          | 0/17 [00:00<?, ?ba/s]"
            ]
          },
          "metadata": {}
        },
        {
          "output_type": "display_data",
          "data": {
            "application/vnd.jupyter.widget-view+json": {
              "model_id": "30a635bff02847b7b7c15121e88e2818",
              "version_minor": 0,
              "version_major": 2
            },
            "text/plain": [
              "  0%|          | 0/6 [00:00<?, ?ba/s]"
            ]
          },
          "metadata": {}
        }
      ],
      "source": [
        "dataset_train_tokenized = dataset_train.map(tokenize_function, batched=True)\n",
        "dataset_test_tokenized = dataset_test.map(tokenize_function, batched=True)"
      ]
    },
    {
      "cell_type": "markdown",
      "metadata": {
        "id": "qftDDo1Nz6XH"
      },
      "source": [
        "모델을 불러온다.<br>\n",
        "분류용으로 불러오며, 분류하는 레이블은 2개이다."
      ]
    },
    {
      "cell_type": "code",
      "execution_count": 76,
      "metadata": {
        "id": "GMClqwcOz6XH"
      },
      "outputs": [],
      "source": [
        "from transformers import AutoModelForSequenceClassification"
      ]
    },
    {
      "cell_type": "code",
      "execution_count": 77,
      "metadata": {
        "colab": {
          "base_uri": "https://localhost:8080/",
          "height": 163,
          "referenced_widgets": [
            "ef2be8675a254f5eb18e7c40f165ba01",
            "da5df16d406744f7aaafb3dad20ecb8c",
            "80e28ecf808c456998e797c572f7e6eb",
            "8880b54f64a54633be01af0fa14fbdb3",
            "796173d25d6743a7a2c881cd5b8bc53c",
            "dfa94e788e23421bb2c903eade372f0d",
            "a90d4958f2b04b48bf6d5fa09c5a9922",
            "c4033621bdea47a5acdff1a868241bde",
            "13a41bc9936b4e8bac06b0809ee4ff0b",
            "b35473991668464981c62765d256ba60",
            "cca607aea10644609a408fb9c9036813"
          ]
        },
        "id": "_ahkNVWNz6XH",
        "outputId": "a34a4f8c-c4e5-4be0-bc73-8df3d53a13e7"
      },
      "outputs": [
        {
          "output_type": "display_data",
          "data": {
            "application/vnd.jupyter.widget-view+json": {
              "model_id": "ef2be8675a254f5eb18e7c40f165ba01",
              "version_minor": 0,
              "version_major": 2
            },
            "text/plain": [
              "Downloading:   0%|          | 0.00/681M [00:00<?, ?B/s]"
            ]
          },
          "metadata": {}
        },
        {
          "output_type": "stream",
          "name": "stderr",
          "text": [
            "Some weights of the model checkpoint at bert-base-multilingual-cased were not used when initializing BertForSequenceClassification: ['cls.predictions.transform.dense.bias', 'cls.predictions.transform.LayerNorm.bias', 'cls.seq_relationship.weight', 'cls.seq_relationship.bias', 'cls.predictions.transform.dense.weight', 'cls.predictions.decoder.weight', 'cls.predictions.bias', 'cls.predictions.transform.LayerNorm.weight']\n",
            "- This IS expected if you are initializing BertForSequenceClassification from the checkpoint of a model trained on another task or with another architecture (e.g. initializing a BertForSequenceClassification model from a BertForPreTraining model).\n",
            "- This IS NOT expected if you are initializing BertForSequenceClassification from the checkpoint of a model that you expect to be exactly identical (initializing a BertForSequenceClassification model from a BertForSequenceClassification model).\n",
            "Some weights of BertForSequenceClassification were not initialized from the model checkpoint at bert-base-multilingual-cased and are newly initialized: ['classifier.weight', 'classifier.bias']\n",
            "You should probably TRAIN this model on a down-stream task to be able to use it for predictions and inference.\n"
          ]
        }
      ],
      "source": [
        "model = AutoModelForSequenceClassification.from_pretrained('bert-base-multilingual-cased', num_labels=2)"
      ]
    },
    {
      "cell_type": "code",
      "execution_count": 78,
      "metadata": {
        "id": "uOeumuZJz6XI"
      },
      "outputs": [],
      "source": [
        "from transformers import TrainingArguments"
      ]
    },
    {
      "cell_type": "markdown",
      "source": [
        "디렉토리(runs)에 학습된 모델이 저장된다"
      ],
      "metadata": {
        "id": "4HJni_4B4MCF"
      }
    },
    {
      "cell_type": "code",
      "source": [
        "training_args = TrainingArguments('runs', num_train_epochs=1)"
      ],
      "metadata": {
        "id": "hYgpceaP3TAR"
      },
      "execution_count": 79,
      "outputs": []
    },
    {
      "cell_type": "code",
      "source": [
        "x = np.array([[5, 4, 3], [7, 10, 9]])\n",
        "index_array = np.argmax(x, axis=-1)\n",
        "index_array"
      ],
      "metadata": {
        "colab": {
          "base_uri": "https://localhost:8080/"
        },
        "id": "ox4hoBdL4xHQ",
        "outputId": "4f1e1c66-e970-477f-f686-62081f82dfa8"
      },
      "execution_count": 80,
      "outputs": [
        {
          "output_type": "execute_result",
          "data": {
            "text/plain": [
              "array([0, 1])"
            ]
          },
          "metadata": {},
          "execution_count": 80
        }
      ]
    },
    {
      "cell_type": "code",
      "source": [
        "import numpy as np\n",
        "from datasets import load_metric\n",
        "\n",
        "metric = load_metric('accuracy')\n",
        "\n",
        "def compute_metrics(eval_pred):\n",
        "    logits, labels = eval_pred\n",
        "    predictions = np.argmax(logits, axis=-1)\n",
        "    return metric.compute(predictions=predictions, references=labels)"
      ],
      "metadata": {
        "colab": {
          "base_uri": "https://localhost:8080/",
          "height": 49,
          "referenced_widgets": [
            "8ad1562ab0964039a22d3b110abf8858",
            "5560d258d033407a97c7ef428e392954",
            "6f013f8ad8d74da19e16d318363c7480",
            "5496f17de69a47a68c270026fd94345e",
            "1c7f53c7049a4916a10a81a444b0e06c",
            "57eda896201e4dff9776ee14311f3cec",
            "ab213b43b2204b4dbc8f80b240b0700f",
            "c9eab0a91aac4fe095a486ad29e45e25",
            "9532fb3af2c2476a9fba10add3625bd0",
            "024f3bed58eb4226ac6ded9e7ef5a52f",
            "0fe0457d9231422bbaa8ebbd749b97ec"
          ]
        },
        "id": "ma7XfK6X3ujQ",
        "outputId": "b565205f-f125-4b90-871b-bab54c70659c"
      },
      "execution_count": 81,
      "outputs": [
        {
          "output_type": "display_data",
          "data": {
            "application/vnd.jupyter.widget-view+json": {
              "model_id": "8ad1562ab0964039a22d3b110abf8858",
              "version_minor": 0,
              "version_major": 2
            },
            "text/plain": [
              "Downloading:   0%|          | 0.00/1.41k [00:00<?, ?B/s]"
            ]
          },
          "metadata": {}
        }
      ]
    },
    {
      "cell_type": "code",
      "source": [
        "from transformers import Trainer"
      ],
      "metadata": {
        "id": "OZN_1jRv3do6"
      },
      "execution_count": 82,
      "outputs": []
    },
    {
      "cell_type": "code",
      "source": [
        "trainer = Trainer(\n",
        "    model=model,\n",
        "    args=training_args,\n",
        "    train_dataset=dataset_train_tokenized,\n",
        "    eval_dataset=dataset_test_tokenized,\n",
        "    compute_metrics=compute_metrics\n",
        ")"
      ],
      "metadata": {
        "id": "vjTTNoq53ge6"
      },
      "execution_count": 83,
      "outputs": []
    },
    {
      "cell_type": "markdown",
      "source": [
        "학습을 진행한다."
      ],
      "metadata": {
        "id": "Bl974DP36iZa"
      }
    },
    {
      "cell_type": "code",
      "source": [
        "trainer.train()"
      ],
      "metadata": {
        "id": "m3zPHgH34FE4",
        "colab": {
          "base_uri": "https://localhost:8080/",
          "height": 745
        },
        "outputId": "8cbe6b26-3d53-412f-c5ed-21eae62a31bc"
      },
      "execution_count": 84,
      "outputs": [
        {
          "output_type": "stream",
          "name": "stderr",
          "text": [
            "The following columns in the training set  don't have a corresponding argument in `BertForSequenceClassification.forward` and have been ignored: text.\n",
            "/usr/local/lib/python3.7/dist-packages/transformers/optimization.py:309: FutureWarning: This implementation of AdamW is deprecated and will be removed in a future version. Use thePyTorch implementation torch.optim.AdamW instead, or set `no_deprecation_warning=True` to disable this warning\n",
            "  FutureWarning,\n",
            "***** Running training *****\n",
            "  Num examples = 16980\n",
            "  Num Epochs = 1\n",
            "  Instantaneous batch size per device = 8\n",
            "  Total train batch size (w. parallel, distributed & accumulation) = 8\n",
            "  Gradient Accumulation steps = 1\n",
            "  Total optimization steps = 2123\n"
          ]
        },
        {
          "output_type": "display_data",
          "data": {
            "text/html": [
              "\n",
              "    <div>\n",
              "      \n",
              "      <progress value='2123' max='2123' style='width:300px; height:20px; vertical-align: middle;'></progress>\n",
              "      [2123/2123 1:08:29, Epoch 1/1]\n",
              "    </div>\n",
              "    <table border=\"1\" class=\"dataframe\">\n",
              "  <thead>\n",
              " <tr style=\"text-align: left;\">\n",
              "      <th>Step</th>\n",
              "      <th>Training Loss</th>\n",
              "    </tr>\n",
              "  </thead>\n",
              "  <tbody>\n",
              "    <tr>\n",
              "      <td>500</td>\n",
              "      <td>0.672600</td>\n",
              "    </tr>\n",
              "    <tr>\n",
              "      <td>1000</td>\n",
              "      <td>0.633300</td>\n",
              "    </tr>\n",
              "    <tr>\n",
              "      <td>1500</td>\n",
              "      <td>0.533100</td>\n",
              "    </tr>\n",
              "    <tr>\n",
              "      <td>2000</td>\n",
              "      <td>0.490800</td>\n",
              "    </tr>\n",
              "  </tbody>\n",
              "</table><p>"
            ],
            "text/plain": [
              "<IPython.core.display.HTML object>"
            ]
          },
          "metadata": {}
        },
        {
          "output_type": "stream",
          "name": "stderr",
          "text": [
            "Saving model checkpoint to runs/checkpoint-500\n",
            "Configuration saved in runs/checkpoint-500/config.json\n",
            "Model weights saved in runs/checkpoint-500/pytorch_model.bin\n",
            "Saving model checkpoint to runs/checkpoint-1000\n",
            "Configuration saved in runs/checkpoint-1000/config.json\n",
            "Model weights saved in runs/checkpoint-1000/pytorch_model.bin\n",
            "Saving model checkpoint to runs/checkpoint-1500\n",
            "Configuration saved in runs/checkpoint-1500/config.json\n",
            "Model weights saved in runs/checkpoint-1500/pytorch_model.bin\n",
            "Saving model checkpoint to runs/checkpoint-2000\n",
            "Configuration saved in runs/checkpoint-2000/config.json\n",
            "Model weights saved in runs/checkpoint-2000/pytorch_model.bin\n",
            "\n",
            "\n",
            "Training completed. Do not forget to share your model on huggingface.co/models =)\n",
            "\n",
            "\n"
          ]
        },
        {
          "output_type": "execute_result",
          "data": {
            "text/plain": [
              "TrainOutput(global_step=2123, training_loss=0.5751818253979388, metrics={'train_runtime': 4111.7485, 'train_samples_per_second': 4.13, 'train_steps_per_second': 0.516, 'total_flos': 4467625720012800.0, 'train_loss': 0.5751818253979388, 'epoch': 1.0})"
            ]
          },
          "metadata": {},
          "execution_count": 84
        }
      ]
    },
    {
      "cell_type": "markdown",
      "source": [
        "학습이 끝난 모델을 평가한다"
      ],
      "metadata": {
        "id": "68A7xca06BeJ"
      }
    },
    {
      "cell_type": "code",
      "source": [
        "trainer.evaluate()"
      ],
      "metadata": {
        "colab": {
          "base_uri": "https://localhost:8080/",
          "height": 225
        },
        "id": "2iuQxQUG53PL",
        "outputId": "4c41427c-e4e1-4210-e10b-9bb482d9082a"
      },
      "execution_count": 85,
      "outputs": [
        {
          "output_type": "stream",
          "name": "stderr",
          "text": [
            "The following columns in the evaluation set  don't have a corresponding argument in `BertForSequenceClassification.forward` and have been ignored: text.\n",
            "***** Running Evaluation *****\n",
            "  Num examples = 5661\n",
            "  Batch size = 8\n"
          ]
        },
        {
          "output_type": "display_data",
          "data": {
            "text/html": [
              "\n",
              "    <div>\n",
              "      \n",
              "      <progress value='708' max='708' style='width:300px; height:20px; vertical-align: middle;'></progress>\n",
              "      [708/708 08:02]\n",
              "    </div>\n",
              "    "
            ],
            "text/plain": [
              "<IPython.core.display.HTML object>"
            ]
          },
          "metadata": {}
        },
        {
          "output_type": "execute_result",
          "data": {
            "text/plain": [
              "{'epoch': 1.0,\n",
              " 'eval_accuracy': 0.7846670199611376,\n",
              " 'eval_loss': 0.47675976157188416,\n",
              " 'eval_runtime': 483.4726,\n",
              " 'eval_samples_per_second': 11.709,\n",
              " 'eval_steps_per_second': 1.464}"
            ]
          },
          "metadata": {},
          "execution_count": 85
        }
      ]
    },
    {
      "cell_type": "markdown",
      "source": [
        "정확도 78%"
      ],
      "metadata": {
        "id": "NmPkvhss6eXF"
      }
    },
    {
      "cell_type": "code",
      "source": [
        "def predict_with_bert(text):\n",
        "    inputs = tokenizer(text, return_tensors='pt')\n",
        "    inputs = inputs.to(model.device)\n",
        "    outputs = model(**inputs)\n",
        "    prediction = outputs['logits'].argmax().item()\n",
        "    return prediction > 0"
      ],
      "metadata": {
        "id": "te6qPXnl6eAs"
      },
      "execution_count": 86,
      "outputs": []
    },
    {
      "cell_type": "code",
      "source": [
        "text = df_test['Review Text'].iloc[0]\n",
        "print(text)\n",
        "print(predict_with_bert(text))"
      ],
      "metadata": {
        "colab": {
          "base_uri": "https://localhost:8080/"
        },
        "id": "lflMVFm67E-m",
        "outputId": "067655d9-e318-4819-ca1a-0ecba043a9b0"
      },
      "execution_count": 87,
      "outputs": [
        {
          "output_type": "stream",
          "name": "stdout",
          "text": [
            "Beautiful and very versatile dress. extremely forgiving for post baby bodies, while stylish and classy.\n",
            "True\n"
          ]
        }
      ]
    }
  ],
  "metadata": {
    "kernelspec": {
      "display_name": "Python 3",
      "language": "python",
      "name": "python3"
    },
    "language_info": {
      "codemirror_mode": {
        "name": "ipython",
        "version": 3
      },
      "file_extension": ".py",
      "mimetype": "text/x-python",
      "name": "python",
      "nbconvert_exporter": "python",
      "pygments_lexer": "ipython3",
      "version": "3.8.5"
    },
    "colab": {
      "name": "여성 의류 쇼핑몰 리뷰 텍스트 분석.ipynb",
      "provenance": []
    },
    "accelerator": "GPU",
    "widgets": {
      "application/vnd.jupyter.widget-state+json": {
        "2f58dd9371e84fc99d3301c5a82d3ff6": {
          "model_module": "@jupyter-widgets/controls",
          "model_name": "HBoxModel",
          "model_module_version": "1.5.0",
          "state": {
            "_view_name": "HBoxView",
            "_dom_classes": [],
            "_model_name": "HBoxModel",
            "_view_module": "@jupyter-widgets/controls",
            "_model_module_version": "1.5.0",
            "_view_count": null,
            "_view_module_version": "1.5.0",
            "box_style": "",
            "layout": "IPY_MODEL_9d65c0012a87446ca7776d41009a3782",
            "_model_module": "@jupyter-widgets/controls",
            "children": [
              "IPY_MODEL_1bd0676ac1364441b8ef5256db32a444",
              "IPY_MODEL_d2e1a4847f154734b1e037f8e8a676f3",
              "IPY_MODEL_75bff6616e954d12924d8bbd63ba479f"
            ]
          }
        },
        "9d65c0012a87446ca7776d41009a3782": {
          "model_module": "@jupyter-widgets/base",
          "model_name": "LayoutModel",
          "model_module_version": "1.2.0",
          "state": {
            "_view_name": "LayoutView",
            "grid_template_rows": null,
            "right": null,
            "justify_content": null,
            "_view_module": "@jupyter-widgets/base",
            "overflow": null,
            "_model_module_version": "1.2.0",
            "_view_count": null,
            "flex_flow": null,
            "width": null,
            "min_width": null,
            "border": null,
            "align_items": null,
            "bottom": null,
            "_model_module": "@jupyter-widgets/base",
            "top": null,
            "grid_column": null,
            "overflow_y": null,
            "overflow_x": null,
            "grid_auto_flow": null,
            "grid_area": null,
            "grid_template_columns": null,
            "flex": null,
            "_model_name": "LayoutModel",
            "justify_items": null,
            "grid_row": null,
            "max_height": null,
            "align_content": null,
            "visibility": null,
            "align_self": null,
            "height": null,
            "min_height": null,
            "padding": null,
            "grid_auto_rows": null,
            "grid_gap": null,
            "max_width": null,
            "order": null,
            "_view_module_version": "1.2.0",
            "grid_template_areas": null,
            "object_position": null,
            "object_fit": null,
            "grid_auto_columns": null,
            "margin": null,
            "display": null,
            "left": null
          }
        },
        "1bd0676ac1364441b8ef5256db32a444": {
          "model_module": "@jupyter-widgets/controls",
          "model_name": "HTMLModel",
          "model_module_version": "1.5.0",
          "state": {
            "_view_name": "HTMLView",
            "style": "IPY_MODEL_e451a593047040fdae4ccb5abb0b0ca3",
            "_dom_classes": [],
            "description": "",
            "_model_name": "HTMLModel",
            "placeholder": "​",
            "_view_module": "@jupyter-widgets/controls",
            "_model_module_version": "1.5.0",
            "value": "Downloading: 100%",
            "_view_count": null,
            "_view_module_version": "1.5.0",
            "description_tooltip": null,
            "_model_module": "@jupyter-widgets/controls",
            "layout": "IPY_MODEL_2fdd1dca41ff4d30b0c22f27dde514ac"
          }
        },
        "d2e1a4847f154734b1e037f8e8a676f3": {
          "model_module": "@jupyter-widgets/controls",
          "model_name": "FloatProgressModel",
          "model_module_version": "1.5.0",
          "state": {
            "_view_name": "ProgressView",
            "style": "IPY_MODEL_c446f8d0bf114aab8ff8d0dd2c238834",
            "_dom_classes": [],
            "description": "",
            "_model_name": "FloatProgressModel",
            "bar_style": "success",
            "max": 29,
            "_view_module": "@jupyter-widgets/controls",
            "_model_module_version": "1.5.0",
            "value": 29,
            "_view_count": null,
            "_view_module_version": "1.5.0",
            "orientation": "horizontal",
            "min": 0,
            "description_tooltip": null,
            "_model_module": "@jupyter-widgets/controls",
            "layout": "IPY_MODEL_9591175b89404e74a3acb4cfeaf1b02a"
          }
        },
        "75bff6616e954d12924d8bbd63ba479f": {
          "model_module": "@jupyter-widgets/controls",
          "model_name": "HTMLModel",
          "model_module_version": "1.5.0",
          "state": {
            "_view_name": "HTMLView",
            "style": "IPY_MODEL_10b13e75dee042049154e3104c0b1c0e",
            "_dom_classes": [],
            "description": "",
            "_model_name": "HTMLModel",
            "placeholder": "​",
            "_view_module": "@jupyter-widgets/controls",
            "_model_module_version": "1.5.0",
            "value": " 29.0/29.0 [00:00&lt;00:00, 299B/s]",
            "_view_count": null,
            "_view_module_version": "1.5.0",
            "description_tooltip": null,
            "_model_module": "@jupyter-widgets/controls",
            "layout": "IPY_MODEL_40fd93a72a25400d978dd781de209321"
          }
        },
        "e451a593047040fdae4ccb5abb0b0ca3": {
          "model_module": "@jupyter-widgets/controls",
          "model_name": "DescriptionStyleModel",
          "model_module_version": "1.5.0",
          "state": {
            "_view_name": "StyleView",
            "_model_name": "DescriptionStyleModel",
            "description_width": "",
            "_view_module": "@jupyter-widgets/base",
            "_model_module_version": "1.5.0",
            "_view_count": null,
            "_view_module_version": "1.2.0",
            "_model_module": "@jupyter-widgets/controls"
          }
        },
        "2fdd1dca41ff4d30b0c22f27dde514ac": {
          "model_module": "@jupyter-widgets/base",
          "model_name": "LayoutModel",
          "model_module_version": "1.2.0",
          "state": {
            "_view_name": "LayoutView",
            "grid_template_rows": null,
            "right": null,
            "justify_content": null,
            "_view_module": "@jupyter-widgets/base",
            "overflow": null,
            "_model_module_version": "1.2.0",
            "_view_count": null,
            "flex_flow": null,
            "width": null,
            "min_width": null,
            "border": null,
            "align_items": null,
            "bottom": null,
            "_model_module": "@jupyter-widgets/base",
            "top": null,
            "grid_column": null,
            "overflow_y": null,
            "overflow_x": null,
            "grid_auto_flow": null,
            "grid_area": null,
            "grid_template_columns": null,
            "flex": null,
            "_model_name": "LayoutModel",
            "justify_items": null,
            "grid_row": null,
            "max_height": null,
            "align_content": null,
            "visibility": null,
            "align_self": null,
            "height": null,
            "min_height": null,
            "padding": null,
            "grid_auto_rows": null,
            "grid_gap": null,
            "max_width": null,
            "order": null,
            "_view_module_version": "1.2.0",
            "grid_template_areas": null,
            "object_position": null,
            "object_fit": null,
            "grid_auto_columns": null,
            "margin": null,
            "display": null,
            "left": null
          }
        },
        "c446f8d0bf114aab8ff8d0dd2c238834": {
          "model_module": "@jupyter-widgets/controls",
          "model_name": "ProgressStyleModel",
          "model_module_version": "1.5.0",
          "state": {
            "_view_name": "StyleView",
            "_model_name": "ProgressStyleModel",
            "description_width": "",
            "_view_module": "@jupyter-widgets/base",
            "_model_module_version": "1.5.0",
            "_view_count": null,
            "_view_module_version": "1.2.0",
            "bar_color": null,
            "_model_module": "@jupyter-widgets/controls"
          }
        },
        "9591175b89404e74a3acb4cfeaf1b02a": {
          "model_module": "@jupyter-widgets/base",
          "model_name": "LayoutModel",
          "model_module_version": "1.2.0",
          "state": {
            "_view_name": "LayoutView",
            "grid_template_rows": null,
            "right": null,
            "justify_content": null,
            "_view_module": "@jupyter-widgets/base",
            "overflow": null,
            "_model_module_version": "1.2.0",
            "_view_count": null,
            "flex_flow": null,
            "width": null,
            "min_width": null,
            "border": null,
            "align_items": null,
            "bottom": null,
            "_model_module": "@jupyter-widgets/base",
            "top": null,
            "grid_column": null,
            "overflow_y": null,
            "overflow_x": null,
            "grid_auto_flow": null,
            "grid_area": null,
            "grid_template_columns": null,
            "flex": null,
            "_model_name": "LayoutModel",
            "justify_items": null,
            "grid_row": null,
            "max_height": null,
            "align_content": null,
            "visibility": null,
            "align_self": null,
            "height": null,
            "min_height": null,
            "padding": null,
            "grid_auto_rows": null,
            "grid_gap": null,
            "max_width": null,
            "order": null,
            "_view_module_version": "1.2.0",
            "grid_template_areas": null,
            "object_position": null,
            "object_fit": null,
            "grid_auto_columns": null,
            "margin": null,
            "display": null,
            "left": null
          }
        },
        "10b13e75dee042049154e3104c0b1c0e": {
          "model_module": "@jupyter-widgets/controls",
          "model_name": "DescriptionStyleModel",
          "model_module_version": "1.5.0",
          "state": {
            "_view_name": "StyleView",
            "_model_name": "DescriptionStyleModel",
            "description_width": "",
            "_view_module": "@jupyter-widgets/base",
            "_model_module_version": "1.5.0",
            "_view_count": null,
            "_view_module_version": "1.2.0",
            "_model_module": "@jupyter-widgets/controls"
          }
        },
        "40fd93a72a25400d978dd781de209321": {
          "model_module": "@jupyter-widgets/base",
          "model_name": "LayoutModel",
          "model_module_version": "1.2.0",
          "state": {
            "_view_name": "LayoutView",
            "grid_template_rows": null,
            "right": null,
            "justify_content": null,
            "_view_module": "@jupyter-widgets/base",
            "overflow": null,
            "_model_module_version": "1.2.0",
            "_view_count": null,
            "flex_flow": null,
            "width": null,
            "min_width": null,
            "border": null,
            "align_items": null,
            "bottom": null,
            "_model_module": "@jupyter-widgets/base",
            "top": null,
            "grid_column": null,
            "overflow_y": null,
            "overflow_x": null,
            "grid_auto_flow": null,
            "grid_area": null,
            "grid_template_columns": null,
            "flex": null,
            "_model_name": "LayoutModel",
            "justify_items": null,
            "grid_row": null,
            "max_height": null,
            "align_content": null,
            "visibility": null,
            "align_self": null,
            "height": null,
            "min_height": null,
            "padding": null,
            "grid_auto_rows": null,
            "grid_gap": null,
            "max_width": null,
            "order": null,
            "_view_module_version": "1.2.0",
            "grid_template_areas": null,
            "object_position": null,
            "object_fit": null,
            "grid_auto_columns": null,
            "margin": null,
            "display": null,
            "left": null
          }
        },
        "b7efc104e9c94559a27c2c60a611fbcb": {
          "model_module": "@jupyter-widgets/controls",
          "model_name": "HBoxModel",
          "model_module_version": "1.5.0",
          "state": {
            "_view_name": "HBoxView",
            "_dom_classes": [],
            "_model_name": "HBoxModel",
            "_view_module": "@jupyter-widgets/controls",
            "_model_module_version": "1.5.0",
            "_view_count": null,
            "_view_module_version": "1.5.0",
            "box_style": "",
            "layout": "IPY_MODEL_8501605043184c559607deacb5b4d5f7",
            "_model_module": "@jupyter-widgets/controls",
            "children": [
              "IPY_MODEL_6e8e31ed74b045d391642cfb24f499e7",
              "IPY_MODEL_a473173f96b74a4facee8c021988b6a6",
              "IPY_MODEL_8907bcd0d3e04faf99c3a9cfdb6bc4b9"
            ]
          }
        },
        "8501605043184c559607deacb5b4d5f7": {
          "model_module": "@jupyter-widgets/base",
          "model_name": "LayoutModel",
          "model_module_version": "1.2.0",
          "state": {
            "_view_name": "LayoutView",
            "grid_template_rows": null,
            "right": null,
            "justify_content": null,
            "_view_module": "@jupyter-widgets/base",
            "overflow": null,
            "_model_module_version": "1.2.0",
            "_view_count": null,
            "flex_flow": null,
            "width": null,
            "min_width": null,
            "border": null,
            "align_items": null,
            "bottom": null,
            "_model_module": "@jupyter-widgets/base",
            "top": null,
            "grid_column": null,
            "overflow_y": null,
            "overflow_x": null,
            "grid_auto_flow": null,
            "grid_area": null,
            "grid_template_columns": null,
            "flex": null,
            "_model_name": "LayoutModel",
            "justify_items": null,
            "grid_row": null,
            "max_height": null,
            "align_content": null,
            "visibility": null,
            "align_self": null,
            "height": null,
            "min_height": null,
            "padding": null,
            "grid_auto_rows": null,
            "grid_gap": null,
            "max_width": null,
            "order": null,
            "_view_module_version": "1.2.0",
            "grid_template_areas": null,
            "object_position": null,
            "object_fit": null,
            "grid_auto_columns": null,
            "margin": null,
            "display": null,
            "left": null
          }
        },
        "6e8e31ed74b045d391642cfb24f499e7": {
          "model_module": "@jupyter-widgets/controls",
          "model_name": "HTMLModel",
          "model_module_version": "1.5.0",
          "state": {
            "_view_name": "HTMLView",
            "style": "IPY_MODEL_f26555a0436d4cd0b36e8ec1a500ed0d",
            "_dom_classes": [],
            "description": "",
            "_model_name": "HTMLModel",
            "placeholder": "​",
            "_view_module": "@jupyter-widgets/controls",
            "_model_module_version": "1.5.0",
            "value": "Downloading: 100%",
            "_view_count": null,
            "_view_module_version": "1.5.0",
            "description_tooltip": null,
            "_model_module": "@jupyter-widgets/controls",
            "layout": "IPY_MODEL_571a880214864962a397f3f1ade515b7"
          }
        },
        "a473173f96b74a4facee8c021988b6a6": {
          "model_module": "@jupyter-widgets/controls",
          "model_name": "FloatProgressModel",
          "model_module_version": "1.5.0",
          "state": {
            "_view_name": "ProgressView",
            "style": "IPY_MODEL_c62d153fc1f74391b4370e2c754677db",
            "_dom_classes": [],
            "description": "",
            "_model_name": "FloatProgressModel",
            "bar_style": "success",
            "max": 625,
            "_view_module": "@jupyter-widgets/controls",
            "_model_module_version": "1.5.0",
            "value": 625,
            "_view_count": null,
            "_view_module_version": "1.5.0",
            "orientation": "horizontal",
            "min": 0,
            "description_tooltip": null,
            "_model_module": "@jupyter-widgets/controls",
            "layout": "IPY_MODEL_460cc3a6c67e446ab3b931cae9414779"
          }
        },
        "8907bcd0d3e04faf99c3a9cfdb6bc4b9": {
          "model_module": "@jupyter-widgets/controls",
          "model_name": "HTMLModel",
          "model_module_version": "1.5.0",
          "state": {
            "_view_name": "HTMLView",
            "style": "IPY_MODEL_3f553169f5ab4196b5fe2be28b8ef13a",
            "_dom_classes": [],
            "description": "",
            "_model_name": "HTMLModel",
            "placeholder": "​",
            "_view_module": "@jupyter-widgets/controls",
            "_model_module_version": "1.5.0",
            "value": " 625/625 [00:00&lt;00:00, 6.99kB/s]",
            "_view_count": null,
            "_view_module_version": "1.5.0",
            "description_tooltip": null,
            "_model_module": "@jupyter-widgets/controls",
            "layout": "IPY_MODEL_cd8fd3c927e54dc992095fb8bd7d2ca9"
          }
        },
        "f26555a0436d4cd0b36e8ec1a500ed0d": {
          "model_module": "@jupyter-widgets/controls",
          "model_name": "DescriptionStyleModel",
          "model_module_version": "1.5.0",
          "state": {
            "_view_name": "StyleView",
            "_model_name": "DescriptionStyleModel",
            "description_width": "",
            "_view_module": "@jupyter-widgets/base",
            "_model_module_version": "1.5.0",
            "_view_count": null,
            "_view_module_version": "1.2.0",
            "_model_module": "@jupyter-widgets/controls"
          }
        },
        "571a880214864962a397f3f1ade515b7": {
          "model_module": "@jupyter-widgets/base",
          "model_name": "LayoutModel",
          "model_module_version": "1.2.0",
          "state": {
            "_view_name": "LayoutView",
            "grid_template_rows": null,
            "right": null,
            "justify_content": null,
            "_view_module": "@jupyter-widgets/base",
            "overflow": null,
            "_model_module_version": "1.2.0",
            "_view_count": null,
            "flex_flow": null,
            "width": null,
            "min_width": null,
            "border": null,
            "align_items": null,
            "bottom": null,
            "_model_module": "@jupyter-widgets/base",
            "top": null,
            "grid_column": null,
            "overflow_y": null,
            "overflow_x": null,
            "grid_auto_flow": null,
            "grid_area": null,
            "grid_template_columns": null,
            "flex": null,
            "_model_name": "LayoutModel",
            "justify_items": null,
            "grid_row": null,
            "max_height": null,
            "align_content": null,
            "visibility": null,
            "align_self": null,
            "height": null,
            "min_height": null,
            "padding": null,
            "grid_auto_rows": null,
            "grid_gap": null,
            "max_width": null,
            "order": null,
            "_view_module_version": "1.2.0",
            "grid_template_areas": null,
            "object_position": null,
            "object_fit": null,
            "grid_auto_columns": null,
            "margin": null,
            "display": null,
            "left": null
          }
        },
        "c62d153fc1f74391b4370e2c754677db": {
          "model_module": "@jupyter-widgets/controls",
          "model_name": "ProgressStyleModel",
          "model_module_version": "1.5.0",
          "state": {
            "_view_name": "StyleView",
            "_model_name": "ProgressStyleModel",
            "description_width": "",
            "_view_module": "@jupyter-widgets/base",
            "_model_module_version": "1.5.0",
            "_view_count": null,
            "_view_module_version": "1.2.0",
            "bar_color": null,
            "_model_module": "@jupyter-widgets/controls"
          }
        },
        "460cc3a6c67e446ab3b931cae9414779": {
          "model_module": "@jupyter-widgets/base",
          "model_name": "LayoutModel",
          "model_module_version": "1.2.0",
          "state": {
            "_view_name": "LayoutView",
            "grid_template_rows": null,
            "right": null,
            "justify_content": null,
            "_view_module": "@jupyter-widgets/base",
            "overflow": null,
            "_model_module_version": "1.2.0",
            "_view_count": null,
            "flex_flow": null,
            "width": null,
            "min_width": null,
            "border": null,
            "align_items": null,
            "bottom": null,
            "_model_module": "@jupyter-widgets/base",
            "top": null,
            "grid_column": null,
            "overflow_y": null,
            "overflow_x": null,
            "grid_auto_flow": null,
            "grid_area": null,
            "grid_template_columns": null,
            "flex": null,
            "_model_name": "LayoutModel",
            "justify_items": null,
            "grid_row": null,
            "max_height": null,
            "align_content": null,
            "visibility": null,
            "align_self": null,
            "height": null,
            "min_height": null,
            "padding": null,
            "grid_auto_rows": null,
            "grid_gap": null,
            "max_width": null,
            "order": null,
            "_view_module_version": "1.2.0",
            "grid_template_areas": null,
            "object_position": null,
            "object_fit": null,
            "grid_auto_columns": null,
            "margin": null,
            "display": null,
            "left": null
          }
        },
        "3f553169f5ab4196b5fe2be28b8ef13a": {
          "model_module": "@jupyter-widgets/controls",
          "model_name": "DescriptionStyleModel",
          "model_module_version": "1.5.0",
          "state": {
            "_view_name": "StyleView",
            "_model_name": "DescriptionStyleModel",
            "description_width": "",
            "_view_module": "@jupyter-widgets/base",
            "_model_module_version": "1.5.0",
            "_view_count": null,
            "_view_module_version": "1.2.0",
            "_model_module": "@jupyter-widgets/controls"
          }
        },
        "cd8fd3c927e54dc992095fb8bd7d2ca9": {
          "model_module": "@jupyter-widgets/base",
          "model_name": "LayoutModel",
          "model_module_version": "1.2.0",
          "state": {
            "_view_name": "LayoutView",
            "grid_template_rows": null,
            "right": null,
            "justify_content": null,
            "_view_module": "@jupyter-widgets/base",
            "overflow": null,
            "_model_module_version": "1.2.0",
            "_view_count": null,
            "flex_flow": null,
            "width": null,
            "min_width": null,
            "border": null,
            "align_items": null,
            "bottom": null,
            "_model_module": "@jupyter-widgets/base",
            "top": null,
            "grid_column": null,
            "overflow_y": null,
            "overflow_x": null,
            "grid_auto_flow": null,
            "grid_area": null,
            "grid_template_columns": null,
            "flex": null,
            "_model_name": "LayoutModel",
            "justify_items": null,
            "grid_row": null,
            "max_height": null,
            "align_content": null,
            "visibility": null,
            "align_self": null,
            "height": null,
            "min_height": null,
            "padding": null,
            "grid_auto_rows": null,
            "grid_gap": null,
            "max_width": null,
            "order": null,
            "_view_module_version": "1.2.0",
            "grid_template_areas": null,
            "object_position": null,
            "object_fit": null,
            "grid_auto_columns": null,
            "margin": null,
            "display": null,
            "left": null
          }
        },
        "28bae64a0ea64f5e90931fd5c47503c2": {
          "model_module": "@jupyter-widgets/controls",
          "model_name": "HBoxModel",
          "model_module_version": "1.5.0",
          "state": {
            "_view_name": "HBoxView",
            "_dom_classes": [],
            "_model_name": "HBoxModel",
            "_view_module": "@jupyter-widgets/controls",
            "_model_module_version": "1.5.0",
            "_view_count": null,
            "_view_module_version": "1.5.0",
            "box_style": "",
            "layout": "IPY_MODEL_22dc7589a10246d6a3a4658e2629c492",
            "_model_module": "@jupyter-widgets/controls",
            "children": [
              "IPY_MODEL_542a237f8d744aabb6fb70abc18a9045",
              "IPY_MODEL_048c2725ff41443da0683d89f7005379",
              "IPY_MODEL_b57204d3649c47c99240c0f0aa6e63e9"
            ]
          }
        },
        "22dc7589a10246d6a3a4658e2629c492": {
          "model_module": "@jupyter-widgets/base",
          "model_name": "LayoutModel",
          "model_module_version": "1.2.0",
          "state": {
            "_view_name": "LayoutView",
            "grid_template_rows": null,
            "right": null,
            "justify_content": null,
            "_view_module": "@jupyter-widgets/base",
            "overflow": null,
            "_model_module_version": "1.2.0",
            "_view_count": null,
            "flex_flow": null,
            "width": null,
            "min_width": null,
            "border": null,
            "align_items": null,
            "bottom": null,
            "_model_module": "@jupyter-widgets/base",
            "top": null,
            "grid_column": null,
            "overflow_y": null,
            "overflow_x": null,
            "grid_auto_flow": null,
            "grid_area": null,
            "grid_template_columns": null,
            "flex": null,
            "_model_name": "LayoutModel",
            "justify_items": null,
            "grid_row": null,
            "max_height": null,
            "align_content": null,
            "visibility": null,
            "align_self": null,
            "height": null,
            "min_height": null,
            "padding": null,
            "grid_auto_rows": null,
            "grid_gap": null,
            "max_width": null,
            "order": null,
            "_view_module_version": "1.2.0",
            "grid_template_areas": null,
            "object_position": null,
            "object_fit": null,
            "grid_auto_columns": null,
            "margin": null,
            "display": null,
            "left": null
          }
        },
        "542a237f8d744aabb6fb70abc18a9045": {
          "model_module": "@jupyter-widgets/controls",
          "model_name": "HTMLModel",
          "model_module_version": "1.5.0",
          "state": {
            "_view_name": "HTMLView",
            "style": "IPY_MODEL_1d6f6057284c441097b6438a0dc029fd",
            "_dom_classes": [],
            "description": "",
            "_model_name": "HTMLModel",
            "placeholder": "​",
            "_view_module": "@jupyter-widgets/controls",
            "_model_module_version": "1.5.0",
            "value": "Downloading: 100%",
            "_view_count": null,
            "_view_module_version": "1.5.0",
            "description_tooltip": null,
            "_model_module": "@jupyter-widgets/controls",
            "layout": "IPY_MODEL_09b01d7e77284a8f913ad131c0b89a93"
          }
        },
        "048c2725ff41443da0683d89f7005379": {
          "model_module": "@jupyter-widgets/controls",
          "model_name": "FloatProgressModel",
          "model_module_version": "1.5.0",
          "state": {
            "_view_name": "ProgressView",
            "style": "IPY_MODEL_592941880dda44ceb93747b0516d1e0b",
            "_dom_classes": [],
            "description": "",
            "_model_name": "FloatProgressModel",
            "bar_style": "success",
            "max": 995526,
            "_view_module": "@jupyter-widgets/controls",
            "_model_module_version": "1.5.0",
            "value": 995526,
            "_view_count": null,
            "_view_module_version": "1.5.0",
            "orientation": "horizontal",
            "min": 0,
            "description_tooltip": null,
            "_model_module": "@jupyter-widgets/controls",
            "layout": "IPY_MODEL_18a462d5d8f94cb19ba3d2598acf7306"
          }
        },
        "b57204d3649c47c99240c0f0aa6e63e9": {
          "model_module": "@jupyter-widgets/controls",
          "model_name": "HTMLModel",
          "model_module_version": "1.5.0",
          "state": {
            "_view_name": "HTMLView",
            "style": "IPY_MODEL_e8a7436321a04d8e823006c10c4d9375",
            "_dom_classes": [],
            "description": "",
            "_model_name": "HTMLModel",
            "placeholder": "​",
            "_view_module": "@jupyter-widgets/controls",
            "_model_module_version": "1.5.0",
            "value": " 972k/972k [00:00&lt;00:00, 1.55MB/s]",
            "_view_count": null,
            "_view_module_version": "1.5.0",
            "description_tooltip": null,
            "_model_module": "@jupyter-widgets/controls",
            "layout": "IPY_MODEL_7e090ef3d62448e792d20a965990989f"
          }
        },
        "1d6f6057284c441097b6438a0dc029fd": {
          "model_module": "@jupyter-widgets/controls",
          "model_name": "DescriptionStyleModel",
          "model_module_version": "1.5.0",
          "state": {
            "_view_name": "StyleView",
            "_model_name": "DescriptionStyleModel",
            "description_width": "",
            "_view_module": "@jupyter-widgets/base",
            "_model_module_version": "1.5.0",
            "_view_count": null,
            "_view_module_version": "1.2.0",
            "_model_module": "@jupyter-widgets/controls"
          }
        },
        "09b01d7e77284a8f913ad131c0b89a93": {
          "model_module": "@jupyter-widgets/base",
          "model_name": "LayoutModel",
          "model_module_version": "1.2.0",
          "state": {
            "_view_name": "LayoutView",
            "grid_template_rows": null,
            "right": null,
            "justify_content": null,
            "_view_module": "@jupyter-widgets/base",
            "overflow": null,
            "_model_module_version": "1.2.0",
            "_view_count": null,
            "flex_flow": null,
            "width": null,
            "min_width": null,
            "border": null,
            "align_items": null,
            "bottom": null,
            "_model_module": "@jupyter-widgets/base",
            "top": null,
            "grid_column": null,
            "overflow_y": null,
            "overflow_x": null,
            "grid_auto_flow": null,
            "grid_area": null,
            "grid_template_columns": null,
            "flex": null,
            "_model_name": "LayoutModel",
            "justify_items": null,
            "grid_row": null,
            "max_height": null,
            "align_content": null,
            "visibility": null,
            "align_self": null,
            "height": null,
            "min_height": null,
            "padding": null,
            "grid_auto_rows": null,
            "grid_gap": null,
            "max_width": null,
            "order": null,
            "_view_module_version": "1.2.0",
            "grid_template_areas": null,
            "object_position": null,
            "object_fit": null,
            "grid_auto_columns": null,
            "margin": null,
            "display": null,
            "left": null
          }
        },
        "592941880dda44ceb93747b0516d1e0b": {
          "model_module": "@jupyter-widgets/controls",
          "model_name": "ProgressStyleModel",
          "model_module_version": "1.5.0",
          "state": {
            "_view_name": "StyleView",
            "_model_name": "ProgressStyleModel",
            "description_width": "",
            "_view_module": "@jupyter-widgets/base",
            "_model_module_version": "1.5.0",
            "_view_count": null,
            "_view_module_version": "1.2.0",
            "bar_color": null,
            "_model_module": "@jupyter-widgets/controls"
          }
        },
        "18a462d5d8f94cb19ba3d2598acf7306": {
          "model_module": "@jupyter-widgets/base",
          "model_name": "LayoutModel",
          "model_module_version": "1.2.0",
          "state": {
            "_view_name": "LayoutView",
            "grid_template_rows": null,
            "right": null,
            "justify_content": null,
            "_view_module": "@jupyter-widgets/base",
            "overflow": null,
            "_model_module_version": "1.2.0",
            "_view_count": null,
            "flex_flow": null,
            "width": null,
            "min_width": null,
            "border": null,
            "align_items": null,
            "bottom": null,
            "_model_module": "@jupyter-widgets/base",
            "top": null,
            "grid_column": null,
            "overflow_y": null,
            "overflow_x": null,
            "grid_auto_flow": null,
            "grid_area": null,
            "grid_template_columns": null,
            "flex": null,
            "_model_name": "LayoutModel",
            "justify_items": null,
            "grid_row": null,
            "max_height": null,
            "align_content": null,
            "visibility": null,
            "align_self": null,
            "height": null,
            "min_height": null,
            "padding": null,
            "grid_auto_rows": null,
            "grid_gap": null,
            "max_width": null,
            "order": null,
            "_view_module_version": "1.2.0",
            "grid_template_areas": null,
            "object_position": null,
            "object_fit": null,
            "grid_auto_columns": null,
            "margin": null,
            "display": null,
            "left": null
          }
        },
        "e8a7436321a04d8e823006c10c4d9375": {
          "model_module": "@jupyter-widgets/controls",
          "model_name": "DescriptionStyleModel",
          "model_module_version": "1.5.0",
          "state": {
            "_view_name": "StyleView",
            "_model_name": "DescriptionStyleModel",
            "description_width": "",
            "_view_module": "@jupyter-widgets/base",
            "_model_module_version": "1.5.0",
            "_view_count": null,
            "_view_module_version": "1.2.0",
            "_model_module": "@jupyter-widgets/controls"
          }
        },
        "7e090ef3d62448e792d20a965990989f": {
          "model_module": "@jupyter-widgets/base",
          "model_name": "LayoutModel",
          "model_module_version": "1.2.0",
          "state": {
            "_view_name": "LayoutView",
            "grid_template_rows": null,
            "right": null,
            "justify_content": null,
            "_view_module": "@jupyter-widgets/base",
            "overflow": null,
            "_model_module_version": "1.2.0",
            "_view_count": null,
            "flex_flow": null,
            "width": null,
            "min_width": null,
            "border": null,
            "align_items": null,
            "bottom": null,
            "_model_module": "@jupyter-widgets/base",
            "top": null,
            "grid_column": null,
            "overflow_y": null,
            "overflow_x": null,
            "grid_auto_flow": null,
            "grid_area": null,
            "grid_template_columns": null,
            "flex": null,
            "_model_name": "LayoutModel",
            "justify_items": null,
            "grid_row": null,
            "max_height": null,
            "align_content": null,
            "visibility": null,
            "align_self": null,
            "height": null,
            "min_height": null,
            "padding": null,
            "grid_auto_rows": null,
            "grid_gap": null,
            "max_width": null,
            "order": null,
            "_view_module_version": "1.2.0",
            "grid_template_areas": null,
            "object_position": null,
            "object_fit": null,
            "grid_auto_columns": null,
            "margin": null,
            "display": null,
            "left": null
          }
        },
        "e2f6bd6174064a48811d375858448148": {
          "model_module": "@jupyter-widgets/controls",
          "model_name": "HBoxModel",
          "model_module_version": "1.5.0",
          "state": {
            "_view_name": "HBoxView",
            "_dom_classes": [],
            "_model_name": "HBoxModel",
            "_view_module": "@jupyter-widgets/controls",
            "_model_module_version": "1.5.0",
            "_view_count": null,
            "_view_module_version": "1.5.0",
            "box_style": "",
            "layout": "IPY_MODEL_595d235607ed4b108ac5b375ba697074",
            "_model_module": "@jupyter-widgets/controls",
            "children": [
              "IPY_MODEL_7c5f7f8ed691456597091620544b9c40",
              "IPY_MODEL_54ae80773fd04ec28d7f80589d4cd520",
              "IPY_MODEL_5139b853affc4958a6f8dcea6aec38d6"
            ]
          }
        },
        "595d235607ed4b108ac5b375ba697074": {
          "model_module": "@jupyter-widgets/base",
          "model_name": "LayoutModel",
          "model_module_version": "1.2.0",
          "state": {
            "_view_name": "LayoutView",
            "grid_template_rows": null,
            "right": null,
            "justify_content": null,
            "_view_module": "@jupyter-widgets/base",
            "overflow": null,
            "_model_module_version": "1.2.0",
            "_view_count": null,
            "flex_flow": null,
            "width": null,
            "min_width": null,
            "border": null,
            "align_items": null,
            "bottom": null,
            "_model_module": "@jupyter-widgets/base",
            "top": null,
            "grid_column": null,
            "overflow_y": null,
            "overflow_x": null,
            "grid_auto_flow": null,
            "grid_area": null,
            "grid_template_columns": null,
            "flex": null,
            "_model_name": "LayoutModel",
            "justify_items": null,
            "grid_row": null,
            "max_height": null,
            "align_content": null,
            "visibility": null,
            "align_self": null,
            "height": null,
            "min_height": null,
            "padding": null,
            "grid_auto_rows": null,
            "grid_gap": null,
            "max_width": null,
            "order": null,
            "_view_module_version": "1.2.0",
            "grid_template_areas": null,
            "object_position": null,
            "object_fit": null,
            "grid_auto_columns": null,
            "margin": null,
            "display": null,
            "left": null
          }
        },
        "7c5f7f8ed691456597091620544b9c40": {
          "model_module": "@jupyter-widgets/controls",
          "model_name": "HTMLModel",
          "model_module_version": "1.5.0",
          "state": {
            "_view_name": "HTMLView",
            "style": "IPY_MODEL_6ddc126960ea48518c0ad81e63ac49ff",
            "_dom_classes": [],
            "description": "",
            "_model_name": "HTMLModel",
            "placeholder": "​",
            "_view_module": "@jupyter-widgets/controls",
            "_model_module_version": "1.5.0",
            "value": "Downloading: 100%",
            "_view_count": null,
            "_view_module_version": "1.5.0",
            "description_tooltip": null,
            "_model_module": "@jupyter-widgets/controls",
            "layout": "IPY_MODEL_21b94030e9c7493aa9d98d4d8e0e9bf2"
          }
        },
        "54ae80773fd04ec28d7f80589d4cd520": {
          "model_module": "@jupyter-widgets/controls",
          "model_name": "FloatProgressModel",
          "model_module_version": "1.5.0",
          "state": {
            "_view_name": "ProgressView",
            "style": "IPY_MODEL_07f67bdf769241c5b92180847310d072",
            "_dom_classes": [],
            "description": "",
            "_model_name": "FloatProgressModel",
            "bar_style": "success",
            "max": 1961828,
            "_view_module": "@jupyter-widgets/controls",
            "_model_module_version": "1.5.0",
            "value": 1961828,
            "_view_count": null,
            "_view_module_version": "1.5.0",
            "orientation": "horizontal",
            "min": 0,
            "description_tooltip": null,
            "_model_module": "@jupyter-widgets/controls",
            "layout": "IPY_MODEL_f3493702f6fc43e3a58f722ed3351d0d"
          }
        },
        "5139b853affc4958a6f8dcea6aec38d6": {
          "model_module": "@jupyter-widgets/controls",
          "model_name": "HTMLModel",
          "model_module_version": "1.5.0",
          "state": {
            "_view_name": "HTMLView",
            "style": "IPY_MODEL_e99165c1b6304e96b73972e84b14eb34",
            "_dom_classes": [],
            "description": "",
            "_model_name": "HTMLModel",
            "placeholder": "​",
            "_view_module": "@jupyter-widgets/controls",
            "_model_module_version": "1.5.0",
            "value": " 1.87M/1.87M [00:00&lt;00:00, 9.46MB/s]",
            "_view_count": null,
            "_view_module_version": "1.5.0",
            "description_tooltip": null,
            "_model_module": "@jupyter-widgets/controls",
            "layout": "IPY_MODEL_71d4172f749e4af19a6007cb62187703"
          }
        },
        "6ddc126960ea48518c0ad81e63ac49ff": {
          "model_module": "@jupyter-widgets/controls",
          "model_name": "DescriptionStyleModel",
          "model_module_version": "1.5.0",
          "state": {
            "_view_name": "StyleView",
            "_model_name": "DescriptionStyleModel",
            "description_width": "",
            "_view_module": "@jupyter-widgets/base",
            "_model_module_version": "1.5.0",
            "_view_count": null,
            "_view_module_version": "1.2.0",
            "_model_module": "@jupyter-widgets/controls"
          }
        },
        "21b94030e9c7493aa9d98d4d8e0e9bf2": {
          "model_module": "@jupyter-widgets/base",
          "model_name": "LayoutModel",
          "model_module_version": "1.2.0",
          "state": {
            "_view_name": "LayoutView",
            "grid_template_rows": null,
            "right": null,
            "justify_content": null,
            "_view_module": "@jupyter-widgets/base",
            "overflow": null,
            "_model_module_version": "1.2.0",
            "_view_count": null,
            "flex_flow": null,
            "width": null,
            "min_width": null,
            "border": null,
            "align_items": null,
            "bottom": null,
            "_model_module": "@jupyter-widgets/base",
            "top": null,
            "grid_column": null,
            "overflow_y": null,
            "overflow_x": null,
            "grid_auto_flow": null,
            "grid_area": null,
            "grid_template_columns": null,
            "flex": null,
            "_model_name": "LayoutModel",
            "justify_items": null,
            "grid_row": null,
            "max_height": null,
            "align_content": null,
            "visibility": null,
            "align_self": null,
            "height": null,
            "min_height": null,
            "padding": null,
            "grid_auto_rows": null,
            "grid_gap": null,
            "max_width": null,
            "order": null,
            "_view_module_version": "1.2.0",
            "grid_template_areas": null,
            "object_position": null,
            "object_fit": null,
            "grid_auto_columns": null,
            "margin": null,
            "display": null,
            "left": null
          }
        },
        "07f67bdf769241c5b92180847310d072": {
          "model_module": "@jupyter-widgets/controls",
          "model_name": "ProgressStyleModel",
          "model_module_version": "1.5.0",
          "state": {
            "_view_name": "StyleView",
            "_model_name": "ProgressStyleModel",
            "description_width": "",
            "_view_module": "@jupyter-widgets/base",
            "_model_module_version": "1.5.0",
            "_view_count": null,
            "_view_module_version": "1.2.0",
            "bar_color": null,
            "_model_module": "@jupyter-widgets/controls"
          }
        },
        "f3493702f6fc43e3a58f722ed3351d0d": {
          "model_module": "@jupyter-widgets/base",
          "model_name": "LayoutModel",
          "model_module_version": "1.2.0",
          "state": {
            "_view_name": "LayoutView",
            "grid_template_rows": null,
            "right": null,
            "justify_content": null,
            "_view_module": "@jupyter-widgets/base",
            "overflow": null,
            "_model_module_version": "1.2.0",
            "_view_count": null,
            "flex_flow": null,
            "width": null,
            "min_width": null,
            "border": null,
            "align_items": null,
            "bottom": null,
            "_model_module": "@jupyter-widgets/base",
            "top": null,
            "grid_column": null,
            "overflow_y": null,
            "overflow_x": null,
            "grid_auto_flow": null,
            "grid_area": null,
            "grid_template_columns": null,
            "flex": null,
            "_model_name": "LayoutModel",
            "justify_items": null,
            "grid_row": null,
            "max_height": null,
            "align_content": null,
            "visibility": null,
            "align_self": null,
            "height": null,
            "min_height": null,
            "padding": null,
            "grid_auto_rows": null,
            "grid_gap": null,
            "max_width": null,
            "order": null,
            "_view_module_version": "1.2.0",
            "grid_template_areas": null,
            "object_position": null,
            "object_fit": null,
            "grid_auto_columns": null,
            "margin": null,
            "display": null,
            "left": null
          }
        },
        "e99165c1b6304e96b73972e84b14eb34": {
          "model_module": "@jupyter-widgets/controls",
          "model_name": "DescriptionStyleModel",
          "model_module_version": "1.5.0",
          "state": {
            "_view_name": "StyleView",
            "_model_name": "DescriptionStyleModel",
            "description_width": "",
            "_view_module": "@jupyter-widgets/base",
            "_model_module_version": "1.5.0",
            "_view_count": null,
            "_view_module_version": "1.2.0",
            "_model_module": "@jupyter-widgets/controls"
          }
        },
        "71d4172f749e4af19a6007cb62187703": {
          "model_module": "@jupyter-widgets/base",
          "model_name": "LayoutModel",
          "model_module_version": "1.2.0",
          "state": {
            "_view_name": "LayoutView",
            "grid_template_rows": null,
            "right": null,
            "justify_content": null,
            "_view_module": "@jupyter-widgets/base",
            "overflow": null,
            "_model_module_version": "1.2.0",
            "_view_count": null,
            "flex_flow": null,
            "width": null,
            "min_width": null,
            "border": null,
            "align_items": null,
            "bottom": null,
            "_model_module": "@jupyter-widgets/base",
            "top": null,
            "grid_column": null,
            "overflow_y": null,
            "overflow_x": null,
            "grid_auto_flow": null,
            "grid_area": null,
            "grid_template_columns": null,
            "flex": null,
            "_model_name": "LayoutModel",
            "justify_items": null,
            "grid_row": null,
            "max_height": null,
            "align_content": null,
            "visibility": null,
            "align_self": null,
            "height": null,
            "min_height": null,
            "padding": null,
            "grid_auto_rows": null,
            "grid_gap": null,
            "max_width": null,
            "order": null,
            "_view_module_version": "1.2.0",
            "grid_template_areas": null,
            "object_position": null,
            "object_fit": null,
            "grid_auto_columns": null,
            "margin": null,
            "display": null,
            "left": null
          }
        },
        "5c208296a9a749158ede8d89c9ce99c7": {
          "model_module": "@jupyter-widgets/controls",
          "model_name": "HBoxModel",
          "model_module_version": "1.5.0",
          "state": {
            "_view_name": "HBoxView",
            "_dom_classes": [],
            "_model_name": "HBoxModel",
            "_view_module": "@jupyter-widgets/controls",
            "_model_module_version": "1.5.0",
            "_view_count": null,
            "_view_module_version": "1.5.0",
            "box_style": "",
            "layout": "IPY_MODEL_16571d31ba224dd28f038ebfb55c6cd0",
            "_model_module": "@jupyter-widgets/controls",
            "children": [
              "IPY_MODEL_7b72828afe87435ab5111ef3fb44ce5b",
              "IPY_MODEL_da5a831607d44effabf11189d4c3671d",
              "IPY_MODEL_e8e50261fd004250b93a63cd94ef986b"
            ]
          }
        },
        "16571d31ba224dd28f038ebfb55c6cd0": {
          "model_module": "@jupyter-widgets/base",
          "model_name": "LayoutModel",
          "model_module_version": "1.2.0",
          "state": {
            "_view_name": "LayoutView",
            "grid_template_rows": null,
            "right": null,
            "justify_content": null,
            "_view_module": "@jupyter-widgets/base",
            "overflow": null,
            "_model_module_version": "1.2.0",
            "_view_count": null,
            "flex_flow": null,
            "width": null,
            "min_width": null,
            "border": null,
            "align_items": null,
            "bottom": null,
            "_model_module": "@jupyter-widgets/base",
            "top": null,
            "grid_column": null,
            "overflow_y": null,
            "overflow_x": null,
            "grid_auto_flow": null,
            "grid_area": null,
            "grid_template_columns": null,
            "flex": null,
            "_model_name": "LayoutModel",
            "justify_items": null,
            "grid_row": null,
            "max_height": null,
            "align_content": null,
            "visibility": null,
            "align_self": null,
            "height": null,
            "min_height": null,
            "padding": null,
            "grid_auto_rows": null,
            "grid_gap": null,
            "max_width": null,
            "order": null,
            "_view_module_version": "1.2.0",
            "grid_template_areas": null,
            "object_position": null,
            "object_fit": null,
            "grid_auto_columns": null,
            "margin": null,
            "display": null,
            "left": null
          }
        },
        "7b72828afe87435ab5111ef3fb44ce5b": {
          "model_module": "@jupyter-widgets/controls",
          "model_name": "HTMLModel",
          "model_module_version": "1.5.0",
          "state": {
            "_view_name": "HTMLView",
            "style": "IPY_MODEL_d6dc095b0ca34f968150db84d3f73a3e",
            "_dom_classes": [],
            "description": "",
            "_model_name": "HTMLModel",
            "placeholder": "​",
            "_view_module": "@jupyter-widgets/controls",
            "_model_module_version": "1.5.0",
            "value": "100%",
            "_view_count": null,
            "_view_module_version": "1.5.0",
            "description_tooltip": null,
            "_model_module": "@jupyter-widgets/controls",
            "layout": "IPY_MODEL_92c7535673d8425d902cc3cc0bac9ef5"
          }
        },
        "da5a831607d44effabf11189d4c3671d": {
          "model_module": "@jupyter-widgets/controls",
          "model_name": "FloatProgressModel",
          "model_module_version": "1.5.0",
          "state": {
            "_view_name": "ProgressView",
            "style": "IPY_MODEL_09d35031d5d74eb9bd3ce966e26b8fa0",
            "_dom_classes": [],
            "description": "",
            "_model_name": "FloatProgressModel",
            "bar_style": "success",
            "max": 17,
            "_view_module": "@jupyter-widgets/controls",
            "_model_module_version": "1.5.0",
            "value": 17,
            "_view_count": null,
            "_view_module_version": "1.5.0",
            "orientation": "horizontal",
            "min": 0,
            "description_tooltip": null,
            "_model_module": "@jupyter-widgets/controls",
            "layout": "IPY_MODEL_c3872efb42104ad4b411b79e6bce51f6"
          }
        },
        "e8e50261fd004250b93a63cd94ef986b": {
          "model_module": "@jupyter-widgets/controls",
          "model_name": "HTMLModel",
          "model_module_version": "1.5.0",
          "state": {
            "_view_name": "HTMLView",
            "style": "IPY_MODEL_9c123fba3eeb47f1aa7e35881fb8e3fd",
            "_dom_classes": [],
            "description": "",
            "_model_name": "HTMLModel",
            "placeholder": "​",
            "_view_module": "@jupyter-widgets/controls",
            "_model_module_version": "1.5.0",
            "value": " 17/17 [00:12&lt;00:00,  1.32ba/s]",
            "_view_count": null,
            "_view_module_version": "1.5.0",
            "description_tooltip": null,
            "_model_module": "@jupyter-widgets/controls",
            "layout": "IPY_MODEL_8ee6368d9cd44b9e963eb9b8ee7b62d0"
          }
        },
        "d6dc095b0ca34f968150db84d3f73a3e": {
          "model_module": "@jupyter-widgets/controls",
          "model_name": "DescriptionStyleModel",
          "model_module_version": "1.5.0",
          "state": {
            "_view_name": "StyleView",
            "_model_name": "DescriptionStyleModel",
            "description_width": "",
            "_view_module": "@jupyter-widgets/base",
            "_model_module_version": "1.5.0",
            "_view_count": null,
            "_view_module_version": "1.2.0",
            "_model_module": "@jupyter-widgets/controls"
          }
        },
        "92c7535673d8425d902cc3cc0bac9ef5": {
          "model_module": "@jupyter-widgets/base",
          "model_name": "LayoutModel",
          "model_module_version": "1.2.0",
          "state": {
            "_view_name": "LayoutView",
            "grid_template_rows": null,
            "right": null,
            "justify_content": null,
            "_view_module": "@jupyter-widgets/base",
            "overflow": null,
            "_model_module_version": "1.2.0",
            "_view_count": null,
            "flex_flow": null,
            "width": null,
            "min_width": null,
            "border": null,
            "align_items": null,
            "bottom": null,
            "_model_module": "@jupyter-widgets/base",
            "top": null,
            "grid_column": null,
            "overflow_y": null,
            "overflow_x": null,
            "grid_auto_flow": null,
            "grid_area": null,
            "grid_template_columns": null,
            "flex": null,
            "_model_name": "LayoutModel",
            "justify_items": null,
            "grid_row": null,
            "max_height": null,
            "align_content": null,
            "visibility": null,
            "align_self": null,
            "height": null,
            "min_height": null,
            "padding": null,
            "grid_auto_rows": null,
            "grid_gap": null,
            "max_width": null,
            "order": null,
            "_view_module_version": "1.2.0",
            "grid_template_areas": null,
            "object_position": null,
            "object_fit": null,
            "grid_auto_columns": null,
            "margin": null,
            "display": null,
            "left": null
          }
        },
        "09d35031d5d74eb9bd3ce966e26b8fa0": {
          "model_module": "@jupyter-widgets/controls",
          "model_name": "ProgressStyleModel",
          "model_module_version": "1.5.0",
          "state": {
            "_view_name": "StyleView",
            "_model_name": "ProgressStyleModel",
            "description_width": "",
            "_view_module": "@jupyter-widgets/base",
            "_model_module_version": "1.5.0",
            "_view_count": null,
            "_view_module_version": "1.2.0",
            "bar_color": null,
            "_model_module": "@jupyter-widgets/controls"
          }
        },
        "c3872efb42104ad4b411b79e6bce51f6": {
          "model_module": "@jupyter-widgets/base",
          "model_name": "LayoutModel",
          "model_module_version": "1.2.0",
          "state": {
            "_view_name": "LayoutView",
            "grid_template_rows": null,
            "right": null,
            "justify_content": null,
            "_view_module": "@jupyter-widgets/base",
            "overflow": null,
            "_model_module_version": "1.2.0",
            "_view_count": null,
            "flex_flow": null,
            "width": null,
            "min_width": null,
            "border": null,
            "align_items": null,
            "bottom": null,
            "_model_module": "@jupyter-widgets/base",
            "top": null,
            "grid_column": null,
            "overflow_y": null,
            "overflow_x": null,
            "grid_auto_flow": null,
            "grid_area": null,
            "grid_template_columns": null,
            "flex": null,
            "_model_name": "LayoutModel",
            "justify_items": null,
            "grid_row": null,
            "max_height": null,
            "align_content": null,
            "visibility": null,
            "align_self": null,
            "height": null,
            "min_height": null,
            "padding": null,
            "grid_auto_rows": null,
            "grid_gap": null,
            "max_width": null,
            "order": null,
            "_view_module_version": "1.2.0",
            "grid_template_areas": null,
            "object_position": null,
            "object_fit": null,
            "grid_auto_columns": null,
            "margin": null,
            "display": null,
            "left": null
          }
        },
        "9c123fba3eeb47f1aa7e35881fb8e3fd": {
          "model_module": "@jupyter-widgets/controls",
          "model_name": "DescriptionStyleModel",
          "model_module_version": "1.5.0",
          "state": {
            "_view_name": "StyleView",
            "_model_name": "DescriptionStyleModel",
            "description_width": "",
            "_view_module": "@jupyter-widgets/base",
            "_model_module_version": "1.5.0",
            "_view_count": null,
            "_view_module_version": "1.2.0",
            "_model_module": "@jupyter-widgets/controls"
          }
        },
        "8ee6368d9cd44b9e963eb9b8ee7b62d0": {
          "model_module": "@jupyter-widgets/base",
          "model_name": "LayoutModel",
          "model_module_version": "1.2.0",
          "state": {
            "_view_name": "LayoutView",
            "grid_template_rows": null,
            "right": null,
            "justify_content": null,
            "_view_module": "@jupyter-widgets/base",
            "overflow": null,
            "_model_module_version": "1.2.0",
            "_view_count": null,
            "flex_flow": null,
            "width": null,
            "min_width": null,
            "border": null,
            "align_items": null,
            "bottom": null,
            "_model_module": "@jupyter-widgets/base",
            "top": null,
            "grid_column": null,
            "overflow_y": null,
            "overflow_x": null,
            "grid_auto_flow": null,
            "grid_area": null,
            "grid_template_columns": null,
            "flex": null,
            "_model_name": "LayoutModel",
            "justify_items": null,
            "grid_row": null,
            "max_height": null,
            "align_content": null,
            "visibility": null,
            "align_self": null,
            "height": null,
            "min_height": null,
            "padding": null,
            "grid_auto_rows": null,
            "grid_gap": null,
            "max_width": null,
            "order": null,
            "_view_module_version": "1.2.0",
            "grid_template_areas": null,
            "object_position": null,
            "object_fit": null,
            "grid_auto_columns": null,
            "margin": null,
            "display": null,
            "left": null
          }
        },
        "30a635bff02847b7b7c15121e88e2818": {
          "model_module": "@jupyter-widgets/controls",
          "model_name": "HBoxModel",
          "model_module_version": "1.5.0",
          "state": {
            "_view_name": "HBoxView",
            "_dom_classes": [],
            "_model_name": "HBoxModel",
            "_view_module": "@jupyter-widgets/controls",
            "_model_module_version": "1.5.0",
            "_view_count": null,
            "_view_module_version": "1.5.0",
            "box_style": "",
            "layout": "IPY_MODEL_579e6c6a38c94e7686bc7880774b66f7",
            "_model_module": "@jupyter-widgets/controls",
            "children": [
              "IPY_MODEL_5f51e686cc1349888bed5853ff1b72b5",
              "IPY_MODEL_dee76eafe9b84332923ab9d5d5fa9013",
              "IPY_MODEL_eeae2fedd8d24313b2c1a7e6e8641e2b"
            ]
          }
        },
        "579e6c6a38c94e7686bc7880774b66f7": {
          "model_module": "@jupyter-widgets/base",
          "model_name": "LayoutModel",
          "model_module_version": "1.2.0",
          "state": {
            "_view_name": "LayoutView",
            "grid_template_rows": null,
            "right": null,
            "justify_content": null,
            "_view_module": "@jupyter-widgets/base",
            "overflow": null,
            "_model_module_version": "1.2.0",
            "_view_count": null,
            "flex_flow": null,
            "width": null,
            "min_width": null,
            "border": null,
            "align_items": null,
            "bottom": null,
            "_model_module": "@jupyter-widgets/base",
            "top": null,
            "grid_column": null,
            "overflow_y": null,
            "overflow_x": null,
            "grid_auto_flow": null,
            "grid_area": null,
            "grid_template_columns": null,
            "flex": null,
            "_model_name": "LayoutModel",
            "justify_items": null,
            "grid_row": null,
            "max_height": null,
            "align_content": null,
            "visibility": null,
            "align_self": null,
            "height": null,
            "min_height": null,
            "padding": null,
            "grid_auto_rows": null,
            "grid_gap": null,
            "max_width": null,
            "order": null,
            "_view_module_version": "1.2.0",
            "grid_template_areas": null,
            "object_position": null,
            "object_fit": null,
            "grid_auto_columns": null,
            "margin": null,
            "display": null,
            "left": null
          }
        },
        "5f51e686cc1349888bed5853ff1b72b5": {
          "model_module": "@jupyter-widgets/controls",
          "model_name": "HTMLModel",
          "model_module_version": "1.5.0",
          "state": {
            "_view_name": "HTMLView",
            "style": "IPY_MODEL_1336253e22594cbfb1c3c1e20121e304",
            "_dom_classes": [],
            "description": "",
            "_model_name": "HTMLModel",
            "placeholder": "​",
            "_view_module": "@jupyter-widgets/controls",
            "_model_module_version": "1.5.0",
            "value": "100%",
            "_view_count": null,
            "_view_module_version": "1.5.0",
            "description_tooltip": null,
            "_model_module": "@jupyter-widgets/controls",
            "layout": "IPY_MODEL_d812e1b897c04239b9bbfb3c0ba808b5"
          }
        },
        "dee76eafe9b84332923ab9d5d5fa9013": {
          "model_module": "@jupyter-widgets/controls",
          "model_name": "FloatProgressModel",
          "model_module_version": "1.5.0",
          "state": {
            "_view_name": "ProgressView",
            "style": "IPY_MODEL_1858318a1e8a4b8db85fdb472a7c65ce",
            "_dom_classes": [],
            "description": "",
            "_model_name": "FloatProgressModel",
            "bar_style": "success",
            "max": 6,
            "_view_module": "@jupyter-widgets/controls",
            "_model_module_version": "1.5.0",
            "value": 6,
            "_view_count": null,
            "_view_module_version": "1.5.0",
            "orientation": "horizontal",
            "min": 0,
            "description_tooltip": null,
            "_model_module": "@jupyter-widgets/controls",
            "layout": "IPY_MODEL_329c9e5841e944e398eb6d6d434aca2c"
          }
        },
        "eeae2fedd8d24313b2c1a7e6e8641e2b": {
          "model_module": "@jupyter-widgets/controls",
          "model_name": "HTMLModel",
          "model_module_version": "1.5.0",
          "state": {
            "_view_name": "HTMLView",
            "style": "IPY_MODEL_e4bd2ec80fa446afad210064df12c195",
            "_dom_classes": [],
            "description": "",
            "_model_name": "HTMLModel",
            "placeholder": "​",
            "_view_module": "@jupyter-widgets/controls",
            "_model_module_version": "1.5.0",
            "value": " 6/6 [00:05&lt;00:00,  1.29ba/s]",
            "_view_count": null,
            "_view_module_version": "1.5.0",
            "description_tooltip": null,
            "_model_module": "@jupyter-widgets/controls",
            "layout": "IPY_MODEL_55a75c86490b4c5da47a3f4460afd1cb"
          }
        },
        "1336253e22594cbfb1c3c1e20121e304": {
          "model_module": "@jupyter-widgets/controls",
          "model_name": "DescriptionStyleModel",
          "model_module_version": "1.5.0",
          "state": {
            "_view_name": "StyleView",
            "_model_name": "DescriptionStyleModel",
            "description_width": "",
            "_view_module": "@jupyter-widgets/base",
            "_model_module_version": "1.5.0",
            "_view_count": null,
            "_view_module_version": "1.2.0",
            "_model_module": "@jupyter-widgets/controls"
          }
        },
        "d812e1b897c04239b9bbfb3c0ba808b5": {
          "model_module": "@jupyter-widgets/base",
          "model_name": "LayoutModel",
          "model_module_version": "1.2.0",
          "state": {
            "_view_name": "LayoutView",
            "grid_template_rows": null,
            "right": null,
            "justify_content": null,
            "_view_module": "@jupyter-widgets/base",
            "overflow": null,
            "_model_module_version": "1.2.0",
            "_view_count": null,
            "flex_flow": null,
            "width": null,
            "min_width": null,
            "border": null,
            "align_items": null,
            "bottom": null,
            "_model_module": "@jupyter-widgets/base",
            "top": null,
            "grid_column": null,
            "overflow_y": null,
            "overflow_x": null,
            "grid_auto_flow": null,
            "grid_area": null,
            "grid_template_columns": null,
            "flex": null,
            "_model_name": "LayoutModel",
            "justify_items": null,
            "grid_row": null,
            "max_height": null,
            "align_content": null,
            "visibility": null,
            "align_self": null,
            "height": null,
            "min_height": null,
            "padding": null,
            "grid_auto_rows": null,
            "grid_gap": null,
            "max_width": null,
            "order": null,
            "_view_module_version": "1.2.0",
            "grid_template_areas": null,
            "object_position": null,
            "object_fit": null,
            "grid_auto_columns": null,
            "margin": null,
            "display": null,
            "left": null
          }
        },
        "1858318a1e8a4b8db85fdb472a7c65ce": {
          "model_module": "@jupyter-widgets/controls",
          "model_name": "ProgressStyleModel",
          "model_module_version": "1.5.0",
          "state": {
            "_view_name": "StyleView",
            "_model_name": "ProgressStyleModel",
            "description_width": "",
            "_view_module": "@jupyter-widgets/base",
            "_model_module_version": "1.5.0",
            "_view_count": null,
            "_view_module_version": "1.2.0",
            "bar_color": null,
            "_model_module": "@jupyter-widgets/controls"
          }
        },
        "329c9e5841e944e398eb6d6d434aca2c": {
          "model_module": "@jupyter-widgets/base",
          "model_name": "LayoutModel",
          "model_module_version": "1.2.0",
          "state": {
            "_view_name": "LayoutView",
            "grid_template_rows": null,
            "right": null,
            "justify_content": null,
            "_view_module": "@jupyter-widgets/base",
            "overflow": null,
            "_model_module_version": "1.2.0",
            "_view_count": null,
            "flex_flow": null,
            "width": null,
            "min_width": null,
            "border": null,
            "align_items": null,
            "bottom": null,
            "_model_module": "@jupyter-widgets/base",
            "top": null,
            "grid_column": null,
            "overflow_y": null,
            "overflow_x": null,
            "grid_auto_flow": null,
            "grid_area": null,
            "grid_template_columns": null,
            "flex": null,
            "_model_name": "LayoutModel",
            "justify_items": null,
            "grid_row": null,
            "max_height": null,
            "align_content": null,
            "visibility": null,
            "align_self": null,
            "height": null,
            "min_height": null,
            "padding": null,
            "grid_auto_rows": null,
            "grid_gap": null,
            "max_width": null,
            "order": null,
            "_view_module_version": "1.2.0",
            "grid_template_areas": null,
            "object_position": null,
            "object_fit": null,
            "grid_auto_columns": null,
            "margin": null,
            "display": null,
            "left": null
          }
        },
        "e4bd2ec80fa446afad210064df12c195": {
          "model_module": "@jupyter-widgets/controls",
          "model_name": "DescriptionStyleModel",
          "model_module_version": "1.5.0",
          "state": {
            "_view_name": "StyleView",
            "_model_name": "DescriptionStyleModel",
            "description_width": "",
            "_view_module": "@jupyter-widgets/base",
            "_model_module_version": "1.5.0",
            "_view_count": null,
            "_view_module_version": "1.2.0",
            "_model_module": "@jupyter-widgets/controls"
          }
        },
        "55a75c86490b4c5da47a3f4460afd1cb": {
          "model_module": "@jupyter-widgets/base",
          "model_name": "LayoutModel",
          "model_module_version": "1.2.0",
          "state": {
            "_view_name": "LayoutView",
            "grid_template_rows": null,
            "right": null,
            "justify_content": null,
            "_view_module": "@jupyter-widgets/base",
            "overflow": null,
            "_model_module_version": "1.2.0",
            "_view_count": null,
            "flex_flow": null,
            "width": null,
            "min_width": null,
            "border": null,
            "align_items": null,
            "bottom": null,
            "_model_module": "@jupyter-widgets/base",
            "top": null,
            "grid_column": null,
            "overflow_y": null,
            "overflow_x": null,
            "grid_auto_flow": null,
            "grid_area": null,
            "grid_template_columns": null,
            "flex": null,
            "_model_name": "LayoutModel",
            "justify_items": null,
            "grid_row": null,
            "max_height": null,
            "align_content": null,
            "visibility": null,
            "align_self": null,
            "height": null,
            "min_height": null,
            "padding": null,
            "grid_auto_rows": null,
            "grid_gap": null,
            "max_width": null,
            "order": null,
            "_view_module_version": "1.2.0",
            "grid_template_areas": null,
            "object_position": null,
            "object_fit": null,
            "grid_auto_columns": null,
            "margin": null,
            "display": null,
            "left": null
          }
        },
        "ef2be8675a254f5eb18e7c40f165ba01": {
          "model_module": "@jupyter-widgets/controls",
          "model_name": "HBoxModel",
          "model_module_version": "1.5.0",
          "state": {
            "_view_name": "HBoxView",
            "_dom_classes": [],
            "_model_name": "HBoxModel",
            "_view_module": "@jupyter-widgets/controls",
            "_model_module_version": "1.5.0",
            "_view_count": null,
            "_view_module_version": "1.5.0",
            "box_style": "",
            "layout": "IPY_MODEL_da5df16d406744f7aaafb3dad20ecb8c",
            "_model_module": "@jupyter-widgets/controls",
            "children": [
              "IPY_MODEL_80e28ecf808c456998e797c572f7e6eb",
              "IPY_MODEL_8880b54f64a54633be01af0fa14fbdb3",
              "IPY_MODEL_796173d25d6743a7a2c881cd5b8bc53c"
            ]
          }
        },
        "da5df16d406744f7aaafb3dad20ecb8c": {
          "model_module": "@jupyter-widgets/base",
          "model_name": "LayoutModel",
          "model_module_version": "1.2.0",
          "state": {
            "_view_name": "LayoutView",
            "grid_template_rows": null,
            "right": null,
            "justify_content": null,
            "_view_module": "@jupyter-widgets/base",
            "overflow": null,
            "_model_module_version": "1.2.0",
            "_view_count": null,
            "flex_flow": null,
            "width": null,
            "min_width": null,
            "border": null,
            "align_items": null,
            "bottom": null,
            "_model_module": "@jupyter-widgets/base",
            "top": null,
            "grid_column": null,
            "overflow_y": null,
            "overflow_x": null,
            "grid_auto_flow": null,
            "grid_area": null,
            "grid_template_columns": null,
            "flex": null,
            "_model_name": "LayoutModel",
            "justify_items": null,
            "grid_row": null,
            "max_height": null,
            "align_content": null,
            "visibility": null,
            "align_self": null,
            "height": null,
            "min_height": null,
            "padding": null,
            "grid_auto_rows": null,
            "grid_gap": null,
            "max_width": null,
            "order": null,
            "_view_module_version": "1.2.0",
            "grid_template_areas": null,
            "object_position": null,
            "object_fit": null,
            "grid_auto_columns": null,
            "margin": null,
            "display": null,
            "left": null
          }
        },
        "80e28ecf808c456998e797c572f7e6eb": {
          "model_module": "@jupyter-widgets/controls",
          "model_name": "HTMLModel",
          "model_module_version": "1.5.0",
          "state": {
            "_view_name": "HTMLView",
            "style": "IPY_MODEL_dfa94e788e23421bb2c903eade372f0d",
            "_dom_classes": [],
            "description": "",
            "_model_name": "HTMLModel",
            "placeholder": "​",
            "_view_module": "@jupyter-widgets/controls",
            "_model_module_version": "1.5.0",
            "value": "Downloading: 100%",
            "_view_count": null,
            "_view_module_version": "1.5.0",
            "description_tooltip": null,
            "_model_module": "@jupyter-widgets/controls",
            "layout": "IPY_MODEL_a90d4958f2b04b48bf6d5fa09c5a9922"
          }
        },
        "8880b54f64a54633be01af0fa14fbdb3": {
          "model_module": "@jupyter-widgets/controls",
          "model_name": "FloatProgressModel",
          "model_module_version": "1.5.0",
          "state": {
            "_view_name": "ProgressView",
            "style": "IPY_MODEL_c4033621bdea47a5acdff1a868241bde",
            "_dom_classes": [],
            "description": "",
            "_model_name": "FloatProgressModel",
            "bar_style": "success",
            "max": 714314041,
            "_view_module": "@jupyter-widgets/controls",
            "_model_module_version": "1.5.0",
            "value": 714314041,
            "_view_count": null,
            "_view_module_version": "1.5.0",
            "orientation": "horizontal",
            "min": 0,
            "description_tooltip": null,
            "_model_module": "@jupyter-widgets/controls",
            "layout": "IPY_MODEL_13a41bc9936b4e8bac06b0809ee4ff0b"
          }
        },
        "796173d25d6743a7a2c881cd5b8bc53c": {
          "model_module": "@jupyter-widgets/controls",
          "model_name": "HTMLModel",
          "model_module_version": "1.5.0",
          "state": {
            "_view_name": "HTMLView",
            "style": "IPY_MODEL_b35473991668464981c62765d256ba60",
            "_dom_classes": [],
            "description": "",
            "_model_name": "HTMLModel",
            "placeholder": "​",
            "_view_module": "@jupyter-widgets/controls",
            "_model_module_version": "1.5.0",
            "value": " 681M/681M [00:29&lt;00:00, 34.7MB/s]",
            "_view_count": null,
            "_view_module_version": "1.5.0",
            "description_tooltip": null,
            "_model_module": "@jupyter-widgets/controls",
            "layout": "IPY_MODEL_cca607aea10644609a408fb9c9036813"
          }
        },
        "dfa94e788e23421bb2c903eade372f0d": {
          "model_module": "@jupyter-widgets/controls",
          "model_name": "DescriptionStyleModel",
          "model_module_version": "1.5.0",
          "state": {
            "_view_name": "StyleView",
            "_model_name": "DescriptionStyleModel",
            "description_width": "",
            "_view_module": "@jupyter-widgets/base",
            "_model_module_version": "1.5.0",
            "_view_count": null,
            "_view_module_version": "1.2.0",
            "_model_module": "@jupyter-widgets/controls"
          }
        },
        "a90d4958f2b04b48bf6d5fa09c5a9922": {
          "model_module": "@jupyter-widgets/base",
          "model_name": "LayoutModel",
          "model_module_version": "1.2.0",
          "state": {
            "_view_name": "LayoutView",
            "grid_template_rows": null,
            "right": null,
            "justify_content": null,
            "_view_module": "@jupyter-widgets/base",
            "overflow": null,
            "_model_module_version": "1.2.0",
            "_view_count": null,
            "flex_flow": null,
            "width": null,
            "min_width": null,
            "border": null,
            "align_items": null,
            "bottom": null,
            "_model_module": "@jupyter-widgets/base",
            "top": null,
            "grid_column": null,
            "overflow_y": null,
            "overflow_x": null,
            "grid_auto_flow": null,
            "grid_area": null,
            "grid_template_columns": null,
            "flex": null,
            "_model_name": "LayoutModel",
            "justify_items": null,
            "grid_row": null,
            "max_height": null,
            "align_content": null,
            "visibility": null,
            "align_self": null,
            "height": null,
            "min_height": null,
            "padding": null,
            "grid_auto_rows": null,
            "grid_gap": null,
            "max_width": null,
            "order": null,
            "_view_module_version": "1.2.0",
            "grid_template_areas": null,
            "object_position": null,
            "object_fit": null,
            "grid_auto_columns": null,
            "margin": null,
            "display": null,
            "left": null
          }
        },
        "c4033621bdea47a5acdff1a868241bde": {
          "model_module": "@jupyter-widgets/controls",
          "model_name": "ProgressStyleModel",
          "model_module_version": "1.5.0",
          "state": {
            "_view_name": "StyleView",
            "_model_name": "ProgressStyleModel",
            "description_width": "",
            "_view_module": "@jupyter-widgets/base",
            "_model_module_version": "1.5.0",
            "_view_count": null,
            "_view_module_version": "1.2.0",
            "bar_color": null,
            "_model_module": "@jupyter-widgets/controls"
          }
        },
        "13a41bc9936b4e8bac06b0809ee4ff0b": {
          "model_module": "@jupyter-widgets/base",
          "model_name": "LayoutModel",
          "model_module_version": "1.2.0",
          "state": {
            "_view_name": "LayoutView",
            "grid_template_rows": null,
            "right": null,
            "justify_content": null,
            "_view_module": "@jupyter-widgets/base",
            "overflow": null,
            "_model_module_version": "1.2.0",
            "_view_count": null,
            "flex_flow": null,
            "width": null,
            "min_width": null,
            "border": null,
            "align_items": null,
            "bottom": null,
            "_model_module": "@jupyter-widgets/base",
            "top": null,
            "grid_column": null,
            "overflow_y": null,
            "overflow_x": null,
            "grid_auto_flow": null,
            "grid_area": null,
            "grid_template_columns": null,
            "flex": null,
            "_model_name": "LayoutModel",
            "justify_items": null,
            "grid_row": null,
            "max_height": null,
            "align_content": null,
            "visibility": null,
            "align_self": null,
            "height": null,
            "min_height": null,
            "padding": null,
            "grid_auto_rows": null,
            "grid_gap": null,
            "max_width": null,
            "order": null,
            "_view_module_version": "1.2.0",
            "grid_template_areas": null,
            "object_position": null,
            "object_fit": null,
            "grid_auto_columns": null,
            "margin": null,
            "display": null,
            "left": null
          }
        },
        "b35473991668464981c62765d256ba60": {
          "model_module": "@jupyter-widgets/controls",
          "model_name": "DescriptionStyleModel",
          "model_module_version": "1.5.0",
          "state": {
            "_view_name": "StyleView",
            "_model_name": "DescriptionStyleModel",
            "description_width": "",
            "_view_module": "@jupyter-widgets/base",
            "_model_module_version": "1.5.0",
            "_view_count": null,
            "_view_module_version": "1.2.0",
            "_model_module": "@jupyter-widgets/controls"
          }
        },
        "cca607aea10644609a408fb9c9036813": {
          "model_module": "@jupyter-widgets/base",
          "model_name": "LayoutModel",
          "model_module_version": "1.2.0",
          "state": {
            "_view_name": "LayoutView",
            "grid_template_rows": null,
            "right": null,
            "justify_content": null,
            "_view_module": "@jupyter-widgets/base",
            "overflow": null,
            "_model_module_version": "1.2.0",
            "_view_count": null,
            "flex_flow": null,
            "width": null,
            "min_width": null,
            "border": null,
            "align_items": null,
            "bottom": null,
            "_model_module": "@jupyter-widgets/base",
            "top": null,
            "grid_column": null,
            "overflow_y": null,
            "overflow_x": null,
            "grid_auto_flow": null,
            "grid_area": null,
            "grid_template_columns": null,
            "flex": null,
            "_model_name": "LayoutModel",
            "justify_items": null,
            "grid_row": null,
            "max_height": null,
            "align_content": null,
            "visibility": null,
            "align_self": null,
            "height": null,
            "min_height": null,
            "padding": null,
            "grid_auto_rows": null,
            "grid_gap": null,
            "max_width": null,
            "order": null,
            "_view_module_version": "1.2.0",
            "grid_template_areas": null,
            "object_position": null,
            "object_fit": null,
            "grid_auto_columns": null,
            "margin": null,
            "display": null,
            "left": null
          }
        },
        "8ad1562ab0964039a22d3b110abf8858": {
          "model_module": "@jupyter-widgets/controls",
          "model_name": "HBoxModel",
          "model_module_version": "1.5.0",
          "state": {
            "_view_name": "HBoxView",
            "_dom_classes": [],
            "_model_name": "HBoxModel",
            "_view_module": "@jupyter-widgets/controls",
            "_model_module_version": "1.5.0",
            "_view_count": null,
            "_view_module_version": "1.5.0",
            "box_style": "",
            "layout": "IPY_MODEL_5560d258d033407a97c7ef428e392954",
            "_model_module": "@jupyter-widgets/controls",
            "children": [
              "IPY_MODEL_6f013f8ad8d74da19e16d318363c7480",
              "IPY_MODEL_5496f17de69a47a68c270026fd94345e",
              "IPY_MODEL_1c7f53c7049a4916a10a81a444b0e06c"
            ]
          }
        },
        "5560d258d033407a97c7ef428e392954": {
          "model_module": "@jupyter-widgets/base",
          "model_name": "LayoutModel",
          "model_module_version": "1.2.0",
          "state": {
            "_view_name": "LayoutView",
            "grid_template_rows": null,
            "right": null,
            "justify_content": null,
            "_view_module": "@jupyter-widgets/base",
            "overflow": null,
            "_model_module_version": "1.2.0",
            "_view_count": null,
            "flex_flow": null,
            "width": null,
            "min_width": null,
            "border": null,
            "align_items": null,
            "bottom": null,
            "_model_module": "@jupyter-widgets/base",
            "top": null,
            "grid_column": null,
            "overflow_y": null,
            "overflow_x": null,
            "grid_auto_flow": null,
            "grid_area": null,
            "grid_template_columns": null,
            "flex": null,
            "_model_name": "LayoutModel",
            "justify_items": null,
            "grid_row": null,
            "max_height": null,
            "align_content": null,
            "visibility": null,
            "align_self": null,
            "height": null,
            "min_height": null,
            "padding": null,
            "grid_auto_rows": null,
            "grid_gap": null,
            "max_width": null,
            "order": null,
            "_view_module_version": "1.2.0",
            "grid_template_areas": null,
            "object_position": null,
            "object_fit": null,
            "grid_auto_columns": null,
            "margin": null,
            "display": null,
            "left": null
          }
        },
        "6f013f8ad8d74da19e16d318363c7480": {
          "model_module": "@jupyter-widgets/controls",
          "model_name": "HTMLModel",
          "model_module_version": "1.5.0",
          "state": {
            "_view_name": "HTMLView",
            "style": "IPY_MODEL_57eda896201e4dff9776ee14311f3cec",
            "_dom_classes": [],
            "description": "",
            "_model_name": "HTMLModel",
            "placeholder": "​",
            "_view_module": "@jupyter-widgets/controls",
            "_model_module_version": "1.5.0",
            "value": "Downloading: ",
            "_view_count": null,
            "_view_module_version": "1.5.0",
            "description_tooltip": null,
            "_model_module": "@jupyter-widgets/controls",
            "layout": "IPY_MODEL_ab213b43b2204b4dbc8f80b240b0700f"
          }
        },
        "5496f17de69a47a68c270026fd94345e": {
          "model_module": "@jupyter-widgets/controls",
          "model_name": "FloatProgressModel",
          "model_module_version": "1.5.0",
          "state": {
            "_view_name": "ProgressView",
            "style": "IPY_MODEL_c9eab0a91aac4fe095a486ad29e45e25",
            "_dom_classes": [],
            "description": "",
            "_model_name": "FloatProgressModel",
            "bar_style": "success",
            "max": 1411,
            "_view_module": "@jupyter-widgets/controls",
            "_model_module_version": "1.5.0",
            "value": 1411,
            "_view_count": null,
            "_view_module_version": "1.5.0",
            "orientation": "horizontal",
            "min": 0,
            "description_tooltip": null,
            "_model_module": "@jupyter-widgets/controls",
            "layout": "IPY_MODEL_9532fb3af2c2476a9fba10add3625bd0"
          }
        },
        "1c7f53c7049a4916a10a81a444b0e06c": {
          "model_module": "@jupyter-widgets/controls",
          "model_name": "HTMLModel",
          "model_module_version": "1.5.0",
          "state": {
            "_view_name": "HTMLView",
            "style": "IPY_MODEL_024f3bed58eb4226ac6ded9e7ef5a52f",
            "_dom_classes": [],
            "description": "",
            "_model_name": "HTMLModel",
            "placeholder": "​",
            "_view_module": "@jupyter-widgets/controls",
            "_model_module_version": "1.5.0",
            "value": " 3.19k/? [00:00&lt;00:00, 67.4kB/s]",
            "_view_count": null,
            "_view_module_version": "1.5.0",
            "description_tooltip": null,
            "_model_module": "@jupyter-widgets/controls",
            "layout": "IPY_MODEL_0fe0457d9231422bbaa8ebbd749b97ec"
          }
        },
        "57eda896201e4dff9776ee14311f3cec": {
          "model_module": "@jupyter-widgets/controls",
          "model_name": "DescriptionStyleModel",
          "model_module_version": "1.5.0",
          "state": {
            "_view_name": "StyleView",
            "_model_name": "DescriptionStyleModel",
            "description_width": "",
            "_view_module": "@jupyter-widgets/base",
            "_model_module_version": "1.5.0",
            "_view_count": null,
            "_view_module_version": "1.2.0",
            "_model_module": "@jupyter-widgets/controls"
          }
        },
        "ab213b43b2204b4dbc8f80b240b0700f": {
          "model_module": "@jupyter-widgets/base",
          "model_name": "LayoutModel",
          "model_module_version": "1.2.0",
          "state": {
            "_view_name": "LayoutView",
            "grid_template_rows": null,
            "right": null,
            "justify_content": null,
            "_view_module": "@jupyter-widgets/base",
            "overflow": null,
            "_model_module_version": "1.2.0",
            "_view_count": null,
            "flex_flow": null,
            "width": null,
            "min_width": null,
            "border": null,
            "align_items": null,
            "bottom": null,
            "_model_module": "@jupyter-widgets/base",
            "top": null,
            "grid_column": null,
            "overflow_y": null,
            "overflow_x": null,
            "grid_auto_flow": null,
            "grid_area": null,
            "grid_template_columns": null,
            "flex": null,
            "_model_name": "LayoutModel",
            "justify_items": null,
            "grid_row": null,
            "max_height": null,
            "align_content": null,
            "visibility": null,
            "align_self": null,
            "height": null,
            "min_height": null,
            "padding": null,
            "grid_auto_rows": null,
            "grid_gap": null,
            "max_width": null,
            "order": null,
            "_view_module_version": "1.2.0",
            "grid_template_areas": null,
            "object_position": null,
            "object_fit": null,
            "grid_auto_columns": null,
            "margin": null,
            "display": null,
            "left": null
          }
        },
        "c9eab0a91aac4fe095a486ad29e45e25": {
          "model_module": "@jupyter-widgets/controls",
          "model_name": "ProgressStyleModel",
          "model_module_version": "1.5.0",
          "state": {
            "_view_name": "StyleView",
            "_model_name": "ProgressStyleModel",
            "description_width": "",
            "_view_module": "@jupyter-widgets/base",
            "_model_module_version": "1.5.0",
            "_view_count": null,
            "_view_module_version": "1.2.0",
            "bar_color": null,
            "_model_module": "@jupyter-widgets/controls"
          }
        },
        "9532fb3af2c2476a9fba10add3625bd0": {
          "model_module": "@jupyter-widgets/base",
          "model_name": "LayoutModel",
          "model_module_version": "1.2.0",
          "state": {
            "_view_name": "LayoutView",
            "grid_template_rows": null,
            "right": null,
            "justify_content": null,
            "_view_module": "@jupyter-widgets/base",
            "overflow": null,
            "_model_module_version": "1.2.0",
            "_view_count": null,
            "flex_flow": null,
            "width": null,
            "min_width": null,
            "border": null,
            "align_items": null,
            "bottom": null,
            "_model_module": "@jupyter-widgets/base",
            "top": null,
            "grid_column": null,
            "overflow_y": null,
            "overflow_x": null,
            "grid_auto_flow": null,
            "grid_area": null,
            "grid_template_columns": null,
            "flex": null,
            "_model_name": "LayoutModel",
            "justify_items": null,
            "grid_row": null,
            "max_height": null,
            "align_content": null,
            "visibility": null,
            "align_self": null,
            "height": null,
            "min_height": null,
            "padding": null,
            "grid_auto_rows": null,
            "grid_gap": null,
            "max_width": null,
            "order": null,
            "_view_module_version": "1.2.0",
            "grid_template_areas": null,
            "object_position": null,
            "object_fit": null,
            "grid_auto_columns": null,
            "margin": null,
            "display": null,
            "left": null
          }
        },
        "024f3bed58eb4226ac6ded9e7ef5a52f": {
          "model_module": "@jupyter-widgets/controls",
          "model_name": "DescriptionStyleModel",
          "model_module_version": "1.5.0",
          "state": {
            "_view_name": "StyleView",
            "_model_name": "DescriptionStyleModel",
            "description_width": "",
            "_view_module": "@jupyter-widgets/base",
            "_model_module_version": "1.5.0",
            "_view_count": null,
            "_view_module_version": "1.2.0",
            "_model_module": "@jupyter-widgets/controls"
          }
        },
        "0fe0457d9231422bbaa8ebbd749b97ec": {
          "model_module": "@jupyter-widgets/base",
          "model_name": "LayoutModel",
          "model_module_version": "1.2.0",
          "state": {
            "_view_name": "LayoutView",
            "grid_template_rows": null,
            "right": null,
            "justify_content": null,
            "_view_module": "@jupyter-widgets/base",
            "overflow": null,
            "_model_module_version": "1.2.0",
            "_view_count": null,
            "flex_flow": null,
            "width": null,
            "min_width": null,
            "border": null,
            "align_items": null,
            "bottom": null,
            "_model_module": "@jupyter-widgets/base",
            "top": null,
            "grid_column": null,
            "overflow_y": null,
            "overflow_x": null,
            "grid_auto_flow": null,
            "grid_area": null,
            "grid_template_columns": null,
            "flex": null,
            "_model_name": "LayoutModel",
            "justify_items": null,
            "grid_row": null,
            "max_height": null,
            "align_content": null,
            "visibility": null,
            "align_self": null,
            "height": null,
            "min_height": null,
            "padding": null,
            "grid_auto_rows": null,
            "grid_gap": null,
            "max_width": null,
            "order": null,
            "_view_module_version": "1.2.0",
            "grid_template_areas": null,
            "object_position": null,
            "object_fit": null,
            "grid_auto_columns": null,
            "margin": null,
            "display": null,
            "left": null
          }
        }
      }
    }
  },
  "nbformat": 4,
  "nbformat_minor": 0
}